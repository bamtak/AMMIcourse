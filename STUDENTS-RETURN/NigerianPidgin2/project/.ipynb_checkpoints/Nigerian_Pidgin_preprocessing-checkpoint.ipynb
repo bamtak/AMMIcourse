{
 "cells": [
  {
   "cell_type": "code",
   "execution_count": 46,
   "metadata": {},
   "outputs": [],
   "source": [
    "import os\n",
    "from random import randint, uniform\n",
    "import re\n",
    "import numpy as np\n",
    "import wave\n",
    "import contextlib\n"
   ]
  },
  {
   "cell_type": "markdown",
   "metadata": {},
   "source": [
    "## Calculating recordings lengths"
   ]
  },
  {
   "cell_type": "code",
   "execution_count": 47,
   "metadata": {},
   "outputs": [
    {
     "name": "stdout",
     "output_type": "stream",
     "text": [
      "We have a total of  7948.633687500008  seconds ,  2.2079538020833356  hours\n"
     ]
    }
   ],
   "source": [
    "\n",
    "total = 0\n",
    "corrupted=0\n",
    "files=0\n",
    "for directory in os.listdir(\"./sections/\"):\n",
    "    if os.path.isdir(\"./sections/\"+directory):\n",
    "        for file in os.listdir(\"./sections/\"+directory):\n",
    "            if file.endswith(\".wav\"):\n",
    "                files+=1\n",
    "                fname = \"./sections/\"+directory+\"/\"+file\n",
    "                try:\n",
    "                    with contextlib.closing(wave.open(fname,'r')) as f:\n",
    "                        frames = f.getnframes()\n",
    "                        rate = f.getframerate()\n",
    "                        duration = frames / float(rate)\n",
    "                        total+=duration\n",
    "                except Exception as e:\n",
    "                    corrupted+=1\n",
    "\n",
    "print(\"We have a total of \",total,\" seconds\",\", \",total/(60*60),\" hours\")"
   ]
  },
  {
   "cell_type": "code",
   "execution_count": 55,
   "metadata": {},
   "outputs": [
    {
     "name": "stdout",
     "output_type": "stream",
     "text": [
      "This is the whole files: 1035\n",
      "The corrupted ones are: 90\n"
     ]
    }
   ],
   "source": [
    "print('This is the whole files:',files)\n",
    "print('The corrupted ones are:' , corrupted)"
   ]
  },
  {
   "cell_type": "markdown",
   "metadata": {},
   "source": [
    "# Organizing data"
   ]
  },
  {
   "cell_type": "markdown",
   "metadata": {},
   "source": [
    "### spliting records to train, val and test sets"
   ]
  },
  {
   "cell_type": "code",
   "execution_count": 56,
   "metadata": {},
   "outputs": [
    {
     "name": "stdout",
     "output_type": "stream",
     "text": [
      "mkdir: cannot create directory ‘data’: File exists\n",
      "mkdir: cannot create directory ‘data/records’: File exists\n"
     ]
    }
   ],
   "source": [
    "!mkdir data\n",
    "!mkdir data/records"
   ]
  },
  {
   "cell_type": "code",
   "execution_count": 57,
   "metadata": {},
   "outputs": [],
   "source": [
    "# Extracting all the non-corrupted files\n",
    "wav_files = []\n",
    "all_linkers  = dict()\n",
    "for directory in os.listdir(\"./sections/\"): # parent directory of the recordings, it should contain folders that contain wav,json and txt files\n",
    "    if os.path.isdir(\"./sections/\"+directory):\n",
    "        to_remove = []\n",
    "        linker = []\n",
    "\n",
    "        for file in os.listdir(\"./sections/\"+directory):\n",
    "            if file.endswith(\".txt\"):\n",
    "                linker_data = open(\"./sections/\"+directory+\"/\"+file).readlines()\n",
    "                \n",
    "            if file.endswith(\".wav\"):\n",
    "                fname = \"./sections/\"+directory+\"/\"+file\n",
    "                try:\n",
    "                    with contextlib.closing(wave.open(fname,'r')) as f:\n",
    "                        frames = f.getnframes()\n",
    "                        rate = f.getframerate()\n",
    "                        duration = frames / float(rate)\n",
    "                        wav_files.append(fname)\n",
    "                except Exception as e:\n",
    "                    to_remove.append(file)\n",
    "        for file in to_remove:\n",
    "            i=0\n",
    "            while i<len(linker_data):\n",
    "                if file in linker_data[i]:\n",
    "                    linker_data.pop(i)\n",
    "                i+=1\n",
    "        linker.extend(linker_data)\n",
    "        all_linkers[directory] =linker\n",
    "        \n",
    "\n",
    "            "
   ]
  },
  {
   "cell_type": "code",
   "execution_count": 58,
   "metadata": {},
   "outputs": [
    {
     "data": {
      "text/plain": [
       "dict_keys(['section_15', 'section_2', 'section_16', 'section_7', 'section_9', 'section_8', 'section_17', 'section_4', 'section_6', 'section_14', 'section_19', 'section_20', 'section_13', 'section_12', 'section_5', 'section_10', 'section_11', 'section_1', 'section_18', 'section_3'])"
      ]
     },
     "execution_count": 58,
     "metadata": {},
     "output_type": "execute_result"
    }
   ],
   "source": [
    "all_linkers.keys()"
   ]
  },
  {
   "cell_type": "code",
   "execution_count": 64,
   "metadata": {},
   "outputs": [
    {
     "name": "stdout",
     "output_type": "stream",
     "text": [
      "After removing the corrupted files, we have 945 .wav files left. \n"
     ]
    }
   ],
   "source": [
    "print(\"After removing the corrupted files, we have {} .wav files left. \" . format(len(wav_files)))"
   ]
  },
  {
   "cell_type": "code",
   "execution_count": 65,
   "metadata": {},
   "outputs": [],
   "source": [
    "to_copy = \" \".join(wav_files)\n",
    "!cp -t data/records/ {to_copy}"
   ]
  },
  {
   "cell_type": "code",
   "execution_count": 66,
   "metadata": {},
   "outputs": [],
   "source": [
    "for section,linker in all_linkers.items():\n",
    "    for i,link in enumerate(linker):\n",
    "        line = link.split(\";\")[0].split(\"(\")[1].split(\")\")[0].strip()\n",
    "        wav = link.split(\";\")[1].strip().split(\"/\")[-1]\n",
    "        linker[i] = wav+\":\"+line\n"
   ]
  },
  {
   "cell_type": "code",
   "execution_count": 67,
   "metadata": {},
   "outputs": [],
   "source": [
    "out_linker = open(\"./data/linker.txt\",\"w\")\n",
    "out_linker.write(\"\\n\".join(linker))\n",
    "out_linker.close()"
   ]
  },
  {
   "cell_type": "code",
   "execution_count": 68,
   "metadata": {},
   "outputs": [],
   "source": [
    "!mkdir ./data/records/train\n",
    "!mkdir ./data/records/test\n",
    "!mkdir ./data/records/val\n"
   ]
  },
  {
   "cell_type": "code",
   "execution_count": 69,
   "metadata": {},
   "outputs": [],
   "source": [
    "import numpy as np\n",
    "np.random.seed(0)\n",
    "indices = np.random.permutation(len(wav_files))\n",
    "\n",
    "test_idx = indices[:len(indices)//2]\n",
    "validation_portion = int(len(indices)//2 * 0.2)\n",
    "train_idx = indices[len(indices)//2:-validation_portion]\n",
    "valid_idx = indices[-validation_portion:]"
   ]
  },
  {
   "cell_type": "code",
   "execution_count": 70,
   "metadata": {},
   "outputs": [],
   "source": [
    "train_set_files = [wav_files[i].split(\"/\")[-1] for i in train_idx]\n",
    "valid_set_files = [wav_files[i].split(\"/\")[-1] for i in valid_idx]\n",
    "test_set_files = [wav_files[i].split(\"/\")[-1] for i in test_idx]"
   ]
  },
  {
   "cell_type": "code",
   "execution_count": 71,
   "metadata": {},
   "outputs": [],
   "source": [
    "to_copy_train = \"./data/records/\" + \" ./data/records/\".join(train_set_files)\n",
    "to_copy_valid = \"./data/records/\" + \" ./data/records/\".join(valid_set_files)\n",
    "to_copy_test = \"./data/records/\" + \" ./data/records/\".join(test_set_files)"
   ]
  },
  {
   "cell_type": "code",
   "execution_count": 72,
   "metadata": {},
   "outputs": [],
   "source": [
    "!mv -t data/records/train/ {to_copy_train}\n",
    "!mv -t data/records/val/ {to_copy_valid}\n",
    "!mv -t data/records/test/ {to_copy_test}"
   ]
  },
  {
   "cell_type": "markdown",
   "metadata": {},
   "source": [
    "### making of chars.txt file"
   ]
  },
  {
   "cell_type": "code",
   "execution_count": 73,
   "metadata": {},
   "outputs": [],
   "source": [
    "import re\n",
    "chars = {\" \":1,\"ε\":0}\n",
    "text_data = []\n",
    "char_idx = 2\n",
    "for section_id,linker in all_linkers.items():\n",
    "    section_id = re.sub(\"_\",\"\",section_id)+\".txt\"\n",
    "    text_file = open(\"./text_files/\"+section_id,\"r\").readlines() # Modify this to the directory of your txt file that you recorded with\n",
    "    \n",
    "    for link in linker:\n",
    "        file,idx = link.split(\":\")[0],int(link.split(\":\")[1].split(\" \")[1])-1\n",
    "        line = text_file[idx]\n",
    "        line = line.split(\"##\")[0].strip()\n",
    "        #line = re.sub(\"[\\[\\]|٪%«»_ـ]\",\"\",line) # Clean unnecessary characters from the data, this is for arabic\n",
    "        line = re.sub(\"[—\\u200b]\",\"\",line) # Clean unnecessary characters from the data, this is for arabic\n",
    "        text_data.append((line,file.split(\".\")[0]))\n",
    "        char_set = set(line)\n",
    "        for c in char_set:\n",
    "            if c not in chars:\n",
    "                chars[c]=char_idx\n",
    "                char_idx+=1\n",
    "            \n",
    "    "
   ]
  },
  {
   "cell_type": "code",
   "execution_count": 74,
   "metadata": {
    "scrolled": true
   },
   "outputs": [],
   "source": [
    "raw_text = \"\\n\".join([wav+\":\"+line for line,wav in text_data])\n",
    "with open(\"data/raw_text_file.txt\",\"w\") as f:\n",
    "    f.write(raw_text)\n"
   ]
  },
  {
   "cell_type": "code",
   "execution_count": 75,
   "metadata": {},
   "outputs": [],
   "source": [
    "indices_text = []\n",
    "for line,wav in text_data:\n",
    "    line = list(line)\n",
    "    indicies = []\n",
    "    for c in line:\n",
    "        indicies.append(str(chars[c]))\n",
    "    indices_text.append(wav+\" \"+\" \".join(indicies))\n",
    "\n",
    "    "
   ]
  },
  {
   "cell_type": "code",
   "execution_count": 76,
   "metadata": {},
   "outputs": [
    {
     "data": {
      "text/plain": [
       "78"
      ]
     },
     "execution_count": 76,
     "metadata": {},
     "output_type": "execute_result"
    }
   ],
   "source": [
    "len(chars)"
   ]
  },
  {
   "cell_type": "code",
   "execution_count": 77,
   "metadata": {},
   "outputs": [
    {
     "data": {
      "text/plain": [
       "{' ': 1,\n",
       " 'ε': 0,\n",
       " 'y': 2,\n",
       " 'p': 3,\n",
       " 'w': 4,\n",
       " 'l': 5,\n",
       " 'J': 6,\n",
       " 'r': 7,\n",
       " 'm': 8,\n",
       " 'b': 9,\n",
       " 'o': 10,\n",
       " 'S': 11,\n",
       " 'g': 12,\n",
       " 'u': 13,\n",
       " 's': 14,\n",
       " 'f': 15,\n",
       " 'i': 16,\n",
       " 'e': 17,\n",
       " 'h': 18,\n",
       " 'd': 19,\n",
       " '.': 20,\n",
       " 'k': 21,\n",
       " 'a': 22,\n",
       " 't': 23,\n",
       " 'M': 24,\n",
       " 'c': 25,\n",
       " 'n': 26,\n",
       " ':': 27,\n",
       " 'E': 28,\n",
       " '4': 29,\n",
       " ')': 30,\n",
       " '”': 31,\n",
       " '9': 32,\n",
       " '(': 33,\n",
       " 'I': 34,\n",
       " '3': 35,\n",
       " ',': 36,\n",
       " '“': 37,\n",
       " 'v': 38,\n",
       " 'D': 39,\n",
       " 'A': 40,\n",
       " 'j': 41,\n",
       " 'N': 42,\n",
       " '2': 43,\n",
       " 'C': 44,\n",
       " 'x': 45,\n",
       " 'T': 46,\n",
       " 'R': 47,\n",
       " 'F': 48,\n",
       " 'z': 49,\n",
       " 'W': 50,\n",
       " 'G': 51,\n",
       " '?': 52,\n",
       " 'P': 53,\n",
       " 'H': 54,\n",
       " 'O': 55,\n",
       " 'B': 56,\n",
       " 'L': 57,\n",
       " 'K': 58,\n",
       " ';': 59,\n",
       " '7': 60,\n",
       " '1': 61,\n",
       " '-': 62,\n",
       " 'q': 63,\n",
       " '8': 64,\n",
       " '5': 65,\n",
       " '0': 66,\n",
       " '!': 67,\n",
       " 'Z': 68,\n",
       " '6': 69,\n",
       " 'Y': 70,\n",
       " '‘': 71,\n",
       " '’': 72,\n",
       " 'U': 73,\n",
       " 'V': 74,\n",
       " 'Q': 75,\n",
       " '[': 76,\n",
       " ']': 77}"
      ]
     },
     "execution_count": 77,
     "metadata": {},
     "output_type": "execute_result"
    }
   ],
   "source": [
    "chars"
   ]
  },
  {
   "cell_type": "code",
   "execution_count": 78,
   "metadata": {},
   "outputs": [],
   "source": [
    "indicies_text = \"\\n\".join(indices_text)\n",
    "with open(\"data/chars.txt\",\"w\") as f:\n",
    "    f.write(indicies_text)"
   ]
  },
  {
   "cell_type": "code",
   "execution_count": 79,
   "metadata": {},
   "outputs": [],
   "source": [
    "with open(\"data/charset.txt\",\"w\") as js:\n",
    "    js.write(str(chars))"
   ]
  },
  {
   "cell_type": "code",
   "execution_count": 80,
   "metadata": {},
   "outputs": [],
   "source": [
    "with open(\"data/charset.txt\") as js:\n",
    "    charset = eval(js.read())"
   ]
  },
  {
   "cell_type": "code",
   "execution_count": 81,
   "metadata": {},
   "outputs": [
    {
     "data": {
      "text/plain": [
       "{' ': 1,\n",
       " 'ε': 0,\n",
       " 'y': 2,\n",
       " 'p': 3,\n",
       " 'w': 4,\n",
       " 'l': 5,\n",
       " 'J': 6,\n",
       " 'r': 7,\n",
       " 'm': 8,\n",
       " 'b': 9,\n",
       " 'o': 10,\n",
       " 'S': 11,\n",
       " 'g': 12,\n",
       " 'u': 13,\n",
       " 's': 14,\n",
       " 'f': 15,\n",
       " 'i': 16,\n",
       " 'e': 17,\n",
       " 'h': 18,\n",
       " 'd': 19,\n",
       " '.': 20,\n",
       " 'k': 21,\n",
       " 'a': 22,\n",
       " 't': 23,\n",
       " 'M': 24,\n",
       " 'c': 25,\n",
       " 'n': 26,\n",
       " ':': 27,\n",
       " 'E': 28,\n",
       " '4': 29,\n",
       " ')': 30,\n",
       " '”': 31,\n",
       " '9': 32,\n",
       " '(': 33,\n",
       " 'I': 34,\n",
       " '3': 35,\n",
       " ',': 36,\n",
       " '“': 37,\n",
       " 'v': 38,\n",
       " 'D': 39,\n",
       " 'A': 40,\n",
       " 'j': 41,\n",
       " 'N': 42,\n",
       " '2': 43,\n",
       " 'C': 44,\n",
       " 'x': 45,\n",
       " 'T': 46,\n",
       " 'R': 47,\n",
       " 'F': 48,\n",
       " 'z': 49,\n",
       " 'W': 50,\n",
       " 'G': 51,\n",
       " '?': 52,\n",
       " 'P': 53,\n",
       " 'H': 54,\n",
       " 'O': 55,\n",
       " 'B': 56,\n",
       " 'L': 57,\n",
       " 'K': 58,\n",
       " ';': 59,\n",
       " '7': 60,\n",
       " '1': 61,\n",
       " '-': 62,\n",
       " 'q': 63,\n",
       " '8': 64,\n",
       " '5': 65,\n",
       " '0': 66,\n",
       " '!': 67,\n",
       " 'Z': 68,\n",
       " '6': 69,\n",
       " 'Y': 70,\n",
       " '‘': 71,\n",
       " '’': 72,\n",
       " 'U': 73,\n",
       " 'V': 74,\n",
       " 'Q': 75,\n",
       " '[': 76,\n",
       " ']': 77}"
      ]
     },
     "execution_count": 81,
     "metadata": {},
     "output_type": "execute_result"
    }
   ],
   "source": [
    "charset"
   ]
  },
  {
   "cell_type": "code",
   "execution_count": null,
   "metadata": {},
   "outputs": [],
   "source": []
  }
 ],
 "metadata": {
  "kernelspec": {
   "display_name": "Python 3",
   "language": "python",
   "name": "python3"
  },
  "language_info": {
   "codemirror_mode": {
    "name": "ipython",
    "version": 3
   },
   "file_extension": ".py",
   "mimetype": "text/x-python",
   "name": "python",
   "nbconvert_exporter": "python",
   "pygments_lexer": "ipython3",
   "version": "3.7.4"
  }
 },
 "nbformat": 4,
 "nbformat_minor": 4
}
