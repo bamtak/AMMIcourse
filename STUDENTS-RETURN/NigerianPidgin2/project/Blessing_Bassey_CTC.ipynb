{
  "nbformat": 4,
  "nbformat_minor": 0,
  "metadata": {
    "accelerator": "GPU",
    "colab": {
      "name": "Blessing_Bassey_CTC.ipynb",
      "provenance": [],
      "collapsed_sections": [
        "X27ce8Hy3C2p"
      ]
    },
    "kernelspec": {
      "display_name": "Python 3",
      "language": "python",
      "name": "python3"
    },
    "language_info": {
      "codemirror_mode": {
        "name": "ipython",
        "version": 3
      },
      "file_extension": ".py",
      "mimetype": "text/x-python",
      "name": "python",
      "nbconvert_exporter": "python",
      "pygments_lexer": "ipython3",
      "version": "3.7.4"
    }
  },
  "cells": [
    {
      "cell_type": "code",
      "metadata": {
        "id": "CM_-YsAmprZh",
        "colab_type": "code",
        "colab": {
          "base_uri": "https://localhost:8080/",
          "height": 153
        },
        "outputId": "958f409a-8dac-4ab1-c78b-51f228bb51a8"
      },
      "source": [
        "#!pip3 install pydrive\n",
        "#!pip3 install google\n",
        "!pip3 install torchaudio"
      ],
      "execution_count": 1,
      "outputs": [
        {
          "output_type": "stream",
          "text": [
            "Collecting torchaudio\n",
            "\u001b[?25l  Downloading https://files.pythonhosted.org/packages/e9/0a/40e53c686c2af65b2a4e818d11d9b76fa79178440caf99f3ceb2a32c3b04/torchaudio-0.5.1-cp36-cp36m-manylinux1_x86_64.whl (3.2MB)\n",
            "\r\u001b[K     |                                | 10kB 25.1MB/s eta 0:00:01\r\u001b[K     |▏                               | 20kB 3.0MB/s eta 0:00:02\r\u001b[K     |▎                               | 30kB 4.0MB/s eta 0:00:01\r\u001b[K     |▍                               | 40kB 4.3MB/s eta 0:00:01\r\u001b[K     |▌                               | 51kB 3.5MB/s eta 0:00:01\r\u001b[K     |▋                               | 61kB 4.0MB/s eta 0:00:01\r\u001b[K     |▊                               | 71kB 4.2MB/s eta 0:00:01\r\u001b[K     |▉                               | 81kB 4.6MB/s eta 0:00:01\r\u001b[K     |█                               | 92kB 4.9MB/s eta 0:00:01\r\u001b[K     |█                               | 102kB 4.7MB/s eta 0:00:01\r\u001b[K     |█▏                              | 112kB 4.7MB/s eta 0:00:01\r\u001b[K     |█▎                              | 122kB 4.7MB/s eta 0:00:01\r\u001b[K     |█▍                              | 133kB 4.7MB/s eta 0:00:01\r\u001b[K     |█▍                              | 143kB 4.7MB/s eta 0:00:01\r\u001b[K     |█▌                              | 153kB 4.7MB/s eta 0:00:01\r\u001b[K     |█▋                              | 163kB 4.7MB/s eta 0:00:01\r\u001b[K     |█▊                              | 174kB 4.7MB/s eta 0:00:01\r\u001b[K     |█▉                              | 184kB 4.7MB/s eta 0:00:01\r\u001b[K     |██                              | 194kB 4.7MB/s eta 0:00:01\r\u001b[K     |██                              | 204kB 4.7MB/s eta 0:00:01\r\u001b[K     |██▏                             | 215kB 4.7MB/s eta 0:00:01\r\u001b[K     |██▎                             | 225kB 4.7MB/s eta 0:00:01\r\u001b[K     |██▍                             | 235kB 4.7MB/s eta 0:00:01\r\u001b[K     |██▌                             | 245kB 4.7MB/s eta 0:00:01\r\u001b[K     |██▋                             | 256kB 4.7MB/s eta 0:00:01\r\u001b[K     |██▊                             | 266kB 4.7MB/s eta 0:00:01\r\u001b[K     |██▊                             | 276kB 4.7MB/s eta 0:00:01\r\u001b[K     |██▉                             | 286kB 4.7MB/s eta 0:00:01\r\u001b[K     |███                             | 296kB 4.7MB/s eta 0:00:01\r\u001b[K     |███                             | 307kB 4.7MB/s eta 0:00:01\r\u001b[K     |███▏                            | 317kB 4.7MB/s eta 0:00:01\r\u001b[K     |███▎                            | 327kB 4.7MB/s eta 0:00:01\r\u001b[K     |███▍                            | 337kB 4.7MB/s eta 0:00:01\r\u001b[K     |███▌                            | 348kB 4.7MB/s eta 0:00:01\r\u001b[K     |███▋                            | 358kB 4.7MB/s eta 0:00:01\r\u001b[K     |███▊                            | 368kB 4.7MB/s eta 0:00:01\r\u001b[K     |███▉                            | 378kB 4.7MB/s eta 0:00:01\r\u001b[K     |████                            | 389kB 4.7MB/s eta 0:00:01\r\u001b[K     |████                            | 399kB 4.7MB/s eta 0:00:01\r\u001b[K     |████▏                           | 409kB 4.7MB/s eta 0:00:01\r\u001b[K     |████▏                           | 419kB 4.7MB/s eta 0:00:01\r\u001b[K     |████▎                           | 430kB 4.7MB/s eta 0:00:01\r\u001b[K     |████▍                           | 440kB 4.7MB/s eta 0:00:01\r\u001b[K     |████▌                           | 450kB 4.7MB/s eta 0:00:01\r\u001b[K     |████▋                           | 460kB 4.7MB/s eta 0:00:01\r\u001b[K     |████▊                           | 471kB 4.7MB/s eta 0:00:01\r\u001b[K     |████▉                           | 481kB 4.7MB/s eta 0:00:01\r\u001b[K     |█████                           | 491kB 4.7MB/s eta 0:00:01\r\u001b[K     |█████                           | 501kB 4.7MB/s eta 0:00:01\r\u001b[K     |█████▏                          | 512kB 4.7MB/s eta 0:00:01\r\u001b[K     |█████▎                          | 522kB 4.7MB/s eta 0:00:01\r\u001b[K     |█████▍                          | 532kB 4.7MB/s eta 0:00:01\r\u001b[K     |█████▌                          | 542kB 4.7MB/s eta 0:00:01\r\u001b[K     |█████▌                          | 552kB 4.7MB/s eta 0:00:01\r\u001b[K     |█████▋                          | 563kB 4.7MB/s eta 0:00:01\r\u001b[K     |█████▊                          | 573kB 4.7MB/s eta 0:00:01\r\u001b[K     |█████▉                          | 583kB 4.7MB/s eta 0:00:01\r\u001b[K     |██████                          | 593kB 4.7MB/s eta 0:00:01\r\u001b[K     |██████                          | 604kB 4.7MB/s eta 0:00:01\r\u001b[K     |██████▏                         | 614kB 4.7MB/s eta 0:00:01\r\u001b[K     |██████▎                         | 624kB 4.7MB/s eta 0:00:01\r\u001b[K     |██████▍                         | 634kB 4.7MB/s eta 0:00:01\r\u001b[K     |██████▌                         | 645kB 4.7MB/s eta 0:00:01\r\u001b[K     |██████▋                         | 655kB 4.7MB/s eta 0:00:01\r\u001b[K     |██████▊                         | 665kB 4.7MB/s eta 0:00:01\r\u001b[K     |██████▉                         | 675kB 4.7MB/s eta 0:00:01\r\u001b[K     |██████▉                         | 686kB 4.7MB/s eta 0:00:01\r\u001b[K     |███████                         | 696kB 4.7MB/s eta 0:00:01\r\u001b[K     |███████                         | 706kB 4.7MB/s eta 0:00:01\r\u001b[K     |███████▏                        | 716kB 4.7MB/s eta 0:00:01\r\u001b[K     |███████▎                        | 727kB 4.7MB/s eta 0:00:01\r\u001b[K     |███████▍                        | 737kB 4.7MB/s eta 0:00:01\r\u001b[K     |███████▌                        | 747kB 4.7MB/s eta 0:00:01\r\u001b[K     |███████▋                        | 757kB 4.7MB/s eta 0:00:01\r\u001b[K     |███████▊                        | 768kB 4.7MB/s eta 0:00:01\r\u001b[K     |███████▉                        | 778kB 4.7MB/s eta 0:00:01\r\u001b[K     |████████                        | 788kB 4.7MB/s eta 0:00:01\r\u001b[K     |████████                        | 798kB 4.7MB/s eta 0:00:01\r\u001b[K     |████████▏                       | 808kB 4.7MB/s eta 0:00:01\r\u001b[K     |████████▎                       | 819kB 4.7MB/s eta 0:00:01\r\u001b[K     |████████▎                       | 829kB 4.7MB/s eta 0:00:01\r\u001b[K     |████████▍                       | 839kB 4.7MB/s eta 0:00:01\r\u001b[K     |████████▌                       | 849kB 4.7MB/s eta 0:00:01\r\u001b[K     |████████▋                       | 860kB 4.7MB/s eta 0:00:01\r\u001b[K     |████████▊                       | 870kB 4.7MB/s eta 0:00:01\r\u001b[K     |████████▉                       | 880kB 4.7MB/s eta 0:00:01\r\u001b[K     |█████████                       | 890kB 4.7MB/s eta 0:00:01\r\u001b[K     |█████████                       | 901kB 4.7MB/s eta 0:00:01\r\u001b[K     |█████████▏                      | 911kB 4.7MB/s eta 0:00:01\r\u001b[K     |█████████▎                      | 921kB 4.7MB/s eta 0:00:01\r\u001b[K     |█████████▍                      | 931kB 4.7MB/s eta 0:00:01\r\u001b[K     |█████████▌                      | 942kB 4.7MB/s eta 0:00:01\r\u001b[K     |█████████▋                      | 952kB 4.7MB/s eta 0:00:01\r\u001b[K     |█████████▋                      | 962kB 4.7MB/s eta 0:00:01\r\u001b[K     |█████████▊                      | 972kB 4.7MB/s eta 0:00:01\r\u001b[K     |█████████▉                      | 983kB 4.7MB/s eta 0:00:01\r\u001b[K     |██████████                      | 993kB 4.7MB/s eta 0:00:01\r\u001b[K     |██████████                      | 1.0MB 4.7MB/s eta 0:00:01\r\u001b[K     |██████████▏                     | 1.0MB 4.7MB/s eta 0:00:01\r\u001b[K     |██████████▎                     | 1.0MB 4.7MB/s eta 0:00:01\r\u001b[K     |██████████▍                     | 1.0MB 4.7MB/s eta 0:00:01\r\u001b[K     |██████████▌                     | 1.0MB 4.7MB/s eta 0:00:01\r\u001b[K     |██████████▋                     | 1.1MB 4.7MB/s eta 0:00:01\r\u001b[K     |██████████▊                     | 1.1MB 4.7MB/s eta 0:00:01\r\u001b[K     |██████████▉                     | 1.1MB 4.7MB/s eta 0:00:01\r\u001b[K     |███████████                     | 1.1MB 4.7MB/s eta 0:00:01\r\u001b[K     |███████████                     | 1.1MB 4.7MB/s eta 0:00:01\r\u001b[K     |███████████                     | 1.1MB 4.7MB/s eta 0:00:01\r\u001b[K     |███████████▏                    | 1.1MB 4.7MB/s eta 0:00:01\r\u001b[K     |███████████▎                    | 1.1MB 4.7MB/s eta 0:00:01\r\u001b[K     |███████████▍                    | 1.1MB 4.7MB/s eta 0:00:01\r\u001b[K     |███████████▌                    | 1.1MB 4.7MB/s eta 0:00:01\r\u001b[K     |███████████▋                    | 1.2MB 4.7MB/s eta 0:00:01\r\u001b[K     |███████████▊                    | 1.2MB 4.7MB/s eta 0:00:01\r\u001b[K     |███████████▉                    | 1.2MB 4.7MB/s eta 0:00:01\r\u001b[K     |████████████                    | 1.2MB 4.7MB/s eta 0:00:01\r\u001b[K     |████████████                    | 1.2MB 4.7MB/s eta 0:00:01\r\u001b[K     |████████████▏                   | 1.2MB 4.7MB/s eta 0:00:01\r\u001b[K     |████████████▎                   | 1.2MB 4.7MB/s eta 0:00:01\r\u001b[K     |████████████▍                   | 1.2MB 4.7MB/s eta 0:00:01\r\u001b[K     |████████████▍                   | 1.2MB 4.7MB/s eta 0:00:01\r\u001b[K     |████████████▌                   | 1.2MB 4.7MB/s eta 0:00:01\r\u001b[K     |████████████▋                   | 1.3MB 4.7MB/s eta 0:00:01\r\u001b[K     |████████████▊                   | 1.3MB 4.7MB/s eta 0:00:01\r\u001b[K     |████████████▉                   | 1.3MB 4.7MB/s eta 0:00:01\r\u001b[K     |█████████████                   | 1.3MB 4.7MB/s eta 0:00:01\r\u001b[K     |█████████████                   | 1.3MB 4.7MB/s eta 0:00:01\r\u001b[K     |█████████████▏                  | 1.3MB 4.7MB/s eta 0:00:01\r\u001b[K     |█████████████▎                  | 1.3MB 4.7MB/s eta 0:00:01\r\u001b[K     |█████████████▍                  | 1.3MB 4.7MB/s eta 0:00:01\r\u001b[K     |█████████████▌                  | 1.3MB 4.7MB/s eta 0:00:01\r\u001b[K     |█████████████▋                  | 1.4MB 4.7MB/s eta 0:00:01\r\u001b[K     |█████████████▊                  | 1.4MB 4.7MB/s eta 0:00:01\r\u001b[K     |█████████████▊                  | 1.4MB 4.7MB/s eta 0:00:01\r\u001b[K     |█████████████▉                  | 1.4MB 4.7MB/s eta 0:00:01\r\u001b[K     |██████████████                  | 1.4MB 4.7MB/s eta 0:00:01\r\u001b[K     |██████████████                  | 1.4MB 4.7MB/s eta 0:00:01\r\u001b[K     |██████████████▏                 | 1.4MB 4.7MB/s eta 0:00:01\r\u001b[K     |██████████████▎                 | 1.4MB 4.7MB/s eta 0:00:01\r\u001b[K     |██████████████▍                 | 1.4MB 4.7MB/s eta 0:00:01\r\u001b[K     |██████████████▌                 | 1.4MB 4.7MB/s eta 0:00:01\r\u001b[K     |██████████████▋                 | 1.5MB 4.7MB/s eta 0:00:01\r\u001b[K     |██████████████▊                 | 1.5MB 4.7MB/s eta 0:00:01\r\u001b[K     |██████████████▉                 | 1.5MB 4.7MB/s eta 0:00:01\r\u001b[K     |███████████████                 | 1.5MB 4.7MB/s eta 0:00:01\r\u001b[K     |███████████████                 | 1.5MB 4.7MB/s eta 0:00:01\r\u001b[K     |███████████████                 | 1.5MB 4.7MB/s eta 0:00:01\r\u001b[K     |███████████████▏                | 1.5MB 4.7MB/s eta 0:00:01\r\u001b[K     |███████████████▎                | 1.5MB 4.7MB/s eta 0:00:01\r\u001b[K     |███████████████▍                | 1.5MB 4.7MB/s eta 0:00:01\r\u001b[K     |███████████████▌                | 1.5MB 4.7MB/s eta 0:00:01\r\u001b[K     |███████████████▋                | 1.6MB 4.7MB/s eta 0:00:01\r\u001b[K     |███████████████▊                | 1.6MB 4.7MB/s eta 0:00:01\r\u001b[K     |███████████████▉                | 1.6MB 4.7MB/s eta 0:00:01\r\u001b[K     |████████████████                | 1.6MB 4.7MB/s eta 0:00:01\r\u001b[K     |████████████████                | 1.6MB 4.7MB/s eta 0:00:01\r\u001b[K     |████████████████▏               | 1.6MB 4.7MB/s eta 0:00:01\r\u001b[K     |████████████████▎               | 1.6MB 4.7MB/s eta 0:00:01\r\u001b[K     |████████████████▍               | 1.6MB 4.7MB/s eta 0:00:01\r\u001b[K     |████████████████▌               | 1.6MB 4.7MB/s eta 0:00:01\r\u001b[K     |████████████████▌               | 1.6MB 4.7MB/s eta 0:00:01\r\u001b[K     |████████████████▋               | 1.7MB 4.7MB/s eta 0:00:01\r\u001b[K     |████████████████▊               | 1.7MB 4.7MB/s eta 0:00:01\r\u001b[K     |████████████████▉               | 1.7MB 4.7MB/s eta 0:00:01\r\u001b[K     |█████████████████               | 1.7MB 4.7MB/s eta 0:00:01\r\u001b[K     |█████████████████               | 1.7MB 4.7MB/s eta 0:00:01\r\u001b[K     |█████████████████▏              | 1.7MB 4.7MB/s eta 0:00:01\r\u001b[K     |█████████████████▎              | 1.7MB 4.7MB/s eta 0:00:01\r\u001b[K     |█████████████████▍              | 1.7MB 4.7MB/s eta 0:00:01\r\u001b[K     |█████████████████▌              | 1.7MB 4.7MB/s eta 0:00:01\r\u001b[K     |█████████████████▋              | 1.8MB 4.7MB/s eta 0:00:01\r\u001b[K     |█████████████████▊              | 1.8MB 4.7MB/s eta 0:00:01\r\u001b[K     |█████████████████▉              | 1.8MB 4.7MB/s eta 0:00:01\r\u001b[K     |█████████████████▉              | 1.8MB 4.7MB/s eta 0:00:01\r\u001b[K     |██████████████████              | 1.8MB 4.7MB/s eta 0:00:01\r\u001b[K     |██████████████████              | 1.8MB 4.7MB/s eta 0:00:01\r\u001b[K     |██████████████████▏             | 1.8MB 4.7MB/s eta 0:00:01\r\u001b[K     |██████████████████▎             | 1.8MB 4.7MB/s eta 0:00:01\r\u001b[K     |██████████████████▍             | 1.8MB 4.7MB/s eta 0:00:01\r\u001b[K     |██████████████████▌             | 1.8MB 4.7MB/s eta 0:00:01\r\u001b[K     |██████████████████▋             | 1.9MB 4.7MB/s eta 0:00:01\r\u001b[K     |██████████████████▊             | 1.9MB 4.7MB/s eta 0:00:01\r\u001b[K     |██████████████████▉             | 1.9MB 4.7MB/s eta 0:00:01\r\u001b[K     |███████████████████             | 1.9MB 4.7MB/s eta 0:00:01\r\u001b[K     |███████████████████             | 1.9MB 4.7MB/s eta 0:00:01\r\u001b[K     |███████████████████▏            | 1.9MB 4.7MB/s eta 0:00:01\r\u001b[K     |███████████████████▏            | 1.9MB 4.7MB/s eta 0:00:01\r\u001b[K     |███████████████████▎            | 1.9MB 4.7MB/s eta 0:00:01\r\u001b[K     |███████████████████▍            | 1.9MB 4.7MB/s eta 0:00:01\r\u001b[K     |███████████████████▌            | 1.9MB 4.7MB/s eta 0:00:01\r\u001b[K     |███████████████████▋            | 2.0MB 4.7MB/s eta 0:00:01\r\u001b[K     |███████████████████▊            | 2.0MB 4.7MB/s eta 0:00:01\r\u001b[K     |███████████████████▉            | 2.0MB 4.7MB/s eta 0:00:01\r\u001b[K     |████████████████████            | 2.0MB 4.7MB/s eta 0:00:01\r\u001b[K     |████████████████████            | 2.0MB 4.7MB/s eta 0:00:01\r\u001b[K     |████████████████████▏           | 2.0MB 4.7MB/s eta 0:00:01\r\u001b[K     |████████████████████▎           | 2.0MB 4.7MB/s eta 0:00:01\r\u001b[K     |████████████████████▍           | 2.0MB 4.7MB/s eta 0:00:01\r\u001b[K     |████████████████████▌           | 2.0MB 4.7MB/s eta 0:00:01\r\u001b[K     |████████████████████▋           | 2.0MB 4.7MB/s eta 0:00:01\r\u001b[K     |████████████████████▋           | 2.1MB 4.7MB/s eta 0:00:01\r\u001b[K     |████████████████████▊           | 2.1MB 4.7MB/s eta 0:00:01\r\u001b[K     |████████████████████▉           | 2.1MB 4.7MB/s eta 0:00:01\r\u001b[K     |█████████████████████           | 2.1MB 4.7MB/s eta 0:00:01\r\u001b[K     |█████████████████████           | 2.1MB 4.7MB/s eta 0:00:01\r\u001b[K     |█████████████████████▏          | 2.1MB 4.7MB/s eta 0:00:01\r\u001b[K     |█████████████████████▎          | 2.1MB 4.7MB/s eta 0:00:01\r\u001b[K     |█████████████████████▍          | 2.1MB 4.7MB/s eta 0:00:01\r\u001b[K     |█████████████████████▌          | 2.1MB 4.7MB/s eta 0:00:01\r\u001b[K     |█████████████████████▋          | 2.2MB 4.7MB/s eta 0:00:01\r\u001b[K     |█████████████████████▊          | 2.2MB 4.7MB/s eta 0:00:01\r\u001b[K     |█████████████████████▉          | 2.2MB 4.7MB/s eta 0:00:01\r\u001b[K     |██████████████████████          | 2.2MB 4.7MB/s eta 0:00:01\r\u001b[K     |██████████████████████          | 2.2MB 4.7MB/s eta 0:00:01\r\u001b[K     |██████████████████████          | 2.2MB 4.7MB/s eta 0:00:01\r\u001b[K     |██████████████████████▏         | 2.2MB 4.7MB/s eta 0:00:01\r\u001b[K     |██████████████████████▎         | 2.2MB 4.7MB/s eta 0:00:01\r\u001b[K     |██████████████████████▍         | 2.2MB 4.7MB/s eta 0:00:01\r\u001b[K     |██████████████████████▌         | 2.2MB 4.7MB/s eta 0:00:01\r\u001b[K     |██████████████████████▋         | 2.3MB 4.7MB/s eta 0:00:01\r\u001b[K     |██████████████████████▊         | 2.3MB 4.7MB/s eta 0:00:01\r\u001b[K     |██████████████████████▉         | 2.3MB 4.7MB/s eta 0:00:01\r\u001b[K     |███████████████████████         | 2.3MB 4.7MB/s eta 0:00:01\r\u001b[K     |███████████████████████         | 2.3MB 4.7MB/s eta 0:00:01\r\u001b[K     |███████████████████████▏        | 2.3MB 4.7MB/s eta 0:00:01\r\u001b[K     |███████████████████████▎        | 2.3MB 4.7MB/s eta 0:00:01\r\u001b[K     |███████████████████████▎        | 2.3MB 4.7MB/s eta 0:00:01\r\u001b[K     |███████████████████████▍        | 2.3MB 4.7MB/s eta 0:00:01\r\u001b[K     |███████████████████████▌        | 2.3MB 4.7MB/s eta 0:00:01\r\u001b[K     |███████████████████████▋        | 2.4MB 4.7MB/s eta 0:00:01\r\u001b[K     |███████████████████████▊        | 2.4MB 4.7MB/s eta 0:00:01\r\u001b[K     |███████████████████████▉        | 2.4MB 4.7MB/s eta 0:00:01\r\u001b[K     |████████████████████████        | 2.4MB 4.7MB/s eta 0:00:01\r\u001b[K     |████████████████████████        | 2.4MB 4.7MB/s eta 0:00:01\r\u001b[K     |████████████████████████▏       | 2.4MB 4.7MB/s eta 0:00:01\r\u001b[K     |████████████████████████▎       | 2.4MB 4.7MB/s eta 0:00:01\r\u001b[K     |████████████████████████▍       | 2.4MB 4.7MB/s eta 0:00:01\r\u001b[K     |████████████████████████▌       | 2.4MB 4.7MB/s eta 0:00:01\r\u001b[K     |████████████████████████▋       | 2.4MB 4.7MB/s eta 0:00:01\r\u001b[K     |████████████████████████▊       | 2.5MB 4.7MB/s eta 0:00:01\r\u001b[K     |████████████████████████▊       | 2.5MB 4.7MB/s eta 0:00:01\r\u001b[K     |████████████████████████▉       | 2.5MB 4.7MB/s eta 0:00:01\r\u001b[K     |█████████████████████████       | 2.5MB 4.7MB/s eta 0:00:01\r\u001b[K     |█████████████████████████       | 2.5MB 4.7MB/s eta 0:00:01\r\u001b[K     |█████████████████████████▏      | 2.5MB 4.7MB/s eta 0:00:01\r\u001b[K     |█████████████████████████▎      | 2.5MB 4.7MB/s eta 0:00:01\r\u001b[K     |█████████████████████████▍      | 2.5MB 4.7MB/s eta 0:00:01\r\u001b[K     |█████████████████████████▌      | 2.5MB 4.7MB/s eta 0:00:01\r\u001b[K     |█████████████████████████▋      | 2.5MB 4.7MB/s eta 0:00:01\r\u001b[K     |█████████████████████████▊      | 2.6MB 4.7MB/s eta 0:00:01\r\u001b[K     |█████████████████████████▉      | 2.6MB 4.7MB/s eta 0:00:01\r\u001b[K     |██████████████████████████      | 2.6MB 4.7MB/s eta 0:00:01\r\u001b[K     |██████████████████████████      | 2.6MB 4.7MB/s eta 0:00:01\r\u001b[K     |██████████████████████████      | 2.6MB 4.7MB/s eta 0:00:01\r\u001b[K     |██████████████████████████▏     | 2.6MB 4.7MB/s eta 0:00:01\r\u001b[K     |██████████████████████████▎     | 2.6MB 4.7MB/s eta 0:00:01\r\u001b[K     |██████████████████████████▍     | 2.6MB 4.7MB/s eta 0:00:01\r\u001b[K     |██████████████████████████▌     | 2.6MB 4.7MB/s eta 0:00:01\r\u001b[K     |██████████████████████████▋     | 2.7MB 4.7MB/s eta 0:00:01\r\u001b[K     |██████████████████████████▊     | 2.7MB 4.7MB/s eta 0:00:01\r\u001b[K     |██████████████████████████▉     | 2.7MB 4.7MB/s eta 0:00:01\r\u001b[K     |███████████████████████████     | 2.7MB 4.7MB/s eta 0:00:01\r\u001b[K     |███████████████████████████     | 2.7MB 4.7MB/s eta 0:00:01\r\u001b[K     |███████████████████████████▏    | 2.7MB 4.7MB/s eta 0:00:01\r\u001b[K     |███████████████████████████▎    | 2.7MB 4.7MB/s eta 0:00:01\r\u001b[K     |███████████████████████████▍    | 2.7MB 4.7MB/s eta 0:00:01\r\u001b[K     |███████████████████████████▍    | 2.7MB 4.7MB/s eta 0:00:01\r\u001b[K     |███████████████████████████▌    | 2.7MB 4.7MB/s eta 0:00:01\r\u001b[K     |███████████████████████████▋    | 2.8MB 4.7MB/s eta 0:00:01\r\u001b[K     |███████████████████████████▊    | 2.8MB 4.7MB/s eta 0:00:01\r\u001b[K     |███████████████████████████▉    | 2.8MB 4.7MB/s eta 0:00:01\r\u001b[K     |████████████████████████████    | 2.8MB 4.7MB/s eta 0:00:01\r\u001b[K     |████████████████████████████    | 2.8MB 4.7MB/s eta 0:00:01\r\u001b[K     |████████████████████████████▏   | 2.8MB 4.7MB/s eta 0:00:01\r\u001b[K     |████████████████████████████▎   | 2.8MB 4.7MB/s eta 0:00:01\r\u001b[K     |████████████████████████████▍   | 2.8MB 4.7MB/s eta 0:00:01\r\u001b[K     |████████████████████████████▌   | 2.8MB 4.7MB/s eta 0:00:01\r\u001b[K     |████████████████████████████▋   | 2.8MB 4.7MB/s eta 0:00:01\r\u001b[K     |████████████████████████████▊   | 2.9MB 4.7MB/s eta 0:00:01\r\u001b[K     |████████████████████████████▉   | 2.9MB 4.7MB/s eta 0:00:01\r\u001b[K     |████████████████████████████▉   | 2.9MB 4.7MB/s eta 0:00:01\r\u001b[K     |█████████████████████████████   | 2.9MB 4.7MB/s eta 0:00:01\r\u001b[K     |█████████████████████████████   | 2.9MB 4.7MB/s eta 0:00:01\r\u001b[K     |█████████████████████████████▏  | 2.9MB 4.7MB/s eta 0:00:01\r\u001b[K     |█████████████████████████████▎  | 2.9MB 4.7MB/s eta 0:00:01\r\u001b[K     |█████████████████████████████▍  | 2.9MB 4.7MB/s eta 0:00:01\r\u001b[K     |█████████████████████████████▌  | 2.9MB 4.7MB/s eta 0:00:01\r\u001b[K     |█████████████████████████████▋  | 2.9MB 4.7MB/s eta 0:00:01\r\u001b[K     |█████████████████████████████▊  | 3.0MB 4.7MB/s eta 0:00:01\r\u001b[K     |█████████████████████████████▉  | 3.0MB 4.7MB/s eta 0:00:01\r\u001b[K     |██████████████████████████████  | 3.0MB 4.7MB/s eta 0:00:01\r\u001b[K     |██████████████████████████████  | 3.0MB 4.7MB/s eta 0:00:01\r\u001b[K     |██████████████████████████████▏ | 3.0MB 4.7MB/s eta 0:00:01\r\u001b[K     |██████████████████████████████▏ | 3.0MB 4.7MB/s eta 0:00:01\r\u001b[K     |██████████████████████████████▎ | 3.0MB 4.7MB/s eta 0:00:01\r\u001b[K     |██████████████████████████████▍ | 3.0MB 4.7MB/s eta 0:00:01\r\u001b[K     |██████████████████████████████▌ | 3.0MB 4.7MB/s eta 0:00:01\r\u001b[K     |██████████████████████████████▋ | 3.1MB 4.7MB/s eta 0:00:01\r\u001b[K     |██████████████████████████████▊ | 3.1MB 4.7MB/s eta 0:00:01\r\u001b[K     |██████████████████████████████▉ | 3.1MB 4.7MB/s eta 0:00:01\r\u001b[K     |███████████████████████████████ | 3.1MB 4.7MB/s eta 0:00:01\r\u001b[K     |███████████████████████████████ | 3.1MB 4.7MB/s eta 0:00:01\r\u001b[K     |███████████████████████████████▏| 3.1MB 4.7MB/s eta 0:00:01\r\u001b[K     |███████████████████████████████▎| 3.1MB 4.7MB/s eta 0:00:01\r\u001b[K     |███████████████████████████████▍| 3.1MB 4.7MB/s eta 0:00:01\r\u001b[K     |███████████████████████████████▌| 3.1MB 4.7MB/s eta 0:00:01\r\u001b[K     |███████████████████████████████▌| 3.1MB 4.7MB/s eta 0:00:01\r\u001b[K     |███████████████████████████████▋| 3.2MB 4.7MB/s eta 0:00:01\r\u001b[K     |███████████████████████████████▊| 3.2MB 4.7MB/s eta 0:00:01\r\u001b[K     |███████████████████████████████▉| 3.2MB 4.7MB/s eta 0:00:01\r\u001b[K     |████████████████████████████████| 3.2MB 4.7MB/s eta 0:00:01\r\u001b[K     |████████████████████████████████| 3.2MB 4.7MB/s \n",
            "\u001b[?25hRequirement already satisfied: torch==1.5.1 in /usr/local/lib/python3.6/dist-packages (from torchaudio) (1.5.1+cu101)\n",
            "Requirement already satisfied: numpy in /usr/local/lib/python3.6/dist-packages (from torch==1.5.1->torchaudio) (1.18.5)\n",
            "Requirement already satisfied: future in /usr/local/lib/python3.6/dist-packages (from torch==1.5.1->torchaudio) (0.16.0)\n",
            "Installing collected packages: torchaudio\n",
            "Successfully installed torchaudio-0.5.1\n"
          ],
          "name": "stdout"
        }
      ]
    },
    {
      "cell_type": "code",
      "metadata": {
        "colab_type": "code",
        "id": "jzzuGAMna4NG",
        "colab": {}
      },
      "source": [
        "from pydrive.auth import GoogleAuth\n",
        "from pydrive.drive import GoogleDrive\n",
        "from google.colab import auth\n",
        "from oauth2client.client import GoogleCredentials\n",
        "auth.authenticate_user()\n",
        "gauth = GoogleAuth()\n",
        "gauth.credentials = GoogleCredentials.get_application_default()\n",
        "drive = GoogleDrive(gauth)"
      ],
      "execution_count": 2,
      "outputs": []
    },
    {
      "cell_type": "code",
      "metadata": {
        "colab_type": "code",
        "id": "ppRP3ZqP8vZP",
        "colab": {}
      },
      "source": [
        "import torch\n",
        "import torchaudio"
      ],
      "execution_count": 3,
      "outputs": []
    },
    {
      "cell_type": "code",
      "metadata": {
        "id": "67PkqQYLFq87",
        "colab_type": "code",
        "colab": {
          "base_uri": "https://localhost:8080/",
          "height": 119
        },
        "outputId": "1cddd086-43eb-4c6f-a1be-78343ffc178c"
      },
      "source": [
        "! git clone https://github.com/facebookresearch/CPC_audio.git"
      ],
      "execution_count": 4,
      "outputs": [
        {
          "output_type": "stream",
          "text": [
            "Cloning into 'CPC_audio'...\n",
            "remote: Enumerating objects: 84, done.\u001b[K\n",
            "remote: Counting objects:   1% (1/84)\u001b[K\rremote: Counting objects:   2% (2/84)\u001b[K\rremote: Counting objects:   3% (3/84)\u001b[K\rremote: Counting objects:   4% (4/84)\u001b[K\rremote: Counting objects:   5% (5/84)\u001b[K\rremote: Counting objects:   7% (6/84)\u001b[K\rremote: Counting objects:   8% (7/84)\u001b[K\rremote: Counting objects:   9% (8/84)\u001b[K\rremote: Counting objects:  10% (9/84)\u001b[K\rremote: Counting objects:  11% (10/84)\u001b[K\rremote: Counting objects:  13% (11/84)\u001b[K\rremote: Counting objects:  14% (12/84)\u001b[K\rremote: Counting objects:  15% (13/84)\u001b[K\rremote: Counting objects:  16% (14/84)\u001b[K\rremote: Counting objects:  17% (15/84)\u001b[K\rremote: Counting objects:  19% (16/84)\u001b[K\rremote: Counting objects:  20% (17/84)\u001b[K\rremote: Counting objects:  21% (18/84)\u001b[K\rremote: Counting objects:  22% (19/84)\u001b[K\rremote: Counting objects:  23% (20/84)\u001b[K\rremote: Counting objects:  25% (21/84)\u001b[K\rremote: Counting objects:  26% (22/84)\u001b[K\rremote: Counting objects:  27% (23/84)\u001b[K\rremote: Counting objects:  28% (24/84)\u001b[K\rremote: Counting objects:  29% (25/84)\u001b[K\rremote: Counting objects:  30% (26/84)\u001b[K\rremote: Counting objects:  32% (27/84)\u001b[K\rremote: Counting objects:  33% (28/84)\u001b[K\rremote: Counting objects:  34% (29/84)\u001b[K\rremote: Counting objects:  35% (30/84)\u001b[K\rremote: Counting objects:  36% (31/84)\u001b[K\rremote: Counting objects:  38% (32/84)\u001b[K\rremote: Counting objects:  39% (33/84)\u001b[K\rremote: Counting objects:  40% (34/84)\u001b[K\rremote: Counting objects:  41% (35/84)\u001b[K\rremote: Counting objects:  42% (36/84)\u001b[K\rremote: Counting objects:  44% (37/84)\u001b[K\rremote: Counting objects:  45% (38/84)\u001b[K\rremote: Counting objects:  46% (39/84)\u001b[K\rremote: Counting objects:  47% (40/84)\u001b[K\rremote: Counting objects:  48% (41/84)\u001b[K\rremote: Counting objects:  50% (42/84)\u001b[K\rremote: Counting objects:  51% (43/84)\u001b[K\rremote: Counting objects:  52% (44/84)\u001b[K\rremote: Counting objects:  53% (45/84)\u001b[K\rremote: Counting objects:  54% (46/84)\u001b[K\rremote: Counting objects:  55% (47/84)\u001b[K\rremote: Counting objects:  57% (48/84)\u001b[K\rremote: Counting objects:  58% (49/84)\u001b[K\rremote: Counting objects:  59% (50/84)\u001b[K\rremote: Counting objects:  60% (51/84)\u001b[K\rremote: Counting objects:  61% (52/84)\u001b[K\rremote: Counting objects:  63% (53/84)\u001b[K\rremote: Counting objects:  64% (54/84)\u001b[K\rremote: Counting objects:  65% (55/84)\u001b[K\rremote: Counting objects:  66% (56/84)\u001b[K\rremote: Counting objects:  67% (57/84)\u001b[K\rremote: Counting objects:  69% (58/84)\u001b[K\rremote: Counting objects:  70% (59/84)\u001b[K\rremote: Counting objects:  71% (60/84)\u001b[K\rremote: Counting objects:  72% (61/84)\u001b[K\rremote: Counting objects:  73% (62/84)\u001b[K\rremote: Counting objects:  75% (63/84)\u001b[K\rremote: Counting objects:  76% (64/84)\u001b[K\rremote: Counting objects:  77% (65/84)\u001b[K\rremote: Counting objects:  78% (66/84)\u001b[K\rremote: Counting objects:  79% (67/84)\u001b[K\rremote: Counting objects:  80% (68/84)\u001b[K\rremote: Counting objects:  82% (69/84)\u001b[K\rremote: Counting objects:  83% (70/84)\u001b[K\rremote: Counting objects:  84% (71/84)\u001b[K\rremote: Counting objects:  85% (72/84)\u001b[K\rremote: Counting objects:  86% (73/84)\u001b[K\rremote: Counting objects:  88% (74/84)\u001b[K\rremote: Counting objects:  89% (75/84)\u001b[K\rremote: Counting objects:  90% (76/84)\u001b[K\rremote: Counting objects:  91% (77/84)\u001b[K\rremote: Counting objects:  92% (78/84)\u001b[K\rremote: Counting objects:  94% (79/84)\u001b[K\rremote: Counting objects:  95% (80/84)\u001b[K\rremote: Counting objects:  96% (81/84)\u001b[K\rremote: Counting objects:  97% (82/84)\u001b[K\rremote: Counting objects:  98% (83/84)\u001b[K\rremote: Counting objects: 100% (84/84)\u001b[K\rremote: Counting objects: 100% (84/84), done.\u001b[K\n",
            "remote: Compressing objects:   1% (1/65)\u001b[K\rremote: Compressing objects:   3% (2/65)\u001b[K\rremote: Compressing objects:   4% (3/65)\u001b[K\rremote: Compressing objects:   6% (4/65)\u001b[K\rremote: Compressing objects:   7% (5/65)\u001b[K\rremote: Compressing objects:   9% (6/65)\u001b[K\rremote: Compressing objects:  10% (7/65)\u001b[K\rremote: Compressing objects:  12% (8/65)\u001b[K\rremote: Compressing objects:  13% (9/65)\u001b[K\rremote: Compressing objects:  15% (10/65)\u001b[K\rremote: Compressing objects:  16% (11/65)\u001b[K\rremote: Compressing objects:  18% (12/65)\u001b[K\rremote: Compressing objects:  20% (13/65)\u001b[K\rremote: Compressing objects:  21% (14/65)\u001b[K\rremote: Compressing objects:  23% (15/65)\u001b[K\rremote: Compressing objects:  24% (16/65)\u001b[K\rremote: Compressing objects:  26% (17/65)\u001b[K\rremote: Compressing objects:  27% (18/65)\u001b[K\rremote: Compressing objects:  29% (19/65)\u001b[K\rremote: Compressing objects:  30% (20/65)\u001b[K\rremote: Compressing objects:  32% (21/65)\u001b[K\rremote: Compressing objects:  33% (22/65)\u001b[K\rremote: Compressing objects:  35% (23/65)\u001b[K\rremote: Compressing objects:  36% (24/65)\u001b[K\rremote: Compressing objects:  38% (25/65)\u001b[K\rremote: Compressing objects:  40% (26/65)\u001b[K\rremote: Compressing objects:  41% (27/65)\u001b[K\rremote: Compressing objects:  43% (28/65)\u001b[K\rremote: Compressing objects:  44% (29/65)\u001b[K\rremote: Compressing objects:  46% (30/65)\u001b[K\rremote: Compressing objects:  47% (31/65)\u001b[K\rremote: Compressing objects:  49% (32/65)\u001b[K\rremote: Compressing objects:  50% (33/65)\u001b[K\rremote: Compressing objects:  52% (34/65)\u001b[K\rremote: Compressing objects:  53% (35/65)\u001b[K\rremote: Compressing objects:  55% (36/65)\u001b[K\rremote: Compressing objects:  56% (37/65)\u001b[K\rremote: Compressing objects:  58% (38/65)\u001b[K\rremote: Compressing objects:  60% (39/65)\u001b[K\rremote: Compressing objects:  61% (40/65)\u001b[K\rremote: Compressing objects:  63% (41/65)\u001b[K\rremote: Compressing objects:  64% (42/65)\u001b[K\rremote: Compressing objects:  66% (43/65)\u001b[K\rremote: Compressing objects:  67% (44/65)\u001b[K\rremote: Compressing objects:  69% (45/65)\u001b[K\rremote: Compressing objects:  70% (46/65)\u001b[K\rremote: Compressing objects:  72% (47/65)\u001b[K\rremote: Compressing objects:  73% (48/65)\u001b[K\rremote: Compressing objects:  75% (49/65)\u001b[K\rremote: Compressing objects:  76% (50/65)\u001b[K\rremote: Compressing objects:  78% (51/65)\u001b[K\rremote: Compressing objects:  80% (52/65)\u001b[K\rremote: Compressing objects:  81% (53/65)\u001b[K\rremote: Compressing objects:  83% (54/65)\u001b[K\rremote: Compressing objects:  84% (55/65)\u001b[K\rremote: Compressing objects:  86% (56/65)\u001b[K\rremote: Compressing objects:  87% (57/65)\u001b[K\rremote: Compressing objects:  89% (58/65)\u001b[K\rremote: Compressing objects:  90% (59/65)\u001b[K\rremote: Compressing objects:  92% (60/65)\u001b[K\rremote: Compressing objects:  93% (61/65)\u001b[K\rremote: Compressing objects:  95% (62/65)\u001b[K\rremote: Compressing objects:  96% (63/65)\u001b[K\rremote: Compressing objects:  98% (64/65)\u001b[K\rremote: Compressing objects: 100% (65/65)\u001b[K\rremote: Compressing objects: 100% (65/65), done.\u001b[K\n",
            "Unpacking objects:   1% (1/84)   \rUnpacking objects:   2% (2/84)   \rUnpacking objects:   3% (3/84)   \rUnpacking objects:   4% (4/84)   \rUnpacking objects:   5% (5/84)   \rUnpacking objects:   7% (6/84)   \rUnpacking objects:   8% (7/84)   \rUnpacking objects:   9% (8/84)   \rUnpacking objects:  10% (9/84)   \rUnpacking objects:  11% (10/84)   \rUnpacking objects:  13% (11/84)   \rUnpacking objects:  14% (12/84)   \rUnpacking objects:  15% (13/84)   \rUnpacking objects:  16% (14/84)   \rUnpacking objects:  17% (15/84)   \rUnpacking objects:  19% (16/84)   \rUnpacking objects:  20% (17/84)   \rUnpacking objects:  21% (18/84)   \rUnpacking objects:  22% (19/84)   \rUnpacking objects:  23% (20/84)   \rUnpacking objects:  25% (21/84)   \rUnpacking objects:  26% (22/84)   \rUnpacking objects:  27% (23/84)   \rUnpacking objects:  28% (24/84)   \rUnpacking objects:  29% (25/84)   \rUnpacking objects:  30% (26/84)   \rUnpacking objects:  32% (27/84)   \rUnpacking objects:  33% (28/84)   \rUnpacking objects:  34% (29/84)   \rUnpacking objects:  35% (30/84)   \rUnpacking objects:  36% (31/84)   \rUnpacking objects:  38% (32/84)   \rUnpacking objects:  39% (33/84)   \rUnpacking objects:  40% (34/84)   \rUnpacking objects:  41% (35/84)   \rUnpacking objects:  42% (36/84)   \rUnpacking objects:  44% (37/84)   \rUnpacking objects:  45% (38/84)   \rUnpacking objects:  46% (39/84)   \rUnpacking objects:  47% (40/84)   \rUnpacking objects:  48% (41/84)   \rUnpacking objects:  50% (42/84)   \rUnpacking objects:  51% (43/84)   \rUnpacking objects:  52% (44/84)   \rUnpacking objects:  53% (45/84)   \rUnpacking objects:  54% (46/84)   \rUnpacking objects:  55% (47/84)   \rUnpacking objects:  57% (48/84)   \rUnpacking objects:  58% (49/84)   \rUnpacking objects:  59% (50/84)   \rUnpacking objects:  60% (51/84)   \rUnpacking objects:  61% (52/84)   \rUnpacking objects:  63% (53/84)   \rUnpacking objects:  64% (54/84)   \rUnpacking objects:  65% (55/84)   \rUnpacking objects:  66% (56/84)   \rUnpacking objects:  67% (57/84)   \rUnpacking objects:  69% (58/84)   \rUnpacking objects:  70% (59/84)   \rUnpacking objects:  71% (60/84)   \rUnpacking objects:  72% (61/84)   \rUnpacking objects:  73% (62/84)   \rUnpacking objects:  75% (63/84)   \rUnpacking objects:  76% (64/84)   \rUnpacking objects:  77% (65/84)   \rUnpacking objects:  78% (66/84)   \rUnpacking objects:  79% (67/84)   \rremote: Total 84 (delta 13), reused 75 (delta 6), pack-reused 0\u001b[K\n",
            "Unpacking objects:  80% (68/84)   \rUnpacking objects:  82% (69/84)   \rUnpacking objects:  83% (70/84)   \rUnpacking objects:  84% (71/84)   \rUnpacking objects:  85% (72/84)   \rUnpacking objects:  86% (73/84)   \rUnpacking objects:  88% (74/84)   \rUnpacking objects:  89% (75/84)   \rUnpacking objects:  90% (76/84)   \rUnpacking objects:  91% (77/84)   \rUnpacking objects:  92% (78/84)   \rUnpacking objects:  94% (79/84)   \rUnpacking objects:  95% (80/84)   \rUnpacking objects:  96% (81/84)   \rUnpacking objects:  97% (82/84)   \rUnpacking objects:  98% (83/84)   \rUnpacking objects: 100% (84/84)   \rUnpacking objects: 100% (84/84), done.\n"
          ],
          "name": "stdout"
        }
      ]
    },
    {
      "cell_type": "code",
      "metadata": {
        "id": "cc7ZhEVbumPO",
        "colab_type": "code",
        "colab": {
          "base_uri": "https://localhost:8080/",
          "height": 700
        },
        "outputId": "f8d06eed-6bd2-4e8a-cbdc-2b2cc1c82498"
      },
      "source": [
        "%cd /content/CPC_audio\n",
        "!python setup.py develop\n",
        "%cd ../../\n"
      ],
      "execution_count": 5,
      "outputs": [
        {
          "output_type": "stream",
          "text": [
            "/content/CPC_audio\n",
            "Compiling cpc/eval/ABX/dtw.pyx because it changed.\n",
            "[1/1] Cythonizing cpc/eval/ABX/dtw.pyx\n",
            "running develop\n",
            "running egg_info\n",
            "creating CPC_audio.egg-info\n",
            "writing CPC_audio.egg-info/PKG-INFO\n",
            "writing dependency_links to CPC_audio.egg-info/dependency_links.txt\n",
            "writing top-level names to CPC_audio.egg-info/top_level.txt\n",
            "writing manifest file 'CPC_audio.egg-info/SOURCES.txt'\n",
            "writing manifest file 'CPC_audio.egg-info/SOURCES.txt'\n",
            "running build_ext\n",
            "building 'cpc.eval.ABX.dtw' extension\n",
            "creating build\n",
            "creating build/temp.linux-x86_64-3.6\n",
            "creating build/temp.linux-x86_64-3.6/cpc\n",
            "creating build/temp.linux-x86_64-3.6/cpc/eval\n",
            "creating build/temp.linux-x86_64-3.6/cpc/eval/ABX\n",
            "x86_64-linux-gnu-gcc -pthread -DNDEBUG -g -fwrapv -O2 -Wall -g -fstack-protector-strong -Wformat -Werror=format-security -Wdate-time -D_FORTIFY_SOURCE=2 -fPIC -I/usr/local/lib/python3.6/dist-packages/numpy/core/include -I/usr/include/python3.6m -c cpc/eval/ABX/dtw.c -o build/temp.linux-x86_64-3.6/cpc/eval/ABX/dtw.o\n",
            "In file included from \u001b[01m\u001b[K/usr/local/lib/python3.6/dist-packages/numpy/core/include/numpy/ndarraytypes.h:1832:0\u001b[m\u001b[K,\n",
            "                 from \u001b[01m\u001b[K/usr/local/lib/python3.6/dist-packages/numpy/core/include/numpy/ndarrayobject.h:12\u001b[m\u001b[K,\n",
            "                 from \u001b[01m\u001b[K/usr/local/lib/python3.6/dist-packages/numpy/core/include/numpy/arrayobject.h:4\u001b[m\u001b[K,\n",
            "                 from \u001b[01m\u001b[Kcpc/eval/ABX/dtw.c:625\u001b[m\u001b[K:\n",
            "\u001b[01m\u001b[K/usr/local/lib/python3.6/dist-packages/numpy/core/include/numpy/npy_1_7_deprecated_api.h:17:2:\u001b[m\u001b[K \u001b[01;35m\u001b[Kwarning: \u001b[m\u001b[K#warning \"Using deprecated NumPy API, disable it with \" \"#define NPY_NO_DEPRECATED_API NPY_1_7_API_VERSION\" [\u001b[01;35m\u001b[K-Wcpp\u001b[m\u001b[K]\n",
            " #\u001b[01;35m\u001b[Kwarning\u001b[m\u001b[K \"Using deprecated NumPy API, disable it with \" \\\n",
            "  \u001b[01;35m\u001b[K^~~~~~~\u001b[m\u001b[K\n",
            "creating build/lib.linux-x86_64-3.6\n",
            "creating build/lib.linux-x86_64-3.6/cpc\n",
            "creating build/lib.linux-x86_64-3.6/cpc/eval\n",
            "creating build/lib.linux-x86_64-3.6/cpc/eval/ABX\n",
            "x86_64-linux-gnu-gcc -pthread -shared -Wl,-O1 -Wl,-Bsymbolic-functions -Wl,-Bsymbolic-functions -Wl,-z,relro -Wl,-Bsymbolic-functions -Wl,-z,relro -g -fstack-protector-strong -Wformat -Werror=format-security -Wdate-time -D_FORTIFY_SOURCE=2 build/temp.linux-x86_64-3.6/cpc/eval/ABX/dtw.o -o build/lib.linux-x86_64-3.6/cpc/eval/ABX/dtw.cpython-36m-x86_64-linux-gnu.so\n",
            "copying build/lib.linux-x86_64-3.6/cpc/eval/ABX/dtw.cpython-36m-x86_64-linux-gnu.so -> cpc/eval/ABX\n",
            "Creating /usr/local/lib/python3.6/dist-packages/CPC-audio.egg-link (link to .)\n",
            "Adding CPC-audio 1.0 to easy-install.pth file\n",
            "\n",
            "Installed /content/CPC_audio\n",
            "Processing dependencies for CPC-audio==1.0\n",
            "Finished processing dependencies for CPC-audio==1.0\n",
            "/\n"
          ],
          "name": "stdout"
        }
      ]
    },
    {
      "cell_type": "markdown",
      "metadata": {
        "colab_type": "text",
        "id": "YZ1Wywx3BNGS"
      },
      "source": [
        "# Part 1 : contrastive predictive coding\n",
        "\n",
        "Contrastive Predictive Coding (CPC) is a method of unsupervised training for speech models. The idea behind it is pretty simple:\n",
        "\n",
        "\n",
        "1.   The raw audio wave is passed through a convolutional network: the ```encoder```\n",
        "2.   Then, the encoder's output is given to a recurrent network the ```context```\n",
        "3. A third party network, the ```prediction_network``` will try to predict the  future embeddings of the encoder using the output of the context network.\n",
        "\n",
        "In order to avoid a collapse to trivial solutions, the prediction_network doesn't try to reconstruct the future features. Instead, using the context output $c_t$ at time $t$ it is trained to discriminate the real  encoder representatioin $g_{t+k}$ at time $t+k$ from several other features $(g_n)_n$ taken elsewhere in the batch. Thus the loss becomes:\n",
        "\n",
        "\\\\[ \\mathcal{L}_c = - \\frac{1}{K} \\sum_{k=1}^K \\text{Cross_entropy}(\\phi_k(c_t), g_{t+k}) \\\\]\n",
        "\n",
        "Or:\n",
        "\n",
        "\\\\[ \\mathcal{L}_c = - \\frac{1}{K} \\sum_{k=1}^K \\log \\frac{ \\exp\\left(\\phi_k(c_t)^\\top g_{t+k}\\right) }{  \\sum_{\\mathbf{n}\\in\\mathcal{N}_t} \\exp\\left(\\phi_k(c_t)^\\top g_n\\right)} \\\\]\n",
        "\n",
        "Where:\n",
        "\n",
        "\n",
        "*   $\\phi_k$ is the prediction network for the kth timestep\n",
        "*   $\\mathcal{N}_t$ is the set of all negative examples sampled for timestep $t$\n",
        "\n",
        "\n"
      ]
    },
    {
      "cell_type": "markdown",
      "metadata": {
        "colab_type": "text",
        "id": "frPFYXuPfNPs"
      },
      "source": [
        "## Exercice 1 : Building the model\n",
        "\n",
        "In this exercise, we will build and train a small CPC model using the repository CPC_audio.\n",
        "\n",
        "The code below loads a context and an encoder newtorks."
      ]
    },
    {
      "cell_type": "code",
      "metadata": {
        "colab_type": "code",
        "id": "8g-xPSdLRdui",
        "colab": {
          "base_uri": "https://localhost:8080/",
          "height": 51
        },
        "outputId": "02ac42d0-ef09-4ed6-a3ef-6022436d825e"
      },
      "source": [
        "%cd /content/CPC_audio\n",
        "from cpc.model import CPCEncoder, CPCAR\n",
        "device = torch.device(\"cuda:0\" if torch.cuda.is_available() else \"cpu\")\n",
        "\n",
        "DIM_ENCODER=256\n",
        "DIM_CONTEXT=256\n",
        "KEEP_HIDDEN_VECTOR=False\n",
        "N_LEVELS_CONTEXT=1\n",
        "CONTEXT_RNN=\"LSTM\"\n",
        "N_PREDICTIONS=12\n",
        "LEARNING_RATE=2e-4\n",
        "N_NEGATIVE_SAMPLE =128\n",
        "%cd ../../"
      ],
      "execution_count": 6,
      "outputs": [
        {
          "output_type": "stream",
          "text": [
            "/content/CPC_audio\n",
            "/\n"
          ],
          "name": "stdout"
        }
      ]
    },
    {
      "cell_type": "code",
      "metadata": {
        "colab_type": "code",
        "id": "7Wx8WkrQk9bQ",
        "colab": {}
      },
      "source": [
        "encoder = CPCEncoder(DIM_ENCODER).to(device)\n",
        "context = CPCAR(DIM_ENCODER, DIM_CONTEXT, KEEP_HIDDEN_VECTOR, 1, mode=CONTEXT_RNN).to(device)"
      ],
      "execution_count": 7,
      "outputs": []
    },
    {
      "cell_type": "code",
      "metadata": {
        "id": "Tlv986QCuMmf",
        "colab_type": "code",
        "colab": {
          "base_uri": "https://localhost:8080/",
          "height": 139
        },
        "outputId": "f91195d8-6bab-4d16-e74e-c5cc4b75534c"
      },
      "source": [
        "!pip install soundfile"
      ],
      "execution_count": 8,
      "outputs": [
        {
          "output_type": "stream",
          "text": [
            "Collecting soundfile\n",
            "  Downloading https://files.pythonhosted.org/packages/eb/f2/3cbbbf3b96fb9fa91582c438b574cff3f45b29c772f94c400e2c99ef5db9/SoundFile-0.10.3.post1-py2.py3-none-any.whl\n",
            "Requirement already satisfied: cffi>=1.0 in /usr/local/lib/python3.6/dist-packages (from soundfile) (1.14.0)\n",
            "Requirement already satisfied: pycparser in /usr/local/lib/python3.6/dist-packages (from cffi>=1.0->soundfile) (2.20)\n",
            "Installing collected packages: soundfile\n",
            "Successfully installed soundfile-0.10.3.post1\n"
          ],
          "name": "stdout"
        }
      ]
    },
    {
      "cell_type": "code",
      "metadata": {
        "colab_type": "code",
        "id": "f9BrweAIla4J",
        "colab": {}
      },
      "source": [
        "# Several functions that will be necessary to load the data later\n",
        "from cpc.dataset import findAllSeqs, AudioBatchData, parseSeqLabels\n",
        "SIZE_WINDOW = 20480\n",
        "BATCH_SIZE=8\n",
        "def load_dataset(path_dataset, file_extension='.wav', phone_label_dict=None):\n",
        "  data_list, speakers = findAllSeqs(path_dataset, extension=file_extension)\n",
        "  dataset = AudioBatchData(path_dataset, SIZE_WINDOW, data_list, phone_label_dict, len(speakers))\n",
        "  return dataset"
      ],
      "execution_count": 9,
      "outputs": []
    },
    {
      "cell_type": "markdown",
      "metadata": {
        "colab_type": "text",
        "id": "58pQ7ysXk9ZO"
      },
      "source": [
        "Now build a new class, ```CPCModel``` which will"
      ]
    },
    {
      "cell_type": "code",
      "metadata": {
        "colab_type": "code",
        "id": "rR5IYRTpRF8T",
        "colab": {}
      },
      "source": [
        "class CPCModel(torch.nn.Module):\n",
        "\n",
        "    def __init__(self,\n",
        "                 encoder,\n",
        "                 AR):\n",
        "\n",
        "        super(CPCModel, self).__init__()\n",
        "        self.gEncoder = encoder\n",
        "        self.gAR = AR\n",
        "\n",
        "    def forward(self, batch_data):\n",
        "        \n",
        "\n",
        "        encoder_output = self.gEncoder(batch_data)\n",
        "        #print(encoder_output.shape)\n",
        "        # The output of the encoder data does not have the good format \n",
        "        # indeed it is Batch_size x Hidden_size x temp size\n",
        "        # while the context requires Batch_size  x temp size x Hidden_size\n",
        "        # thus you need to permute\n",
        "        context_input = encoder_output.permute(0, 2, 1)\n",
        "\n",
        "        context_output = self.gAR(context_input)\n",
        "        #print(context_output.shape)\n",
        "        return context_output, encoder_output"
      ],
      "execution_count": 10,
      "outputs": []
    },
    {
      "cell_type": "markdown",
      "metadata": {
        "colab_type": "text",
        "id": "X27ce8Hy3C2p"
      },
      "source": [
        "## Exercise 2 : CPC loss\n",
        "\n",
        "We will define a class ```CPCCriterion``` which will hold the prediction networks $\\phi_k$ defined above and perform the classification loss $\\mathcal{L}_c$.\n",
        "\n",
        "a) In this exercise, the $\\phi_k$ will be a linear transform, ie:\n",
        "\n",
        "\\\\[ \\phi_k(c_t) = \\mathbf{A}_k c_t\\\\]\n",
        "\n",
        "Using the class [torch.nn.Linear](https://pytorch.org/docs/stable/nn.html#torch.nn.Linear), define the transformations $\\phi_k$ in the code below and complete the function ```get_prediction_k``` which computes $\\phi_k(c_t)$ for a given batch of vectors $c_t$.\n",
        "\n",
        "b) Using both ```get_prediction_k```  and ```sample_negatives``` defined below, write the forward function which will take as input two batches of features $c_t$ and $g_t$ and outputs the classification loss $\\mathcal{L}_c$ and the average acuracy for all predictions. "
      ]
    },
    {
      "cell_type": "code",
      "metadata": {
        "colab_type": "code",
        "id": "UlAs-z1fBc3W",
        "colab": {}
      },
      "source": [
        "# Exercice 2: write the CPC loss\n",
        "# a) Write the negative sampling (with some help)\n",
        "# ERRATUM: it's really hard, the sampling will be provided\n",
        "\n",
        "class CPCCriterion(torch.nn.Module):\n",
        "\n",
        "  def __init__(self,\n",
        "               K,\n",
        "               dim_context,\n",
        "               dim_encoder,\n",
        "               n_negative):\n",
        "    super(CPCCriterion, self).__init__()\n",
        "    self.K_ = K\n",
        "    self.dim_context = dim_context\n",
        "    self.dim_encoder = dim_encoder\n",
        "    self.n_negative = n_negative\n",
        "\n",
        "    self.predictors = torch.nn.ModuleList() \n",
        "    for k in range(self.K_):\n",
        "      # TO COMPLETE !\n",
        "      \n",
        "      # A affine transformation in pytorch is equivalent to a nn.Linear layer\n",
        "      # To get a linear transformation you must set bias=False\n",
        "      # input dimension of the layer = dimension of the encoder\n",
        "      # output dimension of the layer = dimension of the context\n",
        "      self.predictors.append(torch.nn.Linear(dim_context, dim_encoder, bias=False))\n",
        "\n",
        "  def get_prediction_k(self, context_data):\n",
        "\n",
        "    #TO COMPLETE !\n",
        "    output = [] \n",
        "    # For each time step k\n",
        "    for k in range(self.K_):\n",
        "\n",
        "      # We need to compute phi_k = A_k * c_t\n",
        "      phi_k = self.predictors[k](context_data)\n",
        "      output.append(phi_k)\n",
        "\n",
        "    return output\n",
        "\n",
        "\n",
        "  def sample_negatives(self, encoded_data):\n",
        "    r\"\"\"\n",
        "    Sample some negative examples in the given encoded data.\n",
        "    Input:\n",
        "    - encoded_data size: B x T x H\n",
        "    Returns\n",
        "    - outputs of size B x (n_negative + 1) x (T - K_) x H\n",
        "      outputs[:, 0, :, :] contains the positive example\n",
        "      outputs[:, 1:, :, :] contains negative example sampled in the batch\n",
        "    - labels, long tensor of size B x (T - K_)\n",
        "      Since the positive example is always at coordinates 0 for all sequences \n",
        "      in the batch and all timestep in the sequence, labels is just a tensor\n",
        "      full of zeros !\n",
        "    \"\"\"\n",
        "    batch_size, time_size, dim_encoded = encoded_data.size()\n",
        "    window_size = time_size - self.K_\n",
        "    outputs = []\n",
        "\n",
        "    neg_ext = encoded_data.contiguous().view(-1, dim_encoded)\n",
        "    n_elem_sampled = self.n_negative * window_size * batch_size\n",
        "    # Draw nNegativeExt * batchSize negative samples anywhere in the batch\n",
        "    batch_idx = torch.randint(low=0, high=batch_size,\n",
        "                              size=(n_elem_sampled, ),\n",
        "                              device=encoded_data.device)\n",
        "\n",
        "    seq_idx = torch.randint(low=1, high=time_size,\n",
        "                            size=(n_elem_sampled, ),\n",
        "                            device=encoded_data.device)\n",
        "\n",
        "    base_idx = torch.arange(0, window_size, device=encoded_data.device)\n",
        "    base_idx = base_idx.view(1, 1, window_size)\n",
        "    base_idx = base_idx.expand(1, self.n_negative, window_size)\n",
        "    base_idx = base_idx.expand(batch_size, self.n_negative, window_size)\n",
        "    seq_idx += base_idx.contiguous().view(-1)\n",
        "    seq_idx = torch.remainder(seq_idx, time_size)\n",
        "\n",
        "    ext_idx = seq_idx + batch_idx * time_size\n",
        "    neg_ext = neg_ext[ext_idx].view(batch_size, self.n_negative,\n",
        "                                    window_size, dim_encoded)\n",
        "    label_loss = torch.zeros((batch_size, window_size),\n",
        "                              dtype=torch.long,\n",
        "                              device=encoded_data.device)\n",
        "\n",
        "    for k in range(1, self.K_ + 1):\n",
        "\n",
        "      # Positive samples\n",
        "      if k < self.K_:\n",
        "          pos_seq = encoded_data[:, k:-(self.K_-k)]\n",
        "      else:\n",
        "          pos_seq = encoded_data[:, k:]\n",
        "\n",
        "      pos_seq = pos_seq.view(batch_size, 1, pos_seq.size(1), dim_encoded)\n",
        "      full_seq = torch.cat((pos_seq, neg_ext), dim=1)\n",
        "      outputs.append(full_seq)\n",
        "\n",
        "    return outputs, label_loss\n",
        "\n",
        "  def forward(self, encoded_data, context_data):\n",
        "\n",
        "    # TO COMPLETE:\n",
        "    # Perform the full cpc criterion\n",
        "    # Returns 2 values:\n",
        "    # - the average classification loss avg_loss\n",
        "    # - the average classification acuracy avg_acc\n",
        "\n",
        "    # Reminder : The permuation !\n",
        "    encoded_data = encoded_data.permute(0, 2, 1)\n",
        "\n",
        "    # First we need to sample the negative examples\n",
        "    negative_samples, labels = self.sample_negatives(encoded_data)\n",
        "\n",
        "    # Then we must compute phi_k\n",
        "    phi_k = self.get_prediction_k(context_data)\n",
        "\n",
        "    # Finally we must get the dot product between phi_k and negative_samples \n",
        "    # for each k\n",
        "\n",
        "    #The total loss is the average of all losses\n",
        "    avg_loss = 0\n",
        "\n",
        "    # Average acuracy\n",
        "    avg_acc = 0\n",
        "\n",
        "    for k in range(self.K_):\n",
        "      B, N_sampled, S_small, H = negative_samples[k].size() \n",
        "      B, S, H = phi_k[k].size()\n",
        "\n",
        "      # As told before S = S_small + K. For segments too far in the sequence\n",
        "      # there are no positive exmples anyway, so we must shorten phi_k\n",
        "      phi = phi_k[k][:, :S_small]\n",
        "\n",
        "      # Now the dot product\n",
        "      # You have several ways to do that, let's do the simple but non optimal \n",
        "      # one\n",
        "      # pytorch has a matrix product function https://pytorch.org/docs/stable/torch.html#torch.bmm\n",
        "      # But it takes only 3D tensors of the same batch size !\n",
        "      # To begin negative_samples is a 4D tensor ! \n",
        "      # We want to compute the dot product for each features, of each sequence\n",
        "      # of the batch. Thus we are trying to compute a dot product for all\n",
        "      # B* N_sampled * S_small 1D vector of negative_samples[k]\n",
        "      # Or, a 1D tensor of size H is also a matrix of size 1 x H\n",
        "      # Then, we must view it as a 3D tensor of size (B* N_sampled * S_small, 1, H)\n",
        "      negative_sample_k  =  negative_samples[k].view(B* N_sampled* S_small, 1, H)\n",
        "\n",
        "      # But now phi and negative_sample_k no longer have the same batch size !\n",
        "      # No worries, we can expand phi so that each sequence of the batch\n",
        "      # is repeated N_sampled times\n",
        "      phi = phi.view(B, 1,S_small, H).expand(B, N_sampled, S_small, H)\n",
        "\n",
        "      # And now we can view it as a 3D tensor \n",
        "      phi  = phi.contiguous().view(B * N_sampled * S_small, H, 1)\n",
        "\n",
        "      # We can finally get the dot product !\n",
        "      scores = torch.bmm(negative_sample_k, phi)\n",
        "\n",
        "      # Dot_product has a size (B * N_sampled * S_small , 1, 1)\n",
        "      # Let's reorder it a bit\n",
        "      scores = scores.reshape(B, N_sampled, S_small)\n",
        "\n",
        "      # For each elements of the sequence, and each elements sampled, it gives \n",
        "      # a floating score stating the likelihood of this element being the \n",
        "      # true one.\n",
        "      # Now the classification loss, we need to use the Cross Entropy loss\n",
        "      # https://pytorch.org/docs/master/generated/torch.nn.CrossEntropyLoss.html\n",
        "\n",
        "      # For each time-step of each sequence of the batch \n",
        "      # we have N_sampled possible predictions. \n",
        "      # Looking at the documentation of torch.nn.CrossEntropyLoss\n",
        "      # we can see that this loss expect a tensor of size M x C where \n",
        "      # - M is the number of elements with a classification score\n",
        "      # - C is the number of possible classes\n",
        "      # There are N_sampled candidates for each predictions so\n",
        "      # C = N_sampled \n",
        "      # Each timestep of each sequence of the batch has a prediction so\n",
        "      # M = B * S_small\n",
        "      # Thus we need an input vector of size B * S_small, N_sampled\n",
        "      # To begin, we need to permute the axis\n",
        "      scores = scores.permute(0, 2, 1) # Now it has size B , S_small, N_sampled\n",
        "\n",
        "      # Then we can cast it into a 2D tensor\n",
        "      scores = scores.reshape(B * S_small, N_sampled)\n",
        "\n",
        "      # Same thing for the labels \n",
        "      labels = labels.reshape(B * S_small)\n",
        "\n",
        "      # Finally we can get the classification loss\n",
        "      loss_criterion = torch.nn.CrossEntropyLoss()\n",
        "      loss_k = loss_criterion(scores, labels)\n",
        "      avg_loss+= loss_k\n",
        "\n",
        "      # And for the acuracy\n",
        "      # The prediction for each elements is the sample with the highest score\n",
        "      # Thus the tensors of all predictions is the tensors of the index of the \n",
        "      # maximal score for each time-step of each sequence of the batch\n",
        "      predictions = torch.argmax(scores, 1)\n",
        "      acc_k  = (labels == predictions).sum() / (B * S_small)\n",
        "      avg_acc += acc_k\n",
        "\n",
        "    # Normalization\n",
        "    avg_loss = avg_loss / self.K_\n",
        "    avg_acc = avg_acc / self.K_\n",
        "      \n",
        "    return avg_loss , avg_acc"
      ],
      "execution_count": 11,
      "outputs": []
    },
    {
      "cell_type": "code",
      "metadata": {
        "id": "KA-vWb-gqBHe",
        "colab_type": "code",
        "colab": {
          "base_uri": "https://localhost:8080/",
          "height": 136
        },
        "outputId": "465ddf64-f6b1-4b0e-f535-ac76bbbe410e"
      },
      "source": [
        "!ls"
      ],
      "execution_count": 12,
      "outputs": [
        {
          "output_type": "stream",
          "text": [
            "bin\t\t\t\t\t   etc\t  opt\t sys\n",
            "boot\t\t\t\t\t   home   proc\t tensorflow-1.15.2\n",
            "content\t\t\t\t\t   lib\t  root\t tmp\n",
            "datalab\t\t\t\t\t   lib32  run\t tools\n",
            "dev\t\t\t\t\t   lib64  sbin\t usr\n",
            "dlib-19.18.0-cp27-cp27mu-linux_x86_64.whl  media  srv\t var\n",
            "dlib-19.18.0-cp36-cp36m-linux_x86_64.whl   mnt\t  swift\n"
          ],
          "name": "stdout"
        }
      ]
    },
    {
      "cell_type": "code",
      "metadata": {
        "id": "8uhZx4rnqKQh",
        "colab_type": "code",
        "colab": {
          "base_uri": "https://localhost:8080/",
          "height": 122
        },
        "outputId": "506505a0-89c3-48ef-e3c1-7be8ad8cb881"
      },
      "source": [
        "from google.colab import drive\n",
        "drive.mount('/content/drive')"
      ],
      "execution_count": 13,
      "outputs": [
        {
          "output_type": "stream",
          "text": [
            "Go to this URL in a browser: https://accounts.google.com/o/oauth2/auth?client_id=947318989803-6bn6qk8qdgf4n4g3pfee6491hc0brc4i.apps.googleusercontent.com&redirect_uri=urn%3aietf%3awg%3aoauth%3a2.0%3aoob&response_type=code&scope=email%20https%3a%2f%2fwww.googleapis.com%2fauth%2fdocs.test%20https%3a%2f%2fwww.googleapis.com%2fauth%2fdrive%20https%3a%2f%2fwww.googleapis.com%2fauth%2fdrive.photos.readonly%20https%3a%2f%2fwww.googleapis.com%2fauth%2fpeopleapi.readonly\n",
            "\n",
            "Enter your authorization code:\n",
            "··········\n",
            "Mounted at /content/drive\n"
          ],
          "name": "stdout"
        }
      ]
    },
    {
      "cell_type": "code",
      "metadata": {
        "id": "l-W_AdpLrBhV",
        "colab_type": "code",
        "colab": {}
      },
      "source": [
        "data_dir = '/content/drive/My Drive/PidginSpeech'\n",
        "train_dir = data_dir + '/records/train'\n",
        "test_dir = data_dir + '/records/test'\n",
        "val_dir = data_dir + '/records/val'"
      ],
      "execution_count": 14,
      "outputs": []
    },
    {
      "cell_type": "code",
      "metadata": {
        "id": "MLUwmUQ6qTsr",
        "colab_type": "code",
        "colab": {}
      },
      "source": [
        "# !unzip /content/drive/\"My Drive\"/part2.zip"
      ],
      "execution_count": null,
      "outputs": []
    },
    {
      "cell_type": "code",
      "metadata": {
        "id": "j3I1mU87rfWh",
        "colab_type": "code",
        "colab": {}
      },
      "source": [
        "#!ls"
      ],
      "execution_count": 15,
      "outputs": []
    },
    {
      "cell_type": "markdown",
      "metadata": {
        "colab_type": "text",
        "id": "0cqGXhLf-_O1"
      },
      "source": [
        "Don't forget to test !"
      ]
    },
    {
      "cell_type": "code",
      "metadata": {
        "colab_type": "code",
        "id": "sYJSMh5I_QCf",
        "colab": {
          "base_uri": "https://localhost:8080/",
          "height": 54
        },
        "outputId": "1cfbd3b7-4d11-4159-8792-10061456df2b"
      },
      "source": [
        "audio = torchaudio.load(train_dir + \"/200624-232607_pcm_9fa_elicit_5.wav\")\n",
        "audio = audio[0].view(1, 1, -1)\n",
        "cpc_model = CPCModel(encoder, context).to(device)\n",
        "cpc_criterion = CPCCriterion(N_PREDICTIONS, DIM_CONTEXT, \n",
        "                             DIM_ENCODER, N_NEGATIVE_SAMPLE).to(device)\n",
        "context_output, encoder_output = cpc_model(audio.to(device))\n",
        "loss, avg = cpc_criterion(encoder_output,context_output)"
      ],
      "execution_count": 16,
      "outputs": [
        {
          "output_type": "stream",
          "text": [
            "/pytorch/aten/src/ATen/native/BinaryOps.cpp:81: UserWarning: Integer division of tensors using div or / is deprecated, and in a future release div will perform true division as in Python 3. Use true_divide or floor_divide (// in Python) instead.\n"
          ],
          "name": "stderr"
        }
      ]
    },
    {
      "cell_type": "markdown",
      "metadata": {
        "colab_type": "text",
        "id": "zLv7GoE0_4C3"
      },
      "source": [
        "## Exercise 3: Full training loop !\n",
        "\n",
        "You have the model, you have the criterion. All you need now are a data loader and an optimizer to run your training loop.\n",
        "\n",
        "We will use an Adam optimizer:"
      ]
    },
    {
      "cell_type": "code",
      "metadata": {
        "colab_type": "code",
        "id": "zcg29tqPAIR1",
        "colab": {}
      },
      "source": [
        "parameters = list(cpc_criterion.parameters()) + list(cpc_model.parameters())\n",
        "optimizer = torch.optim.Adam(parameters, lr=LEARNING_RATE)"
      ],
      "execution_count": 17,
      "outputs": []
    },
    {
      "cell_type": "markdown",
      "metadata": {
        "colab_type": "text",
        "id": "hETDwSfTAuF4"
      },
      "source": [
        "And as far as the data loader is concerned, we will rely on the data loader provided by the CPC_audio library."
      ]
    },
    {
      "cell_type": "code",
      "metadata": {
        "colab_type": "code",
        "id": "O6KES4RXA0tU",
        "colab": {
          "base_uri": "https://localhost:8080/",
          "height": 343
        },
        "outputId": "8c6e5b3d-5966-4916-8727-7c36b791b2cd"
      },
      "source": [
        "dataset_train = load_dataset(train_dir)\n",
        "dataset_val = load_dataset(val_dir)\n",
        "data_loader_train = dataset_train.getDataLoader(BATCH_SIZE, \"speaker\", True)\n",
        "data_loader_val = dataset_train.getDataLoader(BATCH_SIZE, \"sequence\", False)"
      ],
      "execution_count": 18,
      "outputs": [
        {
          "output_type": "stream",
          "text": [
            "1it [00:00, 129.25it/s]"
          ],
          "name": "stderr"
        },
        {
          "output_type": "stream",
          "text": [
            "Saved cache file at /content/drive/My Drive/PidginSpeech/records/train/_seqs_cache.txt\n"
          ],
          "name": "stdout"
        },
        {
          "output_type": "stream",
          "text": [
            "\n"
          ],
          "name": "stderr"
        },
        {
          "output_type": "stream",
          "text": [
            "Checking length...\n"
          ],
          "name": "stdout"
        },
        {
          "output_type": "stream",
          "text": [
            "379it [00:00, 520852.30it/s]\n"
          ],
          "name": "stderr"
        },
        {
          "output_type": "stream",
          "text": [
            "Done, elapsed: 14.855 seconds\n",
            "Scanned 379 sequences in 14.86 seconds\n",
            "1 chunks computed\n",
            "Joining pool\n"
          ],
          "name": "stdout"
        },
        {
          "output_type": "stream",
          "text": [
            "1it [00:00, 59.44it/s]"
          ],
          "name": "stderr"
        },
        {
          "output_type": "stream",
          "text": [
            "Joined process, elapsed=1.222 secs\n",
            "Saved cache file at /content/drive/My Drive/PidginSpeech/records/val/_seqs_cache.txt\n"
          ],
          "name": "stdout"
        },
        {
          "output_type": "stream",
          "text": [
            "\n"
          ],
          "name": "stderr"
        },
        {
          "output_type": "stream",
          "text": [
            "Checking length...\n"
          ],
          "name": "stdout"
        },
        {
          "output_type": "stream",
          "text": [
            "94it [00:00, 92355.25it/s]\n"
          ],
          "name": "stderr"
        },
        {
          "output_type": "stream",
          "text": [
            "Done, elapsed: 3.854 seconds\n",
            "Scanned 94 sequences in 3.85 seconds\n",
            "1 chunks computed\n",
            "Joining pool\n",
            "Joined process, elapsed=0.384 secs\n"
          ],
          "name": "stdout"
        }
      ]
    },
    {
      "cell_type": "markdown",
      "metadata": {
        "colab_type": "text",
        "id": "uCoMCPL0A8VI"
      },
      "source": [
        "Now that everything is ready, complete and test the ```train_step``` function below which trains the model for one epoch."
      ]
    },
    {
      "cell_type": "code",
      "metadata": {
        "colab_type": "code",
        "id": "U-hIH3p8BsZr",
        "colab": {}
      },
      "source": [
        "def train_step(data_loader,\n",
        "               cpc_model,\n",
        "               cpc_criterion,\n",
        "               optimizer):\n",
        "  \n",
        "  avg_loss = 0\n",
        "  avg_acc = 0\n",
        "  n_items = 0\n",
        "\n",
        "  for step, data in enumerate(data_loader):\n",
        "    x,y = data\n",
        "    bs = len(x)\n",
        "    optimizer.zero_grad()\n",
        "    context_output, encoder_output = cpc_model(x.to(device))\n",
        "    loss , acc = cpc_criterion(encoder_output, context_output)\n",
        "    loss.backward()\n",
        "    n_items+=bs\n",
        "    avg_loss+=loss.item()*bs\n",
        "    avg_acc +=acc.item()*bs\n",
        "  \n",
        "  avg_loss/=n_items\n",
        "  avg_acc/=n_items\n",
        "  return avg_loss, avg_acc"
      ],
      "execution_count": 19,
      "outputs": []
    },
    {
      "cell_type": "markdown",
      "metadata": {
        "colab_type": "text",
        "id": "rIj06giJE_bZ"
      },
      "source": [
        "## Exercise 4 : Validation loop\n",
        "\n",
        "Now complete the validation loop."
      ]
    },
    {
      "cell_type": "code",
      "metadata": {
        "colab_type": "code",
        "id": "Q7Qwi6jDByyt",
        "colab": {}
      },
      "source": [
        "def validation_step(data_loader,\n",
        "                    cpc_model,\n",
        "                    cpc_criterion):\n",
        "  \n",
        "  avg_loss = 0\n",
        "  avg_acc = 0\n",
        "  n_items = 0\n",
        "\n",
        "  for step, data in enumerate(data_loader):\n",
        "    x,y = data\n",
        "    bs = len(x)\n",
        "    context_output, encoder_output = cpc_model(x.to(device))\n",
        "    loss , acc = cpc_criterion(encoder_output, context_output)\n",
        "    n_items+=bs\n",
        "    avg_loss+=loss.item()*bs\n",
        "    avg_acc+=acc.item()*bs\n",
        "  \n",
        "  avg_loss/=n_items\n",
        "  avg_acc/=n_items\n",
        "  return avg_loss, avg_acc"
      ],
      "execution_count": 20,
      "outputs": []
    },
    {
      "cell_type": "markdown",
      "metadata": {
        "colab_type": "text",
        "id": "OBVUPKKs2_0U"
      },
      "source": [
        "## Exercise 5: Run everything"
      ]
    },
    {
      "cell_type": "code",
      "metadata": {
        "colab_type": "code",
        "id": "ZbXsZIRiB1tm",
        "colab": {}
      },
      "source": [
        "def run(train_loader,\n",
        "        val_loader,\n",
        "        cpc_model,\n",
        "        cpc_criterion,\n",
        "        optimizer,\n",
        "        n_epochs):\n",
        "  \n",
        "  for epoch in range(n_epochs):\n",
        "\n",
        "    \n",
        "    print(f\"Running epoch {epoch+1} / {n_epochs}\")\n",
        "    avg_loss_train, avg_acc_train = train_step(train_loader, cpc_model, cpc_criterion, optimizer)\n",
        "    print(\"----------------------\")\n",
        "    print(f\"Training dataset\")\n",
        "    print(f\"- average loss : {avg_loss_train}\")\n",
        "    print(f\"- average acuracy : {avg_acc_train}\")\n",
        "    print(\"----------------------\")\n",
        "    with torch.no_grad():\n",
        "      cpc_model.eval()\n",
        "      cpc_criterion.eval()\n",
        "      avg_loss_val, avg_acc_val = validation_step(val_loader, cpc_model, cpc_criterion)\n",
        "      print(f\"Validation dataset\")\n",
        "      print(f\"- average loss : {avg_loss_val}\")\n",
        "      print(f\"- average acuracy : {avg_acc_val}\")\n",
        "      print(\"----------------------\")\n",
        "      print()\n",
        "      cpc_model.train()\n",
        "      cpc_criterion.train()"
      ],
      "execution_count": 21,
      "outputs": []
    },
    {
      "cell_type": "code",
      "metadata": {
        "colab_type": "code",
        "id": "5xx8vN2wpECC",
        "colab": {}
      },
      "source": [
        "#run(data_loader_train, data_loader_val, cpc_model,cpc_criterion,optimizer,10)"
      ],
      "execution_count": null,
      "outputs": []
    },
    {
      "cell_type": "markdown",
      "metadata": {
        "colab_type": "text",
        "id": "5hoT3_3W6HYY"
      },
      "source": [
        "Once everything is donw, clear the memory."
      ]
    },
    {
      "cell_type": "code",
      "metadata": {
        "colab_type": "code",
        "id": "fU5mDOY46KSG",
        "colab": {}
      },
      "source": [
        "del dataset_train\n",
        "del dataset_val\n",
        "del cpc_model\n",
        "del context\n",
        "del encoder"
      ],
      "execution_count": null,
      "outputs": []
    },
    {
      "cell_type": "markdown",
      "metadata": {
        "colab_type": "text",
        "id": "srPM5r_LB9v-"
      },
      "source": [
        "# Part 2 : Fine tuning"
      ]
    },
    {
      "cell_type": "code",
      "metadata": {
        "id": "D3PJqcbptSO5",
        "colab_type": "code",
        "colab": {
          "base_uri": "https://localhost:8080/",
          "height": 51
        },
        "outputId": "c66412ed-c0cc-40ba-bf5c-762adbca7b2c"
      },
      "source": [
        "%cd /content/CPC_audio\n",
        "from cpc.model import CPCEncoder, CPCAR\n",
        "\n",
        "DIM_ENCODER=256\n",
        "DIM_CONTEXT=256\n",
        "KEEP_HIDDEN_VECTOR=False\n",
        "N_LEVELS_CONTEXT=1\n",
        "CONTEXT_RNN=\"LSTM\"\n",
        "N_PREDICTIONS=12\n",
        "LEARNING_RATE=2e-4\n",
        "N_NEGATIVE_SAMPLE =128\n",
        "%cd ../../"
      ],
      "execution_count": 22,
      "outputs": [
        {
          "output_type": "stream",
          "text": [
            "/content/CPC_audio\n",
            "/\n"
          ],
          "name": "stdout"
        }
      ]
    },
    {
      "cell_type": "code",
      "metadata": {
        "id": "OYReQgfztZCu",
        "colab_type": "code",
        "colab": {}
      },
      "source": [
        "encoder = CPCEncoder(DIM_ENCODER)\n",
        "context = CPCAR(DIM_ENCODER, DIM_CONTEXT, KEEP_HIDDEN_VECTOR, 1, mode=CONTEXT_RNN)"
      ],
      "execution_count": 23,
      "outputs": []
    },
    {
      "cell_type": "code",
      "metadata": {
        "id": "gBWPmCyGtgrd",
        "colab_type": "code",
        "colab": {}
      },
      "source": [
        ""
      ],
      "execution_count": null,
      "outputs": []
    },
    {
      "cell_type": "markdown",
      "metadata": {
        "colab_type": "text",
        "id": "0Nb_-0IQiJk9"
      },
      "source": [
        "## Exercice 1 : Phone separability with aligned phonemes.\n",
        "\n",
        "One option to evaluate the quality of the features trained with CPC can be to check if they can be used to recognize phonemes. \n",
        "To do so, we can fine-tune a pre-trained model using a limited amount of labelled speech data.\n",
        "We are going to start with a simple evaluation setting where we have the phone labels for each timestep corresponding to a CPC feature.\n",
        "\n",
        "We will work with a model already pre-trained on English data. As far as the fine-tuning dataset is concerned, we will use a 1h subset of [librispeech-100](http://www.openslr.org/12/). "
      ]
    },
    {
      "cell_type": "code",
      "metadata": {
        "colab_type": "code",
        "id": "N-scDMAasXxc",
        "colab": {
          "base_uri": "https://localhost:8080/",
          "height": 615
        },
        "outputId": "2688e8d4-c180-4597-f0e7-8c92930fb2f1"
      },
      "source": [
        "!mkdir checkpoint_data\n",
        "!wget https://dl.fbaipublicfiles.com/librilight/CPC_checkpoints/not_hub/2levels_6k_top_ctc/checkpoint_30.pt -P checkpoint_data\n",
        "!wget https://dl.fbaipublicfiles.com/librilight/CPC_checkpoints/not_hub/2levels_6k_top_ctc/checkpoint_logs.json -P checkpoint_data\n",
        "!wget https://dl.fbaipublicfiles.com/librilight/CPC_checkpoints/not_hub/2levels_6k_top_ctc/checkpoint_args.json -P checkpoint_data\n",
        "!ls checkpoint_data"
      ],
      "execution_count": 24,
      "outputs": [
        {
          "output_type": "stream",
          "text": [
            "--2020-07-06 15:29:06--  https://dl.fbaipublicfiles.com/librilight/CPC_checkpoints/not_hub/2levels_6k_top_ctc/checkpoint_30.pt\n",
            "Resolving dl.fbaipublicfiles.com (dl.fbaipublicfiles.com)... 104.22.74.142, 172.67.9.4, 104.22.75.142, ...\n",
            "Connecting to dl.fbaipublicfiles.com (dl.fbaipublicfiles.com)|104.22.74.142|:443... connected.\n",
            "HTTP request sent, awaiting response... 200 OK\n",
            "Length: 113599715 (108M) [application/octet-stream]\n",
            "Saving to: ‘checkpoint_data/checkpoint_30.pt’\n",
            "\n",
            "checkpoint_30.pt    100%[===================>] 108.34M   102MB/s    in 1.1s    \n",
            "\n",
            "2020-07-06 15:29:08 (102 MB/s) - ‘checkpoint_data/checkpoint_30.pt’ saved [113599715/113599715]\n",
            "\n",
            "--2020-07-06 15:29:09--  https://dl.fbaipublicfiles.com/librilight/CPC_checkpoints/not_hub/2levels_6k_top_ctc/checkpoint_logs.json\n",
            "Resolving dl.fbaipublicfiles.com (dl.fbaipublicfiles.com)... 104.22.75.142, 172.67.9.4, 104.22.74.142, ...\n",
            "Connecting to dl.fbaipublicfiles.com (dl.fbaipublicfiles.com)|104.22.75.142|:443... connected.\n",
            "HTTP request sent, awaiting response... 200 OK\n",
            "Length: 20786 (20K) [text/plain]\n",
            "Saving to: ‘checkpoint_data/checkpoint_logs.json’\n",
            "\n",
            "checkpoint_logs.jso 100%[===================>]  20.30K  --.-KB/s    in 0.007s  \n",
            "\n",
            "2020-07-06 15:29:09 (2.96 MB/s) - ‘checkpoint_data/checkpoint_logs.json’ saved [20786/20786]\n",
            "\n",
            "--2020-07-06 15:29:10--  https://dl.fbaipublicfiles.com/librilight/CPC_checkpoints/not_hub/2levels_6k_top_ctc/checkpoint_args.json\n",
            "Resolving dl.fbaipublicfiles.com (dl.fbaipublicfiles.com)... 104.22.74.142, 172.67.9.4, 104.22.75.142, ...\n",
            "Connecting to dl.fbaipublicfiles.com (dl.fbaipublicfiles.com)|104.22.74.142|:443... connected.\n",
            "HTTP request sent, awaiting response... 200 OK\n",
            "Length: 2063 (2.0K) [text/plain]\n",
            "Saving to: ‘checkpoint_data/checkpoint_args.json’\n",
            "\n",
            "checkpoint_args.jso 100%[===================>]   2.01K  --.-KB/s    in 0s      \n",
            "\n",
            "2020-07-06 15:29:11 (31.6 MB/s) - ‘checkpoint_data/checkpoint_args.json’ saved [2063/2063]\n",
            "\n",
            "checkpoint_30.pt  checkpoint_args.json\tcheckpoint_logs.json\n"
          ],
          "name": "stdout"
        }
      ]
    },
    {
      "cell_type": "code",
      "metadata": {
        "id": "w-AuIpKBKKTi",
        "colab_type": "code",
        "colab": {}
      },
      "source": [
        "#!ls"
      ],
      "execution_count": 25,
      "outputs": []
    },
    {
      "cell_type": "code",
      "metadata": {
        "colab_type": "code",
        "id": "SSSaiYo82_oY",
        "colab": {
          "base_uri": "https://localhost:8080/",
          "height": 411
        },
        "outputId": "2e59cd99-e2f3-4671-9aa4-c8da163f69c5"
      },
      "source": [
        "# %cd /content/CPC_audio\n",
        "from cpc.dataset import parseSeqLabels\n",
        "from cpc.feature_loader import loadModel, getCheckpointData\n",
        "import os\n",
        "\n",
        "checkpoint_path = 'checkpoint_data/checkpoint_30.pt'\n",
        "\n",
        "cpc_model, HIDDEN_CONTEXT_MODEL, HIDDEN_ENCODER_MODEL = loadModel([checkpoint_path])\n",
        "cpc_model = cpc_model.cuda()\n",
        "label_dict, N_PHONES = parseSeqLabels(data_dir+\"/chars.txt\")\n",
        "print(label_dict)\n",
        "dataset_train = load_dataset(train_dir, file_extension='.wav', phone_label_dict=label_dict)\n",
        "dataset_val = load_dataset(val_dir, file_extension='.wav', phone_label_dict=label_dict)\n",
        "data_loader_train = dataset_train.getDataLoader(BATCH_SIZE, \"speaker\", True)\n",
        "data_loader_val = dataset_val.getDataLoader(BATCH_SIZE, \"sequence\", False)"
      ],
      "execution_count": 26,
      "outputs": [
        {
          "output_type": "stream",
          "text": [
            "Loading checkpoint checkpoint_data/checkpoint_30.pt\n",
            "Loading the state dict at checkpoint_data/checkpoint_30.pt\n"
          ],
          "name": "stdout"
        },
        {
          "output_type": "stream",
          "text": [
            "1it [00:00, 125.19it/s]"
          ],
          "name": "stderr"
        },
        {
          "output_type": "stream",
          "text": [
            "{'step': 160, '200701-173430_pcm_9fa_elicit_0': [24, 22, 2, 9, 17, 1, 6, 17, 14, 13, 14, 1, 19, 10, 26, 1, 21, 26, 10, 4, 1, 23, 18, 17, 1, 7, 17, 14, 13, 5, 23, 1, 4, 17, 2, 1, 12, 10, 1, 25, 10, 8, 17, 1, 22, 14, 1, 17, 1, 3, 7, 17, 22, 25, 18, 1, 23, 10, 1, 23, 18, 17, 1, 4, 10, 8, 22, 26, 1, 15, 7, 10, 8, 1, 11, 22, 8, 22, 7, 16, 22, 20], '200701-173430_pcm_9fa_elicit_1': [24, 22, 26, 2, 1, 3, 17, 10, 3, 5, 17, 1, 15, 7, 10, 8, 1, 11, 2, 25, 18, 22, 7, 1, 12, 17, 23, 1, 15, 22, 16, 23, 18, 1, 15, 10, 7, 1, 6, 17, 14, 13, 14, 1, 9, 17, 25, 22, 13, 14, 17, 1, 10, 15, 1, 4, 17, 23, 16, 26, 1, 23, 18, 17, 1, 4, 10, 8, 22, 26, 1, 23, 17, 5, 5, 1, 19, 17, 8, 20, 1, 28, 1, 23, 17, 5, 5, 1, 19, 17, 8, 1, 14, 17, 2, 27], '200701-173430_pcm_9fa_elicit_2': [37, 28, 1, 23, 17, 5, 5, 1, 8, 17, 1, 22, 5, 5, 1, 23, 18, 17, 1, 23, 18, 16, 14, 1, 4, 17, 2, 1, 34, 1, 19, 10, 26, 1, 19, 10, 20, 31, 1, 33, 6, 10, 18, 26, 1, 29, 27, 35, 32, 30, 1, 11, 10, 36, 1, 4, 18, 17, 26, 1, 23, 18, 17, 1, 3, 17, 10, 3, 5, 17, 1, 15, 7, 10, 8, 1, 11, 2, 25, 18, 22, 7, 1, 7, 17, 22, 25, 18, 1, 23, 18, 17, 1, 4, 17, 5, 5, 36], '200701-173430_pcm_9fa_elicit_3': [19, 17, 8, 1, 14, 17, 2, 1, 8, 22, 21, 17, 1, 6, 17, 14, 13, 14, 1, 14, 23, 22, 2, 1, 4, 16, 23, 18, 1, 19, 17, 8, 1, 22, 26, 19, 1, 23, 17, 5, 5, 1, 19, 17, 8, 1, 8, 10, 7, 17, 20, 1, 6, 17, 14, 13, 14, 1, 12, 7, 17, 17, 36, 1, 22, 26, 19, 1, 17, 1, 14, 23, 22, 2, 1, 11, 22, 8, 22, 7, 16, 22, 1, 15, 10, 7, 1, 23, 4, 10, 1, 19, 22, 2, 14, 20], '200701-173430_pcm_9fa_elicit_4': [40, 14, 1, 11, 22, 8, 22, 7, 16, 22, 1, 3, 17, 10, 3, 5, 17, 1, 19, 17, 2, 1, 5, 16, 14, 23, 17, 26, 1, 23, 10, 1, 6, 17, 14, 13, 14, 36, 1, 8, 22, 26, 2, 1, 10, 15, 1, 19, 17, 8, 1, 25, 10, 8, 17, 1, 9, 17, 5, 16, 17, 38, 17, 1, 22, 8, 20, 1, 39, 17, 8, 1, 23, 17, 5, 5, 1, 23, 18, 17, 1, 4, 10, 8, 22, 26, 1, 14, 17, 2, 27], '200701-173430_pcm_9fa_elicit_5': [37, 42, 10, 1, 9, 17, 1, 41, 13, 14, 23, 1, 9, 17, 25, 22, 13, 14, 17, 1, 10, 15, 1, 4, 17, 23, 16, 26, 1, 2, 10, 13, 1, 23, 22, 5, 21, 1, 8, 22, 21, 17, 1, 13, 14, 1, 9, 17, 5, 16, 17, 38, 17, 36, 1, 26, 10, 4, 1, 4, 17, 1, 19, 10, 26, 1, 18, 17, 22, 7, 1, 22, 8, 1, 9, 2, 1, 10, 13, 7, 14, 17, 5, 15, 36], '200701-173430_pcm_9fa_elicit_6': [22, 26, 19, 1, 4, 17, 1, 21, 26, 10, 4, 1, 14, 17, 2, 1, 26, 22, 1, 23, 18, 16, 14, 1, 8, 22, 26, 1, 7, 17, 22, 5, 5, 2, 1, 9, 17, 1, 23, 18, 17, 1, 3, 17, 7, 14, 10, 26, 1, 4, 17, 2, 1, 12, 10, 1, 14, 22, 38, 17, 1, 23, 18, 16, 14, 1, 4, 10, 7, 5, 19, 20, 31, 1, 33, 6, 10, 18, 26, 1, 29, 27, 29, 43, 30], '200701-173430_pcm_9fa_elicit_7': [46, 18, 17, 1, 23, 7, 13, 23, 18, 1, 9, 17, 1, 14, 17, 2, 1, 23, 18, 17, 1, 4, 10, 8, 22, 26, 1, 15, 7, 10, 8, 1, 11, 22, 8, 22, 7, 16, 22, 1, 19, 10, 26, 1, 23, 17, 22, 25, 18, 1, 13, 14, 1, 9, 17, 23, 23, 17, 7, 1, 17, 45, 22, 8, 3, 5, 17, 1, 10, 15, 1, 18, 10, 4, 1, 23, 10, 1, 3, 7, 17, 22, 25, 18, 1, 22, 9, 10, 13, 23, 1, 23, 18, 17, 1, 44, 18, 7, 16, 14, 23, 36], '200701-173430_pcm_9fa_elicit_8': [22, 26, 19, 1, 23, 10, 1, 8, 22, 21, 17, 1, 4, 17, 23, 16, 26, 1, 4, 17, 1, 23, 22, 5, 21, 1, 14, 4, 17, 17, 23, 1, 23, 18, 17, 1, 3, 17, 10, 3, 5, 17, 1, 4, 17, 2, 1, 19, 17, 2, 1, 5, 16, 14, 23, 17, 26, 36, 1, 14, 10, 1, 23, 18, 22, 23, 1, 19, 17, 8, 1, 12, 10, 1, 5, 16, 21, 17, 1, 23, 10, 1, 18, 17, 22, 7, 1, 8, 10, 7, 17, 20], '200701-173430_pcm_9fa_elicit_9': [47, 17, 8, 17, 8, 9, 17, 7, 1, 14, 17, 2, 1, 26, 22, 1, 15, 10, 13, 7, 1, 8, 10, 26, 23, 18, 1, 7, 17, 8, 22, 16, 26, 1, 9, 17, 15, 10, 7, 17, 1, 9, 22, 7, 5, 17, 2, 1, 18, 22, 7, 38, 17, 14, 23, 1, 12, 10, 1, 7, 17, 22, 25, 18, 23, 18, 17, 1, 23, 16, 8, 17, 1, 4, 17, 2, 1, 19, 17, 8, 1, 12, 10, 1, 18, 22, 7, 38, 17, 14, 23, 20], '200701-173430_pcm_9fa_elicit_10': [48, 10, 7, 1, 23, 18, 16, 14, 1, 22, 7, 17, 22, 36, 1, 26, 22, 1, 22, 15, 23, 17, 7, 1, 25, 10, 5, 19, 1, 14, 17, 22, 14, 10, 26, 1, 23, 18, 16, 14, 1, 18, 22, 7, 38, 17, 14, 23, 1, 19, 17, 2, 1, 18, 22, 3, 3, 17, 26, 20], '200701-173430_pcm_9fa_elicit_12': [6, 17, 14, 13, 14, 1, 22, 26, 19, 1, 16, 8, 1, 19, 16, 14, 25, 16, 3, 5, 17, 14, 1, 19, 10, 26, 1, 14, 3, 17, 26, 19, 1, 22, 9, 10, 13, 23, 1, 17, 16, 12, 18, 23, 1, 8, 10, 26, 23, 18, 14, 1, 15, 10, 7, 1, 6, 13, 19, 17, 22, 36, 1, 19, 17, 2, 1, 23, 17, 22, 25, 18, 1, 22, 26, 19, 1, 9, 22, 3, 23, 16, 49, 17, 1, 3, 17, 10, 3, 5, 17, 20], '200701-173430_pcm_9fa_elicit_13': [40, 14, 1, 19, 17, 8, 1, 25, 10, 8, 10, 23, 1, 15, 7, 10, 8, 1, 18, 17, 7, 17, 36, 1, 26, 22, 1, 23, 18, 17, 16, 7, 1, 23, 10, 4, 26, 1, 15, 10, 7, 1, 51, 22, 5, 16, 5, 17, 17, 1, 19, 17, 8, 1, 19, 17, 2, 1, 12, 10, 20, 1, 50, 17, 23, 16, 26, 1, 12, 10, 1, 18, 22, 3, 3, 17, 26, 1, 23, 10, 1, 19, 17, 8, 1, 15, 10, 7, 1, 23, 18, 17, 7, 17, 52], '200701-173430_pcm_9fa_elicit_14': [46, 54, 28, 1, 11, 40, 24, 40, 47, 34, 40, 1, 53, 28, 55, 53, 57, 28, 36, 1, 50, 54, 55, 1, 39, 28, 24, 1, 56, 28, 52], '200701-173430_pcm_9fa_elicit_15': [11, 22, 8, 22, 7, 16, 22, 1, 19, 17, 2, 1, 9, 17, 23, 4, 17, 17, 26, 1, 6, 13, 19, 17, 22, 1, 22, 26, 19, 1, 51, 22, 5, 16, 5, 17, 17, 20, 1, 6, 13, 19, 17, 22, 1, 19, 17, 2, 1, 14, 10, 13, 23, 18, 1, 14, 16, 19, 17, 1, 22, 26, 19, 1, 51, 22, 5, 16, 5, 17, 17, 1, 19, 17, 2, 1, 23, 18, 17, 1, 26, 10, 7, 23, 18, 1, 14, 16, 19, 17, 20], '200701-173430_pcm_9fa_elicit_16': [40, 15, 23, 17, 7, 1, 58, 16, 26, 12, 1, 11, 10, 5, 10, 8, 10, 26, 1, 19, 16, 17, 36, 1, 23, 18, 17, 1, 23, 17, 26, 1, 23, 7, 16, 9, 17, 14, 1, 21, 16, 26, 12, 19, 10, 8, 1, 10, 15, 1, 34, 14, 7, 22, 17, 5, 1, 4, 17, 2, 1, 19, 17, 2, 1, 23, 18, 17, 1, 26, 10, 7, 23, 18, 1, 14, 16, 19, 17, 36], '200701-173430_pcm_9fa_elicit_19': [6, 17, 18, 10, 38, 22, 18, 1, 22, 5, 5, 10, 4, 1, 40, 14, 14, 2, 7, 16, 22, 1, 3, 17, 10, 3, 5, 17, 1, 17, 26, 23, 17, 7, 1, 11, 22, 8, 22, 7, 16, 22, 1, 23, 22, 21, 17, 1, 10, 38, 17, 7, 1, 22, 8, 20, 1, 40, 14, 14, 2, 7, 16, 22, 1, 3, 17, 10, 3, 5, 17, 1, 14, 23, 16, 5, 5, 1, 25, 22, 7, 7, 2, 1, 3, 5, 17, 26, 23, 2, 1, 3, 17, 10, 3, 5, 17, 36], '200701-173430_pcm_9fa_elicit_20': [25, 10, 8, 17, 1, 12, 16, 38, 17, 1, 23, 18, 17, 1, 5, 22, 26, 19, 1, 23, 10, 1, 10, 23, 18, 17, 7, 1, 3, 17, 10, 3, 5, 17, 1, 4, 17, 2, 1, 25, 10, 8, 17, 1, 15, 7, 10, 8, 1, 40, 14, 14, 2, 7, 16, 22, 1, 21, 16, 26, 12, 19, 10, 8, 36, 1, 22, 26, 19, 1, 26, 22, 1, 41, 13, 41, 13, 1, 19, 17, 8, 1, 19, 17, 2, 1, 4, 10, 7, 14, 18, 16, 3, 20], '200701-173430_pcm_9fa_elicit_21': [39, 17, 8, 1, 14, 23, 22, 7, 23, 1, 23, 10, 1, 8, 22, 7, 7, 2, 1, 34, 14, 7, 22, 17, 5, 1, 3, 17, 10, 3, 5, 17, 1, 4, 17, 2, 1, 14, 23, 16, 5, 5, 1, 19, 17, 2, 1, 23, 18, 17, 1, 5, 22, 26, 19, 20], '200701-173430_pcm_9fa_elicit_22': [40, 14, 1, 23, 16, 8, 17, 1, 19, 17, 2, 1, 12, 10, 36, 1, 19, 17, 8, 1, 25, 10, 8, 17, 1, 19, 17, 2, 1, 25, 10, 8, 9, 16, 26, 17, 1, 4, 17, 23, 16, 26, 1, 19, 17, 2, 1, 51, 10, 19, 1, 57, 22, 4, 1, 22, 26, 19, 1, 41, 13, 41, 13, 1, 4, 10, 7, 14, 18, 16, 3, 59], '200701-173430_pcm_9fa_elicit_23': [5, 16, 21, 17, 1, 25, 16, 7, 25, 13, 8, 25, 16, 14, 16, 10, 26, 20, 1, 11, 10, 1, 23, 18, 17, 16, 7, 1, 4, 10, 7, 14, 18, 16, 3, 1, 26, 10, 1, 25, 10, 8, 17, 1, 25, 5, 17, 22, 26, 1, 15, 10, 7, 1, 51, 10, 19, 1, 17, 2, 17, 20, 43, 1, 58, 16, 26, 12, 14, 1, 61, 60, 27, 32, 62, 35, 35, 59, 1, 34, 14, 22, 16, 22, 18, 1, 32, 27, 32, 20], '200701-173430_pcm_9fa_elicit_24': [48, 10, 7, 1, 6, 17, 14, 13, 14, 1, 23, 16, 8, 17, 36, 1, 11, 22, 8, 22, 7, 16, 22, 1, 3, 17, 10, 3, 5, 17, 1, 19, 17, 2, 1, 15, 10, 5, 5, 10, 4, 1, 4, 17, 23, 16, 26, 1, 19, 17, 2, 1, 23, 18, 17, 1, 9, 10, 10, 21, 1, 10, 15, 1, 24, 10, 14, 17, 14, 36], '200701-173430_pcm_9fa_elicit_25': [9, 13, 23, 1, 19, 17, 8, 1, 26, 10, 1, 19, 17, 2, 1, 4, 10, 7, 14, 18, 16, 3, 1, 51, 10, 19, 1, 15, 10, 7, 1, 23, 18, 17, 1, 23, 17, 8, 3, 5, 17, 1, 4, 17, 2, 1, 19, 17, 2, 1, 6, 17, 7, 13, 14, 22, 5, 17, 8, 20], '200701-173430_pcm_9fa_elicit_27': [46, 18, 17, 1, 3, 5, 22, 25, 17, 1, 26, 10, 1, 15, 22, 7, 1, 15, 7, 10, 8, 1, 11, 2, 25, 18, 22, 7, 36, 1, 22, 26, 19, 1, 19, 17, 8, 1, 14, 23, 16, 5, 5, 1, 19, 17, 2, 1, 4, 10, 7, 14, 18, 16, 3, 1, 15, 10, 7, 1, 23, 18, 22, 23, 1, 8, 10, 13, 26, 23, 22, 16, 26], '200701-173430_pcm_9fa_elicit_28': [17, 38, 17, 26, 1, 22, 15, 23, 17, 7, 1, 23, 18, 17, 1, 23, 17, 8, 3, 5, 17, 1, 19, 10, 26, 1, 19, 17, 14, 23, 7, 10, 2, 20, 1, 48, 10, 7, 1, 6, 17, 14, 13, 14, 1, 23, 16, 8, 17, 36], '200701-173430_pcm_9fa_elicit_29': [23, 18, 17, 1, 63, 13, 22, 7, 7, 17, 5, 1, 9, 17, 23, 4, 17, 17, 26, 1, 11, 22, 8, 22, 7, 16, 22, 1, 22, 26, 19, 1, 6, 17, 4, 1, 3, 17, 10, 3, 5, 17, 1, 7, 17, 22, 5, 5, 2, 1, 14, 17, 7, 16, 10, 13, 14, 20, 6, 10, 18, 26, 1, 64, 27, 29, 64, 20], '200701-173430_pcm_9fa_elicit_30': [40, 15, 23, 17, 7, 1, 6, 17, 14, 13, 14, 1, 14, 23, 22, 2, 1, 23, 4, 10, 1, 19, 22, 2, 14, 1, 15, 10, 7, 1, 11, 22, 8, 22, 7, 16, 22, 36, 1, 17, 1, 25, 10, 8, 17, 1, 12, 10, 1, 16, 8, 1, 18, 10, 8, 17, 23, 10, 4, 26, 20], '200701-173430_pcm_9fa_elicit_31': [28, 38, 17, 26, 1, 23, 18, 10, 13, 12, 18, 1, 14, 17, 2, 1, 17, 1, 19, 10, 26, 1, 3, 7, 17, 22, 25, 18, 1, 4, 17, 5, 5, 1, 4, 17, 5, 5, 1, 15, 10, 7, 1, 6, 13, 19, 17, 22, 36, 1, 17, 1, 26, 10, 1, 19, 17, 2, 1, 12, 10, 1, 51, 22, 5, 16, 5, 17, 17, 1, 12, 10, 1, 7, 17, 14, 23, 20], '200701-173430_pcm_9fa_elicit_32': [56, 13, 23, 1, 17, 1, 4, 22, 26, 23, 1, 12, 10, 1, 3, 7, 17, 22, 25, 18, 1, 17, 38, 17, 26, 1, 8, 10, 7, 17, 1, 15, 10, 7, 1, 23, 18, 17, 1, 22, 7, 17, 22, 1, 4, 18, 17, 7, 17, 1, 17, 1, 12, 7, 10, 4, 20], '200701-173430_pcm_9fa_elicit_33': [28, 1, 15, 16, 23, 1, 9, 17, 1, 14, 17, 2, 1, 6, 17, 14, 13, 14, 1, 26, 10, 1, 19, 17, 2, 1, 17, 45, 3, 17, 25, 23, 1, 14, 17, 2, 1, 19, 17, 8, 1, 12, 10, 1, 4, 17, 5, 25, 10, 8, 17, 1, 22, 8, 1, 4, 17, 5, 5, 36, 1, 9, 17, 25, 22, 13, 14, 17, 1, 6, 17, 14, 13, 14, 1, 16, 8, 14, 17, 5, 15, 1, 23, 22, 5, 21, 1, 22, 8, 1, 14, 17, 2, 36], '200701-173430_pcm_9fa_elicit_34': [37, 19, 17, 8, 1, 26, 10, 1, 19, 17, 2, 1, 7, 17, 14, 3, 17, 25, 23, 1, 3, 7, 10, 3, 18, 17, 23, 1, 15, 10, 7, 1, 16, 8, 1, 18, 10, 8, 17, 23, 10, 4, 26, 20, 31, 1, 33, 6, 10, 18, 26, 1, 29, 27, 29, 29, 30, 1, 50, 18, 17, 26, 1, 19, 17, 8, 1, 7, 17, 22, 25, 18, 1, 51, 22, 5, 16, 5, 17, 17, 36], '200701-173430_pcm_9fa_elicit_35': [16, 8, 1, 19, 16, 14, 25, 16, 3, 5, 17, 14, 1, 12, 10, 1, 9, 22, 25, 21, 1, 23, 10, 1, 23, 18, 17, 16, 7, 1, 15, 22, 8, 16, 5, 2, 1, 22, 26, 19, 1, 23, 18, 17, 1, 4, 10, 7, 21, 1, 4, 17, 2, 1, 19, 17, 8, 1, 19, 17, 2, 1, 19, 10, 1, 9, 17, 15, 10, 7, 17, 20], '200701-173430_pcm_9fa_elicit_36': [50, 17, 23, 16, 26, 1, 6, 17, 14, 13, 14, 1, 14, 23, 22, 7, 23, 1, 23, 10, 1, 3, 7, 17, 22, 25, 18, 1, 22, 9, 10, 13, 23, 52, 1, 42, 22, 1, 22, 9, 10, 13, 23, 1, 23, 18, 17, 1, 58, 16, 26, 12, 19, 10, 8, 36, 1, 17, 1, 14, 17, 2, 27], '200701-173430_pcm_9fa_elicit_38': [31, 33, 24, 22, 7, 21, 1, 61, 27, 61, 65, 30, 1, 50, 17, 23, 16, 26, 1, 23, 18, 17, 1, 3, 17, 10, 3, 5, 17, 1, 25, 10, 8, 17, 1, 19, 10, 52, 1, 46, 18, 17, 1, 23, 7, 13, 23, 18, 1, 9, 17, 1, 14, 17, 2, 36, 1, 8, 22, 26, 2, 1, 3, 17, 10, 3, 5, 17, 1, 15, 10, 7, 1, 51, 22, 5, 16, 5, 17, 17, 1, 4, 17, 5, 25, 10, 8, 17, 1, 6, 17, 14, 13, 14, 1, 4, 17, 5, 5, 1, 22, 26, 19, 1, 19, 17, 8, 1, 7, 17, 14, 3, 17, 25, 23, 1, 22, 8, 20], '200701-173430_pcm_9fa_elicit_39': [42, 10, 1, 9, 17, 1, 9, 17, 25, 22, 13, 14, 17, 1, 10, 15, 1, 23, 18, 17, 1, 8, 17, 14, 14, 22, 12, 17, 1, 4, 17, 2, 1, 17, 1, 19, 17, 2, 1, 3, 7, 17, 22, 25, 18, 36, 1, 9, 13, 23, 1, 9, 17, 25, 22, 13, 14, 17, 1, 14, 10, 8, 17, 1, 10, 15, 1, 19, 17, 8, 1, 19, 17, 2, 1, 23, 18, 17, 1, 53, 22, 14, 14, 10, 38, 17, 7, 1, 4, 17, 2, 1, 19, 17, 8, 1, 19, 10, 1, 15, 10, 7, 1, 6, 17, 7, 13, 14, 22, 5, 17, 8], '200701-173430_pcm_9fa_elicit_40': [22, 26, 19, 1, 19, 17, 8, 1, 14, 17, 17, 1, 23, 18, 17, 1, 8, 16, 7, 22, 25, 5, 17, 1, 4, 17, 2, 1, 6, 17, 14, 13, 14, 1, 19, 10, 20, 6, 10, 18, 26, 1, 43, 27, 43, 35, 20], '200701-173430_pcm_9fa_elicit_41': [50, 18, 17, 7, 17, 1, 15, 10, 7, 1, 51, 22, 5, 16, 5, 17, 17, 1, 6, 17, 14, 13, 14, 1, 14, 23, 22, 7, 23, 1, 23, 18, 16, 14, 1, 9, 16, 12, 1, 3, 7, 17, 22, 25, 18, 16, 26, 12, 1, 4, 10, 7, 21, 52], '200701-173430_pcm_9fa_elicit_42': [28, 1, 25, 5, 17, 22, 7, 1, 14, 17, 2, 1, 26, 22, 1, 15, 10, 7, 1, 44, 22, 26, 22, 36, 1, 4, 18, 17, 7, 17, 1, 17, 1, 23, 13, 7, 26, 1, 4, 22, 23, 17, 7, 1, 23, 10, 1, 4, 16, 26, 17, 1, 15, 10, 7, 1, 10, 26, 17, 1, 8, 22, 7, 7, 16, 22, 12, 17, 20], '200701-173430_pcm_9fa_elicit_43': [40, 14, 1, 17, 1, 25, 10, 8, 17, 1, 23, 18, 16, 14, 1, 14, 17, 25, 10, 26, 19, 1, 23, 16, 8, 17, 36, 1, 17, 1, 18, 17, 22, 7, 1, 14, 17, 2, 1, 10, 26, 17, 1, 14, 8, 22, 5, 5, 1, 9, 10, 2, 1, 19, 17, 2, 1, 14, 16, 25, 21, 1, 22, 26, 19, 1, 17, 1, 12, 10, 1, 14, 10, 10, 26, 1, 19, 16, 17, 20], '200701-173430_pcm_9fa_elicit_44': [46, 18, 17, 1, 9, 10, 2, 1, 3, 22, 3, 22, 1, 19, 17, 2, 1, 4, 10, 7, 21, 1, 15, 10, 7, 1, 58, 16, 26, 12, 1, 54, 17, 7, 10, 19, 1, 40, 26, 23, 16, 3, 22, 14, 1, 4, 17, 2, 1, 5, 22, 23, 17, 7, 1, 21, 16, 5, 5, 1, 6, 10, 18, 26, 1, 23, 18, 17, 1, 56, 22, 3, 23, 16, 14, 23, 20], '200701-173430_pcm_9fa_elicit_45': [40, 14, 1, 23, 18, 17, 1, 9, 10, 2, 1, 3, 22, 3, 22, 1, 18, 17, 22, 7, 1, 14, 17, 2, 1, 6, 17, 14, 13, 14, 1, 19, 10, 26, 1, 25, 10, 8, 17, 1, 44, 22, 26, 22, 36, 1, 17, 1, 25, 10, 8, 17, 1, 23, 7, 22, 38, 17, 5, 1, 15, 7, 10, 8, 1, 44, 22, 3, 17, 7, 26, 22, 13, 8, 1, 4, 18, 17, 7, 17, 1, 17, 1, 19, 17, 2, 1, 5, 16, 38, 17, 36], '200701-173430_pcm_9fa_elicit_46': [12, 10, 1, 15, 16, 26, 19, 1, 6, 17, 14, 13, 14, 1, 15, 10, 7, 1, 44, 22, 26, 22, 20, 1, 50, 16, 23, 18, 1, 23, 18, 17, 1, 3, 22, 16, 26, 1, 4, 17, 2, 1, 15, 13, 5, 5, 1, 16, 8, 1, 18, 17, 22, 7, 23, 36], '200701-173430_pcm_9fa_elicit_47': [17, 1, 9, 17, 12, 1, 6, 17, 14, 13, 14, 1, 14, 17, 2, 36, 1, 37, 55, 12, 22, 36, 1, 8, 22, 21, 17, 1, 2, 10, 13, 1, 25, 10, 8, 17, 1, 9, 17, 15, 10, 7, 17, 1, 8, 2, 1, 3, 16, 21, 16, 26, 1, 19, 16, 17, 20, 31, 6, 10, 18, 26, 1, 29, 27, 29, 32, 20], '200701-173430_pcm_9fa_elicit_48': [6, 17, 14, 13, 14, 1, 23, 22, 5, 21, 1, 4, 17, 23, 16, 26, 1, 14, 13, 7, 3, 7, 16, 14, 17, 1, 23, 18, 17, 1, 8, 22, 26, 36, 1, 17, 1, 14, 17, 2, 27, 1, 37, 24, 22, 21, 17, 1, 2, 10, 13, 1, 19, 17, 2, 1, 12, 10, 36, 1, 2, 10, 13, 7, 1, 14, 10, 26, 1, 19, 17, 2, 1, 22, 5, 16, 38, 17, 20], '200701-173430_pcm_9fa_elicit_49': [31, 33, 6, 10, 18, 26, 1, 29, 27, 65, 66, 30, 1, 46, 18, 17, 1, 8, 22, 26, 1, 9, 17, 5, 16, 17, 38, 17, 1, 6, 17, 14, 13, 14, 1, 22, 26, 19, 1, 17, 1, 25, 10, 8, 17, 1, 19, 17, 2, 1, 12, 10, 1, 18, 10, 13, 14, 17, 20], '200701-173430_pcm_9fa_elicit_51': [46, 7, 13, 17, 1, 23, 7, 13, 17, 36, 1, 16, 8, 1, 3, 16, 21, 16, 26, 1, 19, 10, 26, 1, 4, 17, 5, 5, 36, 1, 22, 26, 19, 1, 17, 1, 19, 17, 2, 1, 22, 5, 16, 38, 17, 67, 1, 42, 22, 1, 16, 8, 1, 17, 1, 22, 14, 21, 1, 19, 17, 8, 1, 14, 17, 2, 27], '200630-100616_pcm_9fa_elicit_0': [40, 7, 10, 13, 26, 19, 1, 23, 18, 17, 1, 2, 17, 22, 7, 1, 35, 1, 56, 20, 44, 20, 28, 36, 1, 22, 26, 12, 17, 5, 1, 51, 22, 9, 7, 16, 17, 5, 1, 25, 22, 7, 7, 2, 1, 8, 17, 14, 14, 22, 12, 17, 1, 25, 10, 8, 17, 36, 1, 9, 13, 23, 1, 4, 18, 17, 7, 17, 1, 9, 17, 1, 23, 18, 17, 1, 15, 16, 7, 14, 23, 1, 3, 5, 22, 25, 17, 1, 4, 17, 2, 1, 17, 1, 12, 10, 52, 1, 42, 22, 1, 10, 26, 17, 1, 22, 7, 17, 22, 1, 15, 10, 7, 1, 6, 13, 19, 17, 22, 1, 4, 17, 2, 1, 12, 17, 23, 1, 3, 5, 17, 26, 23, 2, 1, 18, 16, 5, 5, 20], '200630-100616_pcm_9fa_elicit_1': [46, 18, 17, 1, 3, 5, 22, 25, 17, 1, 15, 16, 23, 1, 26, 10, 1, 15, 22, 7, 1, 15, 7, 10, 8, 1, 6, 17, 7, 13, 14, 22, 5, 17, 8, 20, 1, 55, 26, 17, 1, 3, 7, 16, 17, 14, 23, 1, 4, 17, 2, 1, 16, 8, 1, 26, 22, 8, 17, 1, 26, 22, 1, 68, 17, 25, 18, 22, 7, 16, 22, 18, 1, 19, 17, 2, 1, 5, 16, 38, 17, 1, 23, 18, 17, 7, 17, 36, 1, 22, 26, 19, 1, 26, 22, 1, 6, 17, 18, 10, 38, 22, 18, 1, 14, 17, 7, 38, 22, 26, 23, 20], '200630-100616_pcm_9fa_elicit_2': [34, 8, 1, 4, 16, 15, 17, 1, 26, 22, 8, 17, 1, 26, 22, 1, 28, 5, 16, 49, 22, 9, 17, 23, 18, 20, 1, 68, 17, 25, 18, 22, 7, 16, 22, 18, 1, 22, 26, 19, 1, 16, 8, 1, 4, 16, 15, 17, 1, 19, 10, 26, 1, 10, 5, 19, 1, 22, 26, 19, 1, 19, 17, 8, 1, 26, 10, 1, 12, 17, 23, 1, 3, 16, 21, 16, 26, 20], '200630-100616_pcm_9fa_elicit_3': [42, 10, 4, 36, 1, 26, 22, 1, 68, 17, 25, 18, 22, 7, 16, 22, 18, 1, 23, 13, 7, 26, 1, 23, 10, 1, 12, 10, 1, 14, 17, 7, 38, 17, 1, 22, 14, 1, 3, 7, 16, 17, 14, 23, 1, 15, 10, 7, 1, 23, 18, 17, 1, 23, 17, 8, 3, 5, 17, 1, 4, 17, 2, 1, 19, 17, 2, 1, 6, 17, 7, 13, 14, 22, 5, 17, 8, 20], '200630-100616_pcm_9fa_elicit_4': [40, 14, 1, 17, 1, 19, 17, 2, 1, 16, 26, 14, 16, 19, 17, 1, 23, 18, 17, 1, 23, 17, 8, 3, 5, 17, 36, 1, 26, 22, 1, 16, 8, 1, 22, 26, 12, 17, 5, 1, 51, 22, 9, 7, 16, 17, 5, 1, 41, 13, 14, 23, 1, 22, 3, 3, 17, 22, 7, 1, 26, 17, 22, 7, 1, 23, 18, 17, 1, 16, 26, 25, 17, 26, 14, 17, 1, 22, 5, 23, 22, 7, 20], '200630-100616_pcm_9fa_elicit_5': [48, 17, 22, 7, 1, 25, 22, 23, 25, 18, 1, 68, 17, 25, 18, 22, 7, 16, 22, 18, 36, 1, 9, 13, 23, 1, 23, 18, 17, 1, 22, 26, 12, 17, 5, 1, 25, 10, 8, 17, 1, 8, 22, 21, 17, 1, 16, 8, 1, 8, 16, 26, 19, 1, 25, 10, 8, 17, 1, 19, 10, 4, 26, 1, 4, 18, 17, 26, 1, 17, 1, 23, 17, 5, 5, 1, 22, 8, 1, 14, 17, 2, 27, 1, 37, 68, 17, 25, 18, 22, 7, 16, 22, 18, 36, 1, 8, 22, 21, 17, 1, 2, 10, 13, 1, 26, 10, 1, 15, 17, 22, 7, 36], '200630-100616_pcm_9fa_elicit_7': [28, 1, 14, 23, 16, 5, 5, 1, 23, 22, 5, 21, 1, 14, 17, 2, 1, 6, 10, 18, 26, 1, 37, 12, 10, 1, 9, 17, 1, 12, 7, 17, 22, 23, 1, 3, 17, 7, 14, 10, 26, 1, 15, 10, 7, 1, 6, 17, 18, 10, 38, 22, 18, 1, 17, 2, 17, 36, 1, 22, 26, 19, 1, 14, 17, 2, 1, 17, 1, 12, 10, 1, 18, 17, 5, 3, 1, 3, 17, 10, 3, 5, 17, 36], '200630-100616_pcm_9fa_elicit_8': [37, 14, 10, 1, 23, 18, 22, 23, 1, 19, 17, 8, 1, 12, 10, 1, 9, 17, 1, 3, 17, 10, 3, 5, 17, 1, 4, 17, 2, 1, 19, 17, 8, 1, 19, 10, 26, 1, 22, 7, 7, 22, 26, 12, 17, 1, 19, 10, 4, 26, 1, 15, 10, 7, 1, 6, 17, 18, 10, 38, 22, 18, 20, 31, 57, 13, 21, 17, 1, 61, 27, 61, 35, 62, 61, 60], '200630-100616_pcm_9fa_elicit_9': [28, 1, 18, 22, 7, 19, 1, 68, 17, 25, 18, 22, 7, 16, 22, 18, 1, 23, 10, 1, 9, 17, 5, 16, 17, 38, 17, 1, 4, 17, 23, 16, 26, 1, 23, 18, 17, 1, 22, 26, 12, 17, 5, 1, 23, 22, 5, 21, 20, 1, 50, 18, 2, 52, 1, 56, 17, 25, 22, 13, 14, 17, 1, 16, 8, 1, 22, 26, 19, 1, 16, 8, 1, 4, 16, 15, 17, 36, 1, 28, 5, 16, 49, 22, 9, 17, 23, 18, 1, 19, 10, 26, 1, 10, 5, 19, 20], '200630-100616_pcm_9fa_elicit_10': [42, 22, 1, 16, 8, 1, 22, 26, 12, 17, 5, 1, 51, 22, 9, 7, 16, 17, 5, 1, 23, 17, 5, 5, 1, 22, 8, 1, 14, 17, 2, 27, 1, 37, 56, 17, 25, 22, 13, 14, 17, 1, 2, 10, 13, 1, 26, 10, 1, 9, 17, 5, 16, 17, 38, 17, 1, 4, 17, 23, 16, 26, 1, 34, 1, 23, 22, 5, 21, 36, 1, 4, 10, 7, 19, 1, 26, 10, 1, 12, 10, 1, 25, 10, 8, 17, 1, 10, 13, 23, 1, 15, 7, 10, 8, 1, 2, 10, 13, 7, 1, 8, 10, 13, 23, 18, 36], '200630-100616_pcm_9fa_elicit_11': [22, 26, 19, 1, 2, 10, 13, 1, 26, 10, 1, 12, 10, 1, 15, 16, 23, 1, 23, 22, 5, 21, 1, 22, 12, 22, 16, 26, 1, 13, 26, 23, 16, 5, 1, 23, 18, 17, 1, 19, 22, 2, 1, 4, 17, 2, 1, 22, 5, 5, 1, 23, 18, 16, 14, 1, 23, 18, 16, 26, 12, 14, 1, 12, 10, 1, 18, 22, 3, 3, 17, 26, 20, 31, 57, 13, 21, 17, 1, 61, 27, 43, 66, 20], '200630-100616_pcm_9fa_elicit_12': [40, 14, 1, 22, 5, 5, 1, 23, 18, 16, 14, 1, 10, 26, 17, 1, 19, 17, 2, 1, 18, 22, 3, 3, 17, 26, 36, 1, 3, 17, 10, 3, 5, 17, 1, 4, 17, 2, 1, 19, 17, 2, 1, 10, 13, 23, 14, 16, 19, 17, 1, 19, 17, 2, 1, 4, 10, 26, 19, 17, 7, 1, 4, 18, 2, 1, 68, 17, 25, 18, 22, 7, 16, 22, 18, 1, 26, 17, 38, 17, 7, 1, 25, 10, 8, 17, 1, 10, 13, 23, 1, 15, 7, 10, 8, 1, 23, 18, 17, 1, 23, 17, 8, 3, 5, 17, 20], '200630-100616_pcm_9fa_elicit_13': [50, 18, 17, 26, 1, 17, 1, 25, 10, 8, 17, 1, 10, 13, 23, 36, 1, 17, 1, 26, 10, 1, 15, 16, 23, 1, 23, 22, 5, 21, 1, 4, 16, 23, 18, 1, 16, 8, 1, 8, 10, 13, 23, 18, 1, 22, 12, 22, 16, 26, 36, 1, 17, 1, 25, 10, 8, 17, 1, 19, 17, 2, 1, 13, 14, 17, 1, 18, 22, 26, 19, 1, 14, 16, 12, 26, 20], '200630-100616_pcm_9fa_elicit_14': [28, 1, 25, 5, 17, 22, 7, 1, 14, 17, 2, 1, 68, 17, 25, 18, 22, 7, 16, 22, 18, 1, 19, 10, 26, 1, 14, 17, 17, 1, 4, 17, 23, 16, 26, 1, 3, 22, 14, 14, 1, 22, 8, 20], '200630-100616_pcm_9fa_elicit_15': [50, 18, 17, 26, 1, 68, 17, 25, 18, 22, 7, 16, 22, 18, 1, 15, 16, 26, 16, 14, 18, 1, 16, 8, 1, 4, 10, 7, 21, 1, 15, 10, 7, 1, 23, 17, 8, 3, 5, 17, 36, 1, 17, 1, 12, 10, 1, 18, 10, 13, 14, 17, 20], '200630-100616_pcm_9fa_elicit_16': [28, 1, 26, 10, 1, 23, 17, 2, 36, 1, 28, 5, 16, 49, 22, 9, 17, 23, 18, 1, 25, 10, 8, 17, 1, 12, 17, 23, 1, 9, 17, 5, 5, 17, 67, 1, 48, 10, 7, 1, 15, 16, 38, 17, 1, 8, 10, 26, 23, 18, 14, 36, 1, 28, 5, 16, 49, 22, 9, 17, 23, 18, 1, 26, 10, 1, 12, 10, 1, 22, 26, 2, 4, 18, 17, 7, 17, 1, 14, 10, 1, 23, 18, 22, 23, 1, 3, 17, 10, 3, 5, 17, 1, 26, 10, 1, 12, 10, 1, 14, 17, 17, 1, 22, 8, 20], '200630-100616_pcm_9fa_elicit_18': [28, 1, 19, 17, 2, 1, 5, 16, 38, 17, 1, 15, 10, 7, 1, 42, 22, 49, 22, 7, 17, 23, 18, 1, 4, 17, 2, 1, 19, 17, 2, 1, 51, 22, 5, 16, 5, 17, 17, 1, 15, 10, 7, 1, 23, 18, 17, 1, 26, 10, 7, 23, 18, 1, 14, 16, 19, 17, 1, 10, 15, 1, 6, 17, 7, 13, 14, 22, 5, 17, 8, 20, 1, 50, 17, 23, 16, 26, 1, 22, 26, 12, 17, 5, 1, 51, 22, 9, 7, 16, 17, 5, 1, 23, 17, 5, 5, 1, 22, 8, 52, 1, 28, 1, 23, 17, 5, 5, 1, 22, 8, 1, 14, 17, 2, 27, 1, 37, 51, 10, 19, 1, 19, 10, 26, 1, 15, 22, 38, 10, 7, 1, 2, 10, 13, 20, 31], '200630-100616_pcm_9fa_elicit_19': [51, 22, 9, 7, 16, 17, 5, 1, 14, 23, 16, 5, 5, 1, 23, 17, 5, 5, 1, 24, 22, 7, 2, 1, 14, 17, 2, 27, 1, 37, 11, 17, 17, 67, 1, 2, 10, 13, 1, 12, 10, 1, 12, 17, 23, 1, 9, 17, 5, 5, 17, 36, 1, 22, 26, 19, 1, 2, 10, 13, 1, 12, 10, 1, 9, 10, 7, 26, 1, 9, 10, 2, 36, 1, 22, 26, 19, 1, 8, 22, 21, 17, 1, 2, 10, 13, 1, 26, 22, 8, 17, 1, 22, 8, 1, 6, 17, 14, 13, 14, 20], '200630-100616_pcm_9fa_elicit_20': [28, 1, 12, 10, 1, 9, 17, 1, 12, 7, 17, 22, 23, 1, 3, 17, 7, 14, 10, 26, 36, 1, 19, 17, 8, 1, 12, 10, 1, 25, 22, 5, 5, 1, 22, 8, 1, 11, 10, 26, 1, 10, 15, 1, 23, 18, 17, 1, 24, 10, 14, 23, 1, 54, 16, 12, 18, 20], '200630-100616_pcm_9fa_elicit_21': [28, 1, 12, 10, 1, 9, 17, 1, 58, 16, 26, 12, 1, 4, 17, 2, 1, 12, 10, 1, 7, 13, 5, 17, 1, 6, 22, 25, 10, 9, 1, 18, 10, 13, 14, 17, 1, 15, 10, 7, 17, 38, 17, 7, 36, 1, 22, 26, 19, 1, 16, 8, 1, 58, 16, 26, 12, 19, 10, 8, 1, 26, 10, 1, 12, 10, 1, 12, 17, 23, 1, 17, 26, 19, 20, 31, 57, 13, 21, 17, 1, 61, 27, 35, 66, 62, 35, 35, 20], '200630-100616_pcm_9fa_elicit_22': [28, 1, 19, 17, 2, 1, 25, 5, 17, 22, 7, 1, 14, 17, 2, 1, 51, 22, 9, 7, 16, 17, 5, 1, 18, 22, 3, 3, 2, 1, 23, 10, 1, 25, 22, 7, 7, 2, 1, 23, 18, 16, 14, 1, 23, 4, 10, 1, 8, 17, 14, 14, 22, 12, 17, 1, 4, 17, 2, 1, 51, 10, 19, 1, 14, 17, 26, 19, 1, 22, 8, 1, 12, 10, 1, 12, 16, 38, 17, 1, 19, 17, 8, 20], '200630-100616_pcm_9fa_elicit_24': [50, 18, 17, 26, 1, 22, 26, 12, 17, 5, 1, 51, 22, 9, 7, 16, 17, 5, 1, 23, 17, 5, 5, 1, 24, 22, 7, 2, 1, 14, 17, 2, 1, 17, 1, 12, 10, 1, 9, 10, 7, 26, 1, 9, 10, 2, 1, 4, 17, 2, 1, 16, 8, 1, 26, 22, 8, 17, 1, 12, 10, 1, 9, 17, 1, 6, 17, 14, 13, 14, 36, 1, 22, 26, 19, 1, 4, 17, 2, 1, 12, 10, 1, 9, 17, 1, 58, 16, 26, 12, 1, 15, 10, 7, 17, 38, 17, 7, 36, 1, 24, 22, 7, 2, 1, 25, 10, 8, 17, 1, 22, 14, 21, 1, 22, 8, 1, 14, 17, 2, 27], '200630-100616_pcm_9fa_elicit_25': [54, 10, 4, 1, 23, 18, 16, 14, 1, 10, 26, 17, 1, 12, 10, 1, 23, 22, 21, 17, 1, 18, 22, 3, 3, 17, 26, 36, 1, 4, 18, 17, 26, 1, 34, 1, 26, 17, 38, 17, 7, 1, 14, 5, 17, 17, 3, 1, 4, 16, 23, 18, 1, 22, 26, 2, 1, 8, 22, 26, 1, 9, 17, 15, 10, 7, 17, 52, 57, 13, 21, 17, 1, 61, 27, 35, 29, 20], '200630-100616_pcm_9fa_elicit_26': [40, 26, 12, 17, 5, 1, 51, 22, 9, 7, 16, 17, 5, 1, 25, 10, 8, 17, 1, 23, 17, 5, 5, 1, 22, 8, 1, 14, 17, 2, 27, 1, 37, 54, 10, 5, 2, 1, 14, 3, 16, 7, 16, 23, 1, 15, 7, 10, 8, 1, 51, 10, 19, 1, 12, 10, 1, 25, 10, 8, 17, 1, 10, 26, 23, 10, 3, 1, 2, 10, 13, 36, 1, 22, 26, 19, 1, 23, 18, 17, 1, 24, 10, 14, 23, 1, 54, 16, 12, 18, 1, 12, 10, 1, 13, 14, 17, 1, 16, 8, 1, 3, 10, 4, 17, 7, 1, 25, 10, 38, 17, 7, 1, 2, 10, 13, 20], '200630-100616_pcm_9fa_elicit_27': [42, 22, 1, 16, 8, 1, 8, 22, 21, 17, 1, 23, 18, 17, 1, 3, 16, 21, 16, 26, 1, 4, 17, 2, 1, 2, 10, 13, 1, 12, 10, 1, 9, 10, 7, 26, 1, 12, 10, 1, 19, 17, 2, 1, 18, 10, 5, 2, 36, 1, 22, 26, 19, 1, 19, 17, 8, 1, 12, 10, 1, 25, 22, 5, 5, 1, 22, 8, 1, 51, 10, 19, 1, 11, 10, 26, 20, 31, 57, 13, 21, 17, 1, 61, 27, 35, 65, 20], '200630-100616_pcm_9fa_elicit_28': [51, 22, 9, 7, 16, 17, 5, 1, 14, 23, 16, 5, 5, 1, 23, 22, 5, 21, 1, 4, 17, 23, 16, 26, 1, 18, 17, 5, 3, 1, 24, 22, 7, 2, 1, 9, 17, 5, 16, 17, 38, 17, 36, 1, 17, 1, 14, 17, 2, 27, 1, 37, 11, 17, 17, 36, 1, 17, 38, 17, 26, 1, 28, 5, 16, 49, 22, 9, 17, 23, 18, 1, 4, 17, 2, 1, 9, 17, 1, 2, 10, 13, 7, 1, 15, 22, 8, 16, 5, 2, 1, 8, 17, 8, 9, 17, 7, 1, 14, 17, 5, 15, 1, 19, 10, 26, 1, 12, 17, 23, 1, 9, 17, 5, 5, 17, 20, 1, 42, 22, 1, 9, 10, 2, 1, 17, 1, 12, 10, 1, 9, 10, 7, 26, 36, 1, 17, 38, 17, 26, 1, 22, 14, 1, 17, 1, 19, 10, 26, 1, 10, 5, 19, 20], '200630-100616_pcm_9fa_elicit_29': [46, 18, 17, 1, 3, 17, 7, 14, 10, 26, 1, 4, 17, 2, 1, 3, 17, 10, 3, 5, 17, 1, 19, 17, 2, 1, 23, 22, 5, 21, 1, 14, 17, 2, 1, 17, 1, 26, 10, 1, 15, 16, 23, 1, 9, 10, 7, 26, 36, 1, 16, 8, 1, 9, 17, 5, 5, 17, 1, 19, 10, 26, 1, 7, 17, 22, 25, 18, 1, 14, 16, 45, 1, 8, 10, 26, 23, 18, 14, 1, 26, 10, 4, 59, 1, 9, 17, 25, 22, 13, 14, 17, 1, 17, 1, 26, 10, 1, 12, 17, 23, 1, 22, 26, 2, 23, 18, 16, 26, 12, 1, 4, 17, 2, 1, 51, 10, 19, 1, 26, 10, 1, 12, 10, 1, 15, 16, 23, 1, 19, 10, 20, 31, 57, 13, 21, 17, 1, 61, 27, 35, 69, 36, 1, 35, 60, 20], '200630-100616_pcm_9fa_elicit_30': [50, 17, 23, 16, 26, 1, 24, 22, 7, 2, 1, 23, 22, 5, 21, 1, 14, 18, 10, 4, 1, 14, 17, 2, 1, 17, 1, 9, 17, 5, 16, 17, 38, 17, 1, 4, 17, 23, 16, 26, 1, 22, 26, 12, 17, 5, 1, 51, 22, 9, 7, 16, 17, 5, 1, 23, 17, 5, 5, 1, 22, 8, 20], '200630-100616_pcm_9fa_elicit_31': [24, 22, 7, 2, 1, 18, 22, 3, 3, 2, 36, 1, 25, 10, 8, 17, 1, 23, 22, 5, 21, 1, 14, 17, 2, 27, 1, 37, 11, 17, 17, 67, 1, 34, 1, 9, 17, 1, 6, 17, 18, 10, 38, 22, 18, 1, 14, 17, 7, 38, 22, 26, 23, 67, 1, 24, 22, 21, 17, 1, 17, 1, 18, 22, 3, 3, 17, 26, 1, 23, 10, 1, 8, 17, 1, 22, 14, 1, 2, 10, 13, 1, 23, 22, 5, 21, 20, 31, 57, 13, 21, 17, 1, 61, 27, 35, 64, 20], '200630-100616_pcm_9fa_elicit_32': [40, 14, 1, 51, 22, 9, 7, 16, 17, 5, 1, 25, 10, 8, 10, 23, 36, 1, 24, 22, 7, 2, 1, 25, 10, 8, 17, 1, 19, 17, 2, 1, 7, 17, 22, 19, 2, 1, 23, 10, 1, 12, 10, 1, 38, 16, 14, 16, 23, 1, 28, 5, 16, 49, 22, 9, 17, 23, 18, 20], '200630-100616_pcm_9fa_elicit_33': [28, 5, 16, 49, 22, 9, 17, 23, 18, 1, 22, 26, 19, 1, 16, 8, 1, 18, 13, 14, 9, 22, 26, 19, 1, 68, 17, 25, 18, 22, 7, 16, 22, 18, 36, 1, 19, 17, 2, 1, 5, 16, 38, 17, 1, 26, 17, 22, 7, 1, 6, 17, 7, 13, 14, 22, 5, 17, 8, 36, 1, 15, 10, 7, 1, 23, 18, 17, 1, 14, 16, 19, 17, 1, 10, 15, 1, 6, 13, 19, 17, 22, 1, 4, 17, 2, 1, 12, 17, 23, 1, 18, 16, 5, 5, 20], '200630-100616_pcm_9fa_elicit_34': [48, 7, 10, 8, 1, 24, 22, 7, 2, 1, 18, 10, 13, 14, 17, 1, 15, 10, 7, 1, 42, 22, 49, 22, 7, 17, 23, 18, 1, 12, 10, 1, 7, 17, 22, 25, 18, 1, 28, 5, 16, 49, 22, 9, 17, 23, 18, 1, 18, 10, 13, 14, 17, 1, 15, 10, 7, 1, 6, 13, 19, 17, 22, 36, 1, 17, 1, 15, 16, 23, 1, 7, 17, 22, 25, 18, 1, 23, 18, 7, 17, 17, 1, 10, 7, 1, 15, 10, 13, 7, 1, 19, 22, 2, 14, 1, 41, 10, 13, 7, 26, 17, 2, 20], '200630-100616_pcm_9fa_elicit_36': [40, 14, 1, 28, 5, 16, 49, 22, 9, 17, 23, 18, 1, 18, 17, 22, 7, 1, 23, 18, 17, 1, 12, 7, 17, 17, 23, 16, 26, 12, 36, 1, 18, 10, 5, 2, 1, 14, 3, 16, 7, 16, 23, 1, 17, 26, 23, 17, 7, 1, 16, 8, 1, 9, 10, 19, 2, 36, 1, 17, 1, 25, 10, 8, 17, 1, 23, 17, 5, 5, 1, 24, 22, 7, 2, 1, 14, 17, 2, 27], '200630-100616_pcm_9fa_elicit_37': [37, 70, 10, 13, 1, 9, 17, 1, 4, 10, 8, 22, 26, 1, 4, 17, 2, 1, 19, 17, 8, 1, 9, 5, 17, 14, 14, 1, 3, 22, 14, 14, 1, 10, 23, 18, 17, 7, 1, 4, 10, 8, 17, 26, 36, 1, 22, 26, 19, 1, 19, 17, 8, 1, 19, 10, 26, 1, 14, 23, 16, 5, 5, 1, 9, 5, 17, 14, 14, 1, 23, 18, 17, 1, 3, 16, 21, 16, 26, 1, 4, 17, 2, 1, 19, 17, 2, 1, 2, 10, 13, 7, 1, 9, 17, 5, 5, 17, 67], '200630-100616_pcm_9fa_elicit_38': [54, 10, 4, 1, 34, 1, 23, 22, 21, 17, 1, 12, 17, 23, 1, 23, 18, 16, 14, 1, 21, 16, 26, 19, 1, 9, 5, 17, 14, 14, 16, 26, 12, 1, 14, 17, 2, 1, 8, 2, 1, 57, 10, 7, 19, 1, 8, 22, 8, 22, 1, 25, 10, 8, 17, 1, 14, 17, 17, 1, 8, 17, 52, 1, 56, 17, 25, 22, 13, 14, 17, 36], '200630-100616_pcm_9fa_elicit_39': [22, 14, 1, 34, 1, 18, 17, 22, 7, 1, 2, 10, 13, 7, 1, 12, 7, 17, 17, 23, 16, 26, 12, 36, 1, 23, 18, 17, 1, 3, 16, 21, 16, 26, 1, 4, 17, 2, 1, 19, 17, 2, 1, 8, 2, 1, 9, 17, 5, 5, 17, 1, 18, 22, 3, 3, 2, 36, 1, 25, 10, 8, 17, 1, 41, 13, 8, 3, 20, 31, 57, 13, 21, 17, 1, 61, 27, 29, 43, 62, 29, 29, 20], '200630-100616_pcm_9fa_elicit_41': [22, 26, 19, 1, 34, 1, 26, 10, 1, 12, 10, 1, 15, 16, 23, 1, 14, 23, 10, 3, 1, 23, 10, 1, 19, 17, 2, 1, 18, 22, 3, 3, 2, 1, 9, 17, 25, 22, 13, 14, 17, 1, 10, 15, 1, 51, 10, 19, 1, 4, 17, 2, 1, 9, 17, 1, 8, 2, 1, 11, 22, 38, 16, 10, 7, 36, 1, 9, 17, 25, 22, 13, 14, 17, 1, 17, 1, 19, 10, 26, 1, 7, 17, 8, 17, 8, 9, 17, 7, 1, 3, 10, 10, 7, 1, 4, 10, 8, 22, 26, 1, 5, 16, 21, 17, 1, 8, 17, 36, 1, 4, 17, 2, 1, 9, 17, 1, 16, 8, 1, 14, 17, 7, 38, 22, 26, 23, 20], '200630-100616_pcm_9fa_elicit_43': [31, 1, 48, 10, 7, 1, 18, 17, 7, 17, 36, 1, 4, 17, 1, 14, 17, 17, 1, 14, 17, 2, 1, 17, 38, 17, 26, 1, 22, 14, 1, 51, 10, 19, 1, 23, 22, 21, 17, 1, 15, 22, 38, 10, 7, 1, 24, 22, 7, 2, 1, 7, 17, 22, 25, 18, 36, 1, 17, 1, 14, 23, 16, 5, 5, 1, 12, 16, 38, 17, 1, 51, 10, 19, 1, 22, 5, 5, 1, 23, 18, 17, 1, 3, 7, 22, 16, 14, 17, 20, 1, 28, 1, 14, 17, 2, 27, 1, 37, 34, 8, 1, 26, 22, 8, 17, 1, 19, 17, 2, 1, 18, 10, 5, 2, 20], '200630-100616_pcm_9fa_elicit_44': [40, 26, 19, 1, 15, 7, 10, 8, 1, 12, 17, 26, 17, 7, 22, 23, 16, 10, 26, 1, 23, 10, 1, 12, 17, 26, 17, 7, 22, 23, 16, 10, 26, 36, 1, 17, 1, 19, 17, 2, 1, 14, 18, 10, 4, 1, 8, 17, 7, 25, 2, 1, 23, 10, 1, 3, 17, 10, 3, 5, 17, 1, 4, 17, 2, 1, 19, 17, 2, 1, 15, 17, 22, 7, 1, 22, 8, 20, 31, 57, 13, 21, 17, 1, 61, 27, 29, 69, 62, 65, 66, 20], '200630-100616_pcm_9fa_elicit_45': [54, 10, 5, 2, 1, 14, 3, 16, 7, 16, 23, 1, 14, 23, 16, 5, 5, 1, 8, 10, 38, 17, 1, 24, 22, 7, 2, 1, 23, 10, 1, 23, 22, 5, 21, 1, 14, 17, 2, 27, 1, 37, 28, 1, 19, 10, 26, 1, 13, 14, 17, 1, 16, 8, 1, 18, 22, 26, 19, 1, 19, 10, 1, 9, 16, 12, 1, 23, 18, 16, 26, 12, 59], '200630-100616_pcm_9fa_elicit_46': [22, 26, 19, 1, 17, 1, 19, 10, 26, 1, 14, 25, 22, 23, 23, 17, 7, 1, 3, 17, 10, 3, 5, 17, 1, 4, 17, 2, 1, 19, 17, 2, 1, 25, 22, 7, 7, 2, 1, 14, 18, 10, 13, 5, 19, 17, 7, 1, 13, 3, 1, 9, 17, 25, 22, 13, 14, 17, 1, 10, 15, 1, 4, 17, 23, 16, 26, 1, 19, 17, 8, 1, 19, 17, 2, 1, 23, 18, 16, 26, 21, 1, 15, 10, 7, 1, 23, 18, 17, 16, 7, 1, 8, 16, 26, 19, 20], '200630-100616_pcm_9fa_elicit_47': [28, 1, 19, 10, 26, 1, 25, 10, 8, 10, 23, 1, 3, 17, 10, 3, 5, 17, 1, 4, 17, 2, 1, 12, 17, 23, 1, 3, 10, 4, 17, 7, 1, 4, 17, 5, 5, 1, 4, 17, 5, 5, 1, 15, 7, 10, 8, 1, 23, 18, 17, 16, 7, 1, 23, 18, 7, 10, 26, 17, 20, 1, 40, 26, 19, 1, 3, 17, 10, 3, 5, 17, 1, 4, 17, 2, 1, 19, 17, 2, 1, 25, 22, 7, 7, 2, 1, 23, 18, 17, 16, 7, 14, 17, 5, 15, 1, 19, 10, 4, 26, 36, 1, 17, 1, 19, 10, 26, 1, 7, 22, 16, 14, 17, 1, 19, 17, 8, 1, 13, 3, 20], '200630-100616_pcm_9fa_elicit_48': [28, 1, 19, 10, 26, 1, 12, 16, 38, 17, 1, 18, 13, 26, 12, 7, 2, 1, 3, 17, 10, 3, 5, 17, 1, 12, 10, 10, 19, 1, 23, 18, 16, 26, 12, 14, 1, 8, 22, 21, 17, 1, 19, 17, 8, 1, 25, 18, 10, 3, 1, 9, 17, 5, 5, 17, 15, 13, 5, 36, 1, 22, 26, 19, 1, 17, 1, 19, 10, 26, 1, 3, 13, 7, 14, 13, 17, 1, 7, 16, 25, 18, 1, 3, 17, 10, 3, 5, 17, 1, 25, 10, 8, 10, 23, 1, 4, 16, 23, 18, 1, 26, 10, 23, 18, 16, 26, 12, 1, 15, 10, 7, 1, 23, 18, 17, 16, 7, 1, 18, 22, 26, 19, 20], '200630-100616_pcm_9fa_elicit_49': [28, 1, 19, 10, 26, 1, 18, 17, 5, 3, 1, 34, 14, 7, 22, 17, 5, 1, 16, 8, 1, 14, 17, 7, 38, 22, 26, 23, 36, 1, 17, 1, 19, 10, 26, 1, 7, 17, 8, 17, 8, 9, 17, 7, 1, 23, 10, 1, 14, 18, 10, 4, 1, 19, 17, 8, 1, 16, 8, 1, 8, 17, 7, 25, 2, 36, 1, 22, 14, 1, 17, 1, 3, 7, 10, 8, 16, 14, 17, 1, 10, 13, 7, 1, 3, 22, 3, 22, 1, 3, 22, 3, 22, 1, 19, 17, 8, 36, 1, 40, 9, 7, 22, 18, 22, 8, 1, 22, 26, 19, 1, 16, 8, 1, 25, 18, 16, 5, 19, 7, 17, 26, 36, 1, 15, 10, 7, 17, 38, 17, 7, 20, 31, 57, 13, 21, 17, 1, 61, 27, 65, 61, 62, 65, 65, 20], '200702-201219_ibb_9fa_elicit_0': [39, 17, 8, 1, 23, 17, 5, 5, 1, 22, 8, 1, 14, 17, 2, 1, 71, 26, 22, 1, 2, 17, 14, 23, 17, 7, 19, 22, 2, 1, 22, 7, 10, 13, 26, 19, 1, 61, 1, 10, 72, 25, 5, 10, 25, 21, 1, 15, 10, 7, 1, 22, 15, 23, 17, 7, 26, 10, 10, 26, 20, 72, 6, 10, 18, 26, 1, 29, 27, 65, 43, 20], '200702-201219_ibb_9fa_elicit_1': [46, 18, 17, 1, 8, 22, 26, 1, 14, 5, 22, 38, 17, 14, 1, 7, 13, 26, 1, 25, 10, 8, 17, 1, 8, 17, 17, 23, 1, 22, 8, 1, 22, 14, 1, 17, 1, 19, 17, 2, 1, 25, 10, 8, 17, 1, 9, 22, 25, 21, 1, 23, 10, 1, 16, 8, 1, 3, 16, 21, 16, 26, 1, 4, 17, 2, 1, 6, 17, 14, 13, 14, 1, 18, 17, 22, 5], '200702-201219_ibb_9fa_elicit_2': [46, 18, 17, 1, 8, 22, 26, 1, 25, 10, 8, 17, 1, 14, 17, 17, 1, 22, 8, 1, 14, 17, 2, 1, 26, 22, 1, 23, 18, 17, 1, 17, 45, 22, 25, 23, 1, 23, 16, 8, 17, 1, 4, 17, 2, 1, 6, 17, 14, 13, 14, 1, 23, 17, 5, 5, 1, 22, 8, 1, 14, 17, 2, 1, 37, 2, 10, 13, 7, 1, 14, 10, 26, 1, 19, 17, 2, 1, 22, 5, 16, 38, 17, 20], '200702-201219_ibb_9fa_elicit_3': [31, 40, 14, 1, 23, 18, 16, 14, 1, 10, 26, 17, 1, 18, 22, 3, 3, 17, 26, 36, 1, 23, 18, 16, 14, 1, 7, 16, 25, 18, 1, 8, 22, 26, 1, 4, 17, 2, 1, 12, 17, 23, 1, 14, 5, 22, 38, 17, 14, 1, 22, 26, 19, 1, 22, 5, 5, 1, 16, 8, 1, 15, 22, 8, 16, 5, 2, 1, 25, 10, 8, 17, 1, 9, 17, 1, 6, 17, 14, 13, 14, 1, 19, 16, 14, 25, 16, 3, 5, 17, 14, 20], '200702-201219_ibb_9fa_elicit_4': [42, 22, 1, 15, 10, 7, 1, 44, 22, 26, 22, 1, 6, 17, 14, 13, 14, 1, 19, 10, 1, 23, 4, 10, 1, 8, 16, 7, 22, 25, 5, 17, 20, 1, 28, 1, 15, 16, 7, 14, 23, 1, 23, 13, 7, 26, 1, 4, 22, 23, 17, 7, 1, 23, 10, 1, 4, 16, 26, 17, 1, 22, 26, 19, 1, 15, 7, 10, 8, 1, 15, 22, 7, 1, 3, 5, 22, 25, 17, 36], '200702-201219_ibb_9fa_elicit_5': [17, 1, 25, 13, 7, 17, 1, 23, 18, 17, 1, 14, 8, 22, 5, 5, 1, 9, 10, 2, 1, 4, 17, 2, 1, 19, 17, 2, 1, 14, 16, 25, 21, 1, 17, 38, 17, 26, 1, 23, 18, 10, 13, 12, 18, 1, 14, 17, 2, 1, 4, 18, 17, 7, 17, 1, 23, 18, 17, 1, 3, 16, 21, 16, 26, 1, 19, 17, 2, 1, 15, 22, 7, 1, 7, 17, 22, 25, 18, 1, 43, 69, 1, 21, 8, 20], '200702-201219_ibb_9fa_elicit_6': [42, 10, 1, 9, 17, 1, 10, 26, 5, 2, 1, 23, 18, 16, 14, 1, 8, 16, 7, 22, 25, 5, 17, 14, 1, 6, 17, 14, 13, 14, 1, 19, 10, 20, 1, 56, 13, 23, 1, 23, 18, 17, 1, 14, 8, 22, 5, 5, 1, 9, 10, 2, 1, 10, 4, 26, 1, 19, 17, 2, 1, 16, 8, 3, 10, 7, 23, 22, 26, 23, 1, 9, 17, 25, 22, 13, 14, 17, 1, 17, 1, 14, 18, 10, 4, 1, 14, 17, 2, 1, 6, 17, 14, 13, 14, 1, 19, 10, 26, 1, 25, 10, 8, 17, 1, 9, 22, 25, 21, 1, 23, 10, 1, 51, 22, 5, 16, 5, 17, 17, 20], '200702-201219_ibb_9fa_elicit_7': [42, 22, 1, 23, 7, 13, 17, 67, 1, 6, 17, 14, 13, 14, 1, 26, 22, 1, 7, 17, 22, 5, 5, 2, 1, 3, 7, 10, 3, 18, 17, 23, 1, 4, 17, 2, 1, 51, 10, 19, 1, 22, 26, 10, 16, 26, 23, 20, 1, 56, 13, 23, 1, 18, 10, 4, 1, 19, 17, 8, 1, 12, 10, 1, 71, 7, 17, 14, 3, 17, 25, 23, 1, 23, 18, 16, 14, 1, 3, 7, 10, 3, 18, 17, 23, 1, 7, 17, 22, 25, 18, 1, 15, 10, 7, 1, 16, 8, 1, 18, 10, 8, 17, 23, 10, 4, 26, 72, 52], '200702-201219_ibb_9fa_elicit_8': [50, 17, 1, 12, 10, 1, 21, 26, 10, 4, 1, 22, 14, 1, 6, 17, 14, 13, 14, 1, 19, 17, 2, 1, 12, 10, 1, 42, 22, 49, 22, 7, 17, 23, 18, 20, 1, 50, 17, 23, 16, 26, 1, 12, 10, 1, 18, 22, 3, 3, 17, 26, 1, 23, 10, 1, 22, 8, 1, 15, 10, 7, 1, 23, 18, 17, 7, 17, 52], '200702-201219_ibb_9fa_elicit_9': [50, 17, 23, 16, 26, 1, 54, 22, 3, 3, 17, 26, 1, 15, 10, 7, 1, 23, 18, 17, 1, 11, 2, 26, 22, 12, 10, 12, 13, 17, 1, 50, 17, 2, 1, 39, 17, 2, 1, 42, 22, 49, 22, 7, 17, 23, 18], '200702-201219_ibb_9fa_elicit_10': [56, 10, 19, 2, 1, 41, 13, 14, 23, 1, 19, 17, 2, 1, 14, 4, 17, 17, 23, 1, 17, 38, 17, 7, 2, 9, 10, 19, 2, 1, 15, 10, 7, 1, 42, 22, 49, 22, 7, 17, 23, 18, 20, 1, 56, 17, 15, 10, 7, 17, 1, 6, 17, 14, 13, 14, 1, 12, 10, 1, 8, 17, 17, 23, 1, 6, 10, 18, 26, 1, 8, 22, 21, 17, 1, 17, 1, 9, 22, 3, 23, 16, 49, 17, 1, 22, 8, 36], '200702-201219_ibb_9fa_elicit_11': [17, 38, 17, 7, 2, 9, 10, 19, 2, 1, 21, 26, 10, 4, 1, 6, 17, 14, 13, 14, 1, 22, 14, 1, 25, 22, 7, 3, 17, 26, 23, 17, 7, 36, 1, 9, 13, 23, 1, 26, 10, 4, 36, 1, 23, 18, 17, 1, 3, 17, 10, 3, 5, 17, 1, 21, 26, 10, 4, 1, 22, 8, 1, 22, 14, 1, 3, 17, 7, 14, 10, 26, 1, 4, 17, 2, 1, 19, 17, 2, 1, 19, 10, 1, 8, 16, 7, 22, 25, 5, 17, 20], '200702-201219_ibb_9fa_elicit_12': [46, 18, 17, 1, 3, 17, 10, 3, 5, 17, 1, 41, 13, 14, 23, 1, 19, 17, 2, 1, 4, 22, 16, 23, 1, 23, 10, 1, 14, 17, 17, 1, 6, 17, 14, 13, 14, 1, 19, 10, 1, 8, 16, 7, 22, 25, 5, 17, 1, 8, 22, 21, 17, 1, 19, 17, 8, 1, 14, 17, 17, 20], '200702-201219_ibb_9fa_elicit_13': [6, 17, 14, 13, 14, 1, 17, 26, 23, 17, 7, 1, 23, 18, 17, 1, 14, 2, 26, 22, 12, 10, 12, 13, 17, 1, 22, 14, 1, 17, 1, 19, 17, 2, 1, 19, 10, 1, 9, 17, 15, 10, 7, 17, 20, 1, 28, 38, 17, 7, 2, 9, 10, 19, 2, 1, 4, 22, 26, 23, 1, 14, 17, 17, 1, 4, 17, 23, 16, 26, 1, 17, 1, 12, 10, 1, 19, 10, 20], '200702-201219_ibb_9fa_elicit_14': [48, 10, 7, 1, 14, 2, 26, 22, 12, 10, 12, 13, 17, 1, 23, 18, 22, 23, 1, 23, 16, 8, 17, 1, 10, 26, 1, 11, 22, 9, 9, 22, 23, 18, 1, 19, 22, 2, 36, 1, 19, 17, 8, 1, 12, 10, 1, 3, 7, 22, 2, 1, 22, 26, 19, 1, 7, 17, 22, 19, 1, 23, 18, 17, 1, 9, 10, 10, 21, 14, 1, 4, 17, 2, 1, 24, 10, 14, 17, 14, 1, 4, 7, 16, 23, 17, 20], '200702-201219_ibb_9fa_elicit_15': [33, 40, 25, 23, 14, 1, 61, 65, 27, 43, 61, 30, 1, 39, 17, 8, 1, 14, 23, 16, 5, 5, 1, 19, 17, 2, 1, 7, 17, 22, 19, 1, 14, 10, 8, 17, 1, 10, 15, 1, 23, 18, 17, 1, 9, 10, 10, 21, 1, 4, 17, 2, 1, 23, 18, 17, 1, 3, 7, 10, 3, 18, 17, 23, 14, 1, 4, 7, 16, 23, 17, 20], '200702-201219_ibb_9fa_elicit_16': [40, 14, 1, 6, 17, 14, 13, 14, 1, 14, 23, 22, 26, 19, 1, 13, 3, 1, 23, 10, 1, 7, 17, 22, 19, 36, 1, 17, 1, 15, 16, 23, 1, 19, 17, 2, 1, 7, 17, 8, 17, 8, 9, 17, 7, 1, 14, 10, 8, 17, 1, 10, 15, 1, 23, 18, 17, 1, 3, 17, 10, 3, 5, 17, 1, 4, 17, 2, 1, 17, 1, 21, 26, 10, 4, 1, 22, 5, 5, 1, 23, 18, 17, 1, 2, 17, 22, 7, 14, 1, 4, 17, 2, 1, 17, 1, 19, 17, 2, 1, 25, 10, 8, 17, 1, 23, 18, 17, 1, 14, 2, 26, 22, 12, 10, 12, 13, 17, 20], '200702-201219_ibb_9fa_elicit_18': [54, 17, 1, 25, 10, 8, 17, 1, 10, 3, 17, 26, 1, 22, 8, 1, 12, 10, 1, 4, 18, 17, 7, 17, 1, 19, 17, 8, 1, 23, 22, 5, 21, 1, 22, 9, 10, 13, 23, 1, 23, 18, 17, 1, 3, 17, 7, 14, 10, 26, 1, 4, 17, 2, 1, 6, 17, 18, 10, 38, 22, 18, 1, 22, 26, 10, 16, 26, 23, 20, 1, 42, 10, 4, 36, 1, 23, 18, 17, 1, 3, 5, 22, 25, 17, 1, 26, 22, 1, 34, 14, 22, 16, 22, 18, 1, 69, 61, 27, 61, 36, 1, 43, 20], '200702-201219_ibb_9fa_elicit_19': [6, 17, 14, 13, 14, 1, 25, 10, 8, 17, 1, 19, 17, 2, 1, 7, 17, 22, 19, 1, 22, 9, 10, 13, 23, 1, 18, 10, 4, 1, 23, 18, 17, 1, 3, 17, 7, 14, 10, 26, 1, 4, 17, 2, 1, 51, 10, 19, 1, 22, 26, 10, 16, 26, 23, 36], '200702-201219_ibb_9fa_elicit_20': [12, 10, 1, 23, 22, 21, 17, 1, 3, 7, 17, 22, 25, 18, 1, 15, 7, 17, 17, 19, 10, 8, 1, 23, 10, 1, 3, 17, 10, 3, 5, 17, 1, 4, 17, 2, 1, 19, 17, 2, 1, 9, 10, 26, 19, 22, 12, 17, 36, 1, 18, 10, 4, 1, 3, 17, 10, 3, 5, 17, 1, 4, 17, 2, 1, 9, 5, 16, 26, 19, 1, 12, 10, 1, 14, 17, 17, 1, 22, 26, 19, 1, 22, 9, 10, 13, 23, 1, 6, 17, 18, 10, 38, 22, 18, 1, 2, 17, 22, 7, 1, 10, 15, 1, 15, 22, 38, 10, 7, 1, 4, 17, 2, 1, 19, 17, 2, 1, 25, 10, 8, 17, 20], '200702-201219_ibb_9fa_elicit_21': [50, 18, 17, 26, 1, 6, 17, 14, 13, 14, 1, 7, 17, 22, 19, 1, 22, 8, 1, 15, 16, 26, 16, 14, 18, 36, 1, 17, 1, 12, 16, 38, 17, 1, 23, 18, 17, 1, 14, 25, 7, 10, 5, 5, 1, 23, 10, 1, 10, 26, 17, 1, 3, 17, 7, 14, 10, 26, 1, 4, 17, 2, 1, 19, 17, 2, 1, 4, 10, 7, 21, 1, 15, 10, 7, 1, 23, 18, 17, 7, 17, 20], '200702-201219_ibb_9fa_elicit_23': [55, 26, 17, 1, 10, 15, 1, 23, 18, 17, 1, 23, 18, 16, 26, 12, 14, 1, 4, 17, 2, 1, 17, 1, 23, 17, 5, 5, 1, 19, 17, 8, 1, 26, 22, 36, 1, 37, 23, 10, 19, 22, 2, 36, 1, 23, 18, 16, 14, 1, 23, 18, 16, 26, 12, 14, 1, 4, 17, 2, 1, 13, 26, 22, 1, 18, 17, 22, 7, 1, 19, 10, 26, 1, 18, 22, 3, 3, 17, 26, 20, 31, 57, 13, 21, 17, 1, 29, 27, 43, 61, 20], '200702-201219_ibb_9fa_elicit_24': [46, 18, 17, 1, 3, 17, 10, 3, 5, 17, 1, 14, 13, 7, 3, 7, 16, 14, 17, 1, 9, 17, 25, 22, 13, 14, 17, 1, 10, 15, 1, 37, 23, 18, 17, 1, 9, 17, 23, 23, 17, 7, 1, 9, 17, 23, 23, 17, 7, 1, 4, 10, 7, 19, 1, 4, 17, 2, 1, 19, 17, 2, 1, 25, 10, 8, 17, 1, 10, 13, 23, 1, 15, 7, 10, 8, 1, 16, 8, 1, 8, 10, 13, 23, 18, 20], '200702-201219_ibb_9fa_elicit_25': [31, 39, 17, 8, 1, 25, 10, 8, 17, 1, 19, 17, 2, 1, 23, 22, 5, 21, 1, 23, 10, 1, 17, 22, 25, 18, 1, 10, 23, 18, 17, 7, 1, 14, 17, 2, 27, 1, 37, 46, 18, 16, 14, 1, 26, 22, 1, 6, 10, 14, 17, 3, 18, 1, 3, 16, 21, 16, 26, 36, 1, 22, 9, 16, 1, 26, 10, 1, 9, 17, 1, 16, 8, 52], '200702-201219_ibb_9fa_elicit_26': [31, 40, 14, 1, 6, 17, 14, 13, 14, 1, 21, 26, 10, 4, 1, 14, 17, 2, 1, 19, 17, 8, 1, 19, 17, 2, 1, 4, 22, 16, 23, 1, 15, 10, 7, 1, 22, 8, 1, 23, 10, 1, 19, 10, 1, 8, 16, 7, 22, 25, 5, 17, 1, 5, 16, 21, 17, 1, 23, 18, 17, 1, 10, 26, 17, 1, 4, 17, 2, 1, 19, 17, 8, 1, 18, 17, 22, 7, 1, 14, 17, 2, 1, 17, 1, 19, 10, 1, 9, 17, 15, 10, 7, 17, 36], '200702-201219_ibb_9fa_elicit_27': [6, 17, 14, 13, 14, 1, 25, 10, 8, 17, 1, 23, 22, 5, 21, 1, 14, 17, 2, 27, 1, 37, 73, 26, 22, 1, 12, 10, 1, 14, 13, 7, 17, 5, 2, 1, 23, 17, 5, 5, 1, 8, 17, 1, 14, 17, 2, 36, 1, 71, 39, 10, 25, 23, 10, 7, 36, 1, 25, 13, 7, 17, 1, 2, 10, 13, 7, 14, 17, 5, 15, 59], '200702-201219_ibb_9fa_elicit_29': [72, 31, 1, 33, 57, 13, 21, 17, 1, 29, 27, 43, 43, 36, 1, 43, 35, 30, 1, 34, 8, 1, 15, 10, 7, 8, 17, 7, 1, 26, 17, 16, 12, 18, 9, 10, 7, 14, 1, 15, 16, 23, 1, 19, 17, 2, 1, 15, 17, 17, 5, 1, 14, 17, 2, 1, 6, 17, 14, 13, 14, 1, 12, 10, 1, 14, 23, 22, 7, 23, 1, 23, 10, 1, 19, 10, 1, 8, 16, 7, 22, 25, 5, 17, 1, 15, 10, 7, 1, 16, 8, 1, 18, 10, 8, 17, 23, 10, 4, 26], '200702-201219_ibb_9fa_elicit_30': [14, 10, 1, 23, 18, 22, 23, 1, 16, 8, 1, 3, 17, 10, 3, 5, 17, 1, 12, 10, 1, 9, 17, 1, 23, 18, 17, 1, 15, 16, 7, 14, 23, 1, 23, 10, 1, 12, 22, 16, 26, 1, 15, 7, 10, 8, 1, 22, 8, 20, 1, 11, 10, 1, 19, 17, 8, 1, 25, 10, 8, 17, 1, 19, 17, 2, 1, 15, 17, 17, 5, 1, 14, 17, 2, 1, 6, 17, 14, 13, 14, 1, 26, 10, 1, 7, 17, 14, 3, 17, 25, 23, 1, 19, 17, 8, 20], '200702-201219_ibb_9fa_elicit_31': [40, 14, 1, 6, 17, 14, 13, 14, 1, 21, 26, 10, 4, 1, 4, 17, 23, 16, 26, 1, 19, 17, 2, 1, 23, 18, 17, 16, 7, 1, 8, 16, 26, 19, 36, 1, 17, 1, 23, 17, 5, 5, 1, 19, 17, 8, 1, 14, 10, 8, 17, 1, 23, 18, 16, 26, 12, 14, 1, 4, 17, 2, 1, 19, 10, 26, 1, 18, 22, 3, 3, 17, 26, 1, 23, 10, 1, 34, 14, 7, 22, 17, 5, 1, 3, 17, 10, 3, 5, 17, 20, 1, 48, 10, 7, 1, 28, 5, 16, 41, 22, 18, 1, 23, 16, 8, 17, 36], '200702-201219_ibb_9fa_elicit_32': [8, 22, 26, 2, 1, 4, 10, 8, 17, 26, 1, 4, 17, 2, 1, 23, 18, 17, 16, 7, 1, 18, 13, 14, 9, 22, 26, 19, 1, 19, 10, 26, 1, 19, 16, 17, 1, 19, 17, 2, 1, 34, 14, 7, 22, 17, 5, 36, 1, 9, 13, 23, 1, 51, 10, 19, 1, 26, 10, 1, 14, 17, 26, 19, 1, 28, 5, 16, 41, 22, 18, 1, 12, 10, 1, 8, 17, 17, 23, 1, 22, 26, 2, 1, 10, 15, 1, 19, 17, 8, 20], '200702-201219_ibb_9fa_elicit_33': [42, 22, 1, 23, 18, 17, 1, 10, 26, 17, 1, 4, 17, 2, 1, 26, 10, 1, 9, 17, 1, 34, 14, 7, 22, 17, 5, 1, 3, 17, 7, 14, 10, 26, 36, 1, 4, 17, 2, 1, 19, 17, 2, 1, 68, 22, 7, 17, 3, 18, 22, 23, 18, 10, 26, 17, 1, 23, 10, 4, 26, 1, 4, 17, 2, 1, 26, 17, 22, 7, 1, 11, 16, 19, 10, 26, 28, 5, 16, 41, 22, 18, 1, 19, 10, 1, 8, 16, 7, 22, 25, 5, 17, 1, 15, 10, 7, 20], '200702-201219_ibb_9fa_elicit_34': [33, 61, 1, 58, 16, 26, 12, 14, 1, 61, 60, 27, 64, 62, 61, 69, 30, 1, 48, 10, 7, 1, 28, 5, 16, 14, 18, 22, 1, 23, 16, 8, 17, 36], '200702-201219_ibb_9fa_elicit_35': [8, 22, 26, 2, 1, 5, 17, 3, 17, 7, 1, 14, 23, 16, 5, 5, 1, 19, 17, 2, 1, 34, 14, 7, 22, 17, 5, 1, 9, 13, 23, 1, 26, 22, 1, 10, 26, 5, 2, 1, 42, 22, 22, 8, 22, 26, 1, 4, 17, 2, 1, 9, 17, 1, 11, 2, 7, 16, 22, 1, 3, 17, 7, 14, 10, 26, 1, 28, 5, 16, 14, 18, 22, 1, 25, 13, 7, 17, 20, 43, 1, 58, 16, 26, 12, 14, 1, 65, 27, 61, 36, 1, 64, 62, 61, 29, 20], '200702-201219_ibb_9fa_elicit_36': [53, 17, 10, 3, 5, 17, 1, 15, 10, 7, 1, 23, 18, 17, 1, 14, 2, 26, 22, 12, 10, 12, 13, 17, 1, 25, 22, 7, 7, 2, 1, 6, 17, 14, 13, 14, 1, 12, 10, 1, 23, 18, 17, 1, 3, 22, 7, 23, 1, 10, 15, 1, 23, 18, 17, 1, 8, 10, 13, 26, 23, 22, 16, 26, 1, 4, 17, 2, 1, 18, 16, 12, 18, 1, 3, 22, 14, 14], '200702-201219_ibb_9fa_elicit_37': [50, 17, 23, 16, 26, 1, 23, 18, 17, 1, 3, 17, 10, 3, 5, 17, 1, 19, 10, 1, 4, 18, 17, 26, 1, 19, 17, 8, 1, 14, 17, 17, 1, 14, 17, 2, 1, 6, 17, 14, 13, 14, 1, 14, 23, 10, 7, 2, 1, 26, 10, 1, 15, 22, 38, 10, 7, 1, 19, 17, 8, 36, 1, 9, 13, 23, 1, 17, 1, 19, 17, 2, 1, 14, 18, 10, 4, 1, 14, 17, 2, 1, 19, 17, 8, 1, 19, 17, 2, 1, 14, 17, 5, 15, 16, 14, 18, 1, 22, 26, 19, 1, 19, 17, 8, 1, 26, 10, 1, 12, 17, 23, 1, 15, 22, 16, 23, 18, 52], '200702-201219_ibb_9fa_elicit_38': [46, 18, 17, 1, 3, 17, 10, 3, 5, 17, 1, 4, 17, 2, 1, 19, 17, 2, 1, 23, 18, 17, 1, 14, 2, 26, 22, 12, 10, 12, 13, 17, 1, 25, 10, 8, 17, 1, 38, 17, 45, 36, 1, 19, 17, 8, 1, 25, 22, 7, 7, 2, 1, 6, 17, 14, 13, 14, 1, 10, 13, 23, 14, 16, 19, 17, 1, 23, 18, 17, 1, 23, 10, 4, 26, 36], '200702-201219_ibb_9fa_elicit_39': [15, 10, 7, 1, 23, 18, 17, 1, 25, 10, 7, 26, 17, 7, 1, 10, 15, 1, 23, 18, 17, 1, 8, 10, 13, 26, 23, 22, 16, 26, 1, 4, 17, 2, 1, 42, 22, 49, 22, 7, 17, 23, 18, 1, 19, 17, 2, 1, 10, 26, 23, 10, 3, 23, 18, 17, 1, 3, 22, 7, 23, 1, 4, 17, 2, 1, 18, 16, 12, 18, 1, 3, 22, 14, 14, 14, 10, 1, 23, 18, 22, 23, 1, 19, 17, 8, 1, 12, 10, 1, 3, 13, 14, 18, 1, 22, 8, 1, 19, 10, 4, 26, 20], '200702-201219_ibb_9fa_elicit_40': [56, 13, 23, 1, 6, 17, 14, 13, 14, 1, 17, 14, 25, 22, 3, 17, 1, 15, 7, 10, 8, 1, 23, 18, 17, 16, 7, 1, 18, 22, 26, 19, 1, 22, 26, 19, 1, 26, 10, 23, 18, 16, 26, 12, 1, 19, 10, 1, 22, 8, 20], '200702-201219_ibb_9fa_elicit_41': [40, 15, 23, 17, 7, 36, 1, 6, 17, 14, 13, 14, 1, 23, 7, 22, 38, 17, 5, 1, 12, 10, 1, 44, 22, 3, 17, 7, 26, 22, 13, 8, 1, 4, 17, 2, 1, 19, 17, 2, 1, 23, 18, 17, 1, 26, 10, 7, 23, 18, 4, 17, 14, 23, 1, 14, 16, 19, 17, 1, 10, 15, 1, 23, 18, 17, 1, 11, 17, 22, 1, 10, 15, 1, 51, 22, 5, 16, 5, 17, 17, 20], '200702-201219_ibb_9fa_elicit_42': [48, 10, 13, 7, 1, 39, 16, 14, 25, 16, 3, 5, 17, 14, 1, 51, 10, 1, 56, 17, 1, 48, 16, 14, 18, 17, 7, 14, 1, 10, 15, 1, 24, 17, 26], '200702-201219_ibb_9fa_elicit_43': [40, 15, 23, 17, 7, 1, 42, 22, 49, 22, 7, 17, 23, 18, 1, 3, 17, 10, 3, 5, 17, 1, 23, 7, 2, 1, 23, 10, 1, 21, 16, 5, 5, 1, 6, 17, 14, 13, 14, 36, 1, 17, 1, 25, 10, 8, 10, 23, 1, 15, 7, 10, 8, 1, 23, 18, 17, 7, 17, 1, 12, 10, 1, 44, 22, 3, 17, 7, 26, 22, 13, 8, 36], '200702-201219_ibb_9fa_elicit_44': [26, 17, 22, 7, 1, 23, 18, 17, 1, 11, 17, 22, 1, 10, 15, 1, 51, 22, 5, 16, 5, 17, 17, 1, 4, 17, 2, 1, 19, 17, 8, 1, 14, 23, 16, 5, 5, 1, 19, 17, 2, 1, 25, 22, 5, 5, 1, 37, 23, 18, 17, 1, 57, 22, 21, 17, 1, 10, 15, 1, 51, 17, 26, 26, 17, 14, 22, 7, 17, 23, 20], '200702-201219_ibb_9fa_elicit_46': [14, 17, 2, 1, 51, 22, 5, 16, 5, 17, 17, 1, 3, 17, 10, 3, 5, 17, 1, 4, 17, 2, 1, 19, 17, 2, 1, 14, 23, 22, 2, 1, 26, 17, 22, 7, 1, 23, 18, 17, 1, 14, 17, 22, 1, 12, 10, 1, 14, 17, 17, 1, 12, 7, 17, 22, 23, 1, 5, 16, 12, 18, 23, 20, 34, 14, 22, 16, 22, 18, 1, 32, 27, 61, 36, 1, 43, 20], '200702-201219_ibb_9fa_elicit_48': [31, 33, 24, 22, 23, 23, 18, 17, 4, 1, 29, 27, 61, 60, 30, 1, 6, 17, 14, 13, 14, 1, 25, 10, 8, 17, 1, 14, 17, 17, 1, 15, 10, 13, 7, 1, 10, 15, 1, 16, 8, 1, 19, 16, 14, 25, 16, 3, 5, 17, 14, 20], '200702-201219_ibb_9fa_elicit_49': [39, 17, 8, 1, 9, 17, 1, 23, 7, 22, 38, 17, 5, 1, 4, 16, 23, 18, 1, 22, 8, 36, 1, 9, 13, 23, 1, 22, 14, 1, 19, 17, 8, 1, 25, 10, 8, 17, 1, 9, 22, 25, 21, 1, 4, 16, 23, 18, 1, 6, 17, 14, 13, 14, 1, 15, 7, 10, 8, 1, 6, 13, 19, 17, 22, 36, 1, 19, 17, 8, 1, 12, 10, 1, 9, 22, 25, 21, 1, 23, 10, 1, 23, 18, 17, 16, 7, 1, 15, 16, 14, 18, 1, 9, 13, 14, 16, 26, 17, 14, 14, 20], '200630-175003_pcm_9fa_elicit_0': [6, 10, 14, 17, 3, 18, 1, 44, 22, 7, 7, 2, 1, 34, 8, 1, 48, 22, 8, 16, 5, 2, 1, 51, 10, 1, 6, 17, 7, 13, 14, 22, 5, 17, 8], '200630-175003_pcm_9fa_elicit_1': [6, 28, 11, 73, 11, 1, 39, 28, 70, 1, 40, 11, 58, 1, 46, 28, 40, 44, 54, 28, 47, 11, 1, 75, 73, 28, 11, 46, 34, 55, 42, 1, 50, 54, 28, 42, 1, 28, 1, 39, 28, 70, 1, 46, 50, 28, 57, 74, 28, 1, 70, 28, 40, 47, 11], '200630-175003_pcm_9fa_elicit_2': [6, 28, 11, 73, 11, 1, 46, 40, 57, 58, 1, 11, 28, 70, 1, 6, 28, 54, 55, 74, 40, 54, 1, 42, 40, 1, 34, 24, 1, 48, 40, 46, 54, 28, 47], '200630-175003_pcm_9fa_elicit_3': [28, 1, 19, 10, 26, 1, 7, 17, 22, 25, 18, 1, 23, 16, 8, 17, 1, 15, 10, 7, 1, 6, 10, 14, 17, 3, 18, 1, 23, 10, 1, 25, 22, 7, 7, 2, 1, 16, 8, 1, 15, 22, 8, 16, 5, 2, 1, 12, 10, 1, 6, 17, 7, 13, 14, 22, 5, 17, 8, 20], '200630-175003_pcm_9fa_elicit_4': [28, 38, 17, 7, 2, 1, 2, 17, 22, 7, 36, 1, 19, 17, 8, 1, 19, 17, 2, 1, 12, 10, 1, 19, 10, 1, 53, 22, 14, 14, 10, 38, 17, 7, 1, 15, 10, 7, 1, 23, 18, 17, 7, 17, 36, 1, 22, 14, 1, 23, 18, 17, 1, 57, 22, 4, 1, 23, 22, 5, 21, 20], '200630-175003_pcm_9fa_elicit_5': [33, 39, 17, 13, 23, 17, 7, 10, 26, 10, 8, 2, 1, 61, 69, 27, 61, 69, 30, 1, 39, 17, 8, 1, 19, 17, 2, 1, 12, 10, 1, 4, 16, 23, 18, 1, 23, 18, 17, 16, 7, 1, 15, 7, 16, 17, 26, 19, 14, 1, 22, 26, 19, 1, 15, 22, 8, 16, 5, 2, 1, 3, 17, 10, 3, 5, 17, 20], '200630-175003_pcm_9fa_elicit_6': [48, 7, 10, 8, 1, 42, 22, 49, 22, 7, 17, 23, 18, 1, 23, 10, 1, 6, 17, 7, 13, 14, 22, 5, 17, 8, 1, 26, 22, 1, 22, 9, 10, 13, 23, 1, 61, 43, 66, 1, 21, 8, 20, 1, 28, 38, 17, 7, 2, 9, 10, 19, 2, 1, 19, 17, 2, 1, 5, 16, 21, 17, 1, 8, 22, 21, 17, 1, 23, 18, 16, 14, 1, 23, 16, 8, 17, 1, 63, 13, 16, 25, 21, 1, 7, 17, 22, 25, 18, 36], '200630-175003_pcm_9fa_elicit_7': [22, 26, 19, 1, 8, 22, 26, 2, 1, 23, 18, 16, 26, 12, 14, 1, 19, 17, 2, 1, 23, 10, 1, 19, 10, 20, 1, 42, 10, 4, 36, 1, 6, 17, 14, 13, 14, 1, 19, 10, 26, 1, 7, 17, 22, 25, 18, 1, 61, 43, 1, 2, 17, 22, 7, 14, 36, 1, 22, 26, 19, 1, 23, 18, 16, 14, 1, 15, 17, 14, 23, 16, 38, 22, 5, 1, 7, 17, 22, 5, 5, 2, 1, 19, 17, 2, 1, 8, 22, 21, 17, 1, 22, 8, 1, 18, 22, 3, 3, 2, 20], '200630-175003_pcm_9fa_elicit_8': [28, 1, 14, 23, 16, 5, 5, 1, 19, 17, 2, 1, 18, 22, 3, 3, 2, 1, 9, 17, 25, 22, 13, 14, 17, 1, 17, 1, 12, 10, 1, 14, 17, 17, 1, 23, 18, 17, 1, 23, 17, 8, 3, 5, 17, 1, 22, 12, 22, 16, 26, 20], '200630-175003_pcm_9fa_elicit_10': [40, 15, 23, 17, 7, 1, 23, 18, 17, 1, 53, 22, 14, 14, 10, 38, 17, 7, 36, 1, 19, 17, 8, 1, 12, 10, 1, 14, 23, 16, 5, 5, 1, 19, 10, 1, 48, 17, 14, 23, 16, 38, 22, 5, 1, 10, 15, 1, 73, 26, 5, 17, 22, 38, 17, 26, 17, 19, 1, 56, 7, 17, 22, 19, 1, 15, 10, 7, 1, 14, 17, 38, 17, 26, 1, 19, 22, 2, 14, 20], '200630-175003_pcm_9fa_elicit_11': [33, 24, 22, 7, 21, 1, 61, 29, 27, 61, 30, 1, 46, 18, 16, 14, 1, 15, 17, 14, 23, 16, 38, 22, 5, 1, 26, 22, 1, 14, 23, 16, 5, 5, 1, 3, 22, 7, 23, 1, 10, 15, 1, 4, 17, 23, 16, 26, 1, 19, 17, 8, 1, 19, 17, 2, 1, 19, 10, 1, 22, 7, 10, 13, 26, 19, 1, 53, 22, 14, 14, 10, 38, 17, 7, 1, 23, 16, 8, 17, 20], '200630-175003_pcm_9fa_elicit_12': [46, 10, 1, 12, 10, 1, 6, 17, 7, 13, 14, 22, 5, 17, 8, 36, 1, 19, 10, 1, 23, 18, 17, 1, 53, 22, 14, 14, 10, 38, 17, 7, 36, 1, 22, 26, 19, 1, 25, 10, 8, 17, 1, 9, 22, 25, 21, 1, 23, 10, 1, 42, 22, 49, 22, 7, 17, 23, 18, 36, 1, 12, 10, 1, 23, 22, 21, 17, 1, 22, 9, 10, 13, 23, 1, 23, 4, 10, 1, 4, 17, 17, 21, 14, 20], '200630-175003_pcm_9fa_elicit_13': [56, 13, 23, 1, 23, 18, 16, 14, 1, 2, 17, 22, 7, 36, 1, 19, 17, 8, 1, 14, 23, 22, 2, 1, 3, 22, 14, 14, 1, 23, 4, 10, 1, 4, 17, 17, 21, 14, 1, 9, 17, 25, 22, 13, 14, 17, 1, 10, 15, 1, 14, 10, 8, 17, 23, 18, 16, 26, 12, 1, 4, 17, 2, 1, 18, 22, 3, 3, 17, 26, 20, 1, 40, 26, 19, 1, 26, 22, 1, 4, 18, 17, 26, 1, 19, 17, 8, 1, 19, 17, 2, 1, 7, 10, 22, 19, 1, 19, 17, 8, 1, 26, 10, 23, 16, 25, 17, 1, 22, 8, 20], '200630-175003_pcm_9fa_elicit_14': [28, 1, 39, 28, 70, 1, 11, 50, 28, 28, 46, 1, 39, 28, 24, 1, 46, 55, 1, 46, 47, 40, 74, 28, 57, 36, 1, 6, 17, 14, 13, 14, 1, 19, 17, 2, 1, 23, 7, 22, 38, 17, 5, 1, 4, 16, 23, 18, 1, 16, 8, 1, 15, 22, 8, 16, 5, 2, 1, 3, 17, 10, 3, 5, 17, 1, 23, 10, 1, 6, 17, 7, 13, 14, 22, 5, 17, 8], '200630-175003_pcm_9fa_elicit_16': [33, 39, 17, 13, 23, 17, 7, 10, 26, 10, 8, 2, 1, 61, 69, 27, 61, 65, 30, 1, 40, 14, 1, 19, 17, 8, 1, 19, 17, 2, 1, 23, 7, 22, 38, 17, 5, 36, 1, 6, 17, 14, 13, 14, 1, 19, 17, 2, 1, 14, 17, 17, 1, 19, 16, 15, 15, 17, 7, 17, 26, 23, 1, 19, 16, 15, 15, 17, 7, 17, 26, 23, 1, 22, 7, 17, 22, 1, 15, 10, 7, 1, 34, 14, 7, 22, 17, 5, 1, 22, 26, 19, 1, 5, 17, 22, 7, 26, 1, 22, 9, 10, 13, 23, 1, 23, 18, 17, 1, 22, 7, 17, 22, 20], '200630-175003_pcm_9fa_elicit_17': [6, 17, 14, 13, 14, 1, 14, 23, 16, 5, 5, 1, 19, 17, 2, 1, 8, 17, 17, 23, 1, 10, 23, 18, 17, 7, 1, 14, 17, 7, 38, 22, 26, 23, 1, 10, 15, 1, 6, 17, 18, 10, 38, 22, 18, 1, 4, 17, 2, 1, 25, 10, 8, 17, 1, 15, 7, 10, 8, 1, 10, 23, 18, 17, 7, 1, 22, 7, 17, 22, 20, 1, 46, 18, 16, 14, 1, 23, 7, 22, 38, 17, 5, 1, 26, 22, 1, 7, 17, 22, 5, 5, 2, 1, 9, 17, 23, 23, 17, 7, 1, 10, 26, 17, 67], '200630-175003_pcm_9fa_elicit_19': [42, 22, 1, 4, 18, 17, 26, 1, 19, 17, 8, 1, 7, 17, 22, 25, 18, 1, 4, 18, 17, 7, 17, 1, 19, 17, 8, 1, 4, 22, 26, 23, 1, 14, 5, 17, 17, 3, 36, 1, 19, 17, 8, 1, 14, 17, 17, 1, 14, 17, 2, 1, 6, 17, 14, 13, 14, 1, 26, 10, 1, 19, 17, 2, 1, 4, 16, 23, 18, 1, 19, 17, 8, 20], '200630-175003_pcm_9fa_elicit_20': [39, 17, 8, 1, 25, 10, 8, 17, 1, 14, 23, 22, 7, 23, 1, 23, 10, 1, 19, 17, 2, 1, 15, 16, 26, 19, 1, 22, 8, 1, 15, 10, 7, 1, 4, 18, 17, 7, 17, 1, 23, 18, 17, 16, 7, 1, 15, 7, 16, 17, 26, 19, 14, 1, 19, 17, 2, 36, 1, 9, 13, 23, 1, 19, 17, 8, 1, 26, 10, 1, 14, 17, 17, 1, 22, 8, 20], '200630-175003_pcm_9fa_elicit_21': [39, 17, 8, 1, 26, 10, 1, 21, 26, 10, 4, 1, 4, 18, 17, 7, 17, 1, 23, 18, 17, 16, 7, 1, 3, 16, 21, 16, 26, 36, 1, 6, 17, 14, 13, 14, 1, 19, 17, 2, 36, 1, 6, 10, 14, 17, 3, 18, 1, 22, 26, 19, 1, 24, 22, 7, 2, 1, 25, 10, 8, 17, 1, 12, 10, 1, 9, 22, 25, 21, 1, 23, 10, 1, 6, 17, 7, 13, 14, 22, 5, 17, 8, 1, 12, 10, 1, 15, 16, 26, 19, 1, 22, 8, 20], '200630-175003_pcm_9fa_elicit_22': [39, 17, 8, 1, 13, 14, 17, 1, 23, 18, 17, 1, 4, 18, 10, 5, 17, 1, 19, 22, 2, 1, 15, 16, 26, 19, 1, 22, 8, 36, 1, 9, 13, 23, 1, 19, 17, 8, 1, 26, 10, 1, 14, 17, 17, 1, 22, 8, 20, 1, 39, 17, 8, 1, 26, 10, 1, 14, 23, 16, 5, 5, 1, 14, 17, 17, 1, 22, 8, 1, 22, 15, 23, 17, 7, 1, 23, 18, 17, 1, 14, 17, 25, 10, 26, 19, 1, 19, 22, 2, 20], '200630-175003_pcm_9fa_elicit_23': [42, 22, 1, 23, 18, 17, 1, 23, 18, 16, 7, 19, 1, 19, 22, 2, 1, 19, 17, 8, 1, 25, 10, 8, 17, 1, 14, 17, 17, 1, 22, 8, 1, 15, 10, 7, 1, 16, 26, 14, 16, 19, 17, 1, 10, 26, 17, 1, 10, 15, 1, 23, 18, 17, 1, 18, 22, 5, 5, 1, 15, 10, 7, 1, 23, 18, 17, 1, 23, 17, 8, 3, 5, 17, 20], '200630-175003_pcm_9fa_elicit_24': [6, 17, 14, 13, 14, 1, 14, 16, 23, 19, 10, 4, 26, 1, 4, 16, 23, 18, 1, 14, 10, 8, 17, 1, 10, 15, 1, 23, 18, 17, 1, 23, 17, 22, 25, 18, 17, 7, 14, 1, 15, 10, 7, 1, 23, 18, 17, 1, 23, 17, 8, 3, 5, 17, 20, 1, 40, 14, 1, 17, 1, 19, 17, 2, 1, 5, 16, 14, 23, 17, 26, 1, 23, 10, 1, 19, 17, 8, 36, 1, 22, 26, 19, 1, 19, 17, 2, 1, 22, 14, 21, 1, 19, 17, 8, 1, 63, 13, 17, 14, 23, 16, 10, 26, 36], '200630-175003_pcm_9fa_elicit_25': [23, 18, 17, 1, 23, 17, 22, 25, 18, 17, 7, 14, 1, 25, 10, 8, 17, 1, 19, 17, 2, 1, 14, 13, 7, 3, 7, 16, 14, 17, 1, 15, 10, 7, 1, 23, 18, 17, 1, 21, 16, 26, 19, 1, 14, 17, 26, 14, 17, 1, 4, 17, 2, 1, 17, 1, 12, 17, 23, 20], '200630-175003_pcm_9fa_elicit_26': [6, 10, 14, 17, 3, 18, 1, 22, 26, 19, 1, 24, 22, 7, 2, 1, 19, 10, 26, 1, 14, 17, 17, 1, 6, 17, 14, 13, 14], '200630-175003_pcm_9fa_elicit_27': [40, 14, 1, 24, 22, 7, 2, 1, 14, 17, 17, 1, 22, 8, 36, 1, 17, 1, 25, 10, 8, 17, 1, 22, 14, 21, 1, 22, 8, 1, 14, 17, 2, 27, 1, 37, 24, 2, 1, 3, 16, 21, 16, 26, 36, 1, 4, 18, 2, 1, 2, 10, 13, 1, 19, 10, 1, 13, 14, 1, 5, 16, 21, 17, 1, 23, 18, 16, 14, 52, 31, 1, 28, 1, 14, 23, 16, 5, 5, 1, 23, 22, 5, 21, 1, 14, 17, 2, 27], '200630-175003_pcm_9fa_elicit_28': [37, 24, 17, 1, 22, 26, 19, 1, 2, 10, 13, 7, 1, 3, 22, 3, 22, 1, 26, 10, 1, 15, 16, 23, 1, 7, 17, 14, 23, 36, 1, 4, 17, 1, 19, 10, 26, 1, 19, 17, 2, 1, 15, 16, 26, 19, 1, 2, 10, 13, 1, 13, 3, 1, 22, 26, 19, 1, 19, 10, 4, 26, 20, 31, 57, 13, 21, 17, 1, 43, 27, 29, 64], '200630-175003_pcm_9fa_elicit_29': [50, 17, 23, 16, 26, 1, 6, 17, 14, 13, 14, 1, 23, 22, 5, 21, 1, 14, 18, 10, 4, 1, 14, 17, 2, 1, 17, 1, 14, 13, 7, 3, 7, 16, 14, 17, 1, 22, 8, 1, 14, 17, 2, 1, 19, 17, 8, 1, 26, 10, 1, 21, 26, 10, 4, 1, 4, 18, 17, 7, 17, 1, 17, 1, 19, 17, 2, 20], '200630-175003_pcm_9fa_elicit_30': [28, 1, 22, 14, 21, 1, 19, 17, 8, 1, 14, 17, 2, 27, 1, 37, 50, 18, 2, 1, 13, 26, 22, 1, 19, 17, 2, 1, 15, 16, 26, 19, 1, 8, 17, 52, 1, 73, 26, 22, 1, 26, 10, 1, 21, 26, 10, 4, 1, 14, 17, 2, 1, 34, 1, 8, 13, 14, 23, 1, 19, 17, 2, 1, 8, 2, 1, 48, 22, 23, 18, 17, 7, 1, 18, 10, 13, 14, 17, 52, 31, 57, 13, 21, 17, 1, 43, 27, 29, 32, 20], '200630-175003_pcm_9fa_elicit_31': [42, 10, 4, 1, 4, 17, 2, 1, 19, 17, 8, 1, 19, 10, 26, 1, 14, 17, 17, 1, 6, 17, 14, 13, 14, 36, 1, 19, 17, 8, 1, 25, 10, 8, 17, 1, 12, 10, 1, 9, 22, 25, 21, 1, 23, 10, 1, 42, 22, 49, 22, 7, 17, 23, 18, 36, 1, 4, 18, 17, 7, 17, 1, 23, 18, 17, 16, 7, 1, 18, 10, 13, 14, 17, 1, 19, 17, 2, 20, 1, 6, 17, 14, 13, 14, 1, 25, 10, 26, 23, 16, 26, 13, 17, 1, 23, 10, 1, 10, 9, 17, 2, 1, 16, 8, 1, 3, 22, 3, 22, 1, 22, 26, 19, 1, 8, 22, 8, 22, 20], '200630-175003_pcm_9fa_elicit_32': [28, 1, 25, 10, 26, 23, 16, 26, 13, 17, 1, 23, 10, 1, 12, 7, 10, 4, 1, 22, 26, 19, 1, 17, 1, 25, 10, 8, 17, 1, 19, 17, 2, 1, 12, 17, 23, 1, 14, 17, 26, 14, 17, 1, 8, 10, 7, 17, 1, 8, 10, 7, 17, 20], '200630-175003_pcm_9fa_elicit_33': [28, 38, 17, 26, 1, 23, 18, 10, 13, 12, 18, 1, 14, 17, 2, 1, 17, 1, 14, 23, 16, 5, 5, 1, 19, 17, 2, 1, 2, 10, 13, 26, 12, 36, 1, 51, 10, 19, 1, 22, 26, 19, 1, 3, 17, 10, 3, 5, 17, 1, 19, 17, 2, 1, 18, 22, 3, 3, 2, 1, 4, 16, 23, 18, 1, 22, 8, 20], '200630-175003_pcm_9fa_elicit_34': [42, 22, 1, 14, 16, 26, 25, 17, 1, 4, 18, 17, 26, 1, 6, 17, 14, 13, 14, 1, 14, 8, 22, 5, 5, 1, 17, 1, 19, 10, 26, 1, 19, 17, 2, 1, 14, 18, 10, 4, 1, 12, 10, 10, 19, 1, 17, 45, 22, 8, 3, 5, 17, 20], '200630-175003_pcm_9fa_elicit_36': [6, 10, 18, 26, 1, 23, 18, 17, 1, 56, 22, 3, 23, 16, 14, 23, 1, 53, 7, 17, 3, 22, 7, 17, 1, 23, 18, 17, 1, 47, 10, 22, 19], '200630-175003_pcm_9fa_elicit_37': [6, 55, 54, 42, 1, 39, 28, 70, 1, 53, 47, 28, 40, 44, 54, 1, 40, 42, 39, 1, 28, 1, 39, 28, 70, 1, 56, 40, 53, 46, 34, 68, 28, 1, 53, 28, 55, 53, 57, 28], '200630-175003_pcm_9fa_elicit_38': [24, 40, 42, 70, 1, 53, 28, 55, 53, 57, 28, 1, 56, 40, 53, 46, 34, 68, 28, 36, 1, 56, 73, 46, 1, 42, 55, 1, 56, 28, 1, 28, 74, 28, 47, 70, 56, 55, 39, 70], '200630-175003_pcm_9fa_elicit_40': [42, 10, 4, 36, 1, 61, 60, 1, 2, 17, 22, 7, 14, 1, 19, 10, 26, 1, 3, 22, 14, 14, 20, 1, 46, 18, 16, 14, 1, 26, 22, 1, 43, 32, 1, 44, 20, 28, 20], '200630-175003_pcm_9fa_elicit_41': [24, 22, 26, 2, 1, 3, 17, 10, 3, 5, 17, 1, 19, 17, 2, 1, 23, 22, 5, 21, 1, 22, 9, 10, 13, 23, 1, 6, 10, 18, 26, 1, 4, 17, 2, 1, 9, 17, 1, 6, 17, 14, 13, 14, 1, 15, 22, 8, 16, 5, 2, 1, 3, 17, 7, 14, 10, 26, 20], '200630-175003_pcm_9fa_elicit_42': [6, 10, 18, 26, 1, 19, 17, 2, 1, 3, 7, 17, 22, 25, 18, 1, 15, 10, 7, 1, 23, 18, 17, 1, 4, 18, 10, 5, 17, 1, 22, 7, 17, 22, 1, 4, 17, 2, 1, 19, 17, 2, 1, 23, 18, 17, 1, 4, 17, 14, 23, 1, 14, 16, 19, 17, 1, 10, 15, 1, 47, 16, 38, 17, 7, 1, 6, 10, 7, 19, 22, 26, 20], '200630-175003_pcm_9fa_elicit_43': [56, 17, 25, 22, 13, 14, 17, 1, 10, 15, 1, 23, 18, 17, 1, 4, 22, 2, 1, 6, 10, 18, 26, 1, 19, 17, 2, 1, 23, 22, 5, 21, 1, 22, 26, 19, 1, 9, 17, 25, 22, 13, 14, 17, 1, 17, 1, 15, 16, 26, 17, 36, 1, 17, 1, 19, 17, 2, 1, 63, 13, 16, 25, 21, 1, 25, 22, 23, 25, 18, 1, 3, 17, 10, 3, 5, 17, 1, 17, 2, 17, 20], '200630-175003_pcm_9fa_elicit_44': [42, 22, 1, 25, 22, 8, 17, 5, 1, 18, 22, 16, 7, 1, 19, 17, 8, 1, 23, 22, 21, 17, 1, 8, 22, 21, 17, 1, 16, 8, 1, 25, 5, 10, 23, 18, 36, 1, 22, 26, 19, 1, 17, 1, 4, 17, 22, 7, 1, 5, 17, 22, 23, 18, 17, 7, 1, 9, 17, 5, 23, 1, 15, 10, 7, 1, 4, 22, 16, 14, 23, 20, 1, 42, 22, 1, 5, 10, 25, 13, 14, 23, 1, 33, 5, 10, 25, 13, 14, 23, 1, 26, 22, 1, 23, 2, 3, 17, 1, 10, 15, 1, 12, 7, 22, 14, 14, 18, 10, 3, 3, 17, 7, 30], '200630-175003_pcm_9fa_elicit_45': [22, 26, 19, 1, 9, 13, 14, 18, 1, 18, 10, 26, 17, 2, 1, 9, 17, 1, 16, 8, 1, 15, 10, 10, 19, 20, 1, 50, 17, 23, 16, 26, 1, 17, 1, 19, 17, 2, 1, 23, 17, 5, 5, 1, 3, 17, 10, 3, 5, 17, 52, 1, 37, 24, 22, 21, 17, 1, 13, 26, 22, 1, 7, 17, 3, 17, 26, 23, 36], '200630-175003_pcm_9fa_elicit_46': [9, 17, 25, 22, 13, 14, 17, 1, 23, 18, 17, 1, 58, 16, 26, 12, 19, 10, 8, 1, 4, 17, 2, 1, 19, 17, 2, 1, 18, 17, 22, 38, 17, 26, 1, 19, 10, 26, 1, 26, 17, 22, 7, 20, 31, 24, 22, 23, 23, 18, 17, 4, 1, 35, 27, 43, 20], '200630-175003_pcm_9fa_elicit_48': [24, 22, 26, 2, 1, 10, 15, 1, 19, 17, 8, 1, 14, 17, 17, 1, 14, 17, 2, 1, 19, 17, 8, 1, 26, 17, 17, 19, 1, 23, 10, 1, 7, 17, 3, 17, 26, 23, 20, 1, 39, 17, 8, 1, 14, 17, 17, 1, 14, 17, 2, 1, 19, 17, 8, 1, 7, 17, 22, 5, 5, 2, 1, 26, 17, 17, 19, 1, 23, 10, 1, 25, 18, 22, 26, 12, 17, 1, 23, 18, 17, 16, 7, 1, 25, 18, 22, 7, 22, 25, 23, 17, 7], '200630-175003_pcm_9fa_elicit_49': [22, 26, 19, 1, 18, 10, 4, 1, 19, 17, 8, 1, 19, 17, 2, 1, 5, 16, 38, 17, 1, 23, 18, 17, 16, 7, 1, 5, 16, 15, 17, 20, 1, 39, 17, 8, 1, 12, 7, 17, 17, 1, 14, 17, 2, 1, 23, 18, 17, 1, 23, 18, 16, 26, 12, 14, 1, 4, 17, 2, 1, 19, 17, 8, 1, 19, 17, 2, 1, 19, 10, 1, 9, 17, 15, 10, 7, 17, 1, 26, 10, 1, 12, 10, 10, 19, 20], '200630-175003_pcm_9fa_elicit_50': [46, 18, 17, 1, 3, 17, 10, 3, 5, 17, 1, 4, 17, 2, 1, 18, 17, 22, 7, 1, 6, 10, 18, 26, 1, 8, 17, 14, 14, 22, 12, 17, 1, 25, 10, 8, 17, 1, 15, 7, 10, 8, 1, 37, 6, 17, 7, 13, 14, 22, 5, 17, 8, 36, 1, 23, 18, 17, 1, 4, 18, 10, 5, 17, 1, 6, 13, 19, 17, 22, 36, 1, 22, 26, 19, 1, 22, 5, 5, 1, 23, 18, 17, 1, 25, 10, 13, 26, 23, 7, 2, 1, 4, 17, 2, 1, 26, 17, 22, 7, 1, 7, 16, 38, 17, 7, 1, 6, 10, 7, 19, 22, 26, 20], '200630-175003_pcm_9fa_elicit_52': [17, 1, 19, 17, 17, 3, 1, 19, 17, 8, 1, 16, 26, 14, 16, 19, 17, 1, 23, 18, 17, 1, 4, 22, 23, 17, 7, 1, 15, 10, 7, 1, 7, 16, 38, 17, 7, 1, 6, 10, 7, 19, 22, 26, 1, 22, 26, 19, 1, 9, 7, 16, 26, 12, 1, 19, 17, 8, 1, 25, 10, 8, 17, 1, 10, 13, 23, 20, 1, 50, 18, 2, 52], '200630-213236_pcm_9fa_elicit_0': [50, 18, 2, 1, 17, 1, 12, 10, 10, 19, 1, 14, 17, 2, 1, 6, 17, 14, 13, 14, 1, 9, 22, 3, 23, 16, 49, 17, 52, 1, 6, 17, 14, 13, 14, 1, 26, 10, 1, 9, 22, 3, 23, 16, 49, 17, 1, 23, 10, 1, 14, 18, 10, 4, 1, 14, 17, 2, 1, 17, 1, 19, 10, 26, 1, 7, 17, 3, 17, 26, 23, 1, 15, 7, 10, 8, 1, 16, 8, 1, 14, 16, 26, 36], '200630-213236_pcm_9fa_elicit_1': [9, 13, 23, 1, 17, 1, 9, 22, 3, 23, 16, 49, 17, 1, 23, 10, 1, 14, 18, 10, 4, 1, 14, 17, 2, 1, 17, 1, 19, 10, 26, 1, 12, 16, 38, 17, 1, 16, 8, 14, 17, 5, 15, 1, 23, 10, 1, 16, 8, 1, 48, 22, 23, 18, 17, 7, 20], '200630-213236_pcm_9fa_elicit_3': [9, 13, 23, 1, 26, 10, 4, 1, 17, 1, 4, 22, 26, 23, 1, 14, 23, 22, 7, 23, 1, 23, 10, 1, 19, 10, 1, 23, 18, 17, 1, 4, 10, 7, 21, 1, 4, 17, 2, 1, 16, 8, 1, 48, 22, 23, 18, 17, 7, 1, 14, 17, 26, 19, 1, 22, 8, 1, 25, 10, 8, 17, 1, 19, 10, 23, 18, 17, 1, 3, 7, 17, 22, 25, 18, 16, 26, 12, 1, 4, 10, 7, 21, 20], '200630-213236_pcm_9fa_elicit_4': [70, 10, 13, 1, 23, 18, 16, 26, 21, 1, 14, 17, 2, 1, 6, 10, 18, 26, 1, 19, 17, 2, 1, 17, 45, 3, 17, 25, 23, 1, 14, 17, 2, 1, 14, 10, 8, 17, 23, 18, 16, 26, 12, 1, 12, 10, 1, 18, 22, 3, 3, 17, 26, 1, 4, 18, 17, 26, 1, 6, 17, 14, 13, 14, 1, 19, 10, 26, 1, 9, 22, 3, 23, 16, 49, 17, 52], '200630-213236_pcm_9fa_elicit_5': [11, 17, 17, 1, 4, 17, 23, 16, 26, 1, 6, 10, 18, 26, 1, 23, 22, 5, 21, 1, 5, 22, 23, 17, 7, 36, 1, 17, 1, 14, 17, 2, 27, 1, 37, 46, 18, 17, 1, 53, 17, 7, 14, 10, 26, 1, 4, 17, 2, 1, 14, 17, 26, 19, 1, 8, 17, 1, 25, 10, 8, 17, 1, 9, 22, 3, 23, 16, 49, 17, 1, 3, 17, 10, 3, 5, 17, 1, 4, 16, 23, 18, 1, 4, 22, 23, 17, 7, 1, 23, 17, 5, 5, 1, 8, 17, 1, 14, 17, 2, 27], '200630-213236_pcm_9fa_elicit_6': [71, 40, 26, 2, 9, 10, 19, 2, 1, 4, 17, 2, 1, 2, 10, 13, 1, 14, 17, 17, 1, 14, 17, 2, 1, 23, 18, 17, 1, 14, 3, 16, 7, 16, 23, 1, 19, 17, 2, 1, 25, 10, 8, 17, 1, 10, 26, 23, 10, 3, 1, 22, 8, 1, 22, 26, 19, 1, 14, 23, 22, 2, 1, 10, 26, 23, 10, 3, 1, 22, 8, 36, 1, 26, 22, 1, 23, 18, 22, 23, 1, 10, 26, 17, 1, 19, 17, 2, 1, 9, 22, 3, 23, 16, 49, 17, 1, 4, 16, 23, 18, 1, 18, 10, 5, 2, 1, 14, 3, 16, 7, 16, 23, 20], '200630-213236_pcm_9fa_elicit_8': [11, 10, 1, 17, 1, 26, 10, 1, 14, 13, 7, 3, 7, 16, 14, 17, 1, 6, 10, 18, 26, 1, 23, 10, 1, 14, 17, 17, 1, 14, 17, 2, 1, 18, 10, 5, 2, 1, 14, 3, 16, 7, 16, 23, 1, 25, 10, 8, 17, 1, 10, 26, 23, 10, 3, 1, 6, 17, 14, 13, 14, 1, 5, 16, 21, 17, 1, 19, 10, 38, 17, 20, 24, 22, 23, 23, 18, 17, 4, 1, 35, 27, 61, 69, 20], '200630-213236_pcm_9fa_elicit_9': [54, 10, 5, 2, 1, 14, 3, 16, 7, 16, 23, 1, 19, 17, 2, 1, 25, 10, 8, 17, 1, 10, 26, 23, 10, 3, 1, 6, 17, 14, 13, 14, 1, 4, 18, 17, 26, 1, 17, 1, 9, 22, 3, 23, 16, 49, 17], '200630-213236_pcm_9fa_elicit_10': [56, 13, 23, 1, 26, 10, 1, 9, 17, 1, 10, 26, 5, 2, 1, 23, 18, 22, 23, 1, 10, 26, 17, 1, 18, 22, 3, 3, 17, 26, 1, 4, 18, 17, 26, 1, 6, 17, 14, 13, 14, 1, 9, 22, 3, 23, 16, 49, 17, 20], '200630-213236_pcm_9fa_elicit_11': [56, 16, 9, 5, 17, 1, 23, 22, 5, 21, 1, 14, 17, 2, 1, 18, 17, 22, 38, 17, 26, 1, 10, 3, 17, 26, 1, 15, 10, 7, 1, 22, 8, 20, 1, 50, 17, 23, 16, 26, 1, 23, 18, 16, 14, 1, 10, 26, 17, 1, 8, 17, 22, 26, 52, 1, 28, 1, 15, 16, 23, 1, 8, 17, 22, 26, 1, 14, 17, 2, 1, 4, 18, 17, 26, 1, 6, 17, 14, 13, 14], '200630-213236_pcm_9fa_elicit_12': [9, 22, 3, 23, 16, 49, 17, 36, 1, 17, 1, 25, 10, 8, 17, 1, 14, 23, 22, 7, 23, 1, 23, 10, 1, 7, 17, 8, 17, 8, 9, 17, 7, 1, 22, 5, 5, 1, 23, 18, 17, 1, 23, 18, 16, 26, 12, 14, 1, 4, 17, 2, 1, 17, 1, 21, 26, 10, 4, 1, 4, 18, 17, 26, 1, 17, 1, 19, 17, 2, 1, 18, 17, 22, 38, 17, 26, 20], '200630-213236_pcm_9fa_elicit_13': [50, 18, 17, 26, 1, 6, 17, 14, 13, 14, 1, 9, 22, 3, 23, 16, 49, 17, 36, 1, 22, 26, 10, 23, 18, 17, 7, 1, 23, 18, 16, 26, 12, 1, 4, 17, 2, 1, 18, 22, 3, 3, 17, 26, 1, 9, 17, 1, 14, 17, 2, 1, 10, 26, 17, 1, 38, 10, 16, 25, 17, 1, 23, 22, 5, 21, 1, 15, 7, 10, 8, 1, 18, 17, 22, 38, 17, 26, 1, 14, 17, 2, 27], '200630-213236_pcm_9fa_elicit_14': [37, 42, 22, 1, 8, 2, 1, 11, 10, 26, 1, 9, 17, 1, 23, 18, 16, 14, 36, 1, 4, 17, 2, 1, 34, 1, 25, 18, 10, 10, 14, 17, 20, 1, 34, 1, 5, 16, 21, 17, 1, 22, 8, 1, 4, 17, 5, 5, 1, 4, 17, 5, 5, 20, 31, 1, 33, 24, 22, 23, 23, 18, 17, 4, 1, 35, 27, 61, 60, 30, 1, 50, 18, 10, 1, 12, 17, 23, 1, 23, 18, 22, 23, 1, 38, 10, 16, 25, 17, 52], '200630-213236_pcm_9fa_elicit_15': [28, 1, 26, 10, 1, 15, 16, 23, 1, 9, 17, 1, 6, 17, 14, 13, 14, 1, 38, 10, 16, 25, 17, 1, 9, 17, 25, 22, 13, 14, 17, 1, 17, 1, 19, 17, 2, 1, 4, 16, 23, 18, 1, 6, 10, 18, 26, 1, 15, 10, 7, 1, 23, 18, 17, 7, 17, 20, 1, 46, 18, 17, 1, 38, 10, 16, 25, 17, 1, 26, 22, 1, 51, 10, 19, 1, 10, 4, 26, 20], '200630-213236_pcm_9fa_elicit_16': [28, 1, 25, 5, 17, 22, 7, 1, 14, 17, 2, 1, 6, 17, 14, 13, 14, 1, 26, 22, 1, 51, 10, 19, 1, 11, 10, 26, 20, 1, 34, 8, 1, 22, 26, 19, 1, 51, 10, 19, 1, 26, 10, 1, 9, 17, 1, 23, 18, 17, 1, 14, 22, 8, 17, 20], '200630-213236_pcm_9fa_elicit_18': [40, 15, 23, 17, 7, 1, 57, 13, 21, 17, 1, 19, 10, 26, 1, 23, 22, 5, 21, 1, 22, 9, 10, 13, 23, 1, 6, 17, 14, 13, 14, 1, 9, 22, 3, 23, 16, 14, 8, 1, 15, 16, 26, 16, 14, 18, 36, 1, 17, 1, 23, 22, 5, 21, 1, 14, 17, 2, 27], '200630-213236_pcm_9fa_elicit_19': [37, 50, 18, 17, 26, 1, 6, 17, 14, 13, 14, 1, 14, 23, 22, 7, 23, 1, 16, 8, 1, 3, 7, 17, 22, 25, 18, 16, 26, 12, 1, 4, 10, 7, 21, 36, 1, 17, 1, 19, 17, 2, 1, 22, 7, 10, 13, 26, 19, 1, 35, 66, 1, 2, 17, 22, 7, 14, 20, 1, 40, 14, 1, 3, 17, 10, 3, 5, 17, 1, 23, 18, 16, 26, 21, 36], '200630-213236_pcm_9fa_elicit_21': [42, 10, 22, 18, 1, 3, 16, 21, 16, 26, 36, 1, 40, 19, 22, 8, 1, 3, 16, 21, 16, 26, 36, 1, 51, 10, 19, 1, 3, 16, 21, 16, 26, 20, 31, 57, 13, 21, 17, 1, 35, 27, 43, 35, 62, 35, 64, 20], '200630-213236_pcm_9fa_elicit_22': [42, 22, 1, 23, 7, 13, 17, 1, 14, 17, 2, 1, 6, 17, 14, 13, 14, 1, 26, 22, 1, 51, 10, 19, 1, 11, 10, 26, 1, 41, 13, 14, 23, 1, 5, 16, 21, 17, 1, 40, 19, 22, 8, 36, 1, 9, 13, 23, 1, 4, 18, 17, 26, 1, 17, 1, 9, 22, 3, 23, 16, 49, 17, 36], '200630-213236_pcm_9fa_elicit_23': [17, 1, 25, 10, 8, 17, 1, 19, 17, 2, 1, 25, 5, 17, 22, 7, 1, 23, 10, 1, 22, 8, 1, 14, 17, 2, 1, 16, 8, 1, 26, 22, 1, 51, 10, 19, 1, 11, 10, 26, 1, 22, 26, 19, 1, 14, 17, 2, 1, 17, 1, 12, 10, 1, 5, 22, 23, 17, 7, 1, 9, 17, 1, 14, 3, 16, 7, 16, 23, 1, 15, 10, 7, 1, 18, 17, 22, 38, 17, 26, 20], '200630-213236_pcm_9fa_elicit_24': [11, 10, 1, 26, 22, 1, 6, 17, 14, 13, 14, 1, 9, 17, 1, 23, 18, 17, 1, 25, 10, 7, 7, 17, 25, 23, 1, 3, 17, 7, 14, 10, 26, 1, 4, 17, 2, 1, 15, 16, 23, 1, 23, 17, 22, 25, 18, 1, 3, 17, 10, 3, 5, 17, 1, 23, 18, 17, 1, 23, 7, 13, 23, 18, 1, 15, 7, 10, 8, 1, 51, 10, 19, 36], '200630-213236_pcm_9fa_elicit_25': [22, 26, 19, 1, 14, 18, 10, 4, 1, 19, 17, 8, 1, 18, 10, 4, 1, 23, 10, 1, 12, 17, 23, 1, 5, 16, 15, 17, 1, 4, 17, 2, 1, 26, 10, 1, 12, 10, 1, 17, 26, 19, 20, 1, 46, 18, 16, 14, 1, 7, 10, 22, 19, 1, 4, 17, 2], '200630-213236_pcm_9fa_elicit_27': [40, 15, 23, 17, 7, 1, 6, 10, 18, 26, 1, 19, 10, 26, 1, 9, 22, 3, 23, 16, 49, 17, 1, 6, 17, 14, 13, 14, 36, 1, 18, 10, 5, 2, 1, 14, 3, 16, 7, 16, 23, 1, 25, 10, 8, 17, 1, 5, 17, 22, 19, 1, 6, 17, 14, 13, 14, 1, 12, 10, 1, 16, 26, 14, 16, 19, 17, 1, 23, 18, 17, 1, 4, 16, 5, 19, 17, 7, 26, 17, 14, 14, 1, 4, 17, 2, 1, 19, 17, 2, 1, 6, 13, 19, 17, 22, 20], '200630-213236_pcm_9fa_elicit_28': [24, 22, 26, 2, 1, 23, 18, 16, 26, 12, 14, 1, 41, 13, 14, 23, 1, 19, 17, 2, 1, 25, 10, 8, 17, 1, 6, 17, 14, 13, 14, 1, 8, 16, 26, 19, 20, 1, 50, 18, 17, 26, 1, 17, 1, 9, 22, 3, 23, 16, 49, 17, 36], '200630-213236_pcm_9fa_elicit_29': [37, 18, 17, 22, 38, 17, 26, 1, 10, 3, 17, 26, 20, 31, 1, 33, 24, 22, 23, 23, 18, 17, 4, 1, 35, 27, 61, 69, 30, 1, 28, 1, 8, 17, 22, 26, 1, 14, 17, 2, 1, 26, 10, 4, 36, 1, 6, 17, 14, 13, 14, 1, 12, 10, 1, 15, 16, 23, 1, 7, 17, 8, 17, 8, 9, 17, 7, 1, 23, 18, 17, 1, 23, 18, 16, 26, 12, 14, 1, 4, 17, 2, 1, 17, 1, 19, 10, 26, 1, 5, 17, 22, 7, 26], '200630-213236_pcm_9fa_elicit_30': [22, 26, 19, 1, 23, 18, 17, 1, 23, 18, 16, 26, 12, 14, 1, 4, 17, 2, 1, 17, 1, 19, 10, 1, 4, 18, 17, 26, 1, 17, 1, 19, 17, 2, 1, 18, 17, 22, 38, 17, 26, 20, 1, 24, 22, 26, 2, 1, 23, 18, 16, 26, 12, 14, 1, 7, 17, 22, 5, 5, 2, 1, 19, 17, 2, 1, 15, 10, 7, 1, 22, 8, 1, 23, 10, 1, 23, 18, 16, 26, 21, 1, 22, 9, 10, 13, 23, 20], '200630-213236_pcm_9fa_elicit_31': [6, 17, 14, 13, 14, 1, 14, 23, 22, 2, 1, 16, 26, 14, 16, 19, 17, 1, 23, 18, 22, 23, 1, 4, 16, 5, 19, 17, 7, 26, 17, 14, 14, 1, 15, 10, 7, 1, 29, 66, 1, 19, 22, 2, 14, 1, 22, 26, 19, 1, 29, 66, 1, 26, 16, 12, 18, 23, 14, 20, 1, 40, 26, 19, 1, 17, 1, 26, 10, 1, 25, 18, 10, 3, 1, 22, 26, 2, 1, 15, 10, 10, 19, 20], '200630-213236_pcm_9fa_elicit_33': [37, 34, 15, 1, 2, 10, 13, 1, 9, 17, 1, 51, 10, 19, 1, 14, 10, 26, 36, 1, 23, 17, 5, 5, 1, 23, 18, 16, 14, 1, 14, 23, 10, 26, 17, 14, 1, 8, 22, 21, 17, 1, 19, 17, 8, 1, 23, 13, 7, 26, 1, 23, 10, 1, 9, 7, 17, 22, 19, 20], '200630-213236_pcm_9fa_elicit_34': [31, 1, 33, 24, 22, 23, 23, 18, 17, 4, 1, 29, 27, 35, 30, 1, 6, 17, 14, 13, 14, 1, 26, 10, 1, 12, 7, 17, 17, 1, 19, 10, 1, 4, 17, 23, 16, 26, 1, 11, 22, 23, 22, 26, 1, 23, 17, 5, 5, 1, 22, 8, 36], '200630-213236_pcm_9fa_elicit_35': [9, 17, 25, 22, 13, 14, 17, 1, 17, 1, 21, 26, 10, 4, 1, 14, 17, 2, 1, 17, 1, 26, 10, 1, 12, 10, 10, 19, 1, 23, 10, 1, 19, 17, 2, 1, 13, 14, 17, 1, 16, 8, 1, 3, 10, 4, 17, 7, 1, 18, 17, 5, 3, 1, 16, 8, 14, 17, 5, 15, 1, 5, 16, 21, 17, 1, 23, 18, 22, 23, 20], '200630-213236_pcm_9fa_elicit_36': [11, 22, 23, 22, 26, 1, 26, 10, 1, 14, 23, 10, 3, 1, 15, 10, 7, 1, 23, 18, 17, 7, 17, 20, 1, 28, 1, 23, 7, 2, 1, 22, 26, 10, 23, 18, 17, 7, 1, 14, 23, 2, 5, 17, 20, 1, 28, 1, 25, 22, 7, 7, 2, 1, 6, 17, 14, 13, 14, 1, 12, 10, 1, 13, 3, 1, 13, 3, 36, 1, 15, 10, 7, 1, 10, 26, 23, 10, 3, 1, 23, 17, 8, 3, 5, 17, 20], '200630-213236_pcm_9fa_elicit_37': [28, 1, 25, 10, 8, 17, 1, 23, 17, 5, 5, 1, 22, 8, 1, 14, 17, 2, 1, 8, 22, 21, 17, 1, 17, 1, 41, 13, 8, 3, 1, 25, 10, 8, 17, 1, 19, 10, 4, 26, 20, 1, 56, 13, 23, 1, 6, 17, 14, 13, 14, 1, 26, 10, 1, 12, 7, 17, 17, 1, 19, 10, 1, 23, 18, 22, 23, 1, 21, 16, 26, 19, 1, 23, 18, 16, 26, 12, 36], '200630-213236_pcm_9fa_elicit_38': [23, 10, 1, 14, 18, 10, 4, 1, 3, 17, 10, 3, 5, 17, 1, 23, 18, 17, 1, 21, 16, 26, 19, 1, 3, 10, 4, 17, 7, 1, 4, 17, 2, 1, 17, 1, 12, 17, 23, 20], '200630-213236_pcm_9fa_elicit_39': [28, 1, 23, 17, 5, 5, 1, 11, 22, 23, 22, 26, 1, 4, 17, 23, 16, 26, 1, 51, 10, 19, 1, 50, 10, 7, 19, 1, 23, 22, 5, 21, 36, 1, 14, 17, 2, 1, 26, 22, 1, 9, 22, 19, 1, 23, 18, 16, 26, 12, 1, 23, 10, 1, 23, 17, 14, 23, 1, 6, 17, 18, 10, 38, 22, 18, 1, 5, 16, 21, 17, 1, 23, 18, 22, 23, 20], '200630-213236_pcm_9fa_elicit_40': [11, 22, 23, 22, 26, 1, 25, 10, 8, 17, 1, 9, 22, 25, 21, 1, 22, 12, 22, 16, 26, 1, 23, 18, 17, 1, 23, 18, 16, 7, 19, 1, 23, 16, 8, 17, 20], '200630-213236_pcm_9fa_elicit_42': [31, 1, 28, 1, 25, 10, 8, 17, 1, 23, 17, 5, 5, 1, 22, 8, 1, 14, 17, 2, 27, 1, 37, 42, 22, 1, 2, 10, 13, 1, 34, 1, 12, 10, 1, 12, 16, 38, 17, 1, 22, 5, 5, 1, 23, 18, 16, 14, 1, 23, 18, 16, 26, 12, 14, 36, 1, 16, 15, 1, 2, 10, 13, 1, 9, 10, 4, 1, 19, 10, 4, 26, 1, 22, 26, 19, 1, 14, 18, 10, 4, 1, 14, 17, 2, 1, 2, 10, 13, 1, 14, 17, 7, 38, 17, 1, 8, 17, 20], '200630-213236_pcm_9fa_elicit_43': [31, 1, 6, 17, 14, 13, 14, 1, 26, 10, 1, 14, 23, 16, 5, 5, 1, 12, 7, 17, 17, 1, 15, 10, 7, 1, 11, 22, 23, 22, 26, 20, 1, 28, 1, 23, 17, 5, 5, 1, 22, 8, 1, 14, 17, 2, 27, 1, 37, 44, 10, 8, 10, 23, 1, 15, 10, 7, 1, 18, 17, 7, 17, 36, 1, 11, 22, 23, 22, 26, 67], '200630-213236_pcm_9fa_elicit_44': [33, 24, 22, 23, 23, 18, 17, 4, 1, 29, 27, 64, 62, 61, 66, 30, 1, 6, 17, 14, 13, 14, 1, 21, 26, 10, 4, 1, 14, 17, 2, 1, 26, 22, 1, 10, 26, 5, 2, 1, 6, 17, 18, 10, 38, 22, 18, 1, 4, 17, 1, 14, 13, 3, 3, 10, 14, 17, 1, 14, 17, 7, 38, 17, 20], '200630-213236_pcm_9fa_elicit_45': [42, 22, 1, 16, 8, 1, 8, 22, 21, 17, 1, 17, 1, 26, 10, 1, 12, 7, 17, 17, 1, 19, 10, 1, 4, 17, 23, 16, 26, 1, 11, 22, 23, 22, 26, 1, 23, 17, 5, 5, 1, 22, 8, 20, 1, 28, 1, 25, 5, 17, 22, 7, 1, 14, 17, 2, 1, 6, 17, 14, 13, 14, 1, 26, 10, 1, 17, 38, 17, 7, 1, 25, 10, 8, 10, 23, 1, 15, 10, 7, 1, 6, 17, 18, 10, 38, 22, 18, 1, 14, 16, 19, 17, 20], '200630-213236_pcm_9fa_elicit_46': [50, 17, 1, 15, 16, 23, 1, 5, 17, 22, 7, 26, 1, 8, 22, 26, 2, 1, 23, 18, 16, 26, 12, 14, 1, 15, 7, 10, 8, 1, 22, 5, 5, 1, 23, 18, 16, 14, 1, 23, 17, 8, 3, 23, 22, 23, 16, 10, 26, 1, 22, 26, 19, 1, 23, 18, 17, 1, 4, 22, 2, 1, 6, 17, 14, 13, 14, 1, 22, 26, 14, 4, 17, 7, 1, 11, 22, 23, 22, 26, 20], '200630-213236_pcm_9fa_elicit_47': [40, 5, 5, 1, 23, 18, 16, 14, 1, 23, 17, 8, 3, 23, 22, 23, 16, 10, 26, 1, 19, 17, 2, 1, 7, 17, 22, 5, 36, 1, 23, 18, 16, 14, 1, 10, 26, 17, 1, 14, 18, 10, 4, 1, 14, 17, 2, 1, 11, 22, 23, 22, 26, 1, 23, 18, 17, 1, 39, 17, 38, 16, 5, 1, 26, 10, 1, 9, 17, 1, 23, 18, 17, 1, 9, 22, 19, 1, 23, 18, 16, 26, 12, 1, 4, 17, 2, 1, 19, 17, 2, 1, 3, 17, 10, 3, 5, 17, 1, 8, 16, 26, 19, 36], '200630-213236_pcm_9fa_elicit_48': [22, 14, 1, 14, 10, 8, 17, 1, 3, 17, 10, 3, 5, 17, 1, 19, 17, 2, 1, 23, 22, 5, 21, 20, 1, 11, 22, 23, 22, 26, 1, 19, 17, 2, 1, 7, 17, 22, 5, 36, 1, 9, 13, 23, 1, 26, 22, 1, 14, 3, 16, 7, 16, 23, 20], '200630-213236_pcm_9fa_elicit_49': [46, 18, 16, 14, 1, 14, 23, 10, 7, 2, 1, 19, 10, 26, 1, 14, 18, 10, 4, 1, 13, 14, 1, 14, 17, 2, 1, 22, 5, 5, 1, 23, 18, 17, 1, 12, 10, 38, 17, 7, 26, 8, 17, 26, 23, 1, 4, 17, 2, 1, 19, 17, 2, 1, 23, 18, 16, 14, 1, 4, 10, 7, 5, 19, 1, 26, 22, 1, 16, 8, 1, 10, 4, 26, 36], '200630-213236_pcm_9fa_elicit_50': [22, 26, 19, 1, 26, 22, 1, 16, 8, 1, 19, 17, 2, 1, 25, 10, 26, 23, 7, 10, 5, 1, 22, 8, 20, 1, 42, 22, 1, 16, 8, 1, 8, 22, 21, 17, 1, 17, 1, 15, 16, 23, 1, 13, 14, 17, 1, 22, 8, 1, 23, 17, 8, 3, 23, 1, 6, 17, 14, 13, 14, 20], '200630-210955_pcm_9fa_elicit_0': [6, 17, 4, 14, 1, 4, 17, 2, 1, 19, 10, 26, 1, 7, 17, 3, 17, 26, 23, 1, 25, 10, 8, 17, 1, 8, 17, 17, 23, 1, 6, 10, 18, 26, 1, 8, 22, 21, 17, 1, 17, 1, 9, 22, 3, 23, 16, 49, 17, 1, 19, 17, 8], '200630-210955_pcm_9fa_elicit_1': [46, 18, 17, 1, 9, 22, 3, 23, 16, 14, 8, 1, 26, 22, 1, 23, 10, 1, 14, 18, 10, 4, 1, 14, 17, 2, 1, 19, 17, 8, 1, 19, 10, 26, 1, 7, 17, 3, 17, 26, 23, 20, 1, 33, 40, 25, 23, 14, 1, 61, 32, 27, 29, 30, 1, 56, 13, 23, 1, 26, 10, 1, 9, 17, 1, 17, 38, 17, 7, 2, 9, 10, 19, 2, 1, 6, 10, 18, 26, 1, 12, 7, 17, 17, 1, 9, 22, 3, 23, 16, 49, 17, 20], '200630-210955_pcm_9fa_elicit_2': [50, 18, 17, 26, 1, 14, 10, 8, 17, 1, 53, 18, 22, 7, 16, 14, 17, 17, 1, 22, 26, 19, 1, 11, 22, 19, 19, 13, 25, 17, 17, 1, 3, 17, 10, 3, 5, 17, 1, 25, 10, 8, 17, 1, 8, 17, 17, 23, 1, 22, 8, 36, 1, 6, 10, 18, 26, 1, 25, 22, 5, 5, 1, 19, 17, 8, 1, 37, 25, 18, 16, 5, 19, 7, 17, 26, 1, 10, 15, 1, 38, 16, 3, 17, 7, 20], '200630-210955_pcm_9fa_elicit_3': [31, 1, 28, 1, 23, 17, 5, 5, 1, 19, 17, 8, 1, 14, 17, 2, 27, 1, 37, 24, 22, 21, 17, 1, 13, 26, 22, 1, 19, 10, 1, 4, 17, 23, 16, 26, 1, 12, 10, 1, 7, 17, 22, 5, 5, 2, 1, 14, 18, 10, 4, 1, 14, 17, 2, 1, 13, 26, 22, 1, 19, 10, 26, 1, 7, 17, 3, 17, 26, 23, 20, 1, 24, 22, 21, 17, 1, 13, 26, 22, 1, 26, 10, 1, 9, 17, 12, 16, 26, 1, 23, 17, 5, 5, 1, 13, 26, 22, 14, 17, 5, 15, 1, 14, 17, 2, 36], '200630-210955_pcm_9fa_elicit_4': [71, 42, 22, 1, 40, 9, 7, 22, 18, 22, 8, 1, 9, 17, 1, 10, 13, 7, 1, 3, 22, 3, 22, 20, 72, 1, 34, 1, 4, 22, 26, 23, 1, 8, 22, 21, 17, 1, 13, 26, 22, 1, 21, 26, 10, 4, 1, 14, 17, 2, 1, 51, 10, 19, 1, 15, 16, 23, 1, 9, 7, 16, 26, 12, 1, 25, 18, 16, 5, 19, 7, 17, 26, 1, 15, 10, 7, 1, 40, 9, 7, 22, 18, 22, 8, 1, 15, 7, 10, 8, 1, 23, 18, 16, 14, 1, 14, 23, 10, 26, 17, 14, 20], '200630-210955_pcm_9fa_elicit_5': [46, 18, 17, 1, 22, 45, 1, 19, 10, 26, 1, 22, 5, 7, 17, 22, 19, 2, 1, 19, 17, 2, 1, 23, 18, 17, 1, 9, 10, 23, 23, 10, 8, 1, 10, 15, 1, 23, 18, 17, 1, 23, 7, 17, 17, 14, 20, 1, 40, 26, 2, 1, 23, 7, 17, 17, 1, 4, 17, 2, 1, 26, 10, 1, 19, 17, 2, 1, 3, 7, 10, 19, 13, 25, 17, 1, 9, 17, 23, 23, 17, 7, 1, 15, 7, 13, 16, 23, 36], '200630-210955_pcm_9fa_elicit_6': [19, 17, 8, 1, 12, 10, 1, 25, 13, 23, 1, 22, 8, 1, 19, 10, 4, 26, 1, 22, 26, 19, 1, 23, 18, 7, 10, 4, 1, 22, 8, 1, 15, 10, 7, 1, 15, 16, 7, 17, 20, 31, 24, 22, 23, 23, 18, 17, 4, 1, 35, 27, 60, 62, 61, 66, 20], '200630-210955_pcm_9fa_elicit_7': [46, 18, 17, 1, 8, 17, 14, 14, 22, 12, 17, 1, 4, 17, 2, 1, 6, 10, 18, 26, 1, 19, 17, 2, 1, 3, 7, 17, 22, 25, 18, 1, 26, 22, 1, 14, 23, 7, 10, 26, 12, 1, 8, 17, 14, 14, 22, 12, 17, 20, 1, 53, 5, 17, 26, 23, 2, 1, 3, 17, 10, 3, 5, 17, 1, 19, 10, 26, 1, 19, 17, 2, 1, 18, 17, 22, 7, 1, 23, 18, 17, 1, 8, 17, 14, 14, 22, 12, 17, 20], '200630-210955_pcm_9fa_elicit_8': [40, 26, 19, 1, 8, 22, 26, 2, 1, 10, 15, 1, 19, 17, 8, 1, 19, 17, 2, 1, 9, 22, 3, 23, 16, 49, 17, 20, 1, 11, 10, 36, 1, 6, 17, 4, 1, 3, 17, 10, 3, 5, 17, 1, 25, 10, 8, 17, 1, 14, 17, 26, 19, 1, 3, 7, 16, 17, 14, 23, 14, 1, 22, 26, 19, 1, 57, 17, 38, 16, 23, 17, 14, 1, 8, 22, 21, 17, 1, 19, 17, 8, 1, 22, 14, 21, 1, 6, 10, 18, 26, 1, 14, 17, 2, 27, 1, 37, 50, 18, 10, 1, 2, 10, 13, 1, 9, 17, 52, 31], '200630-210955_pcm_9fa_elicit_9': [6, 10, 18, 26, 1, 23, 17, 5, 5, 1, 19, 17, 8, 1, 14, 17, 2, 27, 1, 37, 34, 1, 26, 10, 1, 9, 17, 1, 23, 18, 17, 1, 44, 18, 7, 16, 14, 23, 20, 31], '200630-210955_pcm_9fa_elicit_10': [39, 17, 8, 1, 14, 23, 16, 5, 5, 1, 22, 14, 21, 1, 22, 8, 1, 14, 17, 2, 36, 1, 37, 50, 18, 10, 1, 2, 10, 13, 1, 25, 10, 8, 17, 1, 9, 17, 52, 1, 42, 22, 1, 2, 10, 13, 1, 9, 17, 1, 28, 5, 16, 41, 22, 18, 52, 31], '200630-210955_pcm_9fa_elicit_11': [28, 1, 14, 17, 2, 36, 1, 37, 34, 1, 26, 10, 1, 9, 17, 1, 28, 5, 16, 41, 22, 18, 20, 31], '200630-210955_pcm_9fa_elicit_12': [39, 17, 8, 1, 22, 14, 21, 1, 22, 8, 1, 22, 12, 22, 16, 26, 36, 1, 37, 42, 22, 1, 2, 10, 13, 1, 9, 17, 1, 46, 18, 17, 1, 53, 7, 10, 3, 18, 17, 23, 52, 31], '200630-210955_pcm_9fa_elicit_13': [46, 18, 17, 1, 53, 7, 10, 3, 18, 17, 23, 1, 4, 17, 2, 1, 19, 17, 8, 1, 19, 17, 2, 1, 23, 22, 5, 21, 1, 22, 9, 10, 13, 23, 1, 26, 22, 1, 23, 18, 17, 1, 12, 7, 17, 22, 23, 1, 53, 7, 10, 3, 18, 17, 23, 1, 4, 17, 2, 1, 24, 10, 14, 17, 14, 1, 19, 10, 26, 1, 23, 22, 5, 21, 1, 14, 17, 2, 1, 12, 10, 1, 25, 10, 8, 17, 20, 39, 17, 13, 23, 17, 7, 10, 26, 10, 8, 2, 1, 61, 64, 27, 61, 65, 36, 1, 61, 64, 20], '200630-210955_pcm_9fa_elicit_14': [6, 10, 18, 26, 1, 23, 17, 5, 5, 1, 19, 17, 8, 1, 14, 17, 2, 36, 1, 37, 42, 10, 67, 31], '200630-210955_pcm_9fa_elicit_15': [39, 17, 8, 1, 26, 10, 1, 14, 23, 16, 5, 5, 1, 5, 17, 22, 38, 17, 1, 6, 10, 18, 26, 1, 10, 36, 1, 19, 17, 8, 1, 14, 23, 16, 5, 5, 1, 22, 14, 21, 1, 22, 8, 1, 22, 12, 22, 16, 26, 27], '200630-210955_pcm_9fa_elicit_16': [37, 50, 18, 10, 1, 2, 10, 13, 1, 9, 17, 52, 1, 46, 17, 5, 5, 1, 13, 14, 1, 14, 10, 1, 23, 18, 22, 23, 1, 4, 17, 1, 12, 10, 1, 15, 16, 23, 1, 22, 26, 14, 4, 17, 7, 1, 23, 18, 17, 1, 3, 17, 10, 3, 5, 17, 1, 4, 17, 2, 1, 14, 17, 26, 19, 1, 13, 14, 1, 25, 10, 8, 17, 20], '200630-210955_pcm_9fa_elicit_17': [50, 17, 23, 16, 26, 1, 2, 10, 13, 1, 23, 22, 5, 21, 1, 22, 9, 10, 13, 23, 1, 2, 10, 13, 7, 14, 17, 5, 15, 52, 31, 1, 6, 10, 18, 26, 1, 25, 10, 8, 17, 1, 23, 17, 5, 5, 1, 19, 17, 8, 1, 14, 17, 2, 27], '200630-210955_pcm_9fa_elicit_19': [71, 24, 22, 21, 17, 1, 6, 17, 18, 10, 38, 22, 18, 1, 7, 10, 22, 19, 1, 14, 23, 7, 22, 16, 12, 18, 23, 36, 72, 1, 41, 13, 14, 23, 1, 22, 14, 1, 3, 7, 10, 3, 18, 17, 23, 1, 34, 14, 22, 16, 22, 18, 1, 23, 22, 5, 21, 1, 9, 17, 15, 10, 7, 17, 20, 31, 6, 10, 18, 26, 1, 61, 27, 61, 32, 62, 43, 35, 20], '200630-210955_pcm_9fa_elicit_20': [42, 10, 4, 36, 1, 9, 17, 25, 22, 13, 14, 17, 1, 19, 17, 8, 1, 4, 22, 26, 23, 1, 21, 26, 10, 4, 36, 1, 19, 17, 8, 1, 22, 14, 21, 1, 22, 8, 1, 14, 17, 2], '200630-210955_pcm_9fa_elicit_21': [37, 50, 18, 2, 1, 2, 10, 13, 1, 25, 10, 8, 17, 1, 19, 17, 2, 1, 9, 22, 3, 23, 16, 49, 17, 1, 3, 17, 10, 3, 5, 17, 1, 4, 18, 17, 26, 1, 2, 10, 13, 1, 26, 10, 1, 9, 17, 1, 23, 18, 17, 1, 44, 18, 7, 16, 14, 23, 1, 10, 7, 1, 28, 5, 16, 41, 22, 18, 1, 10, 7, 1, 23, 18, 17, 1, 53, 7, 10, 3, 18, 17, 23, 52, 31], '200630-210955_pcm_9fa_elicit_22': [6, 10, 18, 26, 1, 12, 16, 38, 17, 1, 19, 17, 8, 1, 9, 17, 23, 23, 17, 7, 1, 22, 26, 14, 4, 17, 7, 36, 1, 17, 1, 14, 17, 2, 27], '200630-210955_pcm_9fa_elicit_23': [37, 34, 1, 19, 17, 2, 1, 9, 22, 3, 23, 16, 49, 17, 1, 3, 17, 10, 3, 5, 17, 1, 15, 10, 7, 1, 4, 22, 23, 17, 7, 20, 1, 55, 26, 17, 1, 3, 17, 7, 14, 10, 26, 1, 4, 17, 2, 1, 13, 26, 22, 1, 26, 10, 1, 21, 26, 10, 4, 1, 19, 17, 2, 1, 4, 16, 23, 18, 1, 13, 26, 22, 36], '200630-210955_pcm_9fa_elicit_24': [26, 22, 1, 23, 18, 17, 1, 3, 17, 7, 14, 10, 26, 1, 4, 17, 2, 1, 19, 17, 2, 1, 25, 10, 8, 17, 1, 15, 10, 7, 1, 8, 2, 1, 9, 22, 25, 21, 20, 31, 6, 10, 18, 26, 1, 61, 27, 43, 65, 62, 43, 60, 20], '200630-210955_pcm_9fa_elicit_26': [17, 1, 4, 22, 26, 23, 1, 8, 22, 21, 17, 1, 23, 18, 17, 1, 3, 17, 10, 3, 5, 17, 1, 12, 17, 23, 1, 23, 18, 17, 1, 9, 17, 23, 23, 17, 7, 1, 8, 16, 26, 19, 1, 4, 17, 2, 1, 19, 17, 8, 1, 14, 13, 3, 3, 10, 14, 17, 1, 12, 17, 23, 1, 9, 17, 15, 10, 7, 17, 1, 23, 18, 22, 23, 1, 3, 17, 7, 14, 10, 26, 1, 25, 10, 8, 17, 20], '200630-210955_pcm_9fa_elicit_27': [46, 18, 17, 1, 3, 17, 7, 14, 10, 26, 1, 4, 17, 2, 1, 19, 17, 2, 1, 25, 10, 8, 17, 1, 26, 22, 1, 23, 18, 17, 1, 24, 17, 14, 14, 16, 22, 18, 36, 1, 4, 17, 2, 1, 12, 10, 1, 9, 17, 1, 58, 16, 26, 12, 20, 1, 42, 22, 1, 16, 8, 1, 6, 10, 18, 26, 1, 12, 17, 23, 1, 15, 10, 7, 1, 8, 16, 26, 19, 1, 4, 18, 17, 26, 1, 17, 1, 23, 22, 5, 21, 1, 14, 17, 2, 27], '200630-210955_pcm_9fa_elicit_28': [37, 46, 18, 17, 1, 3, 17, 7, 14, 10, 26, 1, 4, 17, 2, 1, 19, 17, 2, 1, 25, 10, 8, 17, 1, 15, 10, 7, 1, 8, 2, 1, 9, 22, 25, 21, 1, 12, 17, 23, 1, 3, 10, 4, 17, 7, 1, 3, 22, 14, 14, 1, 8, 17, 20], '200630-210955_pcm_9fa_elicit_29': [34, 1, 26, 10, 1, 7, 17, 22, 25, 18, 1, 23, 10, 1, 25, 10, 8, 10, 23, 1, 23, 18, 17, 1, 14, 22, 26, 19, 22, 5, 1, 4, 17, 2, 1, 19, 17, 2, 1, 16, 8, 1, 5, 17, 12, 20, 31, 1, 33, 24, 22, 23, 23, 18, 17, 4, 1, 35, 27, 61, 61, 30, 1, 6, 10, 18, 26, 1, 17, 38, 17, 26, 1, 23, 22, 5, 21, 1, 14, 17, 2, 27], '200630-210955_pcm_9fa_elicit_31': [42, 22, 1, 16, 8, 1, 8, 22, 21, 17, 1, 23, 18, 17, 1, 8, 17, 14, 14, 22, 12, 17, 1, 4, 17, 2, 1, 6, 10, 18, 26, 1, 19, 17, 2, 1, 3, 7, 17, 22, 25, 18, 1, 8, 22, 21, 17, 1, 14, 17, 26, 14, 17, 36], '200630-210955_pcm_9fa_elicit_32': [22, 14, 1, 17, 1, 19, 17, 2, 1, 23, 17, 5, 5, 1, 23, 18, 17, 1, 3, 17, 10, 3, 5, 17, 1, 14, 17, 2, 1, 37, 24, 22, 21, 17, 1, 13, 26, 22, 1, 7, 17, 3, 17, 26, 23, 36, 1, 9, 17, 25, 22, 13, 14, 17, 1, 23, 18, 17, 1, 58, 16, 26, 12, 19, 10, 8, 1, 4, 17, 2, 1, 19, 17, 2, 1, 18, 17, 22, 38, 17, 26, 1, 12, 10, 1, 14, 10, 10, 26, 1, 25, 10, 8, 17, 20], '200630-210955_pcm_9fa_elicit_33': [31, 1, 33, 24, 22, 23, 23, 18, 17, 4, 1, 35, 27, 43, 30, 1, 46, 18, 16, 14, 1, 10, 26, 17, 1, 26, 22, 1, 23, 10, 1, 5, 17, 23, 1, 17, 38, 17, 7, 2, 9, 10, 19, 2, 1, 21, 26, 10, 4, 1, 14, 17, 2, 1, 6, 17, 14, 13, 14, 1, 44, 18, 7, 16, 14, 23, 1, 4, 17, 2, 1, 9, 17, 1, 23, 18, 17, 1, 58, 16, 26, 12, 1, 4, 17, 2, 1, 6, 17, 18, 10, 38, 22, 18, 1, 19, 10, 26, 1, 25, 18, 10, 10, 14, 17, 36], '200630-210955_pcm_9fa_elicit_34': [12, 10, 1, 14, 10, 10, 26, 1, 9, 17, 12, 16, 26, 1, 23, 18, 17, 1, 4, 10, 7, 21, 1, 4, 17, 2, 1, 6, 17, 18, 10, 38, 22, 18, 1, 14, 17, 26, 19, 1, 22, 8, 1, 8, 22, 21, 17, 1, 17, 1, 25, 10, 8, 17, 1, 19, 10, 1, 15, 10, 7, 1, 17, 22, 7, 23, 18, 20], '200630-210955_pcm_9fa_elicit_35': [46, 18, 17, 1, 46, 16, 8, 17, 1, 50, 17, 2, 1, 6, 17, 14, 13, 14, 1, 11, 23, 22, 7, 23, 1, 34, 8, 1, 53, 7, 17, 22, 25, 18, 16, 26, 12], '200630-210955_pcm_9fa_elicit_36': [37, 11, 17, 17, 36, 1, 51, 10, 19, 1, 5, 22, 8, 9, 36, 1, 4, 17, 2, 1, 19, 17, 2, 1, 25, 22, 7, 7, 2, 1, 23, 18, 16, 14, 1, 4, 10, 7, 5, 19, 1, 14, 16, 26, 1, 25, 10, 8, 10, 23, 67, 31, 6, 10, 18, 26, 1, 61, 27, 43, 32], '200630-210955_pcm_9fa_elicit_37': [40, 9, 10, 13, 23, 1, 14, 16, 45, 1, 8, 10, 26, 23, 18, 14, 1, 22, 15, 23, 17, 7, 1, 6, 10, 18, 26, 1, 23, 18, 17, 1, 56, 22, 3, 23, 16, 14, 23, 1, 14, 23, 22, 7, 23, 1, 16, 8, 1, 3, 7, 17, 22, 25, 18, 16, 26, 12, 1, 4, 10, 7, 21, 36, 1, 6, 17, 14, 13, 14, 1, 25, 10, 8, 17, 1, 8, 17, 17, 23, 1, 22, 8, 1, 15, 10, 7, 1, 47, 16, 38, 17, 7, 1, 6, 10, 7, 19, 22, 26, 20], '200630-210955_pcm_9fa_elicit_38': [46, 18, 22, 23, 1, 23, 16, 8, 17, 36, 1, 6, 17, 14, 13, 14, 1, 19, 17, 2, 1, 35, 66, 1, 2, 17, 22, 7, 14, 20, 1, 50, 18, 2, 1, 6, 17, 14, 13, 14, 1, 25, 10, 8, 17, 1, 8, 17, 17, 23, 1, 6, 10, 18, 26, 52], '200630-210955_pcm_9fa_elicit_39': [42, 10, 1, 9, 17, 1, 14, 17, 2, 1, 17, 1, 25, 10, 8, 17, 1, 12, 7, 17, 17, 23, 1, 22, 8, 1, 10, 7, 1, 14, 17, 2, 1, 17, 1, 25, 10, 8, 17, 1, 14, 17, 17, 1, 18, 10, 4, 1, 17, 1, 23, 22, 21, 17, 1, 19, 17, 2, 1, 19, 10, 1, 16, 8, 1, 4, 10, 7, 21, 36], '200630-210955_pcm_9fa_elicit_40': [9, 13, 23, 1, 6, 17, 14, 13, 14, 1, 25, 10, 8, 17, 1, 8, 17, 17, 23, 1, 6, 10, 18, 26, 1, 14, 10, 1, 23, 18, 22, 23, 1, 6, 10, 18, 26, 1, 12, 10, 1, 9, 22, 3, 23, 16, 49, 17, 1, 22, 8, 20], '200630-210955_pcm_9fa_elicit_41': [50, 18, 17, 26, 1, 6, 17, 14, 13, 14, 1, 7, 17, 22, 25, 18, 1, 23, 18, 17, 7, 17, 36, 1, 6, 10, 18, 26, 1, 26, 10, 1, 12, 7, 17, 17, 1, 9, 22, 3, 23, 16, 49, 17, 1, 22, 8, 20, 1, 46, 18, 16, 14, 1, 26, 22, 1, 9, 17, 25, 22, 13, 14, 17, 1, 6, 10, 18, 26, 1, 21, 26, 10, 4, 1, 14, 17, 2, 1, 6, 17, 14, 13, 14, 1, 26, 22, 1, 51, 10, 19, 1, 14, 3, 17, 25, 16, 22, 5, 1, 11, 10, 26, 20], '200630-210955_pcm_9fa_elicit_42': [42, 22, 1, 16, 8, 1, 8, 22, 21, 17, 1, 17, 1, 22, 14, 21, 1, 6, 17, 14, 13, 14, 1, 14, 17, 2, 27, 1, 37, 42, 22, 1, 8, 17, 1, 14, 13, 3, 3, 10, 14, 17, 1, 25, 10, 8, 17, 1, 8, 17, 17, 23, 1, 2, 10, 13, 1, 8, 22, 21, 17, 1, 2, 10, 13, 1, 9, 22, 3, 23, 16, 49, 17, 1, 8, 17, 36], '200630-210955_pcm_9fa_elicit_43': [4, 18, 2, 1, 17, 1, 9, 17, 1, 14, 17, 2, 1, 26, 22, 1, 2, 10, 13, 1, 25, 10, 8, 17, 1, 8, 17, 17, 23, 1, 8, 17, 52, 31, 1, 33, 24, 22, 23, 23, 18, 17, 4, 1, 35, 27, 61, 29, 30, 1, 47, 17, 8, 17, 8, 9, 17, 7, 1, 14, 17, 2, 1, 24, 22, 7, 2, 1, 38, 16, 14, 16, 23, 1, 28, 5, 16, 49, 22, 9, 17, 23, 18, 1, 4, 18, 17, 26, 1, 6, 17, 14, 13, 14, 1, 19, 17, 2, 1, 9, 17, 5, 5, 17, 20], '200630-210955_pcm_9fa_elicit_44': [46, 18, 22, 23, 1, 23, 16, 8, 17, 36, 1, 6, 10, 18, 26, 1, 14, 23, 16, 5, 5, 1, 19, 17, 2, 1, 28, 5, 16, 49, 22, 9, 17, 23, 18, 1, 9, 17, 5, 5, 17, 36, 1, 22, 26, 19, 1, 17, 1, 41, 13, 8, 3, 1, 13, 3, 1, 22, 14, 1, 17, 1, 18, 17, 22, 7, 1, 24, 22, 7, 2, 1, 38, 10, 16, 25, 17, 20], '200630-210955_pcm_9fa_elicit_46': [6, 10, 18, 26, 1, 12, 10, 1, 19, 10, 26, 1, 14, 23, 16, 5, 5, 1, 18, 17, 22, 7, 1, 23, 18, 17, 1, 14, 23, 10, 7, 2, 1, 22, 9, 10, 13, 23, 1, 4, 17, 23, 16, 26, 1, 23, 18, 17, 1, 22, 26, 12, 17, 5, 14, 1, 23, 17, 5, 5, 1, 23, 18, 17, 1, 14, 18, 17, 3, 18, 17, 7, 19, 14, 1, 23, 18, 22, 23, 1, 26, 16, 12, 18, 23, 1, 4, 17, 2, 1, 24, 22, 7, 2, 1, 9, 10, 7, 26, 1, 6, 17, 14, 13, 14, 20], '200630-210955_pcm_9fa_elicit_47': [6, 10, 18, 26, 1, 21, 26, 10, 4, 1, 14, 17, 2, 1, 23, 18, 17, 1, 9, 22, 3, 23, 16, 14, 8, 1, 4, 17, 2, 1, 17, 1, 19, 17, 2, 1, 19, 10, 36, 1, 26, 22, 1, 15, 10, 7, 1, 3, 17, 10, 3, 5, 17, 1, 4, 17, 2, 1, 19, 10, 26, 1, 7, 17, 3, 17, 26, 23, 1, 15, 7, 10, 8, 1, 23, 18, 17, 16, 7, 1, 14, 16, 26, 20], '200630-210955_pcm_9fa_elicit_48': [56, 13, 23, 1, 6, 17, 14, 13, 14, 1, 26, 10, 1, 12, 17, 23, 1, 14, 16, 26, 1, 22, 23, 1, 22, 5, 5, 20, 1, 28, 38, 17, 26, 1, 23, 18, 10, 13, 12, 18, 1, 14, 17, 2, 1, 6, 10, 18, 26, 1, 23, 7, 2, 1, 14, 23, 10, 3, 1, 22, 8, 36, 1, 6, 17, 14, 13, 14, 1, 26, 10, 1, 12, 7, 17, 17, 36], '200630-210955_pcm_9fa_elicit_49': [26, 22, 1, 16, 8, 1, 8, 22, 21, 17, 1, 22, 8, 1, 23, 17, 5, 5, 1, 6, 10, 18, 26, 1, 14, 17, 2, 27, 1, 37, 57, 17, 22, 38, 17, 1, 22, 8, 1, 8, 22, 21, 17, 1, 17, 1, 9, 17, 1, 5, 16, 21, 17, 1, 23, 18, 16, 14, 1, 26, 10, 4, 36], '200630-210955_pcm_9fa_elicit_50': [9, 17, 25, 22, 13, 14, 17, 1, 26, 22, 1, 23, 18, 16, 14, 1, 10, 26, 17, 1, 12, 10, 1, 8, 22, 21, 17, 1, 13, 14, 1, 15, 16, 23, 1, 19, 10, 1, 51, 10, 19, 1, 4, 10, 7, 21, 1, 4, 17, 5, 5, 20, 31, 24, 22, 23, 23, 18, 17, 4, 1, 35, 27, 61, 65, 20], '200702-202406_ibb_9fa_elicit_0': [40, 14, 1, 6, 17, 14, 13, 14, 1, 19, 17, 2, 1, 4, 22, 21, 22, 1, 15, 10, 7, 1, 23, 18, 17, 1, 25, 10, 7, 26, 17, 7, 1, 10, 15, 1, 23, 18, 17, 1, 14, 17, 22, 36, 1, 17, 1, 14, 17, 17, 1, 11, 16, 8, 10, 26, 1, 53, 17, 23, 17, 7, 36, 1, 22, 26, 19, 1, 16, 8, 1, 9, 7, 10, 23, 18, 17, 7, 1, 40, 26, 19, 7, 17, 4, 36], '200702-202406_ibb_9fa_elicit_1': [22, 26, 19, 1, 14, 10, 8, 17, 1, 10, 15, 1, 23, 18, 17, 16, 7, 1, 15, 7, 16, 17, 26, 19, 14, 1, 19, 17, 2, 1, 22, 7, 7, 22, 26, 12, 17, 1, 23, 18, 17, 16, 7, 1, 26, 17, 23, 14, 20], '200702-202406_ibb_9fa_elicit_2': [6, 17, 14, 13, 14, 1, 4, 22, 21, 22, 1, 8, 17, 17, 23, 1, 19, 17, 8, 36, 1, 17, 26, 23, 17, 7, 1, 53, 17, 23, 17, 7, 1, 9, 10, 22, 23, 1, 22, 26, 19, 1, 23, 17, 5, 5, 1, 22, 8, 1, 14, 17, 2, 1, 8, 22, 21, 17, 1, 17, 1, 8, 10, 38, 17, 1, 23, 18, 17, 1, 9, 10, 22, 23, 1, 17, 26, 23, 17, 7, 1, 4, 22, 23, 17, 7, 20], '200702-202406_ibb_9fa_elicit_3': [40, 14, 1, 19, 17, 8, 1, 12, 10, 1, 15, 7, 10, 26, 23, 1, 14, 8, 22, 5, 5, 36, 1, 6, 17, 14, 13, 14, 1, 14, 16, 23, 1, 19, 10, 4, 26, 36, 1, 25, 10, 8, 17, 1, 19, 17, 2, 1, 23, 17, 22, 25, 18, 1, 23, 18, 17, 1, 3, 17, 10, 3, 5, 17, 1, 4, 17, 2, 1, 12, 22, 23, 18, 17, 7, 1, 15, 10, 7, 1, 23, 18, 17, 1, 25, 10, 7, 26, 17, 7, 1, 10, 15, 1, 23, 18, 17, 1, 7, 16, 38, 17, 7, 36], '200702-202406_ibb_9fa_elicit_4': [23, 18, 17, 1, 23, 7, 13, 23, 18, 1, 22, 9, 10, 13, 23, 1, 51, 10, 19, 1, 58, 16, 26, 12, 19, 10, 8, 20], '200702-202406_ibb_9fa_elicit_5': [40, 15, 23, 17, 7, 36, 1, 6, 17, 14, 13, 14, 1, 23, 17, 5, 5, 1, 53, 17, 23, 17, 7, 1, 14, 17, 2, 36, 1, 37, 19, 7, 16, 38, 17, 1, 12, 10, 1, 4, 18, 17, 7, 17, 1, 19, 17, 17, 3, 36, 1, 22, 26, 19, 1, 23, 18, 7, 10, 4, 1, 2, 10, 13, 7, 1, 26, 17, 23, 1, 16, 26, 14, 16, 19, 17, 1, 14, 10, 1, 23, 18, 22, 23, 1, 17, 1, 12, 10, 1, 25, 22, 23, 25, 18, 1, 15, 16, 14, 18, 20], '200702-202406_ibb_9fa_elicit_6': [31, 53, 17, 23, 17, 7, 1, 25, 10, 8, 17, 1, 22, 26, 14, 4, 17, 7, 1, 6, 17, 14, 13, 14, 1, 14, 17, 2, 27, 1, 37, 46, 17, 22, 25, 18, 17, 7, 36, 1, 4, 17, 1, 19, 10, 26, 1, 4, 10, 7, 21, 1, 10, 38, 17, 7, 26, 16, 12, 18, 23, 36, 1, 9, 13, 23, 1, 4, 17, 1, 26, 10, 1, 25, 22, 23, 25, 18, 1, 22, 26, 2, 23, 18, 16, 26, 12, 36, 1, 9, 13, 23, 1, 22, 14, 1, 2, 10, 13, 1, 23, 22, 5, 21, 36], '200702-202406_ibb_9fa_elicit_7': [34, 1, 12, 10, 1, 23, 18, 7, 10, 4, 1, 23, 18, 17, 1, 26, 17, 23, 1, 16, 26, 14, 16, 19, 17, 20, 31, 57, 13, 21, 17, 1, 65, 27, 29, 36, 1, 65, 20], '200702-202406_ibb_9fa_elicit_8': [40, 26, 19, 7, 17, 4, 36, 1, 6, 22, 8, 17, 14, 36, 1, 22, 26, 19, 1, 6, 10, 18, 26, 1, 19, 17, 2, 1, 19, 7, 22, 12, 1, 23, 18, 17, 1, 26, 17, 23, 1, 17, 26, 23, 17, 7, 1, 9, 10, 22, 23, 59, 1, 53, 17, 23, 17, 7, 1, 21, 26, 17, 17, 5, 1, 19, 10, 4, 26, 1, 15, 10, 7, 1, 6, 17, 14, 13, 14, 1, 15, 7, 10, 26, 23], '200702-202406_ibb_9fa_elicit_9': [40, 14, 1, 19, 17, 8, 1, 23, 18, 7, 10, 4, 1, 23, 18, 17, 1, 26, 17, 23, 1, 16, 26, 14, 16, 19, 17, 1, 4, 22, 23, 17, 7, 36, 1, 23, 18, 17, 1, 15, 16, 14, 18, 1, 4, 17, 2, 1, 19, 17, 8, 1, 25, 22, 23, 25, 18, 1, 3, 5, 17, 26, 23, 2, 1, 14, 10, 1, 23, 17, 2, 1, 23, 18, 17, 16, 7, 1, 26, 17, 23, 1, 14, 23, 22, 7, 23, 1, 23, 10, 1, 19, 17, 2, 1, 23, 17, 22, 7, 67], '200702-202406_ibb_9fa_elicit_11': [56, 17, 15, 10, 7, 17, 1, 19, 17, 8, 1, 21, 26, 10, 4, 36, 1, 23, 18, 17, 1, 23, 4, 10, 1, 9, 10, 22, 23, 1, 19, 10, 26, 1, 15, 13, 5, 5, 1, 4, 16, 23, 18, 1, 15, 16, 14, 18, 36, 1, 22, 26, 19, 1, 23, 18, 17, 1, 9, 10, 22, 23, 1, 19, 17, 8, 1, 25, 10, 8, 17, 1, 19, 17, 2, 1, 14, 16, 26, 21, 20], '200702-202406_ibb_9fa_elicit_12': [50, 18, 17, 26, 1, 53, 17, 23, 17, 7, 1, 14, 17, 17, 1, 4, 17, 23, 16, 26, 1, 18, 22, 3, 3, 17, 26, 36, 1, 17, 1, 21, 26, 17, 17, 5, 1, 19, 10, 4, 26, 1, 15, 10, 7, 1, 6, 17, 14, 13, 14, 1, 15, 7, 10, 26, 23, 36, 1, 25, 10, 8, 17, 1, 23, 17, 5, 5, 1, 22, 8, 1, 14, 17, 2, 27], '200702-202406_ibb_9fa_elicit_13': [37, 57, 10, 7, 19, 36, 1, 8, 22, 21, 17, 1, 2, 10, 13, 1, 19, 17, 2, 1, 12, 10, 36, 1, 9, 17, 25, 22, 13, 14, 17, 1, 34, 1, 9, 17, 1, 14, 16, 26, 26, 17, 7, 20, 31, 1, 6, 17, 14, 13, 14, 1, 22, 26, 14, 4, 17, 7, 1, 22, 8, 1, 14, 17, 2, 27], '200702-202406_ibb_9fa_elicit_14': [37, 42, 10, 1, 19, 17, 2, 1, 15, 17, 22, 7, 1, 22, 12, 22, 16, 26, 20, 1, 48, 7, 10, 8, 1, 26, 10, 4, 36, 1, 26, 22, 1, 3, 17, 10, 3, 5, 17, 1, 2, 10, 13, 1, 12, 10, 1, 19, 17, 2, 1, 25, 22, 23, 25, 18, 1, 22, 5, 16, 38, 17, 20, 31, 57, 13, 21, 17, 1, 65, 27, 64, 36, 1, 61, 66, 20], '200702-202406_ibb_9fa_elicit_16': [31, 1, 33, 24, 22, 23, 23, 18, 17, 4, 1, 29, 27, 61, 32, 30, 1, 6, 17, 14, 13, 14, 1, 25, 18, 10, 10, 14, 17, 1, 23, 4, 10, 1, 10, 23, 18, 17, 7, 1, 15, 16, 14, 18, 17, 7, 8, 17, 26, 1, 6, 22, 8, 17, 14, 1, 22, 26, 19, 1, 6, 10, 18, 26, 36, 1, 4, 17, 2, 1, 9, 17, 1, 68, 17, 9, 17, 19, 17, 17, 1, 25, 18, 16, 5, 19, 7, 17, 26, 20], '200702-202406_ibb_9fa_elicit_17': [39, 17, 8, 1, 26, 10, 1, 4, 22, 14, 23, 17, 1, 23, 16, 8, 17, 1, 23, 10, 1, 15, 10, 5, 5, 10, 4, 1, 6, 17, 14, 13, 14, 20, 1, 11, 10, 1, 23, 18, 16, 14, 1, 15, 10, 13, 7, 1, 8, 17, 26, 1, 22, 9, 22, 26, 19, 10, 26, 1, 23, 18, 17, 16, 7, 1, 15, 16, 14, 18, 1, 9, 13, 14, 16, 26, 17, 14, 14, 36], '200702-202406_ibb_9fa_elicit_18': [25, 10, 8, 17, 1, 9, 17, 1, 23, 18, 17, 1, 15, 16, 7, 14, 23, 1, 19, 16, 14, 25, 16, 3, 5, 17, 14, 1, 4, 17, 2, 1, 15, 10, 5, 5, 10, 4, 1, 6, 17, 14, 13, 14, 1, 15, 13, 5, 5, 62, 23, 16, 8, 17, 20], '200702-202406_ibb_9fa_elicit_19': [6, 17, 14, 13, 14, 1, 39, 10, 1, 24, 22, 26, 2, 1, 24, 16, 7, 22, 25, 5, 17, 1, 15, 10, 7, 1, 44, 22, 3, 17, 7, 26, 22, 13, 8], '200702-202406_ibb_9fa_elicit_20': [6, 17, 14, 13, 14, 1, 19, 10, 26, 1, 25, 18, 10, 10, 14, 17, 1, 15, 10, 13, 7, 1, 19, 16, 14, 25, 16, 3, 5, 17, 14, 53, 17, 23, 17, 7, 36, 1, 40, 26, 19, 7, 17, 4, 36, 1, 6, 22, 8, 17, 14, 1, 22, 26, 19, 1, 6, 10, 18, 26, 23, 10, 1, 25, 10, 8, 17, 1, 9, 17, 1, 15, 16, 14, 18, 17, 7, 14, 1, 10, 15, 1, 8, 17, 26, 20], '200702-202406_ibb_9fa_elicit_21': [48, 10, 7, 1, 11, 22, 9, 9, 22, 23, 18, 1, 19, 22, 2, 36, 1, 22, 5, 5, 1, 10, 15, 1, 19, 17, 8, 1, 12, 10, 1, 23, 18, 17, 1, 14, 2, 26, 22, 12, 10, 12, 13, 17, 1, 4, 17, 2, 1, 19, 17, 2, 1, 44, 22, 3, 17, 7, 26, 22, 13, 8, 20], '200702-202406_ibb_9fa_elicit_22': [46, 18, 17, 1, 3, 17, 10, 3, 5, 17, 1, 14, 23, 16, 5, 5, 1, 19, 17, 2, 1, 14, 13, 7, 3, 7, 16, 14, 17, 1, 15, 10, 7, 1, 23, 18, 17, 1, 4, 22, 2, 1, 6, 17, 14, 13, 14, 1, 19, 17, 2, 1, 23, 17, 22, 25, 18, 1, 9, 17, 25, 22, 13, 14, 17, 1, 17, 1, 19, 17, 2, 1, 19, 10, 1, 22, 8, 1, 22, 14, 1, 3, 17, 7, 14, 10, 26, 1, 4, 17, 2, 1, 12, 17, 23, 1, 22, 13, 23, 18, 10, 7, 16, 23, 2, 36, 1, 26, 10, 1, 9, 17, 1, 5, 16, 21, 17, 1, 23, 18, 17, 1, 14, 25, 7, 16, 9, 17, 14, 20], '200702-202406_ibb_9fa_elicit_23': [55, 26, 17, 1, 8, 22, 26, 1, 4, 17, 2, 1, 19, 17, 8, 10, 26, 1, 19, 17, 2, 1, 16, 8, 1, 9, 10, 19, 2, 36, 1, 25, 10, 8, 17, 1, 23, 18, 22, 23, 1, 19, 22, 2, 20, 1, 48, 10, 7, 1, 16, 26, 14, 16, 19, 17, 1, 23, 18, 17, 1, 14, 2, 26, 22, 12, 10, 12, 13, 17, 36, 1, 23, 18, 17, 1, 8, 22, 26, 1, 25, 10, 8, 17, 1, 19, 17, 2, 1, 14, 18, 10, 13, 23, 27], '200702-202406_ibb_9fa_elicit_25': [34, 1, 21, 26, 10, 4, 1, 17, 45, 22, 25, 23, 5, 2, 1, 4, 18, 10, 1, 2, 10, 13, 1, 9, 17, 36, 1, 2, 10, 13, 1, 9, 17, 1, 51, 10, 19, 1, 54, 10, 5, 2, 1, 53, 17, 7, 14, 10, 26, 67, 31, 1, 56, 13, 23, 1, 6, 17, 14, 13, 14, 1, 23, 17, 5, 5, 1, 23, 18, 17, 1, 19, 17, 8, 10, 26, 1, 14, 17, 2, 27, 1, 37, 11, 18, 13, 23, 1, 13, 3, 36, 1, 22, 26, 19, 1, 25, 10, 8, 10, 23, 1, 15, 7, 10, 8, 1, 16, 8, 1, 9, 10, 19, 2, 67, 31, 24, 22, 7, 21, 1, 61, 27, 43, 29, 36, 1, 43, 65, 20], '200702-202406_ibb_9fa_elicit_27': [17, 1, 25, 10, 8, 17, 1, 14, 18, 10, 13, 23, 1, 4, 16, 23, 18, 1, 5, 10, 13, 19, 1, 38, 10, 16, 25, 17, 20, 1, 46, 18, 17, 1, 19, 17, 8, 10, 26, 1, 25, 10, 8, 10, 23, 1, 15, 7, 10, 8, 1, 23, 18, 17, 1, 8, 22, 26, 1, 9, 10, 19, 2, 36, 1, 22, 26, 19, 1, 37, 17, 1, 26, 10, 1, 16, 26, 41, 13, 7, 17, 1, 22, 8, 20], '200702-202406_ibb_9fa_elicit_28': [31, 33, 57, 13, 21, 17, 1, 29, 27, 35, 65, 30, 1, 28, 38, 17, 7, 2, 9, 10, 19, 2, 1, 4, 17, 2, 1, 19, 17, 2, 1, 22, 7, 10, 13, 26, 19, 1, 22, 8, 1, 15, 10, 7, 1, 23, 18, 17, 1, 14, 2, 26, 22, 12, 10, 12, 13, 17, 1, 14, 13, 7, 3, 7, 16, 14, 17, 36, 1, 19, 17, 8, 1, 25, 10, 8, 17, 1, 19, 17, 2, 1, 22, 14, 21, 1, 14, 17, 2, 27], '200702-202406_ibb_9fa_elicit_29': [37, 50, 17, 23, 16, 26, 1, 9, 17, 1, 23, 18, 16, 14, 52, 1, 28, 1, 17, 38, 17, 26, 1, 12, 17, 23, 1, 23, 18, 17, 1, 3, 10, 4, 17, 7, 1, 23, 10, 1, 23, 22, 5, 21, 1, 23, 10, 1, 19, 17, 8, 10, 26, 14, 1, 22, 26, 19, 1, 19, 17, 8, 1, 12, 10, 1, 10, 9, 17, 2, 1, 22, 8, 20], '200702-202406_ibb_9fa_elicit_30': [31, 33, 24, 22, 7, 21, 1, 61, 27, 43, 60, 30, 1, 28, 1, 26, 10, 1, 23, 17, 2, 36, 1, 17, 38, 17, 7, 2, 9, 10, 19, 2, 1, 15, 10, 7, 1, 51, 22, 5, 16, 5, 17, 17, 1, 18, 17, 22, 7, 1, 22, 9, 10, 13, 23, 1, 23, 18, 16, 14, 1, 9, 17, 23, 23, 17, 7, 1, 23, 18, 16, 26, 12, 1, 4, 17, 2, 1, 18, 22, 3, 3, 17, 26, 20], '200702-202406_ibb_9fa_elicit_31': [50, 18, 17, 26, 1, 19, 17, 8, 1, 25, 10, 8, 10, 23, 1, 15, 7, 10, 8, 1, 23, 18, 17, 1, 14, 2, 26, 22, 12, 10, 12, 13, 17, 36, 1, 6, 17, 14, 13, 14, 1, 22, 26, 19, 1, 16, 8, 1, 19, 16, 14, 25, 16, 3, 5, 17, 14, 1, 12, 10, 1, 11, 16, 8, 10, 26, 1, 10, 7, 1, 53, 17, 23, 17, 7, 1, 18, 10, 13, 14, 17, 20], '200702-202406_ibb_9fa_elicit_32': [48, 10, 7, 1, 23, 18, 17, 7, 17, 36, 1, 19, 17, 8, 1, 8, 17, 17, 23, 1, 53, 17, 23, 17, 7, 1, 8, 10, 23, 18, 17, 7, 62, 16, 26, 62, 5, 22, 4, 1, 4, 17, 2, 1, 19, 17, 2, 1, 14, 16, 25, 21, 20, 1, 28, 1, 12, 17, 23, 1, 18, 16, 12, 18, 1, 15, 17, 38, 17, 7, 36], '200702-202406_ibb_9fa_elicit_33': [14, 10, 1, 19, 17, 8, 1, 25, 10, 8, 17, 1, 9, 17, 12, 1, 6, 17, 14, 13, 14, 1, 8, 22, 21, 17, 1, 17, 1, 18, 17, 5, 3, 1, 22, 8, 20], '200702-202406_ibb_9fa_elicit_34': [11, 10, 1, 6, 17, 14, 13, 14, 1, 4, 22, 21, 22, 1, 12, 10, 1, 8, 17, 17, 23, 1, 22, 8, 36, 1, 18, 10, 5, 19, 1, 16, 8, 1, 18, 22, 26, 19, 36, 1, 25, 10, 8, 17, 1, 7, 22, 16, 14, 17, 1, 22, 8, 1, 13, 3, 20], '200702-202406_ibb_9fa_elicit_35': [40, 23, 1, 10, 26, 25, 17, 36, 1, 17, 1, 25, 10, 8, 17, 1, 4, 17, 5, 5, 36, 1, 22, 26, 19, 1, 17, 1, 25, 10, 8, 17, 1, 9, 17, 12, 16, 26, 1, 14, 17, 7, 38, 17, 1, 6, 17, 14, 13, 14, 1, 22, 26, 19, 1, 16, 8, 1, 19, 16, 14, 25, 16, 3, 5, 17, 14, 36, 1, 17, 1, 15, 16, 23, 1, 9, 17, 1, 14, 17, 2, 1, 26, 22, 1, 15, 10, 10, 19, 1, 17, 1, 25, 10, 10, 21, 1, 15, 10, 7, 1, 19, 17, 8, 20], '200702-202406_ibb_9fa_elicit_36': [48, 10, 7, 1, 17, 38, 17, 26, 16, 26, 12, 36, 1, 3, 17, 10, 3, 5, 17, 1, 15, 7, 10, 8, 1, 19, 16, 15, 15, 17, 7, 17, 26, 23, 1, 19, 16, 15, 15, 17, 7, 17, 26, 23, 1, 3, 5, 22, 25, 17, 1, 25, 10, 8, 17, 1, 19, 17, 2, 1, 25, 22, 7, 7, 2, 1, 3, 17, 10, 3, 5, 17, 1, 4, 17, 2, 1, 19, 17, 2, 1, 14, 16, 25, 21, 1, 25, 10, 8, 17, 1, 53, 17, 23, 17, 7, 1, 18, 10, 13, 14, 17, 20], '200702-202406_ibb_9fa_elicit_37': [28, 1, 26, 10, 1, 23, 17, 2, 36, 1, 17, 1, 25, 10, 8, 17, 1, 9, 17, 1, 5, 16, 21, 17, 1, 14, 17, 2, 1, 23, 18, 17, 1, 4, 18, 10, 5, 17, 1, 23, 10, 4, 26, 1, 12, 22, 23, 18, 17, 7, 1, 15, 10, 7, 1, 23, 18, 17, 1, 19, 10, 10, 7, 20], '200702-202406_ibb_9fa_elicit_38': [50, 18, 2, 52, 1, 56, 17, 25, 22, 13, 14, 17, 1, 19, 17, 8, 1, 19, 17, 2, 1, 15, 16, 26, 19, 1, 25, 13, 7, 17, 20, 1, 34, 26, 1, 15, 22, 25, 23, 36, 1, 22, 5, 5, 1, 23, 18, 17, 1, 3, 17, 10, 3, 5, 17, 1, 4, 17, 2, 1, 23, 18, 17, 16, 7, 1, 3, 17, 7, 14, 10, 26, 1, 19, 17, 2, 1, 14, 16, 25, 21, 1, 25, 22, 7, 7, 2, 1, 19, 17, 8, 1, 25, 10, 8, 17, 1, 8, 17, 17, 23, 1, 22, 8, 20], '200702-202406_ibb_9fa_elicit_39': [40, 26, 19, 1, 17, 1, 23, 10, 13, 25, 18, 1, 22, 5, 5, 1, 23, 18, 17, 1, 3, 17, 10, 3, 5, 17, 36, 1, 26, 22, 1, 14, 10, 1, 17, 1, 23, 22, 21, 17, 1, 25, 13, 7, 17, 1, 19, 17, 8, 20], '200702-202406_ibb_9fa_elicit_41': [33, 34, 14, 22, 16, 22, 18, 1, 65, 35, 27, 29, 30, 1, 28, 1, 17, 38, 17, 26, 1, 15, 7, 17, 17, 1, 3, 17, 10, 3, 5, 17, 1, 4, 17, 2, 1, 19, 17, 8, 10, 26, 14, 1, 19, 17, 2, 1, 10, 3, 3, 7, 17, 14, 14, 20, 1, 40, 14, 1, 23, 18, 17, 1, 19, 17, 8, 10, 26, 14, 1, 19, 17, 2, 1, 25, 10, 8, 17, 1, 10, 13, 23, 36, 1, 19, 17, 8, 1, 12, 10, 1, 19, 17, 2, 1, 14, 18, 10, 13, 23, 27], '200702-202406_ibb_9fa_elicit_42': [37, 70, 10, 13, 1, 9, 17, 1, 51, 10, 19, 1, 11, 10, 26, 67, 31, 1, 33, 57, 13, 21, 17, 1, 29, 27, 29, 61, 30, 1, 56, 13, 23, 1, 6, 17, 14, 13, 14, 1, 14, 23, 10, 3, 1, 19, 17, 8, 1, 22, 26, 19, 1, 26, 10, 1, 5, 17, 23, 1, 19, 17, 8, 1, 23, 22, 5, 21, 1, 22, 26, 2, 23, 18, 16, 26, 12, 20], '200702-202406_ibb_9fa_elicit_43': [39, 17, 8, 1, 21, 26, 10, 4, 1, 14, 17, 2, 1, 26, 22, 1, 6, 17, 14, 13, 14, 1, 9, 17, 1, 23, 18, 17, 1, 44, 18, 7, 16, 14, 23, 1, 22, 26, 19, 1, 17, 1, 26, 10, 1, 4, 22, 26, 23, 1, 8, 22, 21, 17, 1, 19, 17, 8, 1, 19, 17, 2, 1, 19, 10, 1, 5, 16, 21, 17, 1, 14, 17, 2, 1, 19, 17, 8, 1, 9, 17, 1, 6, 17, 18, 10, 38, 22, 18, 1, 14, 17, 7, 38, 22, 26, 23, 20], '200702-202406_ibb_9fa_elicit_44': [6, 17, 14, 13, 14, 1, 53, 7, 17, 22, 25, 18, 1, 47, 17, 22, 25, 18, 1, 24, 22, 26, 2, 1, 53, 5, 22, 25, 17, 1, 15, 10, 7, 1, 51, 22, 5, 16, 5, 17, 17], '200702-202406_ibb_9fa_elicit_45': [42, 22, 1, 14, 16, 26, 25, 17, 1, 8, 10, 7, 26, 16, 26, 12, 1, 6, 17, 14, 13, 14, 1, 22, 26, 19, 1, 16, 8, 1, 15, 10, 13, 7, 1, 19, 16, 14, 25, 16, 3, 5, 17, 14, 1, 19, 17, 2, 1, 9, 13, 14, 2, 1, 15, 10, 7, 1, 44, 22, 3, 17, 7, 26, 22, 13, 8, 20], '200702-202406_ibb_9fa_elicit_46': [50, 18, 17, 26, 1, 17, 38, 17, 26, 16, 26, 12, 1, 7, 17, 22, 25, 18, 36, 1, 23, 18, 17, 1, 3, 17, 10, 3, 5, 17, 1, 14, 23, 16, 5, 5, 1, 19, 17, 2, 1, 9, 7, 16, 26, 12, 1, 23, 18, 17, 16, 7, 1, 3, 17, 10, 3, 5, 17, 1, 4, 17, 2, 1, 19, 17, 2, 1, 14, 16, 25, 21, 1, 8, 22, 21, 17, 1, 6, 17, 14, 13, 14, 1, 18, 17, 22, 5, 1, 19, 17, 8, 20], '200702-202406_ibb_9fa_elicit_47': [6, 17, 14, 13, 14, 1, 26, 10, 1, 25, 10, 8, 17, 1, 23, 10, 10, 1, 12, 17, 23, 1, 23, 16, 8, 17, 1, 23, 10, 1, 7, 17, 14, 23, 20], '200702-202406_ibb_9fa_elicit_48': [11, 10, 1, 15, 10, 7, 1, 17, 22, 7, 5, 2, 1, 8, 10, 7, 26, 16, 26, 12, 1, 23, 18, 17, 1, 26, 17, 45, 23, 1, 19, 22, 2, 36, 1, 6, 17, 14, 13, 14, 1, 25, 10, 8, 17, 1, 12, 17, 23, 1, 13, 3, 1, 12, 10, 1, 10, 13, 23, 14, 16, 19, 17, 1, 4, 18, 17, 26, 1, 17, 38, 17, 7, 2, 4, 18, 17, 7, 17, 1, 14, 23, 16, 5, 5, 1, 19, 22, 7, 21, 20], '200702-202406_ibb_9fa_elicit_49': [28, 1, 15, 16, 26, 19, 1, 10, 26, 17, 1, 63, 13, 16, 17, 23, 1, 3, 5, 22, 25, 17, 1, 4, 18, 17, 7, 17, 1, 17, 1, 12, 10, 1, 15, 16, 23, 1, 14, 23, 22, 2, 36, 1, 3, 7, 22, 2, 1, 23, 10, 1, 16, 8, 1, 48, 22, 23, 18, 17, 7, 20], '200702-202406_ibb_9fa_elicit_50': [50, 18, 17, 26, 1, 19, 17, 8, 1, 14, 17, 17, 1, 14, 17, 2, 1, 17, 1, 19, 10, 26, 1, 25, 10, 8, 10, 23, 36, 1, 37, 11, 16, 8, 10, 26, 1, 22, 26, 19, 1, 23, 18, 17, 1, 3, 17, 10, 3, 5, 17, 1, 4, 17, 2, 1, 19, 17, 2, 1, 4, 16, 23, 18, 1, 22, 8, 1, 25, 10, 8, 17, 1, 12, 10, 1, 15, 16, 26, 19, 1, 22, 8, 20], '200702-202406_ibb_9fa_elicit_51': [31, 28, 1, 9, 17, 1, 5, 16, 21, 17, 1, 14, 17, 2, 1, 26, 22, 1, 53, 17, 23, 17, 7, 1, 19, 17, 2, 1, 15, 7, 10, 26, 23, 1, 9, 17, 25, 22, 13, 14, 17, 1, 26, 22, 1, 16, 8, 1, 18, 10, 13, 14, 17, 1, 6, 17, 14, 13, 14, 1, 25, 10, 8, 17, 20, 24, 22, 7, 21, 1, 61, 27, 35, 69, 59, 1, 57, 13, 21, 17, 1, 29, 27, 35, 64, 20], '200630-104544_pcm_9fa_elicit_0': [28, 1, 4, 22, 26, 23, 1, 19, 16, 38, 10, 7, 25, 17, 1, 22, 8, 1, 8, 22, 21, 17, 1, 3, 17, 10, 3, 5, 17, 1, 26, 10, 1, 21, 26, 10, 4, 1, 4, 17, 23, 16, 26, 1, 18, 22, 3, 3, 17, 26, 20, 1, 46, 18, 22, 23, 1, 23, 16, 8, 17, 36, 1, 4, 18, 17, 26, 1, 8, 22, 26, 1, 22, 26, 19, 1, 4, 10, 8, 22, 26, 1, 19, 10, 26, 1, 12, 7, 17, 17, 1, 14, 17, 2, 1, 19, 17, 8, 1, 12, 10, 1, 8, 22, 7, 7, 2, 36], '200630-104544_pcm_9fa_elicit_1': [3, 17, 10, 3, 5, 17, 1, 19, 17, 2, 1, 23, 22, 21, 17, 1, 22, 8, 1, 5, 16, 21, 17, 1, 14, 17, 2, 1, 1, 19, 17, 8, 1, 19, 10, 26, 1, 22, 5, 7, 17, 22, 19, 2, 1, 8, 22, 7, 7, 2, 20], '200630-104544_pcm_9fa_elicit_2': [11, 10, 1, 16, 15, 1, 19, 17, 8, 1, 25, 18, 10, 10, 14, 17, 1, 14, 17, 2, 1, 19, 17, 8, 1, 26, 10, 1, 4, 22, 26, 23, 1, 8, 22, 7, 7, 2, 1, 22, 12, 22, 16, 26, 36, 1, 19, 17, 8, 1, 12, 10, 1, 26, 17, 17, 19, 1, 23, 10, 1, 19, 16, 38, 10, 7, 25, 17, 20], '200630-104544_pcm_9fa_elicit_3': [6, 10, 14, 17, 3, 18, 1, 14, 23, 16, 5, 5, 1, 19, 17, 2, 1, 23, 18, 16, 26, 21, 1, 22, 9, 10, 13, 23, 1, 23, 18, 16, 14, 1, 8, 22, 23, 23, 17, 7, 1, 4, 18, 17, 26, 1, 14, 5, 17, 17, 3, 1, 25, 22, 7, 7, 2, 1, 22, 8, 20, 1, 40, 14, 1, 17, 1, 19, 17, 2, 1, 14, 5, 17, 17, 3, 36], '200630-104544_pcm_9fa_elicit_4': [6, 17, 18, 10, 38, 22, 18, 1, 22, 26, 12, 17, 5, 1, 22, 3, 3, 17, 22, 7, 1, 23, 10, 1, 22, 8, 1, 15, 10, 7, 1, 19, 7, 17, 22, 8, 36, 1, 25, 10, 8, 17, 1, 23, 17, 5, 5, 1, 22, 8, 1, 14, 17, 2, 27, 1, 37, 42, 10, 1, 15, 17, 22, 7, 1, 23, 10, 1, 23, 22, 21, 17, 1, 24, 22, 7, 2, 1, 2, 10, 13, 7, 1, 4, 16, 15, 17, 1, 12, 10, 1, 18, 10, 13, 14, 17, 36], '200630-104544_pcm_9fa_elicit_5': [9, 17, 25, 22, 13, 14, 17, 1, 26, 22, 1, 18, 10, 5, 2, 1, 14, 3, 16, 7, 16, 23, 1, 8, 22, 21, 17, 1, 22, 8, 1, 12, 17, 23, 1, 23, 18, 17, 1, 9, 17, 5, 5, 17, 20, 1, 42, 22, 1, 9, 10, 2, 1, 17, 1, 12, 10, 1, 9, 10, 7, 26, 36, 1, 8, 22, 21, 17, 1, 2, 10, 13, 1, 26, 22, 8, 17, 1, 22, 8, 1, 6, 17, 14, 13, 14, 36], '200630-104544_pcm_9fa_elicit_6': [9, 17, 25, 22, 13, 14, 17, 1, 26, 22, 1, 16, 8, 1, 12, 10, 1, 14, 22, 38, 17, 1, 16, 8, 1, 3, 17, 10, 3, 5, 17, 1, 15, 7, 10, 8, 1, 22, 5, 5, 1, 23, 18, 17, 16, 7, 1, 14, 16, 26, 20, 31, 24, 22, 23, 23, 18, 17, 4, 1, 61, 27, 43, 66, 36, 1, 43, 61, 20], '200630-104544_pcm_9fa_elicit_7': [40, 14, 1, 6, 10, 14, 17, 3, 18, 1, 4, 22, 21, 17, 1, 13, 3, 36, 1, 17, 1, 7, 17, 22, 5, 5, 2, 1, 18, 22, 3, 3, 2, 1, 14, 17, 2, 1, 23, 18, 17, 1, 8, 22, 23, 23, 17, 7, 1, 19, 10, 26, 1, 25, 5, 17, 22, 7, 1, 15, 16, 26, 16, 14, 18, 20], '200630-104544_pcm_9fa_elicit_8': [75, 13, 16, 25, 21, 1, 63, 13, 16, 25, 21, 36, 1, 17, 1, 19, 10, 1, 4, 17, 23, 16, 26, 1, 23, 18, 17, 1, 22, 26, 12, 17, 5, 1, 23, 17, 5, 5, 1, 22, 8, 20, 1, 28, 1, 25, 22, 7, 7, 2, 1, 24, 22, 7, 2, 1, 12, 10, 1, 16, 8, 1, 18, 10, 13, 14, 17, 20], '200630-104544_pcm_9fa_elicit_9': [46, 18, 16, 14, 1, 10, 26, 17, 1, 26, 22, 1, 23, 10, 1, 14, 18, 10, 4, 1, 17, 38, 17, 7, 2, 9, 10, 19, 2, 1, 14, 17, 2, 1, 23, 4, 10, 1, 10, 15, 1, 19, 17, 8, 1, 19, 10, 26, 1, 9, 17, 1, 18, 13, 14, 9, 22, 26, 19, 1, 22, 26, 19, 1, 4, 16, 15, 17, 36], '200630-104544_pcm_9fa_elicit_10': [9, 17, 25, 22, 13, 14, 17, 1, 26, 22, 1, 14, 10, 1, 19, 17, 8, 1, 19, 17, 2, 1, 19, 10, 1, 8, 22, 7, 7, 16, 22, 12, 17, 1, 23, 18, 22, 23, 1, 23, 16, 8, 17, 20, 1, 56, 13, 23, 1, 6, 10, 14, 17, 3, 18, 1, 26, 10, 1, 14, 5, 17, 17, 3, 1, 4, 16, 23, 18, 1, 24, 22, 7, 2, 1, 13, 26, 23, 16, 5, 1, 17, 1, 9, 10, 7, 26, 1, 6, 17, 14, 13, 14, 20], '200630-104544_pcm_9fa_elicit_11': [28, 1, 7, 17, 8, 22, 16, 26, 1, 14, 8, 22, 5, 5, 1, 23, 16, 8, 17, 1, 8, 22, 21, 17, 1, 24, 22, 7, 2, 1, 9, 10, 7, 26, 20, 1, 56, 13, 23, 1, 6, 10, 14, 17, 3, 18, 1, 22, 26, 19, 1, 24, 22, 7, 2, 1, 26, 17, 17, 19, 1, 23, 10, 1, 23, 7, 22, 38, 17, 5, 1, 25, 10, 8, 10, 23, 1, 15, 7, 10, 8, 1, 42, 22, 49, 22, 7, 17, 23, 18, 20], '200630-104544_pcm_9fa_elicit_12': [42, 10, 4, 1, 4, 17, 2, 1, 24, 22, 7, 2, 1, 4, 22, 26, 23, 1, 9, 10, 7, 26, 36, 1, 4, 18, 17, 7, 17, 1, 19, 17, 8, 1, 25, 10, 8, 17, 1, 19, 17, 2, 1, 12, 10, 52], '200630-104544_pcm_9fa_elicit_13': [44, 22, 17, 14, 22, 7, 1, 40, 13, 12, 13, 14, 23, 13, 14, 1, 4, 17, 2, 1, 9, 17, 1, 23, 18, 17, 1, 17, 8, 3, 17, 7, 10, 7, 1, 15, 10, 7, 1, 47, 10, 8, 17, 1, 19, 10, 26, 1, 23, 22, 5, 21, 1, 14, 17, 2, 1, 17, 38, 17, 7, 2, 9, 10, 19, 2, 1, 8, 13, 14, 23, 1, 7, 17, 12, 16, 14, 23, 17, 7, 20], '200630-104544_pcm_9fa_elicit_14': [11, 10, 1, 6, 10, 14, 17, 3, 18, 1, 22, 26, 19, 1, 24, 22, 7, 2, 1, 26, 17, 17, 19, 1, 23, 10, 1, 23, 7, 22, 38, 17, 5, 1, 12, 10, 1, 56, 17, 23, 18, 5, 17, 18, 17, 8, 1, 4, 17, 2, 1, 19, 17, 2, 1, 23, 18, 17, 1, 14, 10, 13, 23, 18, 1, 3, 22, 7, 23, 1, 10, 15, 1, 6, 17, 7, 13, 14, 22, 5, 17, 8, 36, 1, 9, 17, 25, 22, 13, 14, 17, 1, 26, 22, 1, 23, 18, 17, 7, 17, 1, 19, 17, 8, 1, 9, 10, 7, 26, 1, 6, 10, 14, 17, 3, 18, 20], '200630-104544_pcm_9fa_elicit_15': [53, 5, 17, 26, 23, 2, 1, 3, 17, 10, 3, 5, 17, 1, 25, 10, 8, 17, 1, 7, 17, 12, 16, 14, 23, 17, 7, 1, 15, 10, 7, 1, 56, 17, 23, 18, 5, 17, 18, 17, 8, 20, 1, 46, 18, 17, 1, 10, 26, 5, 2, 1, 3, 5, 22, 25, 17, 1, 4, 17, 2, 1, 7, 17, 8, 22, 16, 26, 1, 15, 10, 7, 1, 6, 10, 14, 17, 3, 18], '200630-104544_pcm_9fa_elicit_16': [22, 26, 19, 1, 24, 22, 7, 2, 1, 23, 10, 1, 14, 23, 22, 2, 1, 26, 22, 1, 4, 18, 17, 7, 17, 1, 19, 17, 8, 1, 19, 17, 2, 1, 21, 17, 17, 3, 1, 19, 10, 26, 21, 17, 2, 1, 22, 26, 19, 1, 10, 23, 18, 17, 7, 1, 22, 26, 16, 8, 22, 5, 20], '200630-104544_pcm_9fa_elicit_17': [42, 22, 1, 23, 18, 17, 7, 17, 1, 24, 22, 7, 2, 1, 9, 10, 7, 26, 1, 6, 17, 14, 13, 14, 20, 1, 28, 1, 13, 14, 17, 1, 25, 5, 10, 23, 18, 1, 4, 7, 22, 3, 1, 6, 17, 14, 13, 14, 36, 1, 25, 10, 8, 17, 1, 3, 13, 23, 1, 22, 8, 1, 15, 10, 7, 1, 16, 26, 14, 16, 19, 17, 1, 23, 18, 17, 1, 25, 10, 26, 23, 22, 16, 26, 17, 7, 1, 4, 17, 2, 1, 19, 17, 8, 1, 19, 17, 2, 1, 3, 13, 23, 1, 22, 26, 16, 8, 22, 5, 1, 15, 10, 10, 19, 20], '200630-104544_pcm_9fa_elicit_18': [28, 1, 15, 16, 23, 1, 9, 17, 1, 14, 17, 2, 1, 26, 22, 1, 51, 10, 19, 1, 3, 13, 23, 1, 22, 8, 1, 15, 10, 7, 1, 44, 22, 17, 14, 22, 7, 1, 40, 13, 12, 13, 14, 23, 13, 14, 1, 8, 16, 26, 19, 36, 1, 8, 22, 21, 17, 1, 17, 1, 3, 13, 23, 1, 23, 18, 17, 1, 5, 22, 4, 1, 14, 17, 2, 1, 17, 38, 17, 7, 2, 9, 10, 19, 2, 1, 8, 13, 14, 23, 1, 7, 17, 12, 16, 14, 23, 17, 7, 20], '200630-104544_pcm_9fa_elicit_19': [50, 18, 2, 1, 4, 17, 1, 23, 22, 5, 21, 1, 5, 16, 21, 17, 1, 23, 18, 22, 23, 52, 1, 56, 17, 25, 22, 13, 14, 17, 1, 26, 22, 1, 23, 18, 16, 14, 1, 5, 22, 4, 1, 8, 22, 21, 17, 1, 24, 22, 7, 2, 1, 9, 10, 7, 26, 1, 6, 17, 14, 13, 14, 1, 15, 10, 7, 1, 56, 17, 23, 18, 5, 17, 18, 17, 8, 1, 4, 17, 2, 1, 9, 17, 1, 23, 18, 17, 1, 23, 10, 4, 26, 1, 4, 17, 2, 1, 58, 16, 26, 12, 1, 39, 22, 38, 16, 19, 1, 25, 10, 8, 17, 1, 15, 7, 10, 8, 20], '200630-104544_pcm_9fa_elicit_20': [51, 10, 19, 1, 50, 10, 7, 19, 1, 19, 10, 26, 1, 23, 22, 5, 21, 1, 22, 8, 1, 23, 17, 2, 1, 23, 17, 2, 1, 14, 17, 2, 1, 26, 22, 1, 15, 10, 7, 1, 56, 17, 23, 18, 5, 17, 18, 17, 8, 1, 19, 17, 8, 1, 12, 10, 1, 9, 10, 7, 26, 1, 23, 18, 17, 1, 58, 16, 26, 12, 1, 4, 17, 2, 1, 51, 10, 19, 1, 19, 10, 26, 1, 3, 7, 10, 8, 16, 14, 17, 1, 14, 17, 2, 1, 12, 10, 1, 25, 10, 8, 17, 20, 24, 16, 25, 22, 18, 1, 65, 27, 43, 20], '200630-104544_pcm_9fa_elicit_21': [46, 18, 16, 14, 1, 26, 16, 12, 18, 23, 1, 4, 17, 2, 1, 19, 17, 8, 1, 9, 10, 7, 26, 1, 6, 17, 14, 13, 14, 1, 26, 22, 1, 16, 8, 3, 10, 7, 23, 22, 26, 23, 1, 26, 16, 12, 18, 23, 67], '200630-104544_pcm_9fa_elicit_22': [11, 10, 8, 17, 1, 14, 18, 17, 3, 18, 17, 7, 19, 1, 19, 17, 2, 1, 10, 13, 23, 14, 16, 19, 17, 1, 19, 17, 2, 1, 25, 22, 7, 17, 1, 15, 10, 7, 1, 23, 18, 17, 16, 7, 1, 22, 26, 16, 8, 22, 5, 1, 4, 18, 17, 26, 1, 10, 26, 17, 1, 9, 7, 16, 12, 18, 23, 1, 5, 16, 12, 18, 23, 1, 14, 18, 16, 26, 17, 1, 15, 10, 7, 1, 23, 18, 17, 16, 7, 1, 9, 10, 19, 2, 20], '200630-104544_pcm_9fa_elicit_23': [46, 18, 17, 1, 5, 16, 12, 18, 23, 1, 26, 22, 1, 15, 7, 10, 8, 1, 6, 17, 18, 10, 38, 22, 18, 20, 1, 55, 26, 17, 1, 22, 26, 12, 17, 5, 1, 23, 17, 5, 5, 1, 23, 18, 17, 1, 3, 17, 10, 3, 5, 17, 1, 14, 17, 2, 27, 1, 37, 24, 22, 21, 17, 1, 13, 26, 22, 1, 26, 10, 1, 15, 17, 22, 7, 36, 1, 9, 17, 25, 22, 13, 14, 17, 1, 34, 1, 9, 7, 16, 26, 12, 1, 12, 10, 10, 19, 1, 26, 17, 4, 14, 1, 4, 17, 2, 1, 12, 10, 1, 8, 22, 21, 17, 1, 17, 38, 17, 7, 2, 9, 10, 19, 2, 1, 18, 22, 3, 3, 2, 20], '200630-104544_pcm_9fa_elicit_24': [46, 10, 19, 22, 2, 1, 15, 10, 7, 1, 39, 22, 38, 16, 19, 1, 25, 16, 23, 2, 36, 1, 19, 17, 8, 1, 19, 10, 26, 1, 9, 10, 7, 26, 1, 10, 26, 17, 1, 3, 17, 7, 14, 10, 26, 1, 4, 17, 2, 1, 12, 10, 1, 14, 22, 38, 17, 1, 3, 17, 10, 3, 5, 17, 20, 1, 42, 22, 1, 16, 8, 1, 9, 17, 1, 44, 18, 7, 16, 14, 23, 1, 23, 18, 17, 1, 57, 10, 7, 19, 20], '200630-104544_pcm_9fa_elicit_25': [42, 22, 1, 23, 18, 16, 14, 1, 14, 16, 12, 26, 1, 13, 26, 22, 1, 12, 10, 1, 23, 22, 21, 17, 1, 21, 26, 10, 4, 27, 1, 73, 26, 22, 1, 12, 10, 1, 14, 17, 17, 1, 14, 8, 22, 5, 5, 1, 3, 16, 21, 16, 26, 1, 4, 17, 2, 1, 19, 17, 8, 1, 4, 7, 22, 3, 1, 4, 16, 23, 18, 1, 25, 5, 10, 23, 18, 36], '200630-104544_pcm_9fa_elicit_27': [56, 17, 15, 10, 7, 17, 1, 19, 17, 8, 1, 21, 26, 10, 4, 36, 1, 3, 5, 17, 26, 23, 2, 1, 22, 26, 12, 17, 5, 1, 22, 3, 3, 17, 22, 7, 1, 25, 10, 8, 17, 1, 9, 17, 12, 16, 26, 1, 23, 22, 5, 21, 1, 14, 17, 2, 27], '200630-104544_pcm_9fa_elicit_28': [37, 24, 22, 21, 17, 1, 23, 18, 17, 1, 51, 10, 19, 1, 4, 17, 2, 1, 19, 17, 2, 1, 5, 16, 38, 17, 1, 15, 10, 7, 1, 23, 18, 17, 1, 3, 5, 22, 25, 17, 1, 4, 17, 2, 1, 18, 16, 12, 18, 1, 3, 22, 14, 14, 1, 12, 17, 23, 1, 23, 18, 17, 1, 12, 5, 10, 7, 2, 36], '200630-104544_pcm_9fa_elicit_29': [22, 26, 19, 1, 15, 10, 7, 1, 23, 18, 16, 14, 1, 17, 22, 7, 23, 18, 36, 1, 8, 22, 21, 17, 1, 3, 17, 10, 3, 5, 17, 1, 4, 17, 2, 1, 19, 17, 2, 1, 8, 22, 21, 17, 1, 51, 10, 19, 1, 18, 22, 3, 3, 2, 1, 12, 17, 23, 1, 3, 17, 22, 25, 17, 20, 31, 57, 13, 21, 17, 1, 43, 27, 61, 66, 62, 61, 29, 20], '200630-104544_pcm_9fa_elicit_30': [50, 18, 17, 26, 1, 23, 18, 17, 1, 22, 26, 12, 17, 5, 14, 1, 19, 10, 26, 1, 25, 10, 8, 10, 23, 36, 1, 22, 5, 5, 1, 23, 18, 17, 1, 14, 18, 17, 3, 18, 17, 7, 19, 1, 25, 10, 8, 17, 1, 14, 23, 22, 7, 23, 1, 23, 10, 1, 23, 17, 5, 5, 1, 17, 22, 25, 18, 1, 10, 23, 18, 17, 7, 1, 14, 17, 2, 27], '200630-104544_pcm_9fa_elicit_31': [37, 24, 22, 21, 17, 1, 4, 17, 1, 26, 10, 1, 4, 22, 14, 23, 17, 1, 23, 16, 8, 17, 1, 12, 10, 1, 56, 17, 23, 18, 5, 17, 18, 17, 8, 36, 1, 8, 22, 21, 17, 1, 4, 17, 1, 12, 10, 1, 14, 17, 17, 1, 4, 17, 23, 16, 26, 1, 6, 17, 18, 10, 38, 22, 18, 1, 23, 17, 5, 5, 1, 13, 14, 1, 14, 17, 2, 1, 18, 22, 3, 3, 17, 26, 20], '200630-104544_pcm_9fa_elicit_33': [50, 18, 17, 26, 1, 23, 18, 17, 1, 14, 18, 17, 3, 18, 17, 7, 19, 1, 23, 17, 5, 5, 1, 23, 18, 17, 1, 3, 17, 10, 3, 5, 17, 1, 4, 17, 2, 1, 19, 17, 2, 1, 23, 18, 17, 7, 17, 1, 23, 18, 17, 1, 14, 23, 10, 7, 2, 36, 1, 19, 17, 8, 1, 25, 10, 8, 17, 1, 9, 17, 12, 16, 26, 1, 4, 10, 26, 19, 17, 7, 20], '200630-104544_pcm_9fa_elicit_35': [46, 10, 19, 22, 2, 36, 1, 8, 22, 26, 2, 1, 3, 17, 10, 3, 5, 17, 1, 9, 17, 5, 16, 17, 38, 17, 1, 14, 17, 2, 1, 26, 22, 1, 39, 17, 25, 17, 8, 9, 17, 7, 1, 43, 65, 1, 19, 17, 8, 1, 9, 10, 7, 26, 1, 6, 17, 14, 13, 14, 20], '200630-104544_pcm_9fa_elicit_36': [56, 13, 23, 1, 15, 10, 7, 1, 56, 17, 23, 18, 5, 17, 18, 17, 8, 1, 23, 18, 22, 23, 1, 23, 16, 8, 17, 36, 1, 39, 17, 25, 17, 8, 9, 17, 7, 1, 26, 22, 1, 7, 22, 16, 26, 2, 1, 14, 17, 22, 14, 10, 26, 36, 1, 22, 26, 19, 1, 25, 10, 5, 19, 1, 19, 17, 2, 20, 1, 11, 10, 8, 17, 23, 16, 8, 17, 14, 36, 1, 14, 26, 10, 4, 1, 17, 38, 17, 26, 1, 19, 17, 2, 1, 15, 22, 5, 5, 20], '200630-104544_pcm_9fa_elicit_37': [11, 10, 1, 23, 18, 22, 23, 1, 23, 16, 8, 17, 36, 1, 15, 10, 7, 1, 39, 17, 25, 17, 8, 9, 17, 7, 36, 1, 14, 18, 17, 3, 18, 17, 7, 19, 14, 1, 26, 10, 1, 19, 17, 2, 1, 7, 17, 22, 5, 5, 2, 1, 15, 16, 23, 1, 25, 22, 7, 7, 2, 1, 23, 18, 17, 16, 7, 1, 22, 26, 16, 8, 22, 5, 1, 12, 10, 1, 10, 13, 23, 14, 16, 19, 17, 1, 15, 10, 7, 1, 26, 16, 12, 18, 23, 20], '200630-104544_pcm_9fa_elicit_38': [40, 26, 10, 23, 18, 17, 7, 1, 23, 18, 16, 26, 12, 1, 9, 17, 1, 14, 17, 2, 1, 22, 14, 1, 6, 17, 4, 1, 3, 17, 10, 3, 5, 17, 1, 26, 10, 1, 18, 22, 3, 3, 2, 1, 4, 16, 23, 18, 1, 23, 18, 17, 1, 17, 8, 3, 17, 7, 10, 7, 36], '200630-104544_pcm_9fa_elicit_39': [17, 1, 15, 16, 23, 1, 26, 10, 1, 25, 10, 8, 17, 1, 16, 8, 1, 8, 16, 26, 19, 1, 23, 10, 1, 23, 17, 5, 5, 1, 19, 17, 8, 1, 14, 17, 2, 1, 8, 22, 21, 17, 1, 19, 17, 8, 1, 12, 10, 1, 7, 17, 12, 16, 14, 23, 17, 7, 1, 15, 10, 7, 1, 7, 22, 16, 26, 2, 1, 14, 17, 22, 14, 10, 26, 36], '200630-104544_pcm_9fa_elicit_40': [9, 17, 25, 22, 13, 14, 17, 1, 23, 18, 22, 23, 1, 10, 26, 17, 1, 15, 16, 23, 1, 25, 22, 13, 14, 17, 1, 4, 22, 18, 22, 5, 22, 20, 1, 46, 18, 16, 26, 12, 14, 1, 4, 17, 2, 1, 18, 22, 3, 3, 17, 26, 1, 14, 18, 10, 4, 1, 14, 17, 2, 1, 26, 22, 1, 55, 25, 23, 10, 9, 17, 7, 1, 19, 17, 8, 1, 9, 10, 7, 26, 1, 6, 17, 14, 13, 14, 20], '200630-104544_pcm_9fa_elicit_41': [6, 10, 14, 17, 3, 18, 1, 22, 26, 19, 1, 24, 22, 7, 2, 1, 26, 10, 1, 12, 10, 1, 9, 22, 25, 21, 1, 23, 10, 1, 42, 22, 49, 22, 7, 17, 23, 18, 20, 1, 39, 17, 8, 1, 14, 23, 22, 2, 1, 15, 10, 7, 1, 56, 17, 23, 18, 5, 17, 18, 17, 8, 20, 1, 51, 10, 19, 1, 25, 10, 8, 8, 22, 26, 19, 1, 34, 14, 7, 22, 17, 5, 1, 3, 17, 10, 3, 5, 17, 1, 14, 17, 2, 36], '200630-104544_pcm_9fa_elicit_42': [16, 15, 1, 19, 17, 8, 1, 9, 10, 7, 26, 1, 9, 10, 2, 36, 1, 19, 17, 8, 1, 8, 13, 14, 23, 1, 25, 16, 7, 25, 13, 8, 25, 16, 14, 17, 1, 22, 8, 1, 4, 18, 17, 26, 1, 17, 1, 7, 17, 22, 25, 18, 1, 17, 16, 12, 18, 23, 1, 19, 22, 2, 14, 20], '200630-104544_pcm_9fa_elicit_43': [11, 10, 1, 4, 18, 17, 26, 1, 6, 17, 14, 13, 14, 1, 7, 17, 22, 25, 18, 1, 17, 16, 12, 18, 23, 1, 19, 22, 2, 14, 36, 1, 19, 17, 8, 1, 25, 16, 7, 25, 13, 8, 25, 16, 14, 17, 1, 22, 8, 20], '200630-104544_pcm_9fa_elicit_45': [11, 10, 1, 19, 17, 8, 1, 26, 22, 8, 17, 1, 22, 8, 1, 6, 17, 14, 13, 14, 1, 22, 14, 1, 22, 26, 12, 17, 5, 1, 51, 22, 9, 7, 16, 17, 5, 1, 19, 10, 26, 1, 15, 16, 7, 14, 23, 1, 23, 17, 5, 5, 1, 19, 17, 8, 20], '200630-104544_pcm_9fa_elicit_46': [50, 18, 17, 26, 1, 6, 17, 14, 13, 14, 1, 7, 17, 22, 25, 18, 1, 29, 66, 1, 19, 22, 2, 14, 36, 1, 16, 8, 1, 3, 22, 3, 22, 1, 22, 26, 19, 1, 8, 22, 8, 22, 1, 25, 22, 7, 7, 2, 1, 22, 8, 1, 12, 10, 1, 23, 18, 17, 1, 23, 17, 8, 3, 5, 17, 1, 4, 17, 2, 1, 19, 17, 2, 1, 6, 17, 7, 13, 14, 22, 5, 17, 8, 20], '200630-104544_pcm_9fa_elicit_47': [46, 18, 17, 1, 23, 17, 8, 3, 5, 17, 1, 26, 10, 1, 23, 10, 10, 1, 15, 22, 7, 1, 15, 7, 10, 8, 1, 4, 18, 17, 7, 17, 1, 19, 17, 8, 1, 19, 17, 2, 1, 14, 23, 22, 2, 20, 1, 46, 18, 17, 1, 57, 22, 4, 1, 23, 22, 5, 21, 1, 14, 17, 2, 1, 4, 18, 17, 26, 1, 22, 26, 2, 1, 4, 10, 8, 22, 26, 1, 9, 10, 7, 26, 1, 9, 10, 2, 36], '200630-104544_pcm_9fa_elicit_48': [17, 1, 8, 13, 14, 23, 1, 25, 10, 8, 17, 1, 23, 17, 8, 3, 5, 17, 1, 22, 15, 23, 17, 7, 1, 29, 66, 1, 19, 22, 2, 14, 36, 1, 22, 26, 19, 1, 17, 1, 12, 10, 1, 8, 22, 21, 17, 1, 14, 22, 25, 7, 16, 15, 16, 25, 17, 1, 23, 10, 1, 6, 17, 18, 10, 38, 22, 18, 1, 14, 10, 1, 23, 18, 22, 23, 1, 17, 1, 12, 10, 1, 19, 17, 2, 1, 25, 5, 17, 22, 26, 20, 57, 17, 38, 16, 23, 16, 25, 13, 14, 1, 61, 43, 27, 29, 62, 64, 20], '200630-113925_pcm_9fa_elicit_0': [6, 10, 14, 17, 3, 18, 1, 14, 17, 17, 1, 6, 17, 18, 10, 38, 22, 18, 1, 22, 26, 12, 17, 5, 1, 15, 10, 7, 1, 19, 7, 17, 22, 8, 36, 1, 23, 18, 17, 1, 22, 26, 12, 17, 5, 1, 23, 17, 5, 5, 1, 22, 8, 1, 14, 10, 8, 17, 23, 18, 16, 26, 12, 1, 4, 17, 2, 1, 17, 1, 12, 10, 1, 26, 17, 17, 19, 1, 23, 10, 1, 19, 10, 1, 63, 13, 16, 25, 21, 1, 63, 13, 16, 25, 21, 20], '200630-113925_pcm_9fa_elicit_1': [28, 1, 23, 17, 5, 5, 1, 22, 8, 1, 14, 17, 2, 27, 1, 37, 51, 17, 23, 1, 13, 3, 36, 1, 25, 22, 7, 7, 2, 1, 23, 18, 17, 1, 14, 8, 22, 5, 5, 1, 3, 16, 21, 16, 26, 1, 22, 26, 19, 1, 16, 8, 1, 8, 22, 8, 22, 36, 1, 8, 22, 21, 17, 1, 13, 26, 22, 1, 7, 13, 26, 1, 12, 10, 1, 28, 12, 2, 3, 23, 36], '200630-113925_pcm_9fa_elicit_2': [8, 22, 21, 17, 1, 2, 10, 13, 1, 14, 23, 22, 2, 1, 23, 18, 17, 7, 17, 1, 13, 26, 23, 16, 5, 1, 34, 1, 23, 17, 5, 5, 1, 2, 10, 13, 1, 4, 17, 23, 16, 26, 1, 2, 10, 13, 1, 12, 10, 1, 19, 10, 36, 1, 9, 17, 25, 22, 13, 14, 17, 1, 54, 17, 7, 10, 19, 1, 12, 10, 1, 14, 10, 10, 26, 1, 19, 17, 2, 1, 5, 10, 10, 21, 1, 15, 10, 7, 1, 23, 18, 17, 1, 3, 16, 21, 16, 26, 1, 8, 22, 21, 17, 1, 17, 1, 21, 16, 5, 5, 1, 22, 8, 20], '200630-113925_pcm_9fa_elicit_3': [31, 1, 33, 24, 22, 23, 23, 18, 17, 4, 1, 43, 27, 61, 35, 30, 1, 40, 14, 1, 6, 10, 14, 17, 3, 18, 1, 4, 22, 21, 17, 1, 13, 3, 36, 1, 17, 1, 4, 22, 21, 17, 1, 24, 22, 7, 2, 36, 1, 25, 10, 8, 17, 1, 23, 17, 5, 5, 1, 22, 8, 1, 4, 17, 23, 16, 26, 1, 23, 18, 17, 1, 22, 26, 12, 17, 5, 1, 23, 22, 5, 21, 20], '200630-113925_pcm_9fa_elicit_4': [6, 10, 14, 17, 3, 18, 1, 22, 26, 19, 1, 24, 22, 7, 2, 1, 25, 22, 7, 7, 2, 1, 23, 18, 17, 16, 7, 1, 3, 16, 21, 16, 26, 1, 7, 13, 26, 1, 12, 10, 1, 28, 12, 2, 3, 23, 1, 23, 18, 22, 23, 1, 26, 16, 12, 18, 23, 36, 1, 19, 17, 8, 1, 26, 10, 1, 4, 22, 14, 23, 17, 1, 23, 16, 8, 17, 20, 1, 42, 22, 1, 23, 18, 17, 1, 25, 10, 7, 7, 17, 25, 23, 1, 23, 16, 8, 17, 1, 19, 17, 8, 1, 7, 13, 26, 36], '200630-113925_pcm_9fa_elicit_5': [9, 17, 25, 22, 13, 14, 17, 1, 54, 17, 7, 10, 19, 1, 19, 10, 26, 1, 21, 26, 10, 4, 1, 14, 17, 2, 1, 23, 18, 17, 1, 22, 14, 23, 7, 10, 5, 10, 12, 17, 7, 14, 1, 19, 10, 26, 1, 3, 22, 14, 14, 1, 22, 26, 10, 23, 18, 17, 7, 1, 7, 10, 22, 19, 1, 12, 10, 1, 18, 10, 13, 14, 17, 20], '200630-113925_pcm_9fa_elicit_6': [28, 1, 23, 17, 5, 5, 1, 19, 17, 8, 1, 14, 17, 2, 1, 8, 22, 21, 17, 1, 19, 17, 8, 1, 25, 10, 8, 17, 1, 23, 17, 5, 5, 1, 22, 8, 1, 4, 18, 17, 7, 17, 1, 23, 18, 17, 1, 3, 16, 21, 16, 26, 1, 19, 17, 2, 36, 1, 9, 13, 23, 1, 19, 17, 8, 1, 26, 10, 1, 12, 10, 20, 1, 28, 1, 38, 17, 45, 1, 26, 10, 1, 9, 17, 1, 14, 8, 22, 5, 5, 20], '200630-113925_pcm_9fa_elicit_8': [50, 18, 17, 23, 18, 17, 7, 1, 19, 17, 8, 1, 19, 17, 2, 1, 56, 17, 23, 18, 5, 17, 18, 17, 8, 1, 10, 7, 1, 23, 18, 17, 1, 22, 7, 17, 22, 1, 4, 17, 2, 1, 26, 17, 22, 7, 1, 22, 8, 20, 1, 28, 1, 23, 17, 5, 5, 1, 19, 17, 8, 1, 15, 7, 10, 8, 1, 23, 4, 10, 1, 2, 17, 22, 7, 14, 1, 25, 10, 8, 17, 1, 19, 10, 4, 26, 36], '200630-113925_pcm_9fa_elicit_9': [9, 17, 25, 22, 13, 14, 17, 1, 4, 17, 23, 16, 26, 1, 23, 18, 17, 1, 22, 14, 23, 7, 10, 5, 10, 12, 17, 7, 14, 1, 23, 22, 5, 21, 1, 14, 18, 10, 4, 1, 14, 17, 2, 1, 23, 18, 17, 1, 3, 16, 21, 16, 26, 1, 14, 13, 3, 3, 10, 14, 17, 1, 19, 17, 2, 1, 22, 7, 10, 13, 26, 19, 1, 23, 18, 22, 23, 1, 22, 12, 17, 20], '200630-113925_pcm_9fa_elicit_10': [42, 22, 1, 7, 17, 22, 5, 5, 2, 1, 4, 16, 25, 21, 17, 19, 1, 23, 18, 16, 26, 12, 1, 54, 17, 7, 10, 19, 1, 19, 10, 1, 22, 14, 1, 17, 1, 21, 16, 5, 5, 1, 22, 5, 5, 1, 23, 18, 16, 14, 1, 9, 10, 2, 14, 67, 1, 50, 17, 1, 26, 10, 1, 21, 26, 10, 4, 1, 18, 10, 4, 1, 8, 22, 26, 2, 1, 9, 10, 2, 14, 1, 19, 17, 8, 1, 21, 16, 5, 5, 20], '200630-113925_pcm_9fa_elicit_11': [46, 18, 17, 1, 21, 16, 26, 19, 1, 25, 7, 2, 1, 4, 17, 2, 1, 23, 18, 17, 1, 9, 10, 2, 14, 1, 8, 22, 8, 22, 1, 25, 7, 2, 1, 8, 22, 23, 25, 18, 1, 4, 17, 23, 16, 26, 1, 3, 7, 10, 3, 18, 17, 23, 1, 6, 17, 7, 17, 8, 16, 22, 18, 1, 23, 22, 5, 21, 1, 15, 10, 7, 1, 56, 16, 9, 5, 17, 20, 6, 17, 7, 17, 8, 16, 22, 18, 1, 35, 61, 27, 61, 65, 20], '200630-113925_pcm_9fa_elicit_12': [56, 2, 1, 26, 10, 4, 36, 1, 6, 10, 14, 17, 3, 18, 1, 22, 26, 19, 1, 16, 8, 1, 15, 22, 8, 16, 5, 2, 1, 19, 10, 26, 1, 7, 13, 26, 1, 12, 10, 1, 28, 12, 2, 3, 23, 36, 1, 22, 26, 19, 1, 26, 22, 1, 23, 18, 17, 7, 17, 1, 19, 17, 8, 1, 25, 10, 8, 17, 1, 19, 17, 2, 1, 14, 23, 22, 2, 20], '200630-113925_pcm_9fa_elicit_13': [55, 26, 17, 1, 26, 16, 12, 18, 23, 36, 1, 6, 10, 14, 17, 3, 18, 1, 14, 17, 17, 1, 6, 17, 18, 10, 38, 22, 18, 1, 22, 26, 12, 17, 5, 1, 15, 10, 7, 1, 19, 7, 17, 22, 8, 1, 22, 12, 22, 16, 26, 20, 1, 28, 1, 23, 17, 5, 5, 1, 6, 10, 14, 17, 3, 18, 1, 14, 17, 2, 27], '200630-113925_pcm_9fa_elicit_14': [37, 51, 17, 23, 1, 13, 3, 36, 1, 25, 22, 7, 7, 2, 1, 23, 18, 17, 1, 3, 16, 21, 16, 26, 1, 22, 26, 19, 1, 16, 8, 1, 8, 22, 8, 22, 36, 1, 8, 22, 21, 17, 1, 13, 26, 22, 1, 12, 10, 1, 23, 18, 17, 1, 5, 22, 26, 19, 1, 10, 15, 1, 34, 14, 7, 22, 17, 5, 36], '200630-113925_pcm_9fa_elicit_15': [9, 17, 25, 22, 13, 14, 17, 1, 23, 18, 17, 1, 3, 17, 10, 3, 5, 17, 1, 4, 17, 2, 1, 4, 22, 26, 23, 1, 21, 16, 5, 5, 1, 23, 18, 17, 1, 3, 16, 21, 16, 26, 1, 19, 10, 26, 1, 19, 16, 17, 20], '200630-113925_pcm_9fa_elicit_16': [31, 1, 33, 24, 22, 23, 23, 18, 17, 4, 1, 43, 27, 43, 66, 30, 1, 42, 10, 4, 1, 6, 10, 14, 17, 3, 18, 1, 19, 10, 26, 1, 7, 17, 22, 19, 2, 1, 23, 10, 1, 12, 10, 1, 9, 22, 25, 21, 1, 23, 10, 1, 4, 18, 17, 7, 17, 1, 19, 17, 8, 1, 25, 10, 8, 17, 1, 15, 7, 10, 8, 20], '200630-113925_pcm_9fa_elicit_17': [46, 18, 16, 14, 1, 10, 26, 17, 1, 14, 23, 16, 5, 5, 1, 8, 22, 21, 17, 1, 22, 26, 10, 23, 18, 17, 7, 1, 23, 18, 16, 26, 12, 1, 4, 17, 2, 1, 56, 16, 9, 5, 17, 1, 23, 22, 5, 21, 1, 18, 22, 3, 3, 17, 26, 36, 1, 14, 17, 2, 1, 51, 10, 19, 1, 11, 10, 26, 1, 12, 10, 1, 25, 10, 8, 17, 1, 10, 13, 23, 1, 15, 7, 10, 8, 1, 28, 12, 2, 3, 23, 20, 54, 10, 14, 17, 22, 1, 61, 61, 27, 61, 20], '200630-113925_pcm_9fa_elicit_18': [28, 1, 15, 16, 23, 1, 9, 17, 1, 14, 17, 2, 1, 4, 17, 23, 16, 26, 1, 19, 17, 2, 1, 6, 10, 14, 17, 3, 18, 1, 8, 16, 26, 19, 1, 26, 22, 1, 23, 10, 1, 12, 10, 1, 9, 22, 25, 21, 1, 23, 10, 1, 6, 13, 19, 17, 22, 36], '200630-113925_pcm_9fa_elicit_19': [4, 18, 17, 7, 17, 1, 19, 17, 8, 1, 19, 17, 2, 1, 5, 16, 38, 17, 1, 9, 17, 15, 10, 7, 17, 1, 19, 17, 8, 1, 12, 10, 1, 28, 12, 2, 3, 23, 20, 1, 46, 18, 16, 14, 1, 3, 5, 22, 25, 17, 1, 26, 17, 22, 7, 1, 56, 17, 23, 18, 5, 17, 18, 17, 8, 20], '200630-113925_pcm_9fa_elicit_20': [56, 13, 23, 1, 17, 1, 25, 10, 8, 17, 1, 18, 17, 22, 7, 1, 14, 17, 2, 1, 26, 22, 1, 54, 17, 7, 10, 19, 1, 4, 16, 25, 21, 17, 19, 1, 3, 16, 21, 16, 26, 1, 4, 17, 2, 1, 16, 8, 1, 26, 22, 8, 17, 1, 26, 22, 1, 40, 7, 25, 18, 17, 5, 22, 13, 14, 1, 9, 17, 1, 21, 16, 26, 12, 1, 15, 10, 7, 1, 6, 13, 19, 17, 22, 20], '200630-113925_pcm_9fa_elicit_21': [48, 10, 7, 1, 22, 26, 10, 23, 18, 17, 7, 1, 19, 7, 17, 22, 8, 36, 1, 51, 10, 19, 1, 4, 22, 7, 26, 1, 6, 10, 14, 17, 3, 18, 1, 22, 9, 10, 13, 23, 1, 4, 17, 23, 16, 26, 1, 15, 16, 23, 1, 18, 22, 3, 3, 17, 26, 1, 16, 15, 1, 17, 1, 12, 10, 1, 9, 22, 25, 21, 1, 23, 10, 1, 6, 13, 19, 17, 22, 20], '200630-113925_pcm_9fa_elicit_22': [42, 22, 1, 16, 8, 1, 8, 22, 21, 17, 1, 6, 10, 14, 17, 3, 18, 1, 22, 26, 19, 1, 16, 8, 1, 15, 22, 8, 16, 5, 2, 1, 12, 10, 1, 5, 16, 38, 17, 1, 15, 10, 7, 1, 42, 22, 49, 22, 7, 17, 23, 18, 36, 1, 10, 26, 17, 1, 15, 22, 7, 1, 22, 7, 17, 22, 1, 15, 10, 7, 1, 51, 22, 5, 16, 5, 17, 17, 20], '200630-113925_pcm_9fa_elicit_23': [11, 10, 1, 19, 17, 8, 1, 26, 10, 1, 14, 23, 22, 2, 1, 26, 17, 22, 7, 1, 23, 18, 17, 1, 22, 7, 17, 22, 1, 4, 18, 17, 7, 17, 1, 23, 18, 17, 1, 23, 17, 8, 3, 5, 17, 1, 19, 17, 2, 20], '200630-113925_pcm_9fa_elicit_24': [46, 18, 16, 14, 1, 10, 26, 17, 1, 14, 23, 16, 5, 5, 1, 8, 22, 23, 25, 18, 1, 22, 26, 10, 23, 18, 17, 7, 1, 23, 18, 16, 26, 12, 1, 4, 17, 2, 1, 56, 16, 9, 5, 17, 1, 23, 22, 5, 21, 36, 1, 14, 17, 2, 1, 37, 39, 17, 8, 1, 12, 10, 1, 25, 22, 5, 5, 1, 22, 8, 1, 42, 22, 49, 22, 7, 17, 23, 18, 1, 3, 17, 7, 14, 10, 26, 20, 31, 24, 22, 23, 23, 18, 17, 4, 1, 43, 27, 43, 35, 20], '200630-113925_pcm_9fa_elicit_25': [6, 17, 14, 13, 14, 1, 11, 23, 22, 2, 1, 15, 10, 7, 1, 42, 22, 49, 22, 7, 17, 23, 18, 1, 22, 14, 1, 28, 1, 39, 17, 2, 1, 51, 7, 10, 4], '200630-113925_pcm_9fa_elicit_26': [6, 17, 14, 13, 14, 1, 19, 10, 26, 1, 19, 17, 2, 1, 12, 7, 10, 4, 20, 1, 46, 18, 17, 1, 15, 22, 8, 16, 5, 2, 1, 19, 17, 2, 1, 5, 16, 38, 17, 1, 15, 10, 7, 1, 10, 26, 17, 1, 14, 8, 22, 5, 5, 1, 25, 16, 23, 2, 1, 4, 17, 2, 1, 19, 17, 8, 1, 19, 17, 2, 1, 25, 22, 5, 5, 1, 42, 22, 49, 22, 7, 17, 23, 18, 20], '200630-113925_pcm_9fa_elicit_27': [42, 22, 49, 22, 7, 17, 23, 18, 1, 19, 17, 2, 1, 23, 18, 17, 1, 26, 10, 7, 23, 18, 1, 14, 16, 19, 17, 1, 10, 15, 1, 6, 13, 19, 17, 22, 36, 1, 15, 10, 7, 1, 23, 18, 17, 1, 22, 7, 17, 22, 1, 4, 17, 2, 1, 19, 17, 8, 1, 19, 17, 2, 1, 25, 22, 5, 5, 1, 51, 22, 5, 16, 5, 17, 17, 20], '200630-113925_pcm_9fa_elicit_28': [46, 18, 17, 1, 3, 5, 22, 25, 17, 1, 19, 17, 2, 1, 10, 26, 23, 10, 3, 1, 18, 16, 5, 5, 36, 1, 22, 26, 19, 1, 17, 1, 19, 17, 2, 1, 23, 18, 17, 1, 4, 17, 14, 23, 1, 14, 16, 19, 17, 1, 10, 15, 1, 10, 26, 17, 1, 9, 16, 12, 1, 7, 16, 38, 17, 7, 1, 4, 17, 2, 1, 19, 17, 8, 1, 19, 17, 2, 1, 25, 22, 5, 5, 1, 11, 17, 22, 1, 10, 15, 1, 51, 22, 5, 16, 5, 17, 17, 20], '200630-113925_pcm_9fa_elicit_29': [6, 17, 14, 13, 14, 1, 19, 17, 2, 1, 22, 7, 10, 13, 26, 19, 1, 23, 4, 10, 1, 2, 17, 22, 7, 14, 1, 4, 18, 17, 26, 1, 6, 10, 14, 17, 3, 18, 1, 22, 26, 19, 1, 24, 22, 7, 2, 1, 25, 22, 7, 7, 2, 1, 22, 8, 1, 25, 10, 8, 17, 1, 18, 17, 7, 17, 1, 15, 7, 10, 8, 1, 28, 12, 2, 3, 23, 20], '200630-113925_pcm_9fa_elicit_30': [46, 18, 22, 23, 1, 23, 16, 8, 17, 1, 26, 22, 1, 10, 26, 5, 2, 1, 6, 17, 14, 13, 14, 1, 9, 17, 1, 23, 18, 17, 1, 3, 16, 21, 16, 26, 1, 4, 17, 2, 1, 6, 10, 14, 17, 3, 18, 1, 22, 26, 19, 1, 24, 22, 7, 2, 1, 12, 17, 23, 20], '200630-113925_pcm_9fa_elicit_31': [57, 22, 23, 17, 7, 36, 1, 19, 17, 8, 1, 25, 10, 8, 17, 1, 9, 10, 7, 26, 1, 10, 23, 18, 17, 7, 1, 25, 18, 16, 5, 19, 7, 17, 26, 6, 22, 8, 17, 14, 36, 1, 6, 10, 14, 17, 3, 18, 36, 1, 11, 16, 8, 10, 26, 36, 1, 6, 13, 19, 22, 14, 1, 22, 26, 19, 1, 14, 10, 8, 17, 1, 12, 16, 7, 5, 14, 20], '200630-113925_pcm_9fa_elicit_32': [11, 10, 36, 1, 6, 17, 14, 13, 14, 1, 12, 17, 23, 1, 22, 23, 1, 5, 17, 22, 14, 23, 1, 14, 16, 45, 1, 9, 7, 10, 23, 18, 17, 7, 14, 1, 22, 26, 19, 1, 14, 16, 14, 23, 17, 7, 14, 1, 4, 17, 2, 1, 17, 1, 14, 17, 26, 16, 10, 7, 20], '200630-113925_pcm_9fa_elicit_33': [6, 17, 14, 13, 14, 1, 14, 23, 16, 5, 5, 1, 12, 17, 23, 1, 10, 23, 18, 17, 7, 1, 15, 22, 8, 16, 5, 2, 1, 8, 17, 8, 9, 17, 7, 14, 20, 1, 50, 17, 1, 22, 5, 7, 17, 22, 19, 2, 1, 21, 26, 10, 4, 1, 28, 5, 16, 49, 22, 9, 17, 23, 18, 1, 22, 26, 19, 1, 16, 8, 1, 3, 16, 21, 16, 26, 36], '200630-113925_pcm_9fa_elicit_34': [6, 10, 18, 26, 1, 4, 17, 2, 1, 19, 17, 2, 1, 5, 16, 38, 17, 1, 15, 10, 7, 1, 6, 13, 19, 17, 22, 20, 1, 28, 1, 15, 16, 23, 1, 9, 17, 1, 14, 17, 2, 1, 11, 22, 5, 10, 8, 17, 1, 4, 17, 2, 1, 19, 17, 2, 1, 14, 23, 22, 2, 1, 15, 10, 7, 1, 51, 22, 5, 16, 5, 17, 17, 1, 4, 16, 23, 18, 1, 16, 8, 1, 18, 13, 14, 9, 22, 26, 19, 36], '200630-113925_pcm_9fa_elicit_35': [68, 17, 9, 17, 19, 17, 17, 1, 26, 22, 1, 24, 22, 7, 2, 1, 14, 16, 14, 23, 17, 7, 20, 1, 46, 18, 17, 16, 7, 1, 23, 4, 10, 1, 14, 10, 26, 14, 1, 26, 22, 1, 6, 22, 8, 17, 14, 1, 22, 26, 19, 1, 6, 10, 18, 26, 1, 22, 26, 19, 1, 19, 17, 8, 1, 15, 16, 23, 1, 9, 17, 1, 6, 17, 14, 13, 14, 1, 15, 16, 7, 14, 23, 1, 25, 10, 13, 14, 16, 26, 20], '200630-113925_pcm_9fa_elicit_36': [50, 17, 1, 26, 10, 1, 21, 26, 10, 4, 1, 4, 18, 17, 23, 18, 17, 7, 1, 6, 17, 14, 13, 14, 1, 22, 26, 19, 1, 23, 18, 16, 14, 1, 9, 10, 2, 14, 1, 7, 17, 22, 5, 5, 2, 1, 5, 16, 38, 17, 1, 23, 10, 12, 17, 23, 18, 17, 7, 1, 22, 14, 1, 19, 17, 8, 1, 19, 17, 2, 1, 12, 7, 10, 4, 20], '200630-113925_pcm_9fa_elicit_37': [56, 13, 23, 1, 4, 17, 1, 21, 26, 10, 4, 1, 14, 17, 2, 1, 22, 15, 23, 17, 7, 1, 19, 17, 8, 1, 19, 10, 26, 1, 12, 7, 10, 4, 36, 1, 22, 5, 5, 1, 10, 15, 1, 19, 17, 8, 1, 25, 10, 8, 17, 1, 19, 17, 2, 1, 19, 10, 1, 23, 18, 16, 26, 12, 14, 1, 23, 10, 12, 17, 23, 18, 17, 7, 20], '200630-113925_pcm_9fa_elicit_38': [39, 17, 8, 1, 25, 10, 8, 17, 1, 17, 38, 17, 26, 1, 9, 17, 1, 3, 22, 7, 23, 1, 10, 15, 1, 6, 17, 14, 13, 14, 1, 22, 3, 10, 14, 23, 5, 17, 14, 20], '200630-113925_pcm_9fa_elicit_39': [6, 10, 14, 17, 3, 18, 1, 7, 17, 22, 5, 5, 2, 1, 26, 17, 17, 19, 1, 23, 10, 1, 4, 10, 7, 21, 1, 23, 10, 1, 15, 16, 23, 1, 23, 22, 21, 17, 1, 25, 22, 7, 17, 1, 10, 15, 1, 16, 8, 1, 15, 22, 8, 16, 5, 2, 20, 1, 42, 22, 1, 25, 22, 7, 3, 17, 26, 23, 17, 7, 1, 17, 1, 9, 17, 20], '200630-113925_pcm_9fa_elicit_40': [11, 16, 26, 25, 17, 1, 6, 10, 14, 17, 3, 18, 1, 23, 22, 21, 17, 1, 25, 22, 7, 17, 1, 10, 15, 1, 6, 17, 14, 13, 14, 1, 5, 16, 21, 17, 1, 14, 17, 2, 1, 26, 22, 1, 16, 8, 1, 9, 10, 7, 26, 1, 22, 8, 36, 1, 3, 17, 10, 3, 5, 17, 1, 19, 17, 2, 1, 22, 5, 4, 22, 2, 14, 1, 25, 22, 5, 5, 1, 6, 17, 14, 13, 14, 36], '200630-113925_pcm_9fa_elicit_41': [37, 23, 18, 17, 1, 25, 22, 7, 3, 17, 26, 23, 17, 7, 1, 3, 16, 21, 16, 26, 20, 31, 1, 33, 24, 22, 23, 23, 18, 17, 4, 1, 61, 35, 27, 65, 65, 30, 1, 6, 10, 14, 17, 3, 18, 1, 23, 17, 22, 25, 18, 1, 6, 17, 14, 13, 14, 1, 25, 22, 7, 3, 17, 26, 23, 17, 7, 1, 4, 10, 7, 21, 36], '200630-113925_pcm_9fa_elicit_42': [22, 26, 19, 1, 6, 17, 14, 13, 14, 1, 21, 26, 10, 4, 1, 23, 18, 17, 1, 4, 10, 7, 21, 1, 4, 17, 5, 5, 1, 4, 17, 5, 5, 20, 1, 11, 10, 8, 17, 1, 3, 17, 10, 3, 5, 17, 1, 17, 38, 17, 26, 1, 19, 17, 2, 1, 25, 22, 5, 5, 1, 6, 17, 14, 13, 14, 36, 1, 37, 23, 18, 17, 1, 25, 22, 7, 3, 17, 26, 23, 17, 7, 20, 31, 24, 22, 7, 21, 1, 69, 27, 35, 20], '200630-113925_pcm_9fa_elicit_43': [6, 10, 14, 17, 3, 18, 1, 22, 26, 19, 1, 24, 22, 7, 2, 1, 19, 17, 2, 1, 23, 17, 22, 25, 18, 1, 23, 18, 17, 16, 7, 1, 25, 18, 16, 5, 19, 7, 17, 26, 1, 23, 10, 1, 19, 10, 1, 4, 17, 23, 16, 26, 1, 6, 17, 18, 10, 38, 22, 18, 1, 4, 22, 26, 23], '200630-113925_pcm_9fa_elicit_44': [6, 10, 14, 17, 3, 18, 1, 22, 26, 19, 1, 16, 8, 1, 15, 22, 8, 16, 5, 2, 1, 8, 22, 21, 17, 1, 6, 17, 18, 10, 38, 22, 18, 1, 23, 18, 17, 1, 26, 13, 8, 9, 17, 7, 1, 10, 26, 17, 1, 3, 17, 7, 14, 10, 26, 1, 15, 10, 7, 1, 23, 18, 17, 16, 7, 1, 5, 16, 15, 17, 20], '200630-113925_pcm_9fa_elicit_45': [39, 17, 8, 1, 19, 17, 2, 1, 15, 10, 5, 5, 10, 4, 1, 23, 18, 17, 1, 57, 22, 4, 1, 4, 17, 2, 1, 17, 1, 12, 16, 38, 17, 1, 19, 17, 8, 36, 1, 5, 16, 21, 17, 1, 23, 18, 17, 1, 10, 26, 17, 1, 4, 17, 2, 1, 14, 17, 2, 1, 8, 22, 21, 17, 1, 19, 17, 8, 1, 19, 17, 2, 1, 23, 17, 22, 25, 18, 1, 23, 18, 17, 16, 7, 1, 25, 18, 16, 5, 19, 7, 17, 26, 1, 4, 17, 23, 16, 26, 1, 6, 17, 18, 10, 38, 22, 18, 1, 4, 22, 26, 23], '200630-113925_pcm_9fa_elicit_46': [37, 4, 18, 17, 26, 1, 19, 17, 8, 1, 19, 17, 2, 1, 15, 10, 7, 1, 18, 10, 13, 14, 17, 1, 22, 26, 19, 1, 4, 18, 17, 26, 1, 19, 17, 8, 1, 19, 17, 2, 1, 4, 22, 21, 22, 1, 15, 10, 7, 1, 7, 10, 22, 19, 36, 1, 9, 17, 15, 10, 7, 17, 1, 19, 17, 8, 1, 14, 5, 17, 17, 3, 36, 1, 22, 26, 19, 1, 4, 18, 17, 26, 1, 19, 17, 8, 1, 4, 22, 21, 17, 1, 13, 3, 20], '200630-113925_pcm_9fa_elicit_47': [31, 1, 33, 39, 17, 13, 23, 17, 7, 10, 26, 10, 8, 2, 1, 69, 27, 69, 62, 32, 30, 1, 55, 26, 17, 1, 14, 2, 26, 22, 12, 10, 12, 13, 17, 1, 19, 17, 2, 1, 42, 22, 49, 22, 7, 17, 23, 18, 20], '200630-113925_pcm_9fa_elicit_48': [50, 17, 1, 19, 17, 2, 1, 14, 13, 7, 17, 1, 14, 17, 2, 1, 6, 10, 14, 17, 3, 18, 1, 19, 17, 2, 1, 22, 5, 4, 22, 2, 14, 1, 25, 22, 7, 7, 2, 1, 16, 8, 1, 15, 22, 8, 16, 5, 2, 1, 12, 10, 1, 4, 10, 7, 14, 18, 16, 3, 1, 51, 10, 19, 1, 15, 10, 7, 1, 23, 18, 17, 7, 17, 20], '200630-113925_pcm_9fa_elicit_50': [31, 1, 33, 57, 13, 21, 17, 1, 29, 27, 61, 69, 30, 1, 40, 26, 19, 1, 23, 18, 17, 1, 15, 22, 8, 16, 5, 2, 1, 14, 23, 16, 5, 5, 1, 5, 16, 21, 17, 1, 23, 10, 1, 19, 17, 2, 1, 23, 7, 22, 38, 17, 5, 1, 12, 10, 1, 6, 17, 18, 10, 38, 22, 18, 1, 23, 17, 8, 3, 5, 17, 1, 4, 17, 2, 1, 19, 17, 2, 1, 6, 17, 7, 13, 14, 22, 5, 17, 8, 20], '200701-170049_pcm_9fa_elicit_0': [37, 55, 12, 22, 36, 1, 2, 10, 13, 1, 26, 10, 1, 17, 38, 17, 26, 1, 12, 17, 23, 1, 9, 13, 25, 21, 17, 23, 1, 23, 10, 1, 15, 17, 23, 25, 18, 1, 4, 22, 23, 17, 7, 36, 1, 22, 26, 19, 1, 23, 18, 17, 1, 4, 17, 5, 5, 1, 19, 17, 17, 3, 20], '200701-170049_pcm_9fa_elicit_1': [11, 10, 1, 4, 18, 17, 7, 17, 1, 2, 10, 13, 1, 4, 22, 26, 23, 1, 12, 17, 23, 1, 23, 18, 22, 23, 1, 5, 16, 38, 16, 26, 12, 1, 4, 22, 23, 17, 7, 1, 15, 7, 10, 8, 52], '200701-170049_pcm_9fa_elicit_2': [40, 9, 16, 1, 2, 10, 13, 1, 12, 17, 23, 1, 3, 10, 4, 17, 7, 1, 3, 22, 14, 14, 1, 10, 13, 7, 1, 12, 7, 17, 22, 23, 62, 12, 7, 17, 22, 23, 1, 12, 7, 22, 26, 19, 1, 3, 22, 3, 22, 1, 6, 22, 25, 10, 9, 36, 1, 4, 17, 2, 1, 8, 22, 21, 17, 1, 23, 18, 16, 14, 1, 4, 17, 5, 5, 1, 15, 10, 7, 1, 13, 14, 36], '200701-170049_pcm_9fa_elicit_3': [22, 26, 19, 1, 4, 17, 2, 1, 16, 8, 36, 1, 16, 8, 1, 25, 18, 16, 5, 19, 7, 17, 26, 1, 22, 26, 19, 1, 22, 26, 16, 8, 22, 5, 14, 1, 19, 7, 16, 26, 21, 1, 15, 7, 10, 8, 52, 31, 6, 10, 18, 26, 1, 29, 27, 32, 62, 61, 43, 20], '200701-170049_pcm_9fa_elicit_4': [37, 6, 17, 14, 13, 14, 1, 25, 10, 8, 17, 1, 23, 17, 5, 5, 1, 22, 8, 1, 14, 17, 2, 27, 1, 37, 40, 26, 2, 9, 10, 19, 2, 1, 4, 17, 2, 1, 19, 7, 16, 26, 21, 1, 23, 18, 16, 14, 1, 4, 22, 23, 17, 7, 1, 12, 10, 1, 18, 13, 26, 12, 7, 2, 1, 15, 10, 7, 1, 4, 22, 23, 17, 7, 1, 22, 12, 22, 16, 26, 36], '200701-170049_pcm_9fa_elicit_5': [9, 13, 23, 1, 22, 26, 2, 9, 10, 19, 2, 1, 4, 17, 2, 1, 19, 7, 16, 26, 21, 1, 23, 18, 17, 1, 4, 22, 23, 17, 7, 1, 4, 17, 2, 1, 34, 1, 12, 16, 38, 17, 1, 22, 8, 36, 1, 17, 1, 26, 10, 1, 12, 10, 1, 17, 38, 17, 7, 1, 18, 13, 26, 12, 7, 2, 1, 15, 10, 7, 1, 4, 22, 23, 17, 7, 1, 22, 23, 1, 22, 5, 5, 36], '200701-170049_pcm_9fa_elicit_6': [9, 13, 23, 1, 23, 18, 17, 1, 4, 22, 23, 17, 7, 1, 4, 17, 2, 1, 34, 1, 12, 10, 1, 12, 16, 38, 17, 1, 22, 8, 1, 12, 10, 1, 19, 17, 2, 1, 15, 5, 10, 4, 1, 12, 10, 1, 13, 3, 1, 23, 10, 1, 12, 16, 38, 17, 1, 22, 8, 1, 5, 16, 15, 17, 1, 4, 17, 2, 1, 26, 10, 1, 19, 17, 2, 1, 17, 26, 19, 20], '200701-170049_pcm_9fa_elicit_7': [31, 33, 6, 10, 18, 26, 1, 29, 27, 61, 35, 36, 1, 61, 29, 30, 1, 28, 38, 17, 26, 1, 22, 14, 1, 6, 17, 14, 13, 14, 1, 23, 16, 7, 17, 1, 7, 17, 22, 25, 18, 36, 1, 17, 1, 14, 23, 16, 5, 5, 1, 3, 7, 17, 22, 25, 18, 1, 23, 10, 1, 23, 18, 17, 1, 4, 10, 8, 22, 26, 36, 1, 14, 10, 1, 23, 18, 22, 23, 1, 17, 1, 12, 10, 1, 14, 22, 38, 17, 20], '200701-170049_pcm_9fa_elicit_8': [46, 18, 17, 1, 4, 10, 8, 22, 26, 1, 25, 10, 8, 17, 1, 23, 22, 5, 21, 1, 14, 17, 2, 27, 1, 37, 55, 12, 22, 36, 1, 12, 16, 38, 17, 1, 8, 17, 1, 23, 18, 16, 14, 1, 4, 22, 23, 17, 7, 1, 14, 10, 1, 23, 18, 22, 23], '200701-170049_pcm_9fa_elicit_9': [34, 1, 26, 10, 1, 12, 10, 1, 18, 13, 26, 12, 7, 2, 1, 15, 10, 7, 1, 4, 22, 23, 17, 7, 1, 22, 12, 22, 16, 26, 1, 10, 7, 1, 25, 10, 26, 23, 16, 26, 13, 17, 1, 23, 10, 1, 25, 10, 8, 17, 1, 15, 17, 23, 25, 18, 1, 4, 22, 23, 17, 7, 1, 15, 10, 7, 1, 18, 17, 7, 17, 20], '200701-170049_pcm_9fa_elicit_10': [31, 1, 42, 10, 4, 36, 1, 17, 1, 25, 10, 8, 17, 1, 9, 17, 1, 5, 16, 21, 17, 1, 14, 17, 2, 1, 6, 17, 14, 13, 14, 1, 25, 18, 22, 26, 12, 17, 1, 23, 18, 17, 1, 23, 10, 3, 16, 25, 20], '200701-170049_pcm_9fa_elicit_11': [28, 1, 23, 17, 5, 5, 1, 23, 18, 17, 1, 4, 10, 8, 22, 26, 27, 1, 37, 51, 10, 36, 1, 25, 22, 5, 5, 1, 2, 10, 13, 7, 1, 18, 13, 14, 9, 22, 26, 19, 36, 1, 8, 22, 21, 17, 1, 13, 26, 22, 1, 25, 10, 8, 17, 20], '200701-170049_pcm_9fa_elicit_13': [31, 1, 28, 1, 12, 10, 1, 7, 17, 22, 5, 5, 2, 1, 14, 13, 7, 3, 7, 16, 14, 17, 1, 23, 18, 17, 1, 4, 10, 8, 22, 26, 1, 4, 17, 5, 5, 1, 4, 17, 5, 5, 1, 23, 10, 1, 14, 17, 17, 1, 14, 17, 2, 1, 6, 17, 14, 13, 14, 1, 21, 26, 10, 4, 1, 8, 22, 26, 2, 1, 23, 18, 16, 26, 12, 14, 1, 22, 9, 10, 13, 23, 1, 22, 8, 36, 1, 22, 14, 1, 6, 17, 14, 13, 14, 1, 23, 17, 5, 5, 1, 22, 8, 1, 14, 17, 2, 27], '200701-170049_pcm_9fa_elicit_14': [37, 70, 10, 13, 1, 25, 10, 7, 7, 17, 25, 23, 1, 4, 18, 17, 26, 1, 2, 10, 13, 1, 14, 17, 2, 36, 1, 71, 34, 1, 26, 10, 1, 12, 17, 23, 1, 18, 13, 14, 9, 22, 26, 19, 20, 72, 1, 56, 17, 25, 22, 13, 14, 17, 1, 2, 10, 13, 1, 19, 10, 26, 1, 12, 17, 23, 1, 15, 16, 38, 17, 1, 18, 13, 14, 9, 22, 26, 19, 1, 9, 17, 15, 10, 7, 17, 36], '200701-170049_pcm_9fa_elicit_15': [22, 26, 19, 1, 23, 18, 17, 1, 8, 22, 26, 1, 4, 17, 2, 1, 2, 10, 13, 1, 19, 17, 2, 1, 4, 16, 23, 18, 1, 26, 10, 4, 1, 26, 10, 1, 9, 17, 1, 2, 10, 13, 7, 1, 18, 13, 14, 9, 22, 26, 19, 20, 1, 42, 22, 1, 23, 18, 17, 1, 23, 7, 13, 23, 18, 1, 2, 10, 13, 1, 7, 17, 22, 5, 5, 2, 1, 23, 22, 5, 21, 20, 31, 6, 10, 18, 26, 1, 29, 27, 61, 65, 62, 61, 64, 20], '200701-170049_pcm_9fa_elicit_16': [46, 18, 17, 1, 8, 17, 22, 26, 16, 26, 12, 1, 10, 15, 1, 4, 17, 23, 16, 26, 1, 6, 17, 14, 13, 14, 1, 23, 17, 5, 5, 1, 23, 18, 17, 1, 4, 10, 8, 22, 26, 1, 19, 17, 2, 1, 25, 5, 17, 22, 7, 1, 23, 10, 1, 22, 8, 36, 1, 17, 1, 14, 13, 7, 3, 7, 16, 14, 17, 1, 22, 26, 19, 1, 14, 17, 2, 27], '200701-170049_pcm_9fa_elicit_17': [37, 55, 12, 22, 36, 1, 26, 10, 4, 1, 34, 1, 21, 26, 10, 4, 1, 14, 17, 2, 1, 2, 10, 13, 1, 9, 17, 1, 3, 7, 10, 3, 18, 17, 23, 20, 31, 1, 50, 17, 23, 16, 26, 1, 17, 1, 25, 10, 8, 17, 1, 19, 10, 1, 14, 18, 10, 4, 1, 14, 17, 2, 1, 17, 1, 19, 17, 2, 1, 18, 13, 26, 12, 7, 2, 1, 22, 8, 1, 23, 10, 1, 21, 26, 10, 4, 1, 8, 10, 7, 17, 1, 22, 9, 10, 13, 23, 1, 51, 10, 19, 20], '200701-170049_pcm_9fa_elicit_19': [9, 13, 23, 1, 13, 26, 22, 1, 76, 6, 17, 4, 1, 3, 17, 10, 3, 5, 17, 77, 1, 23, 22, 5, 21, 1, 14, 17, 2, 1, 26, 22, 1, 6, 17, 7, 13, 14, 22, 5, 17, 8, 1, 3, 17, 10, 3, 5, 17, 1, 8, 13, 14, 23, 1, 12, 10, 1, 4, 10, 7, 14, 18, 16, 3, 1, 51, 10, 19, 20, 31, 6, 10, 18, 26, 1, 29, 27, 61, 32, 36, 1, 43, 66, 20], '200701-170049_pcm_9fa_elicit_20': [6, 17, 14, 13, 14, 1, 14, 23, 16, 5, 5, 1, 17, 45, 3, 5, 22, 16, 26, 1, 23, 10, 1, 22, 8, 1, 14, 17, 2, 1, 26, 10, 1, 9, 17, 1, 23, 18, 17, 1, 3, 5, 22, 25, 17, 1, 4, 17, 2, 1, 3, 17, 7, 14, 10, 26, 1, 15, 10, 7, 1, 4, 10, 7, 14, 18, 16, 3, 1, 51, 10, 19, 1, 8, 22, 23, 23, 17, 7, 20, 1, 28, 1, 14, 17, 2, 27], '200701-170049_pcm_9fa_elicit_21': [37, 46, 18, 17, 1, 23, 16, 8, 17, 1, 19, 17, 2, 1, 25, 10, 8, 17, 1, 4, 18, 17, 26, 1, 13, 26, 22, 1, 26, 10, 1, 12, 10, 1, 4, 10, 7, 14, 18, 16, 3, 1, 23, 18, 17, 1, 48, 22, 23, 18, 17, 7, 1, 22, 12, 22, 16, 26, 1, 15, 10, 7, 1, 23, 18, 16, 14, 1, 8, 10, 13, 26, 23, 22, 16, 26, 1, 10, 7, 1, 15, 10, 7, 1, 6, 17, 7, 13, 14, 22, 5, 17, 8, 20], '200701-170049_pcm_9fa_elicit_22': [31, 28, 1, 25, 10, 8, 17, 1, 23, 17, 5, 5, 1, 23, 18, 17, 1, 4, 10, 8, 22, 26, 1, 14, 17, 2, 27, 1, 37, 46, 18, 17, 1, 23, 16, 8, 17, 1, 19, 17, 2, 1, 25, 10, 8, 17, 1, 22, 26, 19, 1, 17, 1, 19, 10, 26, 1, 17, 38, 17, 26, 1, 7, 17, 22, 25, 18, 36], '200701-170049_pcm_9fa_elicit_23': [4, 18, 17, 26, 1, 22, 5, 5, 1, 23, 18, 17, 1, 3, 17, 10, 3, 5, 17, 1, 4, 17, 2, 1, 19, 17, 2, 1, 7, 17, 22, 5, 5, 2, 1, 4, 10, 7, 14, 18, 16, 3, 1, 51, 10, 19, 1, 12, 10, 1, 4, 10, 7, 14, 18, 16, 3, 1, 22, 8, 1, 4, 16, 23, 18, 1, 14, 3, 16, 7, 16, 23], '200701-170049_pcm_9fa_elicit_24': [22, 26, 19, 1, 23, 7, 13, 23, 18, 1, 9, 17, 25, 22, 13, 14, 17, 1, 26, 22, 1, 23, 18, 16, 14, 1, 21, 16, 26, 19, 1, 10, 15, 1, 3, 17, 10, 3, 5, 17, 1, 51, 10, 19, 1, 4, 22, 26, 23, 1, 8, 22, 21, 17, 1, 19, 17, 8, 1, 4, 10, 7, 14, 18, 16, 3, 1, 22, 8, 20, 31, 6, 10, 18, 26, 1, 29, 27, 43, 61, 36, 1, 43, 35, 36, 1, 43, 29, 20], '200701-170049_pcm_9fa_elicit_25': [50, 17, 23, 16, 26, 1, 23, 18, 17, 1, 48, 22, 23, 18, 17, 7, 1, 19, 17, 2, 1, 25, 18, 17, 25, 21, 1, 15, 10, 7, 1, 3, 17, 10, 3, 5, 17, 1, 4, 17, 2, 1, 19, 17, 2, 1, 4, 10, 7, 14, 18, 16, 3, 1, 22, 8, 1, 4, 17, 5, 5, 36, 1, 26, 10, 1, 9, 17, 1, 4, 18, 17, 7, 17, 1, 19, 17, 8, 1, 19, 17, 2, 1, 14, 23, 22, 2, 1, 4, 10, 7, 14, 18, 16, 3, 1, 22, 8, 36], '200701-170049_pcm_9fa_elicit_26': [9, 13, 23, 1, 18, 10, 4, 1, 19, 17, 8, 1, 19, 17, 2, 1, 4, 10, 7, 14, 18, 16, 3, 1, 22, 8, 20, 1, 46, 18, 16, 14, 1, 10, 26, 17, 1, 14, 4, 17, 17, 23, 1, 23, 18, 17, 1, 4, 10, 8, 22, 26, 36, 1, 17, 1, 25, 10, 8, 17, 1, 14, 17, 2, 27], '200701-170049_pcm_9fa_elicit_27': [37, 34, 1, 21, 26, 10, 4, 1, 14, 17, 2, 1, 24, 17, 14, 14, 16, 22, 18, 1, 4, 17, 2, 1, 9, 17, 1, 23, 18, 17, 1, 44, 18, 7, 16, 14, 23, 1, 12, 10, 1, 25, 10, 8, 17, 36, 1, 22, 26, 19, 1, 4, 18, 17, 26, 1, 17, 1, 25, 10, 8, 17, 1, 17, 1, 12, 10, 1, 17, 45, 3, 5, 22, 16, 26, 1, 17, 38, 17, 7, 2, 23, 18, 16, 26, 12, 1, 23, 10, 1, 13, 14, 20, 31, 6, 10, 18, 26, 1, 29, 27, 43, 65, 20], '200701-170049_pcm_9fa_elicit_28': [46, 18, 17, 26, 36, 1, 6, 17, 14, 13, 14, 1, 25, 10, 8, 17, 1, 23, 17, 5, 5, 1, 22, 8, 1, 10, 26, 17, 1, 16, 8, 3, 10, 7, 23, 22, 26, 23, 1, 23, 7, 13, 23, 18, 20, 1, 28, 1, 14, 17, 2, 27, 1, 37, 42, 22, 1, 8, 17, 36, 1, 4, 17, 2, 1, 19, 17, 2, 1, 23, 22, 5, 21, 1, 23, 10, 1, 2, 10, 13, 1, 9, 17, 1, 23, 18, 17, 1, 3, 17, 7, 14, 10, 26, 20], '200701-170049_pcm_9fa_elicit_29': [31, 1, 33, 6, 10, 18, 26, 1, 29, 27, 43, 69, 30, 1, 46, 18, 16, 26, 21, 1, 22, 9, 10, 13, 23, 1, 22, 8, 67, 1, 46, 18, 16, 14, 1, 26, 22, 1, 4, 10, 8, 22, 26, 1, 4, 17, 2, 1, 25, 10, 8, 17, 1, 15, 17, 23, 25, 18, 1, 4, 22, 23, 17, 7, 1, 15, 10, 7, 1, 22, 15, 23, 17, 7, 26, 10, 10, 26, 20], '200701-170049_pcm_9fa_elicit_30': [56, 13, 23, 1, 6, 17, 14, 13, 14, 1, 14, 23, 16, 5, 5, 1, 14, 18, 10, 4, 1, 22, 8, 1, 14, 3, 17, 25, 16, 22, 5, 1, 15, 22, 38, 10, 7, 20, 1, 28, 1, 41, 13, 14, 23, 1, 23, 17, 5, 5, 1, 23, 18, 17, 1, 4, 10, 8, 22, 26, 1, 4, 17, 23, 16, 26, 1, 17, 1, 26, 17, 38, 17, 7, 1, 23, 17, 5, 5, 1, 22, 26, 2, 9, 10, 19, 2, 1, 9, 17, 15, 10, 7, 17, 36, 1, 14, 17, 2, 1, 26, 22, 1, 16, 8, 1, 9, 17, 1, 23, 18, 17, 1, 24, 17, 14, 14, 16, 22, 18, 20], '200701-170049_pcm_9fa_elicit_31': [24, 40, 42, 70, 1, 53, 28, 55, 53, 57, 28, 1, 48, 47, 55, 24, 1, 11, 40, 24, 40, 47, 34, 40, 1, 56, 28, 57, 34, 28, 74, 28], '200701-170049_pcm_9fa_elicit_32': [6, 17, 14, 13, 14, 1, 19, 16, 14, 25, 16, 3, 5, 17, 14, 1, 9, 7, 16, 26, 12, 1, 15, 10, 10, 19, 1, 22, 14, 1, 19, 17, 8, 1, 25, 10, 8, 17, 1, 9, 22, 25, 21, 1, 15, 7, 10, 8, 1, 11, 2, 25, 18, 22, 7, 20], '200701-170049_pcm_9fa_elicit_33': [39, 17, 8, 1, 14, 17, 17, 1, 6, 17, 14, 13, 14, 1, 15, 10, 7, 1, 6, 22, 25, 10, 9, 1, 4, 17, 5, 5, 36, 1, 4, 18, 17, 7, 17, 1, 19, 17, 8, 1, 5, 17, 22, 38, 17, 1, 22, 8, 36], '200701-170049_pcm_9fa_elicit_34': [9, 13, 23, 1, 23, 18, 16, 14, 1, 23, 16, 8, 17, 1, 17, 1, 19, 17, 2, 1, 23, 22, 5, 21, 1, 4, 16, 23, 18, 1, 10, 26, 17, 1, 4, 10, 8, 22, 26, 1, 15, 7, 10, 8, 1, 11, 22, 8, 22, 7, 16, 22, 20, 1, 40, 14, 1, 6, 17, 14, 13, 14, 1, 19, 16, 14, 25, 16, 3, 5, 17, 14, 1, 7, 17, 22, 25, 18, 1, 23, 18, 17, 7, 17, 36], '200701-170049_pcm_9fa_elicit_35': [23, 18, 17, 1, 4, 10, 8, 22, 26, 1, 5, 17, 22, 38, 17, 1, 23, 18, 17, 1, 4, 22, 23, 17, 7, 1, 4, 17, 2, 1, 17, 1, 25, 10, 8, 17, 1, 15, 17, 23, 25, 18, 1, 22, 26, 19, 1, 12, 10, 1, 9, 22, 25, 21, 1, 23, 10, 1, 23, 18, 17, 1, 25, 16, 23, 2, 20], '200701-170049_pcm_9fa_elicit_36': [50, 18, 17, 26, 1, 17, 1, 7, 17, 22, 25, 18, 1, 11, 2, 25, 18, 22, 7, 36, 1, 23, 18, 17, 1, 4, 10, 8, 22, 26, 1, 23, 17, 5, 5, 1, 23, 18, 17, 1, 3, 17, 10, 3, 5, 17, 1, 22, 5, 5, 1, 23, 18, 17, 1, 23, 18, 16, 26, 12, 14, 1, 4, 17, 2, 1, 6, 17, 14, 13, 14, 1, 23, 17, 5, 5, 1, 22, 8, 20], '200701-170049_pcm_9fa_elicit_37': [56, 17, 25, 22, 13, 14, 17, 1, 23, 18, 17, 1, 4, 10, 8, 22, 26, 1, 7, 17, 22, 5, 5, 2, 1, 9, 17, 5, 16, 17, 38, 17, 36, 1, 17, 1, 25, 10, 8, 17, 1, 23, 17, 5, 5, 1, 19, 17, 8, 1, 14, 17, 2, 27], '200701-170049_pcm_9fa_elicit_38': [37, 24, 22, 21, 17, 1, 13, 26, 22, 1, 25, 10, 8, 17, 1, 14, 17, 17, 1, 23, 18, 17, 1, 8, 22, 26, 1, 4, 17, 2, 1, 23, 17, 5, 5, 1, 8, 17, 1, 22, 5, 5, 1, 23, 18, 17, 1, 23, 18, 16, 26, 12, 14, 1, 4, 17, 2, 1, 34, 1, 19, 10, 26, 1, 19, 10, 20], '200701-170049_pcm_9fa_elicit_39': [31, 1, 46, 10, 1, 8, 22, 21, 17, 1, 23, 18, 17, 1, 3, 17, 10, 3, 5, 17, 1, 4, 22, 26, 23, 1, 21, 26, 10, 4, 1, 8, 10, 7, 17, 36, 1, 17, 1, 25, 10, 8, 17, 1, 22, 14, 21, 1, 19, 17, 8, 1, 14, 17, 2, 27], '200701-170049_pcm_9fa_elicit_40': [37, 73, 26, 22, 1, 14, 13, 7, 17, 1, 14, 17, 2, 1, 26, 10, 1, 9, 17, 1, 23, 18, 17, 1, 44, 18, 7, 16, 14, 23, 1, 9, 17, 1, 23, 18, 16, 14, 52, 31, 1, 33, 6, 10, 18, 26, 1, 29, 27, 43, 32, 30, 1, 46, 18, 16, 14, 1, 63, 13, 17, 14, 23, 16, 10, 26, 1, 19, 17, 2, 1, 16, 8, 3, 10, 7, 23, 22, 26, 23, 1, 4, 17, 5, 5, 1, 4, 17, 5, 5, 36], '200701-170049_pcm_9fa_elicit_41': [17, 38, 17, 26, 1, 14, 16, 26, 25, 17, 1, 23, 18, 17, 1, 23, 16, 8, 17, 1, 10, 15, 1, 24, 10, 14, 17, 14, 36, 1, 3, 17, 10, 3, 5, 17, 1, 19, 10, 26, 1, 19, 17, 2, 1, 3, 13, 23, 1, 8, 16, 26, 19, 1, 15, 10, 7, 1, 23, 18, 16, 14, 1, 63, 13, 17, 14, 23, 16, 10, 26, 20], '200701-170049_pcm_9fa_elicit_42': [33, 39, 17, 13, 23, 17, 7, 10, 26, 10, 8, 2, 1, 61, 64, 27, 61, 64, 30, 1, 46, 18, 16, 14, 1, 10, 26, 17, 1, 8, 22, 21, 17, 1, 8, 22, 26, 2, 1, 3, 17, 10, 3, 5, 17, 1, 15, 7, 10, 8, 1, 23, 18, 17, 1, 25, 16, 23, 2, 1, 12, 10, 1, 14, 17, 17, 1, 6, 17, 14, 13, 14, 1, 9, 2, 1, 23, 18, 17, 16, 7, 14, 17, 5, 15, 20], '200701-170049_pcm_9fa_elicit_43': [15, 10, 7, 1, 11, 2, 25, 18, 22, 7, 36, 1, 23, 18, 17, 1, 11, 22, 8, 22, 7, 16, 23, 22, 26, 1, 4, 10, 8, 22, 26, 1, 23, 17, 5, 5, 1, 23, 18, 17, 1, 3, 17, 10, 3, 5, 17, 1, 15, 10, 7, 1, 23, 18, 17, 1, 25, 16, 23, 2, 1, 23, 18, 17, 1, 23, 18, 16, 26, 12, 14, 1, 4, 17, 2, 1, 6, 17, 14, 13, 14, 1, 23, 17, 5, 5, 1, 22, 8], '200701-170049_pcm_9fa_elicit_45': [37, 34, 1, 12, 17, 23, 1, 15, 10, 10, 19, 1, 4, 17, 2, 1, 34, 1, 12, 10, 1, 25, 18, 10, 3, 36, 1, 9, 13, 23, 1, 13, 26, 22, 1, 26, 10, 1, 21, 26, 10, 4, 1, 22, 9, 10, 13, 23, 1, 22, 8, 20, 31, 1, 50, 17, 23, 16, 26, 1, 17, 1, 23, 22, 5, 21, 1, 14, 13, 7, 3, 7, 16, 14, 17, 1, 19, 17, 8, 36], '200701-170049_pcm_9fa_elicit_46': [14, 10, 1, 19, 17, 8, 1, 25, 10, 8, 17, 1, 14, 23, 22, 7, 23, 1, 23, 10, 1, 19, 17, 2, 1, 22, 14, 21, 1, 17, 22, 25, 18, 1, 10, 23, 18, 17, 7, 1, 14, 17, 2, 27, 1, 37, 40, 26, 2, 9, 10, 19, 2, 1, 19, 10, 26, 1, 25, 10, 8, 17, 1, 12, 16, 38, 17, 1, 22, 8, 1, 15, 10, 10, 19, 52], '200701-170049_pcm_9fa_elicit_47': [31, 1, 50, 17, 23, 16, 26, 1, 6, 17, 14, 13, 14, 1, 23, 17, 5, 5, 1, 19, 17, 8, 1, 26, 22, 1, 4, 17, 23, 16, 26, 1, 22, 5, 5, 1, 16, 8, 1, 19, 16, 14, 25, 16, 3, 5, 17, 14, 1, 15, 16, 23, 1, 5, 17, 22, 7, 26, 1, 15, 7, 10, 8, 20, 1, 28, 1, 14, 17, 2, 27], '200701-170049_pcm_9fa_elicit_48': [37, 24, 2, 1, 15, 10, 10, 19, 1, 26, 22, 1, 23, 10, 1, 19, 10, 1, 4, 17, 23, 16, 26, 1, 23, 18, 17, 1, 53, 17, 7, 14, 10, 26, 1, 4, 17, 2, 1, 14, 17, 26, 19, 1, 8, 17, 1, 4, 22, 26, 23, 1, 22, 26, 19, 1, 23, 10, 1, 15, 16, 26, 16, 14, 18, 1, 16, 8, 1, 4, 10, 7, 21, 20, 31, 6, 10, 18, 26, 1, 29, 27, 35, 43, 62, 35, 29, 20], '200701-170049_pcm_9fa_elicit_49': [11, 10, 1, 23, 18, 17, 1, 4, 10, 7, 21, 1, 4, 17, 2, 1, 6, 17, 14, 13, 14, 1, 19, 17, 2, 1, 23, 22, 5, 21, 1, 22, 9, 10, 13, 23, 1, 26, 10, 1, 9, 17, 1, 23, 18, 17, 1, 4, 18, 17, 22, 23, 1, 18, 22, 7, 38, 17, 14, 23, 36, 1, 4, 17, 2, 1, 12, 10, 1, 18, 22, 3, 3, 17, 26, 1, 22, 7, 10, 13, 26, 19, 1, 15, 10, 13, 7, 1, 8, 10, 26, 23, 18, 1, 23, 16, 8, 17, 20], '200701-170049_pcm_9fa_elicit_50': [56, 13, 23, 1, 4, 18, 17, 26, 1, 6, 17, 14, 13, 14, 1, 23, 17, 5, 5, 1, 19, 17, 8, 1, 14, 17, 2, 27, 1, 37, 24, 22, 21, 17, 1, 13, 26, 22, 1, 5, 10, 10, 21, 1, 23, 18, 17, 1, 15, 22, 7, 8, 36, 1, 17, 1, 19, 10, 26, 1, 7, 17, 22, 25, 18, 1, 23, 10, 1, 18, 22, 7, 38, 17, 14, 23, 20], '200701-170049_pcm_9fa_elicit_51': [40, 5, 7, 17, 22, 19, 2, 1, 19, 17, 8, 1, 19, 10, 26, 1, 19, 17, 2, 1, 3, 22, 2, 1, 23, 18, 17, 1, 3, 17, 10, 3, 5, 17, 1, 4, 17, 2, 1, 19, 17, 2, 1, 18, 22, 7, 38, 17, 14, 23, 1, 22, 8, 36], '200701-170049_pcm_9fa_elicit_52': [22, 26, 19, 1, 19, 17, 8, 1, 19, 10, 26, 1, 19, 17, 2, 1, 12, 22, 23, 18, 17, 7, 1, 23, 18, 17, 1, 15, 7, 13, 16, 23, 1, 15, 10, 7, 1, 5, 16, 15, 17, 1, 4, 17, 2, 1, 26, 10, 1, 19, 17, 2, 1, 17, 26, 19, 20], '200701-170049_pcm_9fa_elicit_53': [11, 10, 1, 23, 18, 17, 1, 3, 17, 10, 3, 5, 17, 1, 4, 17, 2, 1, 3, 5, 22, 26, 23, 1, 22, 26, 19, 1, 23, 18, 17, 1, 3, 17, 10, 3, 5, 17, 1, 4, 17, 2, 1, 18, 22, 7, 38, 17, 14, 23, 36, 1, 12, 10, 1, 18, 22, 3, 3, 2, 1, 23, 10, 12, 17, 23, 18, 17, 7, 20], '200702-224142_pcm_9fa_elicit_0': [37, 53, 17, 10, 3, 5, 17, 1, 4, 17, 2, 1, 4, 17, 5, 5, 1, 26, 10, 1, 26, 17, 17, 19, 1, 19, 10, 25, 23, 10, 7, 36, 1, 26, 22, 1, 3, 17, 10, 3, 5, 17, 1, 4, 17, 2, 1, 19, 17, 2, 1, 14, 16, 25, 21, 1, 26, 17, 17, 19, 1, 22, 8, 20], '200702-224142_pcm_9fa_elicit_1': [24, 22, 21, 17, 1, 13, 26, 22, 1, 12, 10, 1, 5, 17, 22, 7, 26, 1, 4, 17, 23, 16, 26, 1, 23, 18, 16, 14, 1, 10, 26, 17, 1, 8, 17, 22, 26, 27, 1, 71, 34, 1, 4, 22, 26, 23, 1, 8, 17, 7, 25, 2, 36, 1, 26, 10, 1, 9, 17, 1, 14, 22, 25, 7, 16, 15, 16, 25, 17, 20], '200702-224142_pcm_9fa_elicit_3': [31, 33, 24, 22, 23, 23, 18, 17, 4, 1, 32, 27, 61, 43, 36, 1, 61, 35, 59, 1, 54, 10, 14, 17, 22, 1, 69, 27, 69, 30, 1, 42, 10, 1, 9, 17, 1, 9, 17, 23, 23, 17, 7, 1, 8, 16, 26, 19, 1, 23, 18, 17, 1, 53, 18, 22, 7, 16, 14, 17, 17, 14, 1, 23, 22, 21, 17, 1, 25, 22, 5, 5, 1, 6, 17, 14, 13, 14, 1, 37, 23, 17, 22, 25, 18, 17, 7, 36, 31, 1, 9, 13, 23, 1, 19, 17, 8, 1, 15, 16, 23, 1, 5, 17, 22, 7, 26, 1, 4, 17, 23, 16, 26, 1, 12, 10, 10, 19, 1, 15, 7, 10, 8, 1, 22, 8, 20], '200702-224142_pcm_9fa_elicit_4': [28, 1, 15, 16, 23, 1, 9, 17, 1, 14, 17, 2, 1, 24, 22, 23, 23, 18, 17, 4, 1, 4, 22, 26, 23, 1, 8, 22, 21, 17, 1, 23, 18, 17, 1, 23, 22, 45, 1, 25, 10, 5, 5, 17, 25, 23, 10, 7, 14, 1, 22, 26, 19, 1, 14, 16, 26, 26, 17, 7, 14, 1, 18, 17, 22, 7, 1, 4, 17, 23, 16, 26, 1, 6, 17, 14, 13, 14, 1, 19, 17, 2, 1, 23, 17, 22, 25, 18], '200702-224142_pcm_9fa_elicit_5': [22, 26, 19, 1, 8, 22, 21, 17, 1, 19, 17, 8, 1, 15, 16, 23, 1, 26, 17, 22, 7, 1, 51, 10, 19, 36, 1, 26, 22, 1, 16, 8, 1, 8, 22, 21, 17, 1, 17, 1, 16, 26, 38, 16, 23, 17, 1, 19, 17, 8, 1, 25, 10, 8, 17, 1, 16, 8, 1, 18, 10, 13, 14, 17, 1, 37, 9, 17, 25, 22, 13, 14, 17, 1, 8, 22, 26, 2, 1, 10, 15, 1, 19, 17, 8, 1, 19, 17, 2, 1, 15, 10, 5, 5, 10, 4, 1, 22, 8, 20], '200702-224142_pcm_9fa_elicit_6': [31, 33, 24, 22, 7, 21, 1, 43, 27, 61, 65, 30, 1, 6, 17, 14, 13, 14, 1, 4, 22, 26, 23, 1, 18, 17, 5, 3, 1, 19, 17, 8, 1, 8, 22, 21, 17, 1, 19, 17, 8, 1, 9, 17, 1, 51, 10, 19, 1, 15, 7, 16, 17, 26, 19, 20], '200702-224142_pcm_9fa_elicit_7': [6, 17, 14, 13, 14, 1, 26, 10, 1, 19, 17, 2, 1, 5, 10, 10, 21, 1, 19, 17, 8, 1, 4, 16, 23, 18, 1, 9, 22, 19, 1, 17, 2, 17, 1, 5, 16, 21, 17, 1, 23, 18, 17, 1, 53, 18, 22, 7, 16, 14, 17, 17, 14, 1, 4, 17, 2, 1, 19, 17, 2, 1, 19, 10, 1, 18, 10, 5, 2, 62, 18, 10, 5, 2, 20], '200702-224142_pcm_9fa_elicit_8': [28, 1, 19, 17, 2, 1, 3, 16, 23, 2, 1, 3, 17, 10, 3, 5, 17, 59, 1, 22, 26, 19, 1, 17, 1, 15, 16, 23, 1, 18, 17, 5, 3, 1, 3, 17, 10, 3, 5, 17, 1, 4, 17, 2, 1, 26, 10, 1, 26, 17, 22, 7, 1, 51, 10, 19, 36, 1, 25, 10, 8, 17, 1, 9, 17, 1, 51, 10, 19, 1, 15, 7, 16, 17, 26, 19, 20], '200702-224142_pcm_9fa_elicit_9': [6, 17, 14, 13, 14, 1, 19, 17, 2, 1, 3, 16, 23, 2, 1, 23, 22, 45, 1, 25, 10, 5, 5, 17, 25, 23, 10, 7, 1, 22, 26, 19, 1, 14, 16, 26, 26, 17, 7, 14, 20, 1, 46, 18, 22, 23, 1, 10, 26, 17, 1, 26, 10, 1, 8, 17, 22, 26, 1, 14, 17, 2, 1, 17, 1, 5, 16, 21, 17, 1, 22, 14, 1, 19, 17, 8, 1, 19, 17, 2, 1, 14, 16, 26, 36], '200702-224142_pcm_9fa_elicit_10': [9, 13, 23, 1, 17, 1, 19, 17, 2, 1, 14, 10, 7, 7, 2, 1, 15, 10, 7, 1, 19, 17, 8, 1, 23, 18, 17, 1, 4, 22, 2, 1, 17, 1, 19, 17, 2, 1, 14, 10, 7, 7, 2, 1, 15, 10, 7, 1, 3, 17, 7, 14, 10, 26, 1, 4, 17, 2, 1, 19, 17, 2, 1, 14, 16, 25, 21, 20, 1, 48, 10, 7, 1, 17, 45, 22, 8, 3, 5, 17, 36, 1, 7, 17, 8, 17, 8, 9, 17, 7, 1, 4, 18, 17, 26, 1, 17, 1, 23, 10, 13, 25, 18, 1, 23, 18, 22, 23, 1, 8, 22, 26, 1, 4, 17, 2, 1, 12, 17, 23, 1, 5, 17, 3, 7, 10, 14, 2, 20], '200702-224142_pcm_9fa_elicit_11': [56, 17, 25, 22, 13, 14, 17, 1, 17, 1, 3, 16, 23, 2, 1, 15, 10, 7, 1, 22, 8, 36, 1, 17, 1, 14, 17, 2, 27, 1, 37, 34, 1, 4, 22, 26, 23, 1, 19, 10, 1, 22, 8, 67, 1, 24, 22, 21, 17, 1, 2, 10, 13, 1, 19, 17, 2, 1, 25, 5, 17, 22, 26, 20], '200702-224142_pcm_9fa_elicit_12': [31, 33, 24, 22, 23, 23, 18, 17, 4, 1, 64, 27, 35, 30, 1, 28, 1, 12, 10, 10, 19, 1, 8, 22, 21, 17, 1, 4, 17, 1, 12, 17, 23, 1, 23, 18, 16, 14, 1, 21, 16, 26, 19, 1, 25, 18, 22, 7, 22, 25, 23, 17, 7, 36], '200702-224142_pcm_9fa_elicit_13': [23, 10, 1, 19, 17, 2, 1, 3, 16, 23, 2, 1, 3, 17, 10, 3, 5, 17, 1, 22, 26, 19, 1, 18, 17, 5, 3, 1, 19, 17, 8, 1, 26, 17, 22, 7, 1, 51, 10, 19, 20, 1, 42, 22, 1, 23, 18, 22, 23, 1, 10, 26, 17, 1, 9, 17, 23, 23, 17, 7, 1, 3, 22, 14, 14, 67], '200702-224142_pcm_9fa_elicit_15': [28, 1, 26, 10, 1, 23, 17, 2, 1, 22, 15, 23, 17, 7, 1, 6, 17, 14, 13, 14, 1, 12, 10, 1, 23, 18, 17, 1, 53, 22, 14, 14, 10, 38, 17, 7, 1, 15, 10, 7, 1, 35, 66, 1, 44, 20, 28, 20], '200702-224142_pcm_9fa_elicit_16': [9, 17, 15, 10, 7, 17, 1, 19, 17, 8, 1, 25, 10, 8, 17, 1, 3, 13, 23, 1, 6, 10, 18, 26, 1, 15, 10, 7, 1, 3, 7, 16, 14, 10, 26, 20, 1, 6, 10, 18, 26, 1, 9, 17, 1, 4, 22, 26, 23, 1, 8, 22, 21, 17, 1, 16, 8, 1, 19, 16, 14, 25, 16, 3, 5, 17, 14, 1, 19, 17, 2, 1, 15, 10, 5, 5, 10, 4, 1, 6, 17, 14, 13, 14, 20], '200702-224142_pcm_9fa_elicit_17': [56, 13, 23, 1, 22, 15, 23, 17, 7, 1, 19, 17, 8, 1, 3, 13, 23, 1, 6, 10, 18, 26, 1, 15, 10, 7, 1, 3, 7, 16, 14, 10, 26, 36, 1, 14, 10, 8, 17, 1, 10, 15, 1, 19, 17, 8, 1, 25, 10, 8, 17, 1, 19, 17, 2, 1, 15, 10, 5, 5, 10, 4, 1, 6, 17, 14, 13, 14, 20], '200702-224142_pcm_9fa_elicit_18': [40, 14, 1, 23, 18, 17, 1, 53, 22, 14, 14, 10, 38, 17, 7, 1, 15, 10, 7, 1, 23, 18, 17, 1, 2, 17, 22, 7, 1, 35, 61, 1, 44, 20, 28, 1, 19, 17, 2, 1, 26, 17, 22, 7, 36, 1, 14, 10, 8, 17, 1, 10, 15, 1, 6, 10, 18, 26, 1, 19, 16, 14, 25, 16, 3, 5, 17, 14, 1, 25, 10, 8, 17, 1, 8, 17, 17, 23, 1, 6, 17, 14, 13, 14, 1, 22, 26, 19, 1, 22, 14, 21, 1, 22, 8, 1, 14, 17, 2, 27], '200702-224142_pcm_9fa_elicit_19': [37, 50, 18, 2, 1, 4, 17, 1, 22, 26, 19, 1, 53, 18, 22, 7, 16, 14, 17, 17, 1, 3, 17, 10, 3, 5, 17, 1, 19, 17, 2, 1, 15, 22, 14, 23, 36, 1, 9, 13, 23, 1, 2, 10, 13, 7, 1, 19, 16, 14, 25, 16, 3, 5, 17, 14, 1, 26, 10, 1, 19, 17, 2, 1, 15, 22, 14, 23, 52], '200702-224142_pcm_9fa_elicit_20': [31, 33, 24, 22, 23, 23, 18, 17, 4, 1, 32, 27, 61, 29, 30, 1, 46, 18, 17, 1, 53, 18, 22, 7, 16, 14, 17, 17, 1, 3, 17, 10, 3, 5, 17, 1, 19, 17, 2, 1, 15, 22, 14, 23, 1, 22, 14, 1, 16, 15, 1, 23, 10, 1, 19, 10, 1, 15, 22, 14, 23, 16, 26, 12, 1, 26, 22, 1, 14, 10, 8, 17, 23, 18, 16, 26, 12, 1, 4, 17, 2, 1, 3, 17, 7, 14, 10, 26, 1, 8, 13, 14, 23, 1, 19, 10, 20], '200702-224142_pcm_9fa_elicit_21': [57, 22, 23, 17, 7, 36, 1, 6, 17, 14, 13, 14, 1, 13, 14, 17, 1, 23, 18, 16, 14, 1, 23, 18, 16, 26, 12, 14, 1, 4, 17, 2, 1, 53, 18, 22, 7, 16, 14, 17, 17, 1, 3, 17, 10, 3, 5, 17, 1, 19, 17, 2, 1, 19, 10, 36, 1, 23, 17, 22, 25, 18, 1, 5, 17, 14, 14, 10, 26, 36, 1, 17, 1, 14, 17, 2, 1, 16, 15, 1, 19, 17, 8, 1, 19, 17, 2, 1, 3, 7, 22, 2, 1, 19, 17, 8, 1, 12, 10, 1, 14, 17, 2, 27], '200702-224142_pcm_9fa_elicit_22': [37, 51, 10, 19, 1, 34, 1, 23, 18, 22, 26, 21, 1, 2, 10, 13, 1, 14, 17, 2, 1, 34, 1, 26, 10, 1, 9, 17, 1, 5, 16, 21, 17, 1, 10, 23, 18, 17, 7, 1, 3, 17, 10, 3, 5, 17, 1, 20, 1, 34, 1, 19, 17, 2, 1, 15, 22, 14, 23, 1, 23, 4, 10, 1, 23, 16, 8, 17, 14, 1, 22, 1, 4, 17, 17, 21, 20], '200702-224142_pcm_9fa_elicit_23': [31, 33, 57, 13, 21, 17, 1, 61, 64, 27, 61, 61, 20, 61, 43, 30, 1, 6, 10, 18, 26, 1, 19, 16, 14, 25, 16, 3, 5, 17, 14, 1, 15, 16, 23, 1, 19, 17, 2, 1, 15, 22, 14, 23, 1, 5, 16, 21, 17, 1, 23, 18, 17, 1, 53, 18, 22, 7, 16, 14, 17, 17, 14, 20], '200702-224142_pcm_9fa_elicit_24': [55, 7, 1, 19, 17, 8, 1, 15, 16, 23, 1, 19, 17, 2, 1, 15, 22, 14, 23, 1, 9, 17, 25, 22, 13, 14, 17, 1, 6, 10, 18, 26, 1, 19, 17, 2, 1, 3, 7, 16, 14, 10, 26, 20], '200702-224142_pcm_9fa_elicit_25': [53, 17, 10, 3, 5, 17, 1, 4, 17, 2, 1, 19, 17, 2, 1, 22, 7, 10, 13, 26, 19, 1, 19, 17, 2, 1, 4, 10, 26, 19, 17, 7, 1, 4, 18, 2, 1, 6, 17, 14, 13, 14, 1, 19, 16, 14, 25, 16, 3, 5, 17, 14, 1, 26, 10, 1, 19, 17, 2, 1, 15, 22, 14, 23, 36], '200702-224142_pcm_9fa_elicit_26': [8, 22, 2, 9, 17, 1, 23, 10, 1, 14, 18, 10, 4, 1, 14, 17, 2, 1, 19, 17, 8, 1, 26, 10, 1, 18, 22, 3, 3, 2, 1, 15, 10, 7, 1, 4, 17, 23, 16, 26, 1, 18, 22, 3, 3, 17, 26, 1, 23, 10, 1, 6, 10, 18, 26, 20], '200702-224142_pcm_9fa_elicit_27': [6, 17, 14, 13, 14, 1, 13, 14, 17, 1, 10, 26, 17, 1, 17, 45, 22, 8, 3, 5, 17, 1, 22, 26, 14, 4, 17, 7, 1, 19, 17, 8, 36, 1, 17, 1, 14, 17, 2, 27], '200702-224142_pcm_9fa_elicit_29': [22, 9, 16, 1, 19, 17, 8, 1, 12, 17, 23, 1, 22, 26, 2, 1, 7, 17, 22, 14, 10, 26, 52, 1, 46, 16, 8, 17, 1, 19, 17, 2, 1, 25, 10, 8, 17, 1, 4, 18, 17, 26, 1, 19, 17, 8, 1, 12, 10, 1, 23, 22, 21, 17, 1, 23, 18, 17, 1, 8, 22, 26, 1, 15, 7, 10, 8, 1, 19, 17, 8, 36, 1, 23, 18, 22, 23, 1, 23, 16, 8, 17, 1, 19, 17, 8, 1, 12, 10, 1, 15, 22, 14, 23, 20, 31, 24, 22, 23, 23, 18, 17, 4, 1, 32, 27, 61, 65, 20], '200702-224142_pcm_9fa_elicit_30': [6, 10, 18, 26, 1, 14, 17, 2, 1, 6, 17, 14, 13, 14, 1, 9, 17, 1, 5, 16, 21, 17, 1, 8, 22, 26, 1, 4, 17, 2, 1, 19, 17, 2, 1, 8, 22, 7, 7, 2, 20, 1, 33, 6, 10, 18, 26, 1, 35, 27, 43, 64, 36, 1, 43, 32, 30, 1, 6, 17, 14, 13, 14, 1, 19, 16, 14, 25, 16, 3, 5, 17, 14, 1, 26, 10, 1, 26, 17, 17, 19, 1, 23, 10, 1, 15, 22, 14, 23, 1, 22, 14, 1, 6, 17, 14, 13, 14, 1, 14, 23, 16, 5, 5, 1, 19, 17, 2, 1, 4, 16, 23, 18, 1, 19, 17, 8, 20], '200702-224142_pcm_9fa_elicit_31': [56, 13, 23, 1, 5, 22, 23, 17, 7, 1, 4, 18, 17, 26, 1, 6, 17, 14, 13, 14, 1, 12, 10, 1, 19, 16, 17, 36, 1, 16, 8, 1, 19, 16, 14, 25, 16, 3, 5, 17, 14, 1, 26, 10, 1, 12, 10, 1, 18, 22, 3, 3, 2, 1, 22, 26, 19, 1, 15, 10, 10, 19, 1, 26, 10, 1, 12, 10, 1, 18, 13, 26, 12, 7, 2, 1, 19, 17, 8, 20], '200702-224142_pcm_9fa_elicit_32': [56, 13, 23, 1, 23, 18, 16, 26, 12, 14, 1, 12, 10, 1, 25, 18, 22, 26, 12, 17, 1, 4, 18, 17, 26, 1, 51, 10, 19, 1, 12, 10, 1, 7, 17, 14, 13, 7, 7, 17, 25, 23, 1, 6, 17, 14, 13, 14, 67, 1, 46, 18, 22, 23, 1, 23, 16, 8, 17, 36], '200702-224142_pcm_9fa_elicit_33': [19, 17, 8, 1, 26, 10, 1, 12, 10, 1, 12, 17, 23, 1, 22, 26, 2, 1, 7, 17, 22, 14, 10, 26, 1, 23, 10, 1, 15, 22, 14, 23, 1, 9, 17, 25, 22, 13, 14, 17, 1, 3, 17, 7, 14, 10, 26, 1, 4, 17, 2, 1, 19, 17, 8, 1, 5, 10, 38, 17, 1, 19, 16, 17, 20], '200702-224142_pcm_9fa_elicit_34': [6, 17, 14, 13, 14, 1, 25, 10, 8, 17, 1, 14, 23, 16, 5, 5, 1, 23, 22, 5, 21, 1, 23, 4, 10, 1, 10, 23, 18, 17, 7, 1, 3, 22, 7, 22, 9, 5, 17, 36, 1, 17, 1, 14, 17, 2, 27], '200702-224142_pcm_9fa_elicit_35': [37, 42, 10, 9, 10, 19, 2, 1, 19, 17, 2, 1, 13, 14, 17, 1, 26, 17, 4, 1, 25, 5, 10, 23, 18, 1, 3, 22, 23, 25, 18, 1, 10, 5, 19, 1, 10, 13, 23, 17, 7, 1, 25, 5, 10, 23, 18, 36], '200702-224142_pcm_9fa_elicit_36': [9, 17, 25, 22, 13, 14, 17, 1, 23, 18, 17, 1, 26, 17, 4, 1, 25, 5, 10, 23, 18, 1, 12, 10, 1, 23, 17, 22, 7, 1, 25, 10, 8, 10, 23, 1, 15, 7, 10, 8, 1, 23, 18, 17, 1, 25, 5, 10, 23, 18, 1, 22, 26, 19, 1, 23, 18, 17, 1, 18, 10, 5, 17, 1, 12, 10, 1, 25, 10, 8, 17, 1, 9, 16, 12, 1, 3, 22, 14, 14, 1, 9, 17, 15, 10, 7, 17, 20], '200702-224142_pcm_9fa_elicit_37': [40, 26, 19, 1, 3, 17, 10, 3, 5, 17, 1, 26, 10, 1, 19, 17, 2, 1, 3, 13, 23, 1, 26, 17, 4, 1, 4, 16, 26, 17, 1, 16, 26, 14, 16, 19, 17, 1, 10, 5, 19, 1, 4, 16, 26, 17, 14, 21, 16, 26, 20], '200702-224142_pcm_9fa_elicit_38': [34, 15, 1, 19, 17, 8, 1, 19, 10, 1, 22, 8, 36, 1, 23, 18, 17, 1, 4, 16, 26, 17, 14, 21, 16, 26, 1, 12, 10, 1, 9, 13, 7, 14, 23, 36, 1, 23, 18, 17, 1, 4, 16, 26, 17, 1, 12, 10, 1, 4, 22, 14, 23, 17, 1, 22, 26, 19, 1, 23, 18, 17, 1, 4, 16, 26, 17, 14, 21, 16, 26, 1, 12, 10, 1, 14, 3, 10, 16, 5, 20], '200702-224142_pcm_9fa_elicit_41': [28, 1, 4, 22, 26, 23, 1, 8, 22, 21, 17, 1, 19, 17, 8, 1, 21, 26, 10, 4, 1, 14, 17, 2, 1, 19, 17, 8, 1, 26, 10, 1, 14, 13, 3, 3, 10, 14, 17, 1, 19, 17, 2, 1, 3, 13, 23, 1, 8, 16, 26, 19, 1, 14, 17, 2, 1, 16, 8, 1, 19, 16, 14, 25, 16, 3, 5, 17, 14, 1, 12, 10, 1, 19, 17, 2, 1, 15, 10, 5, 5, 10, 4, 1, 23, 18, 17, 1, 23, 18, 16, 26, 12, 14, 1, 4, 17, 2, 1, 3, 17, 10, 3, 5, 17, 1, 15, 10, 7, 1, 6, 17, 4, 1, 7, 17, 5, 16, 12, 16, 10, 26, 1, 19, 17, 2, 1, 19, 10, 36], '200702-224142_pcm_9fa_elicit_42': [5, 16, 21, 17, 1, 23, 10, 1, 19, 17, 2, 1, 15, 22, 14, 23, 20, 1, 28, 1, 26, 10, 1, 25, 10, 8, 17, 1, 3, 22, 23, 25, 18, 1, 23, 18, 17, 1, 10, 5, 19, 1, 4, 22, 2, 1, 23, 18, 17, 1, 6, 17, 4, 14, 1, 23, 22, 21, 17, 1, 19, 17, 2, 1, 4, 10, 7, 14, 18, 16, 3, 1, 10, 7, 1, 23, 10, 1, 8, 22, 21, 17, 1, 22, 8, 1, 25, 10, 26, 23, 16, 26, 13, 17, 20], '200702-224142_pcm_9fa_elicit_43': [28, 1, 19, 10, 26, 1, 7, 17, 22, 25, 18, 1, 23, 16, 8, 17, 1, 23, 10, 1, 23, 7, 10, 4, 17, 2, 1, 23, 18, 16, 14, 1, 10, 5, 19, 1, 4, 22, 2, 1, 10, 15, 1, 4, 10, 7, 14, 18, 16, 3, 20], '200702-224142_pcm_9fa_elicit_44': [46, 18, 17, 1, 21, 16, 26, 19, 1, 4, 10, 7, 14, 18, 16, 3, 1, 4, 17, 2, 1, 6, 17, 14, 13, 14, 1, 19, 17, 2, 1, 17, 26, 25, 10, 13, 7, 22, 12, 17, 1, 19, 17, 8, 1, 23, 10, 1, 15, 10, 5, 5, 10, 4, 1, 26, 10, 1, 9, 17, 1, 23, 18, 17, 1, 6, 17, 4, 1, 3, 17, 10, 3, 5, 17, 1, 10, 4, 26, 36], '200702-224142_pcm_9fa_elicit_45': [4, 17, 2, 1, 19, 17, 2, 1, 23, 17, 22, 25, 18, 1, 18, 13, 8, 22, 26, 1, 9, 17, 16, 26, 12, 1, 23, 7, 22, 19, 16, 23, 16, 10, 26, 1, 22, 14, 1, 9, 17, 5, 16, 17, 15, 20], '200702-224142_pcm_9fa_elicit_46': [6, 17, 14, 13, 14, 1, 26, 10, 1, 19, 17, 2, 1, 23, 7, 2, 1, 23, 10, 1, 13, 14, 17, 1, 26, 17, 4, 1, 25, 5, 10, 23, 18, 1, 3, 22, 23, 25, 18, 1, 10, 5, 19, 1, 10, 26, 17, 1, 10, 7, 1, 3, 13, 23, 1, 26, 17, 4, 1, 4, 16, 26, 17, 1, 16, 26, 14, 16, 19, 17, 1, 10, 5, 19, 1, 4, 16, 26, 17, 14, 21, 16, 26, 20], '200702-224142_pcm_9fa_elicit_47': [53, 17, 7, 14, 10, 26, 1, 48, 16, 23, 1, 39, 10, 1, 51, 10, 10, 19, 1, 46, 18, 16, 26, 12, 1, 55, 26, 1, 11, 22, 9, 9, 22, 23, 18, 1, 39, 22, 2, 52], '200702-224142_pcm_9fa_elicit_48': [6, 17, 14, 13, 14, 1, 19, 10, 26, 1, 3, 7, 17, 22, 25, 18, 1, 4, 17, 5, 5, 1, 4, 17, 5, 5, 1, 15, 10, 7, 1, 51, 22, 5, 16, 5, 17, 17, 20, 1, 56, 13, 23, 1, 4, 18, 17, 26, 1, 17, 1, 14, 17, 2, 36], '200702-224142_pcm_9fa_elicit_49': [37, 34, 1, 8, 13, 14, 23, 1, 3, 7, 17, 22, 25, 18, 1, 23, 18, 17, 1, 12, 10, 10, 19, 1, 26, 17, 4, 14, 1, 22, 9, 10, 13, 23, 1, 51, 10, 19, 1, 58, 16, 26, 12, 19, 10, 8, 1, 15, 10, 7, 1, 10, 23, 18, 17, 7, 1, 25, 16, 23, 2, 36], '200702-224142_pcm_9fa_elicit_50': [31, 17, 1, 8, 17, 22, 26, 1, 14, 17, 2, 1, 26, 10, 1, 9, 17, 1, 10, 26, 5, 2, 1, 51, 22, 5, 16, 5, 17, 17, 1, 17, 1, 12, 17, 23, 1, 15, 10, 7, 1, 8, 16, 26, 19, 20], '200702-224142_pcm_9fa_elicit_51': [37, 42, 22, 1, 16, 8, 1, 17, 1, 12, 10, 36, 1, 19, 17, 2, 1, 3, 7, 17, 22, 25, 18, 1, 15, 10, 7, 1, 22, 5, 5, 1, 23, 18, 17, 1, 14, 2, 26, 22, 12, 10, 12, 13, 17, 1, 4, 17, 2, 1, 19, 17, 2, 1, 6, 13, 19, 17, 22, 20], '200702-224142_pcm_9fa_elicit_52': [31, 33, 57, 13, 21, 17, 1, 29, 27, 29, 35, 36, 1, 29, 29, 30, 1, 42, 22, 1, 9, 17, 23, 23, 17, 7, 1, 23, 18, 16, 26, 12, 1, 9, 17, 25, 22, 13, 14, 17, 1, 23, 18, 17, 1, 15, 17, 14, 23, 16, 38, 22, 5, 1, 15, 10, 7, 1, 6, 17, 7, 13, 14, 22, 5, 17, 8, 1, 19, 10, 26, 1, 19, 17, 2, 1, 26, 17, 22, 7, 20], '200702-225625_pcm_9fa_elicit_0': [39, 17, 8, 1, 26, 10, 1, 23, 22, 5, 21, 1, 3, 5, 17, 26, 23, 2, 1, 23, 18, 16, 26, 12, 14, 1, 22, 9, 10, 13, 23, 1, 6, 17, 14, 13, 14, 1, 3, 7, 17, 22, 25, 18, 16, 26, 12, 1, 15, 10, 7, 1, 6, 13, 19, 17, 22, 1, 23, 18, 17, 1, 4, 22, 2, 1, 19, 17, 8, 1, 23, 22, 5, 21, 1, 22, 9, 10, 13, 23, 1, 16, 8, 1, 3, 7, 17, 22, 25, 18, 16, 26, 12, 1, 15, 10, 7, 1, 51, 22, 5, 16, 5, 17, 17, 20], '200702-225625_pcm_9fa_elicit_1': [28, 38, 17, 26, 1, 23, 18, 10, 13, 12, 18, 1, 14, 17, 2, 1, 8, 22, 26, 2, 1, 3, 17, 10, 3, 5, 17, 1, 26, 10, 1, 12, 7, 17, 17, 1, 5, 16, 14, 23, 17, 26, 1, 23, 10, 1, 22, 8, 1, 15, 10, 7, 1, 6, 13, 19, 17, 22, 36], '200702-225625_pcm_9fa_elicit_2': [23, 18, 22, 23, 1, 10, 26, 17, 1, 26, 10, 1, 14, 23, 10, 3, 1, 22, 8, 1, 23, 10, 1, 19, 17, 2, 1, 3, 7, 17, 22, 25, 18, 1, 22, 26, 19, 1, 19, 10, 1, 9, 17, 23, 23, 17, 7, 1, 23, 18, 16, 26, 12, 14, 1, 15, 10, 7, 1, 3, 17, 10, 3, 5, 17, 1, 22, 26, 2, 4, 18, 17, 7, 17, 1, 17, 1, 12, 10, 20], '200702-225625_pcm_9fa_elicit_3': [28, 1, 26, 10, 1, 23, 17, 2, 36, 1, 6, 17, 14, 13, 14, 1, 12, 10, 1, 6, 17, 7, 13, 14, 22, 5, 17, 8, 1, 4, 17, 2, 1, 9, 17, 1, 23, 18, 17, 1, 8, 22, 16, 26, 1, 25, 16, 23, 2, 1, 15, 10, 7, 1, 6, 13, 19, 17, 22, 36, 1, 9, 17, 25, 22, 13, 14, 17, 1, 10, 15, 1, 23, 18, 17, 1, 53, 22, 14, 14, 10, 38, 17, 7, 1, 10, 15, 1, 35, 61, 1, 44, 20, 28, 20], '200702-225625_pcm_9fa_elicit_4': [48, 10, 7, 1, 10, 26, 17, 1, 9, 13, 14, 2, 1, 22, 7, 17, 22, 1, 4, 17, 2, 1, 26, 17, 22, 7, 1, 23, 18, 17, 1, 11, 18, 17, 17, 3, 1, 51, 22, 23, 17, 36, 1, 17, 1, 12, 17, 23, 1, 10, 26, 17, 1, 9, 16, 12, 1, 3, 10, 10, 5, 1, 4, 17, 2, 1, 19, 17, 8, 1, 19, 17, 2, 1, 25, 22, 5, 5, 1, 56, 17, 23, 18, 49, 22, 23, 18, 22, 20], '200702-225625_pcm_9fa_elicit_5': [53, 17, 10, 3, 5, 17, 1, 4, 17, 2, 1, 19, 17, 2, 1, 14, 16, 25, 21, 36, 1, 4, 17, 2, 1, 9, 5, 16, 26, 19, 1, 22, 26, 19, 1, 25, 7, 16, 3, 3, 5, 17, 1, 19, 17, 2, 1, 25, 10, 8, 17, 1, 23, 18, 16, 14, 1, 3, 10, 10, 5, 20], '200702-225625_pcm_9fa_elicit_6': [50, 18, 2, 52, 1, 56, 17, 25, 22, 13, 14, 17, 1, 19, 17, 8, 1, 9, 17, 5, 16, 17, 38, 17, 1, 14, 17, 2, 1, 17, 1, 15, 16, 23, 1, 18, 17, 22, 5, 1, 3, 17, 7, 14, 10, 26, 1, 16, 15, 1, 17, 1, 17, 26, 23, 17, 7, 1, 23, 18, 17, 1, 3, 10, 10, 5, 1, 4, 18, 17, 26, 1, 23, 18, 17, 1, 4, 22, 23, 17, 7, 1, 19, 17, 2, 1, 14, 18, 22, 21, 17, 20], '200702-225625_pcm_9fa_elicit_8': [28, 1, 25, 10, 8, 17, 1, 22, 14, 21, 1, 23, 18, 17, 1, 8, 22, 26, 1, 14, 17, 2, 27, 1, 37, 70, 10, 13, 1, 4, 22, 26, 23, 1, 8, 22, 21, 17, 1, 2, 10, 13, 1, 4, 17, 5, 5, 52, 31, 1, 46, 18, 17, 1, 8, 22, 26, 1, 25, 10, 8, 17, 1, 22, 26, 14, 4, 17, 7, 1, 22, 8, 1, 14, 17, 2, 27], '200702-225625_pcm_9fa_elicit_9': [37, 55, 12, 22, 36, 1, 34, 1, 26, 10, 1, 12, 17, 23, 1, 3, 17, 7, 14, 10, 26, 1, 4, 17, 2, 1, 12, 10, 1, 3, 13, 23, 1, 8, 17, 1, 16, 26, 14, 16, 19, 17, 1, 23, 18, 17, 1, 4, 22, 23, 17, 7, 1, 4, 18, 17, 26, 1, 17, 1, 19, 17, 2, 1, 14, 18, 22, 21, 17, 20], '200702-225625_pcm_9fa_elicit_10': [56, 17, 15, 10, 7, 17, 1, 34, 1, 7, 17, 22, 25, 18, 1, 23, 18, 17, 7, 17, 36, 1, 22, 26, 10, 23, 18, 17, 7, 1, 3, 17, 7, 14, 10, 26, 1, 19, 10, 26, 1, 15, 16, 7, 14, 23, 1, 8, 17, 1, 17, 26, 23, 17, 7, 20, 31, 6, 10, 18, 26, 1, 65, 27, 69, 36, 1, 60, 20], '200702-225625_pcm_9fa_elicit_11': [6, 17, 14, 13, 14, 1, 25, 10, 8, 17, 1, 23, 22, 5, 21, 1, 14, 10, 8, 17, 23, 18, 16, 26, 12, 1, 4, 17, 2, 1, 14, 13, 7, 3, 7, 16, 14, 17, 1, 23, 18, 17, 1, 8, 22, 26, 1, 22, 26, 19, 1, 10, 23, 18, 17, 7, 1, 3, 17, 10, 3, 5, 17, 1, 4, 17, 2, 1, 18, 17, 22, 7, 1, 22, 8, 20], '200702-225625_pcm_9fa_elicit_12': [28, 1, 14, 17, 2, 27, 1, 37, 11, 23, 22, 26, 19, 1, 13, 3, 36, 1, 25, 22, 7, 7, 2, 1, 2, 10, 13, 7, 1, 8, 22, 23, 36, 1, 22, 26, 19, 1, 4, 22, 21, 22, 20, 31, 1, 33, 6, 10, 18, 26, 1, 65, 27, 64, 30, 1, 40, 26, 19, 1, 26, 22, 1, 4, 17, 23, 16, 26, 1, 23, 18, 17, 1, 8, 22, 26, 1, 19, 10, 1, 9, 17, 1, 23, 18, 22, 23, 20], '200702-225625_pcm_9fa_elicit_13': [40, 23, 1, 10, 26, 25, 17, 36, 1, 23, 18, 17, 1, 8, 22, 26, 1, 25, 22, 7, 7, 2, 1, 16, 8, 1, 8, 22, 23, 36, 1, 22, 26, 19, 1, 14, 23, 22, 7, 23, 1, 23, 10, 1, 19, 17, 2, 1, 4, 22, 21, 22, 67], '200702-225625_pcm_9fa_elicit_14': [6, 17, 4, 1, 3, 17, 10, 3, 5, 17, 1, 19, 17, 2, 1, 23, 22, 5, 21, 1, 23, 10, 1, 10, 26, 17, 1, 8, 22, 26, 1, 4, 17, 2, 1, 6, 17, 14, 13, 14, 1, 18, 17, 22, 5], '200702-225625_pcm_9fa_elicit_15': [48, 10, 7, 1, 6, 17, 4, 1, 3, 17, 10, 3, 5, 17, 1, 23, 10, 1, 19, 17, 2, 1, 18, 22, 3, 3, 2, 1, 15, 10, 7, 1, 23, 18, 16, 14, 1, 9, 17, 23, 23, 17, 7, 1, 23, 18, 16, 26, 12, 1, 4, 17, 2, 1, 18, 22, 3, 3, 17, 26, 36, 1, 19, 17, 8, 1, 25, 10, 8, 17, 1, 14, 23, 22, 7, 23, 1, 23, 10, 1, 19, 17, 2, 1, 23, 7, 10, 13, 9, 5, 17, 1, 23, 18, 17, 1, 8, 22, 26, 20], '200702-225625_pcm_9fa_elicit_16': [39, 17, 8, 1, 23, 17, 5, 5, 1, 22, 8, 1, 14, 17, 2, 27, 1, 37, 46, 10, 19, 22, 2, 1, 26, 22, 1, 11, 22, 9, 9, 22, 23, 18, 36, 1, 22, 26, 19, 1, 23, 18, 17, 1, 5, 22, 4, 1, 26, 10, 1, 14, 13, 3, 3, 10, 7, 23, 1, 8, 22, 21, 17, 1, 2, 10, 13, 1, 25, 22, 7, 7, 2, 1, 23, 18, 16, 14, 1, 8, 22, 23, 20], '200702-225625_pcm_9fa_elicit_17': [31, 46, 18, 17, 1, 8, 22, 26, 1, 25, 10, 8, 17, 1, 22, 26, 14, 4, 17, 7, 1, 19, 17, 8, 1, 14, 17, 2, 27, 1, 37, 46, 18, 17, 1, 3, 17, 7, 14, 10, 26, 1, 4, 17, 2, 1, 18, 17, 22, 5, 1, 8, 17, 1, 23, 17, 5, 5, 1, 8, 17, 1, 14, 17, 2, 36, 1, 71, 25, 22, 7, 7, 2, 1, 2, 10, 13, 7, 1, 8, 22, 23, 36, 1, 22, 26, 19, 1, 4, 22, 21, 22, 20], '200702-225625_pcm_9fa_elicit_18': [72, 31, 1, 33, 6, 10, 18, 26, 1, 65, 27, 61, 66, 36, 1, 61, 61, 30, 1, 46, 18, 17, 1, 6, 17, 4, 14, 1, 26, 10, 1, 5, 16, 21, 17, 1, 22, 8, 1, 22, 14, 1, 3, 17, 7, 14, 10, 26, 1, 19, 17, 2, 1, 18, 17, 22, 5, 1, 3, 17, 10, 3, 5, 17, 1, 10, 26, 1, 11, 22, 9, 9, 22, 23, 18, 1, 19, 22, 2, 20], '200702-225625_pcm_9fa_elicit_19': [39, 17, 8, 1, 22, 14, 21, 1, 23, 18, 17, 1, 8, 22, 26, 1, 14, 17, 2, 27, 1, 37, 50, 18, 10, 1, 9, 17, 1, 23, 18, 17, 1, 3, 17, 7, 14, 10, 26, 1, 4, 17, 2, 1, 23, 17, 5, 5, 1, 2, 10, 13, 1, 14, 17, 2, 1, 71, 25, 22, 7, 7, 2, 1, 22, 8, 1, 22, 26, 19, 1, 4, 22, 21, 22, 72, 52], '200702-225625_pcm_9fa_elicit_20': [31, 50, 18, 2, 1, 19, 17, 8, 1, 19, 17, 2, 1, 22, 14, 21, 1, 22, 8, 52, 1, 56, 17, 25, 22, 13, 14, 17, 1, 6, 17, 14, 13, 14, 1, 71, 19, 10, 26, 1, 17, 26, 23, 17, 7, 1, 4, 18, 17, 7, 17, 1, 3, 5, 17, 26, 23, 2, 1, 3, 17, 10, 3, 5, 17, 1, 19, 17, 2, 20, 72, 1, 40, 26, 19, 1, 23, 18, 17, 1, 8, 22, 26, 1, 26, 10, 1, 21, 26, 10, 4, 1, 6, 17, 14, 13, 14, 1, 26, 22, 8, 17, 20], '200702-225625_pcm_9fa_elicit_22': [57, 22, 23, 17, 7, 36, 1, 23, 18, 17, 1, 8, 22, 26, 1, 8, 17, 17, 23, 1, 6, 17, 14, 13, 14, 1, 15, 10, 7, 1, 23, 18, 17, 1, 23, 17, 8, 3, 5, 17, 20, 1, 42, 22, 1, 23, 18, 17, 7, 17, 1, 17, 1, 21, 26, 10, 4, 1, 23, 18, 17, 1, 26, 22, 8, 17, 1, 10, 15, 1, 23, 18, 17, 1, 3, 17, 7, 14, 10, 26, 1, 4, 17, 2, 1, 18, 17, 22, 5, 1, 22, 8, 20], '200702-225625_pcm_9fa_elicit_23': [57, 22, 23, 17, 7, 1, 4, 18, 17, 26, 1, 23, 18, 17, 1, 8, 22, 26, 1, 14, 17, 17, 1, 23, 18, 17, 1, 6, 17, 4, 1, 3, 17, 10, 3, 5, 17, 36, 1, 17, 1, 23, 17, 5, 5, 1, 19, 17, 8, 1, 14, 17, 2, 1, 26, 22, 1, 6, 17, 14, 13, 14, 1, 18, 17, 22, 5, 1, 22, 8, 20], '200702-225625_pcm_9fa_elicit_24': [40, 14, 1, 19, 17, 8, 1, 18, 17, 22, 7, 1, 22, 8, 36, 1, 19, 17, 8, 1, 12, 10, 1, 8, 17, 17, 23, 1, 6, 17, 14, 13, 14, 20, 1, 42, 10, 1, 9, 17, 1, 23, 10, 1, 12, 10, 1, 21, 26, 10, 4, 1, 18, 10, 4, 1, 6, 17, 14, 13, 14, 1, 23, 22, 21, 17, 1, 12, 17, 23, 1, 3, 10, 4, 17, 7, 1, 4, 17, 2, 1, 17, 1, 23, 22, 21, 17, 1, 19, 17, 2, 1, 19, 10, 1, 8, 16, 7, 22, 25, 5, 17, 36], '200702-225625_pcm_9fa_elicit_25': [9, 13, 23, 1, 26, 22, 1, 23, 10, 1, 63, 13, 22, 7, 7, 17, 5, 1, 4, 16, 23, 18, 1, 22, 8, 1, 14, 17, 2, 1, 17, 1, 18, 17, 22, 5, 1, 3, 17, 7, 14, 10, 26, 1, 10, 26, 1, 11, 22, 9, 9, 22, 23, 18, 1, 19, 22, 2, 20, 1, 39, 17, 8, 1, 25, 10, 8, 17, 1, 17, 38, 17, 26, 1, 14, 23, 22, 7, 23, 1, 23, 10, 1, 12, 16, 38, 17, 1, 22, 8, 1, 3, 7, 10, 9, 5, 17, 8, 67], '200702-225625_pcm_9fa_elicit_27': [37, 24, 2, 1, 48, 22, 23, 18, 17, 7, 1, 25, 10, 26, 23, 16, 26, 13, 17, 1, 23, 10, 1, 19, 17, 2, 1, 4, 10, 7, 21, 1, 25, 10, 8, 17, 1, 7, 17, 22, 25, 18, 1, 26, 10, 4, 36, 1, 22, 26, 19, 1, 34, 1, 26, 10, 1, 14, 23, 10, 3, 1, 23, 10, 1, 19, 17, 2, 1, 4, 10, 7, 21, 20, 31, 6, 10, 18, 26, 1, 65, 27, 61, 60, 20], '200702-225625_pcm_9fa_elicit_28': [51, 10, 19, 1, 5, 22, 4, 1, 22, 9, 10, 13, 23, 1, 23, 18, 17, 1, 11, 22, 9, 9, 22, 23, 18, 1, 26, 10, 1, 15, 10, 7, 9, 16, 19, 1, 23, 18, 17, 1, 4, 10, 7, 21, 1, 4, 17, 2, 1, 6, 17, 14, 13, 14, 1, 19, 17, 2, 1, 19, 10, 20], '200702-225625_pcm_9fa_elicit_29': [42, 22, 1, 51, 10, 19, 36, 1, 6, 17, 14, 13, 14, 1, 19, 17, 2, 1, 25, 10, 3, 2, 1, 22, 14, 1, 17, 1, 19, 17, 2, 1, 3, 7, 17, 22, 25, 18, 1, 22, 26, 19, 1, 19, 17, 2, 1, 19, 10, 1, 8, 16, 7, 22, 25, 5, 17, 20], '200702-225625_pcm_9fa_elicit_30': [42, 22, 1, 16, 8, 1, 8, 22, 21, 17, 1, 6, 17, 14, 13, 14, 1, 25, 10, 26, 23, 16, 26, 13, 17, 1, 23, 10, 1, 19, 10, 1, 12, 10, 10, 19, 1, 23, 18, 16, 26, 12, 14, 1, 17, 38, 17, 7, 2, 19, 22, 2, 20], '200702-225625_pcm_9fa_elicit_31': [56, 13, 23, 1, 23, 18, 17, 1, 22, 26, 14, 4, 17, 7, 1, 4, 17, 2, 1, 6, 17, 14, 13, 14, 1, 12, 16, 38, 17, 1, 23, 18, 17, 1, 6, 17, 4, 1, 19, 17, 8, 1, 8, 22, 21, 17, 1, 19, 17, 8, 1, 38, 17, 45, 1, 8, 10, 7, 17, 1, 14, 10, 23, 17, 2, 1, 19, 17, 8, 1, 4, 22, 26, 23, 1, 21, 16, 5, 5, 1, 22, 8, 20, 1, 50, 18, 2, 1, 19, 17, 8, 1, 38, 17, 45, 1, 5, 16, 21, 17, 1, 23, 18, 22, 23, 52], '200702-225625_pcm_9fa_elicit_32': [40, 3, 22, 7, 23, 1, 15, 7, 10, 8, 1, 14, 17, 2, 36, 1, 19, 17, 8, 1, 19, 17, 2, 1, 23, 18, 16, 26, 21, 1, 14, 17, 2, 1, 6, 17, 14, 13, 14, 1, 19, 17, 2, 1, 9, 7, 17, 22, 21, 1, 23, 18, 17, 1, 11, 22, 9, 9, 22, 23, 18, 1, 5, 22, 4, 1, 22, 14, 1, 17, 1, 19, 17, 2, 1, 25, 13, 7, 17, 1, 3, 17, 10, 3, 5, 17, 36], '200702-225625_pcm_9fa_elicit_33': [17, 1, 38, 17, 45, 1, 19, 17, 8, 1, 4, 17, 5, 5, 1, 4, 17, 5, 5, 1, 22, 14, 1, 6, 17, 14, 13, 14, 1, 23, 22, 5, 21, 1, 14, 17, 2, 1, 16, 8, 1, 26, 22, 1, 51, 10, 19, 1, 11, 10, 26, 20, 1, 39, 17, 8, 1, 23, 22, 21, 17, 1, 22, 8, 1, 22, 14, 1, 16, 26, 14, 13, 5, 23, 1, 23, 10, 1, 51, 10, 19, 1, 15, 10, 7, 1, 6, 17, 14, 13, 14, 1, 23, 10, 1, 25, 22, 5, 5, 1, 51, 10, 19, 1, 16, 8, 1, 48, 22, 23, 18, 17, 7, 36], '200702-225625_pcm_9fa_elicit_34': [22, 14, 1, 16, 15, 1, 6, 17, 14, 13, 14, 1, 19, 17, 2, 1, 23, 22, 5, 21, 1, 14, 17, 2, 1, 16, 8, 1, 22, 26, 19, 1, 51, 10, 19, 1, 26, 22, 1, 8, 22, 23, 17, 20], '200702-225625_pcm_9fa_elicit_35': [56, 13, 23, 1, 6, 17, 14, 13, 14, 1, 26, 10, 1, 15, 17, 22, 7, 1, 19, 17, 8, 1, 22, 26, 19, 1, 17, 1, 17, 38, 17, 26, 1, 23, 22, 5, 21, 1, 22, 9, 10, 13, 23, 1, 23, 18, 17, 1, 21, 16, 26, 19, 1, 14, 3, 17, 25, 16, 22, 5, 1, 15, 7, 16, 17, 26, 19, 1, 4, 17, 2, 1, 16, 8, 1, 22, 26, 19, 1, 16, 8, 1, 48, 22, 23, 18, 17, 7, 1, 9, 17, 20], '200702-225625_pcm_9fa_elicit_36': [6, 17, 14, 13, 14, 1, 23, 22, 5, 21, 1, 14, 17, 2, 27, 1, 37, 46, 18, 17, 1, 48, 22, 23, 18, 17, 7, 1, 5, 10, 38, 17, 1, 23, 18, 17, 1, 11, 10, 26, 36, 1, 17, 1, 14, 18, 10, 4, 1, 22, 8, 1, 22, 5, 5, 1, 23, 18, 17, 1, 23, 18, 16, 26, 12, 14, 1, 4, 17, 2, 1, 17, 1, 19, 10, 20, 31, 6, 10, 18, 26, 1, 65, 27, 43, 66, 20], '200702-225625_pcm_9fa_elicit_37': [42, 22, 1, 23, 18, 17, 1, 48, 22, 23, 18, 17, 7, 1, 19, 17, 2, 1, 12, 16, 38, 17, 1, 5, 16, 15, 17, 1, 22, 26, 19, 1, 15, 10, 7, 1, 10, 5, 19, 17, 26, 1, 19, 22, 2, 14, 36, 1, 17, 1, 12, 16, 38, 17, 1, 14, 10, 8, 17, 1, 3, 17, 10, 3, 5, 17, 1, 3, 10, 4, 17, 7, 1, 23, 10, 1, 9, 7, 16, 26, 12, 1, 3, 17, 10, 3, 5, 17, 1, 4, 17, 2, 1, 19, 16, 17, 1, 25, 10, 8, 17, 1, 5, 16, 15, 17, 1, 22, 12, 22, 16, 26, 20], '200702-225625_pcm_9fa_elicit_38': [6, 17, 14, 13, 14, 1, 14, 23, 16, 5, 5, 1, 23, 22, 5, 21, 1, 14, 22, 2, 27, 1, 37, 6, 13, 14, 23, 1, 22, 14, 1, 23, 18, 17, 1, 48, 22, 23, 18, 17, 7, 1, 19, 17, 2, 1, 9, 7, 16, 26, 12, 1, 3, 17, 10, 3, 5, 17, 1, 4, 17, 2, 1, 19, 16, 17, 1, 25, 10, 8, 17, 1, 9, 22, 25, 21, 1, 23, 10, 1, 5, 16, 15, 17, 36], '200702-225625_pcm_9fa_elicit_39': [26, 22, 1, 14, 10, 1, 23, 18, 17, 1, 11, 10, 26, 1, 19, 17, 2, 1, 9, 7, 16, 26, 12, 1, 22, 26, 2, 9, 10, 19, 2, 1, 4, 17, 2, 1, 17, 1, 4, 22, 26, 23, 1, 25, 10, 8, 17, 1, 9, 22, 25, 21, 1, 23, 10, 1, 5, 16, 15, 17, 20], '200702-225625_pcm_9fa_elicit_40': [31, 33, 6, 10, 18, 26, 1, 65, 27, 43, 61, 30, 1, 42, 22, 1, 9, 17, 23, 23, 17, 7, 1, 23, 18, 16, 26, 12, 1, 6, 17, 14, 13, 14, 1, 23, 22, 5, 21, 1, 14, 10, 1, 22, 26, 19, 1, 17, 1, 8, 22, 21, 17, 1, 13, 14, 1, 12, 17, 23, 1, 18, 10, 3, 17, 1, 15, 10, 7, 1, 15, 7, 10, 26, 23, 20, 1, 28, 38, 17, 26, 1, 26, 10, 4, 36], '200702-225625_pcm_9fa_elicit_41': [6, 17, 14, 13, 14, 1, 19, 10, 26, 1, 19, 17, 2, 1, 18, 17, 5, 3, 1, 3, 17, 10, 3, 5, 17, 1, 21, 26, 10, 4, 1, 51, 10, 19, 20, 1, 42, 22, 1, 16, 8, 1, 8, 22, 21, 17, 1, 6, 17, 14, 13, 14, 1, 14, 17, 2, 27], '200702-225625_pcm_9fa_elicit_42': [37, 40, 26, 2, 9, 10, 19, 2, 1, 4, 17, 2, 1, 18, 17, 22, 7, 1, 8, 2, 1, 4, 10, 7, 19, 36, 1, 22, 26, 19, 1, 9, 17, 5, 16, 17, 38, 17, 1, 22, 8, 36, 1, 23, 18, 17, 1, 53, 17, 7, 14, 10, 26, 1, 4, 17, 2, 1, 14, 17, 26, 19, 1, 8, 17, 1, 25, 10, 8, 17, 1, 12, 10, 1, 12, 16, 38, 17, 1, 22, 8, 1, 5, 16, 15, 17, 1, 4, 17, 2, 1, 26, 10, 1, 12, 10, 1, 17, 26, 19, 36], '200702-225625_pcm_9fa_elicit_43': [22, 26, 19, 1, 17, 1, 26, 10, 1, 12, 10, 1, 17, 26, 23, 17, 7, 1, 41, 13, 19, 12, 17, 8, 17, 26, 23, 36, 1, 9, 13, 23, 1, 17, 1, 12, 10, 1, 17, 14, 25, 22, 3, 17, 1, 19, 17, 22, 23, 18, 1, 22, 26, 19, 1, 12, 17, 23, 1, 5, 16, 15, 17, 20, 31, 6, 10, 18, 26, 1, 65, 27, 43, 29, 20], '200702-225625_pcm_9fa_elicit_44': [28, 38, 17, 26, 1, 23, 18, 10, 13, 12, 18, 1, 14, 17, 2, 1, 26, 10, 23, 18, 16, 26, 12, 1, 14, 18, 10, 4, 1, 14, 17, 2, 1, 6, 17, 14, 13, 14, 1, 19, 10, 26, 1, 9, 7, 16, 26, 12, 1, 22, 26, 2, 9, 10, 19, 2, 1, 4, 17, 2, 1, 19, 16, 17, 1, 25, 10, 8, 17, 1, 5, 16, 15, 17, 36, 1, 17, 1, 5, 17, 23, 1, 19, 17, 8, 1, 21, 26, 10, 4, 1, 14, 17, 2, 1, 17, 1, 12, 10, 1, 18, 22, 3, 3, 17, 26, 20], '200702-225625_pcm_9fa_elicit_45': [28, 1, 23, 22, 5, 21, 1, 14, 17, 2, 27, 1, 23, 18, 17, 1, 23, 16, 8, 17, 1, 19, 17, 2, 1, 25, 10, 8, 17, 1, 4, 18, 17, 26, 1, 22, 5, 5, 1, 23, 18, 17, 1, 3, 17, 10, 3, 5, 17, 1, 4, 17, 2, 1, 19, 17, 2, 1, 16, 26, 14, 16, 19, 17, 1, 12, 7, 22, 38, 17, 1, 10, 15, 1, 7, 17, 8, 17, 8, 9, 7, 22, 26, 25, 17, 1, 12, 10, 1, 18, 17, 22, 7, 1, 16, 8, 1, 38, 10, 16, 25, 17, 20, 31, 6, 10, 18, 26, 1, 65, 27, 43, 64, 36, 1, 43, 32, 20], '200702-225625_pcm_9fa_elicit_46': [40, 14, 1, 6, 17, 14, 13, 14, 1, 4, 10, 7, 21, 1, 19, 17, 2, 1, 16, 8, 3, 10, 7, 23, 22, 26, 23, 1, 7, 17, 22, 25, 18, 36, 1, 17, 1, 8, 22, 21, 17, 1, 22, 8, 1, 25, 5, 17, 22, 7, 1, 14, 17, 2, 1, 17, 1, 26, 10, 1, 12, 17, 23, 1, 3, 10, 4, 17, 7, 1, 7, 17, 22, 25, 18, 1, 51, 10, 19, 20, 1, 28, 1, 23, 22, 5, 21, 1, 14, 17, 2, 27], '200702-225625_pcm_9fa_elicit_47': [37, 34, 1, 26, 10, 1, 15, 16, 23, 1, 19, 10, 1, 10, 26, 17, 1, 14, 16, 26, 12, 5, 17, 1, 23, 18, 16, 26, 12, 1, 41, 13, 14, 23, 1, 9, 2, 1, 8, 2, 14, 17, 5, 15, 1, 20, 9, 17, 25, 22, 13, 14, 17, 1, 26, 10, 1, 9, 17, 1, 4, 17, 23, 16, 26, 1, 34, 1, 4, 22, 26, 23, 1, 34, 1, 19, 17, 2, 1, 5, 10, 10, 21, 1, 15, 10, 7, 36], '200702-225625_pcm_9fa_elicit_48': [9, 13, 23, 1, 26, 22, 1, 4, 17, 23, 16, 26, 1, 23, 18, 17, 1, 3, 17, 7, 14, 10, 26, 1, 4, 17, 2, 1, 14, 17, 26, 19, 1, 8, 17, 1, 4, 22, 26, 23, 20, 31, 1, 33, 6, 10, 18, 26, 1, 65, 27, 35, 66, 30, 1, 6, 17, 14, 13, 14, 1, 25, 10, 8, 17, 1, 17, 45, 3, 5, 22, 16, 26, 1, 23, 18, 17, 1, 16, 8, 3, 10, 7, 23, 22, 26, 23, 1, 4, 10, 7, 21, 1, 4, 17, 2, 1, 51, 10, 19, 1, 3, 13, 23, 1, 15, 10, 7, 1, 16, 8, 1, 18, 22, 26, 19, 36], '200702-225625_pcm_9fa_elicit_49': [14, 10, 8, 17, 23, 18, 16, 26, 12, 1, 4, 17, 2, 1, 17, 1, 26, 17, 38, 17, 7, 1, 23, 22, 5, 21, 1, 9, 17, 15, 10, 7, 17, 1, 15, 10, 7, 1, 3, 13, 9, 5, 16, 25, 20], '200701-143128_pcm_9fa_elicit_0': [6, 17, 14, 13, 14, 1, 50, 10, 7, 21, 1, 39, 17, 2, 1, 34, 26, 25, 7, 17, 22, 14, 17, 1, 22, 14, 1, 6, 10, 18, 26, 1, 55, 4, 26, 1, 39, 17, 2, 1, 47, 17, 19, 13, 25, 17], '200701-143128_pcm_9fa_elicit_1': [40, 15, 23, 17, 7, 1, 19, 17, 8, 1, 19, 10, 1, 23, 18, 17, 1, 53, 22, 14, 14, 10, 38, 17, 7, 1, 15, 10, 7, 1, 23, 18, 17, 1, 2, 17, 22, 7, 1, 35, 66, 1, 44, 20, 28, 20, 36, 1, 6, 17, 14, 13, 14, 1, 22, 26, 19, 1, 16, 8, 1, 19, 16, 14, 25, 16, 3, 5, 17, 14, 1, 25, 10, 8, 10, 23, 1, 15, 10, 7, 1, 6, 17, 7, 13, 14, 22, 5, 17, 8, 20], '200701-143128_pcm_9fa_elicit_2': [39, 17, 8, 1, 26, 10, 1, 12, 10, 1, 19, 16, 7, 17, 25, 23, 1, 23, 10, 1, 23, 18, 17, 16, 7, 1, 18, 10, 13, 14, 17, 1, 4, 17, 2, 1, 19, 17, 2, 1, 51, 22, 5, 16, 5, 17, 17, 20], '200701-143128_pcm_9fa_elicit_3': [56, 13, 23, 1, 19, 17, 8, 1, 12, 10, 1, 16, 26, 14, 16, 19, 17, 1, 6, 13, 19, 17, 22, 1, 22, 7, 17, 22, 20, 1, 48, 10, 7, 1, 23, 18, 17, 7, 17, 36, 1, 19, 17, 8, 1, 9, 22, 3, 23, 16, 49, 17, 1, 8, 22, 26, 2, 1, 3, 17, 10, 3, 5, 17, 20], '200701-143128_pcm_9fa_elicit_4': [42, 22, 1, 23, 18, 17, 1, 14, 22, 8, 17, 1, 4, 10, 7, 21, 1, 6, 10, 18, 26, 1, 23, 18, 17, 1, 56, 22, 3, 23, 16, 14, 23, 1, 19, 17, 2, 1, 19, 10, 1, 15, 10, 7, 1, 22, 9, 10, 13, 23, 1, 10, 26, 17, 1, 2, 17, 22, 7, 36, 1, 4, 16, 23, 18, 1, 14, 10, 8, 17, 1, 10, 15, 1, 16, 8, 1, 19, 16, 14, 25, 16, 3, 5, 17, 14, 20], '200701-143128_pcm_9fa_elicit_5': [46, 18, 17, 1, 3, 5, 22, 25, 17, 1, 15, 16, 23, 1, 9, 17, 1, 23, 18, 17, 1, 38, 22, 5, 5, 17, 2, 1, 4, 17, 2, 1, 19, 17, 2, 1, 47, 16, 38, 17, 7, 1, 6, 10, 7, 19, 22, 26, 20], '200701-143128_pcm_9fa_elicit_6': [6, 17, 14, 13, 14, 1, 26, 10, 1, 9, 22, 3, 23, 16, 49, 17, 1, 22, 26, 2, 9, 10, 19, 2, 1, 9, 2, 1, 16, 8, 14, 17, 5, 15, 26, 22, 1, 16, 8, 1, 19, 16, 14, 25, 16, 3, 5, 17, 14, 1, 19, 10, 1, 22, 8, 36], '200701-143128_pcm_9fa_elicit_8': [6, 17, 14, 13, 14, 1, 22, 26, 19, 1, 6, 10, 18, 26, 1, 19, 17, 2, 1, 23, 17, 22, 25, 18, 1, 6, 17, 4, 1, 3, 17, 10, 3, 5, 17, 1, 4, 17, 2, 1, 19, 10, 26, 1, 25, 10, 8, 10, 23, 1, 18, 22, 26, 19, 1, 15, 7, 10, 8, 1, 23, 18, 17, 1, 9, 22, 19, 1, 23, 18, 16, 26, 12, 14], '200701-143128_pcm_9fa_elicit_9': [4, 17, 2, 1, 19, 17, 8, 1, 19, 17, 2, 1, 19, 10, 1, 25, 10, 26, 25, 17, 7, 26, 16, 26, 12, 1, 51, 10, 19, 1, 57, 22, 4, 1, 25, 10, 38, 17, 26, 22, 26, 23, 20, 40, 25, 23, 14, 1, 61, 32, 27, 29, 20], '200701-143128_pcm_9fa_elicit_10': [56, 13, 23, 1, 6, 10, 18, 26, 1, 19, 16, 14, 25, 16, 3, 5, 17, 14, 1, 26, 10, 1, 18, 22, 3, 3, 2, 36, 1, 14, 10, 1, 19, 17, 8, 1, 25, 10, 8, 17, 1, 14, 23, 22, 7, 23, 1, 23, 10, 1, 25, 10, 8, 3, 5, 22, 16, 26, 1, 23, 10, 1, 6, 10, 18, 26, 1, 22, 9, 10, 13, 23, 1, 6, 17, 14, 13, 14, 1, 19, 17, 8, 1, 14, 17, 2, 27], '200701-143128_pcm_9fa_elicit_11': [37, 46, 18, 17, 1, 8, 22, 26, 1, 76, 6, 17, 14, 13, 14, 77, 1, 4, 17, 2, 1, 9, 17, 1, 19, 17, 2, 1, 4, 16, 23, 18, 1, 2, 10, 13, 1, 19, 10, 26, 1, 19, 17, 2, 1, 9, 22, 3, 23, 16, 49, 17, 1, 3, 17, 10, 3, 5, 17, 1, 22, 26, 19, 1, 17, 38, 17, 7, 2, 9, 10, 19, 2, 1, 19, 17, 2, 1, 12, 10, 1, 8, 17, 17, 23, 1, 22, 8, 20], '200701-143128_pcm_9fa_elicit_12': [31, 33, 6, 10, 18, 26, 1, 35, 27, 43, 69, 30, 1, 56, 13, 23, 36, 1, 6, 10, 18, 26, 1, 26, 10, 1, 19, 17, 2, 1, 41, 17, 22, 5, 10, 13, 14, 20], '200701-143128_pcm_9fa_elicit_13': [28, 1, 18, 22, 3, 3, 2, 1, 23, 10, 1, 18, 17, 22, 7, 1, 23, 18, 16, 14, 1, 7, 17, 14, 13, 5, 23, 1, 22, 9, 10, 13, 23, 1, 6, 17, 14, 13, 14, 1, 4, 10, 7, 21, 1, 22, 26, 19, 1, 17, 1, 4, 22, 26, 23, 1, 8, 22, 21, 17, 1, 16, 8, 1, 19, 16, 14, 25, 16, 3, 5, 17, 14, 1, 14, 23, 16, 5, 5, 1, 19, 17, 2, 1, 18, 22, 3, 3, 2, 20], '200701-143128_pcm_9fa_elicit_14': [6, 10, 18, 26, 1, 7, 17, 8, 16, 26, 19, 1, 19, 17, 8, 1, 14, 17, 2, 27, 1, 37, 73, 26, 22, 1, 19, 17, 2, 1, 23, 18, 17, 7, 17, 1, 4, 18, 17, 26, 1, 34, 1, 23, 22, 5, 21, 1, 14, 17, 2, 1, 71, 26, 10, 1, 9, 17, 1, 8, 17, 1, 9, 17, 1, 23, 18, 17, 1, 44, 18, 7, 16, 14, 23, 36, 1, 9, 13, 23, 1, 19, 17, 8, 1, 14, 17, 26, 19, 1, 8, 17, 1, 12, 10, 1, 16, 8, 1, 15, 7, 10, 26, 23, 20], '200701-143128_pcm_9fa_elicit_15': [72, 31, 1, 28, 1, 17, 45, 3, 5, 22, 16, 26, 1, 22, 8, 1, 23, 10, 1, 19, 17, 8, 1, 23, 18, 17, 1, 4, 22, 2, 1, 19, 17, 8, 1, 12, 10, 1, 23, 22, 21, 17, 1, 13, 26, 19, 17, 7, 14, 23, 22, 26, 19, 1, 22, 8, 36, 1, 17, 1, 14, 17, 2, 27], '200701-143128_pcm_9fa_elicit_16': [37, 40, 26, 2, 9, 10, 19, 2, 1, 4, 17, 2, 1, 12, 17, 23, 1, 23, 18, 17, 1, 4, 10, 8, 22, 26, 1, 4, 17, 2, 1, 19, 17, 2, 1, 8, 22, 7, 7, 2, 36, 1, 26, 22, 1, 16, 8, 1, 9, 17, 1, 23, 18, 17, 1, 18, 13, 14, 9, 22, 26, 19, 20], '200701-143128_pcm_9fa_elicit_18': [11, 10, 1, 17, 1, 14, 4, 17, 17, 23, 1, 8, 17, 1, 26, 10, 1, 9, 17, 1, 14, 8, 22, 5, 5, 20, 31, 6, 10, 18, 26, 1, 35, 27, 43, 64, 36, 1, 43, 32, 20], '200701-143128_pcm_9fa_elicit_19': [6, 10, 18, 26, 1, 9, 17, 1, 5, 16, 21, 17, 1, 15, 7, 16, 17, 26, 19, 1, 23, 10, 1, 23, 18, 17, 1, 8, 22, 26, 1, 4, 17, 2, 1, 19, 17, 2, 1, 8, 22, 7, 7, 2, 36, 1, 22, 26, 19, 1, 17, 1, 18, 22, 3, 3, 2, 1, 4, 18, 17, 26, 1, 17, 1, 14, 18, 10, 4, 1, 6, 17, 14, 13, 14, 1, 23, 10, 1, 16, 8, 1, 76, 6, 10, 18, 26, 77, 1, 19, 16, 14, 25, 16, 3, 5, 17, 14, 20], '200701-143128_pcm_9fa_elicit_20': [11, 10, 8, 17, 1, 10, 15, 1, 6, 10, 18, 26, 1, 19, 16, 14, 25, 16, 3, 5, 17, 14, 1, 25, 10, 8, 17, 1, 14, 23, 22, 7, 23, 1, 23, 10, 1, 15, 10, 5, 5, 10, 4, 1, 6, 17, 14, 13, 14, 20, 1, 40, 14, 1, 23, 16, 8, 17, 1, 19, 17, 2, 1, 12, 10, 36, 1, 51, 10, 19, 1, 15, 16, 23, 1, 22, 26, 10, 16, 26, 23, 1, 19, 17, 8, 1, 4, 16, 23, 18, 1, 18, 10, 5, 2, 1, 14, 3, 16, 7, 16, 23, 20], '200701-143128_pcm_9fa_elicit_21': [6, 10, 18, 26, 1, 14, 23, 16, 5, 5, 1, 4, 22, 26, 23, 1, 8, 22, 21, 17, 1, 16, 8, 1, 19, 16, 14, 25, 16, 3, 5, 17, 14, 1, 4, 17, 2, 1, 7, 17, 8, 22, 16, 26, 36, 1, 14, 23, 22, 7, 23, 1, 23, 10, 1, 19, 17, 2, 1, 15, 10, 5, 5, 10, 4, 1, 6, 17, 14, 13, 14, 20], '200701-143128_pcm_9fa_elicit_22': [46, 18, 17, 1, 23, 7, 13, 23, 18, 1, 9, 17, 1, 14, 17, 2, 1, 6, 10, 18, 26, 1, 4, 10, 7, 21, 1, 15, 10, 7, 1, 5, 16, 15, 17, 1, 26, 22, 1, 23, 10, 1, 22, 7, 7, 22, 26, 12, 17, 1, 12, 7, 10, 13, 26, 19, 1, 15, 10, 7, 1, 6, 17, 14, 13, 14, 1, 3, 7, 17, 22, 25, 18, 16, 26, 12, 1, 4, 10, 7, 21, 20, 1, 6, 10, 18, 26, 1, 17, 45, 3, 5, 22, 16, 26, 1, 14, 17, 2, 27], '200701-143128_pcm_9fa_elicit_23': [37, 46, 18, 22, 23, 1, 10, 26, 17, 1, 10, 4, 26, 1, 8, 13, 14, 23, 1, 25, 10, 26, 23, 16, 26, 13, 17, 1, 23, 10, 1, 19, 17, 2, 1, 3, 5, 17, 26, 23, 2, 1, 22, 26, 19, 1, 8, 2, 1, 10, 4, 26, 1, 8, 13, 14, 23, 1, 25, 10, 26, 23, 16, 26, 13, 17, 1, 23, 10, 1, 19, 17, 2, 1, 7, 17, 19, 13, 25, 17, 20, 31, 6, 10, 18, 26, 1, 35, 27, 35, 66, 20], '200701-143128_pcm_9fa_elicit_24': [57, 22, 23, 17, 7, 36, 1, 22, 26, 10, 23, 18, 17, 7, 1, 6, 10, 18, 26, 36, 1, 4, 17, 2, 1, 19, 17, 2, 1, 15, 10, 5, 5, 10, 4, 1, 6, 17, 14, 13, 14, 1, 4, 7, 16, 23, 17, 1, 22, 9, 10, 13, 23, 1, 4, 18, 17, 7, 17, 1, 6, 17, 14, 13, 14, 1, 25, 10, 8, 17, 1, 15, 7, 10, 8, 1, 22, 26, 19, 1, 23, 18, 17, 1, 4, 10, 7, 21, 1, 4, 17, 2, 1, 17, 1, 19, 10, 1, 23, 10, 1, 14, 22, 38, 17, 1, 13, 14, 20], '200701-143128_pcm_9fa_elicit_25': [28, 1, 14, 17, 2, 27, 1, 37, 46, 18, 17, 1, 10, 26, 17, 1, 4, 17, 2, 1, 25, 10, 8, 17, 1, 15, 7, 10, 8, 1, 13, 3, 1, 18, 16, 12, 18, 1, 3, 22, 14, 14, 1, 17, 38, 17, 7, 2, 23, 18, 16, 26, 12, 20], '200701-143128_pcm_9fa_elicit_26': [46, 18, 17, 1, 48, 22, 23, 18, 17, 7, 1, 5, 10, 38, 17, 1, 23, 18, 17, 1, 11, 10, 26, 36, 1, 22, 26, 19, 1, 17, 1, 19, 10, 26, 1, 3, 13, 23, 1, 17, 38, 17, 7, 2, 23, 18, 16, 26, 12, 1, 15, 10, 7, 1, 16, 8, 1, 18, 22, 26, 19, 20], '200701-143128_pcm_9fa_elicit_27': [46, 18, 17, 1, 3, 17, 7, 14, 10, 26, 1, 4, 17, 2, 1, 19, 17, 2, 1, 14, 18, 10, 4, 1, 14, 17, 2, 1, 17, 1, 12, 17, 23, 1, 15, 22, 16, 23, 18, 1, 15, 10, 7, 1, 23, 18, 17, 1, 11, 10, 26, 36, 1, 12, 17, 23, 1, 5, 16, 15, 17, 1, 4, 17, 2, 1, 26, 10, 1, 12, 10, 1, 17, 26, 19, 59], '200701-143128_pcm_9fa_elicit_28': [23, 18, 17, 1, 3, 17, 7, 14, 10, 26, 1, 4, 17, 2, 1, 19, 16, 14, 10, 9, 17, 2, 1, 23, 18, 17, 1, 11, 10, 26, 1, 26, 10, 1, 12, 10, 1, 12, 17, 23, 1, 5, 16, 15, 17, 36], '200701-143128_pcm_9fa_elicit_29': [22, 26, 19, 1, 51, 10, 19, 1, 22, 26, 12, 17, 7, 1, 12, 10, 1, 7, 17, 8, 22, 16, 26, 1, 15, 10, 7, 1, 16, 8, 1, 18, 17, 22, 19, 20, 31, 1, 33, 6, 10, 18, 26, 1, 35, 27, 35, 61, 36, 1, 35, 65, 36, 1, 35, 69, 30, 1, 28, 1, 19, 17, 2, 1, 16, 8, 3, 10, 7, 23, 22, 26, 23, 1, 8, 22, 21, 17, 1, 3, 17, 10, 3, 5, 17, 1, 21, 26, 10, 4, 1, 23, 18, 16, 14, 1, 23, 7, 13, 23, 18, 67], '200701-143128_pcm_9fa_elicit_30': [6, 10, 18, 26, 1, 23, 18, 17, 1, 56, 22, 3, 23, 16, 14, 23, 1, 19, 17, 2, 1, 3, 7, 16, 14, 10, 26], '200701-143128_pcm_9fa_elicit_31': [28, 1, 26, 17, 38, 17, 7, 1, 23, 10, 10, 1, 23, 17, 2, 1, 22, 15, 23, 17, 7, 1, 6, 10, 18, 26, 1, 23, 18, 17, 1, 56, 22, 3, 23, 16, 14, 23, 1, 23, 22, 5, 21, 1, 22, 9, 10, 13, 23, 1, 16, 8, 1, 4, 10, 7, 21, 1, 22, 26, 19, 1, 18, 10, 4, 1, 23, 18, 22, 23, 1, 4, 10, 7, 21, 1, 12, 10, 1, 23, 22, 21, 17, 1, 7, 17, 19, 13, 25, 17, 36], '200701-143128_pcm_9fa_elicit_32': [58, 16, 26, 12, 1, 54, 17, 7, 10, 19, 1, 25, 10, 8, 17, 1, 22, 7, 7, 17, 14, 23, 1, 22, 8, 20, 1, 54, 17, 7, 10, 19, 1, 25, 22, 7, 7, 2, 1, 54, 17, 7, 10, 19, 16, 22, 14, 36], '200701-143128_pcm_9fa_elicit_33': [4, 17, 2, 1, 9, 17, 1, 53, 18, 16, 5, 16, 3, 1, 4, 16, 15, 17, 1, 25, 10, 8, 17, 1, 8, 22, 7, 7, 2, 1, 22, 8, 36, 1, 22, 26, 19, 1, 53, 18, 16, 5, 16, 3, 1, 26, 22, 1, 54, 17, 7, 10, 19, 1, 18, 22, 5, 15, 1, 9, 7, 10, 23, 18, 17, 7, 20], '200701-143128_pcm_9fa_elicit_34': [50, 18, 17, 26, 1, 6, 10, 18, 26, 1, 23, 22, 5, 21, 1, 23, 18, 16, 14, 1, 9, 22, 19, 1, 23, 18, 16, 26, 12, 1, 4, 17, 2, 1, 54, 17, 7, 10, 19, 1, 19, 10, 1, 15, 10, 7, 1, 3, 13, 9, 5, 16, 25, 36, 1, 54, 17, 7, 10, 19, 1, 25, 10, 8, 17, 1, 3, 13, 23, 1, 6, 10, 18, 26, 1, 15, 10, 7, 1, 3, 7, 16, 14, 10, 26, 20], '200701-143128_pcm_9fa_elicit_35': [40, 14, 1, 6, 17, 14, 13, 14, 1, 18, 17, 22, 7, 1, 14, 17, 2, 1, 19, 17, 8, 1, 19, 10, 26, 1, 22, 7, 7, 17, 14, 23, 1, 6, 10, 18, 26, 36, 1, 17, 1, 25, 10, 8, 10, 23, 1, 15, 10, 7, 1, 6, 13, 19, 17, 22, 1, 4, 16, 23, 18, 1, 16, 8, 1, 19, 16, 14, 25, 16, 3, 5, 17, 14, 1, 22, 26, 19, 1, 71, 8, 10, 38, 17, 1, 12, 10, 1, 51, 22, 5, 16, 5, 17, 17, 20, 72, 24, 22, 23, 23, 18, 17, 4, 1, 29, 27, 61, 43, 59, 1, 24, 22, 7, 21, 1, 61, 27, 61, 29, 20], '200701-143128_pcm_9fa_elicit_36': [6, 17, 14, 13, 14, 1, 23, 17, 22, 25, 18, 1, 10, 26, 17, 1, 4, 10, 8, 22, 26, 1, 15, 7, 10, 8, 1, 11, 22, 8, 22, 7, 16, 22], '200701-143128_pcm_9fa_elicit_37': [40, 14, 1, 6, 17, 14, 13, 14, 1, 22, 26, 19, 1, 16, 8, 1, 19, 16, 14, 25, 16, 3, 5, 17, 14, 1, 25, 10, 8, 10, 23, 1, 15, 7, 10, 8, 1, 6, 13, 19, 17, 22, 1, 19, 17, 2, 1, 12, 10, 1, 51, 22, 5, 16, 5, 17, 17, 36], '200701-143128_pcm_9fa_elicit_38': [19, 17, 8, 1, 3, 22, 14, 14, 1, 16, 26, 14, 16, 19, 17, 1, 11, 22, 8, 22, 7, 16, 22, 20, 1, 28, 1, 15, 16, 23, 1, 9, 17, 1, 22, 7, 10, 13, 26, 19, 1, 23, 4, 17, 5, 38, 17, 36, 1, 22, 26, 19, 1, 19, 17, 8, 1, 19, 10, 26, 1, 23, 16, 7, 17, 36], '200701-143128_pcm_9fa_elicit_41': [8, 22, 26, 2, 1, 2, 17, 22, 7, 1, 22, 12, 10, 20, 1, 46, 16, 5, 5, 1, 23, 10, 19, 22, 2, 36, 1, 23, 18, 16, 14, 1, 21, 16, 26, 19, 1, 4, 17, 5, 5, 1, 19, 17, 2, 1, 26, 17, 22, 7, 1, 23, 18, 17, 1, 23, 10, 4, 26, 1, 4, 17, 2, 1, 19, 17, 8, 1, 19, 17, 2, 1, 25, 22, 5, 5, 1, 42, 22, 9, 5, 13, 14, 20], '200701-143128_pcm_9fa_elicit_42': [40, 14, 1, 6, 17, 14, 13, 14, 1, 19, 17, 2, 1, 7, 17, 14, 23, 1, 26, 17, 22, 7, 1, 23, 18, 17, 1, 4, 17, 5, 5, 36, 1, 16, 8, 1, 19, 16, 14, 25, 16, 3, 5, 17, 14, 1, 25, 10, 8, 17, 1, 12, 10, 1, 9, 13, 2, 1, 15, 10, 10, 19, 1, 15, 10, 7, 1, 10, 26, 17, 1, 23, 10, 4, 26, 1, 4, 17, 2, 1, 26, 10, 1, 23, 10, 10, 1, 15, 22, 7, 1, 15, 7, 10, 8, 1, 23, 18, 17, 7, 17, 20], '200701-143128_pcm_9fa_elicit_43': [50, 18, 17, 26, 1, 19, 17, 8, 1, 19, 10, 26, 1, 25, 10, 8, 10, 23, 36, 1, 10, 26, 17, 1, 11, 22, 8, 22, 7, 16, 23, 22, 26, 1, 4, 10, 8, 22, 26, 1, 25, 10, 8, 17, 1, 23, 18, 17, 7, 17, 36], '200701-143128_pcm_9fa_elicit_44': [17, 1, 4, 22, 26, 23, 1, 15, 17, 23, 25, 18, 1, 4, 22, 23, 17, 7, 20, 1, 6, 17, 14, 13, 14, 1, 25, 10, 8, 17, 1, 23, 17, 5, 5, 1, 22, 8, 1, 14, 17, 2, 27, 1, 37, 51, 16, 38, 17, 1, 8, 17, 1, 4, 22, 23, 17, 7, 1, 19, 7, 16, 26, 21, 20, 31, 6, 10, 18, 26, 1, 29, 27, 60, 20], '200701-143128_pcm_9fa_elicit_46': [6, 17, 4, 1, 22, 26, 19, 1, 11, 22, 8, 22, 7, 16, 22, 1, 3, 17, 10, 3, 5, 17, 1, 26, 10, 1, 19, 17, 2, 1, 26, 10, 7, 8, 22, 5, 5, 2, 1, 19, 10, 1, 23, 18, 16, 26, 12, 14, 1, 23, 10, 12, 17, 23, 18, 17, 7, 20], '200701-143128_pcm_9fa_elicit_48': [37, 50, 18, 2, 1, 2, 10, 13, 1, 14, 17, 2, 1, 8, 22, 21, 17, 1, 34, 1, 12, 16, 38, 17, 1, 2, 10, 13, 1, 4, 22, 23, 17, 7, 1, 19, 7, 16, 26, 21, 1, 17, 38, 17, 26, 1, 23, 18, 10, 13, 12, 18, 1, 14, 17, 2, 1, 2, 10, 13, 1, 9, 17, 1, 6, 17, 4, 1, 3, 17, 7, 14, 10, 26, 36, 1, 22, 26, 19, 1, 34, 1, 9, 17, 1, 11, 22, 8, 22, 7, 16, 22, 1, 4, 10, 8, 22, 26, 52], '200701-143128_pcm_9fa_elicit_49': [31, 6, 17, 14, 13, 14, 1, 25, 10, 8, 17, 1, 22, 26, 14, 4, 17, 7, 1, 22, 8, 1, 14, 17, 2, 27, 1, 37, 34, 15, 1, 23, 10, 1, 14, 17, 2, 1, 2, 10, 13, 1, 21, 26, 10, 4, 1, 22, 9, 10, 13, 23, 1, 23, 18, 17, 1, 15, 7, 17, 17, 1, 12, 16, 15, 23, 1, 15, 7, 10, 8, 1, 51, 10, 19, 1, 22, 26, 19, 1, 23, 18, 17, 1, 3, 17, 7, 14, 10, 26, 1, 4, 17, 2, 1, 23, 17, 5, 5, 1, 2, 10, 13, 1, 14, 17, 2, 36], '200701-143128_pcm_9fa_elicit_50': [71, 51, 16, 38, 17, 1, 8, 17, 1, 4, 22, 23, 17, 7, 1, 19, 7, 16, 26, 21, 36, 72, 1, 2, 10, 13, 1, 15, 10, 7, 1, 9, 17, 12, 1, 22, 8, 1, 8, 22, 21, 17, 1, 17, 1, 12, 16, 38, 17, 1, 2, 10, 13, 1, 5, 16, 38, 16, 26, 12, 1, 4, 22, 23, 17, 7, 1, 22, 26, 19, 1, 17, 1, 15, 10, 7, 1, 12, 16, 38, 17, 1, 2, 10, 13, 20, 31, 1, 42, 22, 1, 16, 8, 1, 23, 18, 17, 1, 4, 10, 8, 22, 26, 1, 23, 17, 5, 5, 1, 22, 8, 1, 14, 17, 2, 27], '200701-122328_pcm_9fa_elicit_0': [40, 14, 1, 19, 17, 8, 1, 14, 17, 17, 1, 23, 18, 16, 14, 1, 23, 18, 16, 26, 12, 1, 4, 17, 2, 1, 6, 17, 14, 13, 14, 1, 19, 10, 36, 1, 19, 17, 8, 1, 7, 17, 8, 17, 8, 9, 17, 7, 1, 23, 18, 17, 1, 23, 18, 16, 26, 12, 14, 1, 4, 17, 2, 1, 19, 17, 8, 1, 23, 22, 5, 21, 1, 22, 9, 10, 13, 23, 1, 51, 10, 19, 1, 11, 10, 26, 36, 1, 14, 17, 2, 27], '200701-122328_pcm_9fa_elicit_1': [37, 46, 18, 17, 1, 5, 10, 38, 17, 1, 4, 17, 2, 1, 34, 1, 12, 17, 23, 1, 15, 10, 7, 1, 2, 10, 13, 7, 1, 18, 10, 13, 14, 17, 1, 12, 10, 1, 9, 13, 7, 26, 1, 16, 26, 14, 16, 19, 17, 1, 8, 17, 1, 5, 16, 21, 17, 1, 15, 16, 7, 17, 20, 31, 1, 46, 18, 17, 1, 6, 17, 4, 1, 3, 17, 10, 3, 5, 17, 1, 25, 10, 8, 17, 1, 22, 14, 21, 1, 6, 17, 14, 13, 14, 1, 14, 17, 2, 27], '200701-122328_pcm_9fa_elicit_2': [37, 50, 18, 16, 25, 18, 1, 14, 16, 12, 26, 1, 2, 10, 13, 1, 15, 16, 23, 1, 14, 18, 10, 4, 1, 13, 14, 36, 1, 23, 10, 1, 14, 18, 10, 4, 1, 14, 17, 2, 1, 22, 5, 5, 1, 23, 18, 16, 14, 1, 23, 18, 16, 26, 12, 14, 1, 4, 17, 2, 1, 2, 10, 13, 1, 19, 17, 2, 1, 19, 10, 1, 26, 22, 1, 23, 7, 13, 17, 52, 31, 1, 6, 17, 14, 13, 14, 1, 23, 17, 5, 5, 1, 19, 17, 8, 1, 14, 17, 2, 27], '200701-122328_pcm_9fa_elicit_3': [37, 24, 22, 21, 17, 1, 13, 26, 22, 1, 19, 17, 14, 23, 7, 10, 2, 1, 23, 18, 16, 14, 1, 23, 17, 8, 3, 5, 17, 1, 7, 17, 22, 25, 18, 1, 12, 7, 10, 13, 26, 19, 36, 1, 22, 26, 19, 1, 34, 1, 12, 10, 1, 13, 14, 17, 1, 23, 18, 7, 17, 17, 1, 19, 22, 2, 14, 1, 9, 13, 16, 5, 19, 1, 22, 8, 1, 9, 22, 25, 21, 20, 31, 6, 10, 18, 26, 1, 43, 27, 61, 60, 62, 61, 32, 59, 1, 53, 14, 22, 5, 8, 1, 69, 32, 27, 32, 20], '200701-122328_pcm_9fa_elicit_4': [6, 17, 4, 1, 3, 17, 10, 3, 5, 17, 1, 23, 18, 16, 26, 21, 1, 14, 17, 2, 1, 26, 22, 1, 23, 18, 17, 1, 23, 17, 8, 3, 5, 17, 1, 4, 17, 2, 1, 19, 17, 8, 1, 19, 17, 2, 1, 14, 17, 17, 1, 6, 17, 14, 13, 14, 1, 19, 17, 2, 1, 23, 22, 5, 21, 1, 22, 9, 10, 13, 23, 36, 1, 26, 22, 1, 16, 8, 1, 19, 17, 8, 1, 22, 14, 21, 1, 22, 8, 1, 14, 17, 2, 27], '200701-122328_pcm_9fa_elicit_5': [37, 42, 22, 1, 23, 17, 8, 3, 5, 17, 1, 4, 17, 2, 1, 19, 17, 8, 1, 13, 14, 17, 1, 29, 69, 1, 2, 17, 22, 7, 14, 1, 9, 13, 16, 5, 19, 36, 1, 2, 10, 13, 1, 4, 22, 26, 23, 1, 13, 14, 17, 1, 23, 18, 7, 17, 17, 1, 19, 22, 2, 14, 1, 9, 13, 16, 5, 19, 52], '200701-122328_pcm_9fa_elicit_6': [31, 33, 6, 10, 18, 26, 1, 43, 27, 43, 66, 30, 1, 56, 13, 23, 1, 23, 18, 17, 1, 23, 17, 8, 3, 5, 17, 1, 4, 17, 2, 1, 6, 17, 14, 13, 14, 1, 19, 17, 2, 1, 23, 22, 5, 21, 1, 22, 9, 10, 13, 23, 1, 26, 22, 1, 16, 8, 1, 9, 10, 19, 2, 20], '200701-122328_pcm_9fa_elicit_7': [46, 18, 7, 17, 17, 1, 2, 17, 22, 7, 14, 1, 5, 22, 23, 17, 7, 1, 4, 18, 17, 26, 1, 51, 10, 19, 1, 9, 7, 16, 26, 12, 1, 6, 17, 14, 13, 14, 1, 25, 10, 8, 17, 1, 9, 22, 25, 21, 1, 23, 10, 1, 5, 16, 15, 17, 36, 1, 16, 8, 1, 19, 16, 14, 25, 16, 3, 5, 17, 14, 1, 7, 17, 8, 17, 8, 9, 17, 7, 1, 23, 18, 16, 14, 1, 23, 18, 16, 26, 12, 1, 4, 17, 2, 1, 6, 17, 14, 13, 14, 1, 23, 22, 5, 21, 20], '200701-122328_pcm_9fa_elicit_8': [6, 17, 14, 13, 14, 1, 46, 17, 22, 25, 18, 1, 42, 16, 25, 10, 19, 17, 8, 13, 14, 1, 15, 10, 7, 1, 42, 16, 12, 18, 23], '200701-122328_pcm_9fa_elicit_9': [48, 10, 7, 1, 35, 66, 1, 44, 20, 28, 20, 36, 1, 4, 18, 17, 26, 1, 6, 17, 14, 13, 14, 1, 25, 10, 8, 17, 1, 19, 10, 1, 53, 22, 14, 14, 10, 38, 17, 7, 1, 15, 10, 7, 1, 6, 17, 7, 13, 14, 22, 5, 17, 8, 36, 1, 17, 1, 19, 10, 1, 8, 22, 26, 2, 1, 8, 16, 7, 22, 25, 5, 17, 20], '200701-122328_pcm_9fa_elicit_10': [24, 22, 26, 2, 1, 3, 17, 10, 3, 5, 17, 1, 25, 10, 8, 17, 1, 9, 17, 12, 16, 26, 1, 12, 17, 23, 1, 15, 22, 16, 23, 18, 1, 15, 10, 7, 1, 22, 8, 20, 1, 55, 26, 17, 1, 53, 18, 22, 7, 16, 14, 17, 17, 1, 4, 17, 2, 1, 16, 8, 1, 26, 22, 8, 17, 1, 26, 22, 1, 42, 16, 25, 10, 19, 17, 8, 13, 14, 36], '200701-122328_pcm_9fa_elicit_11': [26, 22, 1, 10, 26, 17, 1, 10, 15, 1, 23, 18, 17, 1, 6, 17, 4, 1, 3, 17, 10, 3, 5, 17, 1, 5, 17, 22, 19, 17, 7, 1, 15, 10, 7, 1, 23, 18, 17, 16, 7, 1, 18, 16, 12, 18, 1, 25, 10, 13, 7, 23, 1, 4, 17, 2, 1, 19, 17, 8, 1, 19, 17, 2, 1, 25, 22, 5, 5, 1, 11, 22, 26, 18, 17, 19, 7, 16, 26, 20], '200701-122328_pcm_9fa_elicit_12': [28, 1, 7, 17, 22, 5, 5, 2, 1, 5, 16, 21, 17, 1, 23, 18, 17, 1, 23, 18, 16, 26, 12, 14, 1, 4, 17, 2, 1, 6, 17, 14, 13, 14, 1, 19, 17, 2, 1, 19, 10, 36, 1, 22, 26, 19, 1, 17, 1, 4, 22, 26, 23, 1, 5, 17, 22, 7, 26, 1, 8, 10, 7, 17, 20], '200701-122328_pcm_9fa_elicit_13': [28, 1, 25, 10, 8, 17, 1, 12, 10, 1, 8, 17, 17, 23, 1, 6, 17, 14, 13, 14, 1, 15, 10, 7, 1, 26, 16, 12, 18, 23, 20, 1, 24, 22, 2, 9, 17, 1, 26, 22, 1, 9, 17, 25, 22, 13, 14, 17, 1, 17, 1, 19, 17, 2, 1, 15, 17, 22, 7, 1, 14, 17, 2, 1, 16, 15, 1, 3, 17, 10, 3, 5, 17, 1, 14, 17, 17, 1, 22, 8, 36, 1, 17, 1, 15, 16, 23, 1, 14, 3, 10, 16, 5, 1, 16, 8, 1, 26, 22, 8, 17, 20], '200701-122328_pcm_9fa_elicit_14': [42, 16, 25, 10, 19, 17, 8, 13, 14, 1, 23, 17, 5, 5, 1, 6, 17, 14, 13, 14, 1, 14, 17, 2, 27, 1, 37, 47, 22, 9, 9, 16, 36, 1, 4, 17, 1, 21, 26, 10, 4, 1, 14, 17, 2, 1, 2, 10, 13, 1, 9, 17, 1, 23, 17, 22, 25, 18, 17, 7, 1, 4, 17, 2, 1, 25, 10, 8, 17, 1, 15, 7, 10, 8, 1, 51, 10, 19, 36], '200701-122328_pcm_9fa_elicit_16': [31, 1, 6, 17, 14, 13, 14, 1, 25, 10, 8, 17, 1, 22, 26, 14, 4, 17, 7, 1, 22, 8, 1, 14, 17, 2, 1, 9, 17, 15, 10, 7, 17, 1, 3, 17, 7, 14, 10, 26, 1, 12, 10, 1, 15, 16, 23, 1, 17, 26, 23, 17, 7, 1, 51, 10, 19, 1, 58, 16, 26, 12, 19, 10, 8, 36, 1, 23, 18, 17, 1, 3, 17, 7, 14, 10, 26, 1, 8, 13, 14, 23, 1, 9, 17, 1, 37, 9, 10, 7, 26, 1, 22, 12, 22, 16, 26, 20, 31, 6, 10, 18, 26, 1, 35, 27, 43, 36, 1, 35, 20], '200701-122328_pcm_9fa_elicit_17': [56, 13, 23, 36, 1, 18, 10, 4, 1, 19, 17, 8, 1, 12, 10, 1, 23, 22, 21, 17, 1, 9, 10, 7, 26, 1, 3, 17, 7, 14, 10, 26, 1, 22, 12, 22, 16, 26, 52, 1, 42, 22, 1, 16, 8, 1, 42, 16, 25, 10, 19, 17, 8, 13, 14, 1, 25, 10, 8, 17, 1, 22, 14, 21, 1, 6, 17, 14, 13, 14, 1, 14, 17, 2, 27], '200701-122328_pcm_9fa_elicit_18': [37, 28, 1, 26, 10, 1, 12, 10, 1, 15, 16, 23, 1, 17, 26, 23, 17, 7, 1, 16, 8, 1, 8, 22, 8, 22, 1, 9, 17, 5, 5, 17, 1, 23, 18, 17, 1, 14, 17, 25, 10, 26, 19, 1, 23, 16, 8, 17, 36, 1, 8, 22, 21, 17, 1, 19, 17, 8, 1, 9, 10, 7, 26, 1, 22, 8, 1, 22, 12, 22, 16, 26, 36, 1, 17, 1, 12, 10, 1, 15, 16, 23, 52, 31, 6, 10, 18, 26, 1, 35, 27, 29, 20], '200701-122328_pcm_9fa_elicit_19': [42, 10, 36, 1, 26, 10, 1, 9, 17, 1, 4, 17, 23, 16, 26, 1, 9, 10, 7, 26, 1, 22, 12, 22, 16, 26, 1, 8, 17, 22, 26, 1, 9, 17, 1, 23, 18, 22, 23, 20, 1, 6, 17, 14, 13, 14, 1, 23, 22, 5, 21, 1, 4, 17, 23, 16, 26, 1, 17, 1, 8, 17, 22, 26, 36, 1, 17, 1, 14, 17, 2, 27], '200701-122328_pcm_9fa_elicit_20': [37, 3, 17, 7, 14, 10, 26, 1, 4, 17, 2, 1, 19, 17, 8, 1, 26, 10, 1, 13, 14, 17, 1, 4, 22, 23, 17, 7, 1, 22, 26, 19, 1, 14, 3, 16, 7, 16, 23, 1, 9, 10, 7, 26, 36, 1, 26, 10, 1, 12, 10, 1, 15, 16, 23, 1, 17, 26, 23, 17, 7, 1, 51, 10, 19, 1, 58, 16, 26, 12, 19, 10, 8, 20], '200701-122328_pcm_9fa_elicit_21': [31, 1, 33, 6, 10, 18, 26, 1, 35, 27, 65, 30, 1, 46, 18, 17, 1, 23, 16, 8, 17, 1, 4, 17, 2, 1, 6, 17, 14, 13, 14, 1, 9, 22, 3, 23, 16, 49, 17, 36, 1, 18, 10, 5, 2, 1, 14, 3, 16, 7, 16, 23, 1, 25, 10, 8, 17, 1, 19, 10, 4, 26, 1, 10, 26, 1, 23, 10, 3, 1, 22, 8, 20], '200701-122328_pcm_9fa_elicit_22': [42, 22, 1, 23, 18, 22, 23, 1, 23, 16, 8, 17, 1, 19, 17, 8, 1, 13, 14, 17, 1, 37, 4, 22, 23, 17, 7, 1, 22, 26, 19, 1, 14, 3, 16, 7, 16, 23, 31, 1, 9, 10, 7, 26, 1, 22, 8, 20], '200701-122328_pcm_9fa_elicit_23': [40, 15, 23, 17, 7, 1, 6, 17, 14, 13, 14, 1, 9, 22, 3, 23, 16, 49, 17, 36, 1, 10, 26, 17, 1, 38, 10, 16, 25, 17, 1, 15, 7, 10, 8, 1, 18, 17, 22, 38, 17, 26, 1, 25, 10, 8, 17, 1, 23, 22, 5, 21, 1, 14, 17, 2, 27], '200701-122328_pcm_9fa_elicit_24': [37, 42, 22, 1, 8, 2, 1, 11, 10, 26, 1, 9, 17, 1, 23, 18, 16, 14, 36, 1, 4, 17, 2, 1, 34, 1, 25, 18, 10, 10, 14, 17, 20, 1, 34, 1, 5, 16, 21, 17, 1, 22, 8, 1, 4, 17, 5, 5, 1, 4, 17, 5, 5, 20], '200701-122328_pcm_9fa_elicit_26': [40, 15, 23, 17, 7, 36, 1, 15, 10, 7, 1, 53, 17, 26, 23, 17, 25, 10, 14, 23, 1, 35, 35, 1, 44, 20, 28, 20, 36, 1, 10, 23, 18, 17, 7, 1, 3, 17, 10, 3, 5, 17, 1, 4, 17, 2, 1, 9, 22, 3, 23, 16, 49, 17, 36, 1, 12, 10, 1, 12, 17, 23, 1, 18, 10, 5, 2, 1, 14, 3, 16, 7, 16, 23, 20], '200701-122328_pcm_9fa_elicit_27': [22, 26, 19, 1, 26, 22, 1, 23, 18, 22, 23, 1, 23, 16, 8, 17, 1, 19, 17, 8, 1, 12, 10, 1, 9, 17, 1, 9, 10, 7, 26, 1, 22, 12, 22, 16, 26, 36, 1, 22, 26, 19, 1, 25, 10, 8, 17, 1, 9, 17, 1, 51, 10, 19, 1, 14, 10, 26, 14, 1, 4, 17, 2, 1, 17, 1, 25, 18, 10, 10, 14, 17, 1, 4, 16, 23, 18, 1, 16, 8, 1, 14, 3, 16, 7, 16, 23, 20, 40, 25, 23, 14, 1, 43, 27, 61, 62, 29, 20], '200701-122328_pcm_9fa_elicit_28': [28, 1, 18, 22, 7, 19, 1, 42, 16, 25, 10, 19, 17, 8, 13, 14, 1, 23, 10, 1, 13, 26, 19, 17, 7, 14, 23, 22, 26, 19, 1, 4, 17, 23, 16, 26, 1, 6, 17, 14, 13, 14, 1, 19, 17, 2, 1, 23, 17, 22, 25, 18, 1, 22, 8, 1, 22, 9, 10, 13, 23, 1, 51, 10, 19, 1, 58, 16, 26, 12, 19, 10, 8, 20], '200701-122328_pcm_9fa_elicit_29': [11, 10, 1, 6, 17, 14, 13, 14, 1, 25, 10, 8, 17, 1, 23, 17, 5, 5, 1, 22, 8, 1, 14, 10, 8, 17, 1, 23, 18, 16, 26, 12, 14, 1, 22, 9, 10, 13, 23, 1, 23, 18, 17, 1, 14, 3, 17, 25, 16, 22, 5, 1, 4, 10, 7, 21, 1, 4, 17, 2, 1, 17, 1, 25, 10, 8, 17, 1, 19, 10, 1, 15, 10, 7, 1, 23, 18, 16, 14, 1, 17, 22, 7, 23, 18, 1, 22, 14, 1, 51, 10, 19, 1, 11, 10, 26, 20], '200701-122328_pcm_9fa_elicit_30': [6, 17, 14, 13, 14, 1, 23, 17, 5, 5, 1, 22, 8, 1, 14, 17, 2, 27, 1, 37, 6, 13, 14, 23, 1, 22, 14, 1, 24, 10, 14, 17, 14, 1, 23, 22, 21, 17, 1, 7, 22, 16, 14, 17, 1, 23, 18, 17, 1, 14, 26, 22, 21, 17, 1, 13, 3, 1, 15, 10, 7, 1, 4, 16, 5, 19, 17, 7, 26, 17, 14, 14, 36], '200701-122328_pcm_9fa_elicit_32': [14, 10, 1, 23, 18, 22, 23, 1, 17, 38, 17, 7, 2, 9, 10, 19, 2, 1, 4, 17, 2, 1, 12, 17, 23, 1, 15, 22, 16, 23, 18, 1, 15, 10, 7, 1, 22, 8, 1, 12, 10, 1, 12, 17, 23, 1, 5, 16, 15, 17, 1, 4, 17, 2, 1, 26, 10, 1, 12, 10, 1, 17, 26, 19, 20, 31, 6, 10, 18, 26, 1, 35, 27, 61, 29, 36, 1, 61, 65, 20], '200701-122328_pcm_9fa_elicit_33': [34, 14, 7, 22, 17, 5, 1, 3, 17, 10, 3, 5, 17, 1, 4, 17, 2, 1, 14, 26, 22, 21, 17, 1, 19, 10, 26, 1, 9, 16, 23, 17, 1, 19, 17, 2, 1, 5, 10, 10, 21, 1, 23, 18, 17, 1, 25, 10, 3, 3, 17, 7, 1, 14, 26, 22, 21, 17, 1, 14, 10, 1, 23, 18, 22, 23, 1, 19, 17, 8, 1, 26, 10, 1, 12, 10, 1, 19, 16, 17], '200701-122328_pcm_9fa_elicit_34': [46, 18, 22, 23, 1, 23, 16, 8, 17, 1, 4, 17, 2, 1, 14, 26, 22, 21, 17, 1, 19, 17, 2, 1, 9, 16, 23, 17, 1, 34, 14, 7, 22, 17, 5, 1, 3, 17, 10, 3, 5, 17, 36], '200701-122328_pcm_9fa_elicit_35': [22, 26, 2, 9, 10, 19, 2, 1, 4, 17, 2, 1, 5, 10, 10, 21, 1, 23, 18, 17, 1, 25, 10, 3, 3, 17, 7, 1, 14, 26, 22, 21, 17, 1, 26, 10, 1, 12, 10, 1, 19, 16, 17, 20], '200701-122328_pcm_9fa_elicit_36': [33, 42, 13, 8, 9, 17, 7, 14, 1, 43, 61, 27, 32, 30, 1, 42, 22, 1, 14, 10, 1, 17, 1, 14, 23, 16, 5, 5, 1, 9, 17, 1, 4, 16, 23, 18, 1, 6, 17, 14, 13, 14, 36], '200701-122328_pcm_9fa_elicit_37': [22, 26, 2, 9, 10, 19, 2, 1, 4, 17, 2, 1, 14, 18, 10, 4, 1, 14, 17, 2, 1, 17, 1, 12, 17, 23, 1, 15, 22, 16, 23, 18, 1, 15, 10, 7, 1, 22, 8, 36, 1, 12, 10, 1, 12, 17, 23, 1, 5, 16, 15, 17, 1, 4, 17, 2, 1, 26, 10, 1, 12, 10, 1, 17, 26, 19, 20], '200701-122328_pcm_9fa_elicit_38': [6, 17, 14, 13, 14, 1, 25, 10, 8, 17, 1, 23, 17, 5, 5, 1, 42, 16, 25, 10, 19, 17, 8, 13, 14, 1, 14, 10, 8, 17, 23, 18, 16, 26, 12, 1, 4, 17, 2, 1, 14, 18, 10, 4, 1, 23, 18, 17, 1, 21, 16, 26, 19, 1, 5, 10, 38, 17, 1, 4, 17, 2, 1, 6, 17, 18, 10, 38, 22, 18, 1, 12, 17, 23, 36], '200701-122328_pcm_9fa_elicit_39': [17, 1, 23, 17, 5, 5, 1, 22, 8, 1, 14, 17, 2, 27, 1, 37, 51, 10, 19, 1, 5, 10, 38, 17, 1, 23, 18, 16, 14, 1, 4, 10, 7, 5, 19, 1, 4, 17, 5, 5, 1, 4, 17, 5, 5, 1, 14, 10, 23, 17, 2, 36, 1, 17, 1, 25, 10, 8, 17, 1, 14, 17, 26, 19, 1, 16, 8, 1, 10, 26, 5, 2, 1, 14, 3, 17, 25, 16, 22, 5, 1, 11, 10, 26, 36], '200701-122328_pcm_9fa_elicit_40': [14, 10, 1, 23, 18, 22, 23, 1, 22, 26, 2, 9, 10, 19, 2, 1, 4, 17, 2, 1, 25, 10, 26, 23, 16, 26, 13, 17, 1, 23, 10, 1, 12, 17, 23, 1, 15, 22, 16, 23, 18, 1, 15, 10, 7, 1, 22, 8, 1, 26, 10, 1, 12, 10, 1, 19, 17, 14, 23, 7, 10, 2, 36], '200701-122328_pcm_9fa_elicit_41': [9, 13, 23, 1, 17, 1, 12, 10, 1, 12, 17, 23, 1, 5, 16, 15, 17, 1, 4, 17, 2, 1, 26, 10, 1, 12, 10, 1, 17, 26, 19, 20, 31, 1, 33, 6, 10, 18, 26, 1, 35, 27, 61, 69, 30, 1, 40, 9, 10, 13, 23, 1, 14, 16, 45, 1, 8, 10, 26, 23, 18, 14, 1, 22, 15, 23, 17, 7, 1, 6, 17, 14, 13, 14, 1, 14, 23, 22, 7, 23, 1, 16, 8, 1, 3, 7, 17, 22, 25, 18, 16, 26, 12, 1, 4, 10, 7, 21, 1, 15, 10, 7, 1, 6, 17, 7, 13, 14, 22, 5, 17, 8, 36], '200701-122328_pcm_9fa_elicit_43': [6, 17, 14, 13, 14, 1, 14, 23, 16, 5, 5, 1, 23, 17, 5, 5, 1, 42, 16, 25, 10, 19, 17, 8, 13, 14, 1, 14, 17, 2, 27, 1, 37, 51, 10, 19, 1, 26, 10, 1, 14, 17, 26, 19, 1, 16, 8, 1, 11, 10, 26, 1, 8, 22, 21, 17, 1, 17, 1, 25, 10, 8, 17, 1, 41, 13, 19, 12, 17, 1, 23, 18, 16, 14, 1, 4, 10, 7, 5, 19, 20], '200701-122328_pcm_9fa_elicit_44': [31, 28, 1, 8, 17, 22, 26, 1, 14, 17, 2, 1, 51, 10, 19, 1, 26, 10, 1, 14, 17, 26, 19, 1, 6, 17, 14, 13, 14, 1, 8, 22, 21, 17, 1, 17, 1, 25, 10, 8, 17, 1, 41, 13, 19, 12, 17, 1, 3, 17, 10, 3, 5, 17, 1, 15, 10, 7, 1, 23, 18, 16, 14, 1, 17, 22, 7, 23, 18, 36], '200701-122328_pcm_9fa_elicit_45': [17, 1, 26, 10, 1, 14, 17, 26, 19, 1, 22, 8, 1, 25, 10, 8, 17, 1, 19, 17, 14, 23, 7, 10, 2, 1, 3, 17, 10, 3, 5, 17, 20, 1, 56, 13, 23, 36, 1, 22, 14, 1, 6, 17, 14, 13, 14, 1, 23, 22, 5, 21, 36, 1, 51, 10, 19, 1, 14, 17, 26, 19, 1, 22, 8, 1, 37, 8, 22, 21, 17, 1, 17, 1, 25, 10, 8, 17, 1, 14, 22, 38, 17, 1, 23, 18, 17, 1, 4, 10, 7, 5, 19, 20, 31, 6, 10, 18, 26, 1, 35, 27, 61, 60, 20], '200701-122328_pcm_9fa_elicit_46': [11, 16, 26, 25, 17, 1, 26, 22, 1, 15, 17, 22, 7, 1, 8, 22, 21, 17, 1, 42, 16, 25, 10, 19, 17, 8, 13, 14, 1, 25, 10, 8, 17, 1, 8, 17, 17, 23, 1, 6, 17, 14, 13, 14, 1, 15, 10, 7, 1, 26, 16, 12, 18, 23, 36], '200701-122328_pcm_9fa_elicit_47': [23, 18, 17, 1, 4, 22, 2, 1, 6, 17, 14, 13, 14, 1, 23, 22, 21, 17, 1, 17, 26, 19, 1, 23, 18, 17, 1, 19, 16, 14, 25, 13, 14, 14, 16, 10, 26, 1, 7, 17, 22, 5, 5, 2, 1, 8, 22, 21, 17, 1, 14, 17, 26, 14, 17, 20, 1, 28, 1, 23, 17, 5, 5, 1, 22, 8, 1, 14, 17, 2, 27], '200701-122328_pcm_9fa_elicit_49': [23, 18, 17, 1, 5, 16, 12, 18, 23, 1, 76, 26, 22, 1, 6, 17, 14, 13, 14, 1, 5, 16, 15, 17, 1, 22, 26, 19, 1, 23, 18, 17, 1, 23, 18, 16, 26, 12, 14, 1, 4, 17, 2, 1, 17, 1, 19, 17, 2, 1, 23, 17, 22, 25, 18, 1, 3, 17, 10, 3, 5, 17, 77, 1, 25, 10, 8, 17, 1, 23, 18, 16, 14, 1, 4, 10, 7, 5, 19, 36], '200701-122328_pcm_9fa_elicit_50': [9, 13, 23, 1, 3, 17, 10, 3, 5, 17, 1, 5, 16, 21, 17, 1, 19, 22, 7, 21, 26, 17, 14, 14, 1, 3, 22, 14, 14, 1, 5, 16, 12, 18, 23, 36, 1, 9, 17, 25, 22, 13, 14, 17, 1, 4, 17, 23, 16, 26, 1, 19, 17, 8, 1, 19, 17, 2, 1, 19, 10, 1, 9, 22, 19, 20], '200701-122328_pcm_9fa_elicit_51': [40, 26, 19, 1, 22, 26, 2, 9, 10, 19, 2, 1, 4, 17, 2, 1, 19, 17, 2, 1, 19, 10, 1, 9, 22, 19, 1, 26, 10, 1, 19, 17, 2, 1, 5, 16, 21, 17, 1, 5, 16, 12, 18, 23, 36, 1, 17, 1, 26, 10, 1, 19, 17, 2, 1, 25, 10, 8, 17, 1, 4, 18, 17, 7, 17, 1, 5, 16, 12, 18, 23, 1, 19, 17, 2, 36], '200701-122328_pcm_9fa_elicit_53': [56, 13, 23, 1, 22, 26, 2, 9, 10, 19, 2, 1, 4, 17, 2, 1, 19, 17, 2, 1, 19, 10, 1, 4, 17, 23, 16, 26, 1, 12, 10, 10, 19, 1, 19, 17, 2, 1, 25, 10, 8, 17, 1, 4, 18, 17, 7, 17, 1, 5, 16, 12, 18, 23, 1, 19, 17, 2, 36], '200701-122328_pcm_9fa_elicit_54': [8, 22, 21, 17, 1, 3, 17, 10, 3, 5, 17, 1, 15, 16, 23, 1, 14, 17, 17, 1, 4, 17, 23, 16, 26, 1, 17, 1, 19, 17, 2, 1, 19, 10, 36, 1, 9, 17, 25, 22, 13, 14, 17, 1, 17, 1, 19, 17, 2, 1, 19, 10, 1, 22, 8, 1, 4, 17, 5, 5, 1, 22, 14, 1, 51, 10, 19, 1, 4, 22, 26, 23, 1, 22, 8, 20, 31, 6, 10, 18, 26, 1, 35, 27, 61, 32, 62, 43, 61, 20], '200701-122328_pcm_9fa_elicit_55': [42, 22, 1, 23, 7, 13, 17, 1, 14, 17, 2, 1, 42, 16, 25, 10, 19, 17, 8, 13, 14, 1, 26, 22, 1, 53, 18, 22, 7, 16, 14, 17, 17, 1, 22, 26, 19, 1, 26, 22, 1, 23, 17, 22, 25, 18, 17, 7, 1, 15, 10, 7, 1, 34, 14, 7, 22, 17, 5, 36, 1, 9, 13, 23, 1, 26, 10, 4, 36, 1, 17, 1, 19, 17, 2, 1, 16, 8, 1, 18, 22, 26, 19, 36], '200701-122328_pcm_9fa_elicit_56': [23, 10, 1, 23, 18, 16, 26, 21, 1, 22, 9, 10, 13, 23, 1, 17, 38, 17, 7, 2, 23, 18, 16, 26, 12, 1, 4, 17, 2, 1, 17, 1, 19, 10, 26, 1, 18, 17, 22, 7, 1, 22, 9, 10, 13, 23, 1, 23, 18, 16, 14, 1, 14, 3, 17, 25, 16, 22, 5, 1, 4, 10, 7, 21, 1, 4, 17, 2, 1, 6, 17, 14, 13, 14, 1, 25, 10, 8, 17, 1, 19, 10, 1, 15, 10, 7, 1, 51, 10, 19, 20], '200630-105955_pcm_9fa_elicit_0': [48, 10, 7, 1, 23, 18, 17, 1, 57, 22, 4, 36, 1, 26, 22, 1, 10, 26, 17, 1, 14, 8, 22, 5, 5, 1, 7, 22, 8, 1, 22, 26, 19, 1, 10, 26, 17, 1, 9, 16, 7, 19, 1, 23, 18, 17, 1, 4, 10, 8, 22, 26, 1, 14, 13, 3, 3, 10, 14, 17, 1, 9, 7, 16, 26, 12, 20], '200630-105955_pcm_9fa_elicit_1': [56, 13, 23, 1, 16, 15, 1, 23, 18, 17, 1, 4, 10, 8, 22, 26, 1, 26, 10, 1, 12, 17, 23, 1, 8, 10, 26, 17, 2, 1, 23, 10, 1, 9, 13, 2, 1, 7, 22, 8, 36, 1, 17, 1, 15, 16, 23, 1, 9, 7, 16, 26, 12, 1, 23, 4, 10, 1, 23, 13, 7, 23, 5, 17, 19, 10, 38, 17, 1, 10, 7, 1, 23, 4, 10, 1, 14, 8, 22, 5, 5, 1, 3, 16, 12, 17, 10, 26, 20], '200630-105955_pcm_9fa_elicit_2': [11, 10, 1, 22, 14, 1, 24, 22, 7, 2, 1, 9, 7, 16, 26, 12, 1, 23, 4, 10, 1, 14, 8, 22, 5, 5, 1, 9, 16, 7, 19, 36, 1, 17, 1, 14, 18, 10, 4, 1, 14, 17, 2, 1, 19, 17, 8, 1, 3, 10, 10, 7, 20], '200630-105955_pcm_9fa_elicit_3': [28, 1, 12, 17, 23, 1, 10, 26, 17, 1, 10, 5, 19, 1, 8, 22, 26, 1, 4, 17, 2, 1, 8, 17, 17, 23, 1, 6, 10, 14, 17, 3, 18, 1, 22, 26, 19, 1, 24, 22, 7, 2, 1, 15, 10, 7, 1, 23, 18, 17, 1, 23, 17, 8, 3, 5, 17, 20], '200630-105955_pcm_9fa_elicit_4': [34, 8, 1, 26, 22, 8, 17, 1, 26, 22, 1, 11, 16, 8, 17, 10, 26, 20, 1, 51, 10, 19, 1, 19, 10, 26, 1, 23, 17, 5, 5, 1, 22, 8, 1, 14, 17, 2, 1, 9, 17, 15, 10, 7, 17, 1, 17, 1, 19, 16, 17, 36, 1, 17, 1, 12, 10, 1, 14, 17, 17, 1, 23, 18, 17, 1, 3, 17, 7, 14, 10, 26, 1, 4, 17, 2, 1, 12, 10, 1, 9, 17, 1, 23, 18, 17, 1, 24, 17, 14, 14, 16, 22, 18, 1, 10, 7, 1, 44, 18, 7, 16, 14, 23, 20], '200630-105955_pcm_9fa_elicit_5': [42, 22, 1, 18, 10, 5, 2, 1, 14, 3, 16, 7, 16, 23, 1, 8, 10, 38, 17, 1, 11, 16, 8, 17, 10, 26, 1, 23, 10, 1, 12, 10, 1, 23, 17, 8, 3, 5, 17, 1, 23, 18, 22, 23, 1, 19, 22, 2, 36, 1, 26, 22, 1, 16, 8, 1, 8, 22, 21, 17, 1, 17, 1, 15, 16, 23, 1, 14, 17, 17, 1, 6, 10, 14, 17, 3, 18, 1, 22, 26, 19, 1, 24, 22, 7, 2, 1, 22, 26, 19, 1, 23, 18, 17, 1, 3, 16, 21, 16, 26, 1, 4, 17, 2, 1, 19, 17, 8, 1, 25, 22, 7, 7, 2, 1, 15, 10, 7, 1, 18, 22, 26, 19, 20], '200630-105955_pcm_9fa_elicit_6': [11, 16, 8, 17, 10, 26, 1, 25, 10, 8, 17, 1, 14, 17, 2, 1, 8, 22, 21, 17, 1, 19, 17, 8, 1, 12, 16, 38, 17, 1, 22, 8, 1, 23, 18, 17, 1, 3, 16, 21, 16, 26, 1, 8, 22, 21, 17, 1, 17, 1, 25, 22, 7, 7, 2, 20], '200630-105955_pcm_9fa_elicit_7': [40, 14, 1, 17, 1, 25, 22, 7, 7, 2, 1, 6, 17, 14, 13, 14, 36, 1, 17, 1, 25, 10, 8, 17, 1, 19, 17, 2, 1, 23, 18, 22, 26, 21, 1, 51, 10, 19, 1, 14, 17, 2, 27, 1, 37, 42, 10, 4, 36, 1, 10, 13, 7, 1, 51, 7, 17, 22, 23, 1, 57, 10, 7, 19, 36, 1, 2, 10, 13, 7, 1, 14, 17, 7, 38, 22, 26, 23, 1, 12, 10, 1, 19, 16, 17, 1, 16, 26, 1, 3, 17, 22, 25, 17, 1, 22, 14, 1, 2, 10, 13, 1, 3, 7, 10, 8, 16, 14, 17, 36], '200630-105955_pcm_9fa_elicit_8': [9, 17, 25, 22, 13, 14, 17, 1, 8, 2, 1, 17, 2, 17, 1, 19, 10, 26, 1, 14, 17, 17, 1, 4, 18, 10, 1, 2, 10, 13, 1, 12, 10, 1, 23, 22, 21, 17, 1, 14, 22, 38, 17, 1, 13, 14, 1, 4, 17, 2, 1, 2, 10, 13, 1, 19, 10, 26, 1, 22, 7, 7, 22, 26, 12, 17, 1, 8, 22, 21, 17, 1, 17, 38, 17, 7, 2, 9, 10, 19, 2, 1, 15, 16, 23, 1, 14, 17, 17, 20], '200630-105955_pcm_9fa_elicit_9': [42, 22, 1, 5, 16, 12, 18, 23, 1, 4, 17, 2, 1, 12, 10, 1, 25, 10, 8, 10, 23, 1, 23, 18, 17, 1, 25, 5, 10, 23, 18, 1, 4, 17, 2, 1, 25, 10, 38, 17, 7, 1, 22, 5, 5, 1, 23, 18, 17, 1, 26, 22, 23, 16, 10, 26, 1, 15, 22, 25, 17, 1, 22, 26, 19, 1, 26, 22, 1, 12, 5, 10, 7, 2, 1, 15, 10, 7, 1, 2, 10, 13, 7, 1, 3, 17, 10, 3, 5, 17, 1, 34, 14, 7, 22, 17, 5, 20, 31, 57, 13, 21, 17, 1, 43, 27, 43, 32, 62, 35, 43, 20], '200630-105955_pcm_9fa_elicit_10': [6, 10, 14, 17, 3, 18, 1, 22, 26, 19, 1, 24, 22, 7, 2, 1, 14, 13, 7, 3, 7, 16, 14, 17, 1, 23, 10, 1, 18, 17, 22, 7, 1, 4, 17, 23, 16, 26, 1, 11, 16, 8, 17, 10, 26, 1, 23, 22, 5, 21, 20, 1, 11, 16, 8, 17, 10, 26, 1, 25, 10, 8, 17, 1, 9, 5, 17, 14, 14, 1, 19, 17, 8, 1, 22, 26, 19, 1, 23, 17, 5, 5, 1, 24, 22, 7, 2, 1, 14, 17, 2], '200630-105955_pcm_9fa_elicit_11': [37, 19, 17, 8, 1, 19, 10, 26, 1, 25, 18, 10, 10, 14, 17, 1, 16, 8, 1, 3, 16, 21, 16, 26, 1, 23, 10, 1, 8, 22, 21, 17, 1, 8, 22, 26, 2, 1, 3, 17, 10, 3, 5, 17, 1, 15, 10, 7, 1, 34, 14, 7, 22, 17, 5, 1, 15, 22, 5, 5, 1, 22, 26, 19, 1, 14, 23, 22, 26, 19, 1, 13, 3, 1, 22, 12, 22, 16, 26, 20, 31], '200630-105955_pcm_9fa_elicit_12': [28, 1, 14, 23, 16, 5, 5, 1, 23, 22, 5, 21, 1, 14, 17, 2, 1, 23, 16, 8, 17, 1, 19, 17, 2, 1, 25, 10, 8, 17, 1, 4, 17, 2, 1, 24, 22, 7, 2, 1, 12, 10, 1, 25, 7, 2, 1, 4, 17, 5, 5, 1, 4, 17, 5, 5, 36], '200630-105955_pcm_9fa_elicit_13': [17, 1, 12, 10, 1, 41, 13, 14, 23, 1, 9, 17, 1, 5, 16, 21, 17, 1, 14, 17, 2, 1, 19, 17, 8, 1, 25, 18, 13, 21, 1, 22, 8, 1, 4, 16, 23, 18, 1, 14, 18, 22, 7, 3, 1, 14, 4, 10, 7, 19, 1, 4, 17, 2, 1, 17, 26, 23, 17, 7, 1, 15, 7, 10, 8, 1, 15, 7, 10, 26, 23, 36, 1, 25, 10, 8, 17, 1, 10, 13, 23, 1, 15, 10, 7, 1, 9, 22, 25, 21, 20, 57, 13, 21, 17, 1, 43, 27, 35, 29], '200630-105955_pcm_9fa_elicit_14': [40, 26, 10, 23, 18, 17, 7, 1, 3, 17, 7, 14, 10, 26, 1, 14, 23, 16, 5, 5, 1, 19, 17, 2, 1, 15, 10, 7, 1, 23, 17, 8, 3, 5, 17, 1, 23, 18, 22, 23, 1, 19, 22, 2, 20, 1, 42, 22, 1, 10, 26, 17, 1, 4, 10, 8, 22, 26, 1, 4, 17, 2, 1, 9, 17, 1, 3, 7, 10, 3, 18, 17, 23, 1, 4, 17, 2, 1, 19, 17, 2, 1, 64, 29, 1, 2, 17, 22, 7, 14, 20, 1, 34, 8, 1, 26, 22, 8, 17, 1, 26, 22, 1, 40, 26, 26, 22, 20], '200630-105955_pcm_9fa_elicit_15': [40, 26, 26, 22, 1, 19, 17, 2, 1, 22, 5, 4, 22, 2, 14, 1, 25, 10, 8, 17, 1, 23, 17, 8, 3, 5, 17, 20, 1, 50, 18, 17, 26, 1, 11, 16, 8, 17, 10, 26, 1, 14, 23, 16, 5, 5, 1, 19, 17, 2, 1, 4, 16, 23, 18, 1, 6, 10, 14, 17, 3, 18, 36, 1, 24, 22, 7, 2, 36, 1, 22, 26, 19, 1, 23, 18, 17, 1, 3, 16, 21, 16, 26, 36], '200630-105955_pcm_9fa_elicit_16': [40, 26, 26, 22, 1, 25, 10, 8, 17, 1, 8, 17, 17, 23, 1, 19, 17, 8, 20, 1, 40, 26, 26, 22, 1, 25, 10, 8, 17, 1, 14, 23, 22, 7, 23, 1, 23, 10, 1, 23, 18, 22, 26, 21, 1, 51, 10, 19, 1, 22, 26, 19, 1, 23, 10, 1, 23, 22, 5, 21, 1, 22, 9, 10, 13, 23, 1, 6, 17, 14, 13, 14, 1, 23, 10, 1, 17, 38, 17, 7, 2, 9, 10, 19, 2, 1, 4, 17, 2, 1, 7, 17, 22, 19, 2, 1, 23, 10, 1, 18, 17, 22, 7, 1, 4, 17, 23, 16, 26, 1, 17, 1, 19, 17, 2, 1, 23, 22, 5, 21, 20], '200630-105955_pcm_9fa_elicit_17': [46, 7, 13, 17, 1, 23, 7, 13, 17, 36, 1, 6, 10, 14, 17, 3, 18, 1, 22, 26, 19, 1, 24, 22, 7, 2, 1, 7, 17, 22, 5, 5, 2, 1, 18, 22, 3, 3, 2, 1, 23, 10, 1, 14, 17, 17, 1, 22, 5, 5, 1, 23, 18, 16, 14, 1, 23, 18, 16, 26, 12, 14, 1, 4, 17, 2, 1, 18, 22, 3, 3, 17, 26, 1, 15, 10, 7, 1, 23, 17, 8, 3, 5, 17, 67], '200630-105955_pcm_9fa_elicit_18': [46, 18, 16, 14, 1, 10, 26, 17, 1, 7, 17, 22, 5, 5, 2, 1, 8, 22, 21, 17, 1, 19, 17, 8, 1, 19, 17, 2, 1, 14, 13, 7, 17, 1, 14, 17, 2, 1, 23, 18, 17, 16, 7, 1, 3, 16, 21, 16, 26, 1, 26, 22, 1, 23, 18, 17, 1, 55, 26, 17, 1, 50, 17, 2, 1, 51, 10, 19, 1, 39, 10, 26, 1, 53, 7, 10, 8, 16, 14, 17, 1, 11, 17, 2, 1, 39, 17, 8, 1, 51, 10, 1, 56, 10, 7, 26, 20], '200630-105955_pcm_9fa_elicit_19': [40, 14, 23, 7, 10, 5, 10, 12, 17, 7, 14, 1, 44, 10, 8, 17, 1, 74, 16, 14, 16, 23, 1, 6, 17, 14, 13, 14], '200630-105955_pcm_9fa_elicit_20': [55, 42, 28, 1, 37, 11, 46, 40, 47, 31, 1, 57, 28, 40, 39, 1, 40, 11, 46, 47, 55, 57, 55, 51, 28, 47, 11, 1, 51, 55, 6, 28, 47, 73, 11, 40, 57, 28, 24, 1, 56, 28, 48, 55, 47, 28, 1, 28, 1, 57, 28, 40, 39, 1, 39, 28, 24, 1, 51, 55, 1, 50, 54, 28, 47, 28, 1, 6, 28, 11, 73, 11, 1, 39, 28, 70], '200630-105955_pcm_9fa_elicit_21': [11, 10, 8, 17, 1, 8, 17, 26, 1, 25, 10, 8, 17, 1, 15, 7, 10, 8, 1, 28, 22, 14, 23, 36, 1, 19, 17, 8, 1, 9, 17, 1, 22, 14, 23, 7, 10, 5, 10, 12, 17, 7, 14, 20, 1, 40, 14, 23, 7, 10, 5, 10, 12, 17, 7, 1, 26, 22, 1, 3, 17, 7, 14, 10, 26, 1, 4, 17, 2, 1, 19, 17, 2, 1, 14, 23, 13, 19, 2, 1, 14, 23, 22, 7, 14, 20], '200630-105955_pcm_9fa_elicit_22': [39, 17, 8, 1, 9, 17, 5, 16, 17, 38, 17, 1, 14, 17, 2, 1, 19, 17, 8, 1, 15, 16, 23, 1, 13, 14, 17, 1, 22, 8, 1, 21, 26, 10, 4, 1, 23, 18, 17, 1, 8, 17, 22, 26, 16, 26, 12, 1, 10, 15, 1, 23, 18, 16, 26, 12, 14, 1, 4, 17, 2, 1, 19, 17, 2, 1, 18, 22, 3, 3, 17, 26, 1, 15, 10, 7, 1, 3, 17, 7, 14, 10, 26, 1, 5, 16, 15, 17, 20], '200630-105955_pcm_9fa_elicit_23': [33, 34, 14, 22, 16, 22, 18, 1, 29, 60, 27, 61, 35, 30, 1, 50, 18, 17, 26, 1, 19, 17, 8, 1, 19, 17, 2, 1, 28, 22, 14, 23, 36, 1, 19, 17, 8, 1, 14, 17, 17, 1, 10, 26, 17, 1, 14, 23, 22, 7, 36, 1, 26, 22, 1, 16, 8, 1, 19, 17, 8, 1, 14, 23, 22, 7, 23, 1, 23, 10, 1, 15, 10, 5, 5, 10, 4, 1, 22, 8, 20], '200630-105955_pcm_9fa_elicit_24': [46, 18, 17, 1, 14, 23, 22, 7, 1, 26, 10, 1, 25, 22, 7, 7, 2, 1, 19, 17, 8, 1, 12, 10, 1, 56, 17, 23, 18, 5, 17, 18, 17, 8, 36, 1, 9, 13, 23, 1, 26, 22, 1, 6, 17, 7, 13, 14, 22, 5, 17, 8, 1, 17, 1, 25, 22, 7, 7, 2, 1, 19, 17, 8, 1, 12, 10, 20], '200630-105955_pcm_9fa_elicit_25': [50, 18, 17, 26, 1, 23, 18, 17, 1, 22, 14, 23, 7, 10, 5, 10, 12, 17, 7, 14, 1, 7, 17, 22, 25, 18, 1, 6, 17, 7, 13, 14, 22, 5, 17, 8, 36, 1, 19, 17, 8, 1, 22, 14, 21, 1, 14, 17, 2, 27, 1, 37, 50, 17, 2, 1, 23, 18, 17, 1, 3, 16, 21, 16, 26, 1, 4, 17, 2, 1, 19, 17, 8, 1, 9, 10, 7, 26, 36], '200630-105955_pcm_9fa_elicit_26': [4, 17, 2, 1, 12, 10, 1, 9, 17, 1, 21, 16, 26, 12, 1, 10, 15, 1, 23, 18, 17, 1, 6, 17, 4, 14, 52, 1, 50, 17, 1, 14, 17, 17, 1, 16, 8, 1, 14, 23, 22, 7, 1, 4, 18, 17, 26, 1, 4, 17, 1, 19, 17, 2, 1, 28, 22, 14, 23, 36, 1, 22, 26, 19, 1, 4, 17, 1, 19, 10, 26, 1, 25, 10, 8, 17, 1, 12, 7, 17, 17, 23, 1, 22, 8, 20, 31, 24, 22, 23, 23, 18, 17, 4, 1, 43, 27, 61, 36, 1, 43, 20], '200630-105955_pcm_9fa_elicit_27': [50, 18, 17, 26, 1, 58, 16, 26, 12, 1, 54, 17, 7, 10, 19, 1, 4, 17, 2, 1, 9, 17, 1, 21, 16, 26, 12, 1, 15, 10, 7, 1, 6, 17, 7, 13, 14, 22, 5, 17, 8, 1, 18, 17, 22, 7, 1, 22, 8, 36, 1, 17, 1, 26, 10, 1, 18, 22, 3, 3, 2, 1, 22, 23, 1, 22, 5, 5, 20], '200630-105955_pcm_9fa_elicit_29': [25, 10, 8, 17, 1, 22, 14, 21, 1, 19, 17, 8, 1, 14, 17, 2, 59, 1, 4, 18, 17, 7, 17, 1, 19, 17, 8, 1, 23, 22, 5, 21, 1, 14, 17, 2, 1, 19, 17, 8, 1, 12, 10, 1, 9, 10, 7, 26, 1, 23, 18, 17, 1, 44, 18, 7, 16, 14, 23, 20, 1, 39, 17, 8, 1, 22, 26, 14, 4, 17, 7, 1, 22, 8, 1, 22, 14, 1, 17, 1, 19, 17, 2, 1, 15, 10, 7, 1, 51, 10, 19, 1, 50, 10, 7, 19, 36], '200630-105955_pcm_9fa_elicit_30': [14, 17, 2, 1, 26, 22, 1, 15, 10, 7, 1, 56, 17, 23, 18, 5, 17, 18, 17, 8, 20, 1, 33, 24, 22, 23, 23, 18, 17, 4, 1, 43, 27, 65, 59, 1, 24, 16, 25, 22, 18, 1, 65, 27, 43, 30, 1, 54, 17, 7, 10, 19, 1, 23, 17, 5, 5, 1, 19, 17, 8, 1, 14, 17, 2, 1, 8, 22, 21, 17, 1, 19, 17, 8, 1, 25, 22, 7, 7, 2, 1, 23, 18, 17, 1, 22, 14, 23, 7, 10, 5, 10, 12, 17, 7, 14, 1, 25, 10, 8, 17, 1, 8, 17, 17, 23, 1, 22, 8, 36], '200630-105955_pcm_9fa_elicit_31': [9, 13, 23, 1, 8, 22, 21, 17, 1, 19, 17, 8, 1, 26, 10, 1, 5, 17, 23, 1, 3, 17, 10, 3, 5, 17, 1, 21, 26, 10, 4, 20, 1, 28, 1, 23, 17, 5, 5, 1, 23, 18, 17, 1, 22, 14, 23, 7, 10, 5, 10, 12, 17, 7, 14, 1, 14, 17, 2, 27, 1, 37, 24, 22, 21, 17, 1, 13, 26, 22, 1, 12, 10, 1, 15, 16, 26, 19, 1, 23, 18, 17, 1, 14, 8, 22, 5, 5, 1, 3, 16, 21, 16, 26, 1, 4, 17, 5, 5, 36], '200630-105955_pcm_9fa_elicit_32': [22, 26, 19, 1, 4, 18, 17, 26, 1, 13, 26, 22, 1, 19, 10, 26, 1, 14, 17, 17, 1, 22, 8, 36, 1, 8, 22, 21, 17, 1, 13, 26, 22, 1, 25, 10, 8, 17, 1, 23, 17, 5, 5, 1, 8, 17, 1, 14, 10, 1, 23, 18, 22, 23, 1, 34, 1, 12, 10, 1, 14, 23, 16, 5, 5, 1, 12, 10, 1, 12, 7, 17, 17, 23, 1, 22, 8, 20, 31], '200630-105955_pcm_9fa_elicit_33': [33, 24, 22, 23, 23, 18, 17, 4, 1, 43, 27, 64, 30, 1, 56, 13, 23, 1, 4, 17, 23, 16, 26, 1, 7, 17, 22, 5, 5, 2, 1, 19, 17, 2, 1, 58, 16, 26, 12, 1, 54, 17, 7, 10, 19, 1, 8, 16, 26, 19, 1, 26, 22, 1, 23, 10, 1, 21, 16, 5, 5, 1, 23, 18, 17, 1, 3, 16, 21, 16, 26, 20], '200630-105955_pcm_9fa_elicit_34': [40, 15, 23, 17, 7, 1, 23, 18, 17, 1, 22, 14, 23, 7, 10, 5, 10, 12, 17, 7, 14, 1, 25, 10, 8, 10, 23, 1, 15, 7, 10, 8, 1, 58, 16, 26, 12, 1, 54, 17, 7, 10, 19, 1, 3, 22, 5, 22, 25, 17, 36, 1, 10, 26, 17, 1, 14, 13, 7, 3, 7, 16, 14, 16, 26, 12, 1, 23, 18, 16, 26, 12, 1, 18, 22, 3, 3, 17, 26, 20], '200630-105955_pcm_9fa_elicit_35': [46, 18, 22, 23, 1, 37, 14, 23, 22, 7, 31, 1, 4, 17, 2, 1, 5, 17, 22, 19, 1, 19, 17, 8, 1, 15, 7, 10, 8, 1, 28, 22, 14, 23, 1, 25, 10, 8, 17, 1, 14, 23, 22, 7, 23, 1, 23, 10, 1, 5, 17, 22, 19, 1, 19, 17, 8, 1, 22, 12, 22, 16, 26, 20], '200630-105955_pcm_9fa_elicit_36': [28, 1, 25, 5, 17, 22, 7, 1, 14, 17, 2, 1, 23, 18, 16, 14, 1, 14, 23, 22, 7, 1, 26, 10, 1, 9, 17, 1, 10, 7, 19, 16, 26, 22, 7, 2, 1, 14, 23, 22, 7, 20, 1, 46, 18, 17, 1, 23, 7, 13, 23, 18, 1, 9, 17, 1, 14, 17, 2, 1, 17, 1, 12, 17, 23, 1, 4, 18, 10, 1, 14, 17, 26, 19, 1, 23, 18, 16, 14, 1, 14, 23, 22, 7, 1, 25, 10, 8, 17, 1, 5, 17, 22, 19, 1, 19, 17, 8, 20], '200630-105955_pcm_9fa_elicit_37': [39, 17, 8, 1, 15, 10, 5, 5, 10, 4, 1, 23, 18, 17, 1, 14, 23, 22, 7, 1, 13, 26, 23, 16, 5, 1, 17, 1, 14, 23, 10, 3, 1, 15, 10, 7, 1, 23, 18, 17, 1, 18, 10, 13, 14, 17, 1, 4, 17, 2, 1, 6, 10, 14, 17, 3, 18, 36, 1, 24, 22, 7, 2, 36, 1, 22, 26, 19, 1, 6, 17, 14, 13, 14, 1, 19, 17, 2, 20], '200630-105955_pcm_9fa_elicit_38': [50, 18, 17, 26, 1, 23, 18, 17, 1, 22, 14, 23, 7, 10, 5, 10, 12, 17, 7, 14, 1, 17, 26, 23, 17, 7, 1, 23, 18, 17, 1, 18, 10, 13, 14, 17, 36, 1, 19, 17, 8, 1, 14, 17, 17, 1, 24, 22, 7, 2, 1, 22, 26, 19, 1, 6, 17, 14, 13, 14, 20], '200630-105955_pcm_9fa_elicit_39': [40, 14, 1, 19, 17, 8, 1, 14, 17, 17, 1, 22, 8, 36, 1, 19, 17, 8, 1, 25, 10, 8, 17, 1, 9, 10, 4, 1, 19, 10, 4, 26, 1, 23, 10, 1, 22, 8, 20, 1, 39, 17, 8, 1, 12, 16, 38, 17, 1, 22, 8, 1, 12, 10, 5, 19, 36, 1, 15, 7, 22, 26, 21, 16, 26, 25, 17, 26, 14, 17, 36], '200630-105955_pcm_9fa_elicit_40': [22, 26, 19, 1, 8, 2, 7, 7, 18, 20, 1, 57, 22, 23, 17, 7, 36, 1, 4, 18, 17, 26, 1, 19, 17, 8, 1, 4, 22, 26, 23, 1, 12, 10, 1, 23, 17, 5, 5, 1, 58, 16, 26, 12, 1, 54, 17, 7, 10, 19, 1, 4, 18, 17, 7, 17, 1, 6, 17, 14, 13, 14, 1, 19, 17, 2, 36], '200630-105955_pcm_9fa_elicit_41': [51, 10, 19, 1, 13, 14, 17, 1, 16, 8, 1, 22, 26, 12, 17, 5, 1, 4, 22, 7, 26, 1, 19, 17, 8, 1, 15, 10, 7, 1, 19, 7, 17, 22, 8, 1, 14, 17, 2, 1, 8, 22, 21, 17, 1, 19, 17, 8, 1, 26, 10, 1, 12, 10, 20], '200630-105955_pcm_9fa_elicit_42': [11, 10, 1, 4, 18, 17, 26, 1, 19, 17, 8, 1, 19, 17, 2, 1, 12, 10, 1, 9, 22, 25, 21, 1, 23, 10, 1, 23, 18, 17, 16, 7, 1, 25, 10, 13, 26, 23, 7, 2, 36, 1, 19, 17, 8, 1, 25, 10, 8, 17, 1, 3, 22, 14, 14, 1, 22, 26, 10, 23, 18, 17, 7, 1, 7, 10, 22, 19, 20], '200630-105955_pcm_9fa_elicit_43': [50, 18, 10, 1, 9, 17, 1, 23, 18, 17, 1, 3, 17, 7, 14, 10, 26, 1, 4, 17, 2, 1, 13, 14, 17, 1, 23, 18, 17, 1, 37, 14, 23, 22, 7, 31, 1, 5, 17, 22, 19, 1, 23, 18, 16, 14, 1, 22, 14, 23, 7, 10, 5, 10, 12, 17, 7, 14, 52, 1, 47, 17, 8, 17, 8, 9, 17, 7, 36], '200630-105955_pcm_9fa_elicit_45': [56, 13, 23, 1, 17, 1, 15, 16, 7, 14, 23, 1, 25, 22, 7, 7, 2, 1, 19, 17, 8, 1, 12, 10, 1, 6, 17, 7, 13, 14, 22, 5, 17, 8, 1, 4, 18, 17, 7, 17, 1, 58, 16, 26, 12, 1, 54, 17, 7, 10, 19, 1, 4, 17, 2, 1, 4, 22, 26, 23, 1, 21, 16, 5, 5, 1, 6, 17, 14, 13, 14, 1, 19, 17, 2, 20], '200630-105955_pcm_9fa_elicit_46': [40, 26, 19, 1, 17, 1, 15, 10, 7, 1, 21, 16, 5, 5, 1, 6, 17, 14, 13, 14, 1, 16, 15, 1, 23, 10, 1, 14, 17, 2, 1, 51, 10, 19, 1, 26, 10, 1, 4, 22, 7, 26, 1, 19, 17, 8, 1, 14, 17, 2, 1, 8, 22, 21, 17, 1, 19, 17, 8, 1, 26, 10, 1, 12, 10, 1, 23, 17, 5, 5, 1, 58, 16, 26, 12, 1, 54, 17, 7, 10, 19, 1, 4, 18, 17, 7, 17, 1, 6, 17, 14, 13, 14, 1, 19, 17, 2, 20], '200630-105955_pcm_9fa_elicit_47': [11, 10, 1, 17, 1, 25, 5, 17, 22, 7, 1, 14, 17, 2, 1, 26, 22, 1, 11, 22, 23, 22, 26, 36, 1, 4, 17, 2, 1, 9, 17, 1, 51, 10, 19, 1, 17, 26, 17, 8, 2, 1, 3, 13, 23, 1, 23, 18, 17, 1, 14, 23, 22, 7, 1, 15, 10, 7, 1, 23, 18, 17, 7, 17, 36, 1, 9, 17, 25, 22, 13, 14, 17, 1, 17, 1, 4, 22, 26, 23, 1, 8, 22, 21, 17, 1, 19, 17, 8, 1, 21, 16, 5, 5, 1, 6, 17, 14, 13, 14, 20], '200630-105955_pcm_9fa_elicit_48': [39, 17, 8, 1, 28, 14, 25, 22, 3, 17, 1, 48, 7, 10, 8, 1, 55, 26, 17, 1, 50, 16, 25, 21, 17, 19, 1, 58, 16, 26, 12], '200630-105955_pcm_9fa_elicit_49': [6, 55, 11, 28, 53, 54, 1, 40, 42, 39, 1, 24, 40, 47, 70, 1, 44, 40, 47, 47, 70, 1, 6, 28, 11, 73, 11, 1, 47, 73, 42, 1, 51, 55, 1, 28, 51, 70, 53, 46, 36, 1, 6, 55, 11, 28, 53, 54, 1, 40, 42, 39, 1, 34, 24, 1, 48, 40, 24, 34, 57, 70, 1, 53, 40, 44, 58, 1, 51, 55, 1, 42, 40, 68, 40, 47, 28, 46, 54], '200701-100619_pcm_9fa_elicit_0': [47, 17, 8, 17, 8, 9, 17, 7, 1, 4, 17, 23, 16, 26, 1, 11, 22, 23, 22, 26, 1, 23, 22, 5, 21, 36, 1, 17, 1, 14, 17, 2, 1, 16, 15, 1, 6, 17, 14, 13, 14, 1, 15, 16, 23, 1, 14, 18, 10, 4, 1, 14, 17, 2, 1, 17, 1, 14, 17, 7, 38, 17, 1, 22, 8, 1, 41, 13, 14, 23, 1, 10, 26, 25, 17, 36], '200701-100619_pcm_9fa_elicit_1': [17, 1, 12, 10, 1, 12, 16, 38, 17, 1, 22, 8, 1, 22, 5, 5, 1, 23, 18, 17, 1, 21, 16, 26, 12, 19, 10, 8, 1, 4, 17, 2, 1, 19, 17, 2, 1, 23, 18, 16, 14, 1, 4, 10, 7, 5, 19, 20, 1, 11, 22, 23, 22, 26, 1, 15, 16, 23, 1, 14, 23, 16, 5, 5, 1, 13, 14, 17, 1, 23, 18, 16, 14, 1, 14, 23, 2, 5, 17, 1, 15, 10, 7, 1, 13, 14, 20], '200701-100619_pcm_9fa_elicit_2': [28, 1, 15, 16, 23, 1, 9, 7, 16, 26, 12, 1, 19, 16, 15, 15, 17, 7, 17, 26, 23, 1, 19, 16, 15, 15, 17, 7, 17, 26, 23, 1, 23, 18, 16, 26, 12, 14, 1, 25, 10, 8, 17, 1, 10, 13, 7, 1, 15, 7, 10, 26, 23, 36, 1, 23, 18, 16, 26, 12, 14, 1, 4, 17, 2, 1, 12, 10, 1, 15, 16, 23, 1, 8, 22, 21, 17, 1, 13, 14, 1, 12, 17, 23, 1, 3, 5, 17, 26, 23, 2, 1, 8, 10, 26, 17, 2, 36, 1, 3, 10, 4, 17, 7, 1, 10, 7, 1, 3, 10, 14, 16, 23, 16, 10, 26, 20], '200701-100619_pcm_9fa_elicit_3': [34, 15, 1, 4, 17, 1, 15, 10, 5, 5, 10, 4, 1, 6, 17, 14, 13, 14, 1, 17, 45, 22, 8, 3, 5, 17, 1, 22, 26, 19, 1, 4, 17, 1, 26, 10, 1, 5, 17, 22, 38, 17, 1, 6, 17, 18, 10, 38, 22, 18, 36, 1, 26, 10, 1, 8, 22, 23, 23, 17, 7, 1, 4, 17, 23, 16, 26, 1, 18, 22, 3, 3, 17, 26, 36], '200701-100619_pcm_9fa_elicit_4': [4, 17, 1, 12, 10, 1, 14, 18, 10, 4, 1, 14, 17, 2, 1, 4, 17, 1, 12, 17, 23, 1, 14, 17, 26, 14, 17, 20, 1, 42, 10, 1, 15, 10, 7, 12, 17, 23, 1, 14, 17, 2, 1, 11, 22, 23, 22, 26, 1, 5, 17, 22, 38, 17, 1, 6, 17, 14, 13, 14, 1, 37, 13, 26, 23, 16, 5, 1, 22, 26, 10, 23, 18, 17, 7, 1, 23, 16, 8, 17, 36], '200701-100619_pcm_9fa_elicit_6': [56, 17, 15, 10, 7, 17, 1, 6, 17, 14, 13, 14, 1, 12, 10, 1, 9, 22, 25, 21, 1, 23, 10, 1, 51, 22, 5, 16, 5, 17, 17, 36, 1, 22, 15, 23, 17, 7, 1, 17, 1, 19, 10, 26, 1, 15, 22, 14, 23, 1, 15, 10, 7, 1, 29, 66, 1, 19, 22, 2, 14, 1, 16, 26, 14, 16, 19, 17, 1, 4, 16, 5, 19, 17, 7, 26, 17, 14, 14, 36], '200701-100619_pcm_9fa_elicit_7': [17, 1, 15, 16, 7, 14, 23, 1, 12, 10, 1, 8, 17, 17, 23, 1, 6, 10, 18, 26, 1, 4, 17, 2, 1, 9, 22, 3, 23, 16, 49, 17, 1, 22, 8, 20, 1, 40, 14, 1, 6, 17, 14, 13, 14, 1, 19, 17, 2, 1, 25, 10, 8, 17, 36, 1, 6, 10, 18, 26, 1, 23, 17, 5, 5, 1, 23, 18, 17, 1, 3, 17, 10, 3, 5, 17, 1, 4, 17, 2, 1, 19, 17, 2, 1, 4, 16, 23, 18, 1, 22, 8, 1, 14, 17, 2, 27], '200701-100619_pcm_9fa_elicit_8': [37, 24, 22, 21, 17, 1, 13, 26, 22, 1, 14, 17, 17, 1, 51, 10, 19, 1, 57, 22, 8, 9, 36, 1, 4, 17, 2, 1, 19, 17, 2, 1, 25, 22, 7, 7, 2, 1, 23, 18, 16, 14, 1, 4, 10, 7, 5, 19, 1, 14, 16, 26, 1, 25, 10, 8, 10, 23, 67, 1, 42, 22, 1, 23, 18, 16, 14, 1, 3, 17, 7, 14, 10, 26, 1, 34, 1, 23, 22, 5, 21, 1, 22, 9, 10, 13, 23, 1, 14, 17, 2, 36], '200701-100619_pcm_9fa_elicit_9': [71, 28, 1, 12, 17, 23, 1, 10, 26, 17, 1, 8, 22, 26, 1, 4, 17, 2, 1, 19, 17, 2, 1, 25, 10, 8, 17, 1, 15, 10, 7, 1, 8, 2, 1, 9, 22, 25, 21, 20, 1, 46, 18, 17, 1, 8, 22, 26, 1, 19, 10, 26, 1, 19, 17, 2, 1, 8, 2, 1, 15, 7, 10, 26, 23, 36, 1, 9, 17, 25, 22, 13, 14, 17, 1, 17, 1, 19, 10, 26, 1, 19, 17, 2, 1, 17, 38, 17, 26, 1, 9, 17, 15, 10, 7, 17, 1, 19, 17, 8, 1, 9, 10, 7, 26, 1, 8, 17, 20], '200701-100619_pcm_9fa_elicit_10': [72, 31, 1, 33, 6, 10, 18, 26, 1, 61, 27, 43, 32, 36, 1, 35, 66, 30, 1, 28, 38, 17, 26, 1, 23, 18, 10, 13, 12, 18, 1, 14, 17, 2, 1, 6, 10, 18, 26, 1, 14, 17, 26, 16, 10, 7, 1, 6, 17, 14, 13, 14, 1, 14, 8, 22, 5, 5, 36], '200701-100619_pcm_9fa_elicit_12': [46, 18, 17, 1, 23, 16, 8, 17, 1, 4, 17, 2, 1, 6, 17, 14, 13, 14, 1, 25, 10, 8, 17, 1, 8, 17, 17, 23, 1, 6, 10, 18, 26, 1, 14, 17, 2, 1, 8, 22, 21, 17, 1, 17, 1, 9, 22, 3, 23, 16, 49, 17, 1, 22, 8, 36, 1, 6, 10, 18, 26, 1, 26, 10, 1, 19, 17, 2, 1, 14, 13, 7, 17, 1, 16, 15, 1, 26, 22, 1, 6, 17, 14, 13, 14, 1, 12, 10, 1, 9, 17, 1, 23, 18, 17, 1, 24, 17, 14, 14, 16, 22, 18, 20], '200701-100619_pcm_9fa_elicit_13': [28, 1, 14, 17, 2, 27, 1, 37, 28, 38, 17, 26, 1, 8, 17, 1, 26, 10, 1, 21, 26, 10, 4, 1, 22, 8, 20, 1, 46, 18, 17, 1, 7, 17, 22, 14, 10, 26, 1, 4, 18, 2, 1, 34, 1, 19, 17, 2, 1, 13, 14, 17, 1, 4, 22, 23, 17, 7, 1, 9, 22, 3, 23, 16, 49, 17, 36], '200701-100619_pcm_9fa_elicit_14': [26, 22, 1, 15, 10, 7, 1, 34, 14, 7, 22, 17, 5, 1, 3, 17, 10, 3, 5, 17, 1, 23, 10, 1, 21, 26, 10, 4, 1, 22, 8, 20, 31, 6, 10, 18, 26, 1, 61, 27, 35, 61, 20], '200701-100619_pcm_9fa_elicit_15': [6, 10, 18, 26, 1, 14, 23, 16, 5, 5, 1, 23, 17, 5, 5, 1, 3, 17, 10, 3, 5, 17, 1, 4, 17, 23, 16, 26, 1, 18, 22, 3, 3, 17, 26, 1, 4, 18, 17, 26, 1, 17, 1, 9, 22, 3, 23, 16, 49, 17, 1, 6, 17, 14, 13, 14, 36, 1, 17, 1, 14, 17, 2, 27], '200701-100619_pcm_9fa_elicit_16': [37, 34, 1, 14, 17, 17, 1, 22, 14, 1, 18, 10, 5, 2, 1, 14, 3, 16, 7, 16, 23, 1, 19, 17, 2, 1, 25, 10, 8, 17, 1, 19, 10, 4, 26, 1, 15, 7, 10, 8, 1, 18, 17, 22, 38, 17, 26, 1, 5, 16, 21, 17, 1, 19, 10, 38, 17, 1, 22, 26, 19, 1, 17, 1, 14, 23, 22, 2, 1, 10, 26, 23, 10, 3, 1, 22, 8, 20], '200701-100619_pcm_9fa_elicit_17': [28, 38, 17, 26, 1, 8, 17, 1, 26, 10, 1, 21, 26, 10, 4, 1, 22, 8, 36, 1, 9, 13, 23, 1, 23, 18, 17, 1, 53, 17, 7, 14, 10, 26, 1, 4, 17, 2, 1, 14, 17, 26, 19, 1, 8, 17, 1, 25, 10, 8, 17, 1, 9, 22, 3, 23, 16, 49, 17, 1, 3, 17, 10, 3, 5, 17, 1, 4, 16, 23, 18, 1, 4, 22, 23, 17, 7, 1, 23, 17, 5, 5, 1, 8, 17, 1, 14, 17, 2, 27], '200701-100619_pcm_9fa_elicit_18': [71, 40, 26, 2, 9, 10, 19, 2, 1, 4, 17, 2, 1, 2, 10, 13, 1, 14, 17, 17, 1, 14, 17, 2, 1, 23, 18, 17, 1, 14, 3, 16, 7, 16, 23, 1, 19, 17, 2, 1, 25, 10, 8, 17, 1, 10, 26, 23, 10, 3, 36, 1, 22, 26, 19, 1, 14, 23, 22, 2, 1, 10, 26, 23, 10, 3, 1, 22, 8, 36], '200701-100619_pcm_9fa_elicit_19': [26, 22, 1, 23, 18, 22, 23, 1, 10, 26, 17, 1, 19, 17, 2, 1, 9, 22, 3, 23, 16, 49, 17, 1, 4, 16, 23, 18, 1, 18, 10, 5, 2, 1, 14, 3, 16, 7, 16, 23, 20], '200701-100619_pcm_9fa_elicit_20': [72, 1, 34, 1, 14, 17, 17, 1, 22, 8, 36, 1, 22, 26, 19, 1, 34, 1, 19, 10, 26, 1, 23, 22, 5, 21, 1, 22, 9, 10, 13, 23, 1, 22, 8, 1, 14, 17, 2, 1, 23, 18, 16, 14, 1, 3, 17, 7, 14, 10, 26, 1, 26, 22, 1, 51, 10, 19, 1, 11, 10, 26, 20, 31, 6, 10, 18, 26, 1, 61, 27, 35, 43, 62, 35, 29, 20], '200701-100619_pcm_9fa_elicit_21': [46, 18, 17, 1, 26, 17, 45, 23, 1, 19, 22, 2, 1, 4, 18, 17, 26, 1, 6, 17, 14, 13, 14, 1, 19, 17, 2, 1, 3, 22, 14, 14, 36, 1, 6, 10, 18, 26, 1, 19, 17, 2, 1, 4, 16, 23, 18, 1, 23, 4, 10, 1, 10, 15, 1, 16, 8, 1, 19, 16, 14, 25, 16, 3, 5, 17, 14, 20], '200701-100619_pcm_9fa_elicit_22': [6, 10, 18, 26, 1, 25, 10, 8, 17, 1, 23, 22, 5, 21, 1, 14, 17, 2, 27, 1, 37, 11, 17, 17, 36, 1, 26, 22, 1, 51, 10, 19, 1, 57, 22, 8, 9, 1, 9, 17, 1, 23, 18, 16, 14, 67, 31, 1, 33, 6, 10, 18, 26, 1, 61, 27, 35, 69, 30, 1, 40, 14, 1, 19, 17, 8, 1, 18, 17, 22, 7, 1, 22, 8, 36], '200701-100619_pcm_9fa_elicit_24': [46, 18, 17, 1, 14, 17, 25, 10, 26, 19, 1, 3, 17, 7, 14, 10, 26, 1, 15, 16, 23, 1, 9, 17, 1, 23, 18, 17, 1, 3, 17, 7, 14, 10, 26, 1, 4, 17, 2, 1, 4, 7, 16, 23, 17, 1, 23, 18, 16, 14, 1, 14, 23, 10, 7, 2, 20, 1, 34, 8, 1, 26, 22, 8, 17, 1, 14, 23, 16, 5, 5, 1, 9, 17, 1, 6, 10, 18, 26, 20], '200701-100619_pcm_9fa_elicit_25': [46, 18, 16, 14, 1, 6, 10, 18, 26, 1, 26, 22, 1, 11, 22, 5, 10, 8, 17, 1, 3, 16, 21, 16, 26, 20, 1, 28, 1, 15, 16, 23, 1, 9, 17, 1, 14, 17, 2, 1, 11, 22, 5, 10, 8, 17, 1, 26, 22, 1, 24, 22, 7, 2, 1, 14, 16, 14, 23, 17, 7], '200701-100619_pcm_9fa_elicit_26': [22, 26, 19, 1, 16, 8, 1, 18, 13, 14, 9, 22, 26, 19, 1, 26, 22, 8, 17, 36, 1, 26, 22, 1, 68, 17, 9, 17, 19, 17, 17, 20, 1, 11, 10, 1, 6, 10, 18, 26, 1, 15, 16, 23, 1, 9, 17, 1, 6, 17, 14, 13, 14, 1, 25, 10, 13, 14, 16, 26, 20], '200701-100619_pcm_9fa_elicit_27': [6, 17, 14, 13, 14, 1, 5, 10, 10, 21, 1, 9, 22, 25, 21, 36, 1, 22, 26, 19, 1, 17, 1, 14, 17, 17, 1, 14, 17, 2, 1, 40, 26, 19, 7, 17, 4, 1, 22, 26, 19, 1, 6, 10, 18, 26, 1, 19, 17, 2, 1, 15, 10, 5, 5, 10, 4, 1, 22, 8, 36], '200701-100619_pcm_9fa_elicit_28': [26, 22, 1, 16, 8, 1, 17, 1, 22, 14, 21, 1, 19, 17, 8, 1, 14, 17, 2, 27, 1, 37, 50, 17, 23, 16, 26, 1, 13, 26, 22, 1, 19, 17, 2, 1, 15, 16, 26, 19, 52, 31], '200701-100619_pcm_9fa_elicit_29': [39, 17, 8, 1, 25, 10, 8, 17, 1, 22, 14, 21, 1, 22, 8, 1, 14, 17, 2, 27, 1, 37, 47, 22, 9, 9, 16, 36, 1, 4, 18, 17, 7, 17, 1, 2, 10, 13, 1, 19, 17, 2, 1, 14, 23, 22, 2, 52, 31], '200701-100619_pcm_9fa_elicit_30': [6, 17, 14, 13, 14, 1, 23, 17, 5, 5, 1, 19, 17, 8, 1, 14, 17, 2, 27, 1, 37, 24, 22, 21, 17, 1, 13, 26, 22, 1, 25, 10, 8, 17, 1, 14, 17, 17, 1, 23, 18, 17, 1, 3, 5, 22, 25, 17, 20, 31, 6, 10, 18, 26, 1, 61, 27, 35, 60, 62, 35, 32], '200701-100619_pcm_9fa_elicit_31': [6, 17, 14, 13, 14, 1, 19, 17, 2, 1, 23, 22, 5, 21, 1, 23, 10, 1, 53, 18, 16, 5, 16, 3, 1, 22, 26, 19, 1, 42, 22, 23, 18, 22, 26, 22, 17, 5], '200701-100619_pcm_9fa_elicit_32': [48, 7, 10, 8, 1, 22, 7, 10, 13, 26, 19, 1, 15, 10, 13, 7, 1, 10, 72, 25, 5, 10, 25, 21, 1, 15, 10, 7, 1, 17, 38, 17, 26, 16, 26, 12, 36, 1, 40, 26, 19, 7, 17, 4, 1, 22, 26, 19, 1, 6, 10, 18, 26, 1, 14, 23, 22, 2, 1, 4, 16, 23, 18, 1, 6, 17, 14, 13, 14, 1, 23, 18, 7, 10, 13, 12, 18, 10, 13, 23, 1, 23, 18, 22, 23, 1, 19, 22, 2, 20], '200701-100619_pcm_9fa_elicit_33': [28, 1, 14, 4, 17, 17, 23, 1, 40, 26, 19, 7, 17, 4, 1, 14, 10, 23, 17, 2, 1, 17, 1, 15, 16, 26, 19, 1, 16, 8, 1, 9, 7, 10, 23, 18, 17, 7, 1, 4, 17, 2, 1, 16, 8, 1, 26, 22, 8, 17, 1, 26, 22, 1, 53, 17, 23, 17, 7, 36, 1, 17, 1, 25, 10, 8, 17, 1, 23, 17, 5, 5, 1, 22, 8, 1, 14, 17, 2, 27], '200701-100619_pcm_9fa_elicit_34': [37, 50, 17, 1, 19, 10, 26, 1, 14, 17, 17, 1, 23, 18, 17, 1, 24, 17, 14, 14, 16, 22, 18, 20, 31, 1, 33, 6, 10, 18, 26, 1, 61, 27, 29, 61, 30, 1, 40, 26, 19, 7, 17, 4, 1, 25, 22, 7, 7, 2, 1, 16, 8, 1, 9, 7, 10, 23, 18, 17, 7, 1, 53, 17, 23, 17, 7, 1, 12, 10, 1, 8, 17, 17, 23, 1, 6, 17, 14, 13, 14, 20], '200701-100619_pcm_9fa_elicit_35': [46, 18, 16, 26, 12, 14, 1, 4, 17, 2, 1, 18, 22, 3, 3, 17, 26, 1, 5, 22, 23, 17, 7, 36, 1, 14, 18, 10, 4, 1, 14, 17, 2, 1, 6, 10, 18, 26, 1, 15, 16, 26, 19, 1, 16, 8, 1, 9, 7, 10, 23, 18, 17, 7, 1, 6, 22, 8, 17, 14, 36], '200701-100619_pcm_9fa_elicit_36': [25, 10, 8, 17, 1, 25, 22, 7, 7, 2, 1, 22, 8, 1, 12, 10, 1, 8, 17, 17, 23, 1, 6, 17, 14, 13, 14, 20, 1, 56, 13, 23, 1, 6, 10, 18, 26, 1, 26, 10, 1, 22, 19, 19, 1, 23, 18, 16, 14, 1, 10, 26, 17, 1, 41, 10, 16, 26, 1, 4, 17, 23, 16, 26, 1, 17, 1, 4, 7, 16, 23, 17, 20], '200701-100619_pcm_9fa_elicit_37': [46, 18, 17, 1, 26, 17, 45, 23, 1, 19, 22, 2, 36, 1, 6, 17, 14, 13, 14, 1, 14, 17, 17, 1, 53, 18, 16, 5, 16, 3, 1, 4, 17, 2, 1, 25, 10, 8, 17, 1, 15, 7, 10, 8, 1, 56, 17, 23, 18, 14, 22, 16, 19, 22, 20], '200701-100619_pcm_9fa_elicit_38': [56, 17, 23, 18, 14, 22, 16, 19, 22, 1, 19, 17, 2, 1, 23, 18, 17, 1, 26, 10, 7, 23, 18, 1, 14, 16, 19, 17, 1, 10, 15, 1, 23, 18, 17, 1, 11, 17, 22, 1, 10, 15, 1, 51, 22, 5, 16, 5, 17, 17, 20], '200701-100619_pcm_9fa_elicit_39': [42, 22, 1, 23, 18, 16, 14, 1, 14, 22, 8, 17, 1, 23, 10, 4, 26, 1, 40, 26, 19, 7, 17, 4, 1, 22, 26, 19, 1, 53, 17, 23, 17, 7, 1, 25, 10, 8, 17, 1, 15, 7, 10, 8, 20], '200701-100619_pcm_9fa_elicit_40': [50, 18, 17, 26, 1, 6, 17, 14, 13, 14, 1, 14, 17, 17, 1, 53, 18, 16, 5, 16, 3, 36, 1, 17, 1, 23, 17, 5, 5, 1, 22, 8, 1, 14, 17, 2, 27, 1, 37, 56, 17, 1, 8, 2, 1, 19, 16, 14, 25, 16, 3, 5, 17, 20, 31, 6, 10, 18, 26, 1, 61, 27, 29, 35, 20], '200701-100619_pcm_9fa_elicit_41': [53, 18, 16, 5, 16, 3, 1, 14, 17, 17, 1, 42, 22, 23, 18, 22, 26, 22, 17, 5, 1, 4, 17, 2, 1, 16, 8, 1, 26, 22, 8, 17, 1, 14, 23, 16, 5, 5, 1, 9, 17, 1, 1, 56, 22, 7, 23, 18, 10, 5, 10, 8, 17, 4, 36, 1, 17, 1, 23, 17, 5, 5, 1, 22, 8, 1, 14, 17, 2, 27], '200701-100619_pcm_9fa_elicit_42': [37, 50, 17, 1, 19, 10, 26, 1, 14, 17, 17, 1, 23, 18, 17, 1, 3, 17, 7, 14, 10, 26, 1, 4, 17, 2, 1, 24, 10, 14, 17, 14, 1, 4, 7, 16, 23, 17, 1, 22, 9, 10, 13, 23, 1, 15, 10, 7, 1, 16, 26, 14, 16, 19, 17, 1, 23, 18, 17, 1, 57, 22, 4, 1, 22, 26, 19, 1, 23, 18, 17, 1, 53, 7, 10, 3, 18, 17, 23, 14, 36], '200701-100619_pcm_9fa_elicit_43': [26, 22, 1, 6, 17, 14, 13, 14, 59, 1, 6, 10, 14, 17, 3, 18, 1, 3, 16, 21, 16, 26, 36, 1, 4, 17, 2, 1, 25, 10, 8, 17, 1, 15, 7, 10, 8, 1, 42, 22, 49, 22, 7, 17, 23, 18, 20, 31], '200701-100619_pcm_9fa_elicit_44': [56, 13, 23, 1, 42, 22, 23, 18, 22, 26, 22, 17, 5, 1, 26, 10, 1, 9, 17, 5, 16, 17, 38, 17, 1, 22, 8, 36, 1, 17, 1, 23, 17, 5, 5, 1, 53, 18, 16, 5, 16, 3, 1, 14, 17, 2, 27, 1, 37, 40, 26, 2, 1, 9, 17, 23, 23, 17, 7, 1, 23, 18, 16, 26, 12, 1, 15, 16, 23, 1, 25, 10, 8, 17, 1, 15, 7, 10, 8, 1, 42, 22, 49, 22, 7, 17, 23, 18, 52, 31], '200701-100619_pcm_9fa_elicit_46': [37, 11, 17, 17, 36, 1, 23, 18, 16, 14, 1, 26, 22, 1, 7, 17, 22, 5, 5, 2, 1, 34, 14, 7, 22, 17, 5, 1, 3, 17, 7, 14, 10, 26, 1, 4, 17, 2, 1, 26, 10, 1, 19, 17, 2, 1, 19, 10, 1, 4, 22, 2, 10, 20, 31], '200701-100619_pcm_9fa_elicit_47': [42, 22, 23, 18, 22, 26, 22, 17, 5, 1, 22, 14, 21, 1, 22, 8, 1, 14, 17, 2, 27, 1, 37, 54, 10, 4, 1, 2, 10, 13, 1, 23, 22, 21, 17, 1, 21, 26, 10, 4, 1, 8, 17, 52, 31], '200701-100619_pcm_9fa_elicit_48': [6, 17, 14, 13, 14, 1, 25, 10, 8, 17, 1, 23, 17, 5, 5, 1, 22, 8, 1, 14, 17, 2, 27, 1, 37, 56, 17, 15, 10, 7, 17, 1, 53, 18, 16, 5, 16, 3, 1, 25, 10, 8, 17, 1, 25, 22, 5, 5, 1, 2, 10, 13, 36], '200701-100619_pcm_9fa_elicit_49': [34, 1, 14, 17, 17, 1, 2, 10, 13, 1, 4, 18, 17, 26, 1, 2, 10, 13, 1, 19, 17, 2, 1, 13, 26, 19, 17, 7, 1, 23, 18, 17, 1, 15, 16, 12, 1, 23, 7, 17, 17, 20, 31], '200701-100619_pcm_9fa_elicit_50': [50, 17, 23, 16, 26, 1, 6, 17, 14, 13, 14, 1, 23, 22, 5, 21, 1, 14, 13, 7, 3, 7, 16, 14, 17, 1, 42, 22, 23, 18, 22, 26, 22, 17, 5, 36, 1, 17, 1, 25, 10, 8, 17, 1, 23, 17, 5, 5, 1, 6, 17, 14, 13, 14, 1, 14, 17, 2, 27], '200701-100619_pcm_9fa_elicit_51': [37, 47, 22, 9, 9, 16, 36, 1, 2, 10, 13, 1, 26, 22, 1, 51, 10, 19, 1, 11, 10, 26, 36, 1, 22, 26, 19, 1, 2, 10, 13, 1, 9, 17, 1, 34, 14, 7, 22, 17, 5, 1, 58, 16, 26, 12, 20, 31], '200701-100619_pcm_9fa_elicit_52': [6, 17, 14, 13, 14, 1, 25, 10, 8, 17, 1, 22, 14, 21, 1, 22, 8, 1, 14, 17, 2, 27, 1, 37, 70, 10, 13, 1, 9, 17, 5, 16, 17, 38, 17, 1, 9, 17, 25, 22, 13, 14, 17, 1, 34, 1, 23, 17, 5, 5, 1, 2, 10, 13, 1, 14, 17, 2, 1, 34, 1, 14, 17, 17, 1, 2, 10, 13, 1, 15, 10, 7, 1, 13, 26, 19, 17, 7, 1, 15, 16, 12, 1, 23, 7, 17, 17, 52], '200701-100619_pcm_9fa_elicit_53': [31, 1, 6, 17, 14, 13, 14, 1, 14, 23, 16, 5, 5, 1, 23, 17, 5, 5, 1, 22, 8, 1, 14, 17, 2, 27, 1, 37, 46, 7, 13, 17, 1, 23, 7, 13, 17, 36, 1, 34, 1, 19, 17, 2, 1, 23, 17, 5, 5, 1, 13, 26, 22, 1, 14, 17, 2, 36], '200701-100619_pcm_9fa_elicit_54': [13, 26, 22, 1, 12, 10, 1, 14, 17, 17, 1, 4, 18, 17, 26, 1, 18, 17, 22, 38, 17, 26, 1, 12, 10, 1, 10, 3, 17, 26, 1, 22, 26, 19, 1, 22, 26, 12, 17, 5, 14, 1, 12, 10, 1, 19, 17, 2, 1, 25, 10, 8, 17, 1, 19, 10, 4, 26, 1, 25, 10, 8, 17, 1, 8, 17, 17, 23, 1, 23, 18, 17, 1, 11, 10, 26, 1, 10, 15, 1, 8, 22, 26, 36], '200701-100619_pcm_9fa_elicit_55': [22, 26, 19, 1, 19, 17, 8, 1, 12, 10, 1, 19, 17, 2, 1, 12, 10, 1, 13, 3, 20, 31, 6, 10, 18, 26, 1, 61, 27, 29, 65, 62, 65, 61, 20], '200701-100619_pcm_9fa_elicit_56': [40, 15, 23, 17, 7, 1, 22, 5, 5, 1, 23, 18, 16, 14, 1, 10, 26, 17, 36, 1, 6, 17, 14, 13, 14, 1, 4, 16, 23, 18, 1, 16, 8, 1, 26, 17, 4, 1, 19, 16, 14, 25, 16, 3, 5, 17, 14, 1, 25, 10, 8, 10, 23, 1, 15, 7, 10, 8, 1, 6, 10, 7, 19, 22, 26, 1, 22, 7, 17, 22, 36, 1, 25, 10, 8, 17, 1, 12, 10, 1, 51, 22, 5, 16, 5, 17, 17, 20], '200701-113336_pcm_9fa_elicit_0': [6, 17, 14, 13, 14, 1, 39, 10, 1, 34, 8, 1, 48, 16, 7, 14, 23, 1, 24, 16, 7, 22, 25, 5, 17], '200701-113336_pcm_9fa_elicit_1': [46, 18, 7, 17, 17, 1, 19, 22, 2, 14, 1, 19, 10, 26, 1, 3, 22, 14, 14, 1, 14, 16, 26, 25, 17, 1, 42, 22, 23, 18, 22, 26, 22, 17, 5, 1, 9, 17, 1, 6, 17, 14, 13, 14, 1, 19, 16, 14, 25, 16, 3, 5, 17, 20], '200701-113336_pcm_9fa_elicit_2': [6, 17, 14, 13, 14, 1, 22, 26, 19, 1, 14, 10, 8, 17, 1, 10, 15, 1, 16, 8, 1, 15, 16, 7, 14, 23, 1, 19, 16, 14, 25, 16, 3, 5, 17, 14, 1, 19, 17, 2, 1, 23, 7, 22, 38, 17, 5, 1, 12, 10, 1, 23, 18, 17, 16, 7, 1, 22, 7, 17, 22, 1, 15, 10, 7, 1, 23, 18, 17, 1, 26, 10, 7, 23, 18, 1, 14, 16, 19, 17, 1, 10, 15, 1, 51, 22, 5, 16, 5, 17, 17, 36], '200701-113336_pcm_9fa_elicit_3': [22, 26, 19, 1, 26, 22, 1, 44, 22, 26, 22, 1, 19, 17, 8, 1, 19, 17, 2, 1, 12, 10, 20, 1, 42, 22, 1, 23, 18, 16, 14, 1, 3, 5, 22, 25, 17, 1, 42, 22, 23, 18, 22, 26, 22, 17, 5, 1, 25, 10, 8, 17, 1, 15, 7, 10, 8, 20], '200701-113336_pcm_9fa_elicit_4': [44, 22, 26, 22, 1, 19, 17, 2, 1, 10, 26, 23, 10, 3, 1, 18, 16, 5, 5, 1, 15, 10, 7, 1, 23, 18, 17, 1, 26, 10, 7, 23, 18, 1, 14, 16, 19, 17, 1, 10, 15, 1, 42, 22, 49, 22, 7, 17, 23, 18, 36, 1, 4, 18, 17, 7, 17, 1, 6, 17, 14, 13, 14, 1, 14, 23, 22, 2, 1, 23, 16, 5, 5, 1, 17, 1, 12, 7, 10, 4, 20], '200701-113336_pcm_9fa_elicit_5': [53, 17, 7, 14, 10, 26, 1, 16, 26, 38, 16, 23, 17, 1, 19, 17, 8, 1, 25, 10, 8, 17, 1, 10, 26, 17, 1, 4, 17, 19, 19, 16, 26, 12, 1, 15, 10, 7, 1, 23, 18, 17, 7, 17, 20], '200701-113336_pcm_9fa_elicit_6': [28, 38, 17, 26, 1, 6, 17, 14, 13, 14, 1, 8, 22, 8, 22, 1, 25, 10, 8, 17, 1, 23, 18, 17, 1, 4, 17, 19, 19, 16, 26, 12, 20, 1, 11, 16, 26, 25, 17, 1, 23, 18, 17, 1, 3, 17, 10, 3, 5, 17, 1, 4, 17, 2, 1, 19, 17, 2, 1, 8, 22, 7, 7, 2, 1, 26, 22, 1, 24, 22, 7, 2, 1, 15, 7, 16, 17, 26, 19, 36], '200701-113336_pcm_9fa_elicit_7': [17, 1, 19, 17, 2, 1, 18, 17, 5, 3, 1, 19, 17, 8, 1, 23, 22, 21, 17, 1, 25, 22, 7, 17, 1, 10, 15, 1, 23, 18, 17, 1, 38, 16, 14, 16, 23, 10, 7, 14, 1, 4, 17, 2, 1, 25, 10, 8, 17, 1, 23, 18, 17, 1, 4, 17, 19, 19, 16, 26, 12, 20], '200701-113336_pcm_9fa_elicit_8': [42, 22, 1, 16, 8, 1, 8, 22, 21, 17, 1, 17, 1, 63, 13, 16, 25, 21, 1, 26, 10, 23, 16, 25, 17, 1, 14, 17, 2, 1, 4, 16, 26, 17, 1, 19, 10, 26, 1, 15, 16, 26, 16, 14, 18, 20], '200701-113336_pcm_9fa_elicit_9': [28, 1, 25, 10, 8, 17, 1, 23, 17, 5, 5, 1, 6, 17, 14, 13, 14, 1, 14, 17, 2, 27, 1, 37, 39, 17, 8, 1, 26, 10, 1, 12, 17, 23, 1, 4, 16, 26, 17, 1, 22, 12, 22, 16, 26, 20, 31, 6, 10, 18, 26, 1, 43, 27, 35, 20], '200701-113336_pcm_9fa_elicit_10': [50, 17, 23, 16, 26, 1, 24, 22, 7, 2, 1, 19, 17, 2, 1, 23, 17, 5, 5, 1, 6, 17, 14, 13, 14, 1, 9, 17, 1, 14, 17, 2, 1, 8, 22, 21, 17, 1, 17, 1, 19, 10, 1, 14, 10, 8, 17, 23, 18, 16, 26, 12, 1, 22, 9, 10, 13, 23, 1, 23, 18, 16, 14, 1, 4, 16, 26, 17, 1, 8, 22, 23, 23, 17, 7, 20], '200701-113336_pcm_9fa_elicit_11': [56, 13, 23, 1, 6, 17, 14, 13, 14, 1, 23, 17, 5, 5, 1, 24, 22, 7, 2, 1, 14, 17, 2, 27, 1, 37, 50, 10, 8, 22, 26, 36, 1, 18, 10, 4, 1, 23, 18, 22, 23, 1, 10, 26, 17, 1, 23, 22, 21, 17, 1, 25, 10, 26, 25, 17, 7, 26, 1, 8, 17, 1, 22, 26, 19, 1, 2, 10, 13, 20], '200701-113336_pcm_9fa_elicit_12': [31, 1, 33, 6, 10, 18, 26, 1, 43, 27, 29, 30, 1, 11, 16, 26, 25, 17, 1, 6, 17, 18, 10, 38, 22, 18, 1, 19, 10, 26, 1, 25, 18, 10, 10, 14, 17, 1, 6, 17, 14, 13, 14, 1, 22, 14, 1, 58, 16, 26, 12, 36, 1, 26, 22, 1, 16, 8, 1, 14, 13, 3, 3, 10, 14, 17, 1, 19, 17, 2, 1, 19, 16, 7, 17, 25, 23, 1, 17, 38, 17, 7, 2, 23, 18, 16, 26, 12, 1, 4, 17, 2, 1, 6, 17, 14, 13, 14, 1, 12, 10, 1, 19, 10, 36], '200701-113336_pcm_9fa_elicit_13': [26, 10, 1, 9, 17, 1, 16, 8, 1, 15, 22, 8, 16, 5, 2, 1, 10, 7, 1, 15, 7, 16, 17, 26, 19, 14, 20, 1, 24, 22, 7, 2, 1, 26, 22, 1, 4, 10, 8, 22, 26, 1, 4, 17, 2, 1, 12, 17, 23, 1, 14, 17, 26, 14, 17, 36], '200701-113336_pcm_9fa_elicit_14': [14, 10, 1, 17, 1, 5, 17, 22, 38, 17, 1, 23, 18, 17, 1, 8, 22, 23, 23, 17, 7, 1, 15, 10, 7, 1, 6, 17, 14, 13, 14, 1, 18, 22, 26, 19, 20, 1, 28, 1, 41, 13, 14, 23, 1, 23, 17, 5, 5, 1, 23, 18, 17, 1, 3, 17, 10, 3, 5, 17, 1, 4, 17, 2, 1, 19, 17, 2, 1, 14, 17, 7, 38, 17, 1, 14, 17, 2, 27], '200701-113336_pcm_9fa_elicit_15': [37, 24, 22, 21, 17, 1, 13, 26, 22, 1, 19, 10, 1, 22, 26, 2, 23, 18, 16, 26, 12, 1, 4, 17, 2, 1, 17, 1, 23, 17, 5, 5, 1, 13, 26, 22, 20, 31, 6, 10, 18, 26, 1, 43, 27, 65, 20], '200701-113336_pcm_9fa_elicit_16': [11, 16, 45, 1, 3, 10, 23, 1, 4, 17, 2, 1, 19, 17, 8, 1, 19, 17, 2, 1, 15, 17, 23, 25, 18, 1, 4, 22, 23, 17, 7, 1, 3, 13, 23, 1, 19, 17, 2, 1, 12, 7, 10, 13, 26, 19, 20], '200701-113336_pcm_9fa_elicit_17': [55, 26, 17, 1, 3, 10, 23, 1, 15, 16, 23, 1, 25, 22, 7, 7, 2, 1, 3, 22, 14, 14, 1, 61, 66, 1, 12, 22, 5, 5, 10, 26, 1, 10, 7, 1, 29, 66, 1, 57, 16, 23, 17, 7, 14, 20, 1, 6, 17, 14, 13, 14, 1, 25, 10, 8, 17, 1, 23, 17, 5, 5, 1, 23, 18, 17, 1, 3, 17, 10, 3, 5, 17, 1, 4, 17, 2, 1, 19, 17, 2, 1, 14, 17, 7, 38, 17, 1, 14, 17, 2, 27], '200701-113336_pcm_9fa_elicit_18': [37, 24, 22, 21, 17, 1, 13, 26, 22, 1, 15, 17, 23, 25, 18, 1, 4, 22, 23, 17, 7, 1, 3, 13, 23, 1, 16, 26, 14, 16, 19, 17, 1, 22, 5, 5, 1, 23, 18, 17, 1, 3, 10, 23, 20], '200701-113336_pcm_9fa_elicit_19': [31, 1, 40, 15, 23, 17, 7, 36, 1, 17, 1, 23, 17, 5, 5, 1, 19, 17, 8, 1, 14, 17, 2, 27, 1, 37, 42, 10, 4, 36, 1, 23, 22, 21, 17, 1, 14, 8, 22, 5, 5, 1, 15, 7, 10, 8, 1, 16, 26, 14, 16, 19, 17, 1, 23, 18, 17, 1, 3, 10, 23, 36], '200701-113336_pcm_9fa_elicit_20': [12, 10, 1, 12, 16, 38, 17, 1, 23, 18, 17, 1, 3, 17, 7, 14, 10, 26, 1, 4, 17, 2, 1, 19, 17, 2, 1, 19, 16, 7, 17, 25, 23, 1, 23, 18, 16, 14, 1, 3, 22, 7, 23, 2, 20, 31, 6, 10, 18, 26, 1, 43, 27, 60, 36, 1, 64, 20], '200701-113336_pcm_9fa_elicit_21': [46, 18, 17, 1, 3, 17, 7, 14, 10, 26, 1, 4, 17, 2, 1, 19, 17, 2, 1, 19, 16, 7, 17, 25, 23, 1, 23, 18, 17, 1, 3, 22, 7, 23, 2, 1, 19, 17, 2, 1, 12, 7, 17, 17, 23, 1, 23, 18, 17, 1, 8, 22, 26, 1, 4, 17, 2, 1, 19, 17, 2, 1, 8, 22, 7, 7, 2, 36, 1, 14, 17, 2, 1, 23, 18, 17, 1, 4, 16, 26, 17, 1, 7, 17, 22, 5, 5, 2, 1, 12, 10, 10, 19], '200701-113336_pcm_9fa_elicit_22': [46, 18, 17, 1, 3, 17, 7, 14, 10, 26, 1, 4, 17, 2, 1, 19, 17, 2, 1, 19, 16, 7, 17, 25, 23, 1, 23, 18, 17, 1, 3, 22, 7, 23, 2, 1, 5, 16, 21, 17, 1, 23, 18, 16, 14, 1, 4, 16, 26, 17, 1, 4, 17, 5, 5, 1, 4, 17, 5, 5, 20, 1, 28, 1, 26, 10, 1, 21, 26, 10, 4, 1, 14, 17, 2, 1, 26, 22, 1, 8, 16, 7, 22, 25, 5, 17, 1, 19, 17, 8, 1, 23, 22, 21, 17, 1, 19, 10, 1, 22, 8, 20], '200701-113336_pcm_9fa_elicit_23': [28, 1, 25, 10, 8, 17, 1, 25, 22, 5, 5, 1, 23, 18, 17, 1, 8, 22, 26, 1, 4, 17, 2, 1, 19, 17, 2, 1, 8, 22, 7, 7, 2, 36, 1, 17, 1, 23, 17, 5, 5, 1, 22, 8, 1, 14, 17, 2, 27], '200701-113336_pcm_9fa_elicit_24': [37, 42, 22, 1, 23, 18, 17, 1, 4, 16, 26, 17, 1, 4, 17, 2, 1, 9, 17, 23, 23, 17, 7, 1, 3, 22, 14, 14, 1, 3, 17, 10, 3, 5, 17, 1, 19, 17, 2, 1, 15, 16, 7, 14, 23, 1, 9, 7, 16, 26, 12, 1, 25, 10, 8, 17, 1, 10, 13, 23, 20], '200701-113336_pcm_9fa_elicit_25': [42, 22, 1, 4, 18, 17, 26, 1, 17, 38, 17, 7, 2, 9, 10, 19, 2, 1, 19, 10, 26, 1, 19, 7, 16, 26, 21, 1, 4, 17, 5, 5, 1, 4, 17, 5, 5, 36, 1, 19, 17, 8, 1, 12, 10, 1, 25, 10, 8, 17, 1, 9, 7, 16, 26, 12, 1, 23, 18, 17, 1, 4, 16, 26, 17, 1, 4, 17, 2, 1, 26, 10, 1, 23, 10, 10, 1, 15, 16, 26, 17, 20], '200701-113336_pcm_9fa_elicit_26': [56, 13, 23, 1, 2, 10, 13, 36, 1, 26, 22, 1, 26, 10, 4, 1, 2, 10, 13, 1, 41, 13, 14, 23, 1, 19, 17, 2, 1, 9, 7, 16, 26, 12, 1, 23, 18, 17, 1, 4, 16, 26, 17, 1, 4, 17, 2, 1, 9, 17, 23, 23, 17, 7, 1, 3, 22, 14, 14, 1, 25, 10, 8, 17, 1, 10, 13, 23, 20, 31, 6, 10, 18, 26, 1, 43, 27, 61, 66, 20], '200701-113336_pcm_9fa_elicit_27': [46, 18, 16, 14, 1, 26, 22, 1, 23, 18, 17, 1, 15, 16, 7, 14, 23, 1, 8, 16, 7, 22, 25, 5, 17, 1, 4, 17, 2, 1, 6, 17, 14, 13, 14, 1, 19, 10, 20, 1, 50, 18, 17, 26, 1, 16, 8, 1, 19, 16, 14, 25, 16, 3, 5, 17, 14, 1, 14, 17, 17, 1, 23, 18, 16, 14, 1, 8, 16, 7, 22, 25, 5, 17, 36], '200701-113336_pcm_9fa_elicit_28': [23, 18, 17, 16, 7, 1, 15, 22, 16, 23, 18, 1, 15, 10, 7, 1, 6, 17, 14, 13, 14, 1, 25, 10, 8, 17, 1, 14, 23, 7, 10, 26, 12, 1, 8, 10, 7, 17, 1, 8, 10, 7, 17, 20], '200701-113336_pcm_9fa_elicit_29': [40, 15, 23, 17, 7, 36, 1, 6, 17, 14, 13, 14, 1, 4, 16, 23, 18, 1, 16, 8, 1, 8, 22, 8, 22, 1, 22, 26, 19, 1, 16, 8, 1, 9, 7, 10, 23, 18, 17, 7, 14, 1, 25, 10, 8, 17, 1, 23, 7, 22, 38, 17, 5, 1, 12, 10, 1, 44, 22, 3, 17, 7, 26, 22, 13, 8, 36], '200701-113336_pcm_9fa_elicit_30': [4, 17, 2, 1, 19, 17, 2, 1, 23, 18, 17, 1, 26, 10, 7, 23, 18, 4, 17, 14, 23, 1, 14, 16, 19, 17, 1, 15, 10, 7, 1, 23, 18, 17, 1, 11, 17, 22, 1, 10, 15, 1, 51, 22, 5, 16, 5, 17, 17, 20], '200701-113336_pcm_9fa_elicit_31': [6, 17, 14, 13, 14, 1, 11, 18, 10, 4, 1, 34, 8, 1, 57, 10, 38, 17, 1, 15, 10, 7, 1, 46, 7, 13, 17, 1, 50, 10, 7, 14, 18, 16, 3], '200701-113336_pcm_9fa_elicit_32': [40, 15, 23, 17, 7, 1, 23, 18, 17, 1, 4, 17, 19, 19, 16, 26, 12, 1, 15, 10, 7, 1, 44, 22, 26, 22, 36, 1, 6, 17, 14, 13, 14, 1, 12, 10, 1, 44, 22, 3, 17, 7, 26, 22, 13, 8, 20], '200701-113336_pcm_9fa_elicit_33': [34, 8, 1, 8, 22, 8, 22, 1, 22, 26, 19, 1, 16, 8, 1, 9, 7, 10, 23, 18, 17, 7, 14, 59, 1, 6, 22, 8, 17, 14, 36, 1, 6, 10, 14, 17, 3, 18, 36, 1, 11, 16, 8, 10, 26, 36, 1, 22, 26, 19, 1, 6, 13, 19, 22, 14, 1, 12, 10, 1, 4, 16, 23, 18, 1, 22, 8, 20], '200701-113336_pcm_9fa_elicit_34': [56, 13, 23, 1, 4, 18, 2, 1, 6, 17, 14, 13, 14, 1, 12, 10, 1, 44, 22, 3, 17, 7, 26, 22, 13, 8, 52, 1, 42, 22, 1, 9, 17, 25, 22, 13, 14, 17, 1, 10, 15, 1, 23, 18, 17, 1, 21, 16, 26, 19, 1, 25, 16, 23, 2, 1, 4, 17, 2, 1, 44, 22, 3, 17, 7, 26, 22, 13, 8, 1, 9, 17, 20], '200701-113336_pcm_9fa_elicit_35': [56, 17, 25, 22, 13, 14, 17, 1, 10, 15, 1, 4, 18, 17, 7, 17, 1, 44, 22, 3, 17, 7, 26, 22, 13, 8, 1, 19, 17, 2, 36, 1, 17, 1, 19, 17, 2, 1, 17, 22, 14, 2, 1, 15, 10, 7, 1, 3, 17, 10, 3, 5, 17, 1, 23, 10, 1, 7, 17, 22, 25, 18, 1, 22, 8, 36], '200701-113336_pcm_9fa_elicit_36': [22, 26, 19, 1, 17, 1, 9, 16, 12, 1, 3, 22, 14, 14, 1, 42, 22, 49, 22, 7, 17, 23, 18, 1, 10, 7, 1, 44, 22, 26, 22, 20, 1, 42, 10, 1, 9, 17, 1, 10, 26, 5, 2, 1, 23, 18, 22, 23, 1, 10, 26, 17, 20], '200701-113336_pcm_9fa_elicit_38': [11, 10, 36, 1, 17, 1, 12, 10, 1, 19, 17, 2, 1, 17, 22, 14, 2, 1, 15, 10, 7, 1, 6, 17, 14, 13, 14, 1, 23, 10, 1, 23, 7, 22, 16, 26, 1, 19, 17, 8, 1, 15, 10, 7, 1, 23, 18, 17, 16, 7, 1, 22, 7, 17, 22, 20], '200701-113336_pcm_9fa_elicit_39': [48, 10, 7, 1, 44, 22, 3, 17, 7, 26, 22, 13, 8, 36, 1, 6, 17, 14, 13, 14, 1, 19, 10, 1, 8, 16, 7, 22, 25, 5, 17, 20, 1, 11, 10, 1, 3, 5, 17, 26, 23, 2, 1, 3, 17, 10, 3, 5, 17, 1, 15, 10, 7, 1, 23, 18, 17, 1, 22, 7, 17, 22], '200701-113336_pcm_9fa_elicit_40': [22, 26, 19, 1, 10, 23, 18, 17, 7, 1, 25, 16, 23, 2, 1, 4, 17, 2, 1, 26, 17, 22, 7, 1, 44, 22, 3, 17, 7, 26, 22, 13, 8, 1, 18, 17, 22, 7, 1, 4, 17, 23, 16, 26, 1, 6, 17, 14, 13, 14, 1, 19, 10, 1, 15, 10, 7, 1, 23, 18, 17, 7, 17, 20], '200701-113336_pcm_9fa_elicit_41': [6, 17, 14, 13, 14, 1, 19, 16, 14, 25, 16, 3, 5, 17, 14, 1, 26, 22, 1, 6, 17, 4, 1, 3, 17, 10, 3, 5, 17, 1, 4, 17, 2, 1, 19, 17, 2, 1, 13, 14, 17, 1, 22, 5, 5, 1, 23, 18, 17, 16, 7, 1, 8, 16, 26, 19, 1, 14, 17, 7, 38, 17, 1, 51, 10, 19, 20], '200701-113336_pcm_9fa_elicit_42': [11, 10, 36, 1, 15, 10, 7, 1, 23, 18, 16, 14, 1, 2, 17, 22, 7, 1, 4, 17, 2, 1, 9, 17, 1, 35, 66, 1, 44, 20, 28, 20, 36, 1, 19, 17, 8, 1, 12, 10, 1, 14, 10, 10, 26, 1, 12, 10, 1, 6, 17, 7, 13, 14, 22, 5, 17, 8, 1, 15, 10, 7, 1, 23, 18, 17, 1, 53, 22, 14, 14, 10, 38, 17, 7, 20], '200701-113336_pcm_9fa_elicit_43': [40, 14, 1, 19, 17, 8, 1, 19, 17, 2, 1, 16, 26, 14, 16, 19, 17, 1, 23, 18, 17, 1, 23, 17, 8, 3, 5, 17, 1, 15, 10, 7, 1, 6, 17, 7, 13, 14, 22, 5, 17, 8, 36], '200701-113336_pcm_9fa_elicit_44': [4, 17, 23, 16, 26, 1, 19, 17, 8, 1, 14, 17, 17, 1, 22, 9, 10, 13, 23, 1, 6, 17, 14, 13, 14, 1, 14, 13, 7, 3, 7, 16, 14, 17, 1, 19, 17, 8, 20, 1, 39, 17, 8, 1, 26, 17, 38, 17, 7, 1, 14, 17, 17, 1, 6, 17, 14, 13, 14, 1, 5, 16, 21, 17, 1, 23, 18, 16, 14, 1, 9, 17, 15, 10, 7, 17, 20], '200701-113336_pcm_9fa_elicit_45': [48, 10, 7, 1, 23, 18, 17, 1, 5, 22, 4, 1, 4, 17, 2, 1, 6, 17, 18, 10, 38, 22, 18, 1, 12, 16, 38, 17, 1, 34, 14, 7, 22, 17, 5, 1, 3, 17, 10, 3, 5, 17, 36, 1, 17, 1, 14, 17, 2, 1, 8, 22, 21, 17, 1, 19, 17, 8, 1, 19, 17, 2, 1, 19, 10, 1, 14, 22, 25, 7, 16, 15, 16, 25, 17, 1, 15, 10, 7, 1, 23, 17, 8, 3, 5, 17, 20], '200701-113336_pcm_9fa_elicit_46': [40, 26, 19, 1, 3, 17, 10, 3, 5, 17, 1, 4, 17, 2, 1, 25, 10, 8, 17, 1, 23, 18, 17, 1, 23, 17, 8, 3, 5, 17, 1, 12, 10, 1, 26, 17, 17, 19, 1, 15, 10, 10, 19, 20], '200701-113336_pcm_9fa_elicit_47': [40, 26, 19, 1, 15, 10, 7, 1, 23, 18, 17, 1, 5, 22, 4, 36, 1, 23, 18, 17, 1, 3, 17, 10, 3, 5, 17, 1, 15, 16, 23, 1, 25, 22, 7, 7, 2, 1, 8, 10, 26, 17, 2, 1, 25, 10, 8, 17, 1, 14, 10, 1, 23, 18, 22, 23, 1, 19, 17, 8, 1, 15, 16, 23, 1, 13, 14, 17, 1, 22, 8, 1, 9, 13, 2, 1, 23, 18, 16, 26, 12, 14, 1, 5, 16, 21, 17, 1, 25, 22, 23, 23, 5, 17, 36], '200701-113336_pcm_9fa_elicit_48': [14, 18, 17, 17, 3, 36, 1, 12, 10, 22, 23, 1, 22, 26, 19, 1, 10, 23, 18, 17, 7, 1, 23, 18, 16, 26, 12, 14, 1, 4, 17, 2, 1, 19, 17, 8, 1, 12, 10, 1, 26, 17, 17, 19, 1, 15, 10, 7, 1, 6, 17, 7, 13, 14, 22, 5, 17, 8, 20], '200701-113336_pcm_9fa_elicit_49': [33, 39, 17, 13, 23, 17, 7, 10, 26, 10, 8, 2, 1, 61, 29, 27, 43, 29, 62, 43, 69, 30, 1, 46, 18, 16, 14, 1, 10, 26, 17, 1, 8, 22, 21, 17, 1, 14, 10, 8, 17, 1, 3, 17, 10, 3, 5, 17, 1, 25, 10, 8, 17, 1, 19, 17, 2, 1, 14, 17, 5, 5, 1, 22, 26, 16, 8, 22, 5, 14, 1, 10, 7, 1, 9, 16, 7, 19, 14, 1, 15, 10, 7, 1, 10, 26, 17, 1, 9, 16, 12, 1, 22, 7, 17, 22, 1, 15, 10, 7, 1, 16, 26, 14, 16, 19, 17, 1, 23, 18, 17, 1, 23, 17, 8, 3, 5, 17, 20], '200701-113336_pcm_9fa_elicit_50': [40, 26, 19, 1, 14, 10, 8, 17, 1, 10, 15, 1, 19, 17, 8, 1, 19, 17, 2, 1, 25, 18, 17, 22, 23, 1, 23, 18, 17, 1, 3, 17, 10, 3, 5, 17, 1, 4, 17, 2, 1, 25, 10, 8, 17, 1, 9, 13, 2, 1, 23, 18, 16, 26, 12, 14, 1, 9, 17, 25, 22, 13, 14, 17, 1, 23, 18, 17, 1, 3, 7, 16, 25, 17, 1, 4, 17, 2, 1, 19, 17, 8, 1, 19, 17, 2, 1, 14, 17, 5, 5, 1, 23, 18, 17, 1, 23, 18, 16, 26, 12, 14, 1, 23, 10, 10, 1, 8, 13, 25, 18, 20], '200701-113336_pcm_9fa_elicit_51': [40, 14, 1, 6, 17, 14, 13, 14, 1, 14, 17, 17, 1, 22, 8, 36, 1, 17, 1, 38, 17, 45, 20, 1, 28, 1, 23, 7, 10, 4, 17, 2, 1, 23, 18, 17, 1, 25, 10, 16, 26, 14, 1, 10, 15, 1, 3, 17, 10, 3, 5, 17, 1, 4, 17, 2, 1, 19, 17, 2, 1, 25, 18, 22, 26, 12, 17, 1, 8, 10, 26, 17, 2, 36], '200701-113336_pcm_9fa_elicit_52': [17, 1, 23, 7, 10, 4, 17, 2, 1, 23, 18, 17, 16, 7, 1, 23, 22, 9, 5, 17, 1, 22, 26, 19, 1, 3, 13, 7, 14, 13, 17, 1, 23, 18, 17, 1, 8, 17, 26, 1, 25, 10, 8, 10, 23, 20], '200701-113336_pcm_9fa_elicit_53': [6, 17, 14, 13, 14, 1, 23, 17, 5, 5, 1, 19, 17, 8, 1, 14, 17, 2, 27, 1, 37, 24, 22, 21, 17, 1, 13, 26, 22, 1, 25, 22, 7, 7, 2, 1, 22, 5, 5, 1, 23, 18, 16, 14, 1, 23, 18, 16, 26, 12, 14, 1, 25, 10, 8, 10, 23, 1, 15, 7, 10, 8, 1, 18, 17, 7, 17, 67], '200701-113336_pcm_9fa_elicit_54': [42, 10, 1, 23, 13, 7, 26, 1, 8, 2, 1, 48, 22, 23, 18, 17, 7, 1, 18, 10, 13, 14, 17, 1, 23, 10, 1, 8, 22, 7, 21, 17, 23, 67, 31, 6, 10, 18, 26, 1, 43, 27, 61, 69, 20], '200624-232607_pcm_9fa_elicit_0': [28, 1, 19, 17, 2, 1, 14, 4, 17, 17, 23, 1, 2, 10, 13, 1, 23, 10, 1, 18, 17, 22, 7, 1, 12, 10, 10, 19, 1, 26, 17, 4, 14, 52, 1, 46, 18, 17, 1, 23, 7, 13, 23, 18, 1, 9, 17, 1, 14, 17, 2, 1, 12, 10, 10, 19, 1, 26, 17, 4, 14, 1, 19, 17, 2, 1, 15, 10, 7, 1, 2, 10, 13, 36, 1, 2, 10, 13, 7, 1, 15, 22, 8, 16, 5, 2, 1, 22, 26, 19, 1, 2, 10, 13, 7, 1, 15, 7, 16, 17, 26, 19, 14, 20], '200624-232607_pcm_9fa_elicit_1': [46, 18, 16, 14, 1, 12, 10, 10, 19, 1, 26, 17, 4, 14, 1, 19, 17, 2, 1, 16, 26, 14, 16, 19, 17, 1, 56, 16, 9, 5, 17, 20, 1, 42, 22, 1, 6, 17, 18, 10, 38, 22, 18, 36, 1, 23, 18, 17, 1, 51, 10, 19, 1, 4, 17, 2, 1, 8, 22, 21, 17, 1, 17, 38, 17, 7, 2, 23, 18, 16, 26, 12, 1, 15, 10, 7, 1, 18, 17, 22, 38, 17, 26, 1, 22, 26, 19, 1, 17, 22, 7, 23, 18, 1, 13, 14, 17, 1, 3, 17, 10, 3, 5, 17, 1, 4, 7, 16, 23, 17, 1, 23, 18, 17, 1, 56, 16, 9, 5, 17, 1, 8, 22, 26, 2, 1, 2, 17, 22, 7, 14, 1, 22, 12, 10, 20], '200624-232607_pcm_9fa_elicit_3': [46, 18, 17, 1, 15, 10, 13, 7, 1, 9, 10, 10, 21, 1, 19, 17, 2, 1, 9, 17, 22, 7, 1, 23, 18, 17, 1, 26, 22, 8, 17, 1, 10, 15, 1, 23, 18, 17, 1, 3, 17, 10, 3, 5, 17, 1, 4, 17, 2, 1, 51, 10, 19, 1, 13, 14, 17, 1, 4, 7, 16, 23, 17, 1, 19, 17, 8, 24, 22, 23, 23, 18, 17, 4, 36, 1, 24, 22, 7, 21, 36, 1, 57, 13, 21, 17, 36, 1, 22, 26, 19, 1, 6, 10, 18, 26, 20], '200624-232607_pcm_9fa_elicit_4': [24, 22, 26, 2, 1, 3, 17, 10, 3, 5, 17, 1, 21, 26, 10, 4, 1, 23, 18, 16, 14, 1, 15, 10, 13, 7, 1, 56, 16, 9, 5, 17, 1, 9, 10, 10, 21, 1, 22, 14, 1, 23, 18, 17, 1, 15, 10, 13, 7, 1, 51, 10, 14, 3, 17, 5, 14, 20, 1, 50, 17, 23, 16, 26, 1, 22, 5, 5, 1, 10, 15, 1, 19, 17, 8, 1, 4, 7, 16, 23, 17, 1, 26, 22, 1, 23, 18, 17, 1, 12, 10, 10, 19, 1, 26, 17, 4, 14, 1, 22, 9, 10, 13, 23, 1, 6, 17, 14, 13, 14, 20], '200624-232607_pcm_9fa_elicit_5': [39, 17, 8, 1, 4, 7, 16, 23, 17, 1, 14, 17, 2, 1, 51, 10, 19, 1, 12, 10, 1, 13, 14, 17, 1, 6, 17, 14, 13, 14, 1, 14, 22, 38, 17, 1, 13, 14, 20, 1, 40, 26, 19, 1, 14, 16, 26, 25, 17, 1, 26, 22, 1, 16, 8, 1, 9, 17, 1, 23, 18, 17, 1, 58, 16, 26, 12, 1, 10, 15, 1, 51, 10, 19, 1, 58, 16, 26, 12, 19, 10, 8, 36, 1, 16, 15, 1, 4, 17, 1, 12, 17, 23, 1, 15, 22, 16, 23, 18, 1, 15, 10, 7, 1, 22, 8, 36, 1, 17, 1, 12, 10, 1, 9, 5, 17, 14, 14, 1, 13, 14, 1, 15, 10, 7, 17, 38, 17, 7, 20], '200624-232607_pcm_9fa_elicit_6': [28, 1, 8, 22, 21, 17, 1, 14, 17, 26, 14, 17, 1, 14, 17, 2, 1, 26, 22, 1, 15, 10, 13, 7, 1, 19, 16, 15, 15, 17, 7, 17, 26, 23, 1, 3, 17, 10, 3, 5, 17, 1, 4, 7, 16, 23, 17, 1, 22, 9, 10, 13, 23, 1, 6, 17, 14, 13, 14, 1, 5, 16, 15, 17, 20, 1, 48, 10, 7, 1, 17, 45, 22, 8, 3, 5, 17, 36, 1, 23, 18, 16, 26, 21, 1, 22, 8, 1, 14, 17, 2, 1, 15, 10, 13, 7, 1, 3, 17, 10, 3, 5, 17, 1, 19, 17, 2, 1, 5, 16, 14, 23, 17, 26, 1, 23, 10, 1, 10, 26, 17, 1, 9, 17, 23, 23, 17, 7, 1, 23, 17, 22, 25, 18, 17, 7, 20], '200624-232607_pcm_9fa_elicit_9': [40, 26, 19, 1, 26, 22, 1, 23, 18, 17, 1, 10, 26, 17, 1, 4, 17, 2, 1, 14, 23, 22, 26, 19, 1, 15, 10, 7, 1, 23, 18, 17, 1, 23, 17, 22, 25, 18, 17, 7, 1, 9, 22, 25, 21, 1, 2, 10, 13, 26, 12, 1, 3, 22, 14, 14, 36, 1, 17, 1, 41, 13, 14, 23, 1, 25, 10, 8, 17, 1, 4, 22, 23, 25, 18, 1, 17, 38, 17, 7, 2, 23, 18, 16, 26, 12, 1, 4, 17, 2, 1, 19, 17, 2, 1, 18, 22, 3, 3, 17, 26, 20], '200624-232607_pcm_9fa_elicit_10': [40, 5, 5, 1, 10, 15, 1, 19, 17, 8, 1, 26, 22, 1, 3, 17, 10, 3, 5, 17, 1, 4, 17, 2, 1, 12, 17, 23, 1, 9, 17, 23, 23, 17, 7, 1, 8, 16, 26, 19, 1, 22, 26, 19, 1, 19, 17, 8, 1, 26, 10, 1, 19, 17, 2, 1, 7, 17, 22, 14, 10, 26, 1, 23, 18, 16, 26, 12, 14, 1, 23, 18, 17, 1, 14, 22, 8, 17, 1, 4, 22, 2, 20], '200624-232607_pcm_9fa_elicit_11': [34, 15, 1, 19, 17, 8, 1, 4, 22, 26, 23, 1, 4, 7, 16, 23, 17, 1, 22, 9, 10, 13, 23, 1, 23, 18, 17, 1, 23, 18, 16, 26, 12, 14, 1, 4, 17, 2, 1, 23, 18, 17, 1, 23, 17, 22, 25, 18, 17, 7, 1, 19, 10, 36, 1, 23, 18, 17, 1, 15, 10, 13, 7, 1, 10, 15, 1, 19, 17, 8, 1, 12, 10, 1, 23, 22, 5, 21, 1, 22, 8, 1, 15, 10, 7, 1, 19, 16, 15, 15, 17, 7, 17, 26, 23, 1, 4, 22, 2, 20], '200624-232607_pcm_9fa_elicit_12': [40, 14, 1, 17, 1, 9, 17, 1, 14, 17, 2, 1, 23, 18, 17, 1, 15, 10, 13, 7, 1, 10, 15, 1, 19, 17, 8, 1, 4, 7, 16, 23, 17, 1, 23, 18, 17, 1, 14, 23, 10, 7, 2, 1, 15, 10, 7, 1, 23, 18, 17, 16, 7, 1, 10, 4, 26, 1, 19, 16, 15, 15, 17, 7, 17, 26, 23, 1, 14, 23, 2, 5, 17, 36, 1, 17, 1, 8, 17, 22, 26, 1, 14, 17, 2, 1, 19, 17, 8, 1, 12, 10, 1, 4, 7, 16, 23, 17, 1, 19, 16, 15, 15, 17, 7, 17, 26, 23, 1, 19, 16, 15, 15, 17, 7, 17, 26, 23, 1, 3, 22, 7, 23, 1, 10, 15, 1, 4, 17, 23, 16, 26, 1, 23, 18, 17, 1, 23, 17, 22, 25, 18, 17, 7, 1, 23, 22, 5, 21, 1, 22, 26, 19, 1, 19, 10, 20], '200624-232607_pcm_9fa_elicit_14': [46, 18, 16, 14, 1, 17, 45, 22, 8, 3, 5, 17, 1, 14, 18, 10, 4, 1, 13, 14, 1, 14, 17, 2, 1, 17, 1, 8, 22, 21, 17, 1, 14, 17, 26, 14, 17, 1, 22, 14, 1, 15, 10, 13, 7, 1, 3, 17, 10, 3, 5, 17, 1, 4, 7, 16, 23, 17, 1, 6, 17, 14, 13, 14, 1, 14, 23, 10, 7, 2, 20], '200624-232607_pcm_9fa_elicit_15': [48, 7, 10, 8, 1, 23, 18, 17, 1, 17, 45, 22, 8, 3, 5, 17, 1, 4, 17, 2, 1, 4, 17, 1, 12, 16, 38, 17, 36, 1, 4, 18, 17, 26, 1, 23, 18, 17, 1, 23, 22, 45, 1, 25, 10, 5, 5, 17, 25, 23, 10, 7, 1, 19, 17, 2, 1, 4, 7, 16, 23, 17, 36, 1, 26, 22, 1, 6, 17, 4, 1, 3, 17, 10, 3, 5, 17, 1, 17, 1, 12, 17, 23, 1, 15, 10, 7, 1, 8, 16, 26, 19, 36, 1, 14, 10, 1, 17, 1, 22, 7, 7, 22, 26, 12, 17, 1, 4, 17, 23, 16, 26, 1, 23, 18, 17, 1, 23, 17, 22, 25, 18, 17, 7, 1, 23, 17, 22, 25, 18, 1, 22, 26, 19, 1, 23, 18, 17, 1, 23, 18, 16, 26, 12, 14, 1, 4, 17, 2, 1, 18, 22, 3, 3, 17, 26, 36, 1, 23, 18, 17, 1, 4, 22, 2, 1, 17, 1, 12, 10, 1, 23, 22, 21, 17, 1, 18, 17, 5, 3, 1, 6, 17, 4, 1, 3, 17, 10, 3, 5, 17, 20], '200624-232607_pcm_9fa_elicit_16': [46, 18, 17, 1, 19, 10, 25, 23, 10, 7, 1, 23, 22, 5, 21, 1, 22, 9, 10, 13, 23, 1, 23, 18, 17, 1, 14, 16, 25, 21, 1, 3, 17, 10, 3, 5, 17, 1, 4, 17, 2, 1, 23, 18, 17, 1, 23, 17, 22, 25, 18, 17, 7, 1, 18, 17, 22, 5, 36, 1, 14, 10, 1, 17, 1, 26, 10, 1, 23, 22, 5, 21, 1, 14, 10, 8, 17, 1, 10, 15, 1, 23, 18, 17, 1, 23, 18, 16, 26, 12, 14, 1, 4, 17, 2, 1, 23, 18, 17, 1, 23, 22, 45, 1, 25, 10, 5, 5, 17, 25, 23, 10, 7, 1, 4, 7, 16, 23, 17, 1, 10, 7, 1, 17, 1, 15, 16, 23, 1, 9, 17, 1, 14, 17, 2, 1, 17, 1, 13, 14, 17, 1, 22, 26, 10, 23, 18, 17, 7, 1, 14, 23, 2, 5, 17, 1, 4, 7, 16, 23, 17, 1, 22, 8, 20], '200624-232607_pcm_9fa_elicit_17': [46, 18, 17, 1, 10, 26, 17, 1, 4, 17, 2, 1, 9, 17, 1, 23, 18, 17, 1, 23, 17, 22, 25, 18, 17, 7, 1, 23, 16, 12, 18, 23, 1, 15, 7, 16, 17, 26, 19, 1, 23, 22, 5, 21, 1, 22, 9, 10, 13, 23, 1, 23, 18, 17, 1, 23, 17, 22, 25, 18, 17, 7, 1, 9, 17, 23, 23, 17, 7, 1, 25, 18, 22, 7, 22, 25, 23, 17, 7, 1, 22, 26, 19, 1, 18, 10, 4, 1, 17, 1, 19, 17, 2, 1, 23, 7, 17, 22, 23, 1, 3, 17, 10, 3, 5, 17, 20], '200624-232607_pcm_9fa_elicit_18': [46, 18, 17, 1, 2, 10, 13, 26, 12, 1, 8, 22, 26, 1, 4, 17, 2, 1, 41, 13, 14, 23, 1, 25, 10, 8, 17, 1, 4, 22, 23, 25, 18, 1, 22, 14, 1, 23, 18, 16, 26, 12, 14, 1, 19, 17, 2, 1, 12, 10, 1, 26, 10, 1, 23, 10, 10, 1, 23, 22, 5, 21, 1, 3, 5, 17, 26, 23, 2, 1, 23, 18, 16, 26, 12, 14, 1, 15, 10, 7, 1, 16, 8, 1, 14, 23, 10, 7, 2, 36, 1, 17, 1, 41, 13, 14, 23, 1, 4, 7, 16, 23, 17, 1, 17, 38, 17, 7, 2, 23, 18, 16, 26, 12, 1, 14, 18, 10, 7, 23, 1, 14, 18, 10, 7, 23, 20, 1, 28, 38, 17, 26, 1, 4, 16, 23, 18, 1, 23, 18, 16, 14, 1, 10, 26, 17, 36, 1, 4, 17, 23, 16, 26, 1, 22, 5, 5, 1, 10, 15, 1, 19, 17, 8, 1, 4, 7, 16, 23, 17, 1, 25, 10, 7, 7, 17, 25, 23, 20], '200624-232607_pcm_9fa_elicit_20': [11, 10, 8, 17, 1, 3, 17, 10, 3, 5, 17, 1, 19, 17, 2, 1, 23, 22, 5, 21, 1, 22, 9, 10, 13, 23, 1, 23, 18, 17, 1, 71, 51, 10, 14, 3, 17, 5, 1, 10, 15, 1, 24, 22, 23, 23, 18, 17, 4, 72, 1, 10, 7, 1, 23, 18, 17, 1, 71, 51, 10, 14, 3, 17, 5, 1, 10, 15, 1, 6, 10, 18, 26, 36, 72, 1, 19, 17, 8, 1, 14, 23, 16, 5, 5, 1, 25, 10, 7, 7, 17, 25, 23, 36, 1, 9, 17, 25, 22, 13, 14, 17, 1, 17, 38, 17, 7, 2, 23, 18, 16, 26, 12, 1, 4, 17, 2, 1, 19, 17, 8, 1, 4, 7, 16, 23, 17, 1, 26, 22, 1, 23, 18, 17, 1, 71, 12, 10, 10, 19, 1, 26, 17, 4, 14, 1, 22, 9, 10, 13, 23, 1, 6, 17, 14, 13, 14, 1, 44, 18, 7, 16, 14, 23, 20], '200624-232607_pcm_9fa_elicit_21': [46, 18, 17, 1, 23, 7, 13, 23, 18, 1, 10, 15, 1, 23, 18, 17, 1, 8, 22, 23, 23, 17, 7, 1, 9, 17, 1, 14, 17, 2, 1, 17, 38, 17, 7, 2, 23, 18, 16, 26, 12, 1, 4, 17, 2, 1, 19, 17, 2, 1, 16, 26, 14, 16, 19, 17, 1, 23, 18, 17, 1, 15, 10, 13, 7, 1, 12, 10, 14, 3, 17, 5, 14, 1, 10, 7, 1, 23, 18, 17, 1, 12, 10, 10, 19, 1, 26, 17, 4, 14, 36, 1, 26, 22, 1, 22, 9, 10, 13, 23, 1, 6, 17, 14, 13, 14, 20], '200624-232607_pcm_9fa_elicit_22': [24, 22, 26, 2, 1, 3, 17, 10, 3, 5, 17, 1, 4, 17, 2, 1, 19, 17, 2, 1, 14, 23, 13, 19, 2, 1, 51, 10, 19, 1, 50, 10, 7, 19, 1, 19, 10, 26, 1, 25, 10, 8, 3, 22, 7, 17, 1, 23, 18, 17, 1, 23, 18, 16, 26, 12, 14, 1, 4, 17, 2, 1, 24, 22, 23, 23, 18, 17, 4, 36, 1, 24, 22, 7, 21, 36, 1, 57, 13, 21, 17, 36, 1, 22, 26, 19, 1, 6, 10, 18, 26, 1, 4, 7, 16, 23, 17, 36, 1, 22, 26, 19, 1, 19, 17, 8, 1, 19, 10, 26, 1, 23, 7, 2, 1, 14, 17, 17, 1, 16, 15, 1, 19, 17, 8, 1, 8, 22, 23, 25, 18, 20], '200624-232607_pcm_9fa_elicit_23': [46, 22, 23, 16, 22, 26, 1, 26, 22, 1, 11, 2, 7, 16, 22, 1, 8, 22, 26, 1, 4, 17, 2, 1, 19, 17, 2, 1, 4, 7, 16, 23, 17, 1, 9, 10, 10, 21, 20, 1, 40, 7, 10, 13, 26, 19, 1, 61, 60, 66, 1, 44, 20, 28, 20, 36, 1, 17, 1, 23, 7, 2, 1, 14, 23, 13, 19, 2, 1, 23, 18, 16, 14, 1, 15, 10, 13, 7, 1, 12, 10, 14, 3, 17, 5, 14, 1, 23, 10, 1, 14, 17, 17, 1, 16, 15, 1, 19, 17, 8, 1, 8, 22, 23, 25, 18, 20], '200624-232607_pcm_9fa_elicit_24': [40, 15, 23, 17, 7, 1, 17, 1, 14, 23, 13, 19, 2, 1, 19, 17, 8, 36, 1, 17, 1, 14, 17, 17, 1, 22, 8, 1, 14, 17, 2, 1, 23, 7, 13, 17, 1, 23, 7, 13, 17, 36, 1, 22, 5, 5, 1, 10, 15, 1, 19, 17, 8, 1, 8, 22, 23, 25, 18, 20], '200624-232607_pcm_9fa_elicit_25': [46, 22, 23, 16, 22, 26, 1, 25, 10, 8, 17, 1, 13, 14, 17, 1, 23, 18, 17, 1, 15, 10, 13, 7, 1, 12, 10, 14, 3, 17, 5, 14, 1, 4, 7, 16, 23, 17, 1, 10, 26, 17, 1, 9, 10, 10, 21, 1, 22, 9, 10, 13, 23, 1, 6, 17, 14, 13, 14, 1, 5, 16, 15, 17, 1, 22, 26, 19, 1, 3, 7, 17, 22, 25, 18, 16, 26, 12, 36, 1, 23, 18, 17, 1, 9, 10, 10, 21, 1, 26, 22, 8, 17, 1, 26, 22, 1, 39, 16, 22, 23, 17, 14, 14, 22, 7, 10, 26, 20], '200624-232607_pcm_9fa_elicit_26': [42, 22, 1, 23, 18, 17, 1, 14, 22, 8, 17, 1, 23, 18, 16, 26, 12, 1, 23, 18, 16, 14, 1, 9, 10, 10, 21, 1, 4, 17, 2, 1, 9, 17, 36, 1, 6, 17, 14, 13, 14, 1, 42, 22, 1, 23, 18, 17, 1, 47, 10, 22, 19, 36, 1, 23, 18, 17, 1, 46, 7, 13, 23, 18, 36, 1, 22, 26, 19, 1, 23, 18, 17, 1, 57, 16, 15, 17, 1, 14, 23, 16, 5, 5, 1, 19, 10, 36, 1, 9, 13, 23, 1, 10, 26, 5, 2, 1, 14, 17, 2, 1, 26, 22, 1, 23, 18, 16, 14, 1, 10, 26, 17, 1, 25, 10, 7, 7, 17, 25, 23, 1, 22, 26, 19, 1, 25, 10, 8, 3, 5, 17, 23, 17, 1, 3, 22, 14, 14, 20], '200624-232607_pcm_9fa_elicit_27': [28, 1, 18, 22, 3, 3, 17, 26, 1, 5, 16, 21, 17, 1, 23, 18, 22, 23, 1, 9, 17, 25, 22, 13, 14, 17, 1, 26, 10, 4, 1, 4, 17, 1, 13, 26, 19, 17, 7, 14, 23, 22, 26, 19, 1, 23, 18, 17, 1, 23, 18, 16, 26, 12, 14, 1, 4, 17, 2, 1, 18, 22, 3, 3, 17, 26, 1, 15, 10, 7, 1, 6, 17, 14, 13, 14, 1, 5, 16, 15, 17, 1, 22, 26, 19, 1, 23, 18, 17, 1, 23, 18, 16, 26, 12, 14, 1, 4, 17, 2, 1, 17, 1, 23, 17, 22, 25, 18, 36, 1, 3, 22, 14, 14, 1, 9, 17, 15, 10, 7, 17, 20], '200624-232607_pcm_9fa_elicit_28': [46, 18, 17, 1, 23, 18, 16, 26, 12, 14, 1, 4, 17, 2, 1, 4, 17, 1, 5, 17, 22, 7, 26, 1, 19, 10, 26, 1, 18, 17, 5, 3, 1, 13, 14, 1, 13, 26, 19, 17, 7, 14, 23, 22, 26, 19, 1, 23, 18, 17, 1, 23, 18, 16, 26, 12, 14, 1, 4, 17, 2, 1, 17, 1, 23, 17, 22, 25, 18, 1, 22, 26, 19, 1, 19, 10, 36, 1, 17, 38, 17, 26, 1, 23, 18, 17, 1, 23, 18, 16, 26, 12, 14, 1, 4, 17, 2, 1, 18, 22, 3, 3, 17, 26, 1, 22, 26, 19, 1, 18, 10, 4, 1, 19, 17, 8, 1, 23, 22, 21, 17, 1, 18, 22, 3, 3, 17, 26, 20], '200624-232607_pcm_9fa_elicit_29': [53, 17, 10, 3, 5, 17, 1, 4, 17, 2, 1, 19, 17, 2, 1, 15, 16, 26, 19, 1, 14, 10, 8, 17, 23, 18, 16, 26, 12, 1, 15, 10, 7, 1, 16, 26, 14, 16, 19, 17, 1, 12, 7, 10, 13, 26, 19, 1, 19, 10, 26, 1, 14, 17, 17, 1, 8, 22, 26, 2, 1, 23, 18, 16, 26, 12, 14, 1, 4, 17, 2, 1, 18, 17, 5, 3, 1, 13, 14, 1, 21, 26, 10, 4, 1, 8, 10, 7, 17, 1, 22, 9, 10, 13, 23, 1, 23, 18, 17, 1, 3, 17, 10, 3, 5, 17, 1, 4, 17, 2, 1, 4, 7, 16, 23, 17, 1, 23, 18, 16, 14, 1, 12, 10, 14, 3, 17, 5, 14, 20], '200624-232607_pcm_9fa_elicit_30': [46, 18, 17, 1, 23, 7, 13, 23, 18, 1, 9, 17, 1, 14, 17, 2, 36, 1, 26, 10, 9, 10, 19, 2, 1, 12, 10, 1, 15, 16, 23, 1, 23, 22, 5, 21, 1, 14, 17, 2, 1, 17, 1, 21, 26, 10, 4, 1, 17, 45, 22, 25, 23, 5, 2, 1, 18, 10, 4, 1, 17, 38, 17, 7, 2, 23, 18, 16, 26, 12, 1, 23, 22, 21, 17, 1, 18, 22, 3, 3, 17, 26, 20, 1, 46, 18, 17, 1, 4, 22, 2, 1, 23, 18, 16, 14, 1, 9, 10, 10, 21, 1, 23, 22, 21, 17, 1, 23, 22, 5, 21, 1, 22, 8, 1, 8, 22, 21, 17, 1, 14, 17, 26, 14, 17, 20], '200624-232607_pcm_9fa_elicit_31': [46, 54, 28, 1, 47, 55, 40, 39, 36, 1, 46, 54, 28, 1, 46, 47, 73, 46, 54, 36, 1, 40, 42, 39, 1, 46, 54, 28, 1, 57, 34, 48, 28], '200624-232607_pcm_9fa_elicit_32': [40, 14, 1, 2, 10, 13, 1, 19, 17, 2, 1, 7, 17, 22, 19, 1, 23, 18, 16, 14, 1, 9, 10, 10, 21, 36, 1, 23, 7, 2, 1, 12, 17, 23, 1, 23, 18, 17, 1, 8, 22, 16, 26, 1, 8, 17, 14, 14, 22, 12, 17, 36, 1, 9, 17, 25, 22, 13, 14, 17, 1, 26, 22, 1, 15, 10, 7, 1, 2, 10, 13, 1, 22, 26, 19, 1, 3, 17, 10, 3, 5, 17, 1, 4, 17, 2, 1, 2, 10, 13, 1, 5, 10, 38, 17, 20], '200624-232607_pcm_9fa_elicit_33': [47, 17, 8, 17, 8, 9, 17, 7, 1, 4, 17, 23, 16, 26, 1, 6, 17, 14, 13, 14, 1, 44, 18, 7, 16, 14, 23, 1, 23, 17, 5, 5, 1, 46, 18, 10, 8, 22, 14, 36, 1, 17, 1, 14, 17, 2, 27, 1, 71, 42, 22, 1, 8, 17, 1, 9, 17, 1, 23, 18, 17, 1, 7, 10, 22, 19, 36, 1, 23, 18, 17, 1, 23, 7, 13, 23, 18, 36, 1, 22, 26, 19, 1, 23, 18, 17, 1, 5, 16, 15, 17, 20], '200624-232607_pcm_9fa_elicit_34': [42, 10, 9, 10, 19, 2, 1, 15, 16, 23, 1, 25, 10, 8, 17, 1, 8, 17, 17, 23, 1, 8, 2, 1, 48, 22, 23, 18, 17, 7, 1, 13, 26, 5, 17, 14, 14, 1, 34, 1, 14, 18, 10, 4, 1, 22, 8, 1, 23, 18, 17, 1, 7, 10, 22, 19, 20, 72], '200624-232607_pcm_9fa_elicit_35': [46, 18, 16, 14, 1, 9, 10, 10, 21, 1, 4, 17, 2, 1, 9, 17, 36, 1, 6, 17, 14, 13, 14, 1, 42, 22, 1, 23, 18, 17, 1, 47, 10, 22, 19, 36, 1, 23, 18, 17, 1, 46, 7, 13, 23, 18, 36, 1, 22, 26, 19, 1, 23, 18, 17, 1, 57, 16, 15, 17, 1, 12, 10, 1, 18, 17, 5, 3, 1, 2, 10, 13, 1, 14, 17, 17, 1, 14, 17, 2, 1, 23, 7, 13, 17, 1, 23, 7, 13, 17, 36, 1, 6, 17, 14, 13, 14, 1, 26, 22, 1, 37, 23, 18, 17, 1, 7, 10, 22, 19, 20, 31], '200624-232607_pcm_9fa_elicit_36': [42, 22, 1, 10, 26, 5, 2, 1, 6, 17, 14, 13, 14, 1, 4, 17, 1, 15, 16, 23, 1, 15, 10, 5, 5, 10, 4, 1, 4, 18, 17, 26, 1, 4, 17, 1, 19, 17, 2, 1, 3, 7, 22, 2, 20, 1, 40, 26, 10, 23, 18, 17, 7, 1, 23, 18, 16, 26, 12, 1, 9, 17, 1, 14, 17, 2, 1, 26, 22, 1, 10, 26, 5, 2, 1, 6, 17, 14, 13, 14, 1, 15, 16, 23, 1, 9, 7, 16, 26, 12, 1, 13, 14, 1, 9, 22, 25, 21, 1, 23, 10, 1, 51, 10, 19, 20, 1, 33, 6, 10, 18, 26, 1, 61, 69, 27, 43, 35, 59, 1, 47, 10, 8, 22, 26, 14, 1, 65, 27, 64, 30, 1, 40, 26, 19, 1, 26, 22, 1, 10, 26, 5, 2, 1, 6, 17, 14, 13, 14, 1, 15, 16, 23, 1, 18, 17, 5, 3, 1, 13, 14, 1, 9, 17, 1, 51, 10, 19, 1, 15, 7, 16, 17, 26, 19, 20], '200624-232607_pcm_9fa_elicit_37': [6, 17, 14, 13, 14, 1, 26, 22, 1, 37, 23, 18, 17, 1, 23, 7, 13, 23, 18, 20, 31, 1, 28, 38, 17, 7, 2, 23, 18, 16, 26, 12, 1, 4, 17, 2, 1, 6, 17, 14, 13, 14, 1, 23, 22, 5, 21, 1, 22, 26, 19, 1, 19, 10, 1, 26, 22, 1, 22, 9, 10, 13, 23, 1, 23, 18, 17, 1, 23, 7, 13, 23, 18, 20, 1, 50, 18, 17, 26, 1, 6, 17, 14, 13, 14, 1, 25, 10, 8, 17, 1, 23, 18, 16, 14, 1, 17, 22, 7, 23, 18, 36, 1, 17, 1, 41, 13, 14, 23, 1, 9, 17, 1, 5, 16, 21, 17, 1, 14, 17, 2, 1, 26, 22, 1, 23, 7, 13, 23, 18, 1, 25, 10, 8, 17, 1, 23, 18, 16, 14, 1, 17, 22, 7, 23, 18, 1, 5, 16, 21, 17, 1, 18, 13, 8, 22, 26, 1, 9, 17, 16, 26, 12, 20], '200624-232607_pcm_9fa_elicit_38': [28, 1, 8, 22, 21, 17, 1, 8, 22, 26, 2, 1, 23, 18, 16, 26, 12, 14, 1, 4, 17, 2, 1, 51, 10, 19, 1, 50, 10, 7, 19, 1, 23, 22, 5, 21, 1, 18, 22, 3, 3, 17, 26, 36, 1, 14, 10, 1, 23, 18, 17, 1, 23, 18, 16, 26, 12, 14, 1, 4, 17, 2, 1, 51, 10, 19, 1, 50, 10, 7, 19, 1, 23, 22, 5, 21, 1, 25, 10, 8, 17, 1, 9, 17, 1, 37, 71, 70, 17, 14, 72, 1, 9, 17, 25, 22, 13, 14, 17, 1, 10, 15, 1, 22, 8, 20, 31], '200624-232607_pcm_9fa_elicit_39': [33, 43, 1, 44, 10, 7, 16, 26, 23, 18, 16, 22, 26, 14, 1, 61, 27, 43, 66, 59, 1, 6, 10, 18, 26, 1, 61, 27, 61, 29, 30, 1, 40, 14, 1, 17, 1, 18, 22, 3, 3, 17, 26, 1, 5, 16, 21, 17, 1, 23, 18, 22, 23, 36, 1, 17, 1, 18, 17, 5, 3, 1, 13, 14, 1, 14, 17, 17, 1, 14, 17, 2, 1, 6, 17, 14, 13, 14, 1, 4, 10, 7, 21, 1, 7, 17, 22, 5, 5, 2, 1, 19, 17, 2, 1, 16, 8, 3, 10, 7, 23, 22, 26, 23, 36, 1, 22, 14, 1, 23, 18, 17, 1, 3, 17, 7, 14, 10, 26, 1, 4, 17, 2, 1, 19, 17, 2, 1, 8, 22, 21, 17, 1, 4, 17, 23, 16, 26, 1, 51, 10, 19, 1, 4, 22, 26, 23, 1, 18, 22, 3, 3, 17, 26, 20, 47, 17, 38, 17, 5, 22, 23, 16, 10, 26, 1, 61, 32, 27, 61, 66, 20], '200624-232607_pcm_9fa_elicit_40': [6, 17, 14, 13, 14, 1, 44, 18, 7, 16, 14, 23, 1, 26, 22, 1, 37, 23, 18, 17, 1, 5, 16, 15, 17, 20, 31, 1, 40, 14, 1, 6, 17, 14, 13, 14, 1, 13, 14, 17, 1, 16, 8, 1, 3, 17, 7, 15, 17, 25, 23, 1, 5, 16, 15, 17, 1, 19, 16, 17, 1, 15, 10, 7, 1, 13, 14, 36, 1, 26, 22, 1, 16, 8, 1, 8, 22, 21, 17, 1, 4, 17, 1, 12, 17, 23, 1, 18, 10, 3, 17, 1, 14, 17, 2, 1, 4, 17, 1, 12, 10, 1, 12, 17, 23, 1, 23, 18, 17, 1, 37, 7, 17, 22, 5, 1, 5, 16, 15, 17, 31, 37, 5, 16, 15, 17, 1, 4, 17, 2, 1, 26, 10, 1, 12, 10, 1, 17, 26, 19, 20, 31], '200624-232607_pcm_9fa_elicit_41': [33, 61, 1, 46, 16, 8, 10, 23, 18, 2, 1, 69, 27, 61, 43, 36, 1, 61, 32, 59, 1, 28, 3, 18, 17, 14, 16, 22, 26, 14, 1, 61, 27, 60, 59, 1, 61, 1, 6, 10, 18, 26, 1, 61, 27, 60, 30, 1, 6, 17, 14, 13, 14, 1, 14, 23, 16, 5, 5, 1, 14, 18, 10, 4, 1, 14, 17, 2, 1, 26, 22, 1, 16, 8, 1, 9, 17, 1, 5, 16, 15, 17, 1, 15, 10, 7, 1, 3, 17, 10, 3, 5, 17, 1, 4, 17, 2, 1, 12, 10, 1, 25, 10, 8, 17, 1, 9, 22, 25, 21, 1, 23, 10, 1, 5, 16, 15, 17, 36, 1, 9, 17, 25, 22, 13, 14, 17, 1, 19, 17, 8, 1, 12, 10, 1, 12, 17, 23, 1, 5, 16, 15, 17, 1, 4, 17, 2, 1, 26, 10, 1, 12, 10, 1, 17, 26, 19, 1, 15, 10, 7, 1, 3, 22, 7, 22, 19, 16, 14, 17, 20, 6, 10, 18, 26, 1, 65, 27, 43, 64, 36, 1, 43, 32, 20], '200624-232607_pcm_9fa_elicit_42': [24, 22, 21, 17, 1, 22, 5, 5, 1, 10, 15, 1, 13, 14, 1, 19, 17, 2, 1, 18, 22, 3, 3, 2, 1, 15, 10, 7, 1, 23, 18, 17, 1, 4, 10, 7, 21, 1, 4, 17, 2, 1, 6, 17, 14, 13, 14, 1, 19, 17, 2, 1, 19, 10, 1, 23, 10, 1, 8, 22, 21, 17, 1, 4, 17, 23, 16, 26, 1, 6, 17, 18, 10, 38, 22, 18, 1, 4, 22, 26, 23, 1, 18, 22, 3, 3, 17, 26, 20], '200624-232607_pcm_9fa_elicit_43': [24, 22, 21, 17, 1, 17, 1, 19, 17, 2, 1, 22, 5, 4, 22, 2, 14, 1, 14, 4, 17, 17, 23, 1, 2, 10, 13, 1, 23, 10, 1, 19, 17, 2, 1, 5, 17, 22, 7, 26, 1, 15, 7, 10, 8, 1, 6, 17, 14, 13, 14, 1, 4, 17, 2, 1, 9, 17, 1, 23, 18, 17, 1, 7, 10, 22, 19, 36, 1, 23, 18, 17, 1, 23, 7, 13, 23, 18, 1, 22, 26, 19, 1, 23, 18, 17, 1, 5, 16, 15, 17, 20], '200624-232607_pcm_9fa_elicit_44': [46, 4, 10, 1, 24, 17, 14, 14, 22, 12, 17, 1, 48, 7, 10, 8, 1, 51, 10, 19], '200624-232607_pcm_9fa_elicit_45': [50, 17, 1, 15, 16, 23, 1, 23, 22, 5, 21, 1, 14, 17, 2, 1, 17, 38, 17, 7, 2, 23, 18, 16, 26, 12, 1, 4, 17, 2, 1, 19, 17, 2, 1, 16, 26, 14, 16, 19, 17, 1, 56, 16, 9, 5, 17, 1, 26, 22, 1, 8, 17, 14, 14, 22, 12, 17, 1, 15, 7, 10, 8, 1, 51, 10, 19, 20], '200624-232607_pcm_9fa_elicit_46': [51, 10, 19, 1, 12, 16, 38, 17, 1, 13, 14, 1, 56, 16, 9, 5, 17, 1, 14, 10, 1, 23, 18, 22, 23, 1, 4, 17, 1, 12, 10, 1, 15, 16, 23, 1, 5, 17, 22, 7, 26, 1, 23, 18, 17, 1, 23, 18, 16, 26, 12, 14, 1, 4, 17, 2, 1, 17, 1, 4, 22, 26, 23, 1, 8, 22, 21, 17, 1, 4, 17, 1, 5, 17, 22, 7, 26, 20], '200624-232607_pcm_9fa_elicit_47': [24, 22, 21, 17, 1, 4, 17, 1, 23, 22, 5, 21, 1, 22, 9, 10, 13, 23, 1, 23, 4, 10, 1, 14, 3, 17, 25, 16, 22, 5, 1, 8, 17, 14, 14, 22, 12, 17, 1, 4, 17, 2, 1, 51, 10, 19, 1, 14, 17, 26, 19, 1, 22, 9, 10, 13, 23, 1, 43, 36, 66, 66, 66, 1, 2, 17, 22, 7, 14, 1, 22, 12, 10, 20], '200624-232607_pcm_9fa_elicit_48': [42, 22, 1, 22, 26, 12, 17, 5, 1, 51, 22, 9, 7, 16, 17, 5, 36, 1, 4, 17, 2, 1, 37, 19, 17, 2, 1, 14, 23, 22, 26, 19, 1, 15, 10, 7, 1, 51, 10, 19, 1, 15, 7, 10, 26, 23, 36, 31, 1, 25, 22, 7, 7, 2, 1, 23, 18, 17, 1, 8, 17, 14, 14, 22, 12, 17, 1, 25, 10, 8, 17, 20], '200702-222404_ibb_9fa_elicit_0': [50, 18, 17, 26, 1, 19, 17, 8, 1, 14, 17, 17, 1, 6, 17, 14, 13, 14, 36, 1, 53, 17, 23, 17, 7, 1, 23, 17, 5, 5, 1, 22, 8, 1, 14, 17, 2, 27, 1, 37, 28, 38, 17, 7, 2, 9, 10, 19, 2, 1, 19, 17, 2, 1, 15, 16, 26, 19, 1, 2, 10, 13, 20], '200702-222404_ibb_9fa_elicit_1': [31, 33, 24, 22, 7, 21, 1, 61, 27, 35, 60, 30, 1, 28, 1, 25, 5, 17, 22, 7, 1, 14, 17, 2, 1, 3, 17, 10, 3, 5, 17, 1, 15, 10, 7, 1, 44, 22, 3, 17, 7, 26, 22, 13, 8, 1, 4, 22, 26, 23, 1, 8, 22, 21, 17, 1, 6, 17, 14, 13, 14, 1, 14, 23, 22, 2, 20], '200702-222404_ibb_9fa_elicit_2': [39, 17, 8, 1, 18, 22, 3, 3, 2, 1, 4, 17, 5, 5, 1, 4, 17, 5, 5, 1, 15, 10, 7, 1, 4, 17, 23, 16, 26, 1, 6, 17, 14, 13, 14, 1, 19, 10, 1, 15, 10, 7, 1, 19, 17, 8, 36, 1, 22, 26, 19, 1, 19, 17, 8, 1, 26, 10, 1, 4, 22, 26, 23, 1, 37, 8, 22, 21, 17, 1, 6, 17, 14, 13, 14, 1, 5, 17, 22, 38, 17, 1, 19, 17, 8, 20], '200702-222404_ibb_9fa_elicit_4': [40, 26, 19, 1, 26, 22, 1, 15, 10, 7, 1, 10, 26, 5, 2, 1, 23, 18, 16, 14, 1, 3, 5, 22, 25, 17, 1, 17, 1, 12, 10, 1, 19, 10, 1, 16, 8, 1, 4, 10, 7, 21, 52, 1, 50, 17, 23, 16, 26, 1, 6, 17, 14, 13, 14, 1, 23, 22, 5, 21, 1, 15, 10, 7, 1, 23, 18, 17, 1, 8, 22, 23, 23, 17, 7, 52], '200702-222404_ibb_9fa_elicit_5': [6, 17, 14, 13, 14, 1, 19, 17, 2, 1, 3, 10, 16, 26, 23, 1, 23, 10, 1, 10, 26, 17, 1, 23, 10, 4, 26, 1, 4, 17, 2, 1, 26, 17, 22, 7, 1, 22, 14, 1, 17, 1, 19, 17, 2, 1, 23, 22, 5, 21, 1, 23, 10, 1, 53, 17, 23, 17, 7, 36, 1, 40, 26, 19, 7, 17, 4, 36, 1, 6, 22, 8, 17, 14, 36, 1, 22, 26, 19, 1, 6, 10, 18, 26], '200702-222404_ibb_9fa_elicit_6': [6, 17, 14, 13, 14, 1, 22, 26, 14, 4, 17, 7, 1, 16, 8, 1, 19, 16, 14, 25, 16, 3, 5, 17, 14, 1, 14, 17, 2, 27, 1, 37, 24, 22, 21, 17, 1, 4, 17, 1, 12, 10, 1, 22, 26, 10, 23, 18, 17, 7, 1, 3, 5, 22, 25, 17, 36, 1, 16, 26, 14, 16, 19, 17, 1, 10, 23, 18, 17, 7, 1, 23, 10, 4, 26, 1, 4, 17, 2, 1, 26, 17, 22, 7, 1, 14, 10, 1, 23, 18, 22, 23, 1, 34, 1, 12, 10, 1, 14, 23, 16, 5, 5, 1, 3, 7, 17, 22, 25, 18, 1, 15, 10, 7, 1, 23, 18, 17, 7, 17, 36], '200702-222404_ibb_9fa_elicit_7': [9, 17, 25, 22, 13, 14, 17, 1, 26, 22, 1, 16, 8, 1, 8, 22, 21, 17, 1, 8, 17, 1, 25, 10, 8, 17, 20, 31, 1, 6, 17, 14, 13, 14, 1, 17, 38, 17, 26, 1, 23, 17, 5, 5, 1, 23, 18, 17, 1, 3, 17, 10, 3, 5, 17, 1, 4, 17, 2, 1, 4, 22, 26, 23, 1, 8, 22, 21, 17, 1, 17, 1, 14, 23, 22, 2, 1, 4, 16, 23, 18, 1, 19, 17, 8, 1, 14, 17, 2, 27], '200702-222404_ibb_9fa_elicit_8': [37, 34, 1, 8, 13, 14, 23, 1, 3, 7, 17, 22, 25, 18, 1, 23, 18, 17, 1, 12, 10, 10, 19, 1, 26, 17, 4, 14, 1, 22, 9, 10, 13, 23, 1, 51, 10, 19, 1, 58, 16, 26, 12, 19, 10, 8, 1, 15, 10, 7, 1, 10, 23, 18, 17, 7, 1, 25, 16, 23, 2, 36, 1, 9, 17, 25, 22, 13, 14, 17, 1, 26, 22, 1, 23, 18, 16, 14, 1, 10, 26, 17, 1, 8, 22, 21, 17, 1, 8, 17, 1, 25, 10, 8, 17, 20, 31, 24, 22, 7, 21, 1, 61, 27, 35, 64, 59, 1, 57, 13, 21, 17, 1, 29, 27, 29, 35, 20], '200702-222404_ibb_9fa_elicit_9': [42, 22, 1, 23, 7, 13, 17, 36, 1, 23, 18, 17, 1, 8, 22, 16, 26, 1, 7, 17, 22, 14, 10, 26, 1, 4, 18, 2, 1, 6, 17, 14, 13, 14, 1, 25, 10, 8, 17, 1, 23, 18, 16, 14, 1, 17, 22, 7, 23, 18, 1, 26, 22, 1, 23, 10, 1, 3, 7, 17, 22, 25, 18, 1, 22, 9, 10, 13, 23, 1, 51, 10, 19, 1, 58, 16, 26, 12, 19, 10, 8, 20], '200702-222404_ibb_9fa_elicit_10': [42, 22, 1, 23, 18, 17, 1, 58, 16, 26, 12, 19, 10, 8, 1, 12, 10, 1, 8, 22, 21, 17, 1, 16, 8, 1, 48, 22, 23, 18, 17, 7, 1, 26, 22, 8, 17, 1, 25, 5, 17, 22, 26, 36, 1, 22, 26, 19, 1, 26, 22, 1, 16, 8, 1, 12, 10, 1, 25, 10, 8, 10, 23, 1, 22, 5, 5, 1, 23, 18, 17, 1, 4, 22, 18, 22, 5, 22, 1, 4, 17, 2, 1, 18, 13, 8, 22, 26, 1, 9, 17, 16, 26, 12, 1, 19, 17, 2, 1, 15, 22, 25, 17, 20], '200702-222404_ibb_9fa_elicit_11': [6, 17, 14, 13, 14, 1, 19, 10, 1, 23, 18, 10, 14, 17, 1, 8, 16, 7, 22, 25, 5, 17, 1, 23, 10, 1, 14, 18, 10, 4, 1, 14, 17, 2, 1, 26, 22, 1, 51, 10, 19, 1, 14, 17, 26, 19, 1, 22, 8, 20], '200702-222404_ibb_9fa_elicit_12': [42, 22, 1, 14, 10, 1, 24, 10, 14, 17, 14, 1, 14, 23, 16, 5, 5, 1, 19, 10, 1, 8, 16, 7, 22, 25, 5, 17, 1, 23, 10, 1, 14, 18, 10, 4, 1, 3, 17, 10, 3, 5, 17, 1, 14, 17, 2, 1, 26, 22, 1, 51, 10, 19, 1, 14, 17, 26, 19, 1, 22, 8, 20, 28, 45, 10, 19, 13, 14, 1, 29, 27, 61, 62, 32, 36, 1, 35, 66, 36, 1, 35, 61, 20], '200702-222404_ibb_9fa_elicit_13': [11, 10, 1, 6, 17, 14, 13, 14, 1, 25, 10, 8, 10, 23, 1, 15, 7, 10, 8, 1, 44, 22, 3, 17, 7, 26, 22, 13, 8, 1, 12, 10, 1, 3, 7, 17, 22, 25, 18, 1, 15, 10, 7, 1, 10, 23, 18, 17, 7, 1, 3, 5, 22, 25, 17, 1, 22, 26, 19, 1, 16, 8, 1, 15, 10, 13, 7, 1, 19, 16, 14, 25, 16, 3, 5, 17, 1, 15, 10, 5, 5, 10, 4, 1, 22, 8, 20], '200702-222404_ibb_9fa_elicit_14': [46, 18, 17, 1, 15, 10, 13, 7, 1, 19, 16, 14, 25, 16, 3, 5, 17, 14, 1, 26, 22, 1, 53, 17, 23, 17, 7, 1, 4, 16, 23, 18, 1, 16, 8, 1, 9, 7, 10, 23, 18, 17, 7, 1, 40, 26, 19, 7, 17, 4, 36, 1, 22, 26, 19, 1, 6, 10, 18, 26, 1, 4, 16, 23, 18, 1, 16, 8, 1, 9, 7, 10, 23, 18, 17, 7, 1, 6, 22, 8, 17, 14, 20], '200702-222404_ibb_9fa_elicit_16': [6, 17, 14, 13, 14, 1, 22, 26, 19, 1, 16, 8, 1, 15, 10, 13, 7, 1, 19, 16, 14, 25, 16, 3, 5, 17, 14, 1, 7, 17, 22, 5, 5, 2, 1, 12, 17, 23, 1, 9, 17, 23, 23, 17, 7, 1, 7, 17, 14, 13, 5, 23, 1, 15, 10, 7, 1, 23, 18, 17, 1, 3, 7, 17, 22, 25, 18, 16, 26, 12, 1, 4, 10, 7, 21, 1, 4, 17, 2, 1, 19, 17, 8, 1, 19, 10, 1, 15, 10, 7, 1, 51, 22, 5, 16, 5, 17, 17, 20], '200702-222404_ibb_9fa_elicit_17': [46, 18, 17, 1, 23, 7, 13, 23, 18, 1, 9, 17, 1, 14, 17, 2, 36, 1, 3, 17, 10, 3, 5, 17, 1, 41, 13, 14, 23, 1, 19, 17, 2, 1, 18, 17, 22, 7, 1, 22, 9, 10, 13, 23, 1, 6, 17, 14, 13, 14, 1, 15, 10, 7, 1, 17, 38, 17, 7, 2, 4, 18, 17, 7, 17, 20], '200702-222404_ibb_9fa_elicit_18': [46, 18, 17, 1, 26, 17, 4, 14, 1, 22, 9, 10, 13, 23, 1, 6, 17, 14, 13, 14, 1, 7, 17, 22, 25, 18, 1, 17, 38, 17, 7, 2, 4, 18, 17, 7, 17, 1, 15, 10, 7, 1, 11, 2, 7, 16, 22, 36, 1, 17, 38, 17, 26, 1, 12, 10, 1, 7, 17, 22, 25, 18, 1, 23, 18, 17, 1, 23, 17, 26, 1, 25, 16, 23, 2, 1, 4, 17, 2, 1, 19, 17, 8, 1, 19, 17, 2, 1, 25, 22, 5, 5, 1, 39, 17, 25, 22, 3, 10, 5, 16, 14, 36], '200702-222404_ibb_9fa_elicit_19': [22, 26, 19, 1, 23, 18, 17, 1, 10, 23, 18, 17, 7, 1, 14, 16, 19, 17, 1, 10, 15, 1, 47, 16, 38, 17, 7, 1, 6, 10, 7, 19, 22, 26, 20], '200702-222404_ibb_9fa_elicit_20': [33, 24, 22, 23, 23, 18, 17, 4, 1, 29, 27, 43, 29, 36, 1, 43, 65, 30, 1, 53, 5, 17, 26, 23, 2, 1, 3, 17, 10, 3, 5, 17, 1, 15, 7, 10, 8, 1, 23, 18, 22, 23, 1, 22, 7, 17, 22, 1, 22, 26, 19, 1, 3, 17, 10, 3, 5, 17, 1, 15, 7, 10, 8, 1, 6, 13, 19, 17, 22, 1, 25, 10, 8, 17, 1, 19, 17, 2, 1, 15, 10, 5, 5, 10, 4, 1, 6, 17, 14, 13, 14, 1, 22, 26, 19, 1, 16, 8, 1, 19, 16, 14, 25, 16, 3, 5, 17, 14, 20], '200702-222404_ibb_9fa_elicit_21': [24, 22, 26, 2, 1, 10, 15, 1, 19, 17, 8, 1, 9, 7, 16, 26, 12, 1, 14, 16, 25, 21, 1, 3, 17, 10, 3, 5, 17, 1, 8, 22, 21, 17, 1, 17, 1, 18, 17, 22, 5, 1, 19, 17, 8, 20], '200702-222404_ibb_9fa_elicit_22': [40, 26, 19, 1, 6, 17, 14, 13, 14, 1, 26, 10, 1, 15, 22, 16, 5, 1, 19, 17, 8, 17, 1, 18, 17, 22, 5, 1, 22, 5, 5, 1, 10, 15, 1, 19, 17, 8, 1, 22, 26, 19, 1, 3, 13, 7, 14, 13, 17, 1, 23, 18, 17, 1, 19, 17, 8, 10, 26, 14, 1, 4, 17, 2, 1, 19, 17, 2, 1, 3, 17, 10, 3, 5, 17, 1, 9, 10, 19, 2, 20], '200702-222404_ibb_9fa_elicit_23': [40, 14, 1, 6, 17, 14, 13, 14, 1, 22, 26, 19, 1, 16, 8, 1, 15, 10, 13, 7, 1, 19, 16, 14, 25, 16, 3, 5, 17, 14, 1, 25, 10, 8, 17, 1, 19, 17, 2, 1, 3, 7, 17, 22, 25, 18, 1, 15, 10, 7, 1, 37, 22, 5, 5, 1, 23, 18, 17, 1, 14, 2, 26, 22, 12, 10, 12, 13, 17, 1, 4, 17, 2, 1, 19, 17, 2, 1, 51, 22, 5, 16, 5, 17, 17, 36], '200702-222404_ibb_9fa_elicit_24': [31, 1, 3, 17, 10, 3, 5, 17, 1, 41, 13, 14, 23, 1, 19, 17, 2, 1, 23, 22, 5, 21, 1, 22, 9, 10, 13, 23, 1, 22, 5, 5, 1, 23, 18, 17, 1, 9, 17, 23, 23, 17, 7, 1, 23, 18, 16, 26, 12, 14, 1, 4, 17, 2, 1, 17, 1, 19, 17, 2, 1, 19, 10, 1, 15, 10, 7, 1, 17, 38, 17, 7, 2, 4, 18, 17, 7, 17, 20], '200702-222404_ibb_9fa_elicit_25': [33, 24, 22, 7, 21, 1, 61, 27, 35, 32, 30, 1, 46, 18, 17, 1, 14, 23, 10, 7, 2, 1, 25, 10, 8, 17, 1, 7, 17, 22, 25, 18, 1, 10, 26, 17, 1, 23, 10, 4, 26, 36, 1, 4, 17, 2, 1, 10, 26, 17, 1, 8, 22, 26, 1, 4, 17, 2, 1, 12, 17, 23, 1, 5, 17, 3, 7, 10, 14, 2, 1, 19, 17, 2, 1, 14, 23, 22, 2, 20], '200702-222404_ibb_9fa_elicit_26': [57, 13, 21, 17, 1, 4, 17, 2, 1, 9, 17, 1, 19, 10, 25, 23, 10, 7, 1, 14, 22, 2, 1, 5, 17, 3, 7, 10, 14, 2, 1, 15, 13, 5, 5, 1, 23, 18, 17, 1, 8, 22, 26, 1, 9, 10, 19, 2, 20], '200702-222404_ibb_9fa_elicit_27': [33, 57, 13, 21, 17, 1, 65, 27, 61, 43, 30, 1, 46, 18, 16, 14, 1, 9, 22, 19, 1, 19, 16, 14, 17, 22, 14, 17, 1, 19, 17, 2, 1, 14, 3, 10, 16, 5, 1, 14, 10, 8, 17, 1, 3, 22, 7, 23, 1, 10, 15, 1, 3, 17, 7, 14, 10, 26, 1, 9, 10, 19, 2, 36, 1, 4, 18, 17, 26, 1, 23, 18, 17, 1, 19, 16, 14, 17, 22, 14, 17, 1, 19, 10, 26, 1, 23, 17, 2, 1, 15, 10, 7, 1, 9, 10, 19, 2, 20], '200702-222404_ibb_9fa_elicit_28': [11, 10, 1, 23, 18, 16, 14, 1, 8, 22, 26, 1, 25, 10, 26, 19, 16, 23, 16, 10, 26, 1, 14, 17, 7, 16, 10, 13, 14, 1, 26, 10, 1, 9, 17, 1, 14, 8, 22, 5, 5, 1, 22, 26, 19, 1, 23, 18, 17, 1, 5, 22, 4, 1, 14, 17, 2, 1, 17, 1, 26, 10, 1, 12, 10, 1, 15, 16, 23, 1, 14, 23, 22, 2, 1, 4, 16, 23, 18, 1, 3, 17, 10, 3, 5, 17, 20, 1, 40, 26, 2, 4, 18, 17, 7, 17, 1, 17, 1, 19, 17, 2, 36], '200702-222404_ibb_9fa_elicit_29': [4, 18, 17, 26, 1, 17, 1, 14, 17, 17, 1, 3, 17, 10, 3, 5, 17, 1, 4, 17, 2, 1, 19, 17, 2, 1, 25, 10, 8, 17, 36, 1, 17, 1, 14, 13, 3, 3, 10, 14, 17, 1, 14, 18, 10, 13, 23, 1, 14, 17, 2, 1, 17, 1, 26, 10, 1, 25, 5, 17, 22, 26, 20], '200702-222404_ibb_9fa_elicit_30': [46, 18, 16, 14, 1, 10, 26, 17, 1, 26, 22, 1, 23, 10, 1, 3, 7, 10, 23, 17, 25, 23, 1, 3, 17, 10, 3, 5, 17, 1, 14, 10, 1, 23, 18, 22, 23, 1, 19, 17, 8, 1, 26, 10, 1, 12, 10, 1, 25, 10, 8, 17, 1, 26, 17, 22, 7, 1, 22, 8, 1, 22, 26, 19, 1, 25, 22, 7, 7, 2, 1, 23, 18, 16, 14, 1, 9, 22, 19, 1, 14, 16, 25, 21, 26, 17, 14, 14, 20], '200702-222404_ibb_9fa_elicit_32': [21, 26, 17, 17, 5, 1, 19, 10, 4, 26, 1, 15, 10, 7, 1, 16, 8, 1, 15, 7, 10, 26, 23, 36, 1, 25, 10, 8, 17, 1, 9, 17, 12, 1, 22, 8, 1, 14, 17, 2, 27, 1, 37, 57, 10, 7, 19, 36, 1, 16, 15, 1, 2, 10, 13, 1, 41, 13, 14, 23, 1, 4, 22, 26, 23, 36, 1, 2, 10, 13, 1, 15, 16, 23, 1, 8, 22, 21, 17, 1, 8, 17, 1, 25, 5, 17, 22, 26, 20, 31, 24, 22, 23, 23, 18, 17, 4, 1, 64, 27, 43, 20], '200702-222404_ibb_9fa_elicit_33': [46, 18, 17, 1, 8, 22, 26, 1, 7, 17, 22, 5, 5, 2, 1, 12, 17, 23, 1, 15, 22, 16, 23, 18, 1, 15, 10, 7, 1, 6, 17, 14, 13, 14, 67, 1, 40, 26, 19, 1, 23, 18, 16, 14, 1, 19, 16, 14, 17, 22, 14, 17, 1, 12, 10, 1, 19, 10, 26, 1, 14, 13, 15, 15, 17, 7, 1, 22, 8, 1, 4, 17, 5, 5, 1, 4, 17, 5, 5, 67], '200702-222404_ibb_9fa_elicit_34': [56, 13, 23, 1, 4, 17, 23, 16, 26, 1, 6, 17, 14, 13, 14, 1, 19, 10, 52, 1, 50, 17, 23, 16, 26, 1, 2, 10, 13, 1, 15, 10, 7, 1, 19, 10, 1, 16, 15, 1, 2, 10, 13, 1, 19, 17, 2, 1, 23, 18, 17, 7, 17, 52, 1, 6, 17, 14, 13, 14, 1, 3, 16, 23, 2, 1, 23, 18, 17, 1, 8, 22, 26, 36, 1, 25, 10, 8, 17, 1, 14, 23, 7, 17, 23, 25, 18, 1, 16, 8, 1, 18, 22, 26, 19, 1, 23, 10, 13, 25, 18, 1, 23, 18, 17, 1, 8, 22, 26, 20], '200702-222404_ibb_9fa_elicit_35': [6, 17, 14, 13, 14, 1, 23, 17, 5, 5, 1, 22, 8, 1, 14, 17, 2, 27, 1, 37, 34, 1, 4, 22, 26, 23, 1, 19, 10, 1, 22, 8, 67, 1, 24, 22, 21, 17, 1, 2, 10, 13, 1, 19, 17, 2, 1, 25, 5, 17, 22, 26, 20], '200702-222404_ibb_9fa_elicit_36': [31, 33, 24, 22, 23, 23, 18, 17, 4, 1, 64, 27, 35, 30, 1, 28, 38, 17, 26, 1, 23, 18, 10, 13, 12, 18, 1, 14, 17, 2, 1, 17, 1, 12, 10, 1, 18, 22, 7, 19, 1, 14, 10, 8, 17, 1, 3, 17, 10, 3, 5, 17, 1, 23, 10, 1, 9, 17, 5, 16, 17, 38, 17, 36, 1, 23, 18, 17, 1, 5, 17, 3, 7, 10, 14, 2, 1, 4, 17, 2, 1, 19, 17, 2, 1, 23, 18, 17, 1, 8, 22, 26, 1, 9, 10, 19, 2, 36, 1, 41, 13, 14, 23, 1, 38, 22, 26, 16, 14, 18, 20], '200702-222404_ibb_9fa_elicit_37': [70, 10, 13, 1, 26, 10, 1, 12, 10, 1, 5, 16, 21, 17, 1, 22, 8, 1, 16, 15, 1, 3, 17, 7, 14, 10, 26, 1, 5, 16, 21, 17, 1, 6, 17, 14, 13, 14, 36, 1, 4, 17, 2, 1, 12, 17, 23, 1, 14, 10, 15, 23, 1, 8, 16, 26, 19, 1, 22, 26, 19, 1, 3, 10, 4, 17, 7, 36, 1, 9, 17, 1, 2, 10, 13, 7, 1, 21, 16, 26, 12, 52], '200702-222404_ibb_9fa_elicit_38': [46, 18, 17, 1, 4, 22, 2, 1, 6, 17, 14, 13, 14, 1, 23, 7, 17, 22, 23, 1, 23, 18, 16, 14, 1, 5, 17, 3, 17, 7, 1, 7, 17, 22, 5, 5, 2, 1, 8, 22, 21, 17, 1, 13, 14, 1, 12, 17, 23, 1, 8, 16, 26, 19, 1, 14, 17, 2, 1, 4, 18, 17, 26, 1, 6, 17, 14, 13, 14, 1, 14, 23, 22, 7, 23, 1, 23, 10, 1, 7, 13, 5, 17, 1, 23, 18, 17, 1, 4, 18, 10, 5, 17, 1, 17, 22, 7, 23, 18, 36], '200702-222404_ibb_9fa_elicit_40': [31, 46, 18, 22, 23, 1, 23, 16, 8, 17, 36, 1, 6, 17, 14, 13, 14, 1, 12, 10, 1, 19, 10, 1, 4, 17, 23, 16, 26, 1, 17, 1, 12, 17, 23, 1, 15, 10, 7, 1, 8, 16, 26, 19, 36, 1, 23, 10, 1, 18, 17, 5, 3, 1, 17, 38, 17, 7, 2, 9, 10, 19, 2, 1, 4, 17, 2, 1, 19, 17, 2, 1, 14, 13, 15, 15, 17, 7, 20], '200702-222404_ibb_9fa_elicit_41': [47, 17, 8, 17, 8, 9, 17, 7, 1, 14, 17, 2, 36, 1, 17, 38, 17, 26, 1, 9, 17, 15, 10, 7, 17, 1, 6, 17, 14, 13, 14, 1, 18, 17, 22, 5, 1, 23, 18, 16, 14, 1, 5, 17, 3, 17, 7, 36, 1, 23, 18, 17, 1, 23, 18, 16, 26, 12, 14, 1, 4, 17, 2, 1, 17, 1, 19, 17, 2, 1, 19, 10, 1, 19, 10, 26, 1, 19, 17, 2, 1, 8, 22, 21, 17, 1, 3, 17, 10, 3, 5, 17, 1, 18, 22, 3, 3, 2, 20], '200702-222404_ibb_9fa_elicit_42': [42, 10, 4, 1, 3, 17, 10, 3, 5, 17, 1, 12, 10, 1, 18, 17, 22, 7, 1, 22, 12, 22, 16, 26, 1, 14, 17, 2, 1, 17, 1, 19, 10, 26, 1, 19, 10, 1, 22, 26, 10, 23, 18, 17, 7, 1, 8, 16, 7, 22, 25, 5, 17, 20], '200702-222404_ibb_9fa_elicit_44': [28, 1, 21, 26, 10, 4, 1, 4, 17, 23, 16, 26, 1, 51, 10, 19, 1, 50, 10, 7, 19, 1, 23, 22, 5, 21, 36, 1, 14, 17, 2, 1, 37, 17, 1, 26, 10, 1, 12, 10, 1, 8, 22, 21, 17, 1, 3, 17, 10, 3, 5, 17, 1, 18, 17, 22, 7, 1, 16, 8, 1, 38, 10, 16, 25, 17, 1, 15, 10, 7, 1, 14, 23, 7, 17, 17, 23, 20], '200702-222404_ibb_9fa_elicit_45': [31, 46, 18, 16, 14, 1, 10, 26, 17, 1, 8, 17, 22, 26, 1, 14, 17, 2, 1, 17, 1, 26, 10, 1, 12, 10, 1, 19, 10, 1, 26, 10, 23, 16, 25, 17, 62, 8, 17, 67, 1, 33, 34, 14, 22, 16, 22, 18, 1, 29, 43, 27, 61, 36, 1, 43, 30, 1, 11, 10, 36, 1, 6, 17, 14, 13, 14, 1, 25, 10, 8, 17, 1, 23, 17, 5, 5, 1, 23, 18, 17, 1, 5, 17, 3, 17, 7, 1, 4, 17, 2, 1, 19, 10, 26, 1, 4, 17, 5, 5, 1, 14, 17, 2, 27], '200702-222404_ibb_9fa_elicit_46': [37, 24, 22, 21, 17, 1, 14, 13, 7, 17, 1, 14, 17, 2, 1, 2, 10, 13, 1, 26, 10, 1, 23, 17, 5, 5, 1, 22, 26, 2, 9, 10, 19, 2, 36, 1, 9, 13, 23, 1, 12, 10, 36, 1, 8, 22, 21, 17, 1, 23, 18, 17, 1, 3, 7, 16, 17, 14, 23, 1, 14, 17, 17, 1, 2, 10, 13, 36], '200702-222404_ibb_9fa_elicit_47': [22, 26, 19, 1, 8, 22, 21, 17, 1, 2, 10, 13, 1, 12, 16, 38, 17, 1, 23, 18, 17, 1, 12, 16, 15, 23, 1, 4, 17, 2, 1, 24, 10, 14, 17, 14, 1, 25, 10, 8, 8, 22, 26, 19, 20, 31, 24, 22, 23, 23, 18, 17, 4, 1, 64, 27, 29, 20], '200702-222404_ibb_9fa_elicit_48': [56, 13, 23, 1, 22, 14, 1, 2, 10, 13, 1, 21, 26, 10, 4, 36, 1, 23, 18, 17, 1, 8, 22, 26, 1, 18, 22, 3, 3, 2, 1, 4, 17, 5, 5, 1, 4, 17, 5, 5, 1, 14, 10, 23, 17, 2, 1, 17, 1, 26, 10, 1, 15, 16, 23, 1, 25, 5, 10, 14, 17, 1, 8, 10, 13, 23, 18, 20], '200702-222404_ibb_9fa_elicit_49': [40, 14, 1, 17, 1, 25, 10, 8, 10, 23, 36, 1, 17, 1, 9, 17, 12, 16, 26, 1, 23, 17, 5, 5, 1, 17, 38, 17, 7, 2, 9, 10, 19, 2, 1, 4, 17, 23, 16, 26, 1, 18, 22, 3, 3, 17, 26, 1, 23, 10, 1, 22, 8, 20], '200702-222404_ibb_9fa_elicit_50': [46, 18, 17, 1, 14, 23, 10, 7, 2, 1, 25, 10, 8, 17, 1, 8, 22, 21, 17, 1, 17, 38, 17, 7, 2, 9, 10, 19, 2, 1, 4, 22, 26, 23, 1, 21, 26, 10, 4, 1, 6, 17, 14, 13, 14, 20, 1, 28, 1, 12, 17, 23, 1, 4, 18, 17, 7, 17, 1, 23, 18, 17, 1, 8, 22, 23, 23, 17, 7, 1, 7, 17, 22, 25, 18, 36], '200702-222404_ibb_9fa_elicit_51': [6, 17, 14, 13, 14, 1, 26, 10, 1, 25, 10, 8, 17, 1, 15, 16, 23, 1, 19, 17, 2, 1, 25, 10, 8, 17, 1, 10, 13, 23, 1, 15, 10, 7, 1, 4, 18, 17, 7, 17, 1, 3, 17, 10, 3, 5, 17, 1, 19, 17, 2, 1, 22, 12, 22, 16, 26, 20, 1, 11, 10, 1, 14, 10, 8, 17, 23, 16, 8, 17, 14, 36], '200702-222404_ibb_9fa_elicit_52': [17, 1, 25, 10, 8, 17, 1, 19, 17, 2, 1, 14, 23, 22, 2, 1, 4, 18, 17, 7, 17, 1, 3, 17, 10, 3, 5, 17, 1, 26, 10, 1, 19, 17, 2, 20, 1, 28, 38, 17, 26, 1, 4, 16, 23, 18, 1, 23, 18, 22, 23, 1, 10, 26, 17, 36, 1, 3, 17, 10, 3, 5, 17, 1, 14, 23, 16, 5, 5, 1, 15, 16, 26, 19, 1, 22, 8, 1, 8, 22, 21, 17, 1, 17, 1, 23, 17, 22, 25, 18, 1, 19, 17, 8, 1, 22, 26, 19, 1, 18, 17, 22, 5, 1, 19, 17, 8, 20], '200630-102901_pcm_9fa_elicit_0': [24, 22, 7, 2, 1, 14, 23, 22, 2, 1, 4, 16, 23, 18, 1, 28, 5, 16, 49, 22, 9, 17, 23, 18, 1, 7, 17, 22, 25, 18, 1, 23, 18, 7, 17, 17, 1, 8, 10, 26, 23, 18, 14, 36, 1, 22, 26, 19, 1, 17, 1, 12, 10, 1, 19, 10, 26, 1, 18, 17, 5, 3, 1, 28, 5, 16, 49, 22, 9, 17, 23, 18, 1, 4, 17, 5, 5, 1, 4, 17, 5, 5, 1, 9, 17, 25, 22, 13, 14, 17, 1, 17, 1, 12, 10, 1, 14, 10, 10, 26, 1, 9, 10, 7, 26, 20], '200630-102901_pcm_9fa_elicit_2': [47, 17, 8, 17, 8, 9, 17, 7, 36, 1, 17, 38, 17, 26, 1, 9, 17, 15, 10, 7, 17, 1, 24, 22, 7, 2, 1, 9, 10, 7, 26, 1, 6, 17, 14, 13, 14, 36, 1, 19, 17, 8, 1, 14, 18, 10, 4, 1, 6, 17, 14, 13, 14, 1, 7, 17, 14, 3, 17, 25, 23, 20, 1, 50, 18, 17, 26, 1, 24, 22, 7, 2, 1, 7, 17, 22, 25, 18, 1, 68, 17, 25, 18, 22, 7, 16, 22, 18, 1, 18, 10, 13, 14, 17, 36], '200630-102901_pcm_9fa_elicit_3': [28, 5, 16, 49, 22, 9, 17, 23, 18, 1, 25, 22, 5, 5, 1, 6, 17, 14, 13, 14, 1, 37, 8, 2, 1, 57, 10, 7, 19, 36, 31, 1, 22, 26, 19, 1, 23, 18, 17, 1, 3, 16, 21, 16, 26, 1, 4, 17, 2, 1, 19, 17, 2, 1, 28, 5, 16, 49, 22, 9, 17, 23, 18, 1, 9, 17, 5, 5, 17, 1, 37, 18, 22, 3, 3, 2, 36, 1, 25, 10, 8, 17, 1, 41, 13, 8, 3, 20, 31, 1, 40, 14, 1, 4, 17, 1, 12, 10, 1, 14, 17, 17, 1, 5, 22, 23, 17, 7, 36], '200630-102901_pcm_9fa_elicit_4': [23, 18, 16, 14, 1, 10, 26, 17, 1, 19, 16, 15, 15, 17, 7, 17, 26, 23, 1, 15, 7, 10, 8, 1, 18, 10, 4, 1, 10, 23, 18, 17, 7, 1, 3, 17, 10, 3, 5, 17, 1, 23, 7, 17, 22, 23, 1, 24, 22, 7, 2, 1, 22, 26, 19, 1, 23, 18, 17, 1, 3, 16, 21, 16, 26, 1, 4, 17, 2, 1, 19, 17, 2, 1, 16, 8, 1, 9, 17, 5, 5, 17, 20], '200630-102901_pcm_9fa_elicit_5': [28, 5, 16, 49, 22, 9, 17, 23, 18, 1, 12, 10, 1, 14, 10, 10, 26, 1, 9, 10, 7, 26, 20, 1, 48, 10, 7, 1, 23, 18, 7, 17, 17, 1, 8, 10, 26, 23, 18, 14, 1, 26, 10, 4, 36, 1, 24, 22, 7, 2, 1, 4, 17, 2, 1, 9, 17, 1, 16, 8, 1, 15, 22, 8, 16, 5, 2, 1, 8, 17, 8, 9, 17, 7, 1, 19, 10, 26, 1, 19, 17, 2, 1, 4, 16, 23, 18, 1, 22, 8, 20], '200630-102901_pcm_9fa_elicit_6': [42, 10, 4, 36, 1, 23, 16, 8, 17, 1, 19, 10, 26, 1, 7, 17, 22, 25, 18, 1, 8, 22, 21, 17, 1, 17, 1, 12, 10, 1, 9, 22, 25, 21, 20, 1, 28, 1, 12, 10, 1, 3, 22, 14, 14, 1, 6, 13, 19, 17, 22, 1, 22, 7, 17, 22, 1, 4, 17, 2, 1, 18, 16, 5, 5, 1, 19, 17, 2, 36, 1, 9, 17, 15, 10, 7, 17, 1, 17, 1, 7, 17, 22, 25, 18, 1, 16, 8, 1, 18, 10, 13, 14, 17, 1, 15, 10, 7, 1, 42, 22, 49, 22, 7, 17, 23, 18, 20], '200630-102901_pcm_9fa_elicit_7': [46, 18, 17, 1, 41, 10, 13, 7, 26, 17, 2, 1, 15, 22, 7, 1, 4, 17, 5, 5, 1, 4, 17, 5, 5, 20, 1, 42, 22, 1, 14, 16, 45, 1, 8, 10, 26, 23, 18, 14, 1, 7, 17, 8, 22, 16, 26, 1, 15, 10, 7, 1, 24, 22, 7, 2, 1, 14, 17, 5, 15, 1, 23, 10, 1, 9, 10, 7, 26, 1, 16, 8, 1, 10, 4, 26, 1, 3, 16, 21, 16, 26, 20], '200630-102901_pcm_9fa_elicit_8': [28, 1, 26, 10, 1, 23, 17, 2, 1, 4, 17, 2, 1, 24, 22, 7, 2, 1, 12, 10, 1, 18, 10, 13, 14, 17, 1, 9, 17, 15, 10, 7, 17, 1, 28, 5, 16, 49, 22, 9, 17, 23, 18, 1, 9, 10, 7, 26, 20, 1, 28, 38, 17, 7, 2, 9, 10, 19, 2, 1, 18, 22, 3, 3, 2, 1, 22, 14, 1, 26, 10, 23, 18, 16, 26, 12, 1, 19, 10, 1, 28, 5, 16, 49, 22, 9, 17, 23, 18, 1, 22, 26, 19, 1, 23, 18, 17, 1, 3, 16, 21, 16, 26, 1, 4, 17, 2, 1, 17, 1, 9, 10, 7, 26, 20], '200630-102901_pcm_9fa_elicit_9': [24, 22, 8, 22, 1, 22, 26, 19, 1, 3, 16, 21, 16, 26, 1, 19, 17, 2, 1, 14, 23, 7, 10, 26, 12, 67, 1, 34, 8, 1, 26, 17, 16, 12, 18, 9, 10, 7, 14, 1, 22, 26, 19, 1, 15, 22, 8, 16, 5, 2, 1, 3, 17, 10, 3, 5, 17, 1, 18, 22, 3, 3, 2, 1, 4, 17, 5, 5, 1, 4, 17, 5, 5, 1, 4, 18, 17, 26, 1, 28, 5, 16, 49, 22, 9, 17, 23, 18, 1, 14, 18, 10, 4, 1, 19, 17, 8, 1, 23, 18, 17, 1, 3, 16, 21, 16, 26, 20], '200630-102901_pcm_9fa_elicit_11': [33, 57, 17, 38, 16, 23, 16, 25, 13, 14, 1, 61, 43, 27, 43, 36, 1, 35, 30, 1, 11, 10, 8, 17, 1, 3, 17, 10, 3, 5, 17, 1, 15, 17, 17, 5, 1, 14, 17, 2, 1, 17, 1, 12, 10, 1, 9, 17, 23, 23, 17, 7, 1, 15, 10, 7, 1, 19, 17, 8, 1, 23, 10, 1, 12, 16, 38, 17, 1, 23, 18, 17, 1, 9, 10, 2, 1, 16, 8, 1, 3, 22, 3, 22, 1, 26, 22, 8, 17, 1, 4, 17, 2, 1, 9, 17, 1, 68, 17, 25, 18, 22, 7, 16, 22, 18, 20], '200630-102901_pcm_9fa_elicit_12': [56, 13, 23, 1, 28, 5, 16, 49, 22, 9, 17, 23, 18, 1, 26, 10, 1, 12, 7, 17, 17, 36, 1, 17, 1, 14, 17, 2, 27, 1, 37, 42, 10, 67, 1, 16, 8, 1, 26, 22, 8, 17, 1, 12, 10, 1, 9, 17, 1, 6, 10, 18, 26, 20, 31, 1, 33, 57, 13, 21, 17, 1, 61, 27, 69, 66, 30, 1, 47, 17, 8, 17, 8, 9, 17, 7, 36, 1, 22, 26, 12, 17, 5, 1, 51, 22, 9, 7, 16, 17, 5, 1, 19, 10, 26, 1, 15, 16, 7, 14, 23, 1, 23, 22, 5, 21, 1, 14, 17, 2, 1, 8, 22, 21, 17, 1, 19, 17, 8, 1, 26, 22, 8, 17, 1, 22, 8, 1, 6, 10, 18, 26, 20], '200630-102901_pcm_9fa_elicit_13': [34, 8, 1, 26, 17, 16, 12, 18, 9, 10, 7, 14, 1, 22, 26, 19, 1, 15, 22, 8, 16, 5, 2, 1, 3, 17, 10, 3, 5, 17, 1, 26, 10, 1, 12, 7, 17, 17, 36, 1, 26, 22, 1, 16, 8, 1, 8, 22, 21, 17, 1, 19, 17, 8, 1, 23, 22, 5, 21, 1, 14, 17, 2, 27, 1, 37, 42, 10, 9, 10, 19, 2, 1, 15, 10, 7, 1, 2, 10, 13, 7, 1, 15, 22, 8, 16, 5, 2, 1, 19, 17, 2, 1, 22, 26, 14, 4, 17, 7, 1, 23, 18, 22, 23, 1, 26, 22, 8, 17, 20, 31], '200630-102901_pcm_9fa_elicit_14': [33, 57, 13, 21, 17, 1, 61, 27, 69, 61, 30, 1, 39, 17, 8, 1, 13, 14, 17, 1, 18, 22, 26, 19, 1, 22, 14, 21, 1, 68, 17, 25, 18, 22, 7, 16, 22, 18, 1, 4, 18, 16, 25, 18, 1, 26, 22, 8, 17, 1, 19, 17, 8, 1, 12, 10, 1, 12, 16, 38, 17, 1, 23, 18, 17, 1, 9, 10, 2, 20], '200630-102901_pcm_9fa_elicit_15': [68, 17, 25, 18, 22, 7, 16, 22, 18, 1, 25, 10, 8, 17, 1, 14, 17, 2, 1, 8, 22, 21, 17, 1, 19, 17, 8, 1, 9, 7, 16, 26, 12, 1, 14, 10, 8, 17, 23, 18, 16, 26, 12, 1, 8, 22, 21, 17, 1, 17, 1, 4, 7, 16, 23, 17, 1, 23, 18, 17, 1, 26, 22, 8, 17, 1, 3, 13, 23, 20, 1, 28, 1, 4, 7, 16, 23, 17, 1, 14, 17, 2, 27, 1, 37, 42, 22, 1, 6, 10, 18, 26, 1, 9, 17, 1, 16, 8, 1, 26, 22, 8, 17, 20, 31, 57, 13, 21, 17, 1, 61, 27, 69, 35, 20], '200630-102901_pcm_9fa_elicit_16': [40, 14, 1, 17, 1, 4, 7, 16, 23, 17, 1, 22, 8, 1, 15, 16, 26, 16, 14, 18, 36, 1, 9, 16, 12, 1, 8, 16, 7, 22, 25, 5, 17, 1, 25, 10, 8, 17, 1, 18, 22, 3, 3, 17, 26, 36, 1, 68, 17, 25, 18, 22, 7, 16, 22, 18, 1, 14, 23, 22, 7, 23, 1, 23, 10, 1, 23, 22, 5, 21, 1, 22, 12, 22, 16, 26, 20], '200630-102901_pcm_9fa_elicit_17': [47, 17, 8, 17, 8, 9, 17, 7, 36, 1, 4, 18, 17, 26, 1, 23, 18, 17, 1, 22, 26, 12, 17, 5, 1, 23, 17, 5, 5, 1, 22, 8, 1, 14, 17, 2, 1, 28, 5, 16, 49, 22, 9, 17, 23, 18, 1, 12, 10, 1, 9, 10, 7, 26, 1, 3, 16, 21, 16, 26, 36, 1, 17, 1, 26, 10, 1, 9, 17, 5, 16, 17, 38, 17, 1, 22, 8, 20, 1, 42, 22, 1, 14, 16, 26, 25, 17, 1, 23, 18, 22, 23, 1, 23, 16, 8, 17, 1, 17, 1, 14, 23, 10, 3, 1, 23, 10, 1, 23, 22, 5, 21, 20], '200630-102901_pcm_9fa_elicit_18': [11, 10, 1, 22, 14, 1, 68, 17, 25, 18, 22, 7, 16, 22, 18, 1, 14, 23, 22, 7, 23, 1, 23, 10, 1, 23, 22, 5, 21, 1, 22, 12, 22, 16, 26, 36, 1, 16, 8, 1, 26, 17, 16, 12, 18, 9, 10, 7, 14, 1, 25, 10, 8, 17, 1, 19, 17, 2, 1, 4, 10, 26, 19, 17, 7, 1, 14, 17, 2, 27], '200630-102901_pcm_9fa_elicit_19': [37, 50, 18, 16, 25, 18, 1, 21, 16, 26, 19, 1, 3, 17, 7, 14, 10, 26, 1, 23, 18, 16, 14, 1, 3, 16, 21, 16, 26, 1, 12, 10, 1, 9, 17, 52, 31, 1, 33, 57, 13, 21, 17, 1, 61, 27, 69, 69, 30, 1, 50, 17, 23, 16, 26, 1, 18, 22, 3, 3, 17, 26, 1, 4, 18, 17, 26, 1, 19, 17, 8, 1, 19, 17, 2, 1, 26, 22, 8, 17, 1, 23, 18, 17, 1, 3, 16, 21, 16, 26, 36, 1, 14, 18, 10, 4, 1, 14, 17, 2, 1, 51, 10, 19, 1, 19, 17, 2, 1, 4, 16, 23, 18, 1, 22, 8, 20], '200630-102901_pcm_9fa_elicit_20': [40, 14, 1, 18, 10, 5, 2, 1, 14, 3, 16, 7, 16, 23, 1, 17, 26, 23, 17, 7, 1, 68, 17, 25, 18, 22, 7, 16, 22, 18, 1, 9, 10, 19, 2, 36, 1, 17, 1, 25, 10, 8, 17, 1, 14, 23, 22, 7, 23, 1, 23, 10, 1, 23, 22, 5, 21, 1, 14, 17, 2, 27, 1, 37, 53, 7, 22, 16, 14, 17, 1, 6, 17, 18, 10, 38, 22, 18, 1, 4, 17, 2, 1, 9, 17, 1, 34, 14, 7, 22, 17, 5, 1, 51, 10, 19, 36], '200630-102901_pcm_9fa_elicit_21': [9, 17, 25, 22, 13, 14, 17, 1, 17, 1, 19, 10, 26, 1, 23, 13, 7, 26, 1, 16, 8, 1, 15, 22, 25, 17, 1, 23, 10, 1, 16, 8, 1, 3, 17, 10, 3, 5, 17, 1, 22, 26, 19, 1, 17, 1, 19, 10, 26, 1, 14, 22, 38, 17, 1, 19, 17, 8, 20, 1, 48, 7, 10, 8, 1, 23, 18, 17, 1, 18, 10, 13, 14, 17, 1, 10, 15, 1, 16, 8, 1, 14, 17, 7, 38, 22, 26, 23, 1, 1, 39, 22, 38, 16, 19, 36], '200630-102901_pcm_9fa_elicit_23': [31, 1, 50, 18, 17, 26, 1, 17, 1, 14, 17, 2, 1, 37, 3, 17, 7, 14, 10, 26, 1, 4, 17, 2, 1, 12, 17, 23, 1, 3, 10, 4, 17, 7, 1, 4, 17, 5, 5, 1, 4, 17, 5, 5, 1, 4, 17, 2, 1, 12, 10, 1, 14, 22, 38, 17, 1, 13, 14, 36, 31, 1, 17, 1, 19, 17, 2, 1, 23, 22, 5, 21, 1, 22, 9, 10, 13, 23, 1, 23, 18, 17, 1, 3, 16, 21, 16, 26, 1, 4, 17, 2, 1, 24, 22, 7, 2, 1, 12, 10, 1, 14, 10, 10, 26, 1, 9, 10, 7, 26, 1, 4, 17, 2, 1, 9, 17, 1, 6, 17, 14, 13, 14, 20], '200630-102901_pcm_9fa_elicit_24': [68, 17, 25, 18, 22, 7, 16, 22, 18, 1, 14, 23, 16, 5, 5, 1, 23, 22, 5, 21, 1, 14, 17, 2, 1, 51, 10, 19, 1, 12, 10, 1, 13, 14, 17, 1, 22, 8, 1, 37, 14, 22, 38, 17, 1, 13, 14, 1, 15, 7, 10, 8, 1, 10, 13, 7, 1, 17, 26, 17, 8, 2, 1, 18, 22, 26, 19, 36, 1, 4, 17, 1, 12, 10, 1, 12, 17, 23, 1, 23, 18, 17, 1, 14, 23, 7, 10, 26, 12, 1, 8, 16, 26, 19, 1, 23, 10, 1, 14, 17, 7, 38, 17, 1, 22, 8, 1, 4, 17, 5, 5, 1, 4, 16, 23, 18, 10, 13, 23, 1, 15, 17, 22, 7, 20], '200630-102901_pcm_9fa_elicit_25': [40, 26, 19, 1, 4, 17, 1, 12, 10, 1, 18, 10, 5, 19, 1, 22, 8, 1, 23, 16, 12, 18, 23, 1, 22, 26, 19, 1, 19, 17, 2, 1, 25, 5, 17, 22, 26, 1, 15, 10, 7, 1, 16, 8, 1, 17, 2, 17, 1, 17, 38, 17, 7, 2, 19, 22, 2, 20, 31, 57, 13, 21, 17, 1, 61, 27, 60, 29, 36, 1, 60, 65, 20], '200630-102901_pcm_9fa_elicit_26': [68, 17, 25, 18, 22, 7, 16, 22, 18, 1, 14, 23, 16, 5, 5, 1, 23, 22, 5, 21, 1, 22, 9, 10, 13, 23, 1, 16, 8, 1, 3, 16, 21, 16, 26, 1, 14, 17, 2, 27, 1, 37, 56, 13, 23, 1, 22, 14, 1, 15, 10, 7, 1, 2, 10, 13, 1, 23, 18, 16, 14, 1, 3, 16, 21, 16, 26, 36, 1, 19, 17, 8, 1, 12, 10, 1, 25, 22, 5, 5, 1, 2, 10, 13, 1, 3, 7, 10, 3, 18, 17, 23, 1, 10, 15, 1, 23, 18, 17, 1, 24, 10, 14, 23, 1, 54, 16, 12, 18, 36], '200630-102901_pcm_9fa_elicit_27': [9, 17, 25, 22, 13, 14, 17, 1, 2, 10, 13, 1, 12, 10, 1, 19, 17, 2, 1, 6, 17, 18, 10, 38, 22, 18, 1, 15, 7, 10, 26, 23, 1, 23, 10, 1, 3, 7, 17, 3, 22, 7, 17, 1, 16, 8, 1, 7, 10, 22, 19, 36, 1, 23, 10, 1, 23, 17, 22, 25, 18, 1, 16, 8, 1, 3, 17, 10, 3, 5, 17, 1, 14, 17, 2, 1, 17, 1, 12, 10, 1, 14, 22, 38, 17, 1, 19, 17, 8, 1, 4, 18, 17, 26, 1, 17, 1, 19, 10, 26, 1, 15, 10, 7, 12, 16, 38, 17, 1, 23, 18, 17, 16, 7, 1, 14, 16, 26, 36], '200630-102901_pcm_9fa_elicit_28': [9, 17, 25, 22, 13, 14, 17, 1, 10, 13, 7, 1, 51, 10, 19, 1, 12, 17, 23, 1, 14, 10, 15, 23, 1, 8, 16, 26, 19, 20, 1, 56, 17, 25, 22, 13, 14, 17, 1, 10, 15, 1, 23, 18, 16, 14, 1, 14, 10, 15, 23, 1, 8, 16, 26, 19, 36, 1, 8, 10, 7, 26, 16, 26, 12, 1, 5, 16, 12, 18, 23, 1, 12, 10, 1, 38, 16, 14, 16, 23, 1, 13, 14, 1, 15, 7, 10, 8, 1, 18, 17, 22, 38, 17, 26, 36], '200630-102901_pcm_9fa_elicit_29': [23, 10, 1, 12, 16, 38, 17, 1, 5, 16, 12, 18, 23, 1, 23, 10, 1, 3, 17, 10, 3, 5, 17, 1, 4, 17, 2, 1, 14, 16, 23, 19, 10, 4, 26, 1, 16, 26, 14, 16, 19, 17, 1, 19, 22, 7, 21, 26, 17, 14, 14, 1, 22, 26, 19, 1, 14, 18, 22, 19, 10, 4, 1, 10, 15, 1, 19, 17, 22, 23, 18, 20, 1, 40, 26, 19, 1, 23, 10, 1, 8, 22, 21, 17, 1, 10, 13, 7, 1, 5, 17, 12, 1, 4, 22, 21, 22, 1, 15, 10, 7, 1, 4, 18, 17, 7, 17, 1, 3, 17, 22, 25, 17, 1, 19, 17, 2, 20], '200630-102901_pcm_9fa_elicit_30': [31, 1, 33, 57, 13, 21, 17, 1, 61, 27, 60, 69, 62, 60, 32, 30, 1, 50, 17, 23, 16, 26, 1, 68, 17, 25, 18, 22, 7, 16, 22, 18, 1, 23, 22, 5, 21, 1, 26, 10, 1, 14, 4, 17, 17, 23, 1, 2, 10, 13, 1, 15, 10, 7, 1, 8, 16, 26, 19, 52], '200630-102901_pcm_9fa_elicit_31': [42, 10, 4, 1, 24, 22, 7, 2, 1, 19, 10, 26, 1, 7, 17, 22, 25, 18, 1, 18, 10, 13, 14, 17, 20, 1, 28, 38, 17, 7, 2, 9, 10, 19, 2, 1, 21, 26, 10, 4, 1, 14, 17, 2, 1, 17, 1, 26, 17, 38, 17, 7, 1, 8, 22, 7, 7, 2, 20], '200630-102901_pcm_9fa_elicit_32': [11, 10, 1, 4, 17, 23, 16, 26, 1, 12, 10, 1, 18, 22, 3, 3, 17, 26, 1, 23, 10, 1, 22, 8, 1, 4, 18, 17, 26, 1, 3, 17, 10, 3, 5, 17, 1, 14, 17, 17, 1, 14, 17, 2, 1, 17, 1, 12, 17, 23, 1, 9, 17, 5, 5, 17, 52], '200630-102901_pcm_9fa_elicit_33': [24, 22, 7, 2, 1, 9, 17, 5, 5, 17, 1, 19, 10, 26, 1, 7, 17, 22, 25, 18, 1, 15, 10, 13, 7, 1, 8, 10, 26, 23, 18, 14, 1, 26, 10, 4, 20, 1, 47, 17, 8, 17, 8, 9, 17, 7, 1, 14, 17, 2, 1, 26, 22, 1, 4, 18, 17, 26, 1, 24, 22, 7, 2, 1, 26, 17, 4, 5, 2, 1, 12, 17, 23, 1, 23, 18, 17, 1, 9, 17, 5, 5, 17, 1, 17, 1, 12, 10, 1, 38, 16, 14, 16, 23, 1, 28, 5, 16, 49, 22, 9, 17, 23, 18, 36], '200630-102901_pcm_9fa_elicit_34': [16, 8, 1, 15, 22, 8, 16, 5, 2, 1, 8, 17, 8, 9, 17, 7, 1, 4, 17, 2, 1, 19, 17, 2, 1, 5, 16, 38, 17, 1, 15, 10, 7, 1, 23, 18, 17, 1, 14, 10, 13, 23, 18, 1, 3, 22, 7, 23, 1, 10, 15, 1, 6, 13, 19, 17, 22, 20, 1, 42, 10, 4, 1, 17, 1, 19, 10, 26, 1, 12, 10, 1, 9, 22, 25, 21, 1, 23, 10, 1, 42, 22, 49, 22, 7, 17, 23, 18, 20], '200630-102901_pcm_9fa_elicit_35': [53, 17, 10, 3, 5, 17, 1, 12, 10, 1, 14, 10, 10, 26, 1, 21, 26, 10, 4, 1, 14, 17, 2, 1, 17, 1, 12, 17, 23, 1, 9, 17, 5, 5, 17, 20, 1, 46, 18, 16, 14, 1, 8, 22, 23, 23, 17, 7, 1, 7, 17, 22, 5, 5, 2, 1, 19, 17, 2, 1, 4, 10, 7, 7, 2, 1, 24, 22, 7, 2, 1, 15, 10, 7, 1, 8, 16, 26, 19, 20], '200630-102901_pcm_9fa_elicit_36': [50, 17, 23, 16, 26, 1, 8, 22, 21, 17, 1, 23, 18, 17, 1, 8, 22, 23, 23, 17, 7, 1, 17, 38, 17, 26, 1, 9, 22, 19, 1, 4, 17, 5, 5, 1, 4, 17, 5, 5, 1, 9, 17, 1, 14, 17, 2, 36, 1, 24, 22, 7, 2, 1, 19, 10, 26, 1, 22, 5, 7, 17, 22, 19, 2, 1, 12, 17, 23, 1, 3, 17, 7, 14, 10, 26, 1, 4, 17, 2, 1, 17, 1, 4, 22, 26, 23, 1, 8, 22, 7, 7, 2, 20], '200630-102901_pcm_9fa_elicit_37': [42, 22, 1, 10, 26, 17, 1, 25, 22, 7, 3, 17, 26, 23, 17, 7, 1, 4, 17, 2, 1, 16, 8, 1, 26, 22, 8, 17, 1, 26, 22, 1, 6, 10, 14, 17, 3, 18, 20, 1, 40, 26, 19, 1, 15, 10, 7, 1, 23, 18, 17, 1, 5, 22, 4, 1, 4, 17, 2, 1, 51, 10, 19, 1, 12, 16, 38, 17, 1, 34, 14, 7, 22, 17, 5, 1, 3, 17, 10, 3, 5, 17, 1, 23, 18, 22, 23, 1, 23, 16, 8, 17, 36], '200630-102901_pcm_9fa_elicit_39': [33, 39, 17, 13, 23, 17, 7, 10, 26, 10, 8, 2, 1, 43, 43, 27, 43, 35, 36, 1, 43, 29, 30, 1, 42, 22, 1, 23, 7, 13, 17, 1, 14, 17, 2, 1, 24, 22, 7, 2, 1, 26, 10, 1, 14, 5, 17, 17, 3, 1, 4, 16, 23, 18, 1, 22, 26, 2, 1, 8, 22, 26, 36, 1, 9, 13, 23, 1, 18, 10, 4, 1, 17, 1, 12, 10, 1, 23, 22, 21, 17, 1, 17, 45, 3, 5, 22, 16, 26, 1, 23, 18, 17, 1, 8, 22, 23, 23, 17, 7, 1, 23, 10, 1, 6, 10, 14, 17, 3, 18, 36], '200630-102901_pcm_9fa_elicit_40': [22, 26, 19, 1, 4, 17, 23, 16, 26, 1, 12, 10, 1, 25, 10, 8, 17, 1, 18, 22, 3, 3, 17, 26, 52, 1, 40, 5, 5, 1, 23, 18, 16, 14, 1, 23, 18, 16, 26, 12, 14, 1, 15, 16, 23, 1, 19, 17, 2, 1, 4, 10, 7, 7, 2, 1, 22, 8, 20], '200630-102901_pcm_9fa_elicit_41': [50, 17, 1, 21, 26, 10, 4, 1, 14, 17, 2, 1, 6, 10, 14, 17, 3, 18, 1, 7, 17, 22, 5, 5, 2, 1, 19, 17, 2, 1, 4, 22, 16, 23, 1, 23, 10, 1, 14, 17, 17, 1, 24, 22, 7, 2, 1, 22, 12, 22, 16, 26, 36, 1, 9, 17, 25, 22, 13, 14, 17, 1, 24, 22, 7, 2, 1, 19, 10, 26, 1, 23, 7, 22, 38, 17, 5, 1, 15, 10, 7, 1, 23, 18, 7, 17, 17, 1, 8, 10, 26, 23, 18, 14, 1, 26, 10, 4, 20], '200630-102901_pcm_9fa_elicit_42': [50, 18, 17, 26, 1, 24, 22, 7, 2, 1, 14, 17, 17, 1, 6, 10, 14, 17, 3, 18, 36, 1, 17, 1, 23, 17, 5, 5, 1, 22, 8, 1, 14, 17, 2, 1, 17, 1, 12, 17, 23, 1, 9, 17, 5, 5, 17, 20, 1, 28, 1, 23, 7, 2, 1, 4, 17, 5, 5, 1, 4, 17, 5, 5, 1, 23, 10, 1, 17, 45, 3, 5, 22, 16, 26, 1, 23, 10, 1, 22, 8, 1, 14, 17, 2, 1, 26, 22, 1, 51, 10, 19, 1, 13, 14, 17, 1, 16, 8, 1, 18, 10, 5, 2, 1, 14, 3, 16, 7, 16, 23, 1, 3, 13, 23, 1, 23, 18, 17, 1, 3, 16, 21, 16, 26, 1, 15, 10, 7, 1, 16, 8, 1, 9, 17, 5, 5, 17, 20], '200630-102901_pcm_9fa_elicit_43': [56, 13, 23, 1, 17, 1, 7, 17, 22, 5, 5, 2, 1, 18, 22, 7, 19, 1, 6, 10, 14, 17, 3, 18, 1, 23, 10, 1, 9, 17, 5, 16, 17, 38, 17, 1, 4, 17, 23, 16, 26, 1, 24, 22, 7, 2, 1, 23, 17, 5, 5, 1, 22, 8, 20, 1, 28, 1, 18, 22, 7, 19, 1, 22, 8, 1, 23, 10, 1, 13, 26, 19, 17, 7, 14, 23, 22, 26, 19, 20], '200630-102901_pcm_9fa_elicit_44': [6, 10, 14, 17, 3, 18, 1, 21, 26, 10, 4, 1, 14, 17, 2, 1, 24, 22, 7, 2, 1, 26, 22, 1, 12, 10, 10, 19, 1, 4, 10, 8, 22, 26, 1, 4, 17, 2, 1, 12, 17, 23, 1, 9, 17, 23, 23, 17, 7, 1, 25, 18, 22, 7, 22, 25, 23, 17, 7, 20, 1, 40, 26, 19, 1, 17, 1, 7, 17, 22, 5, 5, 2, 1, 5, 10, 38, 17, 1, 24, 22, 7, 2, 20], '200630-102901_pcm_9fa_elicit_45': [56, 13, 23, 1, 17, 38, 17, 26, 1, 22, 15, 23, 17, 7, 1, 24, 22, 7, 2, 1, 19, 10, 26, 1, 17, 45, 3, 5, 22, 16, 26, 1, 23, 10, 1, 22, 8, 36, 1, 6, 10, 14, 17, 3, 18, 1, 14, 23, 16, 5, 5, 1, 19, 17, 2, 1, 23, 18, 16, 26, 21, 1, 14, 17, 2, 1, 24, 22, 7, 2, 1, 26, 10, 1, 15, 16, 23, 1, 12, 17, 23, 1, 9, 17, 5, 5, 17, 1, 16, 15, 1, 17, 1, 26, 10, 1, 14, 5, 17, 17, 3, 1, 4, 16, 23, 18, 1, 8, 22, 26, 20], '200630-102901_pcm_9fa_elicit_46': [6, 10, 14, 17, 3, 18, 1, 26, 10, 1, 4, 22, 26, 23, 1, 8, 22, 21, 17, 1, 19, 17, 8, 1, 21, 16, 5, 5, 1, 24, 22, 7, 2, 1, 10, 7, 1, 19, 16, 14, 12, 7, 22, 25, 17, 1, 22, 8, 1, 15, 10, 7, 1, 23, 18, 17, 1, 4, 18, 10, 5, 17, 1, 23, 10, 4, 26, 20, 1, 11, 10, 1, 17, 1, 23, 17, 5, 5, 1, 16, 8, 14, 17, 5, 15, 1, 14, 17, 2, 1, 17, 1, 26, 10, 1, 12, 10, 1, 8, 22, 7, 7, 2, 1, 24, 22, 7, 2, 1, 22, 12, 22, 16, 26, 20]}\n",
            "Saved cache file at /content/drive/My Drive/PidginSpeech/records/train/_seqs_cache.txt\n"
          ],
          "name": "stdout"
        },
        {
          "output_type": "stream",
          "text": [
            "\n"
          ],
          "name": "stderr"
        },
        {
          "output_type": "stream",
          "text": [
            "Checking length...\n"
          ],
          "name": "stdout"
        },
        {
          "output_type": "stream",
          "text": [
            "379it [00:00, 120555.23it/s]\n"
          ],
          "name": "stderr"
        },
        {
          "output_type": "stream",
          "text": [
            "Done, elapsed: 0.285 seconds\n",
            "Scanned 379 sequences in 0.29 seconds\n",
            "1 chunks computed\n",
            "Joining pool\n"
          ],
          "name": "stdout"
        },
        {
          "output_type": "stream",
          "text": [
            "1it [00:00, 49.00it/s]"
          ],
          "name": "stderr"
        },
        {
          "output_type": "stream",
          "text": [
            "Joined process, elapsed=1.071 secs\n",
            "Saved cache file at /content/drive/My Drive/PidginSpeech/records/val/_seqs_cache.txt\n"
          ],
          "name": "stdout"
        },
        {
          "output_type": "stream",
          "text": [
            "\n",
            "94it [00:00, 249219.07it/s]"
          ],
          "name": "stderr"
        },
        {
          "output_type": "stream",
          "text": [
            "Checking length...\n",
            "Done, elapsed: 0.101 seconds\n",
            "Scanned 94 sequences in 0.10 seconds\n",
            "1 chunks computed\n",
            "Joining pool\n"
          ],
          "name": "stdout"
        },
        {
          "output_type": "stream",
          "text": [
            "\n"
          ],
          "name": "stderr"
        },
        {
          "output_type": "stream",
          "text": [
            "Joined process, elapsed=0.357 secs\n"
          ],
          "name": "stdout"
        }
      ]
    },
    {
      "cell_type": "markdown",
      "metadata": {
        "colab_type": "text",
        "id": "xkKi-qfosng2"
      },
      "source": [
        "Then we will use a simple linear classifier to recognize the phonemes from the features produced by ```cpc_model```. \n",
        "\n",
        "### a) Build the phone classifier \n",
        "\n",
        "Design a class of linear classifiers, ```PhoneClassifier``` that will take as input a batch of sequences of CPC features and output a score vector for each phoneme"
      ]
    },
    {
      "cell_type": "code",
      "metadata": {
        "colab_type": "code",
        "id": "4RpAbz-0CXJJ",
        "colab": {}
      },
      "source": [
        "class PhoneClassifier(torch.nn.Module):\n",
        "\n",
        "  def __init__(self,\n",
        "               input_dim : int,\n",
        "               n_phones : int):\n",
        "    super(PhoneClassifier, self).__init__()\n",
        "    self.linear = torch.nn.Linear(input_dim, n_phones)\n",
        "    \n",
        "\n",
        "  def forward(self, x):\n",
        "    return self.linear(x)"
      ],
      "execution_count": 27,
      "outputs": []
    },
    {
      "cell_type": "markdown",
      "metadata": {
        "colab_type": "text",
        "id": "Zt5oa_nqtH-d"
      },
      "source": [
        "Our phone classifier will then be:"
      ]
    },
    {
      "cell_type": "code",
      "metadata": {
        "colab_type": "code",
        "id": "NRBf_83IuLv5",
        "colab": {}
      },
      "source": [
        "phone_classifier = PhoneClassifier(HIDDEN_CONTEXT_MODEL, N_PHONES).to(device)"
      ],
      "execution_count": 28,
      "outputs": []
    },
    {
      "cell_type": "markdown",
      "metadata": {
        "colab_type": "text",
        "id": "z_Vf5AbUhqm4"
      },
      "source": [
        "### b - What would be the correct loss criterion for this task ?\n",
        "\n"
      ]
    },
    {
      "cell_type": "code",
      "metadata": {
        "colab_type": "code",
        "id": "uhyPM-cgjrtw",
        "colab": {}
      },
      "source": [
        "loss_criterion = torch.nn.CrossEntropyLoss()"
      ],
      "execution_count": 29,
      "outputs": []
    },
    {
      "cell_type": "markdown",
      "metadata": {
        "colab_type": "text",
        "id": "Nv4cSxbaplrz"
      },
      "source": [
        "To perform the fine-tuning, we will also need an optimization function.\n",
        "\n",
        "We will use an [Adam optimizer ](https://pytorch.org/docs/stable/optim.html#torch.optim.Adam)."
      ]
    },
    {
      "cell_type": "code",
      "metadata": {
        "colab_type": "code",
        "id": "W5CgYyAlqKxu",
        "colab": {}
      },
      "source": [
        "parameters = list(phone_classifier.parameters()) + list(cpc_model.parameters())\n",
        "LEARNING_RATE = 2e-4\n",
        "optimizer = torch.optim.Adam(parameters, lr=LEARNING_RATE)"
      ],
      "execution_count": 30,
      "outputs": []
    },
    {
      "cell_type": "markdown",
      "metadata": {
        "colab_type": "text",
        "id": "qQB9HS9PvAXc"
      },
      "source": [
        "You might also want to perform this training while freezing the weights of the ```cpc_model```. Indeed, if the pre-training was good enough, then ```cpc_model``` phonemes representation should be linearly separable. In this case the optimizer should be defined like this:"
      ]
    },
    {
      "cell_type": "code",
      "metadata": {
        "colab_type": "code",
        "id": "nRy0gn6awGUQ",
        "colab": {}
      },
      "source": [
        "optimizer_frozen = torch.optim.Adam(list(phone_classifier.parameters()), lr=LEARNING_RATE)"
      ],
      "execution_count": 31,
      "outputs": []
    },
    {
      "cell_type": "markdown",
      "metadata": {
        "colab_type": "text",
        "id": "cO93ngIfj4JW"
      },
      "source": [
        "### c- Now let's build a training loop. \n",
        "Complete the function ```train_one_epoch``` below.\n",
        "\n"
      ]
    },
    {
      "cell_type": "code",
      "metadata": {
        "colab_type": "code",
        "id": "fabqj3wvLwgU",
        "colab": {}
      },
      "source": [
        "def train_one_epoch(cpc_model, \n",
        "                    phone_classifier, \n",
        "                    loss_criterion, \n",
        "                    data_loader, \n",
        "                    optimizer):\n",
        "\n",
        "  cpc_model.train()\n",
        "  loss_criterion.train()\n",
        "\n",
        "  avg_loss = 0\n",
        "  avg_accuracy = 0\n",
        "  n_items = 0\n",
        "  for step, full_data in enumerate(data_loader):\n",
        "    # Each batch is represented by a Tuple of vectors:\n",
        "    # sequence of size : N x 1 x T\n",
        "    # label of size : N x T\n",
        "    # \n",
        "    # With :\n",
        "    # - N number of sequence in the batch\n",
        "    # - T size of each sequence\n",
        "    sequence, label = full_data\n",
        "    \n",
        "    \n",
        "\n",
        "    bs = len(sequence)\n",
        "    seq_len = label.size(1)\n",
        "    optimizer.zero_grad()\n",
        "    context_out, enc_out, _ = cpc_model(sequence.to(device),label.to(device))\n",
        "\n",
        "    scores = phone_classifier(context_out)\n",
        "\n",
        "    scores = scores.permute(0,2,1)\n",
        "    loss = loss_criterion(scores,label.to(device))\n",
        "    loss.backward()\n",
        "    optimizer.step()\n",
        "    avg_loss+=loss.item()*bs\n",
        "    n_items+=bs\n",
        "    correct_labels = scores.argmax(1)\n",
        "    avg_accuracy += ((label==correct_labels.cpu()).float()).mean(1).sum().item()\n",
        "  avg_loss/=n_items\n",
        "  avg_accuracy/=n_items\n",
        "  return avg_loss, avg_accuracy\n",
        "    "
      ],
      "execution_count": 32,
      "outputs": []
    },
    {
      "cell_type": "markdown",
      "metadata": {
        "colab_type": "text",
        "id": "quYtjx_TxIPK"
      },
      "source": [
        "Don't forget to test it !"
      ]
    },
    {
      "cell_type": "code",
      "metadata": {
        "colab_type": "code",
        "id": "50MwxbKhxMKp",
        "colab": {}
      },
      "source": [
        "avg_loss, avg_accuracy = train_one_epoch(cpc_model, phone_classifier, loss_criterion, data_loader_train, optimizer_frozen)"
      ],
      "execution_count": 33,
      "outputs": []
    },
    {
      "cell_type": "code",
      "metadata": {
        "colab_type": "code",
        "id": "_o6yk8XKWnYe",
        "colab": {
          "base_uri": "https://localhost:8080/",
          "height": 34
        },
        "outputId": "4f26d975-5388-4564-b7f3-288528b25805"
      },
      "source": [
        "avg_loss, avg_accuracy"
      ],
      "execution_count": 34,
      "outputs": [
        {
          "output_type": "execute_result",
          "data": {
            "text/plain": [
              "(4.300448039482379, 0.02771417025862069)"
            ]
          },
          "metadata": {
            "tags": []
          },
          "execution_count": 34
        }
      ]
    },
    {
      "cell_type": "markdown",
      "metadata": {
        "colab_type": "text",
        "id": "EmUkuJ2bwu4Z"
      },
      "source": [
        "### d- Build the validation loop"
      ]
    },
    {
      "cell_type": "code",
      "metadata": {
        "colab_type": "code",
        "id": "kZJMxj6cwzd3",
        "colab": {}
      },
      "source": [
        "def validation_step(cpc_model, \n",
        "                    phone_classifier, \n",
        "                    loss_criterion, \n",
        "                    data_loader):\n",
        "  \n",
        "  cpc_model.eval()\n",
        "  phone_classifier.eval()\n",
        "\n",
        "  avg_loss = 0\n",
        "  avg_accuracy = 0\n",
        "  n_items = 0\n",
        "  with torch.no_grad():\n",
        "    for step, full_data in enumerate(data_loader):\n",
        "      # Each batch is represented by a Tuple of vectors:\n",
        "      # sequence of size : N x 1 x T\n",
        "      # label of size : N x T\n",
        "      # \n",
        "      # With :\n",
        "      # - N number of sequence in the batch\n",
        "      # - T size of each sequence\n",
        "      sequence, label = full_data\n",
        "      bs = len(sequence)\n",
        "      seq_len = label.size(1)\n",
        "      context_out, enc_out, _ = cpc_model(sequence.to(device),label.to(device))\n",
        "      scores = phone_classifier(context_out)\n",
        "      scores = scores.permute(0,2,1)\n",
        "      loss = loss_criterion(scores,label.to(device))\n",
        "      avg_loss+=loss.item()*bs\n",
        "      n_items+=bs\n",
        "      correct_labels = scores.argmax(1)\n",
        "      avg_accuracy += ((label==correct_labels.cpu()).float()).mean(1).sum().item()\n",
        "  avg_loss/=n_items\n",
        "  avg_accuracy/=n_items\n",
        "  return avg_loss, avg_accuracy"
      ],
      "execution_count": 35,
      "outputs": []
    },
    {
      "cell_type": "markdown",
      "metadata": {
        "colab_type": "text",
        "id": "vownVCt7xbVh"
      },
      "source": [
        "### e- Run everything\n",
        "\n",
        "Test this functiion with both ```optimizer``` and ```optimizer_frozen```."
      ]
    },
    {
      "cell_type": "code",
      "metadata": {
        "colab_type": "code",
        "id": "xvO_4nKUxfQx",
        "colab": {}
      },
      "source": [
        "def run(cpc_model, \n",
        "        phone_classifier, \n",
        "        loss_criterion, \n",
        "        data_loader_train, \n",
        "        data_loader_val, \n",
        "        optimizer,\n",
        "        n_epoch):\n",
        "\n",
        "  for epoch in range(n_epoch):\n",
        "\n",
        "    print(f\"Running epoch {epoch + 1} / {n_epoch}\")\n",
        "    loss_train, acc_train = train_one_epoch(cpc_model, phone_classifier, loss_criterion, data_loader_train, optimizer)\n",
        "    print(\"-------------------\")\n",
        "    print(f\"Training dataset :\")\n",
        "    print(f\"Average loss : {loss_train}. Average accuracy {acc_train}\")\n",
        "\n",
        "    print(\"-------------------\")\n",
        "    print(\"Validation dataset\")\n",
        "    loss_val, acc_val = validation_step(cpc_model, phone_classifier, loss_criterion, data_loader_val)\n",
        "    print(f\"Average loss : {loss_val}. Average accuracy {acc_val}\")\n",
        "    print(\"-------------------\")\n",
        "    print()"
      ],
      "execution_count": 36,
      "outputs": []
    },
    {
      "cell_type": "code",
      "metadata": {
        "colab_type": "code",
        "id": "ceCEO2h2bxAn",
        "colab": {
          "base_uri": "https://localhost:8080/",
          "height": 1000
        },
        "outputId": "fc39b620-f10d-4c5f-820d-a727f537099c"
      },
      "source": [
        "run(cpc_model,phone_classifier,loss_criterion,data_loader_train,data_loader_val,optimizer_frozen,n_epoch=10)"
      ],
      "execution_count": 37,
      "outputs": [
        {
          "output_type": "stream",
          "text": [
            "Running epoch 1 / 10\n",
            "-------------------\n",
            "Training dataset :\n",
            "Average loss : 4.101503980570826. Average accuracy 0.053205818965517244\n",
            "-------------------\n",
            "Validation dataset\n",
            "Average loss : 4.014748641422817. Average accuracy 0.052734375\n",
            "-------------------\n",
            "\n",
            "Running epoch 2 / 10\n",
            "-------------------\n",
            "Training dataset :\n",
            "Average loss : 3.9334722469592918. Average accuracy 0.057314116379310345\n",
            "-------------------\n",
            "Validation dataset\n",
            "Average loss : 3.868110248020717. Average accuracy 0.05482700892857143\n",
            "-------------------\n",
            "\n",
            "Running epoch 3 / 10\n",
            "-------------------\n",
            "Training dataset :\n",
            "Average loss : 3.792913264241712. Average accuracy 0.05862742456896552\n",
            "-------------------\n",
            "Validation dataset\n",
            "Average loss : 3.7432546615600586. Average accuracy 0.057896205357142856\n",
            "-------------------\n",
            "\n",
            "Running epoch 4 / 10\n",
            "-------------------\n",
            "Training dataset :\n",
            "Average loss : 3.6782213572798104. Average accuracy 0.06041217672413793\n",
            "-------------------\n",
            "Validation dataset\n",
            "Average loss : 3.6436939920697893. Average accuracy 0.06263950892857142\n",
            "-------------------\n",
            "\n",
            "Running epoch 5 / 10\n",
            "-------------------\n",
            "Training dataset :\n",
            "Average loss : 3.5832488783474625. Average accuracy 0.0755994073275862\n",
            "-------------------\n",
            "Validation dataset\n",
            "Average loss : 3.5544798033578053. Average accuracy 0.09612165178571429\n",
            "-------------------\n",
            "\n",
            "Running epoch 6 / 10\n",
            "-------------------\n",
            "Training dataset :\n",
            "Average loss : 3.5063610570184114. Average accuracy 0.1287378771551724\n",
            "-------------------\n",
            "Validation dataset\n",
            "Average loss : 3.491436038698469. Average accuracy 0.14634486607142858\n",
            "-------------------\n",
            "\n",
            "Running epoch 7 / 10\n",
            "-------------------\n",
            "Training dataset :\n",
            "Average loss : 3.4407443095897805. Average accuracy 0.16500538793103448\n",
            "-------------------\n",
            "Validation dataset\n",
            "Average loss : 3.4290012632097517. Average accuracy 0.16643415178571427\n",
            "-------------------\n",
            "\n",
            "Running epoch 8 / 10\n",
            "-------------------\n",
            "Training dataset :\n",
            "Average loss : 3.388541813554435. Average accuracy 0.17349137931034483\n",
            "-------------------\n",
            "Validation dataset\n",
            "Average loss : 3.3842152186802457. Average accuracy 0.17327008928571427\n",
            "-------------------\n",
            "\n",
            "Running epoch 9 / 10\n",
            "-------------------\n",
            "Training dataset :\n",
            "Average loss : 3.343233009864544. Average accuracy 0.1781721443965517\n",
            "-------------------\n",
            "Validation dataset\n",
            "Average loss : 3.344113860811506. Average accuracy 0.17633928571428573\n",
            "-------------------\n",
            "\n",
            "Running epoch 10 / 10\n",
            "-------------------\n",
            "Training dataset :\n",
            "Average loss : 3.3107476809929155. Average accuracy 0.17881196120689655\n",
            "-------------------\n",
            "Validation dataset\n",
            "Average loss : 3.3056671960013255. Average accuracy 0.17606026785714285\n",
            "-------------------\n",
            "\n"
          ],
          "name": "stdout"
        }
      ]
    },
    {
      "cell_type": "markdown",
      "metadata": {
        "colab_type": "text",
        "id": "TdfWDiFnylMT"
      },
      "source": [
        "## Exercise 2 : Phone separability without alignment (PER)\n",
        "\n",
        "Aligned data are very practical, but un real life they are rarely available. That's why in this excercise we will consider a fine-tuning with non-aligned phonemes.\n",
        "\n",
        "The model, the optimizer and the phone classifier will stay the same. However, we will replace our phone criterion with a [CTC loss](https://pytorch.org/docs/master/generated/torch.nn.CTCLoss.html). "
      ]
    },
    {
      "cell_type": "code",
      "metadata": {
        "colab_type": "code",
        "id": "_9BpM_Lpzgx8",
        "colab": {}
      },
      "source": [
        "loss_ctc = torch.nn.CTCLoss()"
      ],
      "execution_count": 39,
      "outputs": []
    },
    {
      "cell_type": "markdown",
      "metadata": {
        "colab_type": "text",
        "id": "AQpYgTyfzsrq"
      },
      "source": [
        "Besides, we will use a siglthy different dataset class."
      ]
    },
    {
      "cell_type": "code",
      "metadata": {
        "colab_type": "code",
        "id": "9HRxoatlz3ZZ",
        "colab": {
          "base_uri": "https://localhost:8080/",
          "height": 275
        },
        "outputId": "70cb6c40-86b6-4842-fb28-454da9a87729"
      },
      "source": [
        "from cpc.eval.common_voices_eval import SingleSequenceDataset, parseSeqLabels, findAllSeqs\n",
        "path_train_data_per = test_dir\n",
        "path_val_data_per = val_dir\n",
        "path_phone_data_per = data_dir + '/chars.txt'\n",
        "BATCH_SIZE=8\n",
        "\n",
        "phone_labels, N_PHONES = parseSeqLabels(path_phone_data_per)\n",
        "data_train_per, _ = findAllSeqs(path_train_data_per, extension='.wav')\n",
        "dataset_train_non_aligned = SingleSequenceDataset(path_train_data_per, data_train_per, phone_labels)\n",
        "data_loader_train = torch.utils.data.DataLoader(dataset_train_non_aligned, batch_size=BATCH_SIZE,\n",
        "                                                shuffle=True)\n",
        "\n",
        "data_val_per, _ = findAllSeqs(path_val_data_per, extension='.wav')\n",
        "dataset_val_non_aligned = SingleSequenceDataset(path_val_data_per, data_val_per, phone_labels)\n",
        "data_loader_val = torch.utils.data.DataLoader(dataset_val_non_aligned, batch_size=BATCH_SIZE,\n",
        "                                              shuffle=True)\n"
      ],
      "execution_count": 40,
      "outputs": [
        {
          "output_type": "stream",
          "text": [
            "1it [00:00, 147.06it/s]"
          ],
          "name": "stderr"
        },
        {
          "output_type": "stream",
          "text": [
            "Saved cache file at /content/drive/My Drive/PidginSpeech/records/test/_seqs_cache.txt\n"
          ],
          "name": "stdout"
        },
        {
          "output_type": "stream",
          "text": [
            "\n",
            "1it [00:00, 200.85it/s]"
          ],
          "name": "stderr"
        },
        {
          "output_type": "stream",
          "text": [
            "Loaded 473 sequences in 23.88 seconds\n",
            "maxSizeSeq : 316173\n",
            "maxSizePhone : 192\n",
            "minSizePhone : 20\n",
            "Total size dataset 1.1029463194444444 hours\n",
            "Saved cache file at /content/drive/My Drive/PidginSpeech/records/val/_seqs_cache.txt\n"
          ],
          "name": "stdout"
        },
        {
          "output_type": "stream",
          "text": [
            "\n"
          ],
          "name": "stderr"
        },
        {
          "output_type": "stream",
          "text": [
            "Loaded 95 sequences in 1.59 seconds\n",
            "maxSizeSeq : 226149\n",
            "maxSizePhone : 140\n",
            "minSizePhone : 34\n",
            "Total size dataset 0.22277463541666667 hours\n"
          ],
          "name": "stdout"
        }
      ]
    },
    {
      "cell_type": "markdown",
      "metadata": {
        "colab_type": "text",
        "id": "GwAckY62z7s9"
      },
      "source": [
        "### a- Training\n",
        "\n",
        "Since the phonemes are not aligned, there is no simple direct way to get the classification acuracy of a model. Write and test the three functions ```train_one_epoch_ctc```, ```validation_step_ctc``` and ```run_ctc``` as before but without considering the average acuracy of the model. "
      ]
    },
    {
      "cell_type": "code",
      "metadata": {
        "colab_type": "code",
        "id": "oYg5YzW8EHl4",
        "colab": {
          "base_uri": "https://localhost:8080/",
          "height": 51
        },
        "outputId": "8a373c8e-283a-40a4-a78e-af3626a453b0"
      },
      "source": [
        "from cpc.feature_loader import loadModel\n",
        "\n",
        "checkpoint_path = 'checkpoint_data/checkpoint_30.pt'\n",
        "cpc_model, HIDDEN_CONTEXT_MODEL, HIDDEN_ENCODER_MODEL = loadModel([checkpoint_path])\n",
        "cpc_model = cpc_model.cuda()\n",
        "phone_classifier = PhoneClassifier(HIDDEN_CONTEXT_MODEL, N_PHONES).to(device)"
      ],
      "execution_count": 41,
      "outputs": [
        {
          "output_type": "stream",
          "text": [
            "Loading checkpoint checkpoint_data/checkpoint_30.pt\n",
            "Loading the state dict at checkpoint_data/checkpoint_30.pt\n"
          ],
          "name": "stdout"
        }
      ]
    },
    {
      "cell_type": "code",
      "metadata": {
        "colab_type": "code",
        "id": "CFQ2g3PjErdZ",
        "colab": {}
      },
      "source": [
        "parameters = list(phone_classifier.parameters()) + list(cpc_model.parameters())\n",
        "LEARNING_RATE = 2e-4\n",
        "optimizer = torch.optim.Adam(parameters, lr=LEARNING_RATE)\n",
        "\n",
        "optimizer_frozen = torch.optim.Adam(list(phone_classifier.parameters()), lr=LEARNING_RATE)"
      ],
      "execution_count": 42,
      "outputs": []
    },
    {
      "cell_type": "code",
      "metadata": {
        "colab_type": "code",
        "id": "Zsgjv3cD0oqD",
        "colab": {}
      },
      "source": [
        "import torch.nn.functional as F\n",
        "\n",
        "def train_one_epoch_ctc(cpc_model, \n",
        "                        phone_classifier, \n",
        "                        loss_criterion, \n",
        "                        data_loader, \n",
        "                        optimizer):\n",
        "  \n",
        "  cpc_model.train()\n",
        "  loss_criterion.train()\n",
        "\n",
        "  avg_loss = 0\n",
        "  avg_accuracy = 0\n",
        "  n_items = 0\n",
        "  for step, full_data in enumerate(data_loader):\n",
        "\n",
        "    x, x_len, y, y_len = full_data\n",
        "\n",
        "    x_batch_len = x.shape[-1]\n",
        "    x, y = x.to(device), y.to(device)\n",
        "\n",
        "    bs=x.size(0)\n",
        "    optimizer.zero_grad()\n",
        "    context_out, enc_out, _ = cpc_model(x.to(device),y.to(device))\n",
        "  \n",
        "    scores = phone_classifier(context_out)\n",
        "    scores = scores.permute(1,0,2)\n",
        "    scores = F.log_softmax(scores,2)\n",
        "    yhat_len = torch.tensor([int(scores.shape[0]*x_len[i]/x_batch_len) for i in range(scores.shape[1])]) # this is an approximation, should be good enough\n",
        "\n",
        "    loss = loss_criterion(scores,y.to(device),yhat_len,y_len)\n",
        "    loss.backward()\n",
        "    optimizer.step()\n",
        "    avg_loss+=loss.item()*bs\n",
        "    n_items+=bs\n",
        "  avg_loss/=n_items\n",
        "  return avg_loss\n",
        "\n",
        "def validation_step(cpc_model, \n",
        "                    phone_classifier, \n",
        "                    loss_criterion, \n",
        "                    data_loader):\n",
        "\n",
        "  cpc_model.eval()\n",
        "  phone_classifier.eval()\n",
        "  avg_loss = 0\n",
        "  avg_accuracy = 0\n",
        "  n_items = 0\n",
        "  with torch.no_grad():\n",
        "    for step, full_data in enumerate(data_loader):\n",
        "\n",
        "      x, x_len, y, y_len = full_data\n",
        "\n",
        "      x_batch_len = x.shape[-1]\n",
        "      x, y = x.to(device), y.to(device)\n",
        "\n",
        "      bs=x.size(0)\n",
        "      context_out, enc_out, _ = cpc_model(x.to(device),y.to(device))\n",
        "    \n",
        "      scores = phone_classifier(context_out)\n",
        "      scores = scores.permute(1,0,2)\n",
        "      scores = F.log_softmax(scores,2)\n",
        "      yhat_len = torch.tensor([int(scores.shape[0]*x_len[i]/x_batch_len) for i in range(scores.shape[1])]) # this is an approximation, should be good enough\n",
        "\n",
        "      loss = loss_criterion(scores,y.to(device),yhat_len,y_len)\n",
        "      avg_loss+=loss.item()*bs\n",
        "      n_items+=bs\n",
        "  avg_loss/=n_items\n",
        "\n",
        "  return avg_loss\n",
        "\n",
        "def run_ctc(cpc_model, \n",
        "            phone_classifier, \n",
        "            loss_criterion, \n",
        "            data_loader_train, \n",
        "            data_loader_val, \n",
        "            optimizer,\n",
        "            n_epoch):\n",
        "  for epoch in range(n_epoch):\n",
        "\n",
        "    print(f\"Running epoch {epoch + 1} / {n_epoch}\")\n",
        "    loss_train = train_one_epoch_ctc(cpc_model, phone_classifier, loss_criterion, data_loader_train, optimizer)\n",
        "    print(\"-------------------\")\n",
        "    print(f\"Training dataset :\")\n",
        "    print(f\"Average loss : {loss_train}.\")\n",
        "\n",
        "    print(\"-------------------\")\n",
        "    print(\"Validation dataset\")\n",
        "    loss_val = validation_step(cpc_model, phone_classifier, loss_criterion, data_loader_val)\n",
        "    print(f\"Average loss : {loss_val}\")\n",
        "    print(\"-------------------\")\n",
        "    print()"
      ],
      "execution_count": 43,
      "outputs": []
    },
    {
      "cell_type": "code",
      "metadata": {
        "colab_type": "code",
        "id": "GSr7tcUdD72c",
        "colab": {
          "base_uri": "https://localhost:8080/",
          "height": 1000
        },
        "outputId": "0a525adf-ab9d-42e8-8882-7fe7bae3e703"
      },
      "source": [
        "run_ctc(cpc_model,phone_classifier,loss_ctc,data_loader_train,data_loader_val,optimizer_frozen,n_epoch=10)"
      ],
      "execution_count": 44,
      "outputs": [
        {
          "output_type": "stream",
          "text": [
            "Running epoch 1 / 10\n",
            "-------------------\n",
            "Training dataset :\n",
            "Average loss : 37.65364074707031.\n",
            "-------------------\n",
            "Validation dataset\n",
            "Average loss : 33.79923832670171\n",
            "-------------------\n",
            "\n",
            "Running epoch 2 / 10\n",
            "-------------------\n",
            "Training dataset :\n",
            "Average loss : 31.858370150549938.\n",
            "-------------------\n",
            "Validation dataset\n",
            "Average loss : 28.104759378636135\n",
            "-------------------\n",
            "\n",
            "Running epoch 3 / 10\n",
            "-------------------\n",
            "Training dataset :\n",
            "Average loss : 25.867438332509185.\n",
            "-------------------\n",
            "Validation dataset\n",
            "Average loss : 22.35495628194606\n",
            "-------------------\n",
            "\n",
            "Running epoch 4 / 10\n",
            "-------------------\n",
            "Training dataset :\n",
            "Average loss : 20.166560383166296.\n",
            "-------------------\n",
            "Validation dataset\n",
            "Average loss : 17.26606093061731\n",
            "-------------------\n",
            "\n",
            "Running epoch 5 / 10\n",
            "-------------------\n",
            "Training dataset :\n",
            "Average loss : 15.55047143515894.\n",
            "-------------------\n",
            "Validation dataset\n",
            "Average loss : 13.454567706331293\n",
            "-------------------\n",
            "\n",
            "Running epoch 6 / 10\n",
            "-------------------\n",
            "Training dataset :\n",
            "Average loss : 12.28218351784399.\n",
            "-------------------\n",
            "Validation dataset\n",
            "Average loss : 10.879266191036143\n",
            "-------------------\n",
            "\n",
            "Running epoch 7 / 10\n",
            "-------------------\n",
            "Training dataset :\n",
            "Average loss : 10.105640831640212.\n",
            "-------------------\n",
            "Validation dataset\n",
            "Average loss : 9.164311855397326\n",
            "-------------------\n",
            "\n",
            "Running epoch 8 / 10\n",
            "-------------------\n",
            "Training dataset :\n",
            "Average loss : 8.656418905419818.\n",
            "-------------------\n",
            "Validation dataset\n",
            "Average loss : 8.004818571374772\n",
            "-------------------\n",
            "\n",
            "Running epoch 9 / 10\n",
            "-------------------\n",
            "Training dataset :\n",
            "Average loss : 7.662299115779036.\n",
            "-------------------\n",
            "Validation dataset\n",
            "Average loss : 7.190797704331418\n",
            "-------------------\n",
            "\n",
            "Running epoch 10 / 10\n",
            "-------------------\n",
            "Training dataset :\n",
            "Average loss : 6.950564457198321.\n",
            "-------------------\n",
            "Validation dataset\n",
            "Average loss : 6.598749140475658\n",
            "-------------------\n",
            "\n"
          ],
          "name": "stdout"
        }
      ]
    },
    {
      "cell_type": "markdown",
      "metadata": {
        "colab_type": "text",
        "id": "TKrYW4gK1BBF"
      },
      "source": [
        "### b- Evaluation: the Phone Error Rate (PER)\n",
        "\n",
        "In order to compute the similarity between two sequences, we can use the [Levenshtein distance](https://en.wikipedia.org/wiki/Levenshtein_distance). This distance estimates the minimum number of insertion, deletion and addition to move from one sequence to another. If we normalize this distance by the number of characters in the reference sequence we get the Phone Error Rate (PER).\n",
        "\n",
        "This value can be interpreted as :\n",
        "\\\\[  PER = \\frac{S + D + I}{N} \\\\]\n",
        "\n",
        "Where:\n",
        "\n",
        "\n",
        "*   N is the number of characters in the reference\n",
        "*   S is the number of substitutiion\n",
        "*   I in the number of insertion\n",
        "*   D in the number of deletion\n",
        "\n",
        "For the best possible alignment of the two sequences.\n",
        "\n"
      ]
    },
    {
      "cell_type": "code",
      "metadata": {
        "colab_type": "code",
        "id": "RoBhsx7GNqI_",
        "colab": {}
      },
      "source": [
        "import numpy as np\n",
        "\n",
        "def get_PER_sequence(ref_seq, target_seq):\n",
        "\n",
        "  # re = g.split()\n",
        "  # h = h.split()\n",
        "  n = len(ref_seq)\n",
        "  m = len(target_seq)\n",
        "\n",
        "  D = np.zeros((n+1,m+1))\n",
        "  for i in range(1,n+1):\n",
        "    D[i,0] = D[i-1,0]+1\n",
        "  for j in range(1,m+1):\n",
        "    D[0,j] = D[0,j-1]+1\n",
        "  \n",
        "  ### TODO compute the alignment\n",
        "\n",
        "  for i in range(1,n+1):\n",
        "    for j in range(1,m+1):\n",
        "      D[i,j] = min(\n",
        "          D[i-1,j]+1,\n",
        "          D[i-1,j-1]+1,\n",
        "          D[i,j-1]+1,\n",
        "          D[i-1,j-1]+ 0 if ref_seq[i-1]==target_seq[j-1] else float(\"inf\")\n",
        "      )\n",
        "  return D[n,m]/len(ref_seq)\n",
        "  \n",
        "\n",
        "  #return PER"
      ],
      "execution_count": 48,
      "outputs": []
    },
    {
      "cell_type": "markdown",
      "metadata": {
        "colab_type": "text",
        "id": "r-hr0KK0mgcR"
      },
      "source": [
        "You can test your function below:"
      ]
    },
    {
      "cell_type": "code",
      "metadata": {
        "colab_type": "code",
        "id": "AfTb3yOQmvey",
        "colab": {
          "base_uri": "https://localhost:8080/",
          "height": 34
        },
        "outputId": "3ad2b286-5d47-43c8-c4fd-bab8abdfb1cc"
      },
      "source": [
        "ref_seq = [0, 1, 1, 2, 0, 2, 2]\n",
        "pred_seq = [1, 1, 2, 2, 0, 0]\n",
        "\n",
        "expected_PER = 4. / 7.\n",
        "print(get_PER_sequence(ref_seq, pred_seq) == expected_PER)"
      ],
      "execution_count": 49,
      "outputs": [
        {
          "output_type": "stream",
          "text": [
            "True\n"
          ],
          "name": "stdout"
        }
      ]
    },
    {
      "cell_type": "markdown",
      "metadata": {
        "colab_type": "text",
        "id": "nHiyChl-m_k7"
      },
      "source": [
        "## c- Evaluating the PER of your model on the test dataset\n",
        "\n",
        "Evaluate the PER on the validation dataset. Please notice that you should usually use a separate dataset, called the dev dataset, to perform this operation. However for the sake of simplicity we will work with validation data in this exercise."
      ]
    },
    {
      "cell_type": "code",
      "metadata": {
        "colab_type": "code",
        "id": "DMkX0PoFnclg",
        "colab": {}
      },
      "source": [
        "import progressbar\n",
        "from multiprocessing import Pool\n",
        "\n",
        "def cut_data(seq, sizeSeq):\n",
        "    maxSeq = sizeSeq.max()\n",
        "    return seq[:, :maxSeq]\n",
        "\n",
        "\n",
        "def prepare_data(data):\n",
        "    seq, sizeSeq, phone, sizePhone = data\n",
        "    seq = seq.cuda()\n",
        "    phone = phone.cuda()\n",
        "    sizeSeq = sizeSeq.cuda().view(-1)\n",
        "    sizePhone = sizePhone.cuda().view(-1)\n",
        "\n",
        "    seq = cut_data(seq.permute(0, 2, 1), sizeSeq).permute(0, 2, 1)\n",
        "    return seq, sizeSeq, phone, sizePhone\n",
        "\n",
        "\n",
        "def get_per(test_dataloader,\n",
        "            cpc_model,\n",
        "            phone_classifier):\n",
        "\n",
        "  downsampling_factor = 160\n",
        "  cpc_model.eval()\n",
        "  phone_classifier.eval()\n",
        "\n",
        "  avgPER = 0\n",
        "  nItems = 0 \n",
        "\n",
        "  print(\"Starting the PER computation through beam search\")\n",
        "  bar = progressbar.ProgressBar(maxval=len(test_dataloader))\n",
        "  bar.start()\n",
        "\n",
        "  for index, data in enumerate(test_dataloader):\n",
        "\n",
        "    bar.update(index)\n",
        "\n",
        "    with torch.no_grad():\n",
        "      \n",
        "        seq, sizeSeq, phone, sizePhone = prepare_data(data)\n",
        "        c_feature, _, _ = cpc_model(seq.to(device),phone.to(device))\n",
        "        sizeSeq = sizeSeq / downsampling_factor\n",
        "        predictions = torch.nn.functional.softmax(\n",
        "        phone_classifier(c_feature), dim=2).cpu()\n",
        "        phone = phone.cpu()\n",
        "        sizeSeq = sizeSeq.cpu()\n",
        "        sizePhone = sizePhone.cpu()\n",
        "\n",
        "        bs = c_feature.size(0)\n",
        "        data_per = [(predictions[b].argmax(1),  phone[b]) for b in range(bs)]\n",
        "        # data_per = [(predictions[b], sizeSeq[b], phone[b], sizePhone[b],\n",
        "        #               \"criterion.module.BLANK_LABEL\") for b in range(bs)]\n",
        "\n",
        "        with Pool(bs) as p:\n",
        "            poolData = p.starmap(get_PER_sequence, data_per)\n",
        "        avgPER += sum([x for x in poolData])\n",
        "        nItems += len(poolData)\n",
        "\n",
        "  bar.finish()\n",
        "\n",
        "  avgPER /= nItems\n",
        "\n",
        "  print(f\"Average PER {avgPER}\")\n",
        "  return avgPER\n"
      ],
      "execution_count": 50,
      "outputs": []
    },
    {
      "cell_type": "code",
      "metadata": {
        "colab_type": "code",
        "id": "2hvnudh4Osb4",
        "colab": {
          "base_uri": "https://localhost:8080/",
          "height": 102
        },
        "outputId": "82447431-a44a-4fcb-adb7-f4b14d73cb3d"
      },
      "source": [
        "get_per(data_loader_val,cpc_model,phone_classifier)"
      ],
      "execution_count": 51,
      "outputs": [
        {
          "output_type": "stream",
          "text": [
            "\r                                                                               \r\rN/A% (0 of 12) |                         | Elapsed Time: 0:00:00 ETA:  --:--:--"
          ],
          "name": "stderr"
        },
        {
          "output_type": "stream",
          "text": [
            "Starting the PER computation through beam search\n"
          ],
          "name": "stdout"
        },
        {
          "output_type": "stream",
          "text": [
            "100% (12 of 12) |########################| Elapsed Time: 0:02:29 Time:  0:02:29\n"
          ],
          "name": "stderr"
        },
        {
          "output_type": "stream",
          "text": [
            "Average PER 0.9336181474337784\n"
          ],
          "name": "stdout"
        },
        {
          "output_type": "execute_result",
          "data": {
            "text/plain": [
              "0.9336181474337784"
            ]
          },
          "metadata": {
            "tags": []
          },
          "execution_count": 51
        }
      ]
    },
    {
      "cell_type": "code",
      "metadata": {
        "id": "Jye38YtyzJSi",
        "colab_type": "code",
        "colab": {}
      },
      "source": [
        ""
      ],
      "execution_count": null,
      "outputs": []
    },
    {
      "cell_type": "code",
      "metadata": {
        "id": "gP2EZiNNzJOZ",
        "colab_type": "code",
        "colab": {}
      },
      "source": [
        ""
      ],
      "execution_count": null,
      "outputs": []
    },
    {
      "cell_type": "markdown",
      "metadata": {
        "colab_type": "text",
        "id": "p8e9D7g8159k"
      },
      "source": [
        "## Exercice 3 : Character error rate (CER) \n",
        "\n",
        "The Character Error Rate (CER) is an evaluation metric similar to the PER but with characters insterad of phonemes. Using the following data, run the functions you defined previously to estimate the CER of your model after fine-tuning."
      ]
    },
    {
      "cell_type": "code",
      "metadata": {
        "colab_type": "code",
        "id": "cXONmKQOuFSn",
        "colab": {
          "base_uri": "https://localhost:8080/",
          "height": 275
        },
        "outputId": "13bfef33-8e0d-4d5a-cb44-419e7bdd4bcc"
      },
      "source": [
        "# Load a dataset labelled with the letters of each sequence.\n",
        "# %cd /content/CPC_audio\n",
        "from cpc.eval.common_voices_eval import SingleSequenceDataset, parseSeqLabels, findAllSeqs\n",
        "path_train_data_cer = train_dir\n",
        "path_val_data_cer = val_dir\n",
        "path_letter_data_cer = data_dir +'/chars.txt'\n",
        "BATCH_SIZE=8\n",
        "\n",
        "letters_labels, N_LETTERS = parseSeqLabels(path_letter_data_cer)\n",
        "data_train_cer, _ = findAllSeqs(path_train_data_cer, extension='.wav')\n",
        "dataset_train_non_aligned = SingleSequenceDataset(path_train_data_cer, data_train_cer, letters_labels)\n",
        "\n",
        "\n",
        "data_val_cer, _ = findAllSeqs(path_val_data_cer, extension='.wav')\n",
        "dataset_val_non_aligned = SingleSequenceDataset(path_val_data_cer, data_val_cer, letters_labels)\n",
        "\n",
        "\n",
        "# The data loader will generate a tuple of tensors data, labels for each batch\n",
        "# data : size N x T1 x 1 : the audio sequence\n",
        "# label : size N x T2 the sequence of letters corresponding to the audio data\n",
        "# IMPORTANT NOTE: just like the PER the CER is computed with non-aligned phone data.\n",
        "data_loader_train_letters = torch.utils.data.DataLoader(dataset_train_non_aligned, batch_size=BATCH_SIZE,\n",
        "                                                shuffle=True)\n",
        "data_loader_val_letters = torch.utils.data.DataLoader(dataset_val_non_aligned, batch_size=BATCH_SIZE,\n",
        "                                              shuffle=True)"
      ],
      "execution_count": 58,
      "outputs": [
        {
          "output_type": "stream",
          "text": [
            "1it [00:00, 134.85it/s]"
          ],
          "name": "stderr"
        },
        {
          "output_type": "stream",
          "text": [
            "Saved cache file at /content/drive/My Drive/PidginSpeech/records/train/_seqs_cache.txt\n"
          ],
          "name": "stdout"
        },
        {
          "output_type": "stream",
          "text": [
            "\n",
            "1it [00:00, 188.58it/s]"
          ],
          "name": "stderr"
        },
        {
          "output_type": "stream",
          "text": [
            "Loaded 380 sequences in 2.73 seconds\n",
            "maxSizeSeq : 376431\n",
            "maxSizePhone : 185\n",
            "minSizePhone : 25\n",
            "Total size dataset 0.8819960416666667 hours\n",
            "Saved cache file at /content/drive/My Drive/PidginSpeech/records/val/_seqs_cache.txt\n"
          ],
          "name": "stdout"
        },
        {
          "output_type": "stream",
          "text": [
            "\n"
          ],
          "name": "stderr"
        },
        {
          "output_type": "stream",
          "text": [
            "Loaded 95 sequences in 1.90 seconds\n",
            "maxSizeSeq : 226149\n",
            "maxSizePhone : 140\n",
            "minSizePhone : 34\n",
            "Total size dataset 0.22277463541666667 hours\n"
          ],
          "name": "stdout"
        }
      ]
    },
    {
      "cell_type": "code",
      "metadata": {
        "colab_type": "code",
        "id": "9h07zI2LjzAU",
        "colab": {
          "base_uri": "https://localhost:8080/",
          "height": 51
        },
        "outputId": "b7ef17a0-f407-4de5-9d14-464d8e650c69"
      },
      "source": [
        "from cpc.feature_loader import loadModel\n",
        "\n",
        "checkpoint_path = 'checkpoint_data/checkpoint_30.pt'\n",
        "cpc_model, HIDDEN_CONTEXT_MODEL, HIDDEN_ENCODER_MODEL = loadModel([checkpoint_path])\n",
        "cpc_model = cpc_model.cuda()\n",
        "character_classifier = PhoneClassifier(HIDDEN_CONTEXT_MODEL, N_LETTERS).to(device)"
      ],
      "execution_count": 59,
      "outputs": [
        {
          "output_type": "stream",
          "text": [
            "Loading checkpoint checkpoint_data/checkpoint_30.pt\n",
            "Loading the state dict at checkpoint_data/checkpoint_30.pt\n"
          ],
          "name": "stdout"
        }
      ]
    },
    {
      "cell_type": "code",
      "metadata": {
        "colab_type": "code",
        "id": "rHCNg1E7lW1L",
        "colab": {}
      },
      "source": [
        "parameters = list(character_classifier.parameters()) + list(cpc_model.parameters())\n",
        "LEARNING_RATE = 2e-4\n",
        "optimizer = torch.optim.Adam(parameters, lr=LEARNING_RATE)\n",
        "\n",
        "optimizer_frozen = torch.optim.Adam(list(character_classifier.parameters()), lr=LEARNING_RATE)"
      ],
      "execution_count": 60,
      "outputs": []
    },
    {
      "cell_type": "code",
      "metadata": {
        "colab_type": "code",
        "id": "engpkljbk9hj",
        "colab": {}
      },
      "source": [
        "loss_ctc = torch.nn.CTCLoss()"
      ],
      "execution_count": 61,
      "outputs": []
    },
    {
      "cell_type": "code",
      "metadata": {
        "colab_type": "code",
        "id": "9NBHd2s2kxld",
        "colab": {
          "base_uri": "https://localhost:8080/",
          "height": 1000
        },
        "outputId": "5e55bae7-17a2-4592-cf09-3d1b07f747a5"
      },
      "source": [
        "run_ctc(cpc_model,character_classifier,loss_ctc,data_loader_train_letters,data_loader_val_letters,optimizer_frozen,n_epoch=10)"
      ],
      "execution_count": 62,
      "outputs": [
        {
          "output_type": "stream",
          "text": [
            "Running epoch 1 / 10\n",
            "-------------------\n",
            "Training dataset :\n",
            "Average loss : 39.42519115961321.\n",
            "-------------------\n",
            "Validation dataset\n",
            "Average loss : 36.758370176274724\n",
            "-------------------\n",
            "\n",
            "Running epoch 2 / 10\n",
            "-------------------\n",
            "Training dataset :\n",
            "Average loss : 35.27833185724344.\n",
            "-------------------\n",
            "Validation dataset\n",
            "Average loss : 32.6504803921314\n",
            "-------------------\n",
            "\n",
            "Running epoch 3 / 10\n",
            "-------------------\n",
            "Training dataset :\n",
            "Average loss : 31.126946970152037.\n",
            "-------------------\n",
            "Validation dataset\n",
            "Average loss : 28.710472309843023\n",
            "-------------------\n",
            "\n",
            "Running epoch 4 / 10\n",
            "-------------------\n",
            "Training dataset :\n",
            "Average loss : 27.23448238020522.\n",
            "-------------------\n",
            "Validation dataset\n",
            "Average loss : 24.96331730294735\n",
            "-------------------\n",
            "\n",
            "Running epoch 5 / 10\n",
            "-------------------\n",
            "Training dataset :\n",
            "Average loss : 23.486453989879436.\n",
            "-------------------\n",
            "Validation dataset\n",
            "Average loss : 21.418361501490818\n",
            "-------------------\n",
            "\n",
            "Running epoch 6 / 10\n",
            "-------------------\n",
            "Training dataset :\n",
            "Average loss : 20.10133351751242.\n",
            "-------------------\n",
            "Validation dataset\n",
            "Average loss : 18.341809577130256\n",
            "-------------------\n",
            "\n",
            "Running epoch 7 / 10\n",
            "-------------------\n",
            "Training dataset :\n",
            "Average loss : 17.340139243093205.\n",
            "-------------------\n",
            "Validation dataset\n",
            "Average loss : 15.990979620750915\n",
            "-------------------\n",
            "\n",
            "Running epoch 8 / 10\n",
            "-------------------\n",
            "Training dataset :\n",
            "Average loss : 15.289962348334079.\n",
            "-------------------\n",
            "Validation dataset\n",
            "Average loss : 14.265637296311398\n",
            "-------------------\n",
            "\n",
            "Running epoch 9 / 10\n",
            "-------------------\n",
            "Training dataset :\n",
            "Average loss : 13.809757695663572.\n",
            "-------------------\n",
            "Validation dataset\n",
            "Average loss : 12.998335533953728\n",
            "-------------------\n",
            "\n",
            "Running epoch 10 / 10\n",
            "-------------------\n",
            "Training dataset :\n",
            "Average loss : 12.710749130450326.\n",
            "-------------------\n",
            "Validation dataset\n",
            "Average loss : 12.066411687972698\n",
            "-------------------\n",
            "\n"
          ],
          "name": "stdout"
        }
      ]
    },
    {
      "cell_type": "code",
      "metadata": {
        "colab_type": "code",
        "id": "A8oxFr1jm17P",
        "colab": {
          "base_uri": "https://localhost:8080/",
          "height": 102
        },
        "outputId": "dbb62e10-4cd5-422f-9f13-8f623074fbe2"
      },
      "source": [
        "get_per(data_loader_val_letters,cpc_model,character_classifier)"
      ],
      "execution_count": 63,
      "outputs": [
        {
          "output_type": "stream",
          "text": [
            "\r                                                                               \r\rN/A% (0 of 12) |                         | Elapsed Time: 0:00:00 ETA:  --:--:--"
          ],
          "name": "stderr"
        },
        {
          "output_type": "stream",
          "text": [
            "Starting the PER computation through beam search\n"
          ],
          "name": "stdout"
        },
        {
          "output_type": "stream",
          "text": [
            "100% (12 of 12) |########################| Elapsed Time: 0:02:24 Time:  0:02:24\n"
          ],
          "name": "stderr"
        },
        {
          "output_type": "stream",
          "text": [
            "Average PER 0.9434929375319715\n"
          ],
          "name": "stdout"
        },
        {
          "output_type": "execute_result",
          "data": {
            "text/plain": [
              "0.9434929375319715"
            ]
          },
          "metadata": {
            "tags": []
          },
          "execution_count": 63
        }
      ]
    },
    {
      "cell_type": "code",
      "metadata": {
        "id": "bH2oEYE3LS5M",
        "colab_type": "code",
        "colab": {}
      },
      "source": [
        ""
      ],
      "execution_count": null,
      "outputs": []
    }
  ]
}