{
 "cells": [
  {
   "cell_type": "code",
   "execution_count": null,
   "metadata": {
    "colab": {
     "base_uri": "https://localhost:8080/",
     "height": 121
    },
    "colab_type": "code",
    "id": "jvbdbirgHmnb",
    "outputId": "02b9700e-9186-4a7f-e2aa-1bc68f29a3d9"
   },
   "outputs": [],
   "source": [
    "# #mriviere@fb.com\n",
    "# from google.colab import drive\n",
    "# drive.mount('/content/gdrive')"
   ]
  },
  {
   "cell_type": "code",
   "execution_count": null,
   "metadata": {
    "colab": {
     "base_uri": "https://localhost:8080/",
     "height": 507
    },
    "colab_type": "code",
    "id": "U222FEV6H3Kd",
    "outputId": "9a41e9ca-4963-45e9-a287-fc9d56daecd3"
   },
   "outputs": [],
   "source": [
    "# !pip install torchaudio\n",
    "# !pip install PyDrive\n",
    "# !pip install soundfile"
   ]
  },
  {
   "cell_type": "code",
   "execution_count": null,
   "metadata": {
    "colab": {},
    "colab_type": "code",
    "id": "MSIi6VyMIBgb"
   },
   "outputs": [],
   "source": [
    "import os\n",
    "from random import randint, uniform\n",
    "import re\n",
    "import numpy as np\n",
    "import wave\n",
    "import contextlib\n"
   ]
  },
  {
   "cell_type": "code",
   "execution_count": null,
   "metadata": {
    "colab": {
     "base_uri": "https://localhost:8080/",
     "height": 34
    },
    "colab_type": "code",
    "id": "DGRmDPlvIOMF",
    "outputId": "e0a58da9-2c07-4065-801e-6342aefd0c4d"
   },
   "outputs": [],
   "source": []
  },
  {
   "cell_type": "code",
   "execution_count": null,
   "metadata": {
    "colab": {},
    "colab_type": "code",
    "id": "70JBGumqIi0Z"
   },
   "outputs": [],
   "source": []
  },
  {
   "cell_type": "code",
   "execution_count": null,
   "metadata": {
    "colab": {},
    "colab_type": "code",
    "id": "OEVo_Y9NJAwH"
   },
   "outputs": [],
   "source": []
  },
  {
   "cell_type": "code",
   "execution_count": null,
   "metadata": {
    "colab": {},
    "colab_type": "code",
    "id": "YERPAqtbablr"
   },
   "outputs": [],
   "source": [
    "# !unzip text_files.zip"
   ]
  },
  {
   "cell_type": "code",
   "execution_count": null,
   "metadata": {
    "colab": {},
    "colab_type": "code",
    "id": "ulAjI9GUbaJz"
   },
   "outputs": [],
   "source": [
    "#!unzip text_files.zip"
   ]
  },
  {
   "cell_type": "markdown",
   "metadata": {
    "colab_type": "text",
    "id": "-Y1S2JquIDE_"
   },
   "source": [
    "## Data parsing"
   ]
  },
  {
   "cell_type": "code",
   "execution_count": null,
   "metadata": {
    "colab": {},
    "colab_type": "code",
    "id": "5BvJ6SHfIMqf"
   },
   "outputs": [],
   "source": [
    "# result = []\n",
    "# n=10000\n",
    "\n",
    "# with open(\"alltext.txt\",\"r\") as f:\n",
    "#     for line in f.readlines():\n",
    "#         line = re.sub(\"[A-Za-z0-9,.\\(\\)\\\"\\\":;]\",\"\",line)\n",
    "#         line=line.split()\n",
    "#         i=0\n",
    "#         if n<=0:\n",
    "#             break\n",
    "#         p=uniform(0,1)\n",
    "#         if p>0.1:\n",
    "#             continue\n",
    "#         while i<len(line) and n>0:\n",
    "#             window = randint(10,20)\n",
    "#             sentence = line[i:i+window]\n",
    "#             i+=window\n",
    "#             if len(sentence)<5:\n",
    "#                 continue\n",
    "#             result.append(\" \".join(sentence))\n",
    "#             n-=1"
   ]
  },
  {
   "cell_type": "code",
   "execution_count": null,
   "metadata": {
    "colab": {},
    "colab_type": "code",
    "id": "iFk9h2xYKccC"
   },
   "outputs": [],
   "source": [
    "# with open(\"alltext.txt\",\"w\") as out:\n",
    "#     out.write(\" ## si \\n\".join(result)+\" ## si\")"
   ]
  },
  {
   "cell_type": "markdown",
   "metadata": {
    "colab_type": "text",
    "id": "D8Ew0XiLKrg8"
   },
   "source": [
    "## Calculating recordings lengths"
   ]
  },
  {
   "cell_type": "code",
   "execution_count": null,
   "metadata": {
    "colab": {
     "base_uri": "https://localhost:8080/",
     "height": 34
    },
    "colab_type": "code",
    "id": "GH59G9zIKtTR",
    "outputId": "893858a1-7b19-458d-f207-a0d19c314fb7"
   },
   "outputs": [],
   "source": [
    "\n",
    "total = 0\n",
    "corrupted=0\n",
    "files=0\n",
    "for directory in os.listdir(\"./sections/\"):\n",
    "    if os.path.isdir(\"./sections/\"+directory):\n",
    "        for file in os.listdir(\"./sections/\"+directory):\n",
    "            if file.endswith(\".wav\"):\n",
    "                files+=1\n",
    "                fname = \"./sections/\"+directory+\"/\"+file\n",
    "                try:\n",
    "                    with contextlib.closing(wave.open(fname,'r')) as f:\n",
    "                        frames = f.getnframes()\n",
    "                        rate = f.getframerate()\n",
    "                        duration = frames / float(rate)\n",
    "                        total+=duration\n",
    "                except Exception as e:\n",
    "                    corrupted+=1\n",
    "\n",
    "print(\"total is \",total,\" s\",\", \",total/(60*60),\" h\")"
   ]
  },
  {
   "cell_type": "code",
   "execution_count": null,
   "metadata": {
    "colab": {
     "base_uri": "https://localhost:8080/",
     "height": 50
    },
    "colab_type": "code",
    "id": "wUtlb_J_Vf9k",
    "outputId": "d6d9a47a-8b43-4a15-de92-f2cc404fce5a"
   },
   "outputs": [],
   "source": [
    "print(files)\n",
    "print(corrupted)"
   ]
  },
  {
   "cell_type": "markdown",
   "metadata": {
    "colab_type": "text",
    "id": "nOetPDbyVjOC"
   },
   "source": [
    "## Organizing data"
   ]
  },
  {
   "cell_type": "markdown",
   "metadata": {
    "colab_type": "text",
    "id": "72kskVChVpXQ"
   },
   "source": [
    "### spliting records to train, val and test sets"
   ]
  },
  {
   "cell_type": "code",
   "execution_count": null,
   "metadata": {
    "colab": {},
    "colab_type": "code",
    "id": "BiIqTXdOWFuF"
   },
   "outputs": [],
   "source": [
    "!mkdir data\n",
    "!mkdir data/records"
   ]
  },
  {
   "cell_type": "code",
   "execution_count": null,
   "metadata": {
    "colab": {},
    "colab_type": "code",
    "id": "ApIfPwx2Vr6n"
   },
   "outputs": [],
   "source": [
    "# Extracting all the non-corrupted files\n",
    "wav_files = []\n",
    "#all_linkers = dict()\n",
    "linker = []\n",
    "for directory in os.listdir(\"./sections/\"): # parent directory of the recordings, it should contain folders that contain wav,json and txt files\n",
    "    if os.path.isdir(\"./sections/\"+directory):\n",
    "      #  to_remove = []\n",
    "        linker = []\n",
    "        for file in os.listdir(\"./sections/\"+directory):\n",
    "            if file.endswith(\".txt\"):\n",
    "                linker_data = open(\"./sections/\"+directory+\"/\"+file).readlines()\n",
    "            if file.endswith(\".wav\"):\n",
    "                fname = \"./sections/\"+directory+\"/\"+file\n",
    "                try:\n",
    "                    with contextlib.closing(wave.open(fname,'r')) as f:\n",
    "                        frames = f.getnframes()\n",
    "                        rate = f.getframerate()\n",
    "                        duration = frames / float(rate)\n",
    "                        wav_files.append(fname)\n",
    "                except Exception as e:\n",
    "                    to_remove.append(file)\n",
    "        for file in to_remove:\n",
    "            i=0\n",
    "            while i<len(linker_data):\n",
    "                if file in linker_data[i]:\n",
    "                    linker_data.pop(i)\n",
    "                i+=1\n",
    "        linker.extend(linker_data)\n",
    "        #all_linkers[directory] = linker\n",
    "        \n",
    "\n",
    "            "
   ]
  },
  {
   "cell_type": "code",
   "execution_count": null,
   "metadata": {
    "colab": {
     "base_uri": "https://localhost:8080/",
     "height": 54
    },
    "colab_type": "code",
    "id": "00Jxx7shdnAc",
    "outputId": "23135a81-0542-4f9a-b509-6f6bc8f395bd"
   },
   "outputs": [],
   "source": [
    "# all_linkers.items()"
   ]
  },
  {
   "cell_type": "code",
   "execution_count": null,
   "metadata": {
    "colab": {},
    "colab_type": "code",
    "id": "lrEmZrZ1WPBJ"
   },
   "outputs": [],
   "source": [
    "to_copy = \" \".join(wav_files)\n",
    "!cp -t data/records/ {to_copy}"
   ]
  },
  {
   "cell_type": "code",
   "execution_count": null,
   "metadata": {
    "colab": {
     "base_uri": "https://localhost:8080/",
     "height": 1000
    },
    "colab_type": "code",
    "id": "LgqOPi2jA1g6",
    "outputId": "36ef6e4d-93df-444b-d459-43975c3e0872"
   },
   "outputs": [],
   "source": []
  },
  {
   "cell_type": "code",
   "execution_count": null,
   "metadata": {
    "colab": {},
    "colab_type": "code",
    "id": "LpPjmFmVfnTE"
   },
   "outputs": [],
   "source": [
    "# for f in to_copy:\n",
    "\n",
    "#   !cp -t data/records/ {f}"
   ]
  },
  {
   "cell_type": "code",
   "execution_count": null,
   "metadata": {
    "colab": {},
    "colab_type": "code",
    "id": "xu1F04oZ01vK"
   },
   "outputs": [],
   "source": [
    "# for section,linker in all_linkers.items():\n",
    "for i,link in enumerate(linker):\n",
    "    line = link.split(\";\")[0].split(\"(\")[1].split(\")\")[0].strip()\n",
    "    wav = link.split(\";\")[1].strip().split(\"/\")[-1]\n",
    "    linker[i] = wav+\":\"+line\n"
   ]
  },
  {
   "cell_type": "code",
   "execution_count": null,
   "metadata": {
    "colab": {},
    "colab_type": "code",
    "id": "y5RS8bcc03eF"
   },
   "outputs": [],
   "source": [
    "out_linker = open(\"./data/linker.txt\",\"w\")\n",
    "out_linker.write(\"\\n\".join(linker))\n",
    "out_linker.close()"
   ]
  },
  {
   "cell_type": "code",
   "execution_count": null,
   "metadata": {
    "colab": {},
    "colab_type": "code",
    "id": "2q5Qef8g0-g_"
   },
   "outputs": [],
   "source": [
    "!mkdir ./data/records/train\n",
    "!mkdir ./data/records/test\n",
    "!mkdir ./data/records/val"
   ]
  },
  {
   "cell_type": "code",
   "execution_count": null,
   "metadata": {
    "colab": {},
    "colab_type": "code",
    "id": "QNV2DO_w1Cid"
   },
   "outputs": [],
   "source": [
    "import numpy as np\n",
    "np.random.seed(0)\n",
    "indices = np.random.permutation(len(wav_files))\n",
    "\n",
    "test_idx = indices[:len(indices)//2]\n",
    "validation_portion = int(len(indices)//2 * 0.2)\n",
    "train_idx = indices[len(indices)//2:-validation_portion]\n",
    "valid_idx = indices[-validation_portion:]"
   ]
  },
  {
   "cell_type": "code",
   "execution_count": null,
   "metadata": {
    "colab": {},
    "colab_type": "code",
    "id": "kFJQ4ul21J1i"
   },
   "outputs": [],
   "source": [
    "train_set_files = [wav_files[i].split(\"/\")[-1] for i in train_idx]\n",
    "valid_set_files = [wav_files[i].split(\"/\")[-1] for i in valid_idx]\n",
    "test_set_files = [wav_files[i].split(\"/\")[-1] for i in test_idx]"
   ]
  },
  {
   "cell_type": "code",
   "execution_count": null,
   "metadata": {
    "colab": {},
    "colab_type": "code",
    "id": "9bU6407k1Qj_"
   },
   "outputs": [],
   "source": [
    "to_copy_train = \"./data/records/\" + \" ./data/records/\".join(train_set_files)\n",
    "to_copy_valid = \"./data/records/\" + \" ./data/records/\".join(valid_set_files)\n",
    "to_copy_test = \"./data/records/\" + \" ./data/records/\".join(test_set_files)"
   ]
  },
  {
   "cell_type": "code",
   "execution_count": null,
   "metadata": {
    "colab": {},
    "colab_type": "code",
    "id": "LWq10rHY1Wu-"
   },
   "outputs": [],
   "source": [
    "!mv -t data/records/train/ {to_copy_train}\n",
    "!mv -t data/records/val/ {to_copy_valid}\n",
    "!mv -t data/records/test/ {to_copy_test}"
   ]
  },
  {
   "cell_type": "markdown",
   "metadata": {
    "colab_type": "text",
    "id": "_5JOKvFC1hvc"
   },
   "source": [
    "### making of chars.txt file"
   ]
  },
  {
   "cell_type": "code",
   "execution_count": null,
   "metadata": {
    "colab": {},
    "colab_type": "code",
    "id": "LQC2plL31jXt"
   },
   "outputs": [],
   "source": [
    "import re\n",
    "chars = {\" \":1,\"ε\":0}\n",
    "text_data = []\n",
    "char_idx = 2\n",
    "for section_id,linker in all_linkers.items():\n",
    "    section_id = re.sub(\"\",\"\",section_id)+\".txt\"\n",
    "    text_file = open(\"./text_files/\"+section_id,\"r\").readlines() # Modify this to the directory of your txt file that you recorded with\n",
    "    \n",
    "    for link in linker:\n",
    "        file,idx = link.split(\":\")[0],int(link.split(\":\")[1].split(\" \")[1])-1\n",
    "        line = text_file[idx]\n",
    "        line = line.split(\"##\")[0].strip()\n",
    "        line = re.sub(\"[\\[(\\)]|٪%«»_ـ]\",\"\",line) # Clean unnecessary characters from the data, this is for arabic\n",
    "        #line = re.sub(\"[—\\u200b]\",\"\",line) # Clean unnecessary characters from the data, this is for arabic\n",
    "        text_data.append((line,file.split(\".\")[0]))\n",
    "        char_set = set(line)\n",
    "        for c in char_set:\n",
    "            if c not in chars:\n",
    "                chars[c]=char_idx\n",
    "                char_idx+=1"
   ]
  },
  {
   "cell_type": "code",
   "execution_count": null,
   "metadata": {
    "colab": {},
    "colab_type": "code",
    "id": "hsTXKTEXEZEH"
   },
   "outputs": [],
   "source": [
    "raw_text = \"\\n\".join([wav+\":\"+line for line,wav in text_data])\n",
    "with open(\"data/raw_text_file.txt\",\"w\") as f:\n",
    "    f.write(raw_text)\n"
   ]
  },
  {
   "cell_type": "code",
   "execution_count": null,
   "metadata": {
    "colab": {},
    "colab_type": "code",
    "id": "DLDzdlsFEc86"
   },
   "outputs": [],
   "source": [
    "indices_text = []\n",
    "for line,wav in text_data:\n",
    "    line = list(line)\n",
    "    indicies = []\n",
    "    for c in line:\n",
    "        indicies.append(str(chars[c]))\n",
    "    indices_text.append(wav+\" \"+\" \".join(indicies))\n"
   ]
  },
  {
   "cell_type": "code",
   "execution_count": null,
   "metadata": {
    "colab": {
     "base_uri": "https://localhost:8080/",
     "height": 34
    },
    "colab_type": "code",
    "id": "5wTMESizEebI",
    "outputId": "188a0d5c-cddf-42aa-e46f-85afa389c31f"
   },
   "outputs": [],
   "source": [
    "len(chars)"
   ]
  },
  {
   "cell_type": "code",
   "execution_count": null,
   "metadata": {
    "colab": {
     "base_uri": "https://localhost:8080/",
     "height": 1000
    },
    "colab_type": "code",
    "id": "Id7zllFNEiMg",
    "outputId": "fcd3fbe1-ec2b-478a-aac1-b48e074e9843"
   },
   "outputs": [],
   "source": [
    "chars"
   ]
  },
  {
   "cell_type": "code",
   "execution_count": null,
   "metadata": {
    "colab": {},
    "colab_type": "code",
    "id": "X2ZyPsMfEnLy"
   },
   "outputs": [],
   "source": [
    "indicies_text = \"\\n\".join(indices_text)\n",
    "with open(\"data/chars.txt\",\"w\") as f:\n",
    "    f.write(indicies_text)"
   ]
  },
  {
   "cell_type": "code",
   "execution_count": null,
   "metadata": {
    "colab": {},
    "colab_type": "code",
    "id": "_zEGGI6dEqzW"
   },
   "outputs": [],
   "source": [
    "with open(\"data/charset.txt\",\"w\") as js:\n",
    "    js.write(str(chars))"
   ]
  },
  {
   "cell_type": "code",
   "execution_count": null,
   "metadata": {
    "colab": {},
    "colab_type": "code",
    "id": "q5SEkbFaEtj1"
   },
   "outputs": [],
   "source": [
    "with open(\"data/charset.txt\") as js:\n",
    "    charset = eval(js.read())"
   ]
  },
  {
   "cell_type": "code",
   "execution_count": null,
   "metadata": {
    "colab": {
     "base_uri": "https://localhost:8080/",
     "height": 1000
    },
    "colab_type": "code",
    "id": "knb56UiMEyg9",
    "outputId": "2e3c688c-6d54-4e60-c63c-cb31f9561dd5"
   },
   "outputs": [],
   "source": [
    "charset"
   ]
  },
  {
   "cell_type": "code",
   "execution_count": null,
   "metadata": {
    "colab": {},
    "colab_type": "code",
    "id": "jzzuGAMna4NG"
   },
   "outputs": [],
   "source": [
    "from pydrive.auth import GoogleAuth\n",
    "from pydrive.drive import GoogleDrive\n",
    "from google.colab import auth\n",
    "from oauth2client.client import GoogleCredentials\n",
    "auth.authenticate_user()\n",
    "gauth = GoogleAuth()\n",
    "gauth.credentials = GoogleCredentials.get_application_default()\n",
    "drive = GoogleDrive(gauth)"
   ]
  },
  {
   "cell_type": "code",
   "execution_count": null,
   "metadata": {
    "colab": {},
    "colab_type": "code",
    "id": "ppRP3ZqP8vZP"
   },
   "outputs": [],
   "source": [
    "import torch\n",
    "import torchaudio"
   ]
  },
  {
   "cell_type": "code",
   "execution_count": null,
   "metadata": {
    "colab": {
     "base_uri": "https://localhost:8080/",
     "height": 34
    },
    "colab_type": "code",
    "id": "-m9QGAOmGFrH",
    "outputId": "30fc0120-09b2-402e-bbdc-ba8335f5ecb9"
   },
   "outputs": [],
   "source": [
    "! git clone https://github.com/facebookresearch/CPC_audio.git"
   ]
  },
  {
   "cell_type": "code",
   "execution_count": null,
   "metadata": {
    "colab": {
     "base_uri": "https://localhost:8080/",
     "height": 642
    },
    "colab_type": "code",
    "id": "diDLgjhBFzZI",
    "outputId": "ec4694d3-a0a1-4d66-c6eb-6d0ab538f466"
   },
   "outputs": [],
   "source": [
    "\n",
    "!mkdir checkpoint_data\n",
    "!wget https://dl.fbaipublicfiles.com/librilight/CPC_checkpoints/not_hub/2levels_6k_top_ctc/checkpoint_30.pt -P checkpoint_data\n",
    "!wget https://dl.fbaipublicfiles.com/librilight/CPC_checkpoints/not_hub/2levels_6k_top_ctc/checkpoint_logs.json -P checkpoint_data\n",
    "!wget https://dl.fbaipublicfiles.com/librilight/CPC_checkpoints/not_hub/2levels_6k_top_ctc/checkpoint_args.json -P checkpoint_data\n",
    "!ls checkpoint_data\n"
   ]
  },
  {
   "cell_type": "markdown",
   "metadata": {
    "colab_type": "text",
    "id": "YZ1Wywx3BNGS"
   },
   "source": [
    "# Part 1 : contrastive predictive coding\n",
    "\n",
    "Contrastive Predictive Coding (CPC) is a method of unsupervised training for speech models. The idea behind it is pretty simple:\n",
    "\n",
    "\n",
    "1.   The raw audio wave is passed through a convolutional network: the ```encoder```\n",
    "2.   Then, the encoder's output is given to a recurrent network the ```context```\n",
    "3. A third party network, the ```prediction_network``` will try to predict the  future embeddings of the encoder using the output of the context network.\n",
    "\n",
    "In order to avoid a collapse to trivial solutions, the prediction_network doesn't try to reconstruct the future features. Instead, using the context output $c_t$ at time $t$ it is trained to discriminate the real  encoder representatioin $g_{t+k}$ at time $t+k$ from several other features $(g_n)_n$ taken elsewhere in the batch. Thus the loss becomes:\n",
    "\n",
    "\\\\[ \\mathcal{L}_c = - \\frac{1}{K} \\sum_{k=1}^K \\text{Cross_entropy}(\\phi_k(c_t), g_{t+k}) \\\\]\n",
    "\n",
    "Or:\n",
    "\n",
    "\\\\[ \\mathcal{L}_c = - \\frac{1}{K} \\sum_{k=1}^K \\log \\frac{ \\exp\\left(\\phi_k(c_t)^\\top g_{t+k}\\right) }{  \\sum_{\\mathbf{n}\\in\\mathcal{N}_t} \\exp\\left(\\phi_k(c_t)^\\top g_n\\right)} \\\\]\n",
    "\n",
    "Where:\n",
    "\n",
    "\n",
    "*   $\\phi_k$ is the prediction network for the kth timestep\n",
    "*   $\\mathcal{N}_t$ is the set of all negative examples sampled for timestep $t$\n",
    "\n",
    "\n"
   ]
  },
  {
   "cell_type": "markdown",
   "metadata": {
    "colab_type": "text",
    "id": "frPFYXuPfNPs"
   },
   "source": [
    "## Exercice 1 : Building the model\n",
    "\n",
    "In this exercise, we will build and train a small CPC model using the repository CPC_audio.\n",
    "\n",
    "The code below loads a context and an encoder newtorks."
   ]
  },
  {
   "cell_type": "code",
   "execution_count": null,
   "metadata": {
    "colab": {
     "base_uri": "https://localhost:8080/",
     "height": 50
    },
    "colab_type": "code",
    "id": "8g-xPSdLRdui",
    "outputId": "fa41e437-47a4-4c7e-b719-c02a71d8b6c7"
   },
   "outputs": [],
   "source": [
    "%cd ./CPC_audio\n",
    "from cpc.model import CPCEncoder, CPCAR\n",
    "device = torch.device(\"cuda:0\" if torch.cuda.is_available() else \"cpu\")\n",
    "\n",
    "DIM_ENCODER=256\n",
    "DIM_CONTEXT=256\n",
    "KEEP_HIDDEN_VECTOR=False\n",
    "N_LEVELS_CONTEXT=1\n",
    "CONTEXT_RNN=\"LSTM\"\n",
    "N_PREDICTIONS=12\n",
    "LEARNING_RATE=2e-4\n",
    "N_NEGATIVE_SAMPLE =128"
   ]
  },
  {
   "cell_type": "code",
   "execution_count": null,
   "metadata": {
    "colab": {},
    "colab_type": "code",
    "id": "7Wx8WkrQk9bQ"
   },
   "outputs": [],
   "source": [
    "encoder = CPCEncoder(DIM_ENCODER).to(device)\n",
    "context = CPCAR(DIM_ENCODER, DIM_CONTEXT, KEEP_HIDDEN_VECTOR, 1, mode=CONTEXT_RNN).to(device)"
   ]
  },
  {
   "cell_type": "code",
   "execution_count": null,
   "metadata": {
    "colab": {},
    "colab_type": "code",
    "id": "f9BrweAIla4J"
   },
   "outputs": [],
   "source": [
    "# Several functions that will be necessary to load the data later\n",
    "from cpc.dataset import findAllSeqs, AudioBatchData, parseSeqLabels\n",
    "SIZE_WINDOW = 20480\n",
    "BATCH_SIZE=8\n",
    "def load_dataset(path_dataset, file_extension='.wav', phone_label_dict=None):\n",
    "  data_list, speakers = findAllSeqs(path_dataset, extension=file_extension)\n",
    "  dataset = AudioBatchData(path_dataset, SIZE_WINDOW, data_list, phone_label_dict, len(speakers))\n",
    "  return dataset"
   ]
  },
  {
   "cell_type": "markdown",
   "metadata": {
    "colab_type": "text",
    "id": "58pQ7ysXk9ZO"
   },
   "source": [
    "Now build a new class, ```CPCModel``` which will"
   ]
  },
  {
   "cell_type": "code",
   "execution_count": null,
   "metadata": {
    "colab": {},
    "colab_type": "code",
    "id": "rR5IYRTpRF8T"
   },
   "outputs": [],
   "source": [
    "class CPCModel(torch.nn.Module):\n",
    "\n",
    "\n",
    "    def __init__(self,\n",
    "                 encoder,\n",
    "                 AR):\n",
    "\n",
    "        super(CPCModel, self).__init__()\n",
    "        self.gEncoder = encoder\n",
    "        self.gAR = AR\n",
    "\n",
    "    def forward(self, batch_data):\n",
    "        \n",
    "\n",
    "        encoder_output = self.gEncoder(batch_data)\n",
    "        #print(encoder_output.shape)\n",
    "        # The output of the encoder data does not have the good format \n",
    "        # indeed it is Batch_size x Hidden_size x temp size\n",
    "        # while the context requires Batch_size  x temp size x Hidden_size\n",
    "        # thus you need to permute\n",
    "        context_input = encoder_output.permute(0, 2, 1)\n",
    "\n",
    "        context_output = self.gAR(context_input)\n",
    "        #print(context_output.shape)\n",
    "        return context_output, encoder_output"
   ]
  },
  {
   "cell_type": "markdown",
   "metadata": {
    "colab_type": "text",
    "id": "XUJgm6Rl4vS4"
   },
   "source": [
    "Let's test your code !\n"
   ]
  },
  {
   "cell_type": "code",
   "execution_count": null,
   "metadata": {
    "colab": {},
    "colab_type": "code",
    "id": "PR4PoduBo7Bb"
   },
   "outputs": [],
   "source": []
  },
  {
   "cell_type": "code",
   "execution_count": null,
   "metadata": {
    "colab": {},
    "colab_type": "code",
    "id": "D1x1n4mv4y03"
   },
   "outputs": [],
   "source": [
    "audio = torchaudio.load(\"../data/records/train/200624-200537_fra_ac6_elicit_23.wav\")[0]\n",
    "audio = audio.view(1, 1, -1)\n",
    "cpc_model = CPCModel(encoder, context).to(device)\n",
    "context_output, encoder_output = cpc_model(audio.to(device))"
   ]
  },
  {
   "cell_type": "code",
   "execution_count": null,
   "metadata": {
    "colab": {
     "base_uri": "https://localhost:8080/",
     "height": 34
    },
    "colab_type": "code",
    "id": "H12H8zK37xeL",
    "outputId": "9abe2e34-a152-41b2-c2d5-35a1066ed060"
   },
   "outputs": [],
   "source": [
    "audio"
   ]
  },
  {
   "cell_type": "markdown",
   "metadata": {
    "colab_type": "text",
    "id": "X27ce8Hy3C2p"
   },
   "source": [
    "## Exercise 2 : CPC loss\n",
    "\n",
    "We will define a class ```CPCCriterion``` which will hold the prediction networks $\\phi_k$ defined above and perform the classification loss $\\mathcal{L}_c$.\n",
    "\n",
    "a) In this exercise, the $\\phi_k$ will be a linear transform, ie:\n",
    "\n",
    "\\\\[ \\phi_k(c_t) = \\mathbf{A}_k c_t\\\\]\n",
    "\n",
    "Using the class [torch.nn.Linear](https://pytorch.org/docs/stable/nn.html#torch.nn.Linear), define the transformations $\\phi_k$ in the code below and complete the function ```get_prediction_k``` which computes $\\phi_k(c_t)$ for a given batch of vectors $c_t$.\n",
    "\n",
    "b) Using both ```get_prediction_k```  and ```sample_negatives``` defined below, write the forward function which will take as input two batches of features $c_t$ and $g_t$ and outputs the classification loss $\\mathcal{L}_c$ and the average acuracy for all predictions. "
   ]
  },
  {
   "cell_type": "code",
   "execution_count": null,
   "metadata": {
    "colab": {},
    "colab_type": "code",
    "id": "UlAs-z1fBc3W"
   },
   "outputs": [],
   "source": [
    "# Exercice 2: write the CPC loss\n",
    "# a) Write the negative sampling (with some help)\n",
    "# ERRATUM: it's really hard, the sampling will be provided\n",
    "\n",
    "class CPCCriterion(torch.nn.Module):\n",
    "\n",
    "  def __init__(self,\n",
    "               K,\n",
    "               dim_context,\n",
    "               dim_encoder,\n",
    "               n_negative):\n",
    "    super(CPCCriterion, self).__init__()\n",
    "    self.K_ = K\n",
    "    self.dim_context = dim_context\n",
    "    self.dim_encoder = dim_encoder\n",
    "    self.n_negative = n_negative\n",
    "\n",
    "    self.predictors = torch.nn.ModuleList() \n",
    "    for k in range(self.K_):\n",
    "      # TO COMPLETE !\n",
    "      \n",
    "      # A affine transformation in pytorch is equivalent to a nn.Linear layer\n",
    "      # To get a linear transformation you must set bias=False\n",
    "      # input dimension of the layer = dimension of the encoder\n",
    "      # output dimension of the layer = dimension of the context\n",
    "      self.predictors.append(torch.nn.Linear(dim_context, dim_encoder, bias=False))\n",
    "\n",
    "  def get_prediction_k(self, context_data):\n",
    "\n",
    "    #TO COMPLETE !\n",
    "    output = [] \n",
    "    # For each time step k\n",
    "    for k in range(self.K_):\n",
    "\n",
    "      # We need to compute phi_k = A_k * c_t\n",
    "      phi_k = self.predictors[k](context_data)\n",
    "      output.append(phi_k)\n",
    "\n",
    "    return output\n",
    "\n",
    "\n",
    "  def sample_negatives(self, encoded_data):\n",
    "    r\"\"\"\n",
    "    Sample some negative examples in the given encoded data.\n",
    "    Input:\n",
    "    - encoded_data size: B x T x H\n",
    "    Returns\n",
    "    - outputs of size B x (n_negative + 1) x (T - K_) x H\n",
    "      outputs[:, 0, :, :] contains the positive example\n",
    "      outputs[:, 1:, :, :] contains negative example sampled in the batch\n",
    "    - labels, long tensor of size B x (T - K_)\n",
    "      Since the positive example is always at coordinates 0 for all sequences \n",
    "      in the batch and all timestep in the sequence, labels is just a tensor\n",
    "      full of zeros !\n",
    "    \"\"\"\n",
    "    batch_size, time_size, dim_encoded = encoded_data.size()\n",
    "    window_size = time_size - self.K_\n",
    "    outputs = []\n",
    "\n",
    "    neg_ext = encoded_data.contiguous().view(-1, dim_encoded)\n",
    "    n_elem_sampled = self.n_negative * window_size * batch_size\n",
    "    # Draw nNegativeExt * batchSize negative samples anywhere in the batch\n",
    "    batch_idx = torch.randint(low=0, high=batch_size,\n",
    "                              size=(n_elem_sampled, ),\n",
    "                              device=encoded_data.device)\n",
    "\n",
    "    seq_idx = torch.randint(low=1, high=time_size,\n",
    "                            size=(n_elem_sampled, ),\n",
    "                            device=encoded_data.device)\n",
    "\n",
    "    base_idx = torch.arange(0, window_size, device=encoded_data.device)\n",
    "    base_idx = base_idx.view(1, 1, window_size)\n",
    "    base_idx = base_idx.expand(1, self.n_negative, window_size)\n",
    "    base_idx = base_idx.expand(batch_size, self.n_negative, window_size)\n",
    "    seq_idx += base_idx.contiguous().view(-1)\n",
    "    seq_idx = torch.remainder(seq_idx, time_size)\n",
    "\n",
    "    ext_idx = seq_idx + batch_idx * time_size\n",
    "    neg_ext = neg_ext[ext_idx].view(batch_size, self.n_negative,\n",
    "                                    window_size, dim_encoded)\n",
    "    label_loss = torch.zeros((batch_size, window_size),\n",
    "                              dtype=torch.long,\n",
    "                              device=encoded_data.device)\n",
    "\n",
    "    for k in range(1, self.K_ + 1):\n",
    "\n",
    "      # Positive samples\n",
    "      if k < self.K_:\n",
    "          pos_seq = encoded_data[:, k:-(self.K_-k)]\n",
    "      else:\n",
    "          pos_seq = encoded_data[:, k:]\n",
    "\n",
    "      pos_seq = pos_seq.view(batch_size, 1, pos_seq.size(1), dim_encoded)\n",
    "      full_seq = torch.cat((pos_seq, neg_ext), dim=1)\n",
    "      outputs.append(full_seq)\n",
    "\n",
    "    return outputs, label_loss\n",
    "\n",
    "  def forward(self, encoded_data, context_data):\n",
    "\n",
    "    # TO COMPLETE:\n",
    "    # Perform the full cpc criterion\n",
    "    # Returns 2 values:\n",
    "    # - the average classification loss avg_loss\n",
    "    # - the average classification acuracy avg_acc\n",
    "\n",
    "    # Reminder : The permuation !\n",
    "    encoded_data = encoded_data.permute(0, 2, 1)\n",
    "\n",
    "    # First we need to sample the negative examples\n",
    "    negative_samples, labels = self.sample_negatives(encoded_data)\n",
    "\n",
    "    # Then we must compute phi_k\n",
    "    phi_k = self.get_prediction_k(context_data)\n",
    "\n",
    "    # Finally we must get the dot product between phi_k and negative_samples \n",
    "    # for each k\n",
    "\n",
    "    #The total loss is the average of all losses\n",
    "    avg_loss = 0\n",
    "\n",
    "    # Average acuracy\n",
    "    avg_acc = 0\n",
    "\n",
    "    for k in range(self.K_):\n",
    "      B, N_sampled, S_small, H = negative_samples[k].size() \n",
    "      B, S, H = phi_k[k].size()\n",
    "\n",
    "      # As told before S = S_small + K. For segments too far in the sequence\n",
    "      # there are no positive exmples anyway, so we must shorten phi_k\n",
    "      phi = phi_k[k][:, :S_small]\n",
    "\n",
    "      # Now the dot product\n",
    "      # You have several ways to do that, let's do the simple but non optimal \n",
    "      # one\n",
    "      # pytorch has a matrix product function https://pytorch.org/docs/stable/torch.html#torch.bmm\n",
    "      # But it takes only 3D tensors of the same batch size !\n",
    "      # To begin negative_samples is a 4D tensor ! \n",
    "      # We want to compute the dot product for each features, of each sequence\n",
    "      # of the batch. Thus we are trying to compute a dot product for all\n",
    "      # B* N_sampled * S_small 1D vector of negative_samples[k]\n",
    "      # Or, a 1D tensor of size H is also a matrix of size 1 x H\n",
    "      # Then, we must view it as a 3D tensor of size (B* N_sampled * S_small, 1, H)\n",
    "      negative_sample_k  =  negative_samples[k].view(B* N_sampled* S_small, 1, H)\n",
    "\n",
    "      # But now phi and negative_sample_k no longer have the same batch size !\n",
    "      # No worries, we can expand phi so that each sequence of the batch\n",
    "      # is repeated N_sampled times\n",
    "      phi = phi.view(B, 1,S_small, H).expand(B, N_sampled, S_small, H)\n",
    "\n",
    "      # And now we can view it as a 3D tensor \n",
    "      phi  = phi.contiguous().view(B * N_sampled * S_small, H, 1)\n",
    "\n",
    "      # We can finally get the dot product !\n",
    "      scores = torch.bmm(negative_sample_k, phi)\n",
    "\n",
    "      # Dot_product has a size (B * N_sampled * S_small , 1, 1)\n",
    "      # Let's reorder it a bit\n",
    "      scores = scores.reshape(B, N_sampled, S_small)\n",
    "\n",
    "      # For each elements of the sequence, and each elements sampled, it gives \n",
    "      # a floating score stating the likelihood of this element being the \n",
    "      # true one.\n",
    "      # Now the classification loss, we need to use the Cross Entropy loss\n",
    "      # https://pytorch.org/docs/master/generated/torch.nn.CrossEntropyLoss.html\n",
    "\n",
    "      # For each time-step of each sequence of the batch \n",
    "      # we have N_sampled possible predictions. \n",
    "      # Looking at the documentation of torch.nn.CrossEntropyLoss\n",
    "      # we can see that this loss expect a tensor of size M x C where \n",
    "      # - M is the number of elements with a classification score\n",
    "      # - C is the number of possible classes\n",
    "      # There are N_sampled candidates for each predictions so\n",
    "      # C = N_sampled \n",
    "      # Each timestep of each sequence of the batch has a prediction so\n",
    "      # M = B * S_small\n",
    "      # Thus we need an input vector of size B * S_small, N_sampled\n",
    "      # To begin, we need to permute the axis\n",
    "      scores = scores.permute(0, 2, 1) # Now it has size B , S_small, N_sampled\n",
    "\n",
    "      # Then we can cast it into a 2D tensor\n",
    "      scores = scores.reshape(B * S_small, N_sampled)\n",
    "\n",
    "      # Same thing for the labels \n",
    "      labels = labels.reshape(B * S_small)\n",
    "\n",
    "      # Finally we can get the classification loss\n",
    "      loss_criterion = torch.nn.CrossEntropyLoss()\n",
    "      loss_k = loss_criterion(scores, labels)\n",
    "      avg_loss+= loss_k\n",
    "\n",
    "      # And for the acuracy\n",
    "      # The prediction for each elements is the sample with the highest score\n",
    "      # Thus the tensors of all predictions is the tensors of the index of the \n",
    "      # maximal score for each time-step of each sequence of the batch\n",
    "      predictions = torch.argmax(scores, 1)\n",
    "      acc_k  = (labels == predictions).sum() / (B * S_small)\n",
    "      avg_acc += acc_k\n",
    "\n",
    "    # Normalization\n",
    "    avg_loss = avg_loss / self.K_\n",
    "    avg_acc = avg_acc / self.K_\n",
    "      \n",
    "    return avg_loss , avg_acc"
   ]
  },
  {
   "cell_type": "markdown",
   "metadata": {
    "colab_type": "text",
    "id": "0cqGXhLf-_O1"
   },
   "source": [
    "Don't forget to test !"
   ]
  },
  {
   "cell_type": "code",
   "execution_count": null,
   "metadata": {
    "colab": {},
    "colab_type": "code",
    "id": "sYJSMh5I_QCf"
   },
   "outputs": [],
   "source": [
    "audio = torchaudio.load(\"../data/records/train/200624-200537_fra_ac6_elicit_23.wav\")[0]\n",
    "audio = audio.view(1, 1, -1)\n",
    "cpc_criterion = CPCCriterion(N_PREDICTIONS, DIM_CONTEXT, \n",
    "                             DIM_ENCODER, N_NEGATIVE_SAMPLE).to(device)\n",
    "context_output, encoder_output = cpc_model(audio.to(device))\n",
    "loss, avg = cpc_criterion(encoder_output,context_output)"
   ]
  },
  {
   "cell_type": "markdown",
   "metadata": {
    "colab_type": "text",
    "id": "zLv7GoE0_4C3"
   },
   "source": [
    "## Exercise 3: Full training loop !\n",
    "\n",
    "You have the model, you have the criterion. All you need now are a data loader and an optimizer to run your training loop.\n",
    "\n",
    "We will use an Adam optimizer:"
   ]
  },
  {
   "cell_type": "code",
   "execution_count": null,
   "metadata": {
    "colab": {},
    "colab_type": "code",
    "id": "zcg29tqPAIR1"
   },
   "outputs": [],
   "source": [
    "parameters = list(cpc_criterion.parameters()) + list(cpc_model.parameters())\n",
    "optimizer = torch.optim.Adam(parameters, lr=LEARNING_RATE)"
   ]
  },
  {
   "cell_type": "markdown",
   "metadata": {
    "colab_type": "text",
    "id": "hETDwSfTAuF4"
   },
   "source": [
    "And as far as the data loader is concerned, we will rely on the data loader provided by the CPC_audio library."
   ]
  },
  {
   "cell_type": "code",
   "execution_count": null,
   "metadata": {
    "colab": {},
    "colab_type": "code",
    "id": "BjhwgYH_JSi7"
   },
   "outputs": [],
   "source": [
    "from cpc.dataset import parseSeqLabels\n",
    "from cpc.feature_loader import loadModel"
   ]
  },
  {
   "cell_type": "code",
   "execution_count": null,
   "metadata": {
    "colab": {
     "base_uri": "https://localhost:8080/",
     "height": 575
    },
    "colab_type": "code",
    "id": "y1tmlOp6I6Jv",
    "outputId": "eae7daa5-327b-4b21-b455-7a508f6a98ff"
   },
   "outputs": [],
   "source": [
    "checkpoint_path = '../checkpoint_data/checkpoint_30.pt'\n",
    "cpc_model, HIDDEN_CONTEXT_MODEL, HIDDEN_ENCODER_MODEL = loadModel([checkpoint_path])\n",
    "cpc_model = cpc_model.cuda()\n",
    "label_dict, N_PHONES = parseSeqLabels('../data/chars.txt')\n",
    "dataset_train = load_dataset('../data/records/train', file_extension='.wav', phone_label_dict=label_dict)\n",
    "dataset_val = load_dataset('../data/records/val', file_extension='.wav', phone_label_dict=label_dict)\n",
    "data_loader_train = dataset_train.getDataLoader(BATCH_SIZE, \"speaker\", True)\n",
    "data_loader_val = dataset_val.getDataLoader(BATCH_SIZE, \"sequence\", False)\n"
   ]
  },
  {
   "cell_type": "code",
   "execution_count": null,
   "metadata": {
    "colab": {
     "base_uri": "https://localhost:8080/",
     "height": 319
    },
    "colab_type": "code",
    "id": "O6KES4RXA0tU",
    "outputId": "1fbf5098-d1f3-4fba-eb48-69f7a3eb88c7"
   },
   "outputs": [],
   "source": [
    "dataset_train = load_dataset('../data/records/train')\n",
    "dataset_val = load_dataset('../data/records/val')\n",
    "data_loader_train = dataset_train.getDataLoader(BATCH_SIZE, \"speaker\", True)\n",
    "data_loader_val = dataset_train.getDataLoader(BATCH_SIZE, \"sequence\", False)"
   ]
  },
  {
   "cell_type": "markdown",
   "metadata": {
    "colab_type": "text",
    "id": "uCoMCPL0A8VI"
   },
   "source": [
    "Now that everything is ready, complete and test the ```train_step``` function below which trains the model for one epoch."
   ]
  },
  {
   "cell_type": "code",
   "execution_count": null,
   "metadata": {
    "colab": {},
    "colab_type": "code",
    "id": "U-hIH3p8BsZr"
   },
   "outputs": [],
   "source": [
    "def train_step(data_loader,\n",
    "               cpc_model,\n",
    "               cpc_criterion,\n",
    "               optimizer):\n",
    "  \n",
    "  avg_loss = 0\n",
    "  avg_acc = 0\n",
    "  n_items = 0\n",
    "\n",
    "  for step, data in enumerate(data_loader):\n",
    "    x,y = data\n",
    "    bs = len(x)\n",
    "    optimizer.zero_grad()\n",
    "    context_output, encoder_output = cpc_model(x.to(device))\n",
    "    loss , acc = cpc_criterion(encoder_output, context_output)\n",
    "    loss.backward()\n",
    "    n_items+=bs\n",
    "    avg_loss+=loss.item()*bs\n",
    "    avg_acc +=acc.item()*bs\n",
    "  \n",
    "  avg_loss/=n_items\n",
    "  avg_acc/=n_items\n",
    "  return avg_loss, avg_acc"
   ]
  },
  {
   "cell_type": "markdown",
   "metadata": {
    "colab_type": "text",
    "id": "rIj06giJE_bZ"
   },
   "source": [
    "## Exercise 4 : Validation loop\n",
    "\n",
    "Now complete the validation loop."
   ]
  },
  {
   "cell_type": "code",
   "execution_count": null,
   "metadata": {
    "colab": {},
    "colab_type": "code",
    "id": "Q7Qwi6jDByyt"
   },
   "outputs": [],
   "source": [
    "def validation_step(data_loader,\n",
    "                    cpc_model,\n",
    "                    cpc_criterion):\n",
    "  \n",
    "  avg_loss = 0\n",
    "  avg_acc = 0\n",
    "  n_items = 0\n",
    "\n",
    "  for step, data in enumerate(data_loader):\n",
    "    x,y = data\n",
    "    bs = len(x)\n",
    "    context_output, encoder_output = cpc_model(x.to(device))\n",
    "    loss , acc = cpc_criterion(encoder_output, context_output)\n",
    "    n_items+=bs\n",
    "    avg_loss+=loss.item()*bs\n",
    "    avg_acc+=acc.item()*bs\n",
    "  \n",
    "  avg_loss/=n_items\n",
    "  avg_acc/=n_items\n",
    "  return avg_loss, avg_acc"
   ]
  },
  {
   "cell_type": "markdown",
   "metadata": {
    "colab_type": "text",
    "id": "OBVUPKKs2_0U"
   },
   "source": [
    "## Exercise 5: Run everything"
   ]
  },
  {
   "cell_type": "code",
   "execution_count": null,
   "metadata": {
    "colab": {},
    "colab_type": "code",
    "id": "ZbXsZIRiB1tm"
   },
   "outputs": [],
   "source": [
    "def run(train_loader,\n",
    "        val_loader,\n",
    "        cpc_model,\n",
    "        cpc_criterion,\n",
    "        optimizer,\n",
    "        n_epochs):\n",
    "  \n",
    "  for epoch in range(n_epochs):\n",
    "\n",
    "    \n",
    "    print(f\"Running epoch {epoch+1} / {n_epochs}\")\n",
    "    avg_loss_train, avg_acc_train = train_step(train_loader, cpc_model, cpc_criterion, optimizer)\n",
    "    print(\"----------------------\")\n",
    "    print(f\"Training dataset\")\n",
    "    print(f\"- average loss : {avg_loss_train}\")\n",
    "    print(f\"- average acuracy : {avg_acc_train}\")\n",
    "    print(\"----------------------\")\n",
    "    with torch.no_grad():\n",
    "      cpc_model.eval()\n",
    "      cpc_criterion.eval()\n",
    "      avg_loss_val, avg_acc_val = validation_step(val_loader, cpc_model, cpc_criterion)\n",
    "      print(f\"Validation dataset\")\n",
    "      print(f\"- average loss : {avg_loss_val}\")\n",
    "      print(f\"- average acuracy : {avg_acc_val}\")\n",
    "      print(\"----------------------\")\n",
    "      print()\n",
    "      cpc_model.train()\n",
    "      cpc_criterion.train()"
   ]
  },
  {
   "cell_type": "code",
   "execution_count": null,
   "metadata": {
    "colab": {
     "base_uri": "https://localhost:8080/",
     "height": 340
    },
    "colab_type": "code",
    "id": "5xx8vN2wpECC",
    "outputId": "1d3f1c38-71cd-4f69-b513-17496c5e1afd"
   },
   "outputs": [],
   "source": [
    "run(data_loader_train, data_loader_val, cpc_model,cpc_criterion,optimizer,1)"
   ]
  },
  {
   "cell_type": "markdown",
   "metadata": {
    "colab_type": "text",
    "id": "5hoT3_3W6HYY"
   },
   "source": [
    "Once everything is donw, clear the memory."
   ]
  },
  {
   "cell_type": "code",
   "execution_count": null,
   "metadata": {
    "colab": {},
    "colab_type": "code",
    "id": "fU5mDOY46KSG"
   },
   "outputs": [],
   "source": [
    "del dataset_train\n",
    "del dataset_val\n",
    "del cpc_model\n",
    "del context\n",
    "del encoder"
   ]
  },
  {
   "cell_type": "markdown",
   "metadata": {
    "colab_type": "text",
    "id": "srPM5r_LB9v-"
   },
   "source": [
    "# Part 2 : Fine tuning"
   ]
  },
  {
   "cell_type": "markdown",
   "metadata": {
    "colab_type": "text",
    "id": "0Nb_-0IQiJk9"
   },
   "source": [
    "## Exercice 1 : Phone separability with aligned phonemes.\n",
    "\n",
    "One option to evaluate the quality of the features trained with CPC can be to check if they can be used to recognize phonemes. \n",
    "To do so, we can fine-tune a pre-trained model using a limited amount of labelled speech data.\n",
    "We are going to start with a simple evaluation setting where we have the phone labels for each timestep corresponding to a CPC feature.\n",
    "\n",
    "We will work with a model already pre-trained on English data. As far as the fine-tuning dataset is concerned, we will use a 1h subset of [librispeech-100](http://www.openslr.org/12/). "
   ]
  },
  {
   "cell_type": "code",
   "execution_count": null,
   "metadata": {
    "colab": {
     "base_uri": "https://localhost:8080/",
     "height": 608
    },
    "colab_type": "code",
    "id": "N-scDMAasXxc",
    "outputId": "c383ebc7-a52c-4711-bf4d-c94d22246e5f"
   },
   "outputs": [],
   "source": [
    "!mkdir checkpoint_data\n",
    "!wget https://dl.fbaipublicfiles.com/librilight/CPC_checkpoints/not_hub/2levels_6k_top_ctc/checkpoint_30.pt -P checkpoint_data\n",
    "!wget https://dl.fbaipublicfiles.com/librilight/CPC_checkpoints/not_hub/2levels_6k_top_ctc/checkpoint_logs.json -P checkpoint_data\n",
    "!wget https://dl.fbaipublicfiles.com/librilight/CPC_checkpoints/not_hub/2levels_6k_top_ctc/checkpoint_args.json -P checkpoint_data\n",
    "!ls checkpoint_data"
   ]
  },
  {
   "cell_type": "code",
   "execution_count": null,
   "metadata": {
    "colab": {
     "base_uri": "https://localhost:8080/",
     "height": 609
    },
    "colab_type": "code",
    "id": "SSSaiYo82_oY",
    "outputId": "f978b31a-ac90-4154-ee00-59453d4a6302"
   },
   "outputs": [],
   "source": [
    "%cd /content/CPC_audio\n",
    "from cpc.dataset import parseSeqLabels\n",
    "from cpc.feature_loader import loadModel\n",
    "\n",
    "checkpoint_path = 'checkpoint_data/checkpoint_30.pt'\n",
    "cpc_model, HIDDEN_CONTEXT_MODEL, HIDDEN_ENCODER_MODEL = loadModel([checkpoint_path])\n",
    "cpc_model = cpc_model.cuda()\n",
    "label_dict, N_PHONES = parseSeqLabels('../data/chars.txt')\n",
    "dataset_train = load_dataset('../data/records/train', file_extension='.wav', phone_label_dict=label_dict)\n",
    "dataset_val = load_dataset('../data/records/val', file_extension='.wav', phone_label_dict=label_dict)\n",
    "data_loader_train = dataset_train.getDataLoader(BATCH_SIZE, \"speaker\", True)\n",
    "data_loader_val = dataset_val.getDataLoader(BATCH_SIZE, \"sequence\", False)"
   ]
  },
  {
   "cell_type": "code",
   "execution_count": null,
   "metadata": {
    "colab": {},
    "colab_type": "code",
    "id": "3ulgYV3nHcoa"
   },
   "outputs": [],
   "source": [
    "??cpc_model"
   ]
  },
  {
   "cell_type": "markdown",
   "metadata": {
    "colab_type": "text",
    "id": "xkKi-qfosng2"
   },
   "source": [
    "Then we will use a simple linear classifier to recognize the phonemes from the features produced by ```cpc_model```. \n",
    "\n",
    "### a) Build the phone classifier \n",
    "\n",
    "Design a class of linear classifiers, ```PhoneClassifier``` that will take as input a batch of sequences of CPC features and output a score vector for each phoneme"
   ]
  },
  {
   "cell_type": "code",
   "execution_count": null,
   "metadata": {
    "colab": {},
    "colab_type": "code",
    "id": "4RpAbz-0CXJJ"
   },
   "outputs": [],
   "source": [
    "class PhoneClassifier(torch.nn.Module):\n",
    "\n",
    "  def __init__(self,\n",
    "               input_dim : int,\n",
    "               n_phones : int):\n",
    "    super(PhoneClassifier, self).__init__()\n",
    "    self.linear = torch.nn.Linear(input_dim, n_phones)\n",
    "    \n",
    "\n",
    "  def forward(self, x):\n",
    "    return self.linear(x)"
   ]
  },
  {
   "cell_type": "markdown",
   "metadata": {
    "colab_type": "text",
    "id": "Zt5oa_nqtH-d"
   },
   "source": [
    "Our phone classifier will then be:"
   ]
  },
  {
   "cell_type": "code",
   "execution_count": null,
   "metadata": {
    "colab": {},
    "colab_type": "code",
    "id": "NRBf_83IuLv5"
   },
   "outputs": [],
   "source": [
    "phone_classifier = PhoneClassifier(HIDDEN_CONTEXT_MODEL, N_PHONES).to(device)"
   ]
  },
  {
   "cell_type": "markdown",
   "metadata": {
    "colab_type": "text",
    "id": "z_Vf5AbUhqm4"
   },
   "source": [
    "### b - What would be the correct loss criterion for this task ?\n",
    "\n"
   ]
  },
  {
   "cell_type": "code",
   "execution_count": null,
   "metadata": {
    "colab": {},
    "colab_type": "code",
    "id": "uhyPM-cgjrtw"
   },
   "outputs": [],
   "source": [
    "loss_criterion = torch.nn.CrossEntropyLoss()"
   ]
  },
  {
   "cell_type": "markdown",
   "metadata": {
    "colab_type": "text",
    "id": "Nv4cSxbaplrz"
   },
   "source": [
    "To perform the fine-tuning, we will also need an optimization function.\n",
    "\n",
    "We will use an [Adam optimizer ](https://pytorch.org/docs/stable/optim.html#torch.optim.Adam)."
   ]
  },
  {
   "cell_type": "code",
   "execution_count": null,
   "metadata": {
    "colab": {},
    "colab_type": "code",
    "id": "W5CgYyAlqKxu"
   },
   "outputs": [],
   "source": [
    "parameters = list(phone_classifier.parameters()) + list(cpc_model.parameters())\n",
    "LEARNING_RATE = 2e-4\n",
    "optimizer = torch.optim.Adam(parameters, lr=LEARNING_RATE)"
   ]
  },
  {
   "cell_type": "markdown",
   "metadata": {
    "colab_type": "text",
    "id": "qQB9HS9PvAXc"
   },
   "source": [
    "You might also want to perform this training while freezing the weights of the ```cpc_model```. Indeed, if the pre-training was good enough, then ```cpc_model``` phonemes representation should be linearly separable. In this case the optimizer should be defined like this:"
   ]
  },
  {
   "cell_type": "code",
   "execution_count": null,
   "metadata": {
    "colab": {},
    "colab_type": "code",
    "id": "nRy0gn6awGUQ"
   },
   "outputs": [],
   "source": [
    "optimizer_frozen = torch.optim.Adam(list(phone_classifier.parameters()), lr=LEARNING_RATE)"
   ]
  },
  {
   "cell_type": "markdown",
   "metadata": {
    "colab_type": "text",
    "id": "cO93ngIfj4JW"
   },
   "source": [
    "### c- Now let's build a training loop. \n",
    "Complete the function ```train_one_epoch``` below.\n",
    "\n"
   ]
  },
  {
   "cell_type": "code",
   "execution_count": null,
   "metadata": {
    "colab": {},
    "colab_type": "code",
    "id": "fabqj3wvLwgU"
   },
   "outputs": [],
   "source": [
    "def train_one_epoch(cpc_model, \n",
    "                    phone_classifier, \n",
    "                    loss_criterion, \n",
    "                    data_loader, \n",
    "                    optimizer):\n",
    "\n",
    "  cpc_model.train()\n",
    "  loss_criterion.train()\n",
    "\n",
    "  avg_loss = 0\n",
    "  avg_accuracy = 0\n",
    "  n_items = 0\n",
    "  for step, full_data in enumerate(data_loader):\n",
    "    # Each batch is represented by a Tuple of vectors:\n",
    "    # sequence of size : N x 1 x T\n",
    "    # label of size : N x T\n",
    "    # \n",
    "    # With :\n",
    "    # - N number of sequence in the batch\n",
    "    # - T size of each sequence\n",
    "    sequence, label = full_data\n",
    "    \n",
    "    \n",
    "\n",
    "    bs = len(sequence)\n",
    "    seq_len = label.size(1)\n",
    "    optimizer.zero_grad()\n",
    "    context_out, enc_out, _ = cpc_model(sequence.to(device),label.to(device))\n",
    "\n",
    "    scores = phone_classifier(context_out)\n",
    "\n",
    "    scores = scores.permute(0,2,1)\n",
    "    loss = loss_criterion(scores,label.to(device))\n",
    "    loss.backward()\n",
    "    optimizer.step()\n",
    "    avg_loss+=loss.item()*bs\n",
    "    n_items+=bs\n",
    "    correct_labels = scores.argmax(1)\n",
    "    avg_accuracy += ((label==correct_labels.cpu()).float()).mean(1).sum().item()\n",
    "  avg_loss/=n_items\n",
    "  avg_accuracy/=n_items\n",
    "  return avg_loss, avg_accuracy\n",
    "    "
   ]
  },
  {
   "cell_type": "markdown",
   "metadata": {
    "colab_type": "text",
    "id": "quYtjx_TxIPK"
   },
   "source": [
    "Don't forget to test it !"
   ]
  },
  {
   "cell_type": "code",
   "execution_count": null,
   "metadata": {
    "colab": {},
    "colab_type": "code",
    "id": "50MwxbKhxMKp"
   },
   "outputs": [],
   "source": [
    "avg_loss, avg_accuracy = train_one_epoch(cpc_model, phone_classifier, loss_criterion, data_loader_train, optimizer_frozen)"
   ]
  },
  {
   "cell_type": "code",
   "execution_count": null,
   "metadata": {
    "colab": {
     "base_uri": "https://localhost:8080/",
     "height": 34
    },
    "colab_type": "code",
    "id": "_o6yk8XKWnYe",
    "outputId": "19b006e6-03ac-4c18-c415-cdeb293b54d3"
   },
   "outputs": [],
   "source": [
    "avg_loss, avg_accuracy"
   ]
  },
  {
   "cell_type": "markdown",
   "metadata": {
    "colab_type": "text",
    "id": "EmUkuJ2bwu4Z"
   },
   "source": [
    "### d- Build the validation loop"
   ]
  },
  {
   "cell_type": "code",
   "execution_count": null,
   "metadata": {
    "colab": {},
    "colab_type": "code",
    "id": "kZJMxj6cwzd3"
   },
   "outputs": [],
   "source": [
    "def validation_step(cpc_model, \n",
    "                    phone_classifier, \n",
    "                    loss_criterion, \n",
    "                    data_loader):\n",
    "  \n",
    "  cpc_model.eval()\n",
    "  phone_classifier.eval()\n",
    "\n",
    "  avg_loss = 0\n",
    "  avg_accuracy = 0\n",
    "  n_items = 0\n",
    "  with torch.no_grad():\n",
    "    for step, full_data in enumerate(data_loader):\n",
    "      # Each batch is represented by a Tuple of vectors:\n",
    "      # sequence of size : N x 1 x T\n",
    "      # label of size : N x T\n",
    "      # \n",
    "      # With :\n",
    "      # - N number of sequence in the batch\n",
    "      # - T size of each sequence\n",
    "      sequence, label = full_data\n",
    "      bs = len(sequence)\n",
    "      seq_len = label.size(1)\n",
    "      context_out, enc_out, _ = cpc_model(sequence.to(device),label.to(device))\n",
    "      scores = phone_classifier(context_out)\n",
    "      scores = scores.permute(0,2,1)\n",
    "      loss = loss_criterion(scores,label.to(device))\n",
    "      avg_loss+=loss.item()*bs\n",
    "      n_items+=bs\n",
    "      correct_labels = scores.argmax(1)\n",
    "      avg_accuracy += ((label==correct_labels.cpu()).float()).mean(1).sum().item()\n",
    "  avg_loss/=n_items\n",
    "  avg_accuracy/=n_items\n",
    "  return avg_loss, avg_accuracy"
   ]
  },
  {
   "cell_type": "markdown",
   "metadata": {
    "colab_type": "text",
    "id": "vownVCt7xbVh"
   },
   "source": [
    "### e- Run everything\n",
    "\n",
    "Test this functiion with both ```optimizer``` and ```optimizer_frozen```."
   ]
  },
  {
   "cell_type": "code",
   "execution_count": null,
   "metadata": {
    "colab": {},
    "colab_type": "code",
    "id": "xvO_4nKUxfQx"
   },
   "outputs": [],
   "source": [
    "def run(cpc_model, \n",
    "        phone_classifier, \n",
    "        loss_criterion, \n",
    "        data_loader_train, \n",
    "        data_loader_val, \n",
    "        optimizer,\n",
    "        n_epoch):\n",
    "\n",
    "  for epoch in range(n_epoch):\n",
    "\n",
    "    print(f\"Running epoch {epoch + 1} / {n_epoch}\")\n",
    "    loss_train, acc_train = train_one_epoch(cpc_model, phone_classifier, loss_criterion, data_loader_train, optimizer)\n",
    "    print(\"-------------------\")\n",
    "    print(f\"Training dataset :\")\n",
    "    print(f\"Average loss : {loss_train}. Average accuracy {acc_train}\")\n",
    "\n",
    "    print(\"-------------------\")\n",
    "    print(\"Validation dataset\")\n",
    "    loss_val, acc_val = validation_step(cpc_model, phone_classifier, loss_criterion, data_loader_val)\n",
    "    print(f\"Average loss : {loss_val}. Average accuracy {acc_val}\")\n",
    "    print(\"-------------------\")\n",
    "    print()"
   ]
  },
  {
   "cell_type": "code",
   "execution_count": null,
   "metadata": {
    "colab": {
     "base_uri": "https://localhost:8080/",
     "height": 1000
    },
    "colab_type": "code",
    "id": "ceCEO2h2bxAn",
    "outputId": "2842125e-7f20-434d-9189-33699670f620"
   },
   "outputs": [],
   "source": [
    "run(cpc_model,phone_classifier,loss_criterion,data_loader_train,data_loader_val,optimizer_frozen,n_epoch=10)"
   ]
  },
  {
   "cell_type": "markdown",
   "metadata": {
    "colab_type": "text",
    "id": "TdfWDiFnylMT"
   },
   "source": [
    "## Exercise 2 : Phone separability without alignment (PER)\n",
    "\n",
    "Aligned data are very practical, but un real life they are rarely available. That's why in this excercise we will consider a fine-tuning with non-aligned phonemes.\n",
    "\n",
    "The model, the optimizer and the phone classifier will stay the same. However, we will replace our phone criterion with a [CTC loss](https://pytorch.org/docs/master/generated/torch.nn.CTCLoss.html). "
   ]
  },
  {
   "cell_type": "code",
   "execution_count": null,
   "metadata": {
    "colab": {},
    "colab_type": "code",
    "id": "_9BpM_Lpzgx8"
   },
   "outputs": [],
   "source": [
    "loss_ctc = torch.nn.CTCLoss()"
   ]
  },
  {
   "cell_type": "markdown",
   "metadata": {
    "colab_type": "text",
    "id": "AQpYgTyfzsrq"
   },
   "source": [
    "Besides, we will use a siglthy different dataset class."
   ]
  },
  {
   "cell_type": "code",
   "execution_count": null,
   "metadata": {
    "colab": {
     "base_uri": "https://localhost:8080/",
     "height": 272
    },
    "colab_type": "code",
    "id": "9HRxoatlz3ZZ",
    "outputId": "210b7f5f-b722-42dd-97df-56cb2e614a1a"
   },
   "outputs": [],
   "source": [
    "%cd /content/CPC_audio\n",
    "from cpc.eval.common_voices_eval import SingleSequenceDataset, parseSeqLabels, findAllSeqs\n",
    "path_train_data_per = '/content/per_data/pack_master/1h'\n",
    "path_val_data_per = '/content/per_data/pack_master/10min'\n",
    "path_phone_data_per = '/content/per_data/pack_master/10h_phones.txt'\n",
    "BATCH_SIZE=8\n",
    "\n",
    "phone_labels, N_PHONES = parseSeqLabels(path_phone_data_per)\n",
    "data_train_per, _ = findAllSeqs(path_train_data_per, extension='.flac')\n",
    "dataset_train_non_aligned = SingleSequenceDataset(path_train_data_per, data_train_per, phone_labels)\n",
    "data_loader_train = torch.utils.data.DataLoader(dataset_train_non_aligned, batch_size=BATCH_SIZE,\n",
    "                                                shuffle=True)\n",
    "\n",
    "data_val_per, _ = findAllSeqs(path_val_data_per, extension='.flac')\n",
    "dataset_val_non_aligned = SingleSequenceDataset(path_val_data_per, data_val_per, phone_labels)\n",
    "data_loader_val = torch.utils.data.DataLoader(dataset_val_non_aligned, batch_size=BATCH_SIZE,\n",
    "                                              shuffle=True)"
   ]
  },
  {
   "cell_type": "markdown",
   "metadata": {
    "colab_type": "text",
    "id": "GwAckY62z7s9"
   },
   "source": [
    "### a- Training\n",
    "\n",
    "Since the phonemes are not aligned, there is no simple direct way to get the classification acuracy of a model. Write and test the three functions ```train_one_epoch_ctc```, ```validation_step_ctc``` and ```run_ctc``` as before but without considering the average acuracy of the model. "
   ]
  },
  {
   "cell_type": "code",
   "execution_count": null,
   "metadata": {
    "colab": {
     "base_uri": "https://localhost:8080/",
     "height": 51
    },
    "colab_type": "code",
    "id": "oYg5YzW8EHl4",
    "outputId": "be8aec47-f0a8-4cb6-b4ff-df232118a6d3"
   },
   "outputs": [],
   "source": [
    "from cpc.feature_loader import loadModel\n",
    "\n",
    "checkpoint_path = 'checkpoint_data/checkpoint_30.pt'\n",
    "cpc_model, HIDDEN_CONTEXT_MODEL, HIDDEN_ENCODER_MODEL = loadModel([checkpoint_path])\n",
    "cpc_model = cpc_model.cuda()\n",
    "phone_classifier = PhoneClassifier(HIDDEN_CONTEXT_MODEL, N_PHONES).to(device)"
   ]
  },
  {
   "cell_type": "code",
   "execution_count": null,
   "metadata": {
    "colab": {},
    "colab_type": "code",
    "id": "CFQ2g3PjErdZ"
   },
   "outputs": [],
   "source": [
    "parameters = list(phone_classifier.parameters()) + list(cpc_model.parameters())\n",
    "LEARNING_RATE = 2e-4\n",
    "optimizer = torch.optim.Adam(parameters, lr=LEARNING_RATE)\n",
    "\n",
    "optimizer_frozen = torch.optim.Adam(list(phone_classifier.parameters()), lr=LEARNING_RATE)"
   ]
  },
  {
   "cell_type": "code",
   "execution_count": null,
   "metadata": {
    "colab": {},
    "colab_type": "code",
    "id": "Zsgjv3cD0oqD"
   },
   "outputs": [],
   "source": [
    "import torch.nn.functional as F\n",
    "\n",
    "def train_one_epoch_ctc(cpc_model, \n",
    "                        phone_classifier, \n",
    "                        loss_criterion, \n",
    "                        data_loader, \n",
    "                        optimizer):\n",
    "  \n",
    "  cpc_model.train()\n",
    "  loss_criterion.train()\n",
    "\n",
    "  avg_loss = 0\n",
    "  avg_accuracy = 0\n",
    "  n_items = 0\n",
    "  for step, full_data in enumerate(data_loader):\n",
    "\n",
    "    x, x_len, y, y_len = full_data\n",
    "\n",
    "    x_batch_len = x.shape[-1]\n",
    "    x, y = x.to(device), y.to(device)\n",
    "\n",
    "    bs=x.size(0)\n",
    "    optimizer.zero_grad()\n",
    "    context_out, enc_out, _ = cpc_model(x.to(device),y.to(device))\n",
    "  \n",
    "    scores = phone_classifier(context_out)\n",
    "    scores = scores.permute(1,0,2)\n",
    "    scores = F.log_softmax(scores,2)\n",
    "    yhat_len = torch.tensor([int(scores.shape[0]*x_len[i]/x_batch_len) for i in range(scores.shape[1])]) # this is an approximation, should be good enough\n",
    "\n",
    "    loss = loss_criterion(scores,y.to(device),yhat_len,y_len)\n",
    "    loss.backward()\n",
    "    optimizer.step()\n",
    "    avg_loss+=loss.item()*bs\n",
    "    n_items+=bs\n",
    "  avg_loss/=n_items\n",
    "  return avg_loss\n",
    "\n",
    "def validation_step(cpc_model, \n",
    "                    phone_classifier, \n",
    "                    loss_criterion, \n",
    "                    data_loader):\n",
    "\n",
    "  cpc_model.eval()\n",
    "  phone_classifier.eval()\n",
    "  avg_loss = 0\n",
    "  avg_accuracy = 0\n",
    "  n_items = 0\n",
    "  with torch.no_grad():\n",
    "    for step, full_data in enumerate(data_loader):\n",
    "\n",
    "      x, x_len, y, y_len = full_data\n",
    "\n",
    "      x_batch_len = x.shape[-1]\n",
    "      x, y = x.to(device), y.to(device)\n",
    "\n",
    "      bs=x.size(0)\n",
    "      context_out, enc_out, _ = cpc_model(x.to(device),y.to(device))\n",
    "    \n",
    "      scores = phone_classifier(context_out)\n",
    "      scores = scores.permute(1,0,2)\n",
    "      scores = F.log_softmax(scores,2)\n",
    "      yhat_len = torch.tensor([int(scores.shape[0]*x_len[i]/x_batch_len) for i in range(scores.shape[1])]) # this is an approximation, should be good enough\n",
    "\n",
    "      loss = loss_criterion(scores,y.to(device),yhat_len,y_len)\n",
    "      avg_loss+=loss.item()*bs\n",
    "      n_items+=bs\n",
    "  avg_loss/=n_items\n",
    "\n",
    "  return avg_loss\n",
    "\n",
    "def run_ctc(cpc_model, \n",
    "            phone_classifier, \n",
    "            loss_criterion, \n",
    "            data_loader_train, \n",
    "            data_loader_val, \n",
    "            optimizer,\n",
    "            n_epoch):\n",
    "  for epoch in range(n_epoch):\n",
    "\n",
    "    print(f\"Running epoch {epoch + 1} / {n_epoch}\")\n",
    "    loss_train = train_one_epoch_ctc(cpc_model, phone_classifier, loss_criterion, data_loader_train, optimizer)\n",
    "    print(\"-------------------\")\n",
    "    print(f\"Training dataset :\")\n",
    "    print(f\"Average loss : {loss_train}.\")\n",
    "\n",
    "    print(\"-------------------\")\n",
    "    print(\"Validation dataset\")\n",
    "    loss_val = validation_step(cpc_model, phone_classifier, loss_criterion, data_loader_val)\n",
    "    print(f\"Average loss : {loss_val}\")\n",
    "    print(\"-------------------\")\n",
    "    print()"
   ]
  },
  {
   "cell_type": "code",
   "execution_count": null,
   "metadata": {
    "colab": {
     "base_uri": "https://localhost:8080/",
     "height": 1000
    },
    "colab_type": "code",
    "id": "GSr7tcUdD72c",
    "outputId": "ea9f1f53-6b42-436d-e760-68bfdae72bf4"
   },
   "outputs": [],
   "source": [
    "run_ctc(cpc_model,phone_classifier,loss_ctc,data_loader_train,data_loader_val,optimizer_frozen,n_epoch=10)"
   ]
  },
  {
   "cell_type": "markdown",
   "metadata": {
    "colab_type": "text",
    "id": "TKrYW4gK1BBF"
   },
   "source": [
    "### b- Evaluation: the Phone Error Rate (PER)\n",
    "\n",
    "In order to compute the similarity between two sequences, we can use the [Levenshtein distance](https://en.wikipedia.org/wiki/Levenshtein_distance). This distance estimates the minimum number of insertion, deletion and addition to move from one sequence to another. If we normalize this distance by the number of characters in the reference sequence we get the Phone Error Rate (PER).\n",
    "\n",
    "This value can be interpreted as :\n",
    "\\\\[  PER = \\frac{S + D + I}{N} \\\\]\n",
    "\n",
    "Where:\n",
    "\n",
    "\n",
    "*   N is the number of characters in the reference\n",
    "*   S is the number of substitutiion\n",
    "*   I in the number of insertion\n",
    "*   D in the number of deletion\n",
    "\n",
    "For the best possible alignment of the two sequences.\n",
    "\n"
   ]
  },
  {
   "cell_type": "code",
   "execution_count": null,
   "metadata": {
    "colab": {},
    "colab_type": "code",
    "id": "RoBhsx7GNqI_"
   },
   "outputs": [],
   "source": [
    "import numpy as np\n",
    "\n",
    "def get_PER_sequence(ref_seq, target_seq):\n",
    "\n",
    "  # re = g.split()\n",
    "  # h = h.split()\n",
    "  n = len(ref_seq)\n",
    "  m = len(target_seq)\n",
    "\n",
    "  D = np.zeros((n+1,m+1))\n",
    "  for i in range(1,n+1):\n",
    "    D[i,0] = D[i-1,0]+1\n",
    "  for j in range(1,m+1):\n",
    "    D[0,j] = D[0,j-1]+1\n",
    "  \n",
    "  ### TODO compute the alignment\n",
    "\n",
    "  for i in range(1,n+1):\n",
    "    for j in range(1,m+1):\n",
    "      D[i,j] = min(\n",
    "          D[i-1,j]+1,\n",
    "          D[i-1,j-1]+1,\n",
    "          D[i,j-1]+1,\n",
    "          D[i-1,j-1]+ 0 if ref_seq[i-1]==target_seq[j-1] else float(\"inf\")\n",
    "      )\n",
    "  return D[n,m]/len(ref_seq)\n",
    "  \n",
    "\n",
    "  #return PER"
   ]
  },
  {
   "cell_type": "markdown",
   "metadata": {
    "colab_type": "text",
    "id": "r-hr0KK0mgcR"
   },
   "source": [
    "You can test your function below:"
   ]
  },
  {
   "cell_type": "code",
   "execution_count": null,
   "metadata": {
    "colab": {
     "base_uri": "https://localhost:8080/",
     "height": 34
    },
    "colab_type": "code",
    "id": "AfTb3yOQmvey",
    "outputId": "5db807ca-4c58-4413-ab19-6581d7d07263"
   },
   "outputs": [],
   "source": [
    "ref_seq = [0, 1, 1, 2, 0, 2, 2]\n",
    "pred_seq = [1, 1, 2, 2, 0, 0]\n",
    "\n",
    "expected_PER = 4. / 7.\n",
    "print(get_PER_sequence(ref_seq, pred_seq) == expected_PER)"
   ]
  },
  {
   "cell_type": "markdown",
   "metadata": {
    "colab_type": "text",
    "id": "nHiyChl-m_k7"
   },
   "source": [
    "## c- Evaluating the PER of your model on the test dataset\n",
    "\n",
    "Evaluate the PER on the validation dataset. Please notice that you should usually use a separate dataset, called the dev dataset, to perform this operation. However for the sake of simplicity we will work with validation data in this exercise."
   ]
  },
  {
   "cell_type": "code",
   "execution_count": null,
   "metadata": {
    "colab": {},
    "colab_type": "code",
    "id": "DMkX0PoFnclg"
   },
   "outputs": [],
   "source": [
    "import progressbar\n",
    "from multiprocessing import Pool\n",
    "\n",
    "def cut_data(seq, sizeSeq):\n",
    "    maxSeq = sizeSeq.max()\n",
    "    return seq[:, :maxSeq]\n",
    "\n",
    "\n",
    "def prepare_data(data):\n",
    "    seq, sizeSeq, phone, sizePhone = data\n",
    "    seq = seq.cuda()\n",
    "    phone = phone.cuda()\n",
    "    sizeSeq = sizeSeq.cuda().view(-1)\n",
    "    sizePhone = sizePhone.cuda().view(-1)\n",
    "\n",
    "    seq = cut_data(seq.permute(0, 2, 1), sizeSeq).permute(0, 2, 1)\n",
    "    return seq, sizeSeq, phone, sizePhone\n",
    "\n",
    "\n",
    "def get_per(test_dataloader,\n",
    "            cpc_model,\n",
    "            phone_classifier):\n",
    "\n",
    "  downsampling_factor = 160\n",
    "  cpc_model.eval()\n",
    "  phone_classifier.eval()\n",
    "\n",
    "  avgPER = 0\n",
    "  nItems = 0 \n",
    "\n",
    "  print(\"Starting the PER computation through beam search\")\n",
    "  bar = progressbar.ProgressBar(maxval=len(test_dataloader))\n",
    "  bar.start()\n",
    "\n",
    "  for index, data in enumerate(test_dataloader):\n",
    "\n",
    "    bar.update(index)\n",
    "\n",
    "    with torch.no_grad():\n",
    "      \n",
    "        seq, sizeSeq, phone, sizePhone = prepare_data(data)\n",
    "        c_feature, _, _ = cpc_model(seq.to(device),phone.to(device))\n",
    "        sizeSeq = sizeSeq / downsampling_factor\n",
    "        predictions = torch.nn.functional.softmax(\n",
    "        phone_classifier(c_feature), dim=2).cpu()\n",
    "        phone = phone.cpu()\n",
    "        sizeSeq = sizeSeq.cpu()\n",
    "        sizePhone = sizePhone.cpu()\n",
    "\n",
    "        bs = c_feature.size(0)\n",
    "        data_per = [(predictions[b].argmax(1),  phone[b]) for b in range(bs)]\n",
    "        # data_per = [(predictions[b], sizeSeq[b], phone[b], sizePhone[b],\n",
    "        #               \"criterion.module.BLANK_LABEL\") for b in range(bs)]\n",
    "\n",
    "        with Pool(bs) as p:\n",
    "            poolData = p.starmap(get_PER_sequence, data_per)\n",
    "        avgPER += sum([x for x in poolData])\n",
    "        nItems += len(poolData)\n",
    "\n",
    "  bar.finish()\n",
    "\n",
    "  avgPER /= nItems\n",
    "\n",
    "  print(f\"Average PER {avgPER}\")\n",
    "  return avgPER\n"
   ]
  },
  {
   "cell_type": "code",
   "execution_count": null,
   "metadata": {
    "colab": {
     "base_uri": "https://localhost:8080/",
     "height": 85
    },
    "colab_type": "code",
    "id": "2hvnudh4Osb4",
    "outputId": "acdd8ab7-c766-4a2b-9b6c-b744266d6240"
   },
   "outputs": [],
   "source": [
    "get_per(data_loader_val,cpc_model,phone_classifier)"
   ]
  },
  {
   "cell_type": "markdown",
   "metadata": {
    "colab_type": "text",
    "id": "p8e9D7g8159k"
   },
   "source": [
    "## Exercice 3 : Character error rate (CER) \n",
    "\n",
    "The Character Error Rate (CER) is an evaluation metric similar to the PER but with characters insterad of phonemes. Using the following data, run the functions you defined previously to estimate the CER of your model after fine-tuning."
   ]
  },
  {
   "cell_type": "code",
   "execution_count": null,
   "metadata": {
    "colab": {
     "base_uri": "https://localhost:8080/",
     "height": 272
    },
    "colab_type": "code",
    "id": "cXONmKQOuFSn",
    "outputId": "5a2791ec-ff0e-4749-ce93-92922ffbee01"
   },
   "outputs": [],
   "source": [
    "# Load a dataset labelled with the letters of each sequence.\n",
    "%cd /content/CPC_audio\n",
    "from cpc.eval.common_voices_eval import SingleSequenceDataset, parseSeqLabels, findAllSeqs\n",
    "path_train_data_cer = '/content/per_data/pack_master/1h'\n",
    "path_val_data_cer = '/content/per_data/pack_master/10min'\n",
    "path_letter_data_cer = '/content/per_data/pack_master/chars.txt'\n",
    "BATCH_SIZE=8\n",
    "\n",
    "letters_labels, N_LETTERS = parseSeqLabels(path_letter_data_cer)\n",
    "data_train_cer, _ = findAllSeqs(path_train_data_cer, extension='.flac')\n",
    "dataset_train_non_aligned = SingleSequenceDataset(path_train_data_cer, data_train_cer, letters_labels)\n",
    "\n",
    "\n",
    "data_val_cer, _ = findAllSeqs(path_val_data_cer, extension='.flac')\n",
    "dataset_val_non_aligned = SingleSequenceDataset(path_val_data_cer, data_val_cer, letters_labels)\n",
    "\n",
    "\n",
    "# The data loader will generate a tuple of tensors data, labels for each batch\n",
    "# data : size N x T1 x 1 : the audio sequence\n",
    "# label : size N x T2 the sequence of letters corresponding to the audio data\n",
    "# IMPORTANT NOTE: just like the PER the CER is computed with non-aligned phone data.\n",
    "data_loader_train_letters = torch.utils.data.DataLoader(dataset_train_non_aligned, batch_size=BATCH_SIZE,\n",
    "                                                shuffle=True)\n",
    "data_loader_val_letters = torch.utils.data.DataLoader(dataset_val_non_aligned, batch_size=BATCH_SIZE,\n",
    "                                              shuffle=True)"
   ]
  },
  {
   "cell_type": "code",
   "execution_count": null,
   "metadata": {
    "colab": {
     "base_uri": "https://localhost:8080/",
     "height": 51
    },
    "colab_type": "code",
    "id": "9h07zI2LjzAU",
    "outputId": "70542ed5-a32e-448f-83ea-6355e601511e"
   },
   "outputs": [],
   "source": [
    "from cpc.feature_loader import loadModel\n",
    "\n",
    "checkpoint_path = 'checkpoint_data/checkpoint_30.pt'\n",
    "cpc_model, HIDDEN_CONTEXT_MODEL, HIDDEN_ENCODER_MODEL = loadModel([checkpoint_path])\n",
    "cpc_model = cpc_model.cuda()\n",
    "character_classifier = PhoneClassifier(HIDDEN_CONTEXT_MODEL, N_LETTERS).to(device)"
   ]
  },
  {
   "cell_type": "code",
   "execution_count": null,
   "metadata": {
    "colab": {},
    "colab_type": "code",
    "id": "rHCNg1E7lW1L"
   },
   "outputs": [],
   "source": [
    "parameters = list(character_classifier.parameters()) + list(cpc_model.parameters())\n",
    "LEARNING_RATE = 2e-4\n",
    "optimizer = torch.optim.Adam(parameters, lr=LEARNING_RATE)\n",
    "\n",
    "optimizer_frozen = torch.optim.Adam(list(character_classifier.parameters()), lr=LEARNING_RATE)"
   ]
  },
  {
   "cell_type": "code",
   "execution_count": null,
   "metadata": {
    "colab": {},
    "colab_type": "code",
    "id": "engpkljbk9hj"
   },
   "outputs": [],
   "source": [
    "loss_ctc = torch.nn.CTCLoss()"
   ]
  },
  {
   "cell_type": "code",
   "execution_count": null,
   "metadata": {
    "colab": {
     "base_uri": "https://localhost:8080/",
     "height": 1000
    },
    "colab_type": "code",
    "id": "9NBHd2s2kxld",
    "outputId": "24067818-b4b2-4f90-a433-a63f851b7587"
   },
   "outputs": [],
   "source": [
    "run_ctc(cpc_model,character_classifier,loss_ctc,data_loader_train_letters,data_loader_val_letters,optimizer_frozen,n_epoch=10)"
   ]
  },
  {
   "cell_type": "code",
   "execution_count": null,
   "metadata": {
    "colab": {
     "base_uri": "https://localhost:8080/",
     "height": 85
    },
    "colab_type": "code",
    "id": "A8oxFr1jm17P",
    "outputId": "947ea6da-7fd9-4106-e3f1-32cf6d77c4f4"
   },
   "outputs": [],
   "source": [
    "get_per(data_loader_val_letters,cpc_model,character_classifier)"
   ]
  }
 ],
 "metadata": {
  "accelerator": "GPU",
  "colab": {
   "collapsed_sections": [],
   "name": "Moteu_CTC.ipynb",
   "provenance": [],
   "toc_visible": true
  },
  "kernelspec": {
   "display_name": "Python 3",
   "language": "python",
   "name": "python3"
  },
  "language_info": {
   "codemirror_mode": {
    "name": "ipython",
    "version": 3
   },
   "file_extension": ".py",
   "mimetype": "text/x-python",
   "name": "python",
   "nbconvert_exporter": "python",
   "pygments_lexer": "ipython3",
   "version": "3.7.3"
  }
 },
 "nbformat": 4,
 "nbformat_minor": 4
}
