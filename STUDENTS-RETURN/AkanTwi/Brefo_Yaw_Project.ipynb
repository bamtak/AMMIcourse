{
  "nbformat": 4,
  "nbformat_minor": 0,
  "metadata": {
    "accelerator": "GPU",
    "colab": {
      "name": "Brefo_Yaw_Project.ipynb",
      "provenance": [],
      "collapsed_sections": [],
      "toc_visible": true
    },
    "kernelspec": {
      "display_name": "Python 3",
      "language": "python",
      "name": "python3"
    },
    "language_info": {
      "codemirror_mode": {
        "name": "ipython",
        "version": 3
      },
      "file_extension": ".py",
      "mimetype": "text/x-python",
      "name": "python",
      "nbconvert_exporter": "python",
      "pygments_lexer": "ipython3",
      "version": "3.7.3"
    }
  },
  "cells": [
    {
      "cell_type": "code",
      "metadata": {
        "id": "izoulkRJFcup",
        "colab_type": "code",
        "colab": {
          "base_uri": "https://localhost:8080/",
          "height": 124
        },
        "outputId": "39f1e5c1-c7d2-47e7-aeff-a52824e70569"
      },
      "source": [
        "# Mount google drive\n",
        "from google.colab import drive\n",
        "drive.mount('/content/gdrive')"
      ],
      "execution_count": 1,
      "outputs": [
        {
          "output_type": "stream",
          "text": [
            "Go to this URL in a browser: https://accounts.google.com/o/oauth2/auth?client_id=947318989803-6bn6qk8qdgf4n4g3pfee6491hc0brc4i.apps.googleusercontent.com&redirect_uri=urn%3aietf%3awg%3aoauth%3a2.0%3aoob&response_type=code&scope=email%20https%3a%2f%2fwww.googleapis.com%2fauth%2fdocs.test%20https%3a%2f%2fwww.googleapis.com%2fauth%2fdrive%20https%3a%2f%2fwww.googleapis.com%2fauth%2fdrive.photos.readonly%20https%3a%2f%2fwww.googleapis.com%2fauth%2fpeopleapi.readonly\n",
            "\n",
            "Enter your authorization code:\n",
            "··········\n",
            "Mounted at /content/gdrive\n"
          ],
          "name": "stdout"
        }
      ]
    },
    {
      "cell_type": "code",
      "metadata": {
        "id": "BnvKA91fFgyK",
        "colab_type": "code",
        "colab": {
          "base_uri": "https://localhost:8080/",
          "height": 503
        },
        "outputId": "cefc91ee-d868-46c3-e0b8-06aff3562275"
      },
      "source": [
        "!pip install torchaudio\n",
        "!pip install PyDrive\n",
        "!pip install soundfile"
      ],
      "execution_count": 2,
      "outputs": [
        {
          "output_type": "stream",
          "text": [
            "Collecting torchaudio\n",
            "\u001b[?25l  Downloading https://files.pythonhosted.org/packages/e9/0a/40e53c686c2af65b2a4e818d11d9b76fa79178440caf99f3ceb2a32c3b04/torchaudio-0.5.1-cp36-cp36m-manylinux1_x86_64.whl (3.2MB)\n",
            "\r\u001b[K     |                                | 10kB 17.6MB/s eta 0:00:01\r\u001b[K     |▏                               | 20kB 1.7MB/s eta 0:00:02\r\u001b[K     |▎                               | 30kB 2.2MB/s eta 0:00:02\r\u001b[K     |▍                               | 40kB 2.4MB/s eta 0:00:02\r\u001b[K     |▌                               | 51kB 1.9MB/s eta 0:00:02\r\u001b[K     |▋                               | 61kB 2.2MB/s eta 0:00:02\r\u001b[K     |▊                               | 71kB 2.4MB/s eta 0:00:02\r\u001b[K     |▉                               | 81kB 2.6MB/s eta 0:00:02\r\u001b[K     |█                               | 92kB 2.8MB/s eta 0:00:02\r\u001b[K     |█                               | 102kB 2.7MB/s eta 0:00:02\r\u001b[K     |█▏                              | 112kB 2.7MB/s eta 0:00:02\r\u001b[K     |█▎                              | 122kB 2.7MB/s eta 0:00:02\r\u001b[K     |█▍                              | 133kB 2.7MB/s eta 0:00:02\r\u001b[K     |█▍                              | 143kB 2.7MB/s eta 0:00:02\r\u001b[K     |█▌                              | 153kB 2.7MB/s eta 0:00:02\r\u001b[K     |█▋                              | 163kB 2.7MB/s eta 0:00:02\r\u001b[K     |█▊                              | 174kB 2.7MB/s eta 0:00:02\r\u001b[K     |█▉                              | 184kB 2.7MB/s eta 0:00:02\r\u001b[K     |██                              | 194kB 2.7MB/s eta 0:00:02\r\u001b[K     |██                              | 204kB 2.7MB/s eta 0:00:02\r\u001b[K     |██▏                             | 215kB 2.7MB/s eta 0:00:02\r\u001b[K     |██▎                             | 225kB 2.7MB/s eta 0:00:02\r\u001b[K     |██▍                             | 235kB 2.7MB/s eta 0:00:02\r\u001b[K     |██▌                             | 245kB 2.7MB/s eta 0:00:02\r\u001b[K     |██▋                             | 256kB 2.7MB/s eta 0:00:02\r\u001b[K     |██▊                             | 266kB 2.7MB/s eta 0:00:02\r\u001b[K     |██▊                             | 276kB 2.7MB/s eta 0:00:02\r\u001b[K     |██▉                             | 286kB 2.7MB/s eta 0:00:02\r\u001b[K     |███                             | 296kB 2.7MB/s eta 0:00:02\r\u001b[K     |███                             | 307kB 2.7MB/s eta 0:00:02\r\u001b[K     |███▏                            | 317kB 2.7MB/s eta 0:00:02\r\u001b[K     |███▎                            | 327kB 2.7MB/s eta 0:00:02\r\u001b[K     |███▍                            | 337kB 2.7MB/s eta 0:00:02\r\u001b[K     |███▌                            | 348kB 2.7MB/s eta 0:00:02\r\u001b[K     |███▋                            | 358kB 2.7MB/s eta 0:00:02\r\u001b[K     |███▊                            | 368kB 2.7MB/s eta 0:00:02\r\u001b[K     |███▉                            | 378kB 2.7MB/s eta 0:00:02\r\u001b[K     |████                            | 389kB 2.7MB/s eta 0:00:02\r\u001b[K     |████                            | 399kB 2.7MB/s eta 0:00:02\r\u001b[K     |████▏                           | 409kB 2.7MB/s eta 0:00:02\r\u001b[K     |████▏                           | 419kB 2.7MB/s eta 0:00:02\r\u001b[K     |████▎                           | 430kB 2.7MB/s eta 0:00:02\r\u001b[K     |████▍                           | 440kB 2.7MB/s eta 0:00:02\r\u001b[K     |████▌                           | 450kB 2.7MB/s eta 0:00:02\r\u001b[K     |████▋                           | 460kB 2.7MB/s eta 0:00:02\r\u001b[K     |████▊                           | 471kB 2.7MB/s eta 0:00:02\r\u001b[K     |████▉                           | 481kB 2.7MB/s eta 0:00:02\r\u001b[K     |█████                           | 491kB 2.7MB/s eta 0:00:01\r\u001b[K     |█████                           | 501kB 2.7MB/s eta 0:00:01\r\u001b[K     |█████▏                          | 512kB 2.7MB/s eta 0:00:01\r\u001b[K     |█████▎                          | 522kB 2.7MB/s eta 0:00:01\r\u001b[K     |█████▍                          | 532kB 2.7MB/s eta 0:00:01\r\u001b[K     |█████▌                          | 542kB 2.7MB/s eta 0:00:01\r\u001b[K     |█████▌                          | 552kB 2.7MB/s eta 0:00:01\r\u001b[K     |█████▋                          | 563kB 2.7MB/s eta 0:00:01\r\u001b[K     |█████▊                          | 573kB 2.7MB/s eta 0:00:01\r\u001b[K     |█████▉                          | 583kB 2.7MB/s eta 0:00:01\r\u001b[K     |██████                          | 593kB 2.7MB/s eta 0:00:01\r\u001b[K     |██████                          | 604kB 2.7MB/s eta 0:00:01\r\u001b[K     |██████▏                         | 614kB 2.7MB/s eta 0:00:01\r\u001b[K     |██████▎                         | 624kB 2.7MB/s eta 0:00:01\r\u001b[K     |██████▍                         | 634kB 2.7MB/s eta 0:00:01\r\u001b[K     |██████▌                         | 645kB 2.7MB/s eta 0:00:01\r\u001b[K     |██████▋                         | 655kB 2.7MB/s eta 0:00:01\r\u001b[K     |██████▊                         | 665kB 2.7MB/s eta 0:00:01\r\u001b[K     |██████▉                         | 675kB 2.7MB/s eta 0:00:01\r\u001b[K     |██████▉                         | 686kB 2.7MB/s eta 0:00:01\r\u001b[K     |███████                         | 696kB 2.7MB/s eta 0:00:01\r\u001b[K     |███████                         | 706kB 2.7MB/s eta 0:00:01\r\u001b[K     |███████▏                        | 716kB 2.7MB/s eta 0:00:01\r\u001b[K     |███████▎                        | 727kB 2.7MB/s eta 0:00:01\r\u001b[K     |███████▍                        | 737kB 2.7MB/s eta 0:00:01\r\u001b[K     |███████▌                        | 747kB 2.7MB/s eta 0:00:01\r\u001b[K     |███████▋                        | 757kB 2.7MB/s eta 0:00:01\r\u001b[K     |███████▊                        | 768kB 2.7MB/s eta 0:00:01\r\u001b[K     |███████▉                        | 778kB 2.7MB/s eta 0:00:01\r\u001b[K     |████████                        | 788kB 2.7MB/s eta 0:00:01\r\u001b[K     |████████                        | 798kB 2.7MB/s eta 0:00:01\r\u001b[K     |████████▏                       | 808kB 2.7MB/s eta 0:00:01\r\u001b[K     |████████▎                       | 819kB 2.7MB/s eta 0:00:01\r\u001b[K     |████████▎                       | 829kB 2.7MB/s eta 0:00:01\r\u001b[K     |████████▍                       | 839kB 2.7MB/s eta 0:00:01\r\u001b[K     |████████▌                       | 849kB 2.7MB/s eta 0:00:01\r\u001b[K     |████████▋                       | 860kB 2.7MB/s eta 0:00:01\r\u001b[K     |████████▊                       | 870kB 2.7MB/s eta 0:00:01\r\u001b[K     |████████▉                       | 880kB 2.7MB/s eta 0:00:01\r\u001b[K     |█████████                       | 890kB 2.7MB/s eta 0:00:01\r\u001b[K     |█████████                       | 901kB 2.7MB/s eta 0:00:01\r\u001b[K     |█████████▏                      | 911kB 2.7MB/s eta 0:00:01\r\u001b[K     |█████████▎                      | 921kB 2.7MB/s eta 0:00:01\r\u001b[K     |█████████▍                      | 931kB 2.7MB/s eta 0:00:01\r\u001b[K     |█████████▌                      | 942kB 2.7MB/s eta 0:00:01\r\u001b[K     |█████████▋                      | 952kB 2.7MB/s eta 0:00:01\r\u001b[K     |█████████▋                      | 962kB 2.7MB/s eta 0:00:01\r\u001b[K     |█████████▊                      | 972kB 2.7MB/s eta 0:00:01\r\u001b[K     |█████████▉                      | 983kB 2.7MB/s eta 0:00:01\r\u001b[K     |██████████                      | 993kB 2.7MB/s eta 0:00:01\r\u001b[K     |██████████                      | 1.0MB 2.7MB/s eta 0:00:01\r\u001b[K     |██████████▏                     | 1.0MB 2.7MB/s eta 0:00:01\r\u001b[K     |██████████▎                     | 1.0MB 2.7MB/s eta 0:00:01\r\u001b[K     |██████████▍                     | 1.0MB 2.7MB/s eta 0:00:01\r\u001b[K     |██████████▌                     | 1.0MB 2.7MB/s eta 0:00:01\r\u001b[K     |██████████▋                     | 1.1MB 2.7MB/s eta 0:00:01\r\u001b[K     |██████████▊                     | 1.1MB 2.7MB/s eta 0:00:01\r\u001b[K     |██████████▉                     | 1.1MB 2.7MB/s eta 0:00:01\r\u001b[K     |███████████                     | 1.1MB 2.7MB/s eta 0:00:01\r\u001b[K     |███████████                     | 1.1MB 2.7MB/s eta 0:00:01\r\u001b[K     |███████████                     | 1.1MB 2.7MB/s eta 0:00:01\r\u001b[K     |███████████▏                    | 1.1MB 2.7MB/s eta 0:00:01\r\u001b[K     |███████████▎                    | 1.1MB 2.7MB/s eta 0:00:01\r\u001b[K     |███████████▍                    | 1.1MB 2.7MB/s eta 0:00:01\r\u001b[K     |███████████▌                    | 1.1MB 2.7MB/s eta 0:00:01\r\u001b[K     |███████████▋                    | 1.2MB 2.7MB/s eta 0:00:01\r\u001b[K     |███████████▊                    | 1.2MB 2.7MB/s eta 0:00:01\r\u001b[K     |███████████▉                    | 1.2MB 2.7MB/s eta 0:00:01\r\u001b[K     |████████████                    | 1.2MB 2.7MB/s eta 0:00:01\r\u001b[K     |████████████                    | 1.2MB 2.7MB/s eta 0:00:01\r\u001b[K     |████████████▏                   | 1.2MB 2.7MB/s eta 0:00:01\r\u001b[K     |████████████▎                   | 1.2MB 2.7MB/s eta 0:00:01\r\u001b[K     |████████████▍                   | 1.2MB 2.7MB/s eta 0:00:01\r\u001b[K     |████████████▍                   | 1.2MB 2.7MB/s eta 0:00:01\r\u001b[K     |████████████▌                   | 1.2MB 2.7MB/s eta 0:00:01\r\u001b[K     |████████████▋                   | 1.3MB 2.7MB/s eta 0:00:01\r\u001b[K     |████████████▊                   | 1.3MB 2.7MB/s eta 0:00:01\r\u001b[K     |████████████▉                   | 1.3MB 2.7MB/s eta 0:00:01\r\u001b[K     |█████████████                   | 1.3MB 2.7MB/s eta 0:00:01\r\u001b[K     |█████████████                   | 1.3MB 2.7MB/s eta 0:00:01\r\u001b[K     |█████████████▏                  | 1.3MB 2.7MB/s eta 0:00:01\r\u001b[K     |█████████████▎                  | 1.3MB 2.7MB/s eta 0:00:01\r\u001b[K     |█████████████▍                  | 1.3MB 2.7MB/s eta 0:00:01\r\u001b[K     |█████████████▌                  | 1.3MB 2.7MB/s eta 0:00:01\r\u001b[K     |█████████████▋                  | 1.4MB 2.7MB/s eta 0:00:01\r\u001b[K     |█████████████▊                  | 1.4MB 2.7MB/s eta 0:00:01\r\u001b[K     |█████████████▊                  | 1.4MB 2.7MB/s eta 0:00:01\r\u001b[K     |█████████████▉                  | 1.4MB 2.7MB/s eta 0:00:01\r\u001b[K     |██████████████                  | 1.4MB 2.7MB/s eta 0:00:01\r\u001b[K     |██████████████                  | 1.4MB 2.7MB/s eta 0:00:01\r\u001b[K     |██████████████▏                 | 1.4MB 2.7MB/s eta 0:00:01\r\u001b[K     |██████████████▎                 | 1.4MB 2.7MB/s eta 0:00:01\r\u001b[K     |██████████████▍                 | 1.4MB 2.7MB/s eta 0:00:01\r\u001b[K     |██████████████▌                 | 1.4MB 2.7MB/s eta 0:00:01\r\u001b[K     |██████████████▋                 | 1.5MB 2.7MB/s eta 0:00:01\r\u001b[K     |██████████████▊                 | 1.5MB 2.7MB/s eta 0:00:01\r\u001b[K     |██████████████▉                 | 1.5MB 2.7MB/s eta 0:00:01\r\u001b[K     |███████████████                 | 1.5MB 2.7MB/s eta 0:00:01\r\u001b[K     |███████████████                 | 1.5MB 2.7MB/s eta 0:00:01\r\u001b[K     |███████████████                 | 1.5MB 2.7MB/s eta 0:00:01\r\u001b[K     |███████████████▏                | 1.5MB 2.7MB/s eta 0:00:01\r\u001b[K     |███████████████▎                | 1.5MB 2.7MB/s eta 0:00:01\r\u001b[K     |███████████████▍                | 1.5MB 2.7MB/s eta 0:00:01\r\u001b[K     |███████████████▌                | 1.5MB 2.7MB/s eta 0:00:01\r\u001b[K     |███████████████▋                | 1.6MB 2.7MB/s eta 0:00:01\r\u001b[K     |███████████████▊                | 1.6MB 2.7MB/s eta 0:00:01\r\u001b[K     |███████████████▉                | 1.6MB 2.7MB/s eta 0:00:01\r\u001b[K     |████████████████                | 1.6MB 2.7MB/s eta 0:00:01\r\u001b[K     |████████████████                | 1.6MB 2.7MB/s eta 0:00:01\r\u001b[K     |████████████████▏               | 1.6MB 2.7MB/s eta 0:00:01\r\u001b[K     |████████████████▎               | 1.6MB 2.7MB/s eta 0:00:01\r\u001b[K     |████████████████▍               | 1.6MB 2.7MB/s eta 0:00:01\r\u001b[K     |████████████████▌               | 1.6MB 2.7MB/s eta 0:00:01\r\u001b[K     |████████████████▌               | 1.6MB 2.7MB/s eta 0:00:01\r\u001b[K     |████████████████▋               | 1.7MB 2.7MB/s eta 0:00:01\r\u001b[K     |████████████████▊               | 1.7MB 2.7MB/s eta 0:00:01\r\u001b[K     |████████████████▉               | 1.7MB 2.7MB/s eta 0:00:01\r\u001b[K     |█████████████████               | 1.7MB 2.7MB/s eta 0:00:01\r\u001b[K     |█████████████████               | 1.7MB 2.7MB/s eta 0:00:01\r\u001b[K     |█████████████████▏              | 1.7MB 2.7MB/s eta 0:00:01\r\u001b[K     |█████████████████▎              | 1.7MB 2.7MB/s eta 0:00:01\r\u001b[K     |█████████████████▍              | 1.7MB 2.7MB/s eta 0:00:01\r\u001b[K     |█████████████████▌              | 1.7MB 2.7MB/s eta 0:00:01\r\u001b[K     |█████████████████▋              | 1.8MB 2.7MB/s eta 0:00:01\r\u001b[K     |█████████████████▊              | 1.8MB 2.7MB/s eta 0:00:01\r\u001b[K     |█████████████████▉              | 1.8MB 2.7MB/s eta 0:00:01\r\u001b[K     |█████████████████▉              | 1.8MB 2.7MB/s eta 0:00:01\r\u001b[K     |██████████████████              | 1.8MB 2.7MB/s eta 0:00:01\r\u001b[K     |██████████████████              | 1.8MB 2.7MB/s eta 0:00:01\r\u001b[K     |██████████████████▏             | 1.8MB 2.7MB/s eta 0:00:01\r\u001b[K     |██████████████████▎             | 1.8MB 2.7MB/s eta 0:00:01\r\u001b[K     |██████████████████▍             | 1.8MB 2.7MB/s eta 0:00:01\r\u001b[K     |██████████████████▌             | 1.8MB 2.7MB/s eta 0:00:01\r\u001b[K     |██████████████████▋             | 1.9MB 2.7MB/s eta 0:00:01\r\u001b[K     |██████████████████▊             | 1.9MB 2.7MB/s eta 0:00:01\r\u001b[K     |██████████████████▉             | 1.9MB 2.7MB/s eta 0:00:01\r\u001b[K     |███████████████████             | 1.9MB 2.7MB/s eta 0:00:01\r\u001b[K     |███████████████████             | 1.9MB 2.7MB/s eta 0:00:01\r\u001b[K     |███████████████████▏            | 1.9MB 2.7MB/s eta 0:00:01\r\u001b[K     |███████████████████▏            | 1.9MB 2.7MB/s eta 0:00:01\r\u001b[K     |███████████████████▎            | 1.9MB 2.7MB/s eta 0:00:01\r\u001b[K     |███████████████████▍            | 1.9MB 2.7MB/s eta 0:00:01\r\u001b[K     |███████████████████▌            | 1.9MB 2.7MB/s eta 0:00:01\r\u001b[K     |███████████████████▋            | 2.0MB 2.7MB/s eta 0:00:01\r\u001b[K     |███████████████████▊            | 2.0MB 2.7MB/s eta 0:00:01\r\u001b[K     |███████████████████▉            | 2.0MB 2.7MB/s eta 0:00:01\r\u001b[K     |████████████████████            | 2.0MB 2.7MB/s eta 0:00:01\r\u001b[K     |████████████████████            | 2.0MB 2.7MB/s eta 0:00:01\r\u001b[K     |████████████████████▏           | 2.0MB 2.7MB/s eta 0:00:01\r\u001b[K     |████████████████████▎           | 2.0MB 2.7MB/s eta 0:00:01\r\u001b[K     |████████████████████▍           | 2.0MB 2.7MB/s eta 0:00:01\r\u001b[K     |████████████████████▌           | 2.0MB 2.7MB/s eta 0:00:01\r\u001b[K     |████████████████████▋           | 2.0MB 2.7MB/s eta 0:00:01\r\u001b[K     |████████████████████▋           | 2.1MB 2.7MB/s eta 0:00:01\r\u001b[K     |████████████████████▊           | 2.1MB 2.7MB/s eta 0:00:01\r\u001b[K     |████████████████████▉           | 2.1MB 2.7MB/s eta 0:00:01\r\u001b[K     |█████████████████████           | 2.1MB 2.7MB/s eta 0:00:01\r\u001b[K     |█████████████████████           | 2.1MB 2.7MB/s eta 0:00:01\r\u001b[K     |█████████████████████▏          | 2.1MB 2.7MB/s eta 0:00:01\r\u001b[K     |█████████████████████▎          | 2.1MB 2.7MB/s eta 0:00:01\r\u001b[K     |█████████████████████▍          | 2.1MB 2.7MB/s eta 0:00:01\r\u001b[K     |█████████████████████▌          | 2.1MB 2.7MB/s eta 0:00:01\r\u001b[K     |█████████████████████▋          | 2.2MB 2.7MB/s eta 0:00:01\r\u001b[K     |█████████████████████▊          | 2.2MB 2.7MB/s eta 0:00:01\r\u001b[K     |█████████████████████▉          | 2.2MB 2.7MB/s eta 0:00:01\r\u001b[K     |██████████████████████          | 2.2MB 2.7MB/s eta 0:00:01\r\u001b[K     |██████████████████████          | 2.2MB 2.7MB/s eta 0:00:01\r\u001b[K     |██████████████████████          | 2.2MB 2.7MB/s eta 0:00:01\r\u001b[K     |██████████████████████▏         | 2.2MB 2.7MB/s eta 0:00:01\r\u001b[K     |██████████████████████▎         | 2.2MB 2.7MB/s eta 0:00:01\r\u001b[K     |██████████████████████▍         | 2.2MB 2.7MB/s eta 0:00:01\r\u001b[K     |██████████████████████▌         | 2.2MB 2.7MB/s eta 0:00:01\r\u001b[K     |██████████████████████▋         | 2.3MB 2.7MB/s eta 0:00:01\r\u001b[K     |██████████████████████▊         | 2.3MB 2.7MB/s eta 0:00:01\r\u001b[K     |██████████████████████▉         | 2.3MB 2.7MB/s eta 0:00:01\r\u001b[K     |███████████████████████         | 2.3MB 2.7MB/s eta 0:00:01\r\u001b[K     |███████████████████████         | 2.3MB 2.7MB/s eta 0:00:01\r\u001b[K     |███████████████████████▏        | 2.3MB 2.7MB/s eta 0:00:01\r\u001b[K     |███████████████████████▎        | 2.3MB 2.7MB/s eta 0:00:01\r\u001b[K     |███████████████████████▎        | 2.3MB 2.7MB/s eta 0:00:01\r\u001b[K     |███████████████████████▍        | 2.3MB 2.7MB/s eta 0:00:01\r\u001b[K     |███████████████████████▌        | 2.3MB 2.7MB/s eta 0:00:01\r\u001b[K     |███████████████████████▋        | 2.4MB 2.7MB/s eta 0:00:01\r\u001b[K     |███████████████████████▊        | 2.4MB 2.7MB/s eta 0:00:01\r\u001b[K     |███████████████████████▉        | 2.4MB 2.7MB/s eta 0:00:01\r\u001b[K     |████████████████████████        | 2.4MB 2.7MB/s eta 0:00:01\r\u001b[K     |████████████████████████        | 2.4MB 2.7MB/s eta 0:00:01\r\u001b[K     |████████████████████████▏       | 2.4MB 2.7MB/s eta 0:00:01\r\u001b[K     |████████████████████████▎       | 2.4MB 2.7MB/s eta 0:00:01\r\u001b[K     |████████████████████████▍       | 2.4MB 2.7MB/s eta 0:00:01\r\u001b[K     |████████████████████████▌       | 2.4MB 2.7MB/s eta 0:00:01\r\u001b[K     |████████████████████████▋       | 2.4MB 2.7MB/s eta 0:00:01\r\u001b[K     |████████████████████████▊       | 2.5MB 2.7MB/s eta 0:00:01\r\u001b[K     |████████████████████████▊       | 2.5MB 2.7MB/s eta 0:00:01\r\u001b[K     |████████████████████████▉       | 2.5MB 2.7MB/s eta 0:00:01\r\u001b[K     |█████████████████████████       | 2.5MB 2.7MB/s eta 0:00:01\r\u001b[K     |█████████████████████████       | 2.5MB 2.7MB/s eta 0:00:01\r\u001b[K     |█████████████████████████▏      | 2.5MB 2.7MB/s eta 0:00:01\r\u001b[K     |█████████████████████████▎      | 2.5MB 2.7MB/s eta 0:00:01\r\u001b[K     |█████████████████████████▍      | 2.5MB 2.7MB/s eta 0:00:01\r\u001b[K     |█████████████████████████▌      | 2.5MB 2.7MB/s eta 0:00:01\r\u001b[K     |█████████████████████████▋      | 2.5MB 2.7MB/s eta 0:00:01\r\u001b[K     |█████████████████████████▊      | 2.6MB 2.7MB/s eta 0:00:01\r\u001b[K     |█████████████████████████▉      | 2.6MB 2.7MB/s eta 0:00:01\r\u001b[K     |██████████████████████████      | 2.6MB 2.7MB/s eta 0:00:01\r\u001b[K     |██████████████████████████      | 2.6MB 2.7MB/s eta 0:00:01\r\u001b[K     |██████████████████████████      | 2.6MB 2.7MB/s eta 0:00:01\r\u001b[K     |██████████████████████████▏     | 2.6MB 2.7MB/s eta 0:00:01\r\u001b[K     |██████████████████████████▎     | 2.6MB 2.7MB/s eta 0:00:01\r\u001b[K     |██████████████████████████▍     | 2.6MB 2.7MB/s eta 0:00:01\r\u001b[K     |██████████████████████████▌     | 2.6MB 2.7MB/s eta 0:00:01\r\u001b[K     |██████████████████████████▋     | 2.7MB 2.7MB/s eta 0:00:01\r\u001b[K     |██████████████████████████▊     | 2.7MB 2.7MB/s eta 0:00:01\r\u001b[K     |██████████████████████████▉     | 2.7MB 2.7MB/s eta 0:00:01\r\u001b[K     |███████████████████████████     | 2.7MB 2.7MB/s eta 0:00:01\r\u001b[K     |███████████████████████████     | 2.7MB 2.7MB/s eta 0:00:01\r\u001b[K     |███████████████████████████▏    | 2.7MB 2.7MB/s eta 0:00:01\r\u001b[K     |███████████████████████████▎    | 2.7MB 2.7MB/s eta 0:00:01\r\u001b[K     |███████████████████████████▍    | 2.7MB 2.7MB/s eta 0:00:01\r\u001b[K     |███████████████████████████▍    | 2.7MB 2.7MB/s eta 0:00:01\r\u001b[K     |███████████████████████████▌    | 2.7MB 2.7MB/s eta 0:00:01\r\u001b[K     |███████████████████████████▋    | 2.8MB 2.7MB/s eta 0:00:01\r\u001b[K     |███████████████████████████▊    | 2.8MB 2.7MB/s eta 0:00:01\r\u001b[K     |███████████████████████████▉    | 2.8MB 2.7MB/s eta 0:00:01\r\u001b[K     |████████████████████████████    | 2.8MB 2.7MB/s eta 0:00:01\r\u001b[K     |████████████████████████████    | 2.8MB 2.7MB/s eta 0:00:01\r\u001b[K     |████████████████████████████▏   | 2.8MB 2.7MB/s eta 0:00:01\r\u001b[K     |████████████████████████████▎   | 2.8MB 2.7MB/s eta 0:00:01\r\u001b[K     |████████████████████████████▍   | 2.8MB 2.7MB/s eta 0:00:01\r\u001b[K     |████████████████████████████▌   | 2.8MB 2.7MB/s eta 0:00:01\r\u001b[K     |████████████████████████████▋   | 2.8MB 2.7MB/s eta 0:00:01\r\u001b[K     |████████████████████████████▊   | 2.9MB 2.7MB/s eta 0:00:01\r\u001b[K     |████████████████████████████▉   | 2.9MB 2.7MB/s eta 0:00:01\r\u001b[K     |████████████████████████████▉   | 2.9MB 2.7MB/s eta 0:00:01\r\u001b[K     |█████████████████████████████   | 2.9MB 2.7MB/s eta 0:00:01\r\u001b[K     |█████████████████████████████   | 2.9MB 2.7MB/s eta 0:00:01\r\u001b[K     |█████████████████████████████▏  | 2.9MB 2.7MB/s eta 0:00:01\r\u001b[K     |█████████████████████████████▎  | 2.9MB 2.7MB/s eta 0:00:01\r\u001b[K     |█████████████████████████████▍  | 2.9MB 2.7MB/s eta 0:00:01\r\u001b[K     |█████████████████████████████▌  | 2.9MB 2.7MB/s eta 0:00:01\r\u001b[K     |█████████████████████████████▋  | 2.9MB 2.7MB/s eta 0:00:01\r\u001b[K     |█████████████████████████████▊  | 3.0MB 2.7MB/s eta 0:00:01\r\u001b[K     |█████████████████████████████▉  | 3.0MB 2.7MB/s eta 0:00:01\r\u001b[K     |██████████████████████████████  | 3.0MB 2.7MB/s eta 0:00:01\r\u001b[K     |██████████████████████████████  | 3.0MB 2.7MB/s eta 0:00:01\r\u001b[K     |██████████████████████████████▏ | 3.0MB 2.7MB/s eta 0:00:01\r\u001b[K     |██████████████████████████████▏ | 3.0MB 2.7MB/s eta 0:00:01\r\u001b[K     |██████████████████████████████▎ | 3.0MB 2.7MB/s eta 0:00:01\r\u001b[K     |██████████████████████████████▍ | 3.0MB 2.7MB/s eta 0:00:01\r\u001b[K     |██████████████████████████████▌ | 3.0MB 2.7MB/s eta 0:00:01\r\u001b[K     |██████████████████████████████▋ | 3.1MB 2.7MB/s eta 0:00:01\r\u001b[K     |██████████████████████████████▊ | 3.1MB 2.7MB/s eta 0:00:01\r\u001b[K     |██████████████████████████████▉ | 3.1MB 2.7MB/s eta 0:00:01\r\u001b[K     |███████████████████████████████ | 3.1MB 2.7MB/s eta 0:00:01\r\u001b[K     |███████████████████████████████ | 3.1MB 2.7MB/s eta 0:00:01\r\u001b[K     |███████████████████████████████▏| 3.1MB 2.7MB/s eta 0:00:01\r\u001b[K     |███████████████████████████████▎| 3.1MB 2.7MB/s eta 0:00:01\r\u001b[K     |███████████████████████████████▍| 3.1MB 2.7MB/s eta 0:00:01\r\u001b[K     |███████████████████████████████▌| 3.1MB 2.7MB/s eta 0:00:01\r\u001b[K     |███████████████████████████████▌| 3.1MB 2.7MB/s eta 0:00:01\r\u001b[K     |███████████████████████████████▋| 3.2MB 2.7MB/s eta 0:00:01\r\u001b[K     |███████████████████████████████▊| 3.2MB 2.7MB/s eta 0:00:01\r\u001b[K     |███████████████████████████████▉| 3.2MB 2.7MB/s eta 0:00:01\r\u001b[K     |████████████████████████████████| 3.2MB 2.7MB/s eta 0:00:01\r\u001b[K     |████████████████████████████████| 3.2MB 2.7MB/s \n",
            "\u001b[?25hRequirement already satisfied: torch==1.5.1 in /usr/local/lib/python3.6/dist-packages (from torchaudio) (1.5.1+cu101)\n",
            "Requirement already satisfied: numpy in /usr/local/lib/python3.6/dist-packages (from torch==1.5.1->torchaudio) (1.18.5)\n",
            "Requirement already satisfied: future in /usr/local/lib/python3.6/dist-packages (from torch==1.5.1->torchaudio) (0.16.0)\n",
            "Installing collected packages: torchaudio\n",
            "Successfully installed torchaudio-0.5.1\n",
            "Requirement already satisfied: PyDrive in /usr/local/lib/python3.6/dist-packages (1.3.1)\n",
            "Requirement already satisfied: oauth2client>=4.0.0 in /usr/local/lib/python3.6/dist-packages (from PyDrive) (4.1.3)\n",
            "Requirement already satisfied: google-api-python-client>=1.2 in /usr/local/lib/python3.6/dist-packages (from PyDrive) (1.7.12)\n",
            "Requirement already satisfied: PyYAML>=3.0 in /usr/local/lib/python3.6/dist-packages (from PyDrive) (3.13)\n",
            "Requirement already satisfied: httplib2>=0.9.1 in /usr/local/lib/python3.6/dist-packages (from oauth2client>=4.0.0->PyDrive) (0.17.4)\n",
            "Requirement already satisfied: pyasn1-modules>=0.0.5 in /usr/local/lib/python3.6/dist-packages (from oauth2client>=4.0.0->PyDrive) (0.2.8)\n",
            "Requirement already satisfied: rsa>=3.1.4 in /usr/local/lib/python3.6/dist-packages (from oauth2client>=4.0.0->PyDrive) (4.6)\n",
            "Requirement already satisfied: six>=1.6.1 in /usr/local/lib/python3.6/dist-packages (from oauth2client>=4.0.0->PyDrive) (1.12.0)\n",
            "Requirement already satisfied: pyasn1>=0.1.7 in /usr/local/lib/python3.6/dist-packages (from oauth2client>=4.0.0->PyDrive) (0.4.8)\n",
            "Requirement already satisfied: google-auth-httplib2>=0.0.3 in /usr/local/lib/python3.6/dist-packages (from google-api-python-client>=1.2->PyDrive) (0.0.3)\n",
            "Requirement already satisfied: google-auth>=1.4.1 in /usr/local/lib/python3.6/dist-packages (from google-api-python-client>=1.2->PyDrive) (1.17.2)\n",
            "Requirement already satisfied: uritemplate<4dev,>=3.0.0 in /usr/local/lib/python3.6/dist-packages (from google-api-python-client>=1.2->PyDrive) (3.0.1)\n",
            "Requirement already satisfied: cachetools<5.0,>=2.0.0 in /usr/local/lib/python3.6/dist-packages (from google-auth>=1.4.1->google-api-python-client>=1.2->PyDrive) (4.1.0)\n",
            "Requirement already satisfied: setuptools>=40.3.0 in /usr/local/lib/python3.6/dist-packages (from google-auth>=1.4.1->google-api-python-client>=1.2->PyDrive) (47.3.1)\n",
            "Collecting soundfile\n",
            "  Downloading https://files.pythonhosted.org/packages/eb/f2/3cbbbf3b96fb9fa91582c438b574cff3f45b29c772f94c400e2c99ef5db9/SoundFile-0.10.3.post1-py2.py3-none-any.whl\n",
            "Requirement already satisfied: cffi>=1.0 in /usr/local/lib/python3.6/dist-packages (from soundfile) (1.14.0)\n",
            "Requirement already satisfied: pycparser in /usr/local/lib/python3.6/dist-packages (from cffi>=1.0->soundfile) (2.20)\n",
            "Installing collected packages: soundfile\n",
            "Successfully installed soundfile-0.10.3.post1\n"
          ],
          "name": "stdout"
        }
      ]
    },
    {
      "cell_type": "code",
      "metadata": {
        "colab_type": "code",
        "id": "jzzuGAMna4NG",
        "colab": {}
      },
      "source": [
        "from pydrive.auth import GoogleAuth\n",
        "from pydrive.drive import GoogleDrive\n",
        "from google.colab import auth\n",
        "from oauth2client.client import GoogleCredentials\n",
        "auth.authenticate_user()\n",
        "gauth = GoogleAuth()\n",
        "gauth.credentials = GoogleCredentials.get_application_default()\n",
        "drive = GoogleDrive(gauth)"
      ],
      "execution_count": 3,
      "outputs": []
    },
    {
      "cell_type": "code",
      "metadata": {
        "id": "a-hQWM54HG0R",
        "colab_type": "code",
        "colab": {
          "base_uri": "https://localhost:8080/",
          "height": 121
        },
        "outputId": "e94ec26a-62ab-41ad-c7f9-715ae431ab12"
      },
      "source": [
        "! git clone https://github.com/facebookresearch/CPC_audio.git"
      ],
      "execution_count": 4,
      "outputs": [
        {
          "output_type": "stream",
          "text": [
            "Cloning into 'CPC_audio'...\n",
            "remote: Enumerating objects: 84, done.\u001b[K\n",
            "remote: Counting objects: 100% (84/84), done.\u001b[K\n",
            "remote: Compressing objects: 100% (65/65), done.\u001b[K\n",
            "remote: Total 84 (delta 13), reused 75 (delta 6), pack-reused 0\u001b[K\n",
            "Unpacking objects: 100% (84/84), done.\n"
          ],
          "name": "stdout"
        }
      ]
    },
    {
      "cell_type": "code",
      "metadata": {
        "id": "4gWFtgshDVYS",
        "colab_type": "code",
        "colab": {
          "base_uri": "https://localhost:8080/",
          "height": 697
        },
        "outputId": "3b3e1885-25b4-403c-f35c-04344883250b"
      },
      "source": [
        "%cd /content/CPC_audio\n",
        "!python setup.py develop"
      ],
      "execution_count": 5,
      "outputs": [
        {
          "output_type": "stream",
          "text": [
            "/content/CPC_audio\n",
            "Compiling cpc/eval/ABX/dtw.pyx because it changed.\n",
            "[1/1] Cythonizing cpc/eval/ABX/dtw.pyx\n",
            "running develop\n",
            "running egg_info\n",
            "creating CPC_audio.egg-info\n",
            "writing CPC_audio.egg-info/PKG-INFO\n",
            "writing dependency_links to CPC_audio.egg-info/dependency_links.txt\n",
            "writing top-level names to CPC_audio.egg-info/top_level.txt\n",
            "writing manifest file 'CPC_audio.egg-info/SOURCES.txt'\n",
            "writing manifest file 'CPC_audio.egg-info/SOURCES.txt'\n",
            "running build_ext\n",
            "building 'cpc.eval.ABX.dtw' extension\n",
            "creating build\n",
            "creating build/temp.linux-x86_64-3.6\n",
            "creating build/temp.linux-x86_64-3.6/cpc\n",
            "creating build/temp.linux-x86_64-3.6/cpc/eval\n",
            "creating build/temp.linux-x86_64-3.6/cpc/eval/ABX\n",
            "x86_64-linux-gnu-gcc -pthread -DNDEBUG -g -fwrapv -O2 -Wall -g -fstack-protector-strong -Wformat -Werror=format-security -Wdate-time -D_FORTIFY_SOURCE=2 -fPIC -I/usr/local/lib/python3.6/dist-packages/numpy/core/include -I/usr/include/python3.6m -c cpc/eval/ABX/dtw.c -o build/temp.linux-x86_64-3.6/cpc/eval/ABX/dtw.o\n",
            "In file included from \u001b[01m\u001b[K/usr/local/lib/python3.6/dist-packages/numpy/core/include/numpy/ndarraytypes.h:1832:0\u001b[m\u001b[K,\n",
            "                 from \u001b[01m\u001b[K/usr/local/lib/python3.6/dist-packages/numpy/core/include/numpy/ndarrayobject.h:12\u001b[m\u001b[K,\n",
            "                 from \u001b[01m\u001b[K/usr/local/lib/python3.6/dist-packages/numpy/core/include/numpy/arrayobject.h:4\u001b[m\u001b[K,\n",
            "                 from \u001b[01m\u001b[Kcpc/eval/ABX/dtw.c:625\u001b[m\u001b[K:\n",
            "\u001b[01m\u001b[K/usr/local/lib/python3.6/dist-packages/numpy/core/include/numpy/npy_1_7_deprecated_api.h:17:2:\u001b[m\u001b[K \u001b[01;35m\u001b[Kwarning: \u001b[m\u001b[K#warning \"Using deprecated NumPy API, disable it with \" \"#define NPY_NO_DEPRECATED_API NPY_1_7_API_VERSION\" [\u001b[01;35m\u001b[K-Wcpp\u001b[m\u001b[K]\n",
            " #\u001b[01;35m\u001b[Kwarning\u001b[m\u001b[K \"Using deprecated NumPy API, disable it with \" \\\n",
            "  \u001b[01;35m\u001b[K^~~~~~~\u001b[m\u001b[K\n",
            "creating build/lib.linux-x86_64-3.6\n",
            "creating build/lib.linux-x86_64-3.6/cpc\n",
            "creating build/lib.linux-x86_64-3.6/cpc/eval\n",
            "creating build/lib.linux-x86_64-3.6/cpc/eval/ABX\n",
            "x86_64-linux-gnu-gcc -pthread -shared -Wl,-O1 -Wl,-Bsymbolic-functions -Wl,-Bsymbolic-functions -Wl,-z,relro -Wl,-Bsymbolic-functions -Wl,-z,relro -g -fstack-protector-strong -Wformat -Werror=format-security -Wdate-time -D_FORTIFY_SOURCE=2 build/temp.linux-x86_64-3.6/cpc/eval/ABX/dtw.o -o build/lib.linux-x86_64-3.6/cpc/eval/ABX/dtw.cpython-36m-x86_64-linux-gnu.so\n",
            "copying build/lib.linux-x86_64-3.6/cpc/eval/ABX/dtw.cpython-36m-x86_64-linux-gnu.so -> cpc/eval/ABX\n",
            "Creating /usr/local/lib/python3.6/dist-packages/CPC-audio.egg-link (link to .)\n",
            "Adding CPC-audio 1.0 to easy-install.pth file\n",
            "\n",
            "Installed /content/CPC_audio\n",
            "Processing dependencies for CPC-audio==1.0\n",
            "Finished processing dependencies for CPC-audio==1.0\n"
          ],
          "name": "stdout"
        }
      ]
    },
    {
      "cell_type": "code",
      "metadata": {
        "id": "0lImFBRyHIMX",
        "colab_type": "code",
        "colab": {}
      },
      "source": [
        "import torch\n",
        "import torchaudio"
      ],
      "execution_count": 6,
      "outputs": []
    },
    {
      "cell_type": "markdown",
      "metadata": {
        "colab_type": "text",
        "id": "YZ1Wywx3BNGS"
      },
      "source": [
        "# Part 1 : contrastive predictive coding\n",
        "\n",
        "Contrastive Predictive Coding (CPC) is a method of unsupervised training for speech models. The idea behind it is pretty simple:\n",
        "\n",
        "\n",
        "1.   The raw audio wave is passed through a convolutional network: the ```encoder```\n",
        "2.   Then, the encoder's output is given to a recurrent network the ```context```\n",
        "3. A third party network, the ```prediction_network``` will try to predict the  future embeddings of the encoder using the output of the context network.\n",
        "\n",
        "In order to avoid a collapse to trivial solutions, the prediction_network doesn't try to reconstruct the future features. Instead, using the context output $c_t$ at time $t$ it is trained to discriminate the real  encoder representatioin $g_{t+k}$ at time $t+k$ from several other features $(g_n)_n$ taken elsewhere in the batch. Thus the loss becomes:\n",
        "\n",
        "\\\\[ \\mathcal{L}_c = - \\frac{1}{K} \\sum_{k=1}^K \\text{Cross_entropy}(\\phi_k(c_t), g_{t+k}) \\\\]\n",
        "\n",
        "Or:\n",
        "\n",
        "\\\\[ \\mathcal{L}_c = - \\frac{1}{K} \\sum_{k=1}^K \\log \\frac{ \\exp\\left(\\phi_k(c_t)^\\top g_{t+k}\\right) }{  \\sum_{\\mathbf{n}\\in\\mathcal{N}_t} \\exp\\left(\\phi_k(c_t)^\\top g_n\\right)} \\\\]\n",
        "\n",
        "Where:\n",
        "\n",
        "\n",
        "*   $\\phi_k$ is the prediction network for the kth timestep\n",
        "*   $\\mathcal{N}_t$ is the set of all negative examples sampled for timestep $t$\n",
        "\n",
        "\n"
      ]
    },
    {
      "cell_type": "markdown",
      "metadata": {
        "colab_type": "text",
        "id": "frPFYXuPfNPs"
      },
      "source": [
        "## Exercice 1 : Building the model\n",
        "\n",
        "In this exercise, we will build and train a small CPC model using the repository CPC_audio.\n",
        "\n",
        "The code below loads a context and an encoder newtorks."
      ]
    },
    {
      "cell_type": "code",
      "metadata": {
        "colab_type": "code",
        "id": "8g-xPSdLRdui",
        "colab": {
          "base_uri": "https://localhost:8080/",
          "height": 34
        },
        "outputId": "10614285-6683-4019-bc26-0388a6c41d73"
      },
      "source": [
        "%cd /content/CPC_audio\n",
        "from cpc.model import CPCEncoder, CPCAR\n",
        "device = torch.device(\"cuda:0\" if torch.cuda.is_available() else \"cpu\")\n",
        "\n",
        "DIM_ENCODER=256\n",
        "DIM_CONTEXT=256\n",
        "KEEP_HIDDEN_VECTOR=False\n",
        "N_LEVELS_CONTEXT=1\n",
        "CONTEXT_RNN=\"LSTM\"\n",
        "N_PREDICTIONS=12\n",
        "LEARNING_RATE=2e-2\n",
        "N_NEGATIVE_SAMPLE =128"
      ],
      "execution_count": 7,
      "outputs": [
        {
          "output_type": "stream",
          "text": [
            "/content/CPC_audio\n"
          ],
          "name": "stdout"
        }
      ]
    },
    {
      "cell_type": "code",
      "metadata": {
        "colab_type": "code",
        "id": "7Wx8WkrQk9bQ",
        "colab": {}
      },
      "source": [
        "# define the Encoder and Decoder\n",
        "encoder = CPCEncoder(DIM_ENCODER).to(device)\n",
        "context = CPCAR(DIM_ENCODER, DIM_CONTEXT, KEEP_HIDDEN_VECTOR, 1, mode=CONTEXT_RNN).to(device)"
      ],
      "execution_count": 8,
      "outputs": []
    },
    {
      "cell_type": "code",
      "metadata": {
        "colab_type": "code",
        "id": "f9BrweAIla4J",
        "colab": {}
      },
      "source": [
        "# Several functions that will be necessary to load the data later\n",
        "from cpc.dataset import findAllSeqs, AudioBatchData, parseSeqLabels\n",
        "SIZE_WINDOW = 20480\n",
        "BATCH_SIZE=8\n",
        "def load_dataset(path_dataset, file_extension='.wav', phone_label_dict=None):\n",
        "  data_list, speakers = findAllSeqs(path_dataset, extension=file_extension)\n",
        "  dataset = AudioBatchData(path_dataset, SIZE_WINDOW, data_list, phone_label_dict, len(speakers))\n",
        "  return dataset"
      ],
      "execution_count": 9,
      "outputs": []
    },
    {
      "cell_type": "code",
      "metadata": {
        "id": "DfYPgwIoKMYK",
        "colab_type": "code",
        "colab": {
          "base_uri": "https://localhost:8080/",
          "height": 330
        },
        "outputId": "f0f799be-05e1-4916-c0ef-4ef8151f0b12"
      },
      "source": [
        "# Load datasets\n",
        "dataset_train = load_dataset('/content/gdrive/My Drive/ALL_DATA/TRAIN')\n",
        "dataset_val = load_dataset('/content/gdrive/My Drive/ALL_DATA/VALIDATION')\n",
        "data_loader_train = dataset_train.getDataLoader(BATCH_SIZE, \"speaker\", True)\n",
        "data_loader_val = dataset_val.getDataLoader(BATCH_SIZE, \"sequence\", False)"
      ],
      "execution_count": 10,
      "outputs": [
        {
          "output_type": "stream",
          "text": [
            "12it [00:06,  1.77it/s]\n"
          ],
          "name": "stderr"
        },
        {
          "output_type": "stream",
          "text": [
            "Saved cache file at /content/gdrive/My Drive/ALL_DATA/TRAIN/_seqs_cache.txt\n",
            "Checking length...\n"
          ],
          "name": "stdout"
        },
        {
          "output_type": "stream",
          "text": [
            "994it [00:00, 280731.14it/s]\n"
          ],
          "name": "stderr"
        },
        {
          "output_type": "stream",
          "text": [
            "Done, elapsed: 69.454 seconds\n",
            "Scanned 994 sequences in 69.45 seconds\n",
            "1 chunks computed\n",
            "Joining pool\n",
            "Joined process, elapsed=4.506 secs\n"
          ],
          "name": "stdout"
        },
        {
          "output_type": "stream",
          "text": [
            "5it [00:02,  2.25it/s]\n"
          ],
          "name": "stderr"
        },
        {
          "output_type": "stream",
          "text": [
            "Saved cache file at /content/gdrive/My Drive/ALL_DATA/VALIDATION/_seqs_cache.txt\n",
            "Checking length...\n"
          ],
          "name": "stdout"
        },
        {
          "output_type": "stream",
          "text": [
            "259it [00:00, 80147.91it/s]\n"
          ],
          "name": "stderr"
        },
        {
          "output_type": "stream",
          "text": [
            "Done, elapsed: 17.623 seconds\n",
            "Scanned 259 sequences in 17.62 seconds\n",
            "1 chunks computed\n",
            "Joining pool\n",
            "Joined process, elapsed=2.431 secs\n"
          ],
          "name": "stdout"
        }
      ]
    },
    {
      "cell_type": "markdown",
      "metadata": {
        "colab_type": "text",
        "id": "58pQ7ysXk9ZO"
      },
      "source": [
        "Now build a new class, ```CPCModel``` which will"
      ]
    },
    {
      "cell_type": "code",
      "metadata": {
        "colab_type": "code",
        "id": "rR5IYRTpRF8T",
        "colab": {}
      },
      "source": [
        "class CPCModel(torch.nn.Module):\n",
        "\n",
        "    def __init__(self,encoder,AR):\n",
        "\n",
        "        super(CPCModel, self).__init__()\n",
        "        self.gEncoder = encoder\n",
        "        self.gAR = AR\n",
        "\n",
        "    def forward(self, batch_data):        \n",
        "\n",
        "        encoder_output = self.gEncoder(batch_data)\n",
        "        #print(encoder_output.shape)\n",
        "        # The output of the encoder data does not have the good format \n",
        "        # indeed it is Batch_size x Hidden_size x temp size\n",
        "        # while the context requires Batch_size  x temp size x Hidden_size\n",
        "        # thus you need to permute\n",
        "        context_input = encoder_output.permute(0, 2, 1)\n",
        "\n",
        "        context_output = self.gAR(context_input)\n",
        "        #print(context_output.shape)\n",
        "        return context_output, encoder_output"
      ],
      "execution_count": 11,
      "outputs": []
    },
    {
      "cell_type": "markdown",
      "metadata": {
        "colab_type": "text",
        "id": "XUJgm6Rl4vS4"
      },
      "source": [
        "Let's test your code !\n"
      ]
    },
    {
      "cell_type": "code",
      "metadata": {
        "colab_type": "code",
        "id": "D1x1n4mv4y03",
        "colab": {}
      },
      "source": [
        "audio = torchaudio.load(\"/content/gdrive/My Drive/ALL_DATA/TRAIN/13th_batch_100Recording/200701-161942_twi_ba0_elicit_0.wav\")[0]\n",
        "audio = audio.view(1, 1, -1)\n",
        "cpc_model = CPCModel(encoder, context).to(device)\n",
        "context_output, encoder_output = cpc_model(audio.to(device))"
      ],
      "execution_count": 13,
      "outputs": []
    },
    {
      "cell_type": "markdown",
      "metadata": {
        "colab_type": "text",
        "id": "X27ce8Hy3C2p"
      },
      "source": [
        "## Exercise 2 : CPC loss\n",
        "\n",
        "We will define a class ```CPCCriterion``` which will hold the prediction networks $\\phi_k$ defined above and perform the classification loss $\\mathcal{L}_c$.\n",
        "\n",
        "a) In this exercise, the $\\phi_k$ will be a linear transform, ie:\n",
        "\n",
        "\\\\[ \\phi_k(c_t) = \\mathbf{A}_k c_t\\\\]\n",
        "\n",
        "Using the class [torch.nn.Linear](https://pytorch.org/docs/stable/nn.html#torch.nn.Linear), define the transformations $\\phi_k$ in the code below and complete the function ```get_prediction_k``` which computes $\\phi_k(c_t)$ for a given batch of vectors $c_t$.\n",
        "\n",
        "b) Using both ```get_prediction_k```  and ```sample_negatives``` defined below, write the forward function which will take as input two batches of features $c_t$ and $g_t$ and outputs the classification loss $\\mathcal{L}_c$ and the average acuracy for all predictions. "
      ]
    },
    {
      "cell_type": "code",
      "metadata": {
        "colab_type": "code",
        "id": "UlAs-z1fBc3W",
        "colab": {}
      },
      "source": [
        "# Exercice 2: write the CPC loss\n",
        "# a) Write the negative sampling (with some help)\n",
        "# ERRATUM: it's really hard, the sampling will be provided\n",
        "\n",
        "class CPCCriterion(torch.nn.Module):\n",
        "\n",
        "  def __init__(self,K,dim_context,dim_encoder,n_negative):\n",
        "    super(CPCCriterion, self).__init__()\n",
        "    self.K_ = K\n",
        "    self.dim_context = dim_context\n",
        "    self.dim_encoder = dim_encoder\n",
        "    self.n_negative = n_negative\n",
        "\n",
        "    self.predictors = torch.nn.ModuleList() \n",
        "    for k in range(self.K_):\n",
        "      # TO COMPLETE !\n",
        "      \n",
        "      # A affine transformation in pytorch is equivalent to a nn.Linear layer\n",
        "      # To get a linear transformation you must set bias=False\n",
        "      # input dimension of the layer = dimension of the encoder\n",
        "      # output dimension of the layer = dimension of the context\n",
        "      self.predictors.append(torch.nn.Linear(dim_context, dim_encoder, bias=False))\n",
        "\n",
        "  def get_prediction_k(self, context_data):\n",
        "\n",
        "    #TO COMPLETE !\n",
        "    output = [] \n",
        "    # For each time step k\n",
        "    for k in range(self.K_):\n",
        "\n",
        "      # We need to compute phi_k = A_k * c_t\n",
        "      phi_k = self.predictors[k](context_data)\n",
        "      output.append(phi_k)\n",
        "\n",
        "    return output\n",
        "\n",
        "\n",
        "  def sample_negatives(self, encoded_data):\n",
        "    r\"\"\"\n",
        "    Sample some negative examples in the given encoded data.\n",
        "    Input:\n",
        "    - encoded_data size: B x T x H\n",
        "    Returns\n",
        "    - outputs of size B x (n_negative + 1) x (T - K_) x H\n",
        "      outputs[:, 0, :, :] contains the positive example\n",
        "      outputs[:, 1:, :, :] contains negative example sampled in the batch\n",
        "    - labels, long tensor of size B x (T - K_)\n",
        "      Since the positive example is always at coordinates 0 for all sequences \n",
        "      in the batch and all timestep in the sequence, labels is just a tensor\n",
        "      full of zeros !\n",
        "    \"\"\"\n",
        "    batch_size, time_size, dim_encoded = encoded_data.size()\n",
        "    window_size = time_size - self.K_\n",
        "    outputs = []\n",
        "\n",
        "    neg_ext = encoded_data.contiguous().view(-1, dim_encoded)\n",
        "    n_elem_sampled = self.n_negative * window_size * batch_size\n",
        "    # Draw nNegativeExt * batchSize negative samples anywhere in the batch\n",
        "    batch_idx = torch.randint(low=0, high=batch_size,\n",
        "                              size=(n_elem_sampled, ),\n",
        "                              device=encoded_data.device)\n",
        "\n",
        "    seq_idx = torch.randint(low=1, high=time_size,\n",
        "                            size=(n_elem_sampled, ),\n",
        "                            device=encoded_data.device)\n",
        "\n",
        "    base_idx = torch.arange(0, window_size, device=encoded_data.device)\n",
        "    base_idx = base_idx.view(1, 1, window_size)\n",
        "    base_idx = base_idx.expand(1, self.n_negative, window_size)\n",
        "    base_idx = base_idx.expand(batch_size, self.n_negative, window_size)\n",
        "    seq_idx += base_idx.contiguous().view(-1)\n",
        "    seq_idx = torch.remainder(seq_idx, time_size)\n",
        "\n",
        "    ext_idx = seq_idx + batch_idx * time_size\n",
        "    neg_ext = neg_ext[ext_idx].view(batch_size, self.n_negative,\n",
        "                                    window_size, dim_encoded)\n",
        "    label_loss = torch.zeros((batch_size, window_size),\n",
        "                              dtype=torch.long,\n",
        "                              device=encoded_data.device)\n",
        "\n",
        "    for k in range(1, self.K_ + 1):\n",
        "\n",
        "      # Positive samples\n",
        "      if k < self.K_:\n",
        "          pos_seq = encoded_data[:, k:-(self.K_-k)]\n",
        "      else:\n",
        "          pos_seq = encoded_data[:, k:]\n",
        "\n",
        "      pos_seq = pos_seq.view(batch_size, 1, pos_seq.size(1), dim_encoded)\n",
        "      full_seq = torch.cat((pos_seq, neg_ext), dim=1)\n",
        "      outputs.append(full_seq)\n",
        "\n",
        "    return outputs, label_loss\n",
        "\n",
        "  def forward(self, encoded_data, context_data):\n",
        "\n",
        "    # TO COMPLETE:\n",
        "    # Perform the full cpc criterion\n",
        "    # Returns 2 values:\n",
        "    # - the average classification loss avg_loss\n",
        "    # - the average classification acuracy avg_acc\n",
        "\n",
        "    # Reminder : The permuation !\n",
        "    encoded_data = encoded_data.permute(0, 2, 1)\n",
        "\n",
        "    # First we need to sample the negative examples\n",
        "    negative_samples, labels = self.sample_negatives(encoded_data)\n",
        "\n",
        "    # Then we must compute phi_k\n",
        "    phi_k = self.get_prediction_k(context_data)\n",
        "\n",
        "    # Finally we must get the dot product between phi_k and negative_samples \n",
        "    # for each k\n",
        "\n",
        "    #The total loss is the average of all losses\n",
        "    avg_loss = 0\n",
        "\n",
        "    # Average acuracy\n",
        "    avg_acc = 0\n",
        "\n",
        "    for k in range(self.K_):\n",
        "      B, N_sampled, S_small, H = negative_samples[k].size() \n",
        "      B, S, H = phi_k[k].size()\n",
        "\n",
        "      # As told before S = S_small + K. For segments too far in the sequence\n",
        "      # there are no positive exmples anyway, so we must shorten phi_k\n",
        "      phi = phi_k[k][:, :S_small]\n",
        "\n",
        "      # Now the dot product\n",
        "      # You have several ways to do that, let's do the simple but non optimal \n",
        "      # one\n",
        "      # pytorch has a matrix product function https://pytorch.org/docs/stable/torch.html#torch.bmm\n",
        "      # But it takes only 3D tensors of the same batch size !\n",
        "      # To begin negative_samples is a 4D tensor ! \n",
        "      # We want to compute the dot product for each features, of each sequence\n",
        "      # of the batch. Thus we are trying to compute a dot product for all\n",
        "      # B* N_sampled * S_small 1D vector of negative_samples[k]\n",
        "      # Or, a 1D tensor of size H is also a matrix of size 1 x H\n",
        "      # Then, we must view it as a 3D tensor of size (B* N_sampled * S_small, 1, H)\n",
        "      negative_sample_k  =  negative_samples[k].view(B* N_sampled* S_small, 1, H)\n",
        "\n",
        "      # But now phi and negative_sample_k no longer have the same batch size !\n",
        "      # No worries, we can expand phi so that each sequence of the batch\n",
        "      # is repeated N_sampled times\n",
        "      phi = phi.view(B, 1,S_small, H).expand(B, N_sampled, S_small, H)\n",
        "\n",
        "      # And now we can view it as a 3D tensor \n",
        "      phi  = phi.contiguous().view(B * N_sampled * S_small, H, 1)\n",
        "\n",
        "      # We can finally get the dot product !\n",
        "      scores = torch.bmm(negative_sample_k, phi)\n",
        "\n",
        "      # Dot_product has a size (B * N_sampled * S_small , 1, 1)\n",
        "      # Let's reorder it a bit\n",
        "      scores = scores.reshape(B, N_sampled, S_small)\n",
        "\n",
        "      # For each elements of the sequence, and each elements sampled, it gives \n",
        "      # a floating score stating the likelihood of this element being the \n",
        "      # true one.\n",
        "      # Now the classification loss, we need to use the Cross Entropy loss\n",
        "      # https://pytorch.org/docs/master/generated/torch.nn.CrossEntropyLoss.html\n",
        "\n",
        "      # For each time-step of each sequence of the batch \n",
        "      # we have N_sampled possible predictions. \n",
        "      # Looking at the documentation of torch.nn.CrossEntropyLoss\n",
        "      # we can see that this loss expect a tensor of size M x C where \n",
        "      # - M is the number of elements with a classification score\n",
        "      # - C is the number of possible classes\n",
        "      # There are N_sampled candidates for each predictions so\n",
        "      # C = N_sampled \n",
        "      # Each timestep of each sequence of the batch has a prediction so\n",
        "      # M = B * S_small\n",
        "      # Thus we need an input vector of size B * S_small, N_sampled\n",
        "      # To begin, we need to permute the axis\n",
        "      scores = scores.permute(0, 2, 1) # Now it has size B , S_small, N_sampled\n",
        "\n",
        "      # Then we can cast it into a 2D tensor\n",
        "      scores = scores.reshape(B * S_small, N_sampled)\n",
        "\n",
        "      # Same thing for the labels \n",
        "      labels = labels.reshape(B * S_small)\n",
        "\n",
        "      # Finally we can get the classification loss\n",
        "      loss_criterion = torch.nn.CrossEntropyLoss()\n",
        "      loss_k = loss_criterion(scores, labels)\n",
        "      avg_loss+= loss_k\n",
        "\n",
        "      # And for the acuracy\n",
        "      # The prediction for each elements is the sample with the highest score\n",
        "      # Thus the tensors of all predictions is the tensors of the index of the \n",
        "      # maximal score for each time-step of each sequence of the batch\n",
        "      predictions = torch.argmax(scores, 1)\n",
        "      acc_k  = (labels == predictions).sum() / (B * S_small)\n",
        "      avg_acc += acc_k\n",
        "\n",
        "    # Normalization\n",
        "    avg_loss = avg_loss / self.K_\n",
        "    avg_acc = avg_acc / self.K_\n",
        "      \n",
        "    return avg_loss , avg_acc"
      ],
      "execution_count": 14,
      "outputs": []
    },
    {
      "cell_type": "markdown",
      "metadata": {
        "colab_type": "text",
        "id": "0cqGXhLf-_O1"
      },
      "source": [
        "Don't forget to test !"
      ]
    },
    {
      "cell_type": "code",
      "metadata": {
        "colab_type": "code",
        "id": "sYJSMh5I_QCf",
        "colab": {
          "base_uri": "https://localhost:8080/",
          "height": 54
        },
        "outputId": "2f1a0592-f341-466a-bfd4-85fe59a56bfc"
      },
      "source": [
        "audio = torchaudio.load(\"/content/gdrive/My Drive/ALL_DATA/TRAIN/13th_batch_100Recording/200701-161942_twi_ba0_elicit_0.wav\")[0]\n",
        "audio = audio.view(1, 1, -1)\n",
        "cpc_criterion = CPCCriterion(N_PREDICTIONS, DIM_CONTEXT,DIM_ENCODER, N_NEGATIVE_SAMPLE).to(device)\n",
        "context_output, encoder_output = cpc_model(audio.to(device))\n",
        "loss, avg = cpc_criterion(encoder_output,context_output)"
      ],
      "execution_count": 15,
      "outputs": [
        {
          "output_type": "stream",
          "text": [
            "/pytorch/aten/src/ATen/native/BinaryOps.cpp:81: UserWarning: Integer division of tensors using div or / is deprecated, and in a future release div will perform true division as in Python 3. Use true_divide or floor_divide (// in Python) instead.\n"
          ],
          "name": "stderr"
        }
      ]
    },
    {
      "cell_type": "markdown",
      "metadata": {
        "colab_type": "text",
        "id": "zLv7GoE0_4C3"
      },
      "source": [
        "## Exercise 3: Full training loop !\n",
        "\n",
        "You have the model, you have the criterion. All you need now are a data loader and an optimizer to run your training loop.\n",
        "\n",
        "We will use an Adam optimizer:"
      ]
    },
    {
      "cell_type": "code",
      "metadata": {
        "colab_type": "code",
        "id": "zcg29tqPAIR1",
        "colab": {}
      },
      "source": [
        "parameters = list(cpc_criterion.parameters()) + list(cpc_model.parameters())\n",
        "optimizer = torch.optim.Adam(parameters, lr=LEARNING_RATE)"
      ],
      "execution_count": 16,
      "outputs": []
    },
    {
      "cell_type": "markdown",
      "metadata": {
        "colab_type": "text",
        "id": "hETDwSfTAuF4"
      },
      "source": [
        "And as far as the data loader is concerned, we will rely on the data loader provided by the CPC_audio library."
      ]
    },
    {
      "cell_type": "markdown",
      "metadata": {
        "colab_type": "text",
        "id": "uCoMCPL0A8VI"
      },
      "source": [
        "Now that everything is ready, complete and test the ```train_step``` function below which trains the model for one epoch."
      ]
    },
    {
      "cell_type": "code",
      "metadata": {
        "colab_type": "code",
        "id": "U-hIH3p8BsZr",
        "colab": {}
      },
      "source": [
        "def train_step(data_loader,cpc_model,cpc_criterion,optimizer):\n",
        "  \n",
        "  avg_loss = 0\n",
        "  avg_acc = 0\n",
        "  n_items = 0\n",
        "\n",
        "  for step, data in enumerate(data_loader):\n",
        "    x,y = data\n",
        "    bs = len(x)\n",
        "    optimizer.zero_grad()\n",
        "    context_output, encoder_output = cpc_model(x.to(device))\n",
        "    loss , acc = cpc_criterion(encoder_output, context_output)\n",
        "    loss.backward()\n",
        "    n_items+=bs\n",
        "    avg_loss+=loss.item()*bs\n",
        "    avg_acc +=acc.item()*bs\n",
        "  \n",
        "  avg_loss/=n_items\n",
        "  avg_acc/=n_items\n",
        "  return avg_loss, avg_acc"
      ],
      "execution_count": 20,
      "outputs": []
    },
    {
      "cell_type": "markdown",
      "metadata": {
        "colab_type": "text",
        "id": "rIj06giJE_bZ"
      },
      "source": [
        "## Exercise 4 : Validation loop\n",
        "\n",
        "Now complete the validation loop."
      ]
    },
    {
      "cell_type": "code",
      "metadata": {
        "colab_type": "code",
        "id": "Q7Qwi6jDByyt",
        "colab": {}
      },
      "source": [
        "def validation_step(data_loader,cpc_model,cpc_criterion):\n",
        "  \n",
        "  avg_loss = 0\n",
        "  avg_acc = 0\n",
        "  n_items = 0\n",
        "\n",
        "  for step, data in enumerate(data_loader):\n",
        "    x,y = data\n",
        "    bs = len(x)\n",
        "    context_output, encoder_output = cpc_model(x.to(device))\n",
        "    loss , acc = cpc_criterion(encoder_output, context_output)\n",
        "    n_items+=bs\n",
        "    avg_loss+=loss.item()*bs\n",
        "    avg_acc+=acc.item()*bs\n",
        "  \n",
        "  avg_loss/=n_items\n",
        "  avg_acc/=n_items\n",
        "  return avg_loss, avg_acc"
      ],
      "execution_count": 21,
      "outputs": []
    },
    {
      "cell_type": "markdown",
      "metadata": {
        "colab_type": "text",
        "id": "OBVUPKKs2_0U"
      },
      "source": [
        "## Exercise 5: Run everything"
      ]
    },
    {
      "cell_type": "code",
      "metadata": {
        "colab_type": "code",
        "id": "ZbXsZIRiB1tm",
        "colab": {}
      },
      "source": [
        "def run(train_loader,val_loader,cpc_model,cpc_criterion,optimizer,n_epochs):\n",
        "  \n",
        "  for epoch in range(n_epochs):\n",
        "\n",
        "    \n",
        "    print(f\"Running epoch {epoch+1} / {n_epochs}\")\n",
        "    avg_loss_train, avg_acc_train = train_step(train_loader, cpc_model, cpc_criterion, optimizer)\n",
        "    print(\"----------------------\")\n",
        "    print(f\"Training dataset\")\n",
        "    print(f\"- average loss : {avg_loss_train}\")\n",
        "    print(f\"- average acuracy : {avg_acc_train}\")\n",
        "    print(\"----------------------\")\n",
        "    with torch.no_grad():\n",
        "      cpc_model.eval()\n",
        "      cpc_criterion.eval()\n",
        "      avg_loss_val, avg_acc_val = validation_step(val_loader, cpc_model, cpc_criterion)\n",
        "      print(f\"Validation dataset\")\n",
        "      print(f\"- average loss : {avg_loss_val}\")\n",
        "      print(f\"- average acuracy : {avg_acc_val}\")\n",
        "      print(\"----------------------\")\n",
        "      print()\n",
        "      cpc_model.train()\n",
        "      cpc_criterion.train()"
      ],
      "execution_count": 19,
      "outputs": []
    },
    {
      "cell_type": "code",
      "metadata": {
        "colab_type": "code",
        "id": "5xx8vN2wpECC",
        "colab": {
          "base_uri": "https://localhost:8080/",
          "height": 1000
        },
        "outputId": "03b496ea-44d3-4c74-a361-ed60714998c6"
      },
      "source": [
        "run(data_loader_train, data_loader_val, cpc_model,cpc_criterion,optimizer,10)"
      ],
      "execution_count": null,
      "outputs": [
        {
          "output_type": "stream",
          "text": [
            "Running epoch 1 / 10\n",
            "----------------------\n",
            "Training dataset\n",
            "- average loss : 4.888390329238531\n",
            "- average acuracy : 0.0\n",
            "----------------------\n",
            "Validation dataset\n",
            "- average loss : 4.8766175298129815\n",
            "- average acuracy : 0.0\n",
            "----------------------\n",
            "\n",
            "Running epoch 2 / 10\n",
            "----------------------\n",
            "Training dataset\n",
            "- average loss : 4.888422016356443\n",
            "- average acuracy : 0.0\n",
            "----------------------\n",
            "Validation dataset\n",
            "- average loss : 4.876575508538415\n",
            "- average acuracy : 0.0\n",
            "----------------------\n",
            "\n",
            "Running epoch 3 / 10\n",
            "----------------------\n",
            "Training dataset\n",
            "- average loss : 4.88841352350003\n",
            "- average acuracy : 0.0\n",
            "----------------------\n",
            "Validation dataset\n",
            "- average loss : 4.876614626716165\n",
            "- average acuracy : 0.0\n",
            "----------------------\n",
            "\n",
            "Running epoch 4 / 10\n",
            "----------------------\n",
            "Training dataset\n",
            "- average loss : 4.8885268480391115\n",
            "- average acuracy : 0.0\n",
            "----------------------\n",
            "Validation dataset\n",
            "- average loss : 4.87661270534291\n",
            "- average acuracy : 0.0\n",
            "----------------------\n",
            "\n",
            "Running epoch 5 / 10\n",
            "----------------------\n",
            "Training dataset\n",
            "- average loss : 4.8883847626479895\n",
            "- average acuracy : 0.0\n",
            "----------------------\n",
            "Validation dataset\n",
            "- average loss : 4.876644551753998\n",
            "- average acuracy : 0.0\n",
            "----------------------\n",
            "\n",
            "Running epoch 6 / 10\n",
            "----------------------\n",
            "Training dataset\n",
            "- average loss : 4.8884257956131085\n",
            "- average acuracy : 0.0\n",
            "----------------------\n",
            "Validation dataset\n",
            "- average loss : 4.876591910334194\n",
            "- average acuracy : 0.0\n",
            "----------------------\n",
            "\n",
            "Running epoch 7 / 10\n",
            "----------------------\n",
            "Training dataset\n",
            "- average loss : 4.888547898144336\n",
            "- average acuracy : 0.0\n",
            "----------------------\n",
            "Validation dataset\n",
            "- average loss : 4.876560856314266\n",
            "- average acuracy : 0.0\n",
            "----------------------\n",
            "\n",
            "Running epoch 8 / 10\n",
            "----------------------\n",
            "Training dataset\n",
            "- average loss : 4.888414980591954\n",
            "- average acuracy : 0.0\n",
            "----------------------\n",
            "Validation dataset\n",
            "- average loss : 4.876623788300683\n",
            "- average acuracy : 0.0\n",
            "----------------------\n",
            "\n",
            "Running epoch 9 / 10\n",
            "----------------------\n",
            "Training dataset\n",
            "- average loss : 4.888478071302981\n",
            "- average acuracy : 0.0\n",
            "----------------------\n",
            "Validation dataset\n",
            "- average loss : 4.876592636108398\n",
            "- average acuracy : 0.0\n",
            "----------------------\n",
            "\n",
            "Running epoch 10 / 10\n",
            "----------------------\n",
            "Training dataset\n",
            "- average loss : 4.888414437706406\n",
            "- average acuracy : 0.0\n",
            "----------------------\n",
            "Validation dataset\n",
            "- average loss : 4.876594452296986\n",
            "- average acuracy : 0.0\n",
            "----------------------\n",
            "\n"
          ],
          "name": "stdout"
        }
      ]
    },
    {
      "cell_type": "markdown",
      "metadata": {
        "colab_type": "text",
        "id": "5hoT3_3W6HYY"
      },
      "source": [
        "Once everything is donw, clear the memory."
      ]
    },
    {
      "cell_type": "code",
      "metadata": {
        "colab_type": "code",
        "id": "fU5mDOY46KSG",
        "colab": {}
      },
      "source": [
        "del dataset_train\n",
        "del dataset_val\n",
        "del cpc_model\n",
        "del context\n",
        "del encoder"
      ],
      "execution_count": 22,
      "outputs": []
    },
    {
      "cell_type": "markdown",
      "metadata": {
        "colab_type": "text",
        "id": "srPM5r_LB9v-"
      },
      "source": [
        "# Part 2 : Fine tuning"
      ]
    },
    {
      "cell_type": "markdown",
      "metadata": {
        "colab_type": "text",
        "id": "0Nb_-0IQiJk9"
      },
      "source": [
        "## Exercice 1 : Phone separability with aligned phonemes.\n",
        "\n",
        "One option to evaluate the quality of the features trained with CPC can be to check if they can be used to recognize phonemes. \n",
        "To do so, we can fine-tune a pre-trained model using a limited amount of labelled speech data.\n",
        "We are going to start with a simple evaluation setting where we have the phone labels for each timestep corresponding to a CPC feature.\n",
        "\n",
        "We will work with a model already pre-trained on English data. As far as the fine-tuning dataset is concerned, we will use a 1h subset of [librispeech-100](http://www.openslr.org/12/). "
      ]
    },
    {
      "cell_type": "code",
      "metadata": {
        "colab_type": "code",
        "id": "N-scDMAasXxc",
        "colab": {
          "base_uri": "https://localhost:8080/",
          "height": 607
        },
        "outputId": "8d57fd7e-7838-4312-c64d-c6f0ad71e427"
      },
      "source": [
        "!mkdir checkpoint_data\n",
        "!wget https://dl.fbaipublicfiles.com/librilight/CPC_checkpoints/not_hub/2levels_6k_top_ctc/checkpoint_30.pt -P checkpoint_data\n",
        "!wget https://dl.fbaipublicfiles.com/librilight/CPC_checkpoints/not_hub/2levels_6k_top_ctc/checkpoint_logs.json -P checkpoint_data\n",
        "!wget https://dl.fbaipublicfiles.com/librilight/CPC_checkpoints/not_hub/2levels_6k_top_ctc/checkpoint_args.json -P checkpoint_data\n",
        "!ls checkpoint_data"
      ],
      "execution_count": 23,
      "outputs": [
        {
          "output_type": "stream",
          "text": [
            "--2020-07-05 08:50:34--  https://dl.fbaipublicfiles.com/librilight/CPC_checkpoints/not_hub/2levels_6k_top_ctc/checkpoint_30.pt\n",
            "Resolving dl.fbaipublicfiles.com (dl.fbaipublicfiles.com)... 172.67.9.4, 104.22.75.142, 104.22.74.142, ...\n",
            "Connecting to dl.fbaipublicfiles.com (dl.fbaipublicfiles.com)|172.67.9.4|:443... connected.\n",
            "HTTP request sent, awaiting response... 200 OK\n",
            "Length: 113599715 (108M) [application/octet-stream]\n",
            "Saving to: ‘checkpoint_data/checkpoint_30.pt’\n",
            "\n",
            "checkpoint_30.pt    100%[===================>] 108.34M  12.5MB/s    in 10s     \n",
            "\n",
            "2020-07-05 08:50:45 (10.8 MB/s) - ‘checkpoint_data/checkpoint_30.pt’ saved [113599715/113599715]\n",
            "\n",
            "--2020-07-05 08:50:48--  https://dl.fbaipublicfiles.com/librilight/CPC_checkpoints/not_hub/2levels_6k_top_ctc/checkpoint_logs.json\n",
            "Resolving dl.fbaipublicfiles.com (dl.fbaipublicfiles.com)... 172.67.9.4, 104.22.75.142, 104.22.74.142, ...\n",
            "Connecting to dl.fbaipublicfiles.com (dl.fbaipublicfiles.com)|172.67.9.4|:443... connected.\n",
            "HTTP request sent, awaiting response... 200 OK\n",
            "Length: 20786 (20K) [text/plain]\n",
            "Saving to: ‘checkpoint_data/checkpoint_logs.json’\n",
            "\n",
            "checkpoint_logs.jso 100%[===================>]  20.30K   124KB/s    in 0.2s    \n",
            "\n",
            "2020-07-05 08:50:49 (124 KB/s) - ‘checkpoint_data/checkpoint_logs.json’ saved [20786/20786]\n",
            "\n",
            "--2020-07-05 08:50:51--  https://dl.fbaipublicfiles.com/librilight/CPC_checkpoints/not_hub/2levels_6k_top_ctc/checkpoint_args.json\n",
            "Resolving dl.fbaipublicfiles.com (dl.fbaipublicfiles.com)... 172.67.9.4, 104.22.75.142, 104.22.74.142, ...\n",
            "Connecting to dl.fbaipublicfiles.com (dl.fbaipublicfiles.com)|172.67.9.4|:443... connected.\n",
            "HTTP request sent, awaiting response... 200 OK\n",
            "Length: 2063 (2.0K) [text/plain]\n",
            "Saving to: ‘checkpoint_data/checkpoint_args.json’\n",
            "\n",
            "checkpoint_args.jso 100%[===================>]   2.01K  --.-KB/s    in 0s      \n",
            "\n",
            "2020-07-05 08:50:51 (28.3 MB/s) - ‘checkpoint_data/checkpoint_args.json’ saved [2063/2063]\n",
            "\n",
            "checkpoint_30.pt  checkpoint_args.json\tcheckpoint_logs.json\n"
          ],
          "name": "stdout"
        }
      ]
    },
    {
      "cell_type": "code",
      "metadata": {
        "colab_type": "code",
        "id": "SSSaiYo82_oY",
        "colab": {
          "base_uri": "https://localhost:8080/",
          "height": 382
        },
        "outputId": "50f1fa60-ed0d-4303-ede8-a7a865e02f0e"
      },
      "source": [
        "%cd /content/CPC_audio\n",
        "from cpc.dataset import parseSeqLabels\n",
        "from cpc.feature_loader import loadModel\n",
        "\n",
        "checkpoint_path = 'checkpoint_data/checkpoint_30.pt'\n",
        "cpc_model, HIDDEN_CONTEXT_MODEL, HIDDEN_ENCODER_MODEL = loadModel([checkpoint_path])\n",
        "cpc_model = cpc_model.cuda()\n",
        "label_dict, N_PHONES = parseSeqLabels('/content/gdrive/My Drive/ALL_DATA/all_sessions.txt')\n",
        "dataset_train = load_dataset('/content/gdrive/My Drive/ALL_DATA/TRAIN', file_extension='.wav', phone_label_dict=label_dict)\n",
        "dataset_val = load_dataset('/content/gdrive/My Drive/ALL_DATA/VALIDATION', file_extension='.wav', phone_label_dict=label_dict)\n",
        "data_loader_train = dataset_train.getDataLoader(BATCH_SIZE, \"speaker\", True)\n",
        "data_loader_val = dataset_val.getDataLoader(BATCH_SIZE, \"sequence\", False)"
      ],
      "execution_count": 24,
      "outputs": [
        {
          "output_type": "stream",
          "text": [
            "/content/CPC_audio\n",
            "Loading checkpoint checkpoint_data/checkpoint_30.pt\n",
            "Loading the state dict at checkpoint_data/checkpoint_30.pt\n"
          ],
          "name": "stdout"
        },
        {
          "output_type": "stream",
          "text": [
            "12it [00:00, 373.51it/s]"
          ],
          "name": "stderr"
        },
        {
          "output_type": "stream",
          "text": [
            "Saved cache file at /content/gdrive/My Drive/ALL_DATA/TRAIN/_seqs_cache.txt\n"
          ],
          "name": "stdout"
        },
        {
          "output_type": "stream",
          "text": [
            "\n"
          ],
          "name": "stderr"
        },
        {
          "output_type": "stream",
          "text": [
            "Checking length...\n"
          ],
          "name": "stdout"
        },
        {
          "output_type": "stream",
          "text": [
            "994it [00:00, 299528.57it/s]\n"
          ],
          "name": "stderr"
        },
        {
          "output_type": "stream",
          "text": [
            "Done, elapsed: 1.059 seconds\n",
            "Scanned 994 sequences in 1.06 seconds\n",
            "1 chunks computed\n",
            "Joining pool\n"
          ],
          "name": "stdout"
        },
        {
          "output_type": "stream",
          "text": [
            "5it [00:00, 116.87it/s]"
          ],
          "name": "stderr"
        },
        {
          "output_type": "stream",
          "text": [
            "Joined process, elapsed=3.072 secs\n",
            "Saved cache file at /content/gdrive/My Drive/ALL_DATA/VALIDATION/_seqs_cache.txt\n"
          ],
          "name": "stdout"
        },
        {
          "output_type": "stream",
          "text": [
            "\n"
          ],
          "name": "stderr"
        },
        {
          "output_type": "stream",
          "text": [
            "Checking length...\n"
          ],
          "name": "stdout"
        },
        {
          "output_type": "stream",
          "text": [
            "259it [00:00, 491327.33it/s]\n"
          ],
          "name": "stderr"
        },
        {
          "output_type": "stream",
          "text": [
            "Done, elapsed: 0.896 seconds\n",
            "Scanned 259 sequences in 0.90 seconds\n",
            "1 chunks computed\n",
            "Joining pool\n",
            "Joined process, elapsed=0.939 secs\n"
          ],
          "name": "stdout"
        }
      ]
    },
    {
      "cell_type": "code",
      "metadata": {
        "colab_type": "code",
        "id": "3ulgYV3nHcoa",
        "colab": {
          "base_uri": "https://localhost:8080/",
          "height": 34
        },
        "outputId": "0c0750c1-9e31-49ad-d1d2-8847bb4a700e"
      },
      "source": [
        "# No of Characters in Twi Language\n",
        "N_PHONES"
      ],
      "execution_count": 25,
      "outputs": [
        {
          "output_type": "execute_result",
          "data": {
            "text/plain": [
              "23"
            ]
          },
          "metadata": {
            "tags": []
          },
          "execution_count": 25
        }
      ]
    },
    {
      "cell_type": "markdown",
      "metadata": {
        "colab_type": "text",
        "id": "xkKi-qfosng2"
      },
      "source": [
        "Then we will use a simple linear classifier to recognize the phonemes from the features produced by ```cpc_model```. \n",
        "\n",
        "### a) Build the phone classifier \n",
        "\n",
        "Design a class of linear classifiers, ```PhoneClassifier``` that will take as input a batch of sequences of CPC features and output a score vector for each phoneme"
      ]
    },
    {
      "cell_type": "code",
      "metadata": {
        "colab_type": "code",
        "id": "4RpAbz-0CXJJ",
        "colab": {}
      },
      "source": [
        "class PhoneClassifier(torch.nn.Module):\n",
        "\n",
        "  def __init__(self,input_dim : int,n_phones : int):\n",
        "    super(PhoneClassifier, self).__init__()\n",
        "    self.linear = torch.nn.Linear(input_dim, n_phones)\n",
        "    \n",
        "  def forward(self, x):\n",
        "    return self.linear(x)"
      ],
      "execution_count": 26,
      "outputs": []
    },
    {
      "cell_type": "markdown",
      "metadata": {
        "colab_type": "text",
        "id": "Zt5oa_nqtH-d"
      },
      "source": [
        "Our phone classifier will then be:"
      ]
    },
    {
      "cell_type": "code",
      "metadata": {
        "colab_type": "code",
        "id": "NRBf_83IuLv5",
        "colab": {}
      },
      "source": [
        "phone_classifier = PhoneClassifier(HIDDEN_CONTEXT_MODEL, N_PHONES).to(device)"
      ],
      "execution_count": 27,
      "outputs": []
    },
    {
      "cell_type": "markdown",
      "metadata": {
        "colab_type": "text",
        "id": "z_Vf5AbUhqm4"
      },
      "source": [
        "### b - What would be the correct loss criterion for this task ?\n",
        "\n"
      ]
    },
    {
      "cell_type": "code",
      "metadata": {
        "colab_type": "code",
        "id": "uhyPM-cgjrtw",
        "colab": {}
      },
      "source": [
        "loss_criterion = torch.nn.CrossEntropyLoss()"
      ],
      "execution_count": 28,
      "outputs": []
    },
    {
      "cell_type": "markdown",
      "metadata": {
        "colab_type": "text",
        "id": "Nv4cSxbaplrz"
      },
      "source": [
        "To perform the fine-tuning, we will also need an optimization function.\n",
        "\n",
        "We will use an [Adam optimizer ](https://pytorch.org/docs/stable/optim.html#torch.optim.Adam)."
      ]
    },
    {
      "cell_type": "code",
      "metadata": {
        "colab_type": "code",
        "id": "W5CgYyAlqKxu",
        "colab": {}
      },
      "source": [
        "parameters = list(phone_classifier.parameters()) + list(cpc_model.parameters())\n",
        "LEARNING_RATE = 2e-4\n",
        "optimizer = torch.optim.Adam(parameters, lr=LEARNING_RATE)"
      ],
      "execution_count": 29,
      "outputs": []
    },
    {
      "cell_type": "markdown",
      "metadata": {
        "colab_type": "text",
        "id": "qQB9HS9PvAXc"
      },
      "source": [
        "You might also want to perform this training while freezing the weights of the ```cpc_model```. Indeed, if the pre-training was good enough, then ```cpc_model``` phonemes representation should be linearly separable. In this case the optimizer should be defined like this:"
      ]
    },
    {
      "cell_type": "code",
      "metadata": {
        "colab_type": "code",
        "id": "nRy0gn6awGUQ",
        "colab": {}
      },
      "source": [
        "optimizer_frozen = torch.optim.Adam(list(phone_classifier.parameters()), lr=LEARNING_RATE)"
      ],
      "execution_count": 30,
      "outputs": []
    },
    {
      "cell_type": "markdown",
      "metadata": {
        "colab_type": "text",
        "id": "cO93ngIfj4JW"
      },
      "source": [
        "### c- Now let's build a training loop. \n",
        "Complete the function ```train_one_epoch``` below.\n",
        "\n"
      ]
    },
    {
      "cell_type": "code",
      "metadata": {
        "colab_type": "code",
        "id": "fabqj3wvLwgU",
        "colab": {}
      },
      "source": [
        "def train_one_epoch(cpc_model,phone_classifier,loss_criterion,data_loader,optimizer):\n",
        "\n",
        "  cpc_model.train()\n",
        "  loss_criterion.train()\n",
        "\n",
        "  avg_loss = 0\n",
        "  avg_accuracy = 0\n",
        "  n_items = 0\n",
        "  for step, full_data in enumerate(data_loader):\n",
        "    # Each batch is represented by a Tuple of vectors:\n",
        "    # sequence of size : N x 1 x T\n",
        "    # label of size : N x T\n",
        "    # \n",
        "    # With :\n",
        "    # - N number of sequence in the batch\n",
        "    # - T size of each sequence\n",
        "    sequence, label = full_data\n",
        "    \n",
        "    \n",
        "\n",
        "    bs = len(sequence)\n",
        "    seq_len = label.size(1)\n",
        "    optimizer.zero_grad()\n",
        "    context_out, enc_out, _ = cpc_model(sequence.to(device),label.to(device))\n",
        "\n",
        "    scores = phone_classifier(context_out)\n",
        "\n",
        "    scores = scores.permute(0,2,1)\n",
        "    loss = loss_criterion(scores,label.to(device))\n",
        "    loss.backward()\n",
        "    optimizer.step()\n",
        "    avg_loss+=loss.item()*bs\n",
        "    n_items+=bs\n",
        "    correct_labels = scores.argmax(1)\n",
        "    avg_accuracy += ((label==correct_labels.cpu()).float()).mean(1).sum().item()\n",
        "  avg_loss/=n_items\n",
        "  avg_accuracy/=n_items\n",
        "  return avg_loss, avg_accuracy"
      ],
      "execution_count": 34,
      "outputs": []
    },
    {
      "cell_type": "markdown",
      "metadata": {
        "colab_type": "text",
        "id": "quYtjx_TxIPK"
      },
      "source": [
        "Don't forget to test it !"
      ]
    },
    {
      "cell_type": "code",
      "metadata": {
        "colab_type": "code",
        "id": "50MwxbKhxMKp",
        "colab": {}
      },
      "source": [
        "avg_loss, avg_accuracy = train_one_epoch(cpc_model, phone_classifier, loss_criterion, data_loader_train, optimizer_frozen)"
      ],
      "execution_count": 35,
      "outputs": []
    },
    {
      "cell_type": "code",
      "metadata": {
        "colab_type": "code",
        "id": "_o6yk8XKWnYe",
        "colab": {
          "base_uri": "https://localhost:8080/",
          "height": 34
        },
        "outputId": "2817dd9b-7be5-4cbe-dcc9-e66c7a6666ac"
      },
      "source": [
        "avg_loss, avg_accuracy"
      ],
      "execution_count": 36,
      "outputs": [
        {
          "output_type": "execute_result",
          "data": {
            "text/plain": [
              "(2.983240133523941, 0.1295166015625)"
            ]
          },
          "metadata": {
            "tags": []
          },
          "execution_count": 36
        }
      ]
    },
    {
      "cell_type": "markdown",
      "metadata": {
        "colab_type": "text",
        "id": "EmUkuJ2bwu4Z"
      },
      "source": [
        "### d- Build the validation loop"
      ]
    },
    {
      "cell_type": "code",
      "metadata": {
        "colab_type": "code",
        "id": "kZJMxj6cwzd3",
        "colab": {}
      },
      "source": [
        "def validation_step(cpc_model,phone_classifier,loss_criterion,data_loader):\n",
        "  \n",
        "  cpc_model.eval()\n",
        "  phone_classifier.eval()\n",
        "\n",
        "  avg_loss = 0\n",
        "  avg_accuracy = 0\n",
        "  n_items = 0\n",
        "  with torch.no_grad():\n",
        "    for step, full_data in enumerate(data_loader):\n",
        "      # Each batch is represented by a Tuple of vectors:\n",
        "      # sequence of size : N x 1 x T\n",
        "      # label of size : N x T\n",
        "      # \n",
        "      # With :\n",
        "      # - N number of sequence in the batch\n",
        "      # - T size of each sequence\n",
        "      sequence, label = full_data\n",
        "      bs = len(sequence)\n",
        "      seq_len = label.size(1)\n",
        "      context_out, enc_out, _ = cpc_model(sequence.to(device),label.to(device))\n",
        "      scores = phone_classifier(context_out)\n",
        "      scores = scores.permute(0,2,1)\n",
        "      loss = loss_criterion(scores,label.to(device))\n",
        "      avg_loss+=loss.item()*bs\n",
        "      n_items+=bs\n",
        "      correct_labels = scores.argmax(1)\n",
        "      avg_accuracy += ((label==correct_labels.cpu()).float()).mean(1).sum().item()\n",
        "  avg_loss/=n_items\n",
        "  avg_accuracy/=n_items\n",
        "  return avg_loss, avg_accuracy"
      ],
      "execution_count": 37,
      "outputs": []
    },
    {
      "cell_type": "markdown",
      "metadata": {
        "colab_type": "text",
        "id": "vownVCt7xbVh"
      },
      "source": [
        "### e- Run everything\n",
        "\n",
        "Test this functiion with both ```optimizer``` and ```optimizer_frozen```."
      ]
    },
    {
      "cell_type": "code",
      "metadata": {
        "colab_type": "code",
        "id": "xvO_4nKUxfQx",
        "colab": {}
      },
      "source": [
        "def run(cpc_model,phone_classifier,loss_criterion,data_loader_train,data_loader_val,optimizer,n_epoch):\n",
        "\n",
        "  for epoch in range(n_epoch):\n",
        "\n",
        "    print(f\"Running epoch {epoch + 1} / {n_epoch}\")\n",
        "    loss_train, acc_train = train_one_epoch(cpc_model, phone_classifier, loss_criterion, data_loader_train, optimizer)\n",
        "    print(\"-------------------\")\n",
        "    print(f\"Training dataset :\")\n",
        "    print(f\"Average loss : {loss_train}. Average accuracy {acc_train}\")\n",
        "\n",
        "    print(\"-------------------\")\n",
        "    print(\"Validation dataset\")\n",
        "    loss_val, acc_val = validation_step(cpc_model, phone_classifier, loss_criterion, data_loader_val)\n",
        "    print(f\"Average loss : {loss_val}. Average accuracy {acc_val}\")\n",
        "    print(\"-------------------\")\n",
        "    print()"
      ],
      "execution_count": 38,
      "outputs": []
    },
    {
      "cell_type": "code",
      "metadata": {
        "colab_type": "code",
        "id": "ceCEO2h2bxAn",
        "colab": {
          "base_uri": "https://localhost:8080/",
          "height": 1000
        },
        "outputId": "0c5d99da-49b9-4efc-cd17-a7d830898ee1"
      },
      "source": [
        "run(cpc_model,phone_classifier,loss_criterion,data_loader_train,data_loader_val,optimizer_frozen,n_epoch=50)"
      ],
      "execution_count": null,
      "outputs": [
        {
          "output_type": "stream",
          "text": [
            "Running epoch 1 / 50\n",
            "-------------------\n",
            "Training dataset :\n",
            "Average loss : 2.976364237070084. Average accuracy 0.149267578125\n",
            "-------------------\n",
            "Validation dataset\n",
            "Average loss : 2.946584850549698. Average accuracy 0.1441650390625\n",
            "-------------------\n",
            "\n",
            "Running epoch 2 / 50\n",
            "-------------------\n",
            "Training dataset :\n",
            "Average loss : 2.9102670013904572. Average accuracy 0.1549560546875\n",
            "-------------------\n",
            "Validation dataset\n",
            "Average loss : 2.8955787420272827. Average accuracy 0.1484375\n",
            "-------------------\n",
            "\n",
            "Running epoch 3 / 50\n",
            "-------------------\n",
            "Training dataset :\n",
            "Average loss : 2.870915615558624. Average accuracy 0.155712890625\n",
            "-------------------\n",
            "Validation dataset\n",
            "Average loss : 2.8663676381111145. Average accuracy 0.1480712890625\n",
            "-------------------\n",
            "\n",
            "Running epoch 4 / 50\n",
            "-------------------\n",
            "Training dataset :\n",
            "Average loss : 2.847214603424072. Average accuracy 0.15546875\n",
            "-------------------\n",
            "Validation dataset\n",
            "Average loss : 2.8507860898971558. Average accuracy 0.1475830078125\n",
            "-------------------\n",
            "\n",
            "Running epoch 5 / 50\n",
            "-------------------\n",
            "Training dataset :\n",
            "Average loss : 2.833433508872986. Average accuracy 0.15595703125\n",
            "-------------------\n",
            "Validation dataset\n",
            "Average loss : 2.840433180332184. Average accuracy 0.14794921875\n",
            "-------------------\n",
            "\n",
            "Running epoch 6 / 50\n",
            "-------------------\n",
            "Training dataset :\n",
            "Average loss : 2.823755091428757. Average accuracy 0.156103515625\n",
            "-------------------\n",
            "Validation dataset\n",
            "Average loss : 2.8314752280712128. Average accuracy 0.147705078125\n",
            "-------------------\n",
            "\n",
            "Running epoch 7 / 50\n",
            "-------------------\n",
            "Training dataset :\n",
            "Average loss : 2.8175437331199644. Average accuracy 0.15595703125\n",
            "-------------------\n",
            "Validation dataset\n",
            "Average loss : 2.82523250579834. Average accuracy 0.1480712890625\n",
            "-------------------\n",
            "\n",
            "Running epoch 8 / 50\n",
            "-------------------\n",
            "Training dataset :\n",
            "Average loss : 2.812824583053589. Average accuracy 0.15615234375\n",
            "-------------------\n",
            "Validation dataset\n",
            "Average loss : 2.820837616920471. Average accuracy 0.14794921875\n",
            "-------------------\n",
            "\n",
            "Running epoch 9 / 50\n",
            "-------------------\n",
            "Training dataset :\n",
            "Average loss : 2.809151864051819. Average accuracy 0.1562744140625\n",
            "-------------------\n",
            "Validation dataset\n",
            "Average loss : 2.8173842430114746. Average accuracy 0.1485595703125\n",
            "-------------------\n",
            "\n",
            "Running epoch 10 / 50\n",
            "-------------------\n",
            "Training dataset :\n",
            "Average loss : 2.805326747894287. Average accuracy 0.156640625\n",
            "-------------------\n",
            "Validation dataset\n",
            "Average loss : 2.816396027803421. Average accuracy 0.1473388671875\n",
            "-------------------\n",
            "\n",
            "Running epoch 11 / 50\n",
            "-------------------\n",
            "Training dataset :\n",
            "Average loss : 2.803429001569748. Average accuracy 0.15654296875\n",
            "-------------------\n",
            "Validation dataset\n",
            "Average loss : 2.8117944598197937. Average accuracy 0.148193359375\n",
            "-------------------\n",
            "\n",
            "Running epoch 12 / 50\n",
            "-------------------\n",
            "Training dataset :\n",
            "Average loss : 2.800582492351532. Average accuracy 0.1565673828125\n",
            "-------------------\n",
            "Validation dataset\n",
            "Average loss : 2.8114202320575714. Average accuracy 0.14794921875\n",
            "-------------------\n",
            "\n",
            "Running epoch 13 / 50\n",
            "-------------------\n",
            "Training dataset :\n",
            "Average loss : 2.799477994441986. Average accuracy 0.1565673828125\n",
            "-------------------\n",
            "Validation dataset\n",
            "Average loss : 2.8093216717243195. Average accuracy 0.1470947265625\n",
            "-------------------\n",
            "\n",
            "Running epoch 14 / 50\n",
            "-------------------\n",
            "Training dataset :\n",
            "Average loss : 2.7986223816871645. Average accuracy 0.1568359375\n",
            "-------------------\n",
            "Validation dataset\n",
            "Average loss : 2.8072560727596283. Average accuracy 0.1483154296875\n",
            "-------------------\n",
            "\n",
            "Running epoch 15 / 50\n",
            "-------------------\n",
            "Training dataset :\n",
            "Average loss : 2.7955397605895995. Average accuracy 0.157275390625\n",
            "-------------------\n",
            "Validation dataset\n",
            "Average loss : 2.804836720228195. Average accuracy 0.1485595703125\n",
            "-------------------\n",
            "\n",
            "Running epoch 16 / 50\n",
            "-------------------\n",
            "Training dataset :\n",
            "Average loss : 2.795891100168228. Average accuracy 0.156689453125\n",
            "-------------------\n",
            "Validation dataset\n",
            "Average loss : 2.805921256542206. Average accuracy 0.147705078125\n",
            "-------------------\n",
            "\n",
            "Running epoch 17 / 50\n",
            "-------------------\n",
            "Training dataset :\n",
            "Average loss : 2.7948332011699675. Average accuracy 0.1568603515625\n",
            "-------------------\n",
            "Validation dataset\n",
            "Average loss : 2.8036371767520905. Average accuracy 0.1485595703125\n",
            "-------------------\n",
            "\n",
            "Running epoch 18 / 50\n",
            "-------------------\n",
            "Training dataset :\n",
            "Average loss : 2.7919427394866942. Average accuracy 0.157080078125\n",
            "-------------------\n",
            "Validation dataset\n",
            "Average loss : 2.8039624094963074. Average accuracy 0.1475830078125\n",
            "-------------------\n",
            "\n",
            "Running epoch 19 / 50\n",
            "-------------------\n",
            "Training dataset :\n",
            "Average loss : 2.7904698252677917. Average accuracy 0.1568603515625\n",
            "-------------------\n",
            "Validation dataset\n",
            "Average loss : 2.802805632352829. Average accuracy 0.147705078125\n",
            "-------------------\n",
            "\n",
            "Running epoch 20 / 50\n",
            "-------------------\n",
            "Training dataset :\n",
            "Average loss : 2.7893972992897034. Average accuracy 0.1571533203125\n",
            "-------------------\n",
            "Validation dataset\n",
            "Average loss : 2.8010328710079193. Average accuracy 0.1485595703125\n",
            "-------------------\n",
            "\n",
            "Running epoch 21 / 50\n",
            "-------------------\n",
            "Training dataset :\n",
            "Average loss : 2.7911133229732514. Average accuracy 0.1570556640625\n",
            "-------------------\n",
            "Validation dataset\n",
            "Average loss : 2.799359530210495. Average accuracy 0.14892578125\n",
            "-------------------\n",
            "\n",
            "Running epoch 22 / 50\n",
            "-------------------\n",
            "Training dataset :\n",
            "Average loss : 2.7879366993904116. Average accuracy 0.156982421875\n",
            "-------------------\n",
            "Validation dataset\n",
            "Average loss : 2.7982929944992065. Average accuracy 0.1480712890625\n",
            "-------------------\n",
            "\n",
            "Running epoch 23 / 50\n",
            "-------------------\n",
            "Training dataset :\n",
            "Average loss : 2.7869215667247773. Average accuracy 0.1575927734375\n",
            "-------------------\n",
            "Validation dataset\n",
            "Average loss : 2.797988086938858. Average accuracy 0.147705078125\n",
            "-------------------\n",
            "\n",
            "Running epoch 24 / 50\n",
            "-------------------\n",
            "Training dataset :\n",
            "Average loss : 2.785590171813965. Average accuracy 0.15732421875\n",
            "-------------------\n",
            "Validation dataset\n",
            "Average loss : 2.7970995008945465. Average accuracy 0.148193359375\n",
            "-------------------\n",
            "\n",
            "Running epoch 25 / 50\n",
            "-------------------\n",
            "Training dataset :\n",
            "Average loss : 2.786711502075195. Average accuracy 0.1571533203125\n",
            "-------------------\n",
            "Validation dataset\n",
            "Average loss : 2.797942101955414. Average accuracy 0.1470947265625\n",
            "-------------------\n",
            "\n",
            "Running epoch 26 / 50\n",
            "-------------------\n",
            "Training dataset :\n",
            "Average loss : 2.786308777332306. Average accuracy 0.1566162109375\n",
            "-------------------\n",
            "Validation dataset\n",
            "Average loss : 2.795826494693756. Average accuracy 0.1488037109375\n",
            "-------------------\n",
            "\n",
            "Running epoch 27 / 50\n",
            "-------------------\n",
            "Training dataset :\n",
            "Average loss : 2.784880530834198. Average accuracy 0.1572021484375\n",
            "-------------------\n",
            "Validation dataset\n",
            "Average loss : 2.7968671023845673. Average accuracy 0.1478271484375\n",
            "-------------------\n",
            "\n",
            "Running epoch 28 / 50\n",
            "-------------------\n",
            "Training dataset :\n",
            "Average loss : 2.785067504644394. Average accuracy 0.1570068359375\n",
            "-------------------\n",
            "Validation dataset\n",
            "Average loss : 2.7957285344600677. Average accuracy 0.148193359375\n",
            "-------------------\n",
            "\n",
            "Running epoch 29 / 50\n",
            "-------------------\n",
            "Training dataset :\n",
            "Average loss : 2.7835098624229433. Average accuracy 0.157275390625\n",
            "-------------------\n",
            "Validation dataset\n",
            "Average loss : 2.7945769131183624. Average accuracy 0.148193359375\n",
            "-------------------\n",
            "\n",
            "Running epoch 30 / 50\n",
            "-------------------\n",
            "Training dataset :\n",
            "Average loss : 2.7822488963603975. Average accuracy 0.1572021484375\n",
            "-------------------\n",
            "Validation dataset\n",
            "Average loss : 2.796625167131424. Average accuracy 0.147216796875\n",
            "-------------------\n",
            "\n",
            "Running epoch 31 / 50\n",
            "-------------------\n",
            "Training dataset :\n",
            "Average loss : 2.7827999353408814. Average accuracy 0.1569091796875\n",
            "-------------------\n",
            "Validation dataset\n",
            "Average loss : 2.793958008289337. Average accuracy 0.1484375\n",
            "-------------------\n",
            "\n",
            "Running epoch 32 / 50\n",
            "-------------------\n",
            "Training dataset :\n",
            "Average loss : 2.782224988937378. Average accuracy 0.157177734375\n",
            "-------------------\n",
            "Validation dataset\n",
            "Average loss : 2.795566588640213. Average accuracy 0.148193359375\n",
            "-------------------\n",
            "\n",
            "Running epoch 33 / 50\n",
            "-------------------\n",
            "Training dataset :\n",
            "Average loss : 2.780611163377762. Average accuracy 0.1574462890625\n",
            "-------------------\n",
            "Validation dataset\n",
            "Average loss : 2.793307065963745. Average accuracy 0.148681640625\n",
            "-------------------\n",
            "\n",
            "Running epoch 34 / 50\n",
            "-------------------\n",
            "Training dataset :\n",
            "Average loss : 2.780475449562073. Average accuracy 0.1575439453125\n",
            "-------------------\n",
            "Validation dataset\n",
            "Average loss : 2.793612092733383. Average accuracy 0.1483154296875\n",
            "-------------------\n",
            "\n",
            "Running epoch 35 / 50\n",
            "-------------------\n",
            "Training dataset :\n",
            "Average loss : 2.78439177274704. Average accuracy 0.1569580078125\n",
            "-------------------\n",
            "Validation dataset\n",
            "Average loss : 2.794726461172104. Average accuracy 0.148193359375\n",
            "-------------------\n",
            "\n",
            "Running epoch 36 / 50\n",
            "-------------------\n",
            "Training dataset :\n",
            "Average loss : 2.779246824979782. Average accuracy 0.157080078125\n",
            "-------------------\n",
            "Validation dataset\n",
            "Average loss : 2.792103201150894. Average accuracy 0.1494140625\n",
            "-------------------\n",
            "\n",
            "Running epoch 37 / 50\n",
            "-------------------\n",
            "Training dataset :\n",
            "Average loss : 2.7797717809677125. Average accuracy 0.1571044921875\n",
            "-------------------\n",
            "Validation dataset\n",
            "Average loss : 2.791083335876465. Average accuracy 0.148193359375\n",
            "-------------------\n",
            "\n",
            "Running epoch 38 / 50\n",
            "-------------------\n",
            "Training dataset :\n",
            "Average loss : 2.7791486501693727. Average accuracy 0.15751953125\n",
            "-------------------\n",
            "Validation dataset\n",
            "Average loss : 2.7925319969654083. Average accuracy 0.1475830078125\n",
            "-------------------\n",
            "\n",
            "Running epoch 39 / 50\n",
            "-------------------\n",
            "Training dataset :\n",
            "Average loss : 2.778066688776016. Average accuracy 0.15771484375\n",
            "-------------------\n",
            "Validation dataset\n",
            "Average loss : 2.791713833808899. Average accuracy 0.1492919921875\n",
            "-------------------\n",
            "\n",
            "Running epoch 40 / 50\n",
            "-------------------\n",
            "Training dataset :\n",
            "Average loss : 2.777979075908661. Average accuracy 0.1583740234375\n",
            "-------------------\n",
            "Validation dataset\n",
            "Average loss : 2.790778338909149. Average accuracy 0.1483154296875\n",
            "-------------------\n",
            "\n",
            "Running epoch 41 / 50\n",
            "-------------------\n",
            "Training dataset :\n",
            "Average loss : 2.777431809902191. Average accuracy 0.1585693359375\n",
            "-------------------\n",
            "Validation dataset\n",
            "Average loss : 2.7919892072677612. Average accuracy 0.1485595703125\n",
            "-------------------\n",
            "\n",
            "Running epoch 42 / 50\n",
            "-------------------\n",
            "Training dataset :\n",
            "Average loss : 2.7801477134227754. Average accuracy 0.1573974609375\n",
            "-------------------\n",
            "Validation dataset\n",
            "Average loss : 2.791737824678421. Average accuracy 0.1485595703125\n",
            "-------------------\n",
            "\n",
            "Running epoch 43 / 50\n",
            "-------------------\n",
            "Training dataset :\n",
            "Average loss : 2.776516926288605. Average accuracy 0.1597412109375\n",
            "-------------------\n",
            "Validation dataset\n",
            "Average loss : 2.7906881272792816. Average accuracy 0.1485595703125\n",
            "-------------------\n",
            "\n",
            "Running epoch 44 / 50\n",
            "-------------------\n",
            "Training dataset :\n",
            "Average loss : 2.776211088895798. Average accuracy 0.159033203125\n",
            "-------------------\n",
            "Validation dataset\n",
            "Average loss : 2.789201945066452. Average accuracy 0.1488037109375\n",
            "-------------------\n",
            "\n",
            "Running epoch 45 / 50\n",
            "-------------------\n",
            "Training dataset :\n",
            "Average loss : 2.7808772742748262. Average accuracy 0.1572998046875\n",
            "-------------------\n",
            "Validation dataset\n",
            "Average loss : 2.788942873477936. Average accuracy 0.14892578125\n",
            "-------------------\n",
            "\n",
            "Running epoch 46 / 50\n",
            "-------------------\n",
            "Training dataset :\n",
            "Average loss : 2.7757483780384065. Average accuracy 0.1601318359375\n",
            "-------------------\n",
            "Validation dataset\n",
            "Average loss : 2.789384812116623. Average accuracy 0.149169921875\n",
            "-------------------\n",
            "\n",
            "Running epoch 47 / 50\n",
            "-------------------\n",
            "Training dataset :\n",
            "Average loss : 2.7786888480186462. Average accuracy 0.1574462890625\n",
            "-------------------\n",
            "Validation dataset\n",
            "Average loss : 2.7921514809131622. Average accuracy 0.1475830078125\n",
            "-------------------\n",
            "\n",
            "Running epoch 48 / 50\n",
            "-------------------\n",
            "Training dataset :\n",
            "Average loss : 2.774145644903183. Average accuracy 0.1603759765625\n",
            "-------------------\n",
            "Validation dataset\n",
            "Average loss : 2.789458841085434. Average accuracy 0.149169921875\n",
            "-------------------\n",
            "\n",
            "Running epoch 49 / 50\n",
            "-------------------\n",
            "Training dataset :\n",
            "Average loss : 2.7739053428173066. Average accuracy 0.1612060546875\n",
            "-------------------\n",
            "Validation dataset\n",
            "Average loss : 2.791575640439987. Average accuracy 0.147705078125\n",
            "-------------------\n",
            "\n",
            "Running epoch 50 / 50\n",
            "-------------------\n",
            "Training dataset :\n",
            "Average loss : 2.776489782333374. Average accuracy 0.160400390625\n",
            "-------------------\n",
            "Validation dataset\n",
            "Average loss : 2.791691303253174. Average accuracy 0.1483154296875\n",
            "-------------------\n",
            "\n"
          ],
          "name": "stdout"
        }
      ]
    },
    {
      "cell_type": "markdown",
      "metadata": {
        "colab_type": "text",
        "id": "TdfWDiFnylMT"
      },
      "source": [
        "## Exercise 2 : Phone separability without alignment (PER)\n",
        "\n",
        "Aligned data are very practical, but un real life they are rarely available. That's why in this excercise we will consider a fine-tuning with non-aligned phonemes.\n",
        "\n",
        "The model, the optimizer and the phone classifier will stay the same. However, we will replace our phone criterion with a [CTC loss](https://pytorch.org/docs/master/generated/torch.nn.CTCLoss.html). "
      ]
    },
    {
      "cell_type": "code",
      "metadata": {
        "colab_type": "code",
        "id": "_9BpM_Lpzgx8",
        "colab": {}
      },
      "source": [
        "loss_ctc = torch.nn.CTCLoss()"
      ],
      "execution_count": 39,
      "outputs": []
    },
    {
      "cell_type": "markdown",
      "metadata": {
        "colab_type": "text",
        "id": "AQpYgTyfzsrq"
      },
      "source": [
        "Besides, we will use a siglthy different dataset class."
      ]
    },
    {
      "cell_type": "code",
      "metadata": {
        "colab_type": "code",
        "id": "9HRxoatlz3ZZ",
        "colab": {
          "base_uri": "https://localhost:8080/",
          "height": 278
        },
        "outputId": "47633563-2823-4d6c-fd9b-88a0eb9686d7"
      },
      "source": [
        "%cd /content/CPC_audio\n",
        "from cpc.eval.common_voices_eval import SingleSequenceDataset, parseSeqLabels, findAllSeqs\n",
        "path_train_data_per = '/content/gdrive/My Drive/ALL_DATA/TRAIN'\n",
        "path_val_data_per = '/content/gdrive/My Drive/ALL_DATA/VALIDATION'\n",
        "path_test_data_per = '/content/gdrive/My Drive/ALL_DATA/TEST'\n",
        "path_phone_data_per = '/content/gdrive/My Drive/ALL_DATA/all_sessions.txt'\n",
        "BATCH_SIZE=8\n",
        "\n",
        "phone_labels, N_PHONES = parseSeqLabels(path_phone_data_per)\n",
        "data_train_per, _ = findAllSeqs(path_train_data_per, extension='.wav')\n",
        "dataset_train_non_aligned = SingleSequenceDataset(path_train_data_per, data_train_per, phone_labels)\n",
        "data_loader_train = torch.utils.data.DataLoader(dataset_train_non_aligned, batch_size=BATCH_SIZE,shuffle=True)\n",
        "\n",
        "data_val_per, _ = findAllSeqs(path_val_data_per, extension='.wav')\n",
        "dataset_val_non_aligned = SingleSequenceDataset(path_val_data_per, data_val_per, phone_labels)\n",
        "data_loader_val = torch.utils.data.DataLoader(dataset_val_non_aligned, batch_size=BATCH_SIZE,shuffle=True)"
      ],
      "execution_count": 40,
      "outputs": [
        {
          "output_type": "stream",
          "text": [
            "12it [00:00, 379.15it/s]"
          ],
          "name": "stderr"
        },
        {
          "output_type": "stream",
          "text": [
            "/content/CPC_audio\n",
            "Saved cache file at /content/gdrive/My Drive/ALL_DATA/TRAIN/_seqs_cache.txt\n"
          ],
          "name": "stdout"
        },
        {
          "output_type": "stream",
          "text": [
            "\n",
            "5it [00:00, 285.50it/s]"
          ],
          "name": "stderr"
        },
        {
          "output_type": "stream",
          "text": [
            "Loaded 995 sequences in 5.08 seconds\n",
            "maxSizeSeq : 254463\n",
            "maxSizePhone : 105\n",
            "minSizePhone : 8\n",
            "Total size dataset 1.6816167881944444 hours\n",
            "Saved cache file at /content/gdrive/My Drive/ALL_DATA/VALIDATION/_seqs_cache.txt\n"
          ],
          "name": "stdout"
        },
        {
          "output_type": "stream",
          "text": [
            "\n"
          ],
          "name": "stderr"
        },
        {
          "output_type": "stream",
          "text": [
            "Loaded 260 sequences in 2.43 seconds\n",
            "maxSizeSeq : 221067\n",
            "maxSizePhone : 104\n",
            "minSizePhone : 6\n",
            "Total size dataset 0.3762847916666667 hours\n"
          ],
          "name": "stdout"
        }
      ]
    },
    {
      "cell_type": "code",
      "metadata": {
        "id": "3XIpogshrZeb",
        "colab_type": "code",
        "colab": {
          "base_uri": "https://localhost:8080/",
          "height": 139
        },
        "outputId": "a9a45d7c-cce3-46c5-dfc2-bf519e3db067"
      },
      "source": [
        "#path_test_data_per = '/content/gdrive/My Drive/DATA/Test'\n",
        "data_test_per, _ = findAllSeqs(path_test_data_per, extension='.wav')\n",
        "dataset_test_non_aligned = SingleSequenceDataset(path_test_data_per, data_test_per, phone_labels)\n",
        "data_loader_test = torch.utils.data.DataLoader(dataset_test_non_aligned, batch_size=BATCH_SIZE,shuffle=True)"
      ],
      "execution_count": 41,
      "outputs": [
        {
          "output_type": "stream",
          "text": [
            "18it [00:10,  1.73it/s]\n"
          ],
          "name": "stderr"
        },
        {
          "output_type": "stream",
          "text": [
            "Saved cache file at /content/gdrive/My Drive/ALL_DATA/TEST/_seqs_cache.txt\n",
            "Loaded 1184 sequences in 114.56 seconds\n",
            "maxSizeSeq : 255915\n",
            "maxSizePhone : 127\n",
            "minSizePhone : 3\n",
            "Total size dataset 2.0632075520833335 hours\n"
          ],
          "name": "stdout"
        }
      ]
    },
    {
      "cell_type": "markdown",
      "metadata": {
        "colab_type": "text",
        "id": "GwAckY62z7s9"
      },
      "source": [
        "### a- Training\n",
        "\n",
        "Since the phonemes are not aligned, there is no simple direct way to get the classification acuracy of a model. Write and test the three functions ```train_one_epoch_ctc```, ```validation_step_ctc``` and ```run_ctc``` as before but without considering the average acuracy of the model. "
      ]
    },
    {
      "cell_type": "code",
      "metadata": {
        "colab_type": "code",
        "id": "oYg5YzW8EHl4",
        "colab": {
          "base_uri": "https://localhost:8080/",
          "height": 52
        },
        "outputId": "b4018892-e6e4-4f44-c3de-469e8f7e26dd"
      },
      "source": [
        "from cpc.feature_loader import loadModel\n",
        "\n",
        "checkpoint_path = 'checkpoint_data/checkpoint_30.pt'\n",
        "cpc_model, HIDDEN_CONTEXT_MODEL, HIDDEN_ENCODER_MODEL = loadModel([checkpoint_path])\n",
        "cpc_model = cpc_model.cuda()\n",
        "phone_classifier = PhoneClassifier(HIDDEN_CONTEXT_MODEL, N_PHONES).to(device)"
      ],
      "execution_count": 42,
      "outputs": [
        {
          "output_type": "stream",
          "text": [
            "Loading checkpoint checkpoint_data/checkpoint_30.pt\n",
            "Loading the state dict at checkpoint_data/checkpoint_30.pt\n"
          ],
          "name": "stdout"
        }
      ]
    },
    {
      "cell_type": "code",
      "metadata": {
        "colab_type": "code",
        "id": "CFQ2g3PjErdZ",
        "colab": {}
      },
      "source": [
        "parameters = list(phone_classifier.parameters()) + list(cpc_model.parameters())\n",
        "LEARNING_RATE = 2e-4\n",
        "optimizer = torch.optim.Adam(parameters, lr=LEARNING_RATE)\n",
        "optimizer_frozen = torch.optim.Adam(list(phone_classifier.parameters()), lr=LEARNING_RATE)"
      ],
      "execution_count": 43,
      "outputs": []
    },
    {
      "cell_type": "code",
      "metadata": {
        "colab_type": "code",
        "id": "Zsgjv3cD0oqD",
        "colab": {}
      },
      "source": [
        "import torch.nn.functional as F\n",
        "\n",
        "def train_one_epoch_ctc(cpc_model,phone_classifier,loss_criterion,data_loader,optimizer):\n",
        "  \n",
        "  cpc_model.train()\n",
        "  loss_criterion.train()\n",
        "\n",
        "  avg_loss = 0\n",
        "  avg_accuracy = 0\n",
        "  n_items = 0\n",
        "  for step, full_data in enumerate(data_loader):\n",
        "\n",
        "    x, x_len, y, y_len = full_data\n",
        "\n",
        "    x_batch_len = x.shape[-1]\n",
        "    x, y = x.to(device), y.to(device)\n",
        "\n",
        "    bs=x.size(0)\n",
        "    optimizer.zero_grad()\n",
        "    context_out, enc_out, _ = cpc_model(x.to(device),y.to(device))\n",
        "  \n",
        "    scores = phone_classifier(context_out)\n",
        "    scores = scores.permute(1,0,2)\n",
        "    scores = F.log_softmax(scores,2)\n",
        "    yhat_len = torch.tensor([int(scores.shape[0]*x_len[i]/x_batch_len) for i in range(scores.shape[1])]) # this is an approximation, should be good enough\n",
        "\n",
        "    loss = loss_criterion(scores,y.to(device),yhat_len,y_len)\n",
        "    loss.backward()\n",
        "    optimizer.step()\n",
        "    avg_loss+=loss.item()*bs\n",
        "    n_items+=bs\n",
        "  avg_loss/=n_items\n",
        "  return avg_loss\n",
        "\n",
        "def validation_step(cpc_model,phone_classifier,loss_criterion,data_loader):\n",
        "\n",
        "  cpc_model.eval()\n",
        "  phone_classifier.eval()\n",
        "  avg_loss = 0\n",
        "  avg_accuracy = 0\n",
        "  n_items = 0\n",
        "  with torch.no_grad():\n",
        "    for step, full_data in enumerate(data_loader):\n",
        "\n",
        "      x, x_len, y, y_len = full_data\n",
        "\n",
        "      x_batch_len = x.shape[-1]\n",
        "      x, y = x.to(device), y.to(device)\n",
        "\n",
        "      bs=x.size(0)\n",
        "      context_out, enc_out, _ = cpc_model(x.to(device),y.to(device))\n",
        "    \n",
        "      scores = phone_classifier(context_out)\n",
        "      scores = scores.permute(1,0,2)\n",
        "      scores = F.log_softmax(scores,2)\n",
        "      yhat_len = torch.tensor([int(scores.shape[0]*x_len[i]/x_batch_len) for i in range(scores.shape[1])]) # this is an approximation, should be good enough\n",
        "\n",
        "      loss = loss_criterion(scores,y.to(device),yhat_len,y_len)\n",
        "      avg_loss+=loss.item()*bs\n",
        "      n_items+=bs\n",
        "  avg_loss/=n_items\n",
        "\n",
        "  return avg_loss\n",
        "\n",
        "def run_ctc(cpc_model,phone_classifier,loss_criterion,data_loader_train,data_loader_val,optimizer,n_epoch):\n",
        "  for epoch in range(n_epoch):\n",
        "\n",
        "    print(f\"Running epoch {epoch + 1} / {n_epoch}\")\n",
        "    loss_train = train_one_epoch_ctc(cpc_model, phone_classifier, loss_criterion, data_loader_train, optimizer)\n",
        "    print(\"-------------------\")\n",
        "    print(f\"Training dataset :\")\n",
        "    print(f\"Average loss : {loss_train}.\")\n",
        "\n",
        "    print(\"-------------------\")\n",
        "    print(\"Validation dataset\")\n",
        "    loss_val = validation_step(cpc_model, phone_classifier, loss_criterion, data_loader_val)\n",
        "    print(f\"Average loss : {loss_val}\")\n",
        "    print(\"-------------------\")\n",
        "    print()"
      ],
      "execution_count": null,
      "outputs": []
    },
    {
      "cell_type": "code",
      "metadata": {
        "colab_type": "code",
        "id": "GSr7tcUdD72c",
        "colab": {
          "base_uri": "https://localhost:8080/",
          "height": 486
        },
        "outputId": "3856e34c-9571-4862-8d30-051c3802f7ab"
      },
      "source": [
        "run_ctc(cpc_model,phone_classifier,loss_ctc,data_loader_train,data_loader_val,optimizer_frozen,n_epoch=3)"
      ],
      "execution_count": null,
      "outputs": [
        {
          "output_type": "stream",
          "text": [
            "Running epoch 1 / 3\n",
            "-------------------\n",
            "Training dataset :\n",
            "Average loss : 38.012408834108165.\n",
            "-------------------\n",
            "Validation dataset\n",
            "Average loss : 33.95545388740923\n",
            "-------------------\n",
            "\n",
            "Running epoch 2 / 3\n",
            "-------------------\n",
            "Training dataset :\n",
            "Average loss : 23.42280399775361.\n",
            "-------------------\n",
            "Validation dataset\n",
            "Average loss : 20.3444854706871\n",
            "-------------------\n",
            "\n",
            "Running epoch 3 / 3\n",
            "-------------------\n",
            "Training dataset :\n",
            "Average loss : 14.551774712875336.\n",
            "-------------------\n",
            "Validation dataset\n",
            "Average loss : 13.601076534816197\n",
            "-------------------\n",
            "\n"
          ],
          "name": "stdout"
        }
      ]
    },
    {
      "cell_type": "markdown",
      "metadata": {
        "colab_type": "text",
        "id": "TKrYW4gK1BBF"
      },
      "source": [
        "### b- Evaluation: the Phone Error Rate (PER)\n",
        "\n",
        "In order to compute the similarity between two sequences, we can use the [Levenshtein distance](https://en.wikipedia.org/wiki/Levenshtein_distance). This distance estimates the minimum number of insertion, deletion and addition to move from one sequence to another. If we normalize this distance by the number of characters in the reference sequence we get the Phone Error Rate (PER).\n",
        "\n",
        "This value can be interpreted as :\n",
        "\\\\[  PER = \\frac{S + D + I}{N} \\\\]\n",
        "\n",
        "Where:\n",
        "\n",
        "\n",
        "*   N is the number of characters in the reference\n",
        "*   S is the number of substitutiion\n",
        "*   I in the number of insertion\n",
        "*   D in the number of deletion\n",
        "\n",
        "For the best possible alignment of the two sequences.\n",
        "\n"
      ]
    },
    {
      "cell_type": "code",
      "metadata": {
        "colab_type": "code",
        "id": "RoBhsx7GNqI_",
        "colab": {}
      },
      "source": [
        "import numpy as np\n",
        "\n",
        "def get_PER_sequence(ref_seq, target_seq):\n",
        "\n",
        "  # re = g.split()\n",
        "  # h = h.split()\n",
        "  n = len(ref_seq)\n",
        "  m = len(target_seq)\n",
        "\n",
        "  D = np.zeros((n+1,m+1))\n",
        "  for i in range(1,n+1):\n",
        "    D[i,0] = D[i-1,0]+1\n",
        "  for j in range(1,m+1):\n",
        "    D[0,j] = D[0,j-1]+1\n",
        "  \n",
        "  ### TODO compute the alignment\n",
        "\n",
        "  for i in range(1,n+1):\n",
        "    for j in range(1,m+1):\n",
        "      D[i,j] = min(\n",
        "          D[i-1,j]+1,\n",
        "          D[i-1,j-1]+1,\n",
        "          D[i,j-1]+1,\n",
        "          D[i-1,j-1]+ 0 if ref_seq[i-1]==target_seq[j-1] else float(\"inf\")\n",
        "      )\n",
        "  return D[n,m]/len(ref_seq)"
      ],
      "execution_count": 44,
      "outputs": []
    },
    {
      "cell_type": "markdown",
      "metadata": {
        "colab_type": "text",
        "id": "r-hr0KK0mgcR"
      },
      "source": [
        "You can test your function below:"
      ]
    },
    {
      "cell_type": "code",
      "metadata": {
        "colab_type": "code",
        "id": "AfTb3yOQmvey",
        "colab": {
          "base_uri": "https://localhost:8080/",
          "height": 34
        },
        "outputId": "e355d8b8-54c8-40e9-d1bc-88fbf28330ad"
      },
      "source": [
        "ref_seq = [0, 1, 1, 2, 0, 2, 2]\n",
        "pred_seq = [1, 1, 2, 2, 0, 0]\n",
        "\n",
        "expected_PER = 4. / 7.\n",
        "print(get_PER_sequence(ref_seq, pred_seq) == expected_PER)"
      ],
      "execution_count": 45,
      "outputs": [
        {
          "output_type": "stream",
          "text": [
            "True\n"
          ],
          "name": "stdout"
        }
      ]
    },
    {
      "cell_type": "markdown",
      "metadata": {
        "colab_type": "text",
        "id": "nHiyChl-m_k7"
      },
      "source": [
        "## c- Evaluating the PER of your model on the test dataset\n",
        "\n",
        "Evaluate the PER on the validation dataset. Please notice that you should usually use a separate dataset, called the dev dataset, to perform this operation. However for the sake of simplicity we will work with validation data in this exercise."
      ]
    },
    {
      "cell_type": "code",
      "metadata": {
        "colab_type": "code",
        "id": "DMkX0PoFnclg",
        "colab": {}
      },
      "source": [
        "import progressbar\n",
        "from multiprocessing import Pool\n",
        "\n",
        "def cut_data(seq, sizeSeq):\n",
        "    maxSeq = sizeSeq.max()\n",
        "    return seq[:, :maxSeq]\n",
        "\n",
        "\n",
        "def prepare_data(data):\n",
        "    seq, sizeSeq, phone, sizePhone = data\n",
        "    seq = seq.cuda()\n",
        "    phone = phone.cuda()\n",
        "    sizeSeq = sizeSeq.cuda().view(-1)\n",
        "    sizePhone = sizePhone.cuda().view(-1)\n",
        "\n",
        "    seq = cut_data(seq.permute(0, 2, 1), sizeSeq).permute(0, 2, 1)\n",
        "    return seq, sizeSeq, phone, sizePhone\n",
        "\n",
        "\n",
        "def get_per(test_dataloader,cpc_model,phone_classifier):\n",
        "\n",
        "  downsampling_factor = 160\n",
        "  cpc_model.eval()\n",
        "  phone_classifier.eval()\n",
        "\n",
        "  avgPER = 0\n",
        "  nItems = 0 \n",
        "\n",
        "  print(\"Starting the PER computation through beam search\")\n",
        "  bar = progressbar.ProgressBar(maxval=len(test_dataloader))\n",
        "  bar.start()\n",
        "\n",
        "  for index, data in enumerate(test_dataloader):\n",
        "\n",
        "    bar.update(index)\n",
        "\n",
        "    with torch.no_grad():\n",
        "      \n",
        "        seq, sizeSeq, phone, sizePhone = prepare_data(data)\n",
        "        c_feature, _, _ = cpc_model(seq.to(device),phone.to(device))\n",
        "        sizeSeq = sizeSeq / downsampling_factor\n",
        "        predictions = torch.nn.functional.softmax(\n",
        "        phone_classifier(c_feature), dim=2).cpu()\n",
        "        phone = phone.cpu()\n",
        "        sizeSeq = sizeSeq.cpu()\n",
        "        sizePhone = sizePhone.cpu()\n",
        "\n",
        "        bs = c_feature.size(0)\n",
        "        data_per = [(predictions[b].argmax(1),  phone[b]) for b in range(bs)]\n",
        "        # data_per = [(predictions[b], sizeSeq[b], phone[b], sizePhone[b],\n",
        "        #               \"criterion.module.BLANK_LABEL\") for b in range(bs)]\n",
        "\n",
        "        with Pool(bs) as p:\n",
        "            poolData = p.starmap(get_PER_sequence, data_per)\n",
        "        avgPER += sum([x for x in poolData])\n",
        "        nItems += len(poolData)\n",
        "\n",
        "  bar.finish()\n",
        "\n",
        "  avgPER /= nItems\n",
        "\n",
        "  print(f\"Average CER {avgPER}\")\n",
        "  return avgPER"
      ],
      "execution_count": 46,
      "outputs": []
    },
    {
      "cell_type": "code",
      "metadata": {
        "colab_type": "code",
        "id": "2hvnudh4Osb4",
        "colab": {
          "base_uri": "https://localhost:8080/",
          "height": 86
        },
        "outputId": "1bcd76d1-6d01-4b3b-88e8-66c6c14ccd45"
      },
      "source": [
        "#Evaluate the PER on the validation set\n",
        "get_per(data_loader_val,cpc_model,phone_classifier)"
      ],
      "execution_count": null,
      "outputs": [
        {
          "output_type": "stream",
          "text": [
            "\r                                                                               \r\rN/A% (0 of 33) |                         | Elapsed Time: 0:00:00 ETA:  --:--:--"
          ],
          "name": "stderr"
        },
        {
          "output_type": "stream",
          "text": [
            "Starting the PER computation through beam search\n"
          ],
          "name": "stdout"
        },
        {
          "output_type": "stream",
          "text": [
            "100% (33 of 33) |########################| Elapsed Time: 0:06:01 Time:  0:06:01\n"
          ],
          "name": "stderr"
        },
        {
          "output_type": "stream",
          "text": [
            "Average PER 0.9095963468838361\n"
          ],
          "name": "stdout"
        },
        {
          "output_type": "execute_result",
          "data": {
            "text/plain": [
              "0.9095963468838361"
            ]
          },
          "metadata": {
            "tags": []
          },
          "execution_count": 48
        }
      ]
    },
    {
      "cell_type": "code",
      "metadata": {
        "id": "jBLabOIUq49t",
        "colab_type": "code",
        "colab": {
          "base_uri": "https://localhost:8080/",
          "height": 86
        },
        "outputId": "5135fdd3-decd-442a-faf4-d4a456396b93"
      },
      "source": [
        "# Evalute the PER of the model on Test data\n",
        "get_per(data_loader_test,cpc_model,phone_classifier)"
      ],
      "execution_count": null,
      "outputs": [
        {
          "output_type": "stream",
          "text": [
            "\r                                                                               \r\rN/A% (0 of 148) |                        | Elapsed Time: 0:00:00 ETA:  --:--:--"
          ],
          "name": "stderr"
        },
        {
          "output_type": "stream",
          "text": [
            "Starting the PER computation through beam search\n"
          ],
          "name": "stdout"
        },
        {
          "output_type": "stream",
          "text": [
            "100% (148 of 148) |######################| Elapsed Time: 0:36:45 Time:  0:36:45\n"
          ],
          "name": "stderr"
        },
        {
          "output_type": "stream",
          "text": [
            "Average PER 0.90584703307881\n"
          ],
          "name": "stdout"
        },
        {
          "output_type": "execute_result",
          "data": {
            "text/plain": [
              "0.90584703307881"
            ]
          },
          "metadata": {
            "tags": []
          },
          "execution_count": 49
        }
      ]
    },
    {
      "cell_type": "markdown",
      "metadata": {
        "colab_type": "text",
        "id": "p8e9D7g8159k"
      },
      "source": [
        "## Exercice 3 : Character error rate (CER) \n",
        "\n",
        "The Character Error Rate (CER) is an evaluation metric similar to the PER but with characters insterad of phonemes. Using the following data, run the functions you defined previously to estimate the CER of your model after fine-tuning."
      ]
    },
    {
      "cell_type": "code",
      "metadata": {
        "colab_type": "code",
        "id": "cXONmKQOuFSn",
        "colab": {
          "base_uri": "https://localhost:8080/",
          "height": 399
        },
        "outputId": "14ba06ac-b5c3-43b2-de08-d8f9de3c01b9"
      },
      "source": [
        "# Load a dataset labelled with the letters of each sequence.\n",
        "%cd /content/CPC_audio\n",
        "from cpc.eval.common_voices_eval import SingleSequenceDataset, parseSeqLabels, findAllSeqs\n",
        "path_train_data_cer = '/content/gdrive/My Drive/ALL_DATA/TRAIN'\n",
        "path_val_data_cer = '/content/gdrive/My Drive/ALL_DATA/VALIDATION'\n",
        "path_test_data_cer = '/content/gdrive/My Drive/ALL_DATA/TEST'\n",
        "path_letter_data_cer = '/content/gdrive/My Drive/ALL_DATA/all_sessions.txt'\n",
        "BATCH_SIZE=8\n",
        "\n",
        "letters_labels, N_LETTERS = parseSeqLabels(path_letter_data_cer)\n",
        "data_train_cer, _ = findAllSeqs(path_train_data_cer, extension='.wav')\n",
        "dataset_train_non_aligned = SingleSequenceDataset(path_train_data_cer, data_train_cer, letters_labels)\n",
        "\n",
        "data_val_cer, _ = findAllSeqs(path_val_data_cer, extension='.wav')\n",
        "dataset_val_non_aligned = SingleSequenceDataset(path_val_data_cer, data_val_cer, letters_labels)\n",
        "\n",
        "data_test_cer, _ = findAllSeqs(path_test_data_cer, extension='.wav')\n",
        "dataset_test_non_aligned = SingleSequenceDataset(path_test_data_cer,data_test_cer,letters_labels)\n",
        "\n",
        "# The data loader will generate a tuple of tensors data, labels for each batch\n",
        "# data : size N x T1 x 1 : the audio sequence\n",
        "# label : size N x T2 the sequence of letters corresponding to the audio data\n",
        "# IMPORTANT NOTE: just like the PER the CER is computed with non-aligned phone data.\n",
        "\n",
        "data_loader_train_letters = torch.utils.data.DataLoader(dataset_train_non_aligned, batch_size=BATCH_SIZE,shuffle=True)\n",
        "data_loader_val_letters = torch.utils.data.DataLoader(dataset_val_non_aligned, batch_size=BATCH_SIZE,shuffle=True)\n",
        "data_loader_test_letters = torch.utils.data.DataLoader(dataset_test_non_aligned,batch_size=BATCH_SIZE,shuffle=True)"
      ],
      "execution_count": null,
      "outputs": [
        {
          "output_type": "stream",
          "text": [
            "12it [00:00, 361.91it/s]"
          ],
          "name": "stderr"
        },
        {
          "output_type": "stream",
          "text": [
            "/content/CPC_audio\n",
            "Saved cache file at /content/gdrive/My Drive/ALL_DATA/TRAIN/_seqs_cache.txt\n"
          ],
          "name": "stdout"
        },
        {
          "output_type": "stream",
          "text": [
            "\n",
            "5it [00:00, 278.62it/s]"
          ],
          "name": "stderr"
        },
        {
          "output_type": "stream",
          "text": [
            "Loaded 995 sequences in 6.06 seconds\n",
            "maxSizeSeq : 254463\n",
            "maxSizePhone : 105\n",
            "minSizePhone : 8\n",
            "Total size dataset 1.6816167881944444 hours\n",
            "Saved cache file at /content/gdrive/My Drive/ALL_DATA/VALIDATION/_seqs_cache.txt\n"
          ],
          "name": "stdout"
        },
        {
          "output_type": "stream",
          "text": [
            "\n",
            "18it [00:00, 341.81it/s]"
          ],
          "name": "stderr"
        },
        {
          "output_type": "stream",
          "text": [
            "Loaded 260 sequences in 3.59 seconds\n",
            "maxSizeSeq : 221067\n",
            "maxSizePhone : 104\n",
            "minSizePhone : 6\n",
            "Total size dataset 0.3762847916666667 hours\n",
            "Saved cache file at /content/gdrive/My Drive/ALL_DATA/TEST/_seqs_cache.txt\n"
          ],
          "name": "stdout"
        },
        {
          "output_type": "stream",
          "text": [
            "\n"
          ],
          "name": "stderr"
        },
        {
          "output_type": "stream",
          "text": [
            "Loaded 1184 sequences in 7.26 seconds\n",
            "maxSizeSeq : 255915\n",
            "maxSizePhone : 127\n",
            "minSizePhone : 3\n",
            "Total size dataset 2.0632075520833335 hours\n"
          ],
          "name": "stdout"
        }
      ]
    },
    {
      "cell_type": "code",
      "metadata": {
        "colab_type": "code",
        "id": "9h07zI2LjzAU",
        "colab": {
          "base_uri": "https://localhost:8080/",
          "height": 52
        },
        "outputId": "cdc47008-5cbd-4327-8a52-bca8179ec807"
      },
      "source": [
        "from cpc.feature_loader import loadModel\n",
        "\n",
        "checkpoint_path = 'checkpoint_data/checkpoint_30.pt'\n",
        "cpc_model, HIDDEN_CONTEXT_MODEL, HIDDEN_ENCODER_MODEL = loadModel([checkpoint_path])\n",
        "cpc_model = cpc_model.cuda()\n",
        "character_classifier = PhoneClassifier(HIDDEN_CONTEXT_MODEL, N_LETTERS).to(device)"
      ],
      "execution_count": null,
      "outputs": [
        {
          "output_type": "stream",
          "text": [
            "Loading checkpoint checkpoint_data/checkpoint_30.pt\n",
            "Loading the state dict at checkpoint_data/checkpoint_30.pt\n"
          ],
          "name": "stdout"
        }
      ]
    },
    {
      "cell_type": "code",
      "metadata": {
        "colab_type": "code",
        "id": "rHCNg1E7lW1L",
        "colab": {}
      },
      "source": [
        "parameters = list(character_classifier.parameters()) + list(cpc_model.parameters())\n",
        "LEARNING_RATE = 1e-3\n",
        "optimizer = torch.optim.Adam(parameters, lr=LEARNING_RATE)\n",
        "\n",
        "optimizer_frozen = torch.optim.Adam(list(character_classifier.parameters()), lr=LEARNING_RATE)"
      ],
      "execution_count": null,
      "outputs": []
    },
    {
      "cell_type": "code",
      "metadata": {
        "colab_type": "code",
        "id": "engpkljbk9hj",
        "colab": {}
      },
      "source": [
        "loss_ctc = torch.nn.CTCLoss()"
      ],
      "execution_count": null,
      "outputs": []
    },
    {
      "cell_type": "code",
      "metadata": {
        "colab_type": "code",
        "id": "9NBHd2s2kxld",
        "colab": {
          "base_uri": "https://localhost:8080/",
          "height": 1000
        },
        "outputId": "2182c2d8-7dba-40a0-d5b6-101849abb188"
      },
      "source": [
        "run_ctc(cpc_model,character_classifier,loss_ctc,data_loader_train_letters,data_loader_val_letters,optimizer_frozen,n_epoch=50)"
      ],
      "execution_count": null,
      "outputs": [
        {
          "output_type": "stream",
          "text": [
            "Running epoch 1 / 50\n",
            "-------------------\n",
            "Training dataset :\n",
            "Average loss : 20.205970924385117.\n",
            "-------------------\n",
            "Validation dataset\n",
            "Average loss : 8.4941690253475\n",
            "-------------------\n",
            "\n",
            "Running epoch 2 / 50\n",
            "-------------------\n",
            "Training dataset :\n",
            "Average loss : 5.955847326658621.\n",
            "-------------------\n",
            "Validation dataset\n",
            "Average loss : 6.424532709894954\n",
            "-------------------\n",
            "\n",
            "Running epoch 3 / 50\n",
            "-------------------\n",
            "Training dataset :\n",
            "Average loss : 4.935926542915329.\n",
            "-------------------\n",
            "Validation dataset\n",
            "Average loss : 5.976319502679537\n",
            "-------------------\n",
            "\n",
            "Running epoch 4 / 50\n",
            "-------------------\n",
            "Training dataset :\n",
            "Average loss : 4.685437134334019.\n",
            "-------------------\n",
            "Validation dataset\n",
            "Average loss : 5.83355476129009\n",
            "-------------------\n",
            "\n",
            "Running epoch 5 / 50\n",
            "-------------------\n",
            "Training dataset :\n",
            "Average loss : 4.567422195219658.\n",
            "-------------------\n",
            "Validation dataset\n",
            "Average loss : 5.746469786728671\n",
            "-------------------\n",
            "\n",
            "Running epoch 6 / 50\n",
            "-------------------\n",
            "Training dataset :\n",
            "Average loss : 4.509666770996462.\n",
            "-------------------\n",
            "Validation dataset\n",
            "Average loss : 5.681530871446529\n",
            "-------------------\n",
            "\n",
            "Running epoch 7 / 50\n",
            "-------------------\n",
            "Training dataset :\n",
            "Average loss : 4.463033053956521.\n",
            "-------------------\n",
            "Validation dataset\n",
            "Average loss : 5.635365939048266\n",
            "-------------------\n",
            "\n",
            "Running epoch 8 / 50\n",
            "-------------------\n",
            "Training dataset :\n",
            "Average loss : 4.4266873413408305.\n",
            "-------------------\n",
            "Validation dataset\n",
            "Average loss : 5.597612550359895\n",
            "-------------------\n",
            "\n",
            "Running epoch 9 / 50\n",
            "-------------------\n",
            "Training dataset :\n",
            "Average loss : 4.401727604434284.\n",
            "-------------------\n",
            "Validation dataset\n",
            "Average loss : 5.480891616187961\n",
            "-------------------\n",
            "\n",
            "Running epoch 10 / 50\n",
            "-------------------\n",
            "Training dataset :\n",
            "Average loss : 4.376423436631139.\n",
            "-------------------\n",
            "Validation dataset\n",
            "Average loss : 5.504025764907189\n",
            "-------------------\n",
            "\n",
            "Running epoch 11 / 50\n",
            "-------------------\n",
            "Training dataset :\n",
            "Average loss : 4.360815265049157.\n",
            "-------------------\n",
            "Validation dataset\n",
            "Average loss : 5.513372936764279\n",
            "-------------------\n",
            "\n",
            "Running epoch 12 / 50\n",
            "-------------------\n",
            "Training dataset :\n",
            "Average loss : 4.341947970016141.\n",
            "-------------------\n",
            "Validation dataset\n",
            "Average loss : 5.54631485441937\n",
            "-------------------\n",
            "\n",
            "Running epoch 13 / 50\n",
            "-------------------\n",
            "Training dataset :\n",
            "Average loss : 4.325497987044889.\n",
            "-------------------\n",
            "Validation dataset\n",
            "Average loss : 5.447237272520323\n",
            "-------------------\n",
            "\n",
            "Running epoch 14 / 50\n",
            "-------------------\n",
            "Training dataset :\n",
            "Average loss : 4.315675628976803.\n",
            "-------------------\n",
            "Validation dataset\n",
            "Average loss : 5.4404944581875005\n",
            "-------------------\n",
            "\n",
            "Running epoch 15 / 50\n",
            "-------------------\n",
            "Training dataset :\n",
            "Average loss : 4.301594545184007.\n",
            "-------------------\n",
            "Validation dataset\n",
            "Average loss : 5.431220405350321\n",
            "-------------------\n",
            "\n",
            "Running epoch 16 / 50\n",
            "-------------------\n",
            "Training dataset :\n",
            "Average loss : 4.291911337217335.\n",
            "-------------------\n",
            "Validation dataset\n",
            "Average loss : 5.4927278945805025\n",
            "-------------------\n",
            "\n",
            "Running epoch 17 / 50\n",
            "-------------------\n",
            "Training dataset :\n",
            "Average loss : 4.286376704632397.\n",
            "-------------------\n",
            "Validation dataset\n",
            "Average loss : 5.492490365238264\n",
            "-------------------\n",
            "\n",
            "Running epoch 18 / 50\n",
            "-------------------\n",
            "Training dataset :\n",
            "Average loss : 4.28091695083219.\n",
            "-------------------\n",
            "Validation dataset\n",
            "Average loss : 5.466522194704034\n",
            "-------------------\n",
            "\n",
            "Running epoch 19 / 50\n",
            "-------------------\n",
            "Training dataset :\n",
            "Average loss : 4.277095769252815.\n",
            "-------------------\n",
            "Validation dataset\n",
            "Average loss : 5.469924282383275\n",
            "-------------------\n",
            "\n",
            "Running epoch 20 / 50\n",
            "-------------------\n",
            "Training dataset :\n",
            "Average loss : 4.253010039838027.\n",
            "-------------------\n",
            "Validation dataset\n",
            "Average loss : 5.478736393239967\n",
            "-------------------\n",
            "\n",
            "Running epoch 21 / 50\n",
            "-------------------\n",
            "Training dataset :\n",
            "Average loss : 4.2497894778338.\n",
            "-------------------\n",
            "Validation dataset\n",
            "Average loss : 5.442434703061019\n",
            "-------------------\n",
            "\n",
            "Running epoch 22 / 50\n",
            "-------------------\n",
            "Training dataset :\n",
            "Average loss : 4.242493214501701.\n",
            "-------------------\n",
            "Validation dataset\n",
            "Average loss : 5.446771903387829\n",
            "-------------------\n",
            "\n",
            "Running epoch 23 / 50\n",
            "-------------------\n",
            "Training dataset :\n",
            "Average loss : 4.230915851516263.\n",
            "-------------------\n",
            "Validation dataset\n",
            "Average loss : 5.409223197509884\n",
            "-------------------\n",
            "\n",
            "Running epoch 24 / 50\n",
            "-------------------\n",
            "Training dataset :\n",
            "Average loss : 4.229591826797731.\n",
            "-------------------\n",
            "Validation dataset\n",
            "Average loss : 5.444103692028974\n",
            "-------------------\n",
            "\n",
            "Running epoch 25 / 50\n",
            "-------------------\n",
            "Training dataset :\n",
            "Average loss : 4.2246136492646675.\n",
            "-------------------\n",
            "Validation dataset\n",
            "Average loss : 5.445277269282396\n",
            "-------------------\n",
            "\n",
            "Running epoch 26 / 50\n",
            "-------------------\n",
            "Training dataset :\n",
            "Average loss : 4.236415701852718.\n",
            "-------------------\n",
            "Validation dataset\n",
            "Average loss : 5.554255104433156\n",
            "-------------------\n",
            "\n",
            "Running epoch 27 / 50\n",
            "-------------------\n",
            "Training dataset :\n",
            "Average loss : 4.211892225852675.\n",
            "-------------------\n",
            "Validation dataset\n",
            "Average loss : 5.523232066953504\n",
            "-------------------\n",
            "\n",
            "Running epoch 28 / 50\n",
            "-------------------\n",
            "Training dataset :\n",
            "Average loss : 4.2241050012154835.\n",
            "-------------------\n",
            "Validation dataset\n",
            "Average loss : 5.457721443249913\n",
            "-------------------\n",
            "\n",
            "Running epoch 29 / 50\n",
            "-------------------\n",
            "Training dataset :\n",
            "Average loss : 4.208925621370435.\n",
            "-------------------\n",
            "Validation dataset\n",
            "Average loss : 5.461596831391677\n",
            "-------------------\n",
            "\n",
            "Running epoch 30 / 50\n",
            "-------------------\n",
            "Training dataset :\n",
            "Average loss : 4.207162869528266.\n",
            "-------------------\n",
            "Validation dataset\n",
            "Average loss : 5.390302680173896\n",
            "-------------------\n",
            "\n",
            "Running epoch 31 / 50\n",
            "-------------------\n",
            "Training dataset :\n",
            "Average loss : 4.1847050002882895.\n",
            "-------------------\n",
            "Validation dataset\n",
            "Average loss : 5.561139729032185\n",
            "-------------------\n",
            "\n",
            "Running epoch 32 / 50\n",
            "-------------------\n",
            "Training dataset :\n",
            "Average loss : 4.189412654285699.\n",
            "-------------------\n",
            "Validation dataset\n",
            "Average loss : 5.582869960534526\n",
            "-------------------\n",
            "\n",
            "Running epoch 33 / 50\n",
            "-------------------\n",
            "Training dataset :\n",
            "Average loss : 4.188627707406549.\n",
            "-------------------\n",
            "Validation dataset\n",
            "Average loss : 5.587664466106753\n",
            "-------------------\n",
            "\n",
            "Running epoch 34 / 50\n",
            "-------------------\n",
            "Training dataset :\n",
            "Average loss : 4.188901627807311.\n",
            "-------------------\n",
            "Validation dataset\n",
            "Average loss : 5.511202639134234\n",
            "-------------------\n",
            "\n",
            "Running epoch 35 / 50\n",
            "-------------------\n",
            "Training dataset :\n",
            "Average loss : 4.1866641318054505.\n",
            "-------------------\n",
            "Validation dataset\n",
            "Average loss : 5.569702229444585\n",
            "-------------------\n",
            "\n",
            "Running epoch 36 / 50\n",
            "-------------------\n",
            "Training dataset :\n",
            "Average loss : 4.178530487735986.\n",
            "-------------------\n",
            "Validation dataset\n",
            "Average loss : 5.472751409390718\n",
            "-------------------\n",
            "\n",
            "Running epoch 37 / 50\n",
            "-------------------\n",
            "Training dataset :\n",
            "Average loss : 4.166314644113153.\n",
            "-------------------\n",
            "Validation dataset\n",
            "Average loss : 5.375375476122823\n",
            "-------------------\n",
            "\n",
            "Running epoch 38 / 50\n",
            "-------------------\n",
            "Training dataset :\n",
            "Average loss : 4.182712796708228.\n",
            "-------------------\n",
            "Validation dataset\n",
            "Average loss : 5.395495006016323\n",
            "-------------------\n",
            "\n",
            "Running epoch 39 / 50\n",
            "-------------------\n",
            "Training dataset :\n",
            "Average loss : 4.1783944116511815.\n",
            "-------------------\n",
            "Validation dataset\n",
            "Average loss : 5.4648090126891855\n",
            "-------------------\n",
            "\n",
            "Running epoch 40 / 50\n",
            "-------------------\n",
            "Training dataset :\n",
            "Average loss : 4.159831687957948.\n",
            "-------------------\n",
            "Validation dataset\n",
            "Average loss : 5.5050828346414455\n",
            "-------------------\n",
            "\n",
            "Running epoch 41 / 50\n",
            "-------------------\n",
            "Training dataset :\n",
            "Average loss : 4.156818379338838.\n",
            "-------------------\n",
            "Validation dataset\n",
            "Average loss : 5.435354873480484\n",
            "-------------------\n",
            "\n",
            "Running epoch 42 / 50\n",
            "-------------------\n",
            "Training dataset :\n",
            "Average loss : 4.153340709041542.\n",
            "-------------------\n",
            "Validation dataset\n",
            "Average loss : 5.534200027642563\n",
            "-------------------\n",
            "\n",
            "Running epoch 43 / 50\n",
            "-------------------\n",
            "Training dataset :\n",
            "Average loss : 4.1494675546105.\n",
            "-------------------\n",
            "Validation dataset\n",
            "Average loss : 5.4352249712557406\n",
            "-------------------\n",
            "\n",
            "Running epoch 44 / 50\n",
            "-------------------\n",
            "Training dataset :\n",
            "Average loss : 4.1588063110528095.\n",
            "-------------------\n",
            "Validation dataset\n",
            "Average loss : 5.491357427766425\n",
            "-------------------\n",
            "\n",
            "Running epoch 45 / 50\n",
            "-------------------\n",
            "Training dataset :\n",
            "Average loss : 4.153128777471347.\n",
            "-------------------\n",
            "Validation dataset\n",
            "Average loss : 5.473074334928888\n",
            "-------------------\n",
            "\n",
            "Running epoch 46 / 50\n",
            "-------------------\n",
            "Training dataset :\n",
            "Average loss : 4.1469048192083715.\n",
            "-------------------\n",
            "Validation dataset\n",
            "Average loss : 5.515445319842188\n",
            "-------------------\n",
            "\n",
            "Running epoch 47 / 50\n",
            "-------------------\n",
            "Training dataset :\n",
            "Average loss : 4.136556563962634.\n",
            "-------------------\n",
            "Validation dataset\n",
            "Average loss : 5.504938353903045\n",
            "-------------------\n",
            "\n",
            "Running epoch 48 / 50\n",
            "-------------------\n",
            "Training dataset :\n",
            "Average loss : 4.132979480313583.\n",
            "-------------------\n",
            "Validation dataset\n",
            "Average loss : 5.523030614300584\n",
            "-------------------\n",
            "\n",
            "Running epoch 49 / 50\n",
            "-------------------\n",
            "Training dataset :\n",
            "Average loss : 4.129629391299887.\n",
            "-------------------\n",
            "Validation dataset\n",
            "Average loss : 5.473874454792862\n",
            "-------------------\n",
            "\n",
            "Running epoch 50 / 50\n",
            "-------------------\n",
            "Training dataset :\n",
            "Average loss : 4.126586853618353.\n",
            "-------------------\n",
            "Validation dataset\n",
            "Average loss : 5.4311201931426885\n",
            "-------------------\n",
            "\n"
          ],
          "name": "stdout"
        }
      ]
    },
    {
      "cell_type": "code",
      "metadata": {
        "colab_type": "code",
        "id": "A8oxFr1jm17P",
        "colab": {
          "base_uri": "https://localhost:8080/",
          "height": 86
        },
        "outputId": "0a771836-e5f1-4ec5-abe5-6a1030dfac3d"
      },
      "source": [
        "get_per(data_loader_val_letters,cpc_model,character_classifier)"
      ],
      "execution_count": null,
      "outputs": [
        {
          "output_type": "stream",
          "text": [
            "\r                                                                               \r\rN/A% (0 of 25) |                         | Elapsed Time: 0:00:00 ETA:  --:--:--"
          ],
          "name": "stderr"
        },
        {
          "output_type": "stream",
          "text": [
            "Starting the PER computation through beam search\n"
          ],
          "name": "stdout"
        },
        {
          "output_type": "stream",
          "text": [
            "100% (25 of 25) |########################| Elapsed Time: 0:01:43 Time:  0:01:43\n"
          ],
          "name": "stderr"
        },
        {
          "output_type": "stream",
          "text": [
            "Average PER 0.981427917927245\n"
          ],
          "name": "stdout"
        },
        {
          "output_type": "execute_result",
          "data": {
            "text/plain": [
              "0.981427917927245"
            ]
          },
          "metadata": {
            "tags": []
          },
          "execution_count": 53
        }
      ]
    },
    {
      "cell_type": "code",
      "metadata": {
        "id": "dbmfpeLOUvOm",
        "colab_type": "code",
        "colab": {
          "base_uri": "https://localhost:8080/",
          "height": 86
        },
        "outputId": "4b8feec6-6179-4687-918b-62e2c5616c74"
      },
      "source": [
        "\n",
        "get_per(data_loader_test_letters,cpc_model,character_classifier)"
      ],
      "execution_count": null,
      "outputs": [
        {
          "output_type": "stream",
          "text": [
            "\r                                                                               \r\rN/A% (0 of 148) |                        | Elapsed Time: 0:00:00 ETA:  --:--:--"
          ],
          "name": "stderr"
        },
        {
          "output_type": "stream",
          "text": [
            "Starting the PER computation through beam search\n"
          ],
          "name": "stdout"
        },
        {
          "output_type": "stream",
          "text": [
            "100% (148 of 148) |######################| Elapsed Time: 0:37:28 Time:  0:37:28\n"
          ],
          "name": "stderr"
        },
        {
          "output_type": "stream",
          "text": [
            "Average PER 0.9065449308623436\n"
          ],
          "name": "stdout"
        },
        {
          "output_type": "execute_result",
          "data": {
            "text/plain": [
              "0.9065449308623436"
            ]
          },
          "metadata": {
            "tags": []
          },
          "execution_count": 57
        }
      ]
    },
    {
      "cell_type": "code",
      "metadata": {
        "id": "hbx20uwOiOBY",
        "colab_type": "code",
        "colab": {}
      },
      "source": [
        ""
      ],
      "execution_count": null,
      "outputs": []
    }
  ]
}