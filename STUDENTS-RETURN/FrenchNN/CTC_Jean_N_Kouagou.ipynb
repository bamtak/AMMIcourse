{
  "nbformat": 4,
  "nbformat_minor": 0,
  "metadata": {
    "accelerator": "GPU",
    "colab": {
      "name": "CTC-Jean-N-Kouagou.ipynb",
      "provenance": [],
      "collapsed_sections": [],
      "toc_visible": true
    },
    "kernelspec": {
      "display_name": "Python 3",
      "language": "python",
      "name": "python3"
    },
    "language_info": {
      "codemirror_mode": {
        "name": "ipython",
        "version": 3
      },
      "file_extension": ".py",
      "mimetype": "text/x-python",
      "name": "python",
      "nbconvert_exporter": "python",
      "pygments_lexer": "ipython3",
      "version": "3.7.3"
    }
  },
  "cells": [
    {
      "cell_type": "code",
      "metadata": {
        "colab_type": "code",
        "id": "jzzuGAMna4NG",
        "colab": {}
      },
      "source": [
        "from pydrive.auth import GoogleAuth\n",
        "from pydrive.drive import GoogleDrive\n",
        "from google.colab import auth\n",
        "from oauth2client.client import GoogleCredentials\n",
        "auth.authenticate_user()\n",
        "gauth = GoogleAuth()\n",
        "gauth.credentials = GoogleCredentials.get_application_default()\n",
        "drive = GoogleDrive(gauth)"
      ],
      "execution_count": 1,
      "outputs": []
    },
    {
      "cell_type": "code",
      "metadata": {
        "colab_type": "code",
        "id": "ppRP3ZqP8vZP",
        "colab": {
          "base_uri": "https://localhost:8080/",
          "height": 507
        },
        "outputId": "f9c8fe4e-645d-41ab-e5af-f96652762a40"
      },
      "source": [
        "!pip install torchaudio\n",
        "!pip install PyDrive\n",
        "!pip install soundfile\n",
        "import torch\n",
        "import torchaudio"
      ],
      "execution_count": 2,
      "outputs": [
        {
          "output_type": "stream",
          "text": [
            "Collecting torchaudio\n",
            "\u001b[?25l  Downloading https://files.pythonhosted.org/packages/e9/0a/40e53c686c2af65b2a4e818d11d9b76fa79178440caf99f3ceb2a32c3b04/torchaudio-0.5.1-cp36-cp36m-manylinux1_x86_64.whl (3.2MB)\n",
            "\u001b[K     |████████████████████████████████| 3.2MB 2.7MB/s \n",
            "\u001b[?25hRequirement already satisfied: torch==1.5.1 in /usr/local/lib/python3.6/dist-packages (from torchaudio) (1.5.1+cu101)\n",
            "Requirement already satisfied: future in /usr/local/lib/python3.6/dist-packages (from torch==1.5.1->torchaudio) (0.16.0)\n",
            "Requirement already satisfied: numpy in /usr/local/lib/python3.6/dist-packages (from torch==1.5.1->torchaudio) (1.18.5)\n",
            "Installing collected packages: torchaudio\n",
            "Successfully installed torchaudio-0.5.1\n",
            "Requirement already satisfied: PyDrive in /usr/local/lib/python3.6/dist-packages (1.3.1)\n",
            "Requirement already satisfied: PyYAML>=3.0 in /usr/local/lib/python3.6/dist-packages (from PyDrive) (3.13)\n",
            "Requirement already satisfied: google-api-python-client>=1.2 in /usr/local/lib/python3.6/dist-packages (from PyDrive) (1.7.12)\n",
            "Requirement already satisfied: oauth2client>=4.0.0 in /usr/local/lib/python3.6/dist-packages (from PyDrive) (4.1.3)\n",
            "Requirement already satisfied: uritemplate<4dev,>=3.0.0 in /usr/local/lib/python3.6/dist-packages (from google-api-python-client>=1.2->PyDrive) (3.0.1)\n",
            "Requirement already satisfied: google-auth-httplib2>=0.0.3 in /usr/local/lib/python3.6/dist-packages (from google-api-python-client>=1.2->PyDrive) (0.0.3)\n",
            "Requirement already satisfied: six<2dev,>=1.6.1 in /usr/local/lib/python3.6/dist-packages (from google-api-python-client>=1.2->PyDrive) (1.12.0)\n",
            "Requirement already satisfied: httplib2<1dev,>=0.17.0 in /usr/local/lib/python3.6/dist-packages (from google-api-python-client>=1.2->PyDrive) (0.17.4)\n",
            "Requirement already satisfied: google-auth>=1.4.1 in /usr/local/lib/python3.6/dist-packages (from google-api-python-client>=1.2->PyDrive) (1.17.2)\n",
            "Requirement already satisfied: pyasn1>=0.1.7 in /usr/local/lib/python3.6/dist-packages (from oauth2client>=4.0.0->PyDrive) (0.4.8)\n",
            "Requirement already satisfied: pyasn1-modules>=0.0.5 in /usr/local/lib/python3.6/dist-packages (from oauth2client>=4.0.0->PyDrive) (0.2.8)\n",
            "Requirement already satisfied: rsa>=3.1.4 in /usr/local/lib/python3.6/dist-packages (from oauth2client>=4.0.0->PyDrive) (4.6)\n",
            "Requirement already satisfied: cachetools<5.0,>=2.0.0 in /usr/local/lib/python3.6/dist-packages (from google-auth>=1.4.1->google-api-python-client>=1.2->PyDrive) (4.1.0)\n",
            "Requirement already satisfied: setuptools>=40.3.0 in /usr/local/lib/python3.6/dist-packages (from google-auth>=1.4.1->google-api-python-client>=1.2->PyDrive) (47.3.1)\n",
            "Collecting soundfile\n",
            "  Downloading https://files.pythonhosted.org/packages/eb/f2/3cbbbf3b96fb9fa91582c438b574cff3f45b29c772f94c400e2c99ef5db9/SoundFile-0.10.3.post1-py2.py3-none-any.whl\n",
            "Requirement already satisfied: cffi>=1.0 in /usr/local/lib/python3.6/dist-packages (from soundfile) (1.14.0)\n",
            "Requirement already satisfied: pycparser in /usr/local/lib/python3.6/dist-packages (from cffi>=1.0->soundfile) (2.20)\n",
            "Installing collected packages: soundfile\n",
            "Successfully installed soundfile-0.10.3.post1\n"
          ],
          "name": "stdout"
        }
      ]
    },
    {
      "cell_type": "markdown",
      "metadata": {
        "colab_type": "text",
        "id": "YZ1Wywx3BNGS"
      },
      "source": [
        "# Part 1 : contrastive predictive coding\n",
        "\n",
        "Contrastive Predictive Coding (CPC) is a method of unsupervised training for speech models. The idea behind it is pretty simple:\n",
        "\n",
        "\n",
        "1.   The raw audio wave is passed through a convolutional network: the ```encoder```\n",
        "2.   Then, the encoder's output is given to a recurrent network the ```context```\n",
        "3. A third party network, the ```prediction_network``` will try to predict the  future embeddings of the encoder using the output of the context network.\n",
        "\n",
        "In order to avoid a collapse to trivial solutions, the prediction_network doesn't try to reconstruct the future features. Instead, using the context output $c_t$ at time $t$ it is trained to discriminate the real  encoder representatioin $g_{t+k}$ at time $t+k$ from several other features $(g_n)_n$ taken elsewhere in the batch. Thus the loss becomes:\n",
        "\n",
        "\\\\[ \\mathcal{L}_c = - \\frac{1}{K} \\sum_{k=1}^K \\text{Cross_entropy}(\\phi_k(c_t), g_{t+k}) \\\\]\n",
        "\n",
        "Or:\n",
        "\n",
        "\\\\[ \\mathcal{L}_c = - \\frac{1}{K} \\sum_{k=1}^K \\log \\frac{ \\exp\\left(\\phi_k(c_t)^\\top g_{t+k}\\right) }{  \\sum_{\\mathbf{n}\\in\\mathcal{N}_t} \\exp\\left(\\phi_k(c_t)^\\top g_n\\right)} \\\\]\n",
        "\n",
        "Where:\n",
        "\n",
        "\n",
        "*   $\\phi_k$ is the prediction network for the kth timestep\n",
        "*   $\\mathcal{N}_t$ is the set of all negative examples sampled for timestep $t$\n",
        "\n",
        "\n"
      ]
    },
    {
      "cell_type": "markdown",
      "metadata": {
        "colab_type": "text",
        "id": "frPFYXuPfNPs"
      },
      "source": [
        "## Exercice 1 : Building the model\n",
        "\n",
        "In this exercise, we will build and train a small CPC model using the repository CPC_audio.\n",
        "\n",
        "The code below loads a context and an encoder newtorks."
      ]
    },
    {
      "cell_type": "code",
      "metadata": {
        "colab_type": "code",
        "id": "8g-xPSdLRdui",
        "colab": {
          "base_uri": "https://localhost:8080/",
          "height": 134
        },
        "outputId": "fe0ef86e-52a8-4995-f0d5-44f8fe913511"
      },
      "source": [
        "!git clone https://github.com/facebookresearch/CPC_audio.git\n",
        "%cd /content/CPC_audio\n",
        "from cpc.model import CPCEncoder, CPCAR\n",
        "device = torch.device(\"cuda:0\" if torch.cuda.is_available() else \"cpu\")\n",
        "\n",
        "DIM_ENCODER=256\n",
        "DIM_CONTEXT=256\n",
        "KEEP_HIDDEN_VECTOR=False\n",
        "N_LEVELS_CONTEXT=1\n",
        "CONTEXT_RNN=\"LSTM\"\n",
        "N_PREDICTIONS=12\n",
        "LEARNING_RATE=2e-4\n",
        "N_NEGATIVE_SAMPLE =128"
      ],
      "execution_count": 3,
      "outputs": [
        {
          "output_type": "stream",
          "text": [
            "Cloning into 'CPC_audio'...\n",
            "remote: Enumerating objects: 84, done.\u001b[K\n",
            "remote: Counting objects: 100% (84/84), done.\u001b[K\n",
            "remote: Compressing objects: 100% (65/65), done.\u001b[K\n",
            "remote: Total 84 (delta 13), reused 75 (delta 6), pack-reused 0\u001b[K\n",
            "Unpacking objects: 100% (84/84), done.\n",
            "/content/CPC_audio\n"
          ],
          "name": "stdout"
        }
      ]
    },
    {
      "cell_type": "code",
      "metadata": {
        "colab_type": "code",
        "id": "7Wx8WkrQk9bQ",
        "colab": {}
      },
      "source": [
        "encoder = CPCEncoder(DIM_ENCODER).to(device)\n",
        "context = CPCAR(DIM_ENCODER, DIM_CONTEXT, KEEP_HIDDEN_VECTOR, 1, mode=CONTEXT_RNN).to(device)"
      ],
      "execution_count": 4,
      "outputs": []
    },
    {
      "cell_type": "code",
      "metadata": {
        "colab_type": "code",
        "id": "f9BrweAIla4J",
        "colab": {}
      },
      "source": [
        "# Several functions that will be necessary to load the data later\n",
        "from cpc.dataset import findAllSeqs, AudioBatchData, parseSeqLabels\n",
        "SIZE_WINDOW = 20480\n",
        "BATCH_SIZE=8\n",
        "def load_dataset(path_dataset, file_extension='.flac', phone_label_dict=None):\n",
        "  data_list, speakers = findAllSeqs(path_dataset, extension=file_extension)\n",
        "  dataset = AudioBatchData(path_dataset, SIZE_WINDOW, data_list, phone_label_dict, len(speakers))\n",
        "  return dataset"
      ],
      "execution_count": 5,
      "outputs": []
    },
    {
      "cell_type": "markdown",
      "metadata": {
        "colab_type": "text",
        "id": "58pQ7ysXk9ZO"
      },
      "source": [
        "Now build a new class, ```CPCModel``` which will"
      ]
    },
    {
      "cell_type": "code",
      "metadata": {
        "colab_type": "code",
        "id": "rR5IYRTpRF8T",
        "colab": {}
      },
      "source": [
        "class CPCModel(torch.nn.Module):\n",
        "\n",
        "    def __init__(self,\n",
        "                 encoder,\n",
        "                 AR):\n",
        "\n",
        "        super(CPCModel, self).__init__()\n",
        "        self.gEncoder = encoder\n",
        "        self.gAR = AR\n",
        "\n",
        "    def forward(self, batch_data):\n",
        "        \n",
        "\n",
        "        encoder_output = self.gEncoder(batch_data)\n",
        "        #print(encoder_output.shape)\n",
        "        # The output of the encoder data does not have the good format \n",
        "        # indeed it is Batch_size x Hidden_size x temp size\n",
        "        # while the context requires Batch_size  x temp size x Hidden_size\n",
        "        # thus you need to permute\n",
        "        context_input = encoder_output.permute(0, 2, 1)\n",
        "\n",
        "        context_output = self.gAR(context_input)\n",
        "        #print(context_output.shape)\n",
        "        return context_output, encoder_output"
      ],
      "execution_count": 6,
      "outputs": []
    },
    {
      "cell_type": "code",
      "metadata": {
        "id": "dpyOrflcSSvM",
        "colab_type": "code",
        "colab": {
          "base_uri": "https://localhost:8080/",
          "height": 134
        },
        "outputId": "a910930d-2bac-4333-8cbe-b07c40f4b183"
      },
      "source": [
        "%cd /content\n",
        "!git clone https://github.com/Jean-KOUAGOU/Lig-Aikuma-Data-Collection.git"
      ],
      "execution_count": 8,
      "outputs": [
        {
          "output_type": "stream",
          "text": [
            "/content\n",
            "Cloning into 'Lig-Aikuma-Data-Collection'...\n",
            "remote: Enumerating objects: 903, done.\u001b[K\n",
            "remote: Total 903 (delta 0), reused 0 (delta 0), pack-reused 903\u001b[K\n",
            "Receiving objects: 100% (903/903), 98.95 MiB | 11.12 MiB/s, done.\n",
            "Resolving deltas: 100% (448/448), done.\n",
            "Checking out files: 100% (1317/1317), done.\n"
          ],
          "name": "stdout"
        }
      ]
    },
    {
      "cell_type": "markdown",
      "metadata": {
        "colab_type": "text",
        "id": "XUJgm6Rl4vS4"
      },
      "source": [
        "Let's test your code !\n"
      ]
    },
    {
      "cell_type": "code",
      "metadata": {
        "colab_type": "code",
        "id": "D1x1n4mv4y03",
        "colab": {
          "base_uri": "https://localhost:8080/",
          "height": 34
        },
        "outputId": "b8433e56-a523-4457-bd77-de44c8eb83ce"
      },
      "source": [
        "%cd /content\n",
        "audio = torchaudio.load(\"/content/Lig-Aikuma-Data-Collection/data/records/train/200625-151026_fra_1de_elicit_0.wav\")[0]\n",
        "audio = audio.view(1, 1, -1)\n",
        "cpc_model = CPCModel(encoder, context).to(device)\n",
        "context_output, encoder_output = cpc_model(audio.to(device))"
      ],
      "execution_count": 9,
      "outputs": [
        {
          "output_type": "stream",
          "text": [
            "/content\n"
          ],
          "name": "stdout"
        }
      ]
    },
    {
      "cell_type": "code",
      "metadata": {
        "id": "A-OB7Fg6XANy",
        "colab_type": "code",
        "colab": {}
      },
      "source": [
        ""
      ],
      "execution_count": null,
      "outputs": []
    },
    {
      "cell_type": "markdown",
      "metadata": {
        "colab_type": "text",
        "id": "X27ce8Hy3C2p"
      },
      "source": [
        "## Exercise 2 : CPC loss\n",
        "\n",
        "We will define a class ```CPCCriterion``` which will hold the prediction networks $\\phi_k$ defined above and perform the classification loss $\\mathcal{L}_c$.\n",
        "\n",
        "a) In this exercise, the $\\phi_k$ will be a linear transform, ie:\n",
        "\n",
        "\\\\[ \\phi_k(c_t) = \\mathbf{A}_k c_t\\\\]\n",
        "\n",
        "Using the class [torch.nn.Linear](https://pytorch.org/docs/stable/nn.html#torch.nn.Linear), define the transformations $\\phi_k$ in the code below and complete the function ```get_prediction_k``` which computes $\\phi_k(c_t)$ for a given batch of vectors $c_t$.\n",
        "\n",
        "b) Using both ```get_prediction_k```  and ```sample_negatives``` defined below, write the forward function which will take as input two batches of features $c_t$ and $g_t$ and outputs the classification loss $\\mathcal{L}_c$ and the average acuracy for all predictions. "
      ]
    },
    {
      "cell_type": "code",
      "metadata": {
        "colab_type": "code",
        "id": "UlAs-z1fBc3W",
        "colab": {}
      },
      "source": [
        "# Exercice 2: write the CPC loss\n",
        "# a) Write the negative sampling (with some help)\n",
        "# ERRATUM: it's really hard, the sampling will be provided\n",
        "\n",
        "class CPCCriterion(torch.nn.Module):\n",
        "\n",
        "  def __init__(self,\n",
        "               K,\n",
        "               dim_context,\n",
        "               dim_encoder,\n",
        "               n_negative):\n",
        "    super(CPCCriterion, self).__init__()\n",
        "    self.K_ = K\n",
        "    self.dim_context = dim_context\n",
        "    self.dim_encoder = dim_encoder\n",
        "    self.n_negative = n_negative\n",
        "\n",
        "    self.predictors = torch.nn.ModuleList() \n",
        "    for k in range(self.K_):\n",
        "      # TO COMPLETE !\n",
        "      \n",
        "      # A affine transformation in pytorch is equivalent to a nn.Linear layer\n",
        "      # To get a linear transformation you must set bias=False\n",
        "      # input dimension of the layer = dimension of the encoder\n",
        "      # output dimension of the layer = dimension of the context\n",
        "      self.predictors.append(torch.nn.Linear(dim_context, dim_encoder, bias=False))\n",
        "\n",
        "  def get_prediction_k(self, context_data):\n",
        "\n",
        "    #TO COMPLETE !\n",
        "    output = [] \n",
        "    # For each time step k\n",
        "    for k in range(self.K_):\n",
        "\n",
        "      # We need to compute phi_k = A_k * c_t\n",
        "      phi_k = self.predictors[k](context_data)\n",
        "      output.append(phi_k)\n",
        "\n",
        "    return output\n",
        "\n",
        "\n",
        "  def sample_negatives(self, encoded_data):\n",
        "    r\"\"\"\n",
        "    Sample some negative examples in the given encoded data.\n",
        "    Input:\n",
        "    - encoded_data size: B x T x H\n",
        "    Returns\n",
        "    - outputs of size B x (n_negative + 1) x (T - K_) x H\n",
        "      outputs[:, 0, :, :] contains the positive example\n",
        "      outputs[:, 1:, :, :] contains negative example sampled in the batch\n",
        "    - labels, long tensor of size B x (T - K_)\n",
        "      Since the positive example is always at coordinates 0 for all sequences \n",
        "      in the batch and all timestep in the sequence, labels is just a tensor\n",
        "      full of zeros !\n",
        "    \"\"\"\n",
        "    batch_size, time_size, dim_encoded = encoded_data.size()\n",
        "    window_size = time_size - self.K_\n",
        "    outputs = []\n",
        "\n",
        "    neg_ext = encoded_data.contiguous().view(-1, dim_encoded)\n",
        "    n_elem_sampled = self.n_negative * window_size * batch_size\n",
        "    # Draw nNegativeExt * batchSize negative samples anywhere in the batch\n",
        "    batch_idx = torch.randint(low=0, high=batch_size,\n",
        "                              size=(n_elem_sampled, ),\n",
        "                              device=encoded_data.device)\n",
        "\n",
        "    seq_idx = torch.randint(low=1, high=time_size,\n",
        "                            size=(n_elem_sampled, ),\n",
        "                            device=encoded_data.device)\n",
        "\n",
        "    base_idx = torch.arange(0, window_size, device=encoded_data.device)\n",
        "    base_idx = base_idx.view(1, 1, window_size)\n",
        "    base_idx = base_idx.expand(1, self.n_negative, window_size)\n",
        "    base_idx = base_idx.expand(batch_size, self.n_negative, window_size)\n",
        "    seq_idx += base_idx.contiguous().view(-1)\n",
        "    seq_idx = torch.remainder(seq_idx, time_size)\n",
        "\n",
        "    ext_idx = seq_idx + batch_idx * time_size\n",
        "    neg_ext = neg_ext[ext_idx].view(batch_size, self.n_negative,\n",
        "                                    window_size, dim_encoded)\n",
        "    label_loss = torch.zeros((batch_size, window_size),\n",
        "                              dtype=torch.long,\n",
        "                              device=encoded_data.device)\n",
        "\n",
        "    for k in range(1, self.K_ + 1):\n",
        "\n",
        "      # Positive samples\n",
        "      if k < self.K_:\n",
        "          pos_seq = encoded_data[:, k:-(self.K_-k)]\n",
        "      else:\n",
        "          pos_seq = encoded_data[:, k:]\n",
        "\n",
        "      pos_seq = pos_seq.view(batch_size, 1, pos_seq.size(1), dim_encoded)\n",
        "      full_seq = torch.cat((pos_seq, neg_ext), dim=1)\n",
        "      outputs.append(full_seq)\n",
        "\n",
        "    return outputs, label_loss\n",
        "\n",
        "  def forward(self, encoded_data, context_data):\n",
        "\n",
        "    # TO COMPLETE:\n",
        "    # Perform the full cpc criterion\n",
        "    # Returns 2 values:\n",
        "    # - the average classification loss avg_loss\n",
        "    # - the average classification acuracy avg_acc\n",
        "\n",
        "    # Reminder : The permuation !\n",
        "    encoded_data = encoded_data.permute(0, 2, 1)\n",
        "\n",
        "    # First we need to sample the negative examples\n",
        "    negative_samples, labels = self.sample_negatives(encoded_data)\n",
        "\n",
        "    # Then we must compute phi_k\n",
        "    phi_k = self.get_prediction_k(context_data)\n",
        "\n",
        "    # Finally we must get the dot product between phi_k and negative_samples \n",
        "    # for each k\n",
        "\n",
        "    #The total loss is the average of all losses\n",
        "    avg_loss = 0\n",
        "\n",
        "    # Average acuracy\n",
        "    avg_acc = 0\n",
        "\n",
        "    for k in range(self.K_):\n",
        "      B, N_sampled, S_small, H = negative_samples[k].size() \n",
        "      B, S, H = phi_k[k].size()\n",
        "\n",
        "      # As told before S = S_small + K. For segments too far in the sequence\n",
        "      # there are no positive exmples anyway, so we must shorten phi_k\n",
        "      phi = phi_k[k][:, :S_small]\n",
        "\n",
        "      # Now the dot product\n",
        "      # You have several ways to do that, let's do the simple but non optimal \n",
        "      # one\n",
        "      # pytorch has a matrix product function https://pytorch.org/docs/stable/torch.html#torch.bmm\n",
        "      # But it takes only 3D tensors of the same batch size !\n",
        "      # To begin negative_samples is a 4D tensor ! \n",
        "      # We want to compute the dot product for each features, of each sequence\n",
        "      # of the batch. Thus we are trying to compute a dot product for all\n",
        "      # B* N_sampled * S_small 1D vector of negative_samples[k]\n",
        "      # Or, a 1D tensor of size H is also a matrix of size 1 x H\n",
        "      # Then, we must view it as a 3D tensor of size (B* N_sampled * S_small, 1, H)\n",
        "      negative_sample_k  =  negative_samples[k].view(B* N_sampled* S_small, 1, H)\n",
        "\n",
        "      # But now phi and negative_sample_k no longer have the same batch size !\n",
        "      # No worries, we can expand phi so that each sequence of the batch\n",
        "      # is repeated N_sampled times\n",
        "      phi = phi.view(B, 1,S_small, H).expand(B, N_sampled, S_small, H)\n",
        "\n",
        "      # And now we can view it as a 3D tensor \n",
        "      phi  = phi.contiguous().view(B * N_sampled * S_small, H, 1)\n",
        "\n",
        "      # We can finally get the dot product !\n",
        "      scores = torch.bmm(negative_sample_k, phi)\n",
        "\n",
        "      # Dot_product has a size (B * N_sampled * S_small , 1, 1)\n",
        "      # Let's reorder it a bit\n",
        "      scores = scores.reshape(B, N_sampled, S_small)\n",
        "\n",
        "      # For each elements of the sequence, and each elements sampled, it gives \n",
        "      # a floating score stating the likelihood of this element being the \n",
        "      # true one.\n",
        "      # Now the classification loss, we need to use the Cross Entropy loss\n",
        "      # https://pytorch.org/docs/master/generated/torch.nn.CrossEntropyLoss.html\n",
        "\n",
        "      # For each time-step of each sequence of the batch \n",
        "      # we have N_sampled possible predictions. \n",
        "      # Looking at the documentation of torch.nn.CrossEntropyLoss\n",
        "      # we can see that this loss expect a tensor of size M x C where \n",
        "      # - M is the number of elements with a classification score\n",
        "      # - C is the number of possible classes\n",
        "      # There are N_sampled candidates for each predictions so\n",
        "      # C = N_sampled \n",
        "      # Each timestep of each sequence of the batch has a prediction so\n",
        "      # M = B * S_small\n",
        "      # Thus we need an input vector of size B * S_small, N_sampled\n",
        "      # To begin, we need to permute the axis\n",
        "      scores = scores.permute(0, 2, 1) # Now it has size B , S_small, N_sampled\n",
        "\n",
        "      # Then we can cast it into a 2D tensor\n",
        "      scores = scores.reshape(B * S_small, N_sampled)\n",
        "\n",
        "      # Same thing for the labels \n",
        "      labels = labels.reshape(B * S_small)\n",
        "\n",
        "      # Finally we can get the classification loss\n",
        "      loss_criterion = torch.nn.CrossEntropyLoss()\n",
        "      loss_k = loss_criterion(scores, labels)\n",
        "      avg_loss+= loss_k\n",
        "\n",
        "      # And for the acuracy\n",
        "      # The prediction for each elements is the sample with the highest score\n",
        "      # Thus the tensors of all predictions is the tensors of the index of the \n",
        "      # maximal score for each time-step of each sequence of the batch\n",
        "      predictions = torch.argmax(scores, 1)\n",
        "      acc_k  = (labels == predictions).sum() / (B * S_small)\n",
        "      avg_acc += acc_k\n",
        "\n",
        "    # Normalization\n",
        "    avg_loss = avg_loss / self.K_\n",
        "    avg_acc = avg_acc / self.K_\n",
        "      \n",
        "    return avg_loss , avg_acc"
      ],
      "execution_count": 10,
      "outputs": []
    },
    {
      "cell_type": "markdown",
      "metadata": {
        "colab_type": "text",
        "id": "0cqGXhLf-_O1"
      },
      "source": [
        "Don't forget to test !"
      ]
    },
    {
      "cell_type": "code",
      "metadata": {
        "colab_type": "code",
        "id": "sYJSMh5I_QCf",
        "colab": {
          "base_uri": "https://localhost:8080/",
          "height": 54
        },
        "outputId": "2703231d-b325-4bf1-9ffc-5ce253f0d125"
      },
      "source": [
        "audio = torchaudio.load(\"/content/Lig-Aikuma-Data-Collection/data/records/train/200625-151026_fra_1de_elicit_0.wav\")[0]\n",
        "audio = audio.view(1, 1, -1)\n",
        "cpc_criterion = CPCCriterion(N_PREDICTIONS, DIM_CONTEXT, \n",
        "                             DIM_ENCODER, N_NEGATIVE_SAMPLE).to(device)\n",
        "context_output, encoder_output = cpc_model(audio.to(device))\n",
        "loss, avg = cpc_criterion(encoder_output,context_output)"
      ],
      "execution_count": 12,
      "outputs": [
        {
          "output_type": "stream",
          "text": [
            "/pytorch/aten/src/ATen/native/BinaryOps.cpp:81: UserWarning: Integer division of tensors using div or / is deprecated, and in a future release div will perform true division as in Python 3. Use true_divide or floor_divide (// in Python) instead.\n"
          ],
          "name": "stderr"
        }
      ]
    },
    {
      "cell_type": "markdown",
      "metadata": {
        "colab_type": "text",
        "id": "zLv7GoE0_4C3"
      },
      "source": [
        "## Exercise 3: Full training loop !\n",
        "\n",
        "You have the model, you have the criterion. All you need now are a data loader and an optimizer to run your training loop.\n",
        "\n",
        "We will use an Adam optimizer:"
      ]
    },
    {
      "cell_type": "code",
      "metadata": {
        "id": "ujnHL-4SoTlI",
        "colab_type": "code",
        "colab": {}
      },
      "source": [
        "import os\n",
        "import nltk\n",
        "import wave\n",
        "from glob import glob\n",
        "\n",
        "Fr = \"a à b c d e é f g h i j k l m n o p q r s t u v w x y z ' 0 1 2 3 4 5 6 7 8 9\"\n",
        "character_to_index = {j:i for i,j in enumerate(Fr.split())}\n",
        "\n",
        "#text = '/home/mohamud/speech recognition/project/data_collection/text_files/madar/session_0.txt'\n",
        "\n",
        "def remove_punct(text):\n",
        "   tokenizer = nltk.RegexpTokenizer(r\"\\w+\")\n",
        "   new_words = tokenizer.tokenize(text)\n",
        "   t = ''\n",
        "   for i in new_words:\n",
        "       t+= i+' '\n",
        "   return t\n",
        "   \n",
        "#data_char = '/home/mohamud/speech recognition/project/malagasy_data/data_char.txt'\n",
        "\n",
        "sessions = glob(\"/content/session1/text1.txt\")\n",
        "linkers = glob(\"/content/linker200625-151026_fra_1de_elicit.txt\")\n",
        "\n",
        "all_session_text = open('all_sessions.txt', 'w') #os.path.abspath(os.getcwd()) + \n",
        "\n",
        "for linker, sess in zip(linkers, sessions):\n",
        "    print(sess)\n",
        "    sess_read = open(sess, 'r')\n",
        "    link_read = open(linker, 'r')\n",
        "    for link, sentence in zip(link_read.readlines(), sess_read.readlines()):\n",
        "        wav_name = os.path.basename(link).replace('\\n','')\n",
        "        wav_path = glob(os.path.abspath(os.getcwd()) + f\"/////{wav_name}\")\n",
        "        if len(wav_path)==0:\n",
        "            continue\n",
        "        wav_path = wav_path[0]\n",
        "        try:\n",
        "            w = wave.open(wav_path, 'r')\n",
        "            d = w.readframes(w.getnframes())\n",
        "        except:\n",
        "            print(f'corrupted audio: {wav_path} -- skipped: ')\n",
        "#            uncomment if you want to delete the corrupted file\n",
        "#            os.remove(wav_path)\n",
        "            continue\n",
        "        indices = ''\n",
        "        sentence = sentence.replace('##', '')    \n",
        "        sentence = remove_punct(sentence)\n",
        "        for c in sentence:\n",
        "            if not c.isspace():\n",
        "                indices+=str(character_to_index[c.lower()]) + ' '\n",
        "        print(sentence)\n",
        "        all_session_text.writelines(wav_name[:-4] + ' ' + indices + '\\n')"
      ],
      "execution_count": 13,
      "outputs": []
    },
    {
      "cell_type": "code",
      "metadata": {
        "id": "314T6E2MoTiw",
        "colab_type": "code",
        "colab": {}
      },
      "source": [
        ""
      ],
      "execution_count": null,
      "outputs": []
    },
    {
      "cell_type": "code",
      "metadata": {
        "colab_type": "code",
        "id": "zcg29tqPAIR1",
        "colab": {}
      },
      "source": [
        "parameters = list(cpc_criterion.parameters()) + list(cpc_model.parameters())\n",
        "optimizer = torch.optim.Adam(parameters, lr=LEARNING_RATE)"
      ],
      "execution_count": 14,
      "outputs": []
    },
    {
      "cell_type": "markdown",
      "metadata": {
        "colab_type": "text",
        "id": "hETDwSfTAuF4"
      },
      "source": [
        "And as far as the data loader is concerned, we will rely on the data loader provided by the CPC_audio library."
      ]
    },
    {
      "cell_type": "code",
      "metadata": {
        "colab_type": "code",
        "id": "O6KES4RXA0tU",
        "colab": {}
      },
      "source": [
        "# dataset_train = load_dataset('/content/drive/My Drive/SpeechRecognition/data/records/train')\n",
        "# dataset_val = load_dataset('/content/drive/My Drive/SpeechRecognition/data/records/val')\n",
        "# data_loader_train = dataset_train.getDataLoader(BATCH_SIZE, \"speaker\", True)\n",
        "# data_loader_val = dataset_train.getDataLoader(BATCH_SIZE, \"sequence\", False)"
      ],
      "execution_count": 15,
      "outputs": []
    },
    {
      "cell_type": "markdown",
      "metadata": {
        "colab_type": "text",
        "id": "uCoMCPL0A8VI"
      },
      "source": [
        "Now that everything is ready, complete and test the ```train_step``` function below which trains the model for one epoch."
      ]
    },
    {
      "cell_type": "code",
      "metadata": {
        "colab_type": "code",
        "id": "U-hIH3p8BsZr",
        "colab": {}
      },
      "source": [
        "def train_step(data_loader,\n",
        "               cpc_model,\n",
        "               cpc_criterion,\n",
        "               optimizer):\n",
        "  \n",
        "  avg_loss = 0\n",
        "  avg_acc = 0\n",
        "  n_items = 0\n",
        "\n",
        "  for step, data in enumerate(data_loader):\n",
        "    x,y = data\n",
        "    bs = len(x)\n",
        "    optimizer.zero_grad()\n",
        "    context_output, encoder_output = cpc_model(x.to(device))\n",
        "    loss , acc = cpc_criterion(encoder_output, context_output)\n",
        "    loss.backward()\n",
        "    n_items+=bs\n",
        "    avg_loss+=loss.item()*bs\n",
        "    avg_acc +=acc.item()*bs\n",
        "  \n",
        "  avg_loss/=n_items\n",
        "  avg_acc/=n_items\n",
        "  return avg_loss, avg_acc"
      ],
      "execution_count": 16,
      "outputs": []
    },
    {
      "cell_type": "markdown",
      "metadata": {
        "colab_type": "text",
        "id": "rIj06giJE_bZ"
      },
      "source": [
        "## Exercise 4 : Validation loop\n",
        "\n",
        "Now complete the validation loop."
      ]
    },
    {
      "cell_type": "code",
      "metadata": {
        "colab_type": "code",
        "id": "Q7Qwi6jDByyt",
        "colab": {}
      },
      "source": [
        "def validation_step(data_loader,\n",
        "                    cpc_model,\n",
        "                    cpc_criterion):\n",
        "  \n",
        "  avg_loss = 0\n",
        "  avg_acc = 0\n",
        "  n_items = 0\n",
        "\n",
        "  for step, data in enumerate(data_loader):\n",
        "    x,y = data\n",
        "    bs = len(x)\n",
        "    context_output, encoder_output = cpc_model(x.to(device))\n",
        "    loss , acc = cpc_criterion(encoder_output, context_output)\n",
        "    n_items+=bs\n",
        "    avg_loss+=loss.item()*bs\n",
        "    avg_acc+=acc.item()*bs\n",
        "  \n",
        "  avg_loss/=n_items\n",
        "  avg_acc/=n_items\n",
        "  return avg_loss, avg_acc"
      ],
      "execution_count": 17,
      "outputs": []
    },
    {
      "cell_type": "markdown",
      "metadata": {
        "colab_type": "text",
        "id": "OBVUPKKs2_0U"
      },
      "source": [
        "## Exercise 5: Run everything"
      ]
    },
    {
      "cell_type": "code",
      "metadata": {
        "colab_type": "code",
        "id": "ZbXsZIRiB1tm",
        "colab": {}
      },
      "source": [
        "def run(train_loader,\n",
        "        val_loader,\n",
        "        cpc_model,\n",
        "        cpc_criterion,\n",
        "        optimizer,\n",
        "        n_epochs):\n",
        "  \n",
        "  for epoch in range(n_epochs):\n",
        "\n",
        "    \n",
        "    print(f\"Running epoch {epoch+1} / {n_epochs}\")\n",
        "    avg_loss_train, avg_acc_train = train_step(train_loader, cpc_model, cpc_criterion, optimizer)\n",
        "    print(\"----------------------\")\n",
        "    print(f\"Training dataset\")\n",
        "    print(f\"- average loss : {avg_loss_train}\")\n",
        "    print(f\"- average acuracy : {avg_acc_train}\")\n",
        "    print(\"----------------------\")\n",
        "    with torch.no_grad():\n",
        "      cpc_model.eval()\n",
        "      cpc_criterion.eval()\n",
        "      avg_loss_val, avg_acc_val = validation_step(val_loader, cpc_model, cpc_criterion)\n",
        "      print(f\"Validation dataset\")\n",
        "      print(f\"- average loss : {avg_loss_val}\")\n",
        "      print(f\"- average acuracy : {avg_acc_val}\")\n",
        "      print(\"----------------------\")\n",
        "      print()\n",
        "      cpc_model.train()\n",
        "      cpc_criterion.train()"
      ],
      "execution_count": 18,
      "outputs": []
    },
    {
      "cell_type": "code",
      "metadata": {
        "colab_type": "code",
        "id": "5xx8vN2wpECC",
        "colab": {}
      },
      "source": [
        "#run(data_loader_train, data_loader_val, cpc_model,cpc_criterion,optimizer,1)"
      ],
      "execution_count": 19,
      "outputs": []
    },
    {
      "cell_type": "markdown",
      "metadata": {
        "colab_type": "text",
        "id": "5hoT3_3W6HYY"
      },
      "source": [
        "Once everything is donw, clear the memory."
      ]
    },
    {
      "cell_type": "code",
      "metadata": {
        "colab_type": "code",
        "id": "fU5mDOY46KSG",
        "colab": {}
      },
      "source": [
        "# del dataset_train\n",
        "# del dataset_val\n",
        "# del cpc_model\n",
        "# del context\n",
        "# del encoder"
      ],
      "execution_count": 20,
      "outputs": []
    },
    {
      "cell_type": "markdown",
      "metadata": {
        "colab_type": "text",
        "id": "srPM5r_LB9v-"
      },
      "source": [
        "# Part 2 : Fine tuning"
      ]
    },
    {
      "cell_type": "markdown",
      "metadata": {
        "colab_type": "text",
        "id": "0Nb_-0IQiJk9"
      },
      "source": [
        "## Exercice 1 : Phone separability with aligned phonemes.\n",
        "\n",
        "One option to evaluate the quality of the features trained with CPC can be to check if they can be used to recognize phonemes. \n",
        "To do so, we can fine-tune a pre-trained model using a limited amount of labelled speech data.\n",
        "We are going to start with a simple evaluation setting where we have the phone labels for each timestep corresponding to a CPC feature.\n",
        "\n",
        "We will work with a model already pre-trained on English data. As far as the fine-tuning dataset is concerned, we will use a 1h subset of [librispeech-100](http://www.openslr.org/12/). "
      ]
    },
    {
      "cell_type": "code",
      "metadata": {
        "colab_type": "code",
        "id": "N-scDMAasXxc",
        "colab": {
          "base_uri": "https://localhost:8080/",
          "height": 608
        },
        "outputId": "0b55d6aa-b151-4760-e9d6-deea0eca7d55"
      },
      "source": [
        "!mkdir checkpoint_data\n",
        "!wget https://dl.fbaipublicfiles.com/librilight/CPC_checkpoints/not_hub/2levels_6k_top_ctc/checkpoint_30.pt -P checkpoint_data\n",
        "!wget https://dl.fbaipublicfiles.com/librilight/CPC_checkpoints/not_hub/2levels_6k_top_ctc/checkpoint_logs.json -P checkpoint_data\n",
        "!wget https://dl.fbaipublicfiles.com/librilight/CPC_checkpoints/not_hub/2levels_6k_top_ctc/checkpoint_args.json -P checkpoint_data\n",
        "!ls checkpoint_data"
      ],
      "execution_count": 21,
      "outputs": [
        {
          "output_type": "stream",
          "text": [
            "--2020-07-06 22:43:56--  https://dl.fbaipublicfiles.com/librilight/CPC_checkpoints/not_hub/2levels_6k_top_ctc/checkpoint_30.pt\n",
            "Resolving dl.fbaipublicfiles.com (dl.fbaipublicfiles.com)... 104.22.74.142, 104.22.75.142, 172.67.9.4, ...\n",
            "Connecting to dl.fbaipublicfiles.com (dl.fbaipublicfiles.com)|104.22.74.142|:443... connected.\n",
            "HTTP request sent, awaiting response... 200 OK\n",
            "Length: 113599715 (108M) [application/octet-stream]\n",
            "Saving to: ‘checkpoint_data/checkpoint_30.pt’\n",
            "\n",
            "checkpoint_30.pt    100%[===================>] 108.34M  12.1MB/s    in 10s     \n",
            "\n",
            "2020-07-06 22:44:07 (10.8 MB/s) - ‘checkpoint_data/checkpoint_30.pt’ saved [113599715/113599715]\n",
            "\n",
            "--2020-07-06 22:44:08--  https://dl.fbaipublicfiles.com/librilight/CPC_checkpoints/not_hub/2levels_6k_top_ctc/checkpoint_logs.json\n",
            "Resolving dl.fbaipublicfiles.com (dl.fbaipublicfiles.com)... 104.22.74.142, 104.22.75.142, 172.67.9.4, ...\n",
            "Connecting to dl.fbaipublicfiles.com (dl.fbaipublicfiles.com)|104.22.74.142|:443... connected.\n",
            "HTTP request sent, awaiting response... 200 OK\n",
            "Length: 20786 (20K) [text/plain]\n",
            "Saving to: ‘checkpoint_data/checkpoint_logs.json’\n",
            "\n",
            "checkpoint_logs.jso 100%[===================>]  20.30K   122KB/s    in 0.2s    \n",
            "\n",
            "2020-07-06 22:44:09 (122 KB/s) - ‘checkpoint_data/checkpoint_logs.json’ saved [20786/20786]\n",
            "\n",
            "--2020-07-06 22:44:11--  https://dl.fbaipublicfiles.com/librilight/CPC_checkpoints/not_hub/2levels_6k_top_ctc/checkpoint_args.json\n",
            "Resolving dl.fbaipublicfiles.com (dl.fbaipublicfiles.com)... 104.22.74.142, 104.22.75.142, 172.67.9.4, ...\n",
            "Connecting to dl.fbaipublicfiles.com (dl.fbaipublicfiles.com)|104.22.74.142|:443... connected.\n",
            "HTTP request sent, awaiting response... 200 OK\n",
            "Length: 2063 (2.0K) [text/plain]\n",
            "Saving to: ‘checkpoint_data/checkpoint_args.json’\n",
            "\n",
            "checkpoint_args.jso 100%[===================>]   2.01K  --.-KB/s    in 0s      \n",
            "\n",
            "2020-07-06 22:44:12 (27.4 MB/s) - ‘checkpoint_data/checkpoint_args.json’ saved [2063/2063]\n",
            "\n",
            "checkpoint_30.pt  checkpoint_args.json\tcheckpoint_logs.json\n"
          ],
          "name": "stdout"
        }
      ]
    },
    {
      "cell_type": "code",
      "metadata": {
        "colab_type": "code",
        "id": "SSSaiYo82_oY",
        "colab": {
          "base_uri": "https://localhost:8080/",
          "height": 370
        },
        "outputId": "7c331005-dea2-4cf3-cbe5-bebaf55e219a"
      },
      "source": [
        "%cd /content/CPC_audio\n",
        "from cpc.dataset import parseSeqLabels\n",
        "from cpc.feature_loader import loadModel\n",
        "\n",
        "checkpoint_path = '../checkpoint_data/checkpoint_30.pt'\n",
        "cpc_model, HIDDEN_CONTEXT_MODEL, HIDDEN_ENCODER_MODEL = loadModel([checkpoint_path])\n",
        "cpc_model = cpc_model.cuda()\n",
        "label_dict, N_PHONES = parseSeqLabels('/content/Lig-Aikuma-Data-Collection/data/chars.txt')\n",
        "dataset_train = load_dataset('/content/Lig-Aikuma-Data-Collection/data/records/train', file_extension='.wav', phone_label_dict=label_dict)\n",
        "dataset_val = load_dataset('/content/Lig-Aikuma-Data-Collection/data/records/val', file_extension='.wav', phone_label_dict=label_dict)\n",
        "data_loader_train = dataset_train.getDataLoader(BATCH_SIZE, \"speaker\", True)\n",
        "data_loader_val = dataset_val.getDataLoader(BATCH_SIZE, \"sequence\", False)"
      ],
      "execution_count": 22,
      "outputs": [
        {
          "output_type": "stream",
          "text": [
            "1it [00:00, 602.80it/s]"
          ],
          "name": "stderr"
        },
        {
          "output_type": "stream",
          "text": [
            "/content/CPC_audio\n",
            "Loading checkpoint ../checkpoint_data/checkpoint_30.pt\n",
            "Loading the state dict at ../checkpoint_data/checkpoint_30.pt\n",
            "Saved cache file at /content/Lig-Aikuma-Data-Collection/data/records/train/_seqs_cache.txt\n"
          ],
          "name": "stdout"
        },
        {
          "output_type": "stream",
          "text": [
            "\n",
            "164it [00:00, 212501.04it/s]"
          ],
          "name": "stderr"
        },
        {
          "output_type": "stream",
          "text": [
            "Checking length...\n",
            "Done, elapsed: 0.048 seconds\n",
            "Scanned 164 sequences in 0.05 seconds\n",
            "1 chunks computed\n",
            "Joining pool\n"
          ],
          "name": "stdout"
        },
        {
          "output_type": "stream",
          "text": [
            "\n",
            "1it [00:00, 50.56it/s]"
          ],
          "name": "stderr"
        },
        {
          "output_type": "stream",
          "text": [
            "Joined process, elapsed=0.581 secs\n",
            "Saved cache file at /content/Lig-Aikuma-Data-Collection/data/records/val/_seqs_cache.txt\n"
          ],
          "name": "stdout"
        },
        {
          "output_type": "stream",
          "text": [
            "\n",
            "40it [00:00, 52022.38it/s]"
          ],
          "name": "stderr"
        },
        {
          "output_type": "stream",
          "text": [
            "Checking length...\n",
            "Done, elapsed: 0.019 seconds\n",
            "Scanned 40 sequences in 0.02 seconds\n",
            "1 chunks computed\n",
            "Joining pool\n"
          ],
          "name": "stdout"
        },
        {
          "output_type": "stream",
          "text": [
            "\n"
          ],
          "name": "stderr"
        },
        {
          "output_type": "stream",
          "text": [
            "Joined process, elapsed=0.228 secs\n"
          ],
          "name": "stdout"
        }
      ]
    },
    {
      "cell_type": "code",
      "metadata": {
        "colab_type": "code",
        "id": "3ulgYV3nHcoa",
        "colab": {}
      },
      "source": [
        "??cpc_model"
      ],
      "execution_count": 27,
      "outputs": []
    },
    {
      "cell_type": "markdown",
      "metadata": {
        "colab_type": "text",
        "id": "xkKi-qfosng2"
      },
      "source": [
        "Then we will use a simple linear classifier to recognize the phonemes from the features produced by ```cpc_model```. \n",
        "\n",
        "### a) Build the phone classifier \n",
        "\n",
        "Design a class of linear classifiers, ```PhoneClassifier``` that will take as input a batch of sequences of CPC features and output a score vector for each phoneme"
      ]
    },
    {
      "cell_type": "code",
      "metadata": {
        "colab_type": "code",
        "id": "4RpAbz-0CXJJ",
        "colab": {}
      },
      "source": [
        "class PhoneClassifier(torch.nn.Module):\n",
        "\n",
        "  def __init__(self,\n",
        "               input_dim : int,\n",
        "               n_phones : int):\n",
        "    super(PhoneClassifier, self).__init__()\n",
        "    self.linear = torch.nn.Linear(input_dim, n_phones)\n",
        "    \n",
        "\n",
        "  def forward(self, x):\n",
        "    return self.linear(x)"
      ],
      "execution_count": 23,
      "outputs": []
    },
    {
      "cell_type": "markdown",
      "metadata": {
        "colab_type": "text",
        "id": "Zt5oa_nqtH-d"
      },
      "source": [
        "Our phone classifier will then be:"
      ]
    },
    {
      "cell_type": "code",
      "metadata": {
        "colab_type": "code",
        "id": "NRBf_83IuLv5",
        "colab": {}
      },
      "source": [
        "phone_classifier = PhoneClassifier(HIDDEN_CONTEXT_MODEL, N_PHONES).to(device)"
      ],
      "execution_count": 24,
      "outputs": []
    },
    {
      "cell_type": "markdown",
      "metadata": {
        "colab_type": "text",
        "id": "z_Vf5AbUhqm4"
      },
      "source": [
        "### b - What would be the correct loss criterion for this task ?\n",
        "\n"
      ]
    },
    {
      "cell_type": "code",
      "metadata": {
        "colab_type": "code",
        "id": "uhyPM-cgjrtw",
        "colab": {}
      },
      "source": [
        "loss_criterion = torch.nn.CrossEntropyLoss()"
      ],
      "execution_count": 25,
      "outputs": []
    },
    {
      "cell_type": "markdown",
      "metadata": {
        "colab_type": "text",
        "id": "Nv4cSxbaplrz"
      },
      "source": [
        "To perform the fine-tuning, we will also need an optimization function.\n",
        "\n",
        "We will use an [Adam optimizer ](https://pytorch.org/docs/stable/optim.html#torch.optim.Adam)."
      ]
    },
    {
      "cell_type": "code",
      "metadata": {
        "colab_type": "code",
        "id": "W5CgYyAlqKxu",
        "colab": {}
      },
      "source": [
        "parameters = list(phone_classifier.parameters()) + list(cpc_model.parameters())\n",
        "LEARNING_RATE = 2e-4\n",
        "optimizer = torch.optim.Adam(parameters, lr=LEARNING_RATE)"
      ],
      "execution_count": 26,
      "outputs": []
    },
    {
      "cell_type": "markdown",
      "metadata": {
        "colab_type": "text",
        "id": "qQB9HS9PvAXc"
      },
      "source": [
        "You might also want to perform this training while freezing the weights of the ```cpc_model```. Indeed, if the pre-training was good enough, then ```cpc_model``` phonemes representation should be linearly separable. In this case the optimizer should be defined like this:"
      ]
    },
    {
      "cell_type": "code",
      "metadata": {
        "colab_type": "code",
        "id": "nRy0gn6awGUQ",
        "colab": {}
      },
      "source": [
        "optimizer_frozen = torch.optim.Adam(list(phone_classifier.parameters()), lr=LEARNING_RATE)"
      ],
      "execution_count": 27,
      "outputs": []
    },
    {
      "cell_type": "markdown",
      "metadata": {
        "colab_type": "text",
        "id": "cO93ngIfj4JW"
      },
      "source": [
        "### c- Now let's build a training loop. \n",
        "Complete the function ```train_one_epoch``` below.\n",
        "\n"
      ]
    },
    {
      "cell_type": "code",
      "metadata": {
        "colab_type": "code",
        "id": "fabqj3wvLwgU",
        "colab": {}
      },
      "source": [
        "def train_one_epoch(cpc_model, \n",
        "                    phone_classifier, \n",
        "                    loss_criterion, \n",
        "                    data_loader, \n",
        "                    optimizer):\n",
        "\n",
        "  cpc_model.train()\n",
        "  loss_criterion.train()\n",
        "\n",
        "  avg_loss = 0\n",
        "  avg_accuracy = 0\n",
        "  n_items = 0\n",
        "  for step, full_data in enumerate(data_loader):\n",
        "    # Each batch is represented by a Tuple of vectors:\n",
        "    # sequence of size : N x 1 x T\n",
        "    # label of size : N x T\n",
        "    # \n",
        "    # With :\n",
        "    # - N number of sequence in the batch\n",
        "    # - T size of each sequence\n",
        "    sequence, label = full_data\n",
        "    \n",
        "    \n",
        "\n",
        "    bs = len(sequence)\n",
        "    seq_len = label.size(1)\n",
        "    optimizer.zero_grad()\n",
        "    context_out, enc_out, _ = cpc_model(sequence.to(device),label.to(device))\n",
        "\n",
        "    scores = phone_classifier(context_out)\n",
        "\n",
        "    scores = scores.permute(0,2,1)\n",
        "    loss = loss_criterion(scores,label.to(device))\n",
        "    loss.backward()\n",
        "    optimizer.step()\n",
        "    avg_loss+=loss.item()*bs\n",
        "    n_items+=bs\n",
        "    correct_labels = scores.argmax(1)\n",
        "    avg_accuracy += ((label==correct_labels.cpu()).float()).mean(1).sum().item()\n",
        "  avg_loss/=n_items\n",
        "  avg_accuracy/=n_items\n",
        "  return avg_loss, avg_accuracy\n",
        "    "
      ],
      "execution_count": 28,
      "outputs": []
    },
    {
      "cell_type": "markdown",
      "metadata": {
        "colab_type": "text",
        "id": "quYtjx_TxIPK"
      },
      "source": [
        "Don't forget to test it !"
      ]
    },
    {
      "cell_type": "code",
      "metadata": {
        "colab_type": "code",
        "id": "50MwxbKhxMKp",
        "colab": {}
      },
      "source": [
        "avg_loss, avg_accuracy = train_one_epoch(cpc_model, phone_classifier, loss_criterion, data_loader_train, optimizer_frozen)"
      ],
      "execution_count": 29,
      "outputs": []
    },
    {
      "cell_type": "code",
      "metadata": {
        "colab_type": "code",
        "id": "_o6yk8XKWnYe",
        "colab": {
          "base_uri": "https://localhost:8080/",
          "height": 34
        },
        "outputId": "9f798f38-6fd1-42cb-af19-c7c5b2fc6c76"
      },
      "source": [
        "avg_loss, avg_accuracy"
      ],
      "execution_count": 30,
      "outputs": [
        {
          "output_type": "execute_result",
          "data": {
            "text/plain": [
              "(4.517354043324788, 0.0068359375)"
            ]
          },
          "metadata": {
            "tags": []
          },
          "execution_count": 30
        }
      ]
    },
    {
      "cell_type": "markdown",
      "metadata": {
        "colab_type": "text",
        "id": "EmUkuJ2bwu4Z"
      },
      "source": [
        "### d- Build the validation loop"
      ]
    },
    {
      "cell_type": "code",
      "metadata": {
        "colab_type": "code",
        "id": "kZJMxj6cwzd3",
        "colab": {}
      },
      "source": [
        "def validation_step(cpc_model, \n",
        "                    phone_classifier, \n",
        "                    loss_criterion, \n",
        "                    data_loader):\n",
        "  \n",
        "  cpc_model.eval()\n",
        "  phone_classifier.eval()\n",
        "\n",
        "  avg_loss = 0\n",
        "  avg_accuracy = 0\n",
        "  n_items = 0\n",
        "  with torch.no_grad():\n",
        "    for step, full_data in enumerate(data_loader):\n",
        "      # Each batch is represented by a Tuple of vectors:\n",
        "      # sequence of size : N x 1 x T\n",
        "      # label of size : N x T\n",
        "      # \n",
        "      # With :\n",
        "      # - N number of sequence in the batch\n",
        "      # - T size of each sequence\n",
        "      sequence, label = full_data\n",
        "      bs = len(sequence)\n",
        "      seq_len = label.size(1)\n",
        "      context_out, enc_out, _ = cpc_model(sequence.to(device),label.to(device))\n",
        "      scores = phone_classifier(context_out)\n",
        "      scores = scores.permute(0,2,1)\n",
        "      loss = loss_criterion(scores,label.to(device))\n",
        "      avg_loss+=loss.item()*bs\n",
        "      n_items+=bs\n",
        "      correct_labels = scores.argmax(1)\n",
        "      avg_accuracy += ((label==correct_labels.cpu()).float()).mean(1).sum().item()\n",
        "  avg_loss/=n_items\n",
        "  avg_accuracy/=n_items\n",
        "  return avg_loss, avg_accuracy"
      ],
      "execution_count": 31,
      "outputs": []
    },
    {
      "cell_type": "markdown",
      "metadata": {
        "colab_type": "text",
        "id": "vownVCt7xbVh"
      },
      "source": [
        "### e- Run everything\n",
        "\n",
        "Test this functiion with both ```optimizer``` and ```optimizer_frozen```."
      ]
    },
    {
      "cell_type": "code",
      "metadata": {
        "colab_type": "code",
        "id": "xvO_4nKUxfQx",
        "colab": {}
      },
      "source": [
        "def run(cpc_model, \n",
        "        phone_classifier, \n",
        "        loss_criterion, \n",
        "        data_loader_train, \n",
        "        data_loader_val, \n",
        "        optimizer,\n",
        "        n_epoch):\n",
        "\n",
        "  for epoch in range(n_epoch):\n",
        "\n",
        "    print(f\"Running epoch {epoch + 1} / {n_epoch}\")\n",
        "    loss_train, acc_train = train_one_epoch(cpc_model, phone_classifier, loss_criterion, data_loader_train, optimizer)\n",
        "    print(\"-------------------\")\n",
        "    print(f\"Training dataset :\")\n",
        "    print(f\"Average loss : {loss_train}. Average accuracy {acc_train}\")\n",
        "\n",
        "    print(\"-------------------\")\n",
        "    print(\"Validation dataset\")\n",
        "    loss_val, acc_val = validation_step(cpc_model, phone_classifier, loss_criterion, data_loader_val)\n",
        "    print(f\"Average loss : {loss_val}. Average accuracy {acc_val}\")\n",
        "    print(\"-------------------\")\n",
        "    print()"
      ],
      "execution_count": 32,
      "outputs": []
    },
    {
      "cell_type": "code",
      "metadata": {
        "colab_type": "code",
        "id": "ceCEO2h2bxAn",
        "colab": {
          "base_uri": "https://localhost:8080/",
          "height": 1000
        },
        "outputId": "03eeb7c8-fcab-4a37-803c-c4a1ab38b9eb"
      },
      "source": [
        "run(cpc_model,phone_classifier,loss_criterion,data_loader_train,data_loader_val,optimizer_frozen,n_epoch=10)"
      ],
      "execution_count": 33,
      "outputs": [
        {
          "output_type": "stream",
          "text": [
            "Running epoch 1 / 10\n",
            "-------------------\n",
            "Training dataset :\n",
            "Average loss : 4.403197447458903. Average accuracy 0.033203125\n",
            "-------------------\n",
            "Validation dataset\n",
            "Average loss : 4.34380567073822. Average accuracy 0.044677734375\n",
            "-------------------\n",
            "\n",
            "Running epoch 2 / 10\n",
            "-------------------\n",
            "Training dataset :\n",
            "Average loss : 4.294738737742106. Average accuracy 0.05091145833333333\n",
            "-------------------\n",
            "Validation dataset\n",
            "Average loss : 4.237333416938782. Average accuracy 0.046875\n",
            "-------------------\n",
            "\n",
            "Running epoch 3 / 10\n",
            "-------------------\n",
            "Training dataset :\n",
            "Average loss : 4.19236208597819. Average accuracy 0.052083333333333336\n",
            "-------------------\n",
            "Validation dataset\n",
            "Average loss : 4.137637376785278. Average accuracy 0.046142578125\n",
            "-------------------\n",
            "\n",
            "Running epoch 4 / 10\n",
            "-------------------\n",
            "Training dataset :\n",
            "Average loss : 4.096934668223063. Average accuracy 0.051171875\n",
            "-------------------\n",
            "Validation dataset\n",
            "Average loss : 4.045858979225159. Average accuracy 0.047607421875\n",
            "-------------------\n",
            "\n",
            "Running epoch 5 / 10\n",
            "-------------------\n",
            "Training dataset :\n",
            "Average loss : 4.0090888977050785. Average accuracy 0.052083333333333336\n",
            "-------------------\n",
            "Validation dataset\n",
            "Average loss : 3.9612321853637695. Average accuracy 0.04931640625\n",
            "-------------------\n",
            "\n",
            "Running epoch 6 / 10\n",
            "-------------------\n",
            "Training dataset :\n",
            "Average loss : 3.9293419043223063. Average accuracy 0.054947916666666666\n",
            "-------------------\n",
            "Validation dataset\n",
            "Average loss : 3.88409823179245. Average accuracy 0.052734375\n",
            "-------------------\n",
            "\n",
            "Running epoch 7 / 10\n",
            "-------------------\n",
            "Training dataset :\n",
            "Average loss : 3.8582305749257406. Average accuracy 0.0572265625\n",
            "-------------------\n",
            "Validation dataset\n",
            "Average loss : 3.8134900331497192. Average accuracy 0.053955078125\n",
            "-------------------\n",
            "\n",
            "Running epoch 8 / 10\n",
            "-------------------\n",
            "Training dataset :\n",
            "Average loss : 3.790636110305786. Average accuracy 0.05807291666666667\n",
            "-------------------\n",
            "Validation dataset\n",
            "Average loss : 3.7492775321006775. Average accuracy 0.057373046875\n",
            "-------------------\n",
            "\n",
            "Running epoch 9 / 10\n",
            "-------------------\n",
            "Training dataset :\n",
            "Average loss : 3.7276928424835205. Average accuracy 0.06204427083333333\n",
            "-------------------\n",
            "Validation dataset\n",
            "Average loss : 3.690725326538086. Average accuracy 0.061279296875\n",
            "-------------------\n",
            "\n",
            "Running epoch 10 / 10\n",
            "-------------------\n",
            "Training dataset :\n",
            "Average loss : 3.6734559853871662. Average accuracy 0.06770833333333333\n",
            "-------------------\n",
            "Validation dataset\n",
            "Average loss : 3.6376837491989136. Average accuracy 0.074951171875\n",
            "-------------------\n",
            "\n"
          ],
          "name": "stdout"
        }
      ]
    },
    {
      "cell_type": "markdown",
      "metadata": {
        "colab_type": "text",
        "id": "TdfWDiFnylMT"
      },
      "source": [
        "## Exercise 2 : Phone separability without alignment (PER)\n",
        "\n",
        "Aligned data are very practical, but un real life they are rarely available. That's why in this excercise we will consider a fine-tuning with non-aligned phonemes.\n",
        "\n",
        "The model, the optimizer and the phone classifier will stay the same. However, we will replace our phone criterion with a [CTC loss](https://pytorch.org/docs/master/generated/torch.nn.CTCLoss.html). "
      ]
    },
    {
      "cell_type": "code",
      "metadata": {
        "colab_type": "code",
        "id": "_9BpM_Lpzgx8",
        "colab": {}
      },
      "source": [
        "loss_ctc = torch.nn.CTCLoss()"
      ],
      "execution_count": 34,
      "outputs": []
    },
    {
      "cell_type": "markdown",
      "metadata": {
        "colab_type": "text",
        "id": "AQpYgTyfzsrq"
      },
      "source": [
        "Besides, we will use a siglthy different dataset class."
      ]
    },
    {
      "cell_type": "code",
      "metadata": {
        "colab_type": "code",
        "id": "9HRxoatlz3ZZ",
        "colab": {
          "base_uri": "https://localhost:8080/",
          "height": 269
        },
        "outputId": "591de552-cfa0-484e-8ff5-d7ba63e31f86"
      },
      "source": [
        "%cd /content/CPC_audio\n",
        "from cpc.eval.common_voices_eval import SingleSequenceDataset, parseSeqLabels, findAllSeqs\n",
        "path_train_data_per = '/content/Lig-Aikuma-Data-Collection/data/records/train'\n",
        "path_val_data_per = '/content/Lig-Aikuma-Data-Collection/data/records/val'\n",
        "path_phone_data_per = '/content/Lig-Aikuma-Data-Collection/data/chars.txt'\n",
        "BATCH_SIZE=8\n",
        "\n",
        "phone_labels, N_PHONES = parseSeqLabels(path_phone_data_per)\n",
        "data_train_per, _ = findAllSeqs(path_train_data_per, extension='.wav')\n",
        "dataset_train_non_aligned = SingleSequenceDataset(path_train_data_per, data_train_per, phone_labels)\n",
        "data_loader_train = torch.utils.data.DataLoader(dataset_train_non_aligned, batch_size=BATCH_SIZE,\n",
        "                                                shuffle=True)\n",
        "\n",
        "data_val_per, _ = findAllSeqs(path_val_data_per, extension='.wav')\n",
        "dataset_val_non_aligned = SingleSequenceDataset(path_val_data_per, data_val_per, phone_labels)\n",
        "data_loader_val = torch.utils.data.DataLoader(dataset_val_non_aligned, batch_size=BATCH_SIZE,\n",
        "                                              shuffle=True)"
      ],
      "execution_count": 35,
      "outputs": [
        {
          "output_type": "stream",
          "text": [
            "1it [00:00, 297.03it/s]"
          ],
          "name": "stderr"
        },
        {
          "output_type": "stream",
          "text": [
            "/content/CPC_audio\n",
            "Saved cache file at /content/Lig-Aikuma-Data-Collection/data/records/train/_seqs_cache.txt\n"
          ],
          "name": "stdout"
        },
        {
          "output_type": "stream",
          "text": [
            "\n",
            "1it [00:00, 256.33it/s]"
          ],
          "name": "stderr"
        },
        {
          "output_type": "stream",
          "text": [
            "Loaded 165 sequences in 1.54 seconds\n",
            "maxSizeSeq : 342672\n",
            "maxSizePhone : 226\n",
            "minSizePhone : 4\n",
            "Total size dataset 0.3819692708333333 hours\n",
            "Saved cache file at /content/Lig-Aikuma-Data-Collection/data/records/val/_seqs_cache.txt\n"
          ],
          "name": "stdout"
        },
        {
          "output_type": "stream",
          "text": [
            "\n"
          ],
          "name": "stderr"
        },
        {
          "output_type": "stream",
          "text": [
            "Loaded 41 sequences in 1.26 seconds\n",
            "maxSizeSeq : 260997\n",
            "maxSizePhone : 196\n",
            "minSizePhone : 37\n",
            "Total size dataset 0.10601364583333334 hours\n"
          ],
          "name": "stdout"
        }
      ]
    },
    {
      "cell_type": "markdown",
      "metadata": {
        "colab_type": "text",
        "id": "GwAckY62z7s9"
      },
      "source": [
        "### a- Training\n",
        "\n",
        "Since the phonemes are not aligned, there is no simple direct way to get the classification acuracy of a model. Write and test the three functions ```train_one_epoch_ctc```, ```validation_step_ctc``` and ```run_ctc``` as before but without considering the average acuracy of the model. "
      ]
    },
    {
      "cell_type": "code",
      "metadata": {
        "colab_type": "code",
        "id": "oYg5YzW8EHl4",
        "colab": {
          "base_uri": "https://localhost:8080/",
          "height": 50
        },
        "outputId": "ed38aa66-725f-41b2-aa10-600778067f2c"
      },
      "source": [
        "from cpc.feature_loader import loadModel\n",
        "\n",
        "checkpoint_path = '../checkpoint_data/checkpoint_30.pt'\n",
        "cpc_model, HIDDEN_CONTEXT_MODEL, HIDDEN_ENCODER_MODEL = loadModel([checkpoint_path])\n",
        "cpc_model = cpc_model.cuda()\n",
        "phone_classifier = PhoneClassifier(HIDDEN_CONTEXT_MODEL, N_PHONES).to(device)"
      ],
      "execution_count": 36,
      "outputs": [
        {
          "output_type": "stream",
          "text": [
            "Loading checkpoint ../checkpoint_data/checkpoint_30.pt\n",
            "Loading the state dict at ../checkpoint_data/checkpoint_30.pt\n"
          ],
          "name": "stdout"
        }
      ]
    },
    {
      "cell_type": "code",
      "metadata": {
        "colab_type": "code",
        "id": "CFQ2g3PjErdZ",
        "colab": {}
      },
      "source": [
        "parameters = list(phone_classifier.parameters()) + list(cpc_model.parameters())\n",
        "LEARNING_RATE = 2e-4\n",
        "optimizer = torch.optim.Adam(parameters, lr=LEARNING_RATE)\n",
        "\n",
        "optimizer_frozen = torch.optim.Adam(list(phone_classifier.parameters()), lr=LEARNING_RATE)"
      ],
      "execution_count": 37,
      "outputs": []
    },
    {
      "cell_type": "code",
      "metadata": {
        "colab_type": "code",
        "id": "Zsgjv3cD0oqD",
        "colab": {}
      },
      "source": [
        "import torch.nn.functional as F\n",
        "\n",
        "def train_one_epoch_ctc(cpc_model, \n",
        "                        phone_classifier, \n",
        "                        loss_criterion, \n",
        "                        data_loader, \n",
        "                        optimizer):\n",
        "  \n",
        "  cpc_model.train()\n",
        "  loss_criterion.train()\n",
        "\n",
        "  avg_loss = 0\n",
        "  avg_accuracy = 0\n",
        "  n_items = 0\n",
        "  for step, full_data in enumerate(data_loader):\n",
        "\n",
        "    x, x_len, y, y_len = full_data\n",
        "\n",
        "    x_batch_len = x.shape[-1]\n",
        "    x, y = x.to(device), y.to(device)\n",
        "\n",
        "    bs=x.size(0)\n",
        "    optimizer.zero_grad()\n",
        "    context_out, enc_out, _ = cpc_model(x.to(device),y.to(device))\n",
        "  \n",
        "    scores = phone_classifier(context_out)\n",
        "    scores = scores.permute(1,0,2)\n",
        "    scores = F.log_softmax(scores,2)\n",
        "    yhat_len = torch.tensor([int(scores.shape[0]*x_len[i]/x_batch_len) for i in range(scores.shape[1])]) # this is an approximation, should be good enough\n",
        "\n",
        "    loss = loss_criterion(scores,y.to(device),yhat_len,y_len)\n",
        "    loss.backward()\n",
        "    optimizer.step()\n",
        "    avg_loss+=loss.item()*bs\n",
        "    n_items+=bs\n",
        "  avg_loss/=n_items\n",
        "  return avg_loss\n",
        "\n",
        "def validation_step(cpc_model, \n",
        "                    phone_classifier, \n",
        "                    loss_criterion, \n",
        "                    data_loader):\n",
        "\n",
        "  cpc_model.eval()\n",
        "  phone_classifier.eval()\n",
        "  avg_loss = 0\n",
        "  avg_accuracy = 0\n",
        "  n_items = 0\n",
        "  with torch.no_grad():\n",
        "    for step, full_data in enumerate(data_loader):\n",
        "\n",
        "      x, x_len, y, y_len = full_data\n",
        "\n",
        "      x_batch_len = x.shape[-1]\n",
        "      x, y = x.to(device), y.to(device)\n",
        "\n",
        "      bs=x.size(0)\n",
        "      context_out, enc_out, _ = cpc_model(x.to(device),y.to(device))\n",
        "    \n",
        "      scores = phone_classifier(context_out)\n",
        "      scores = scores.permute(1,0,2)\n",
        "      scores = F.log_softmax(scores,2)\n",
        "      yhat_len = torch.tensor([int(scores.shape[0]*x_len[i]/x_batch_len) for i in range(scores.shape[1])]) # this is an approximation, should be good enough\n",
        "\n",
        "      loss = loss_criterion(scores,y.to(device),yhat_len,y_len)\n",
        "      avg_loss+=loss.item()*bs\n",
        "      n_items+=bs\n",
        "  avg_loss/=n_items\n",
        "\n",
        "  return avg_loss\n",
        "\n",
        "def run_ctc(cpc_model, \n",
        "            phone_classifier, \n",
        "            loss_criterion, \n",
        "            data_loader_train, \n",
        "            data_loader_val, \n",
        "            optimizer,\n",
        "            n_epoch):\n",
        "  for epoch in range(n_epoch):\n",
        "\n",
        "    print(f\"Running epoch {epoch + 1} / {n_epoch}\")\n",
        "    loss_train = train_one_epoch_ctc(cpc_model, phone_classifier, loss_criterion, data_loader_train, optimizer)\n",
        "    print(\"-------------------\")\n",
        "    print(f\"Training dataset :\")\n",
        "    print(f\"Average loss : {loss_train}.\")\n",
        "\n",
        "    print(\"-------------------\")\n",
        "    print(\"Validation dataset\")\n",
        "    loss_val = validation_step(cpc_model, phone_classifier, loss_criterion, data_loader_val)\n",
        "    print(f\"Average loss : {loss_val}\")\n",
        "    print(\"-------------------\")\n",
        "    print()"
      ],
      "execution_count": 38,
      "outputs": []
    },
    {
      "cell_type": "code",
      "metadata": {
        "colab_type": "code",
        "id": "GSr7tcUdD72c",
        "colab": {
          "base_uri": "https://localhost:8080/",
          "height": 1000
        },
        "outputId": "8a9cdda9-22e3-43a0-97e9-39f68d0502ea"
      },
      "source": [
        "run_ctc(cpc_model,phone_classifier,loss_ctc,data_loader_train,data_loader_val,optimizer_frozen,n_epoch=10)"
      ],
      "execution_count": 39,
      "outputs": [
        {
          "output_type": "stream",
          "text": [
            "Running epoch 1 / 10\n",
            "-------------------\n",
            "Training dataset :\n",
            "Average loss : 35.834796254227804.\n",
            "-------------------\n",
            "Validation dataset\n",
            "Average loss : 35.911068725585935\n",
            "-------------------\n",
            "\n",
            "Running epoch 2 / 10\n",
            "-------------------\n",
            "Training dataset :\n",
            "Average loss : 34.36947817918731.\n",
            "-------------------\n",
            "Validation dataset\n",
            "Average loss : 34.374864196777345\n",
            "-------------------\n",
            "\n",
            "Running epoch 3 / 10\n",
            "-------------------\n",
            "Training dataset :\n",
            "Average loss : 32.89029349350348.\n",
            "-------------------\n",
            "Validation dataset\n",
            "Average loss : 32.8465461730957\n",
            "-------------------\n",
            "\n",
            "Running epoch 4 / 10\n",
            "-------------------\n",
            "Training dataset :\n",
            "Average loss : 31.41476338084151.\n",
            "-------------------\n",
            "Validation dataset\n",
            "Average loss : 31.308680725097656\n",
            "-------------------\n",
            "\n",
            "Running epoch 5 / 10\n",
            "-------------------\n",
            "Training dataset :\n",
            "Average loss : 29.91438302761171.\n",
            "-------------------\n",
            "Validation dataset\n",
            "Average loss : 29.765134811401367\n",
            "-------------------\n",
            "\n",
            "Running epoch 6 / 10\n",
            "-------------------\n",
            "Training dataset :\n",
            "Average loss : 28.38795229283775.\n",
            "-------------------\n",
            "Validation dataset\n",
            "Average loss : 28.17812385559082\n",
            "-------------------\n",
            "\n",
            "Running epoch 7 / 10\n",
            "-------------------\n",
            "Training dataset :\n",
            "Average loss : 26.834546717201793.\n",
            "-------------------\n",
            "Validation dataset\n",
            "Average loss : 26.56212959289551\n",
            "-------------------\n",
            "\n",
            "Running epoch 8 / 10\n",
            "-------------------\n",
            "Training dataset :\n",
            "Average loss : 25.26103345359244.\n",
            "-------------------\n",
            "Validation dataset\n",
            "Average loss : 24.966184234619142\n",
            "-------------------\n",
            "\n",
            "Running epoch 9 / 10\n",
            "-------------------\n",
            "Training dataset :\n",
            "Average loss : 23.73049089385242.\n",
            "-------------------\n",
            "Validation dataset\n",
            "Average loss : 23.411328887939455\n",
            "-------------------\n",
            "\n",
            "Running epoch 10 / 10\n",
            "-------------------\n",
            "Training dataset :\n",
            "Average loss : 22.24721564316168.\n",
            "-------------------\n",
            "Validation dataset\n",
            "Average loss : 21.958449935913087\n",
            "-------------------\n",
            "\n"
          ],
          "name": "stdout"
        }
      ]
    },
    {
      "cell_type": "markdown",
      "metadata": {
        "colab_type": "text",
        "id": "TKrYW4gK1BBF"
      },
      "source": [
        "### b- Evaluation: the Phone Error Rate (PER)\n",
        "\n",
        "In order to compute the similarity between two sequences, we can use the [Levenshtein distance](https://en.wikipedia.org/wiki/Levenshtein_distance). This distance estimates the minimum number of insertion, deletion and addition to move from one sequence to another. If we normalize this distance by the number of characters in the reference sequence we get the Phone Error Rate (PER).\n",
        "\n",
        "This value can be interpreted as :\n",
        "\\\\[  PER = \\frac{S + D + I}{N} \\\\]\n",
        "\n",
        "Where:\n",
        "\n",
        "\n",
        "*   N is the number of characters in the reference\n",
        "*   S is the number of substitutiion\n",
        "*   I in the number of insertion\n",
        "*   D in the number of deletion\n",
        "\n",
        "For the best possible alignment of the two sequences.\n",
        "\n"
      ]
    },
    {
      "cell_type": "code",
      "metadata": {
        "colab_type": "code",
        "id": "RoBhsx7GNqI_",
        "colab": {}
      },
      "source": [
        "import numpy as np\n",
        "\n",
        "def get_PER_sequence(ref_seq, target_seq):\n",
        "\n",
        "  # re = g.split()\n",
        "  # h = h.split()\n",
        "  n = len(ref_seq)\n",
        "  m = len(target_seq)\n",
        "\n",
        "  D = np.zeros((n+1,m+1))\n",
        "  for i in range(1,n+1):\n",
        "    D[i,0] = D[i-1,0]+1\n",
        "  for j in range(1,m+1):\n",
        "    D[0,j] = D[0,j-1]+1\n",
        "  \n",
        "  ### TODO compute the alignment\n",
        "\n",
        "  for i in range(1,n+1):\n",
        "    for j in range(1,m+1):\n",
        "      D[i,j] = min(\n",
        "          D[i-1,j]+1,\n",
        "          D[i-1,j-1]+1,\n",
        "          D[i,j-1]+1,\n",
        "          D[i-1,j-1]+ 0 if ref_seq[i-1]==target_seq[j-1] else float(\"inf\")\n",
        "      )\n",
        "  return D[n,m]/len(ref_seq)\n",
        "  \n",
        "\n",
        "  #return PER"
      ],
      "execution_count": 40,
      "outputs": []
    },
    {
      "cell_type": "markdown",
      "metadata": {
        "colab_type": "text",
        "id": "r-hr0KK0mgcR"
      },
      "source": [
        "You can test your function below:"
      ]
    },
    {
      "cell_type": "code",
      "metadata": {
        "colab_type": "code",
        "id": "AfTb3yOQmvey",
        "colab": {
          "base_uri": "https://localhost:8080/",
          "height": 34
        },
        "outputId": "f8120e0f-0088-40ac-b11a-f6e99ed1ea72"
      },
      "source": [
        "ref_seq = [0, 1, 1, 2, 0, 2, 2]\n",
        "pred_seq = [1, 1, 2, 2, 0, 0]\n",
        "expected_PER = 4. / 7.\n",
        "print(get_PER_sequence(ref_seq, pred_seq) == expected_PER)"
      ],
      "execution_count": 41,
      "outputs": [
        {
          "output_type": "stream",
          "text": [
            "True\n"
          ],
          "name": "stdout"
        }
      ]
    },
    {
      "cell_type": "markdown",
      "metadata": {
        "colab_type": "text",
        "id": "nHiyChl-m_k7"
      },
      "source": [
        "## c- Evaluating the PER of your model on the test dataset\n",
        "\n",
        "Evaluate the PER on the validation dataset. Please notice that you should usually use a separate dataset, called the dev dataset, to perform this operation. However for the sake of simplicity we will work with validation data in this exercise."
      ]
    },
    {
      "cell_type": "code",
      "metadata": {
        "colab_type": "code",
        "id": "DMkX0PoFnclg",
        "colab": {}
      },
      "source": [
        "import progressbar\n",
        "from multiprocessing import Pool\n",
        "\n",
        "def cut_data(seq, sizeSeq):\n",
        "    maxSeq = sizeSeq.max()\n",
        "    return seq[:, :maxSeq]\n",
        "\n",
        "\n",
        "def prepare_data(data):\n",
        "    seq, sizeSeq, phone, sizePhone = data\n",
        "    seq = seq.cuda()\n",
        "    phone = phone.cuda()\n",
        "    sizeSeq = sizeSeq.cuda().view(-1)\n",
        "    sizePhone = sizePhone.cuda().view(-1)\n",
        "\n",
        "    seq = cut_data(seq.permute(0, 2, 1), sizeSeq).permute(0, 2, 1)\n",
        "    return seq, sizeSeq, phone, sizePhone\n",
        "\n",
        "\n",
        "def get_per(test_dataloader,\n",
        "            cpc_model,\n",
        "            phone_classifier):\n",
        "\n",
        "  downsampling_factor = 160\n",
        "  cpc_model.eval()\n",
        "  phone_classifier.eval()\n",
        "\n",
        "  avgPER = 0\n",
        "  nItems = 0 \n",
        "\n",
        "  print(\"Starting the PER computation through beam search\")\n",
        "  bar = progressbar.ProgressBar(maxval=len(test_dataloader))\n",
        "  bar.start()\n",
        "\n",
        "  for index, data in enumerate(test_dataloader):\n",
        "\n",
        "    bar.update(index)\n",
        "\n",
        "    with torch.no_grad():\n",
        "      \n",
        "        seq, sizeSeq, phone, sizePhone = prepare_data(data)\n",
        "        c_feature, _, _ = cpc_model(seq.to(device),phone.to(device))\n",
        "        sizeSeq = sizeSeq / downsampling_factor\n",
        "        predictions = torch.nn.functional.softmax(\n",
        "        phone_classifier(c_feature), dim=2).cpu()\n",
        "        phone = phone.cpu()\n",
        "        sizeSeq = sizeSeq.cpu()\n",
        "        sizePhone = sizePhone.cpu()\n",
        "\n",
        "        bs = c_feature.size(0)\n",
        "        data_per = [(predictions[b].argmax(1),  phone[b]) for b in range(bs)]\n",
        "        # data_per = [(predictions[b], sizeSeq[b], phone[b], sizePhone[b],\n",
        "        #               \"criterion.module.BLANK_LABEL\") for b in range(bs)]\n",
        "\n",
        "        with Pool(bs) as p:\n",
        "            poolData = p.starmap(get_PER_sequence, data_per)\n",
        "        avgPER += sum([x for x in poolData])\n",
        "        nItems += len(poolData)\n",
        "\n",
        "  bar.finish()\n",
        "\n",
        "  avgPER /= nItems\n",
        "\n",
        "  print(f\"Average PER {avgPER}\")\n",
        "  return avgPER\n"
      ],
      "execution_count": 42,
      "outputs": []
    },
    {
      "cell_type": "code",
      "metadata": {
        "colab_type": "code",
        "id": "2hvnudh4Osb4",
        "colab": {
          "base_uri": "https://localhost:8080/",
          "height": 101
        },
        "outputId": "fa3c492c-22ad-4f75-b004-1b19faf2281f"
      },
      "source": [
        "get_per(data_loader_val,cpc_model,phone_classifier)"
      ],
      "execution_count": 43,
      "outputs": [
        {
          "output_type": "stream",
          "text": [
            "\r                                                                               \r\rN/A% (0 of 5) |                          | Elapsed Time: 0:00:00 ETA:  --:--:--"
          ],
          "name": "stderr"
        },
        {
          "output_type": "stream",
          "text": [
            "Starting the PER computation through beam search\n"
          ],
          "name": "stdout"
        },
        {
          "output_type": "stream",
          "text": [
            "100% (5 of 5) |##########################| Elapsed Time: 0:02:29 Time:  0:02:29\n"
          ],
          "name": "stderr"
        },
        {
          "output_type": "stream",
          "text": [
            "Average PER 0.919609916326326\n"
          ],
          "name": "stdout"
        },
        {
          "output_type": "execute_result",
          "data": {
            "text/plain": [
              "0.919609916326326"
            ]
          },
          "metadata": {
            "tags": []
          },
          "execution_count": 43
        }
      ]
    },
    {
      "cell_type": "markdown",
      "metadata": {
        "colab_type": "text",
        "id": "p8e9D7g8159k"
      },
      "source": [
        "## Exercice 3 : Character error rate (CER) \n",
        "\n",
        "The Character Error Rate (CER) is an evaluation metric similar to the PER but with characters insterad of phonemes. Using the following data, run the functions you defined previously to estimate the CER of your model after fine-tuning."
      ]
    },
    {
      "cell_type": "code",
      "metadata": {
        "colab_type": "code",
        "id": "cXONmKQOuFSn",
        "colab": {
          "base_uri": "https://localhost:8080/",
          "height": 269
        },
        "outputId": "465768e1-cd63-4258-85de-7a00ab921d16"
      },
      "source": [
        "# Load a dataset labelled with the letters of each sequence.\n",
        "%cd /content/CPC_audio\n",
        "from cpc.eval.common_voices_eval import SingleSequenceDataset, parseSeqLabels, findAllSeqs\n",
        "path_train_data_cer = '/content/Lig-Aikuma-Data-Collection/data/records/train'\n",
        "path_val_data_cer = '/content/Lig-Aikuma-Data-Collection/data/records/val'\n",
        "path_letter_data_cer = '/content/Lig-Aikuma-Data-Collection/data/chars.txt'\n",
        "BATCH_SIZE=8\n",
        "\n",
        "letters_labels, N_LETTERS = parseSeqLabels(path_letter_data_cer)\n",
        "data_train_cer, _ = findAllSeqs(path_train_data_cer, extension='.wav')\n",
        "dataset_train_non_aligned = SingleSequenceDataset(path_train_data_cer, data_train_cer, letters_labels)\n",
        "\n",
        "\n",
        "data_val_cer, _ = findAllSeqs(path_val_data_cer, extension='.wav')\n",
        "dataset_val_non_aligned = SingleSequenceDataset(path_val_data_cer, data_val_cer, letters_labels)\n",
        "\n",
        "\n",
        "# The data loader will generate a tuple of tensors data, labels for each batch\n",
        "# data : size N x T1 x 1 : the audio sequence\n",
        "# label : size N x T2 the sequence of letters corresponding to the audio data\n",
        "# IMPORTANT NOTE: just like the PER the CER is computed with non-aligned phone data.\n",
        "data_loader_train_letters = torch.utils.data.DataLoader(dataset_train_non_aligned, batch_size=BATCH_SIZE,\n",
        "                                                shuffle=True)\n",
        "data_loader_val_letters = torch.utils.data.DataLoader(dataset_val_non_aligned, batch_size=BATCH_SIZE,\n",
        "                                              shuffle=True)"
      ],
      "execution_count": 44,
      "outputs": [
        {
          "output_type": "stream",
          "text": [
            "1it [00:00, 731.22it/s]"
          ],
          "name": "stderr"
        },
        {
          "output_type": "stream",
          "text": [
            "/content/CPC_audio\n",
            "Saved cache file at /content/Lig-Aikuma-Data-Collection/data/records/train/_seqs_cache.txt\n"
          ],
          "name": "stdout"
        },
        {
          "output_type": "stream",
          "text": [
            "\n",
            "1it [00:00, 686.69it/s]"
          ],
          "name": "stderr"
        },
        {
          "output_type": "stream",
          "text": [
            "Loaded 165 sequences in 1.59 seconds\n",
            "maxSizeSeq : 342672\n",
            "maxSizePhone : 226\n",
            "minSizePhone : 4\n",
            "Total size dataset 0.3819692708333333 hours\n",
            "Saved cache file at /content/Lig-Aikuma-Data-Collection/data/records/val/_seqs_cache.txt\n"
          ],
          "name": "stdout"
        },
        {
          "output_type": "stream",
          "text": [
            "\n"
          ],
          "name": "stderr"
        },
        {
          "output_type": "stream",
          "text": [
            "Loaded 41 sequences in 1.31 seconds\n",
            "maxSizeSeq : 260997\n",
            "maxSizePhone : 196\n",
            "minSizePhone : 37\n",
            "Total size dataset 0.10601364583333334 hours\n"
          ],
          "name": "stdout"
        }
      ]
    },
    {
      "cell_type": "code",
      "metadata": {
        "colab_type": "code",
        "id": "9h07zI2LjzAU",
        "colab": {
          "base_uri": "https://localhost:8080/",
          "height": 50
        },
        "outputId": "11680f4d-2ca3-4262-b170-c20bda122565"
      },
      "source": [
        "from cpc.feature_loader import loadModel\n",
        "\n",
        "checkpoint_path = '../checkpoint_data/checkpoint_30.pt'\n",
        "cpc_model, HIDDEN_CONTEXT_MODEL, HIDDEN_ENCODER_MODEL = loadModel([checkpoint_path])\n",
        "cpc_model = cpc_model.cuda()\n",
        "character_classifier = PhoneClassifier(HIDDEN_CONTEXT_MODEL, N_LETTERS).to(device)"
      ],
      "execution_count": 45,
      "outputs": [
        {
          "output_type": "stream",
          "text": [
            "Loading checkpoint ../checkpoint_data/checkpoint_30.pt\n",
            "Loading the state dict at ../checkpoint_data/checkpoint_30.pt\n"
          ],
          "name": "stdout"
        }
      ]
    },
    {
      "cell_type": "code",
      "metadata": {
        "colab_type": "code",
        "id": "rHCNg1E7lW1L",
        "colab": {}
      },
      "source": [
        "parameters = list(character_classifier.parameters()) + list(cpc_model.parameters())\n",
        "LEARNING_RATE = 2e-4\n",
        "optimizer = torch.optim.Adam(parameters, lr=LEARNING_RATE)\n",
        "\n",
        "optimizer_frozen = torch.optim.Adam(list(character_classifier.parameters()), lr=LEARNING_RATE)"
      ],
      "execution_count": 46,
      "outputs": []
    },
    {
      "cell_type": "code",
      "metadata": {
        "colab_type": "code",
        "id": "engpkljbk9hj",
        "colab": {}
      },
      "source": [
        "loss_ctc = torch.nn.CTCLoss()"
      ],
      "execution_count": 47,
      "outputs": []
    },
    {
      "cell_type": "code",
      "metadata": {
        "colab_type": "code",
        "id": "9NBHd2s2kxld",
        "colab": {
          "base_uri": "https://localhost:8080/",
          "height": 1000
        },
        "outputId": "d9f64b2e-3265-465f-ad23-41060665498f"
      },
      "source": [
        "run_ctc(cpc_model,character_classifier,loss_ctc,data_loader_train_letters,data_loader_val_letters,optimizer_frozen,n_epoch=10)"
      ],
      "execution_count": 48,
      "outputs": [
        {
          "output_type": "stream",
          "text": [
            "Running epoch 1 / 10\n",
            "-------------------\n",
            "Training dataset :\n",
            "Average loss : 35.462065161728276.\n",
            "-------------------\n",
            "Validation dataset\n",
            "Average loss : 35.506046295166016\n",
            "-------------------\n",
            "\n",
            "Running epoch 2 / 10\n",
            "-------------------\n",
            "Training dataset :\n",
            "Average loss : 33.96967110982755.\n",
            "-------------------\n",
            "Validation dataset\n",
            "Average loss : 33.96721878051758\n",
            "-------------------\n",
            "\n",
            "Running epoch 3 / 10\n",
            "-------------------\n",
            "Training dataset :\n",
            "Average loss : 32.486415211747335.\n",
            "-------------------\n",
            "Validation dataset\n",
            "Average loss : 32.42494621276855\n",
            "-------------------\n",
            "\n",
            "Running epoch 4 / 10\n",
            "-------------------\n",
            "Training dataset :\n",
            "Average loss : 31.01652061648485.\n",
            "-------------------\n",
            "Validation dataset\n",
            "Average loss : 30.87492141723633\n",
            "-------------------\n",
            "\n",
            "Running epoch 5 / 10\n",
            "-------------------\n",
            "Training dataset :\n",
            "Average loss : 29.511837191698028.\n",
            "-------------------\n",
            "Validation dataset\n",
            "Average loss : 29.315881729125977\n",
            "-------------------\n",
            "\n",
            "Running epoch 6 / 10\n",
            "-------------------\n",
            "Training dataset :\n",
            "Average loss : 27.956033567102946.\n",
            "-------------------\n",
            "Validation dataset\n",
            "Average loss : 27.648906707763672\n",
            "-------------------\n",
            "\n",
            "Running epoch 7 / 10\n",
            "-------------------\n",
            "Training dataset :\n",
            "Average loss : 26.318389985619522.\n",
            "-------------------\n",
            "Validation dataset\n",
            "Average loss : 25.900730514526366\n",
            "-------------------\n",
            "\n",
            "Running epoch 8 / 10\n",
            "-------------------\n",
            "Training dataset :\n",
            "Average loss : 24.63080945829066.\n",
            "-------------------\n",
            "Validation dataset\n",
            "Average loss : 24.128777694702148\n",
            "-------------------\n",
            "\n",
            "Running epoch 9 / 10\n",
            "-------------------\n",
            "Training dataset :\n",
            "Average loss : 22.947956503891362.\n",
            "-------------------\n",
            "Validation dataset\n",
            "Average loss : 22.40567398071289\n",
            "-------------------\n",
            "\n",
            "Running epoch 10 / 10\n",
            "-------------------\n",
            "Training dataset :\n",
            "Average loss : 21.317274279710723.\n",
            "-------------------\n",
            "Validation dataset\n",
            "Average loss : 20.758942794799804\n",
            "-------------------\n",
            "\n"
          ],
          "name": "stdout"
        }
      ]
    },
    {
      "cell_type": "code",
      "metadata": {
        "colab_type": "code",
        "id": "A8oxFr1jm17P",
        "colab": {
          "base_uri": "https://localhost:8080/",
          "height": 101
        },
        "outputId": "87632038-231a-4f3f-c109-979c5dae16a4"
      },
      "source": [
        "get_per(data_loader_val_letters,cpc_model,character_classifier)"
      ],
      "execution_count": 49,
      "outputs": [
        {
          "output_type": "stream",
          "text": [
            "\r                                                                               \r\rN/A% (0 of 5) |                          | Elapsed Time: 0:00:00 ETA:  --:--:--"
          ],
          "name": "stderr"
        },
        {
          "output_type": "stream",
          "text": [
            "Starting the PER computation through beam search\n"
          ],
          "name": "stdout"
        },
        {
          "output_type": "stream",
          "text": [
            "100% (5 of 5) |##########################| Elapsed Time: 0:02:27 Time:  0:02:27\n"
          ],
          "name": "stderr"
        },
        {
          "output_type": "stream",
          "text": [
            "Average PER 0.9278764862602589\n"
          ],
          "name": "stdout"
        },
        {
          "output_type": "execute_result",
          "data": {
            "text/plain": [
              "0.9278764862602589"
            ]
          },
          "metadata": {
            "tags": []
          },
          "execution_count": 49
        }
      ]
    },
    {
      "cell_type": "code",
      "metadata": {
        "id": "ffKfYeS_irDS",
        "colab_type": "code",
        "colab": {}
      },
      "source": [
        ""
      ],
      "execution_count": null,
      "outputs": []
    }
  ]
}